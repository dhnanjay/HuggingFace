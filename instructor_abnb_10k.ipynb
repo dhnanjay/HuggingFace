{
  "nbformat": 4,
  "nbformat_minor": 0,
  "metadata": {
    "colab": {
      "provenance": [],
      "gpuType": "T4",
      "include_colab_link": true
    },
    "kernelspec": {
      "name": "python3",
      "display_name": "Python 3"
    },
    "language_info": {
      "name": "python"
    },
    "accelerator": "GPU"
  },
  "cells": [
    {
      "cell_type": "markdown",
      "metadata": {
        "id": "view-in-github",
        "colab_type": "text"
      },
      "source": [
        "<a href=\"https://colab.research.google.com/github/dhnanjay/HuggingFace/blob/main/instructor_abnb_10k.ipynb\" target=\"_parent\"><img src=\"https://colab.research.google.com/assets/colab-badge.svg\" alt=\"Open In Colab\"/></a>"
      ]
    },
    {
      "cell_type": "code",
      "source": [
        "import getpass\n",
        "import os\n",
        "\n",
        "# Set your OpenAI API key\n",
        "os.environ[\"OPENAI_API_KEY\"] = getpass.getpass()"
      ],
      "metadata": {
        "id": "C1iivBGQtev_"
      },
      "execution_count": null,
      "outputs": []
    },
    {
      "cell_type": "code",
      "execution_count": null,
      "metadata": {
        "id": "x3dP7LRttSqD"
      },
      "outputs": [],
      "source": [
        "!pip install -U -q langchain openai chromadb unstructured==0.12.5 instructor tiktoken"
      ]
    },
    {
      "cell_type": "markdown",
      "source": [
        "# Download Airbnb 10-K from SEC"
      ],
      "metadata": {
        "id": "_AzT4E1GNRze"
      }
    },
    {
      "cell_type": "code",
      "source": [
        "from langchain_community.document_loaders import UnstructuredURLLoader\n",
        "\n",
        "url = \"https://www.sec.gov/Archives/edgar/data/1559720/000155972024000006/abnb-20231231.htm\"\n",
        "loader = UnstructuredURLLoader(urls=[url], headers={'User-Agent': 'your-org your@org.com'})\n",
        "documents = loader.load()"
      ],
      "metadata": {
        "id": "Uq07bTnztiI1"
      },
      "execution_count": null,
      "outputs": []
    },
    {
      "cell_type": "markdown",
      "source": [
        "# Chunk and store 10-K in vector DB"
      ],
      "metadata": {
        "id": "1YnN8QbANVyM"
      }
    },
    {
      "cell_type": "code",
      "source": [
        "from langchain.vectorstores import Chroma\n",
        "from langchain.embeddings import OpenAIEmbeddings\n",
        "from langchain.text_splitter import TokenTextSplitter\n",
        "\n",
        "# Naively chunk the SEC filing by tokens\n",
        "token_splitter = TokenTextSplitter(chunk_size=1000, chunk_overlap=100)\n",
        "docs = token_splitter.split_documents(documents)"
      ],
      "metadata": {
        "id": "Sm9ShQJZAc6J"
      },
      "execution_count": null,
      "outputs": []
    },
    {
      "cell_type": "code",
      "source": [
        "# Save the chunked docs in vector DB\n",
        "vectorstore = Chroma.from_documents(docs, OpenAIEmbeddings())"
      ],
      "metadata": {
        "id": "kgoOSs6DAmuP"
      },
      "execution_count": null,
      "outputs": []
    },
    {
      "cell_type": "markdown",
      "source": [
        "# Query vector DB for contextual documents"
      ],
      "metadata": {
        "id": "Nfa_CjwFNZdT"
      }
    },
    {
      "cell_type": "code",
      "source": [
        "query = \"What was Airbnb's revenue, net income, and cost of revenue for fiscal year 2023?\""
      ],
      "metadata": {
        "id": "l_hz2EdXEile"
      },
      "execution_count": null,
      "outputs": []
    },
    {
      "cell_type": "code",
      "source": [
        "# Get documents from the vector DB\n",
        "k = 3\n",
        "top_k_docs = vectorstore.similarity_search(query, k)\n",
        "context = \"\\n\".join([doc.page_content for doc in top_k_docs])"
      ],
      "metadata": {
        "id": "mtyucrp2FGbb"
      },
      "execution_count": null,
      "outputs": []
    },
    {
      "cell_type": "markdown",
      "source": [
        "# Answer and structure output with Instructor"
      ],
      "metadata": {
        "id": "t5zfXeOWNeR6"
      }
    },
    {
      "cell_type": "code",
      "source": [
        "import instructor\n",
        "from openai import OpenAI\n",
        "from pydantic import BaseModel\n",
        "from pydantic import Field\n",
        "\n",
        "# Define our data model\n",
        "class Financials(BaseModel):\n",
        "  ticker: str = Field(description=\"Ticker symbol of the stock\")\n",
        "  period: str = Field(description=\"The financial period like FY2023\")\n",
        "  revenue: str = Field(description=\"Revenue, including currency and unit suffix like $10.45Bn\")\n",
        "  cost_of_revenue: str = Field(description=\"Cost of revenue, including currency and unit suffix like $10.45Bn\")\n",
        "  net_income: str = Field(description=\"Net income, including currency and unit suffix like $10.45Bn\")\n",
        "\n",
        "# Instantiate instructor\n",
        "client = instructor.patch(OpenAI())\n",
        "\n",
        "# Call openai\n",
        "response = client.chat.completions.create(\n",
        "    model=\"gpt-4-0125-preview\",\n",
        "    response_model=Financials,\n",
        "    messages=[\n",
        "        {\"role\": \"system\", \"content\": \"You are an expert financial assistant that reads SEC filings and answers questions.\"},\n",
        "        {\"role\": \"user\", \"content\": f\"Question: {query} Context: {context}\"},\n",
        "    ],\n",
        ")"
      ],
      "metadata": {
        "id": "yWBRo4tdEo_w"
      },
      "execution_count": null,
      "outputs": []
    },
    {
      "cell_type": "code",
      "source": [
        "print(response.model_dump_json(indent=2))"
      ],
      "metadata": {
        "colab": {
          "base_uri": "https://localhost:8080/"
        },
        "id": "WfMUS9AzFbJK",
        "outputId": "158c42bb-331a-4191-e196-ef037592dd31"
      },
      "execution_count": null,
      "outputs": [
        {
          "output_type": "stream",
          "name": "stdout",
          "text": [
            "{\n",
            "  \"ticker\": \"ABNB\",\n",
            "  \"period\": \"FY2023\",\n",
            "  \"revenue\": \"$9.9Bn\",\n",
            "  \"cost_of_revenue\": \"$1.703Bn\",\n",
            "  \"net_income\": \"$4.8Bn\"\n",
            "}\n"
          ]
        }
      ]
    },
    {
      "cell_type": "code",
      "source": [],
      "metadata": {
        "id": "Tf1Lw9k1LPwd"
      },
      "execution_count": null,
      "outputs": []
    }
  ]
}