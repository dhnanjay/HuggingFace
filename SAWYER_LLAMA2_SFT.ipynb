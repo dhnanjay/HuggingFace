{
  "cells": [
    {
      "cell_type": "markdown",
      "metadata": {
        "id": "view-in-github",
        "colab_type": "text"
      },
      "source": [
        "<a href=\"https://colab.research.google.com/github/dhnanjay/HuggingFace/blob/main/SAWYER_LLAMA2_SFT.ipynb\" target=\"_parent\"><img src=\"https://colab.research.google.com/assets/colab-badge.svg\" alt=\"Open In Colab\"/></a>"
      ]
    },
    {
      "cell_type": "markdown",
      "metadata": {
        "id": "O4SCUZbtVAwQ"
      },
      "source": [
        "# Installs"
      ]
    },
    {
      "cell_type": "code",
      "execution_count": null,
      "metadata": {
        "colab": {
          "base_uri": "https://localhost:8080/"
        },
        "id": "cJFGC-QXVAEg",
        "outputId": "44dd892b-aa41-4b16-b55c-8157cea87028"
      },
      "outputs": [
        {
          "output_type": "stream",
          "name": "stdout",
          "text": [
            "Requirement already satisfied: transformers[torch] in /usr/local/lib/python3.10/dist-packages (4.35.2)\n",
            "Collecting datasets\n",
            "  Downloading datasets-2.17.0-py3-none-any.whl (536 kB)\n",
            "\u001b[2K     \u001b[90m━━━━━━━━━━━━━━━━━━━━━━━━━━━━━━━━━━━━━━━━\u001b[0m \u001b[32m536.6/536.6 kB\u001b[0m \u001b[31m10.3 MB/s\u001b[0m eta \u001b[36m0:00:00\u001b[0m\n",
            "\u001b[?25hCollecting wandb\n",
            "  Downloading wandb-0.16.3-py3-none-any.whl (2.2 MB)\n",
            "\u001b[2K     \u001b[90m━━━━━━━━━━━━━━━━━━━━━━━━━━━━━━━━━━━━━━━━\u001b[0m \u001b[32m2.2/2.2 MB\u001b[0m \u001b[31m91.4 MB/s\u001b[0m eta \u001b[36m0:00:00\u001b[0m\n",
            "\u001b[?25hCollecting peft\n",
            "  Downloading peft-0.8.2-py3-none-any.whl (183 kB)\n",
            "\u001b[2K     \u001b[90m━━━━━━━━━━━━━━━━━━━━━━━━━━━━━━━━━━━━━━━━\u001b[0m \u001b[32m183.4/183.4 kB\u001b[0m \u001b[31m26.2 MB/s\u001b[0m eta \u001b[36m0:00:00\u001b[0m\n",
            "\u001b[?25hCollecting bitsandbytes\n",
            "  Downloading bitsandbytes-0.42.0-py3-none-any.whl (105.0 MB)\n",
            "\u001b[2K     \u001b[90m━━━━━━━━━━━━━━━━━━━━━━━━━━━━━━━━━━━━━━━━\u001b[0m \u001b[32m105.0/105.0 MB\u001b[0m \u001b[31m16.1 MB/s\u001b[0m eta \u001b[36m0:00:00\u001b[0m\n",
            "\u001b[?25hCollecting PyPDF2\n",
            "  Downloading pypdf2-3.0.1-py3-none-any.whl (232 kB)\n",
            "\u001b[2K     \u001b[90m━━━━━━━━━━━━━━━━━━━━━━━━━━━━━━━━━━━━━━━━\u001b[0m \u001b[32m232.6/232.6 kB\u001b[0m \u001b[31m29.6 MB/s\u001b[0m eta \u001b[36m0:00:00\u001b[0m\n",
            "\u001b[?25hCollecting pdfminer.six\n",
            "  Downloading pdfminer.six-20231228-py3-none-any.whl (5.6 MB)\n",
            "\u001b[2K     \u001b[90m━━━━━━━━━━━━━━━━━━━━━━━━━━━━━━━━━━━━━━━━\u001b[0m \u001b[32m5.6/5.6 MB\u001b[0m \u001b[31m102.4 MB/s\u001b[0m eta \u001b[36m0:00:00\u001b[0m\n",
            "\u001b[?25hCollecting pypdf\n",
            "  Downloading pypdf-4.0.1-py3-none-any.whl (283 kB)\n",
            "\u001b[2K     \u001b[90m━━━━━━━━━━━━━━━━━━━━━━━━━━━━━━━━━━━━━━━━\u001b[0m \u001b[32m284.0/284.0 kB\u001b[0m \u001b[31m38.6 MB/s\u001b[0m eta \u001b[36m0:00:00\u001b[0m\n",
            "\u001b[?25hRequirement already satisfied: filelock in /usr/local/lib/python3.10/dist-packages (from transformers[torch]) (3.13.1)\n",
            "Requirement already satisfied: huggingface-hub<1.0,>=0.16.4 in /usr/local/lib/python3.10/dist-packages (from transformers[torch]) (0.20.3)\n",
            "Requirement already satisfied: numpy>=1.17 in /usr/local/lib/python3.10/dist-packages (from transformers[torch]) (1.23.5)\n",
            "Requirement already satisfied: packaging>=20.0 in /usr/local/lib/python3.10/dist-packages (from transformers[torch]) (23.2)\n",
            "Requirement already satisfied: pyyaml>=5.1 in /usr/local/lib/python3.10/dist-packages (from transformers[torch]) (6.0.1)\n",
            "Requirement already satisfied: regex!=2019.12.17 in /usr/local/lib/python3.10/dist-packages (from transformers[torch]) (2023.12.25)\n",
            "Requirement already satisfied: requests in /usr/local/lib/python3.10/dist-packages (from transformers[torch]) (2.31.0)\n",
            "Requirement already satisfied: tokenizers<0.19,>=0.14 in /usr/local/lib/python3.10/dist-packages (from transformers[torch]) (0.15.1)\n",
            "Requirement already satisfied: safetensors>=0.3.1 in /usr/local/lib/python3.10/dist-packages (from transformers[torch]) (0.4.2)\n",
            "Requirement already satisfied: tqdm>=4.27 in /usr/local/lib/python3.10/dist-packages (from transformers[torch]) (4.66.1)\n",
            "Requirement already satisfied: torch!=1.12.0,>=1.10 in /usr/local/lib/python3.10/dist-packages (from transformers[torch]) (2.1.0+cu121)\n",
            "Collecting accelerate>=0.20.3 (from transformers[torch])\n",
            "  Downloading accelerate-0.27.0-py3-none-any.whl (279 kB)\n",
            "\u001b[2K     \u001b[90m━━━━━━━━━━━━━━━━━━━━━━━━━━━━━━━━━━━━━━━━\u001b[0m \u001b[32m279.7/279.7 kB\u001b[0m \u001b[31m33.6 MB/s\u001b[0m eta \u001b[36m0:00:00\u001b[0m\n",
            "\u001b[?25hCollecting pyarrow>=12.0.0 (from datasets)\n",
            "  Downloading pyarrow-15.0.0-cp310-cp310-manylinux_2_28_x86_64.whl (38.3 MB)\n",
            "\u001b[2K     \u001b[90m━━━━━━━━━━━━━━━━━━━━━━━━━━━━━━━━━━━━━━━━\u001b[0m \u001b[32m38.3/38.3 MB\u001b[0m \u001b[31m43.2 MB/s\u001b[0m eta \u001b[36m0:00:00\u001b[0m\n",
            "\u001b[?25hRequirement already satisfied: pyarrow-hotfix in /usr/local/lib/python3.10/dist-packages (from datasets) (0.6)\n",
            "Collecting dill<0.3.9,>=0.3.0 (from datasets)\n",
            "  Downloading dill-0.3.8-py3-none-any.whl (116 kB)\n",
            "\u001b[2K     \u001b[90m━━━━━━━━━━━━━━━━━━━━━━━━━━━━━━━━━━━━━━━━\u001b[0m \u001b[32m116.3/116.3 kB\u001b[0m \u001b[31m16.9 MB/s\u001b[0m eta \u001b[36m0:00:00\u001b[0m\n",
            "\u001b[?25hRequirement already satisfied: pandas in /usr/local/lib/python3.10/dist-packages (from datasets) (1.5.3)\n",
            "Requirement already satisfied: xxhash in /usr/local/lib/python3.10/dist-packages (from datasets) (3.4.1)\n",
            "Collecting multiprocess (from datasets)\n",
            "  Downloading multiprocess-0.70.16-py310-none-any.whl (134 kB)\n",
            "\u001b[2K     \u001b[90m━━━━━━━━━━━━━━━━━━━━━━━━━━━━━━━━━━━━━━━━\u001b[0m \u001b[32m134.8/134.8 kB\u001b[0m \u001b[31m19.8 MB/s\u001b[0m eta \u001b[36m0:00:00\u001b[0m\n",
            "\u001b[?25hRequirement already satisfied: fsspec[http]<=2023.10.0,>=2023.1.0 in /usr/local/lib/python3.10/dist-packages (from datasets) (2023.6.0)\n",
            "Requirement already satisfied: aiohttp in /usr/local/lib/python3.10/dist-packages (from datasets) (3.9.3)\n",
            "Requirement already satisfied: Click!=8.0.0,>=7.1 in /usr/local/lib/python3.10/dist-packages (from wandb) (8.1.7)\n",
            "Collecting GitPython!=3.1.29,>=1.0.0 (from wandb)\n",
            "  Downloading GitPython-3.1.41-py3-none-any.whl (196 kB)\n",
            "\u001b[2K     \u001b[90m━━━━━━━━━━━━━━━━━━━━━━━━━━━━━━━━━━━━━━━━\u001b[0m \u001b[32m196.4/196.4 kB\u001b[0m \u001b[31m28.9 MB/s\u001b[0m eta \u001b[36m0:00:00\u001b[0m\n",
            "\u001b[?25hRequirement already satisfied: psutil>=5.0.0 in /usr/local/lib/python3.10/dist-packages (from wandb) (5.9.5)\n",
            "Collecting sentry-sdk>=1.0.0 (from wandb)\n",
            "  Downloading sentry_sdk-1.40.3-py2.py3-none-any.whl (257 kB)\n",
            "\u001b[2K     \u001b[90m━━━━━━━━━━━━━━━━━━━━━━━━━━━━━━━━━━━━━━━━\u001b[0m \u001b[32m257.8/257.8 kB\u001b[0m \u001b[31m32.7 MB/s\u001b[0m eta \u001b[36m0:00:00\u001b[0m\n",
            "\u001b[?25hCollecting docker-pycreds>=0.4.0 (from wandb)\n",
            "  Downloading docker_pycreds-0.4.0-py2.py3-none-any.whl (9.0 kB)\n",
            "Collecting setproctitle (from wandb)\n",
            "  Downloading setproctitle-1.3.3-cp310-cp310-manylinux_2_5_x86_64.manylinux1_x86_64.manylinux_2_17_x86_64.manylinux2014_x86_64.whl (30 kB)\n",
            "Requirement already satisfied: setuptools in /usr/local/lib/python3.10/dist-packages (from wandb) (67.7.2)\n",
            "Requirement already satisfied: appdirs>=1.4.3 in /usr/local/lib/python3.10/dist-packages (from wandb) (1.4.4)\n",
            "Requirement already satisfied: protobuf!=4.21.0,<5,>=3.19.0 in /usr/local/lib/python3.10/dist-packages (from wandb) (3.20.3)\n",
            "Requirement already satisfied: scipy in /usr/local/lib/python3.10/dist-packages (from bitsandbytes) (1.11.4)\n",
            "Requirement already satisfied: charset-normalizer>=2.0.0 in /usr/local/lib/python3.10/dist-packages (from pdfminer.six) (3.3.2)\n",
            "Requirement already satisfied: cryptography>=36.0.0 in /usr/local/lib/python3.10/dist-packages (from pdfminer.six) (42.0.2)\n",
            "Requirement already satisfied: cffi>=1.12 in /usr/local/lib/python3.10/dist-packages (from cryptography>=36.0.0->pdfminer.six) (1.16.0)\n",
            "Requirement already satisfied: six>=1.4.0 in /usr/local/lib/python3.10/dist-packages (from docker-pycreds>=0.4.0->wandb) (1.16.0)\n",
            "Requirement already satisfied: aiosignal>=1.1.2 in /usr/local/lib/python3.10/dist-packages (from aiohttp->datasets) (1.3.1)\n",
            "Requirement already satisfied: attrs>=17.3.0 in /usr/local/lib/python3.10/dist-packages (from aiohttp->datasets) (23.2.0)\n",
            "Requirement already satisfied: frozenlist>=1.1.1 in /usr/local/lib/python3.10/dist-packages (from aiohttp->datasets) (1.4.1)\n",
            "Requirement already satisfied: multidict<7.0,>=4.5 in /usr/local/lib/python3.10/dist-packages (from aiohttp->datasets) (6.0.5)\n",
            "Requirement already satisfied: yarl<2.0,>=1.0 in /usr/local/lib/python3.10/dist-packages (from aiohttp->datasets) (1.9.4)\n",
            "Requirement already satisfied: async-timeout<5.0,>=4.0 in /usr/local/lib/python3.10/dist-packages (from aiohttp->datasets) (4.0.3)\n",
            "Collecting gitdb<5,>=4.0.1 (from GitPython!=3.1.29,>=1.0.0->wandb)\n",
            "  Downloading gitdb-4.0.11-py3-none-any.whl (62 kB)\n",
            "\u001b[2K     \u001b[90m━━━━━━━━━━━━━━━━━━━━━━━━━━━━━━━━━━━━━━━━\u001b[0m \u001b[32m62.7/62.7 kB\u001b[0m \u001b[31m8.9 MB/s\u001b[0m eta \u001b[36m0:00:00\u001b[0m\n",
            "\u001b[?25hRequirement already satisfied: typing-extensions>=3.7.4.3 in /usr/local/lib/python3.10/dist-packages (from huggingface-hub<1.0,>=0.16.4->transformers[torch]) (4.9.0)\n",
            "Requirement already satisfied: idna<4,>=2.5 in /usr/local/lib/python3.10/dist-packages (from requests->transformers[torch]) (3.6)\n",
            "Requirement already satisfied: urllib3<3,>=1.21.1 in /usr/local/lib/python3.10/dist-packages (from requests->transformers[torch]) (2.0.7)\n",
            "Requirement already satisfied: certifi>=2017.4.17 in /usr/local/lib/python3.10/dist-packages (from requests->transformers[torch]) (2024.2.2)\n",
            "Requirement already satisfied: sympy in /usr/local/lib/python3.10/dist-packages (from torch!=1.12.0,>=1.10->transformers[torch]) (1.12)\n",
            "Requirement already satisfied: networkx in /usr/local/lib/python3.10/dist-packages (from torch!=1.12.0,>=1.10->transformers[torch]) (3.2.1)\n",
            "Requirement already satisfied: jinja2 in /usr/local/lib/python3.10/dist-packages (from torch!=1.12.0,>=1.10->transformers[torch]) (3.1.3)\n",
            "Requirement already satisfied: triton==2.1.0 in /usr/local/lib/python3.10/dist-packages (from torch!=1.12.0,>=1.10->transformers[torch]) (2.1.0)\n",
            "Requirement already satisfied: python-dateutil>=2.8.1 in /usr/local/lib/python3.10/dist-packages (from pandas->datasets) (2.8.2)\n",
            "Requirement already satisfied: pytz>=2020.1 in /usr/local/lib/python3.10/dist-packages (from pandas->datasets) (2023.4)\n",
            "Requirement already satisfied: pycparser in /usr/local/lib/python3.10/dist-packages (from cffi>=1.12->cryptography>=36.0.0->pdfminer.six) (2.21)\n",
            "Collecting smmap<6,>=3.0.1 (from gitdb<5,>=4.0.1->GitPython!=3.1.29,>=1.0.0->wandb)\n",
            "  Downloading smmap-5.0.1-py3-none-any.whl (24 kB)\n",
            "Requirement already satisfied: MarkupSafe>=2.0 in /usr/local/lib/python3.10/dist-packages (from jinja2->torch!=1.12.0,>=1.10->transformers[torch]) (2.1.5)\n",
            "Requirement already satisfied: mpmath>=0.19 in /usr/local/lib/python3.10/dist-packages (from sympy->torch!=1.12.0,>=1.10->transformers[torch]) (1.3.0)\n",
            "Installing collected packages: smmap, setproctitle, sentry-sdk, PyPDF2, pypdf, pyarrow, docker-pycreds, dill, multiprocess, gitdb, bitsandbytes, pdfminer.six, GitPython, accelerate, wandb, datasets, peft\n",
            "  Attempting uninstall: pyarrow\n",
            "    Found existing installation: pyarrow 10.0.1\n",
            "    Uninstalling pyarrow-10.0.1:\n",
            "      Successfully uninstalled pyarrow-10.0.1\n",
            "\u001b[31mERROR: pip's dependency resolver does not currently take into account all the packages that are installed. This behaviour is the source of the following dependency conflicts.\n",
            "ibis-framework 7.1.0 requires pyarrow<15,>=2, but you have pyarrow 15.0.0 which is incompatible.\u001b[0m\u001b[31m\n",
            "\u001b[0mSuccessfully installed GitPython-3.1.41 PyPDF2-3.0.1 accelerate-0.27.0 bitsandbytes-0.42.0 datasets-2.17.0 dill-0.3.8 docker-pycreds-0.4.0 gitdb-4.0.11 multiprocess-0.70.16 pdfminer.six-20231228 peft-0.8.2 pyarrow-15.0.0 pypdf-4.0.1 sentry-sdk-1.40.3 setproctitle-1.3.3 smmap-5.0.1 wandb-0.16.3\n"
          ]
        }
      ],
      "source": [
        "!pip install transformers[torch] datasets wandb peft bitsandbytes"
      ]
    },
    {
      "cell_type": "markdown",
      "metadata": {
        "id": "aABvnad-OvAs"
      },
      "source": [
        "# Imports"
      ]
    },
    {
      "cell_type": "code",
      "execution_count": null,
      "metadata": {
        "id": "5o3OgCMdRGgp"
      },
      "outputs": [],
      "source": [
        "import numpy as np\n",
        "import os\n",
        "import torch\n",
        "from datasets import Dataset\n",
        "from transformers import (\n",
        "    AutoModelForCausalLM,\n",
        "    AutoTokenizer,\n",
        "    BitsAndBytesConfig,\n",
        "    TrainingArguments,\n",
        "    Trainer,\n",
        "    pipeline,\n",
        "    logging,\n",
        "    DataCollatorForLanguageModeling\n",
        ")\n",
        "import json\n",
        "import pandas as pd\n",
        "from peft import LoraConfig, PeftModel, get_peft_model"
      ]
    },
    {
      "cell_type": "markdown",
      "metadata": {
        "id": "ZQH_fuC0Ql90"
      },
      "source": [
        "# Setup"
      ]
    },
    {
      "cell_type": "code",
      "execution_count": null,
      "metadata": {
        "id": "S1O0JfaW_1Q0"
      },
      "outputs": [],
      "source": [
        "import os\n",
        "from google.colab import userdata\n",
        "\n",
        "os.environ['HF_TOKEN'] = userdata.get('HF_TOKEN')"
      ]
    },
    {
      "cell_type": "code",
      "execution_count": null,
      "metadata": {
        "colab": {
          "base_uri": "https://localhost:8080/"
        },
        "id": "TrCGmIIqQpqk",
        "outputId": "564bd697-add5-43e2-830a-e7040a9f5a2c"
      },
      "outputs": [
        {
          "output_type": "stream",
          "name": "stderr",
          "text": [
            "/usr/local/lib/python3.10/dist-packages/huggingface_hub/repocard.py:105: UserWarning: Repo card metadata block was not found. Setting CardData to empty.\n",
            "  warnings.warn(\"Repo card metadata block was not found. Setting CardData to empty.\")\n"
          ]
        }
      ],
      "source": [
        "from datasets import load_dataset\n",
        "\n",
        "assistant_dataset = load_dataset(\"timdettmers/openassistant-guanaco\")\n",
        "\n",
        "original_guanaco_dataset = load_dataset(\"guanaco/guanaco\")"
      ]
    },
    {
      "cell_type": "code",
      "execution_count": null,
      "metadata": {
        "colab": {
          "base_uri": "https://localhost:8080/"
        },
        "id": "cc0IYg2CQqm1",
        "outputId": "35f910fd-47d2-4e1f-ac24-8acbf1556b78"
      },
      "outputs": [
        {
          "output_type": "execute_result",
          "data": {
            "text/plain": [
              "{'text': '### Human: Can you write a short introduction about the relevance of the term \"monopsony\" in economics? Please use examples related to potential monopsonies in the labour market and cite relevant research.### Assistant: \"Monopsony\" refers to a market structure where there is only one buyer for a particular good or service. In economics, this term is particularly relevant in the labor market, where a monopsony employer has significant power over the wages and working conditions of their employees. The presence of a monopsony can result in lower wages and reduced employment opportunities for workers, as the employer has little incentive to increase wages or provide better working conditions.\\n\\nRecent research has identified potential monopsonies in industries such as retail and fast food, where a few large companies control a significant portion of the market (Bivens & Mishel, 2013). In these industries, workers often face low wages, limited benefits, and reduced bargaining power, leading to a situation where they are dependent on the employer for their livelihood. This dependence can result in further suppression of wages and a decline in working conditions.\\n\\nOverall, the concept of monopsony is essential to understanding the dynamics of labor markets and the impact of market power on workers. Further research is needed to understand the extent and impact of monopsonies on the economy and to develop policies to address this issue.\\n\\nReferences:\\nBivens, J., & Mishel, L. (2013). The Pay of Corporate Executives and Financial Professionals as Evidence of Rents in Top 1 Percent Incomes. Journal of Economic Perspectives, 27(3), 57-78.### Human: Now explain it to a dog'}"
            ]
          },
          "metadata": {},
          "execution_count": 17
        }
      ],
      "source": [
        "assistant_dataset['train'][0]"
      ]
    },
    {
      "cell_type": "code",
      "execution_count": null,
      "metadata": {
        "id": "-G61ZFyr-81O",
        "colab": {
          "base_uri": "https://localhost:8080/"
        },
        "outputId": "f9e61942-aab6-48ca-c9e7-a33d20933f8a"
      },
      "outputs": [
        {
          "output_type": "execute_result",
          "data": {
            "text/plain": [
              "{'response': \"The man is quite tall with a slender physique. His dark hair is styled in a sleek, classic pompadour with a slight sheen to it, suggesting perhaps he spends time grooming it. The hair appears to be well-maintained, as though he's put some effort into it. The dark color of his hair contrasts with his pale skin, which gives him a somewhat striking appearance. He conveys a sense of poise and confidence, as though he's comfortable in his own skin. Overall, he seems to exude a sophisticated, polished vibe.\",\n",
              " 'text': \"Describe the following:\\nA tall, thin man with dark hair styled in a slick pompadour.### Response:\\nThe man is quite tall with a slender physique. His dark hair is styled in a sleek, classic pompadour with a slight sheen to it, suggesting perhaps he spends time grooming it. The hair appears to be well-maintained, as though he's put some effort into it. The dark color of his hair contrasts with his pale skin, which gives him a somewhat striking appearance. He conveys a sense of poise and confidence, as though he's comfortable in his own skin. Overall, he seems to exude a sophisticated, polished vibe.\",\n",
              " 'prompt': 'Describe the following:\\nA tall, thin man with dark hair styled in a slick pompadour.'}"
            ]
          },
          "metadata": {},
          "execution_count": 18
        }
      ],
      "source": [
        "original_guanaco_dataset['train'][0]"
      ]
    },
    {
      "cell_type": "markdown",
      "metadata": {
        "id": "YDzsgGXa-9b9"
      },
      "source": [
        "# Parse Conversations"
      ]
    },
    {
      "cell_type": "code",
      "execution_count": null,
      "metadata": {
        "colab": {
          "base_uri": "https://localhost:8080/"
        },
        "id": "77rqBL5o9kQp",
        "outputId": "bcd6bdb2-a43d-4e2f-df0d-a433902614a3"
      },
      "outputs": [
        {
          "output_type": "stream",
          "name": "stdout",
          "text": [
            "[('human', 'Can you write a short introduction about the relevance of the term \"monopsony\" in economics? Please use examples related to potential monopsonies in the labour market and cite relevant research.'), ('assistant', '\"Monopsony\" refers to a market structure where there is only one buyer for a particular good or service. In economics, this term is particularly relevant in the labor market, where a monopsony employer has significant power over the wages and working conditions of their employees. The presence of a monopsony can result in lower wages and reduced employment opportunities for workers, as the employer has little incentive to increase wages or provide better working conditions.\\n\\nRecent research has identified potential monopsonies in industries such as retail and fast food, where a few large companies control a significant portion of the market (Bivens & Mishel, 2013). In these industries, workers often face low wages, limited benefits, and reduced bargaining power, leading to a situation where they are dependent on the employer for their livelihood. This dependence can result in further suppression of wages and a decline in working conditions.\\n\\nOverall, the concept of monopsony is essential to understanding the dynamics of labor markets and the impact of market power on workers. Further research is needed to understand the extent and impact of monopsonies on the economy and to develop policies to address this issue.\\n\\nReferences:\\nBivens, J., & Mishel, L. (2013). The Pay of Corporate Executives and Financial Professionals as Evidence of Rents in Top 1 Percent Incomes. Journal of Economic Perspectives, 27(3), 57-78.'), ('human', 'Now explain it to a dog')]\n",
            "[['human', 'Describe the following:\\nA tall, thin man with dark hair styled in a slick pompadour.'], ['assistant', \"The man is quite tall with a slender physique. His dark hair is styled in a sleek, classic pompadour with a slight sheen to it, suggesting perhaps he spends time grooming it. The hair appears to be well-maintained, as though he's put some effort into it. The dark color of his hair contrasts with his pale skin, which gives him a somewhat striking appearance. He conveys a sense of poise and confidence, as though he's comfortable in his own skin. Overall, he seems to exude a sophisticated, polished vibe.\"]]\n"
          ]
        }
      ],
      "source": [
        "# Function to parse the JSON and extract human/bot conversations\n",
        "def parse_conversations(json_data):\n",
        "    if 'prompt' in json_data and 'response' in json_data:\n",
        "        return [['human', json_data['prompt']], ['assistant', json_data['response']]]\n",
        "    # Split the text on '###' to separate conversations\n",
        "    conversations = json_data['text'].split('###')\n",
        "\n",
        "    # Process each conversation and split into human and bot parts\n",
        "    convos = []\n",
        "    for convo in conversations:\n",
        "        if convo.strip():  # Check if the string is not just whitespace\n",
        "            parts = convo.strip().split(': ', 1)  # Split on the first occurrence of ': '\n",
        "            if len(parts) == 2:\n",
        "                speaker, message = parts\n",
        "                convos.append((speaker.lower(), message))\n",
        "\n",
        "    return convos\n",
        "\n",
        "# Parse the conversations\n",
        "print(parse_conversations(assistant_dataset['train'][0]))\n",
        "print(parse_conversations(original_guanaco_dataset['train'][0]))"
      ]
    },
    {
      "cell_type": "code",
      "source": [
        "assistant_dataset = assistant_dataset.map(lambda x: {'conversation': parse_conversations(x)})\n",
        "assistant_dataset"
      ],
      "metadata": {
        "colab": {
          "base_uri": "https://localhost:8080/"
        },
        "id": "SRX16i-58v7T",
        "outputId": "79d2fa31-3275-4108-91c3-b807320ac4de"
      },
      "execution_count": null,
      "outputs": [
        {
          "output_type": "execute_result",
          "data": {
            "text/plain": [
              "DatasetDict({\n",
              "    train: Dataset({\n",
              "        features: ['text', 'conversation'],\n",
              "        num_rows: 9846\n",
              "    })\n",
              "    test: Dataset({\n",
              "        features: ['text', 'conversation'],\n",
              "        num_rows: 518\n",
              "    })\n",
              "})"
            ]
          },
          "metadata": {},
          "execution_count": 20
        }
      ]
    },
    {
      "cell_type": "code",
      "source": [
        "original_guanaco_dataset = original_guanaco_dataset.map(lambda x: {'conversation': parse_conversations(x)})\n",
        "original_guanaco_dataset"
      ],
      "metadata": {
        "colab": {
          "base_uri": "https://localhost:8080/"
        },
        "id": "v0D2RZah8wEa",
        "outputId": "e87b56ac-9cc9-48e2-e31e-d1ec7b495ad9"
      },
      "execution_count": null,
      "outputs": [
        {
          "output_type": "execute_result",
          "data": {
            "text/plain": [
              "DatasetDict({\n",
              "    train: Dataset({\n",
              "        features: ['response', 'text', 'prompt', 'conversation'],\n",
              "        num_rows: 48701\n",
              "    })\n",
              "})"
            ]
          },
          "metadata": {},
          "execution_count": 21
        }
      ]
    },
    {
      "cell_type": "code",
      "source": [
        "dataset = Dataset.from_dict({'conversation': list(assistant_dataset['train']['conversation']) + list(original_guanaco_dataset['train']['conversation'])})\n",
        "dataset = dataset.train_test_split(test_size=0.2, seed=42)\n",
        "\n",
        "dataset"
      ],
      "metadata": {
        "colab": {
          "base_uri": "https://localhost:8080/"
        },
        "id": "xr9yKFYa8wlJ",
        "outputId": "225ca13c-94b1-40cf-f1cc-413d8f8b0112"
      },
      "execution_count": null,
      "outputs": [
        {
          "output_type": "execute_result",
          "data": {
            "text/plain": [
              "DatasetDict({\n",
              "    train: Dataset({\n",
              "        features: ['conversation'],\n",
              "        num_rows: 46837\n",
              "    })\n",
              "    test: Dataset({\n",
              "        features: ['conversation'],\n",
              "        num_rows: 11710\n",
              "    })\n",
              "})"
            ]
          },
          "metadata": {},
          "execution_count": 34
        }
      ]
    },
    {
      "cell_type": "code",
      "source": [],
      "metadata": {
        "id": "peQOX_Dv8wvr"
      },
      "execution_count": null,
      "outputs": []
    },
    {
      "cell_type": "code",
      "execution_count": null,
      "metadata": {
        "colab": {
          "base_uri": "https://localhost:8080/",
          "height": 162,
          "referenced_widgets": [
            "332242488dc0489b98af3440f7979bcb",
            "ffca8c0d410e40838655a946b658ac6c",
            "2e192d12c0e74ee6a7aa0a8151eea83f",
            "a9cc9d8de0da421695350037637b6f59",
            "e6dd55f6de414dd2ae2e44cefe181655",
            "1d3357016fb34155b62a114dac3c6889",
            "03cf0114a4674598ad973e7125209c1d",
            "786c845e771a46dda5a2cf7b6cb9e236",
            "bf51eb77d268469eab4beecbe2aa11ba",
            "75c1cd111b77447abc7bd3897d2fe361",
            "852b9c51a4bf4dee851ee9860449f6e5",
            "c03d5c6242124b819037af6fada29232",
            "633ccabd8c054a93a1167b39cb21a006",
            "13cf8de94978468c9cd412a94c6bb30d",
            "c527df87fc094b3b80ccd82c70e0001d",
            "688a373147b94c0a9ad68ee220816132",
            "9b53c84ca2d1485f84b7ee18c7cc57e5",
            "0517e3f334764837a741ed8125c59124",
            "cbaa98cc93d44e0f80fff44a5b418350",
            "40900c8dcf564cacadc46a1c3aa21344",
            "5dc220a94090409e9c1c566a9ebace4f",
            "fc16cb17f6be4a53b330e3d6641d8ce1",
            "b520433713554dad9eac9acf37ae2fe3",
            "702c69cd8793423489f0961649f92152",
            "f0cc413e274449a19e27ded510122467",
            "9ea2daae15e2451788db0a21aef8b153",
            "e4f20bfcce4e423d91dd1e2cac817aff",
            "fa3c66a44185409a832813548f804fd1",
            "d1382bd28ba549478924fbefed30fa58",
            "62fc3cf6f1dd43b291c726f9a4a59580",
            "e8f7dffcc1194932900ddbfcd75cb3ff",
            "1249a3200f9c463a96ff3de3043d03c1",
            "dda96b108e5b4ede946acfe8865a2043",
            "2c4a279264234627b108d133c439d254",
            "16aedfb085ad43fe8fd881f5958183a1",
            "553b50dfdc234b20bda5f1200129397c",
            "17b67be84a414c37b48cacd72cf386e2",
            "142cd3c58fc24a26b6a7c76cf97b9a01",
            "4bb051a7d8914c95ba1c7a45e17b206c",
            "73119dceac274e419c7d22917a28bb23",
            "3cdcf7f058064fee9617804b228a4356",
            "032eaea33c484f64b6b1603ad733ca58",
            "e45248f6a96049c381af03b44a4933f4",
            "b44e5584c7094b4f94f65fd01f388347"
          ]
        },
        "id": "VVUGFEXIR0fn",
        "outputId": "2adfa880-9ec5-49cb-a88e-234ca93bcd27"
      },
      "outputs": [
        {
          "output_type": "display_data",
          "data": {
            "text/plain": [
              "tokenizer_config.json:   0%|          | 0.00/746 [00:00<?, ?B/s]"
            ],
            "application/vnd.jupyter.widget-view+json": {
              "version_major": 2,
              "version_minor": 0,
              "model_id": "332242488dc0489b98af3440f7979bcb"
            }
          },
          "metadata": {}
        },
        {
          "output_type": "display_data",
          "data": {
            "text/plain": [
              "tokenizer.model:   0%|          | 0.00/500k [00:00<?, ?B/s]"
            ],
            "application/vnd.jupyter.widget-view+json": {
              "version_major": 2,
              "version_minor": 0,
              "model_id": "c03d5c6242124b819037af6fada29232"
            }
          },
          "metadata": {}
        },
        {
          "output_type": "display_data",
          "data": {
            "text/plain": [
              "tokenizer.json:   0%|          | 0.00/1.84M [00:00<?, ?B/s]"
            ],
            "application/vnd.jupyter.widget-view+json": {
              "version_major": 2,
              "version_minor": 0,
              "model_id": "b520433713554dad9eac9acf37ae2fe3"
            }
          },
          "metadata": {}
        },
        {
          "output_type": "display_data",
          "data": {
            "text/plain": [
              "special_tokens_map.json:   0%|          | 0.00/435 [00:00<?, ?B/s]"
            ],
            "application/vnd.jupyter.widget-view+json": {
              "version_major": 2,
              "version_minor": 0,
              "model_id": "2c4a279264234627b108d133c439d254"
            }
          },
          "metadata": {}
        },
        {
          "output_type": "execute_result",
          "data": {
            "text/plain": [
              "3"
            ]
          },
          "metadata": {},
          "execution_count": 28
        }
      ],
      "source": [
        "STOP_TOKEN = '###STOP###'  # we are making these up\n",
        "HUMAN_TOKEN = '###HUMAN###'\n",
        "BOT_TOKEN = '###BOT###'\n",
        "\n",
        "EXTRA_TOKENS = {\n",
        "    'stop_token': {\n",
        "        'token': STOP_TOKEN,\n",
        "        'replace_embedding_with': 'stop talking'\n",
        "    },\n",
        "    'human_token': {\n",
        "        'token': HUMAN_TOKEN,\n",
        "        'replace_embedding_with': 'The human said:'\n",
        "    },\n",
        "    'bot_token': {\n",
        "        'token': BOT_TOKEN,\n",
        "        'replace_embedding_with': 'The assistant said:'\n",
        "    }\n",
        "}\n",
        "\n",
        "# Model from Hugging Face hub. I'm using the non chat format to show that you don't need to start from the chat checkpoint\n",
        "base_model = \"NousResearch/Llama-2-7b-hf\"\n",
        "\n",
        "\n",
        "# Load LLaMA tokenizer\n",
        "tokenizer = AutoTokenizer.from_pretrained(base_model, trust_remote_code=True)\n",
        "tokenizer.pad_token = tokenizer.eos_token\n",
        "tokenizer.padding_side = \"left\"\n",
        "\n",
        "tokenizer.add_tokens([extra['token'] for extra in EXTRA_TOKENS.values()])"
      ]
    },
    {
      "cell_type": "code",
      "execution_count": null,
      "metadata": {
        "colab": {
          "base_uri": "https://localhost:8080/",
          "height": 330,
          "referenced_widgets": [
            "8c3becd09e244ee78d0615c40f248f42",
            "2a4e219449364fed91b6b2ec45aa8b85",
            "0ac86561aeb24ae5b2b36e384f46f4ba",
            "e90f62c89102476599aa9d6939f8476f",
            "f823422b42fc4c7f9d6238a407ade696",
            "d822d052587e441591d828f3ba0282c4",
            "698dc844603646b09d71ff4df134e224",
            "2a7a704af8f643969683bc7245625ab8",
            "cd73a932703844d78b993578f8994940",
            "b4a9d0aece4848a9817c4e5ced05eea9",
            "a5ed381a872a45daaf53d89aae7c254b",
            "829e1f40a4784ddfaf73a2b9ffe09422",
            "0dec27409b08409a815ab5850bb28d5a",
            "309173dcb47d48fdb09c944997d54c2e",
            "97843830802e4ec48acdfa18a98434c7",
            "a2139396ae91481b8692fff56b19071e",
            "ab760f313cf346d88ed96526b1ca611b",
            "d3541b053c294e95be53bce78c6792cd",
            "9acce663c334485aaa3db914d54d65fe",
            "ed918edd3c2f499b83e591ccb555ab24",
            "3352095ee9f6470db7f72924772193f9",
            "1fa4f1ad020d41f3abe347612958a50c",
            "b0ee5eedd9c944e4a8edd6928bc77a4a",
            "d099e4b027ef40ff984a9869e1163027",
            "f6677d93692c4556bb71141cbe703fc9",
            "9e19dd1b67f046b88f6d76032ea7727e",
            "5c547c658a3c45d4ba5191967a696afc",
            "f3ea13877b8341328c0e5a80fe7d38a9",
            "9398d314b4844a979b510ff5c3b93a9c",
            "ffa70c6703fa4a26b010c4344276d6f7",
            "3a7f5203762f48ebb67d8e61d9562979",
            "3a76442658de440b93032448c504418f",
            "a2e97c4faf6c4c7bad1395dcfb863287",
            "fc8563b2f1884b8bbbb36e18d045bcc0",
            "697a1ecacee34caabc2bb7c1a681eda5",
            "799e808014be4012a740521701ee4fc4",
            "ba0acc10dc7e45a2aa3cc940e8071f73",
            "69e1c87501734b7fb52a67bd47b5e857",
            "5be2c816278b4cf8b02b396db7bd70f8",
            "5ac725e90fdb49d8b40e3fbfa78d183e",
            "9b58312f38be41569b043860a2b8e345",
            "68aaab43c3e04577b9fa0a81f2217022",
            "b5487c46585c42049779214b19edd2de",
            "da4bf853ce4b4503ada7b4b40ccab1fa",
            "e6fba5d58ed7477db0291059f6f4024b",
            "d6556f58a97c4b198e331b1350ada068",
            "b10abd23f94c468c8038f5966e02c018",
            "f1857273859545f9a434766495fcf97f",
            "0ab0bf9218e945e3b427f609f891c224",
            "908d28cae7a24a04996e592dd49387f7",
            "3dcf307495fd4aa3b9a74ad1689b0f7e",
            "eff3f63391644d18aff316b09b6a67f9",
            "5a5626b8fd8a4269aeb31c54d816ed62",
            "4577f02a31354def89547d0c7f349a48",
            "c457042e1b964e1fabf80825bef42ac1",
            "66be2972709c42abbdc8b9c51556ef98",
            "21ae239d94c24250aa877383e1760e3d",
            "381cbf53bf75410eb846a7903405202c",
            "e88b936fd37c49b1b6b572652703efbb",
            "fd02807d7b5a47be8352cb20397992d8",
            "c859bae6cc884e398223358eecdef2b3",
            "6f92484e15e34c58b4f1b396c36521a5",
            "8113f320dd7b4c7b807ae96552b6c12b",
            "83d5eced66614aad8edaf81f46361cb6",
            "4eb75b5dc56e426ba799959d4507b8dc",
            "8385518f9511430fa5650002374ccac1",
            "53961e2aeca145af8f51a2aa1eaf82dc",
            "6a7c839afb214d25872ce6791318967e",
            "08b253e8a94745659b23106ffabbd58b",
            "b92c8cf309514ea399448f00966c0fde",
            "9c5afc94eebb4a039b81baf9dc1b9c92",
            "37efdb36d84148fa9aab7db3e9abd9dd",
            "1fa3ef9ce9f8444aaff57bc57a7b0c63",
            "9624edd98ea049ad89ec33a8b151f105",
            "1391afe73396476e8edf88583257ab2c",
            "fb64bf3ffbe6449498218d02652e38b5",
            "7a36ebab83044af681e54be23b93e038"
          ]
        },
        "id": "_ar8oDCC6BA-",
        "outputId": "08f58f79-72e7-4844-9887-222ebb3aec02"
      },
      "outputs": [
        {
          "output_type": "display_data",
          "data": {
            "text/plain": [
              "config.json:   0%|          | 0.00/583 [00:00<?, ?B/s]"
            ],
            "application/vnd.jupyter.widget-view+json": {
              "version_major": 2,
              "version_minor": 0,
              "model_id": "8c3becd09e244ee78d0615c40f248f42"
            }
          },
          "metadata": {}
        },
        {
          "output_type": "display_data",
          "data": {
            "text/plain": [
              "model.safetensors.index.json:   0%|          | 0.00/26.8k [00:00<?, ?B/s]"
            ],
            "application/vnd.jupyter.widget-view+json": {
              "version_major": 2,
              "version_minor": 0,
              "model_id": "829e1f40a4784ddfaf73a2b9ffe09422"
            }
          },
          "metadata": {}
        },
        {
          "output_type": "display_data",
          "data": {
            "text/plain": [
              "Downloading shards:   0%|          | 0/2 [00:00<?, ?it/s]"
            ],
            "application/vnd.jupyter.widget-view+json": {
              "version_major": 2,
              "version_minor": 0,
              "model_id": "b0ee5eedd9c944e4a8edd6928bc77a4a"
            }
          },
          "metadata": {}
        },
        {
          "output_type": "display_data",
          "data": {
            "text/plain": [
              "model-00001-of-00002.safetensors:   0%|          | 0.00/9.98G [00:00<?, ?B/s]"
            ],
            "application/vnd.jupyter.widget-view+json": {
              "version_major": 2,
              "version_minor": 0,
              "model_id": "fc8563b2f1884b8bbbb36e18d045bcc0"
            }
          },
          "metadata": {}
        },
        {
          "output_type": "display_data",
          "data": {
            "text/plain": [
              "model-00002-of-00002.safetensors:   0%|          | 0.00/3.50G [00:00<?, ?B/s]"
            ],
            "application/vnd.jupyter.widget-view+json": {
              "version_major": 2,
              "version_minor": 0,
              "model_id": "e6fba5d58ed7477db0291059f6f4024b"
            }
          },
          "metadata": {}
        },
        {
          "output_type": "display_data",
          "data": {
            "text/plain": [
              "Loading checkpoint shards:   0%|          | 0/2 [00:00<?, ?it/s]"
            ],
            "application/vnd.jupyter.widget-view+json": {
              "version_major": 2,
              "version_minor": 0,
              "model_id": "66be2972709c42abbdc8b9c51556ef98"
            }
          },
          "metadata": {}
        },
        {
          "output_type": "display_data",
          "data": {
            "text/plain": [
              "generation_config.json:   0%|          | 0.00/179 [00:00<?, ?B/s]"
            ],
            "application/vnd.jupyter.widget-view+json": {
              "version_major": 2,
              "version_minor": 0,
              "model_id": "53961e2aeca145af8f51a2aa1eaf82dc"
            }
          },
          "metadata": {}
        },
        {
          "output_type": "stream",
          "name": "stderr",
          "text": [
            "/usr/local/lib/python3.10/dist-packages/transformers/generation/configuration_utils.py:381: UserWarning: `do_sample` is set to `False`. However, `temperature` is set to `0.9` -- this flag is only used in sample-based generation modes. You should set `do_sample=True` or unset `temperature`. This was detected when initializing the generation config instance, which means the corresponding file may hold incorrect parameterization and should be fixed.\n",
            "  warnings.warn(\n",
            "/usr/local/lib/python3.10/dist-packages/transformers/generation/configuration_utils.py:386: UserWarning: `do_sample` is set to `False`. However, `top_p` is set to `0.6` -- this flag is only used in sample-based generation modes. You should set `do_sample=True` or unset `top_p`. This was detected when initializing the generation config instance, which means the corresponding file may hold incorrect parameterization and should be fixed.\n",
            "  warnings.warn(\n"
          ]
        }
      ],
      "source": [
        "quant_config = BitsAndBytesConfig(\n",
        "    load_in_4bit=True,\n",
        "    bnb_4bit_quant_type=\"nf4\",\n",
        "    bnb_4bit_compute_dtype=torch.bfloat16,\n",
        "    bnb_4bit_use_double_quant=False,\n",
        ")\n",
        "\n",
        "# Load base model\n",
        "model = AutoModelForCausalLM.from_pretrained(\n",
        "    base_model,\n",
        "    torch_dtype=torch.bfloat16,\n",
        "    quantization_config=quant_config,\n",
        "    device_map={\"\": 0}\n",
        ")"
      ]
    },
    {
      "cell_type": "code",
      "execution_count": null,
      "metadata": {
        "colab": {
          "base_uri": "https://localhost:8080/"
        },
        "id": "e29KUUx7_lHM",
        "outputId": "a288e2ff-aeb2-4a98-f0d8-09f035b73862"
      },
      "outputs": [
        {
          "output_type": "stream",
          "name": "stdout",
          "text": [
            "32000\n",
            "32003\n"
          ]
        }
      ],
      "source": [
        "print(model.config.vocab_size)\n",
        "model.resize_token_embeddings(len(tokenizer))\n",
        "print(model.config.vocab_size)"
      ]
    },
    {
      "cell_type": "code",
      "execution_count": null,
      "metadata": {
        "colab": {
          "base_uri": "https://localhost:8080/"
        },
        "id": "diDt77uP6Ed_",
        "outputId": "27513d8a-c16f-474a-85ce-0fa4af6fca6d"
      },
      "outputs": [
        {
          "output_type": "stream",
          "name": "stdout",
          "text": [
            "Replaced token \"###STOP###\" (token id 32000) weight with weight for \"stop talking\"\n",
            "Replaced token \"###HUMAN###\" (token id 32001) weight with weight for \"The human said:\"\n",
            "Replaced token \"###BOT###\" (token id 32002) weight with weight for \"The assistant said:\"\n"
          ]
        }
      ],
      "source": [
        "for extra_token, extra_info in EXTRA_TOKENS.items():\n",
        "    token_id = tokenizer(extra_info['token'])['input_ids'][-1]\n",
        "    new_embedding = model.model.embed_tokens.weight.data[tokenizer(extra_info['replace_embedding_with'])['input_ids'][1:]].mean(dim=0, keepdim=True)#.reshape(-1)\n",
        "    EXTRA_TOKENS[extra_token]['new_embedding'] = new_embedding\n",
        "    model.model.embed_tokens.weight.data[token_id] = EXTRA_TOKENS[extra_token]['new_embedding'].clone()\n",
        "    EXTRA_TOKENS[extra_token]['token_id'] = token_id\n",
        "    print(f\"Replaced token \\\"{extra_info['token']}\\\" (token id {token_id}) weight with weight for \\\"{extra_info['replace_embedding_with']}\\\"\")"
      ]
    },
    {
      "cell_type": "code",
      "execution_count": null,
      "metadata": {
        "colab": {
          "base_uri": "https://localhost:8080/"
        },
        "id": "4szdy0Hg7e8O",
        "outputId": "edf7bd30-5b2c-42e5-c27f-6b586c5807ff"
      },
      "outputs": [
        {
          "output_type": "execute_result",
          "data": {
            "text/plain": [
              "{'stop_token': {'token': '###STOP###',\n",
              "  'replace_embedding_with': 'stop talking',\n",
              "  'new_embedding': tensor([[-0.0161,  0.0000, -0.0031,  ...,  0.0137, -0.0084, -0.0071]],\n",
              "         device='cuda:0', dtype=torch.bfloat16),\n",
              "  'token_id': 32000},\n",
              " 'human_token': {'token': '###HUMAN###',\n",
              "  'replace_embedding_with': 'The human said:',\n",
              "  'new_embedding': tensor([[-0.0046, -0.0028,  0.0157,  ..., -0.0030,  0.0066,  0.0047]],\n",
              "         device='cuda:0', dtype=torch.bfloat16),\n",
              "  'token_id': 32001},\n",
              " 'bot_token': {'token': '###BOT###',\n",
              "  'replace_embedding_with': 'The assistant said:',\n",
              "  'new_embedding': tensor([[0.0009, 0.0023, 0.0064,  ..., 0.0030, 0.0111, 0.0021]],\n",
              "         device='cuda:0', dtype=torch.bfloat16),\n",
              "  'token_id': 32002}}"
            ]
          },
          "metadata": {},
          "execution_count": 32
        }
      ],
      "source": [
        "EXTRA_TOKENS"
      ]
    },
    {
      "cell_type": "code",
      "execution_count": null,
      "metadata": {
        "colab": {
          "base_uri": "https://localhost:8080/"
        },
        "id": "EpQOpWaSREll",
        "outputId": "0f2fe9da-ee89-4170-e4bf-3f57e7ec2966"
      },
      "outputs": [
        {
          "output_type": "execute_result",
          "data": {
            "text/plain": [
              "{'conversation': [['human', 'Cuéntame un chiste sobre un tomate y algo más'],\n",
              "  ['assistant',\n",
              "   'Esto es un tomate que está haciendo el ridículo y otro tomate le grita: TE ESTÁS PONIENDO COMO UN HUMANO!']]}"
            ]
          },
          "metadata": {},
          "execution_count": 35
        }
      ],
      "source": [
        "dataset['train'][0]"
      ]
    },
    {
      "cell_type": "code",
      "execution_count": null,
      "metadata": {
        "id": "7rCJMSCsSc6V"
      },
      "outputs": [],
      "source": [
        "text_pd = pd.concat([pd.DataFrame(dataset['train']), pd.DataFrame(dataset['test'])])\n",
        "\n",
        "text_pd['split'] = ['train'] * len(dataset['train']) + ['test'] * len(dataset['test'])\n",
        "\n",
        "text_pd['convo_length'] = text_pd['conversation'].apply(len)\n",
        "text_pd['last_speaker'] = text_pd['conversation'].apply(lambda x: x[-1][0])"
      ]
    },
    {
      "cell_type": "code",
      "execution_count": null,
      "metadata": {
        "colab": {
          "base_uri": "https://localhost:8080/"
        },
        "id": "LqfIHZaFeL7e",
        "outputId": "def5b0c1-838f-4de5-a783-ccc6419fabc2"
      },
      "outputs": [
        {
          "output_type": "execute_result",
          "data": {
            "text/plain": [
              "assistant    56066\n",
              "human         2471\n",
              "Name: last_speaker, dtype: int64"
            ]
          },
          "metadata": {},
          "execution_count": 39
        }
      ],
      "source": [
        "text_pd = text_pd[text_pd['last_speaker'].isin(['assistant', 'human'])]\n",
        "text_pd['last_speaker'].value_counts()"
      ]
    },
    {
      "cell_type": "code",
      "execution_count": null,
      "metadata": {
        "colab": {
          "base_uri": "https://localhost:8080/",
          "height": 112
        },
        "id": "Lmx_O-BEAweT",
        "outputId": "9ed38d4b-a77d-446e-f114-54a350b11a82"
      },
      "outputs": [
        {
          "output_type": "execute_result",
          "data": {
            "text/plain": [
              "                                        conversation  split  convo_length  \\\n",
              "0  [[human, Cuéntame un chiste sobre un tomate y ...  train             2   \n",
              "1  [[human, Write a letter recommending someone f...  train             2   \n",
              "\n",
              "  last_speaker  \n",
              "0    assistant  \n",
              "1    assistant  "
            ],
            "text/html": [
              "\n",
              "  <div id=\"df-e4e525f7-a345-43f6-b3ce-113eb9e9a176\" class=\"colab-df-container\">\n",
              "    <div>\n",
              "<style scoped>\n",
              "    .dataframe tbody tr th:only-of-type {\n",
              "        vertical-align: middle;\n",
              "    }\n",
              "\n",
              "    .dataframe tbody tr th {\n",
              "        vertical-align: top;\n",
              "    }\n",
              "\n",
              "    .dataframe thead th {\n",
              "        text-align: right;\n",
              "    }\n",
              "</style>\n",
              "<table border=\"1\" class=\"dataframe\">\n",
              "  <thead>\n",
              "    <tr style=\"text-align: right;\">\n",
              "      <th></th>\n",
              "      <th>conversation</th>\n",
              "      <th>split</th>\n",
              "      <th>convo_length</th>\n",
              "      <th>last_speaker</th>\n",
              "    </tr>\n",
              "  </thead>\n",
              "  <tbody>\n",
              "    <tr>\n",
              "      <th>0</th>\n",
              "      <td>[[human, Cuéntame un chiste sobre un tomate y ...</td>\n",
              "      <td>train</td>\n",
              "      <td>2</td>\n",
              "      <td>assistant</td>\n",
              "    </tr>\n",
              "    <tr>\n",
              "      <th>1</th>\n",
              "      <td>[[human, Write a letter recommending someone f...</td>\n",
              "      <td>train</td>\n",
              "      <td>2</td>\n",
              "      <td>assistant</td>\n",
              "    </tr>\n",
              "  </tbody>\n",
              "</table>\n",
              "</div>\n",
              "    <div class=\"colab-df-buttons\">\n",
              "\n",
              "  <div class=\"colab-df-container\">\n",
              "    <button class=\"colab-df-convert\" onclick=\"convertToInteractive('df-e4e525f7-a345-43f6-b3ce-113eb9e9a176')\"\n",
              "            title=\"Convert this dataframe to an interactive table.\"\n",
              "            style=\"display:none;\">\n",
              "\n",
              "  <svg xmlns=\"http://www.w3.org/2000/svg\" height=\"24px\" viewBox=\"0 -960 960 960\">\n",
              "    <path d=\"M120-120v-720h720v720H120Zm60-500h600v-160H180v160Zm220 220h160v-160H400v160Zm0 220h160v-160H400v160ZM180-400h160v-160H180v160Zm440 0h160v-160H620v160ZM180-180h160v-160H180v160Zm440 0h160v-160H620v160Z\"/>\n",
              "  </svg>\n",
              "    </button>\n",
              "\n",
              "  <style>\n",
              "    .colab-df-container {\n",
              "      display:flex;\n",
              "      gap: 12px;\n",
              "    }\n",
              "\n",
              "    .colab-df-convert {\n",
              "      background-color: #E8F0FE;\n",
              "      border: none;\n",
              "      border-radius: 50%;\n",
              "      cursor: pointer;\n",
              "      display: none;\n",
              "      fill: #1967D2;\n",
              "      height: 32px;\n",
              "      padding: 0 0 0 0;\n",
              "      width: 32px;\n",
              "    }\n",
              "\n",
              "    .colab-df-convert:hover {\n",
              "      background-color: #E2EBFA;\n",
              "      box-shadow: 0px 1px 2px rgba(60, 64, 67, 0.3), 0px 1px 3px 1px rgba(60, 64, 67, 0.15);\n",
              "      fill: #174EA6;\n",
              "    }\n",
              "\n",
              "    .colab-df-buttons div {\n",
              "      margin-bottom: 4px;\n",
              "    }\n",
              "\n",
              "    [theme=dark] .colab-df-convert {\n",
              "      background-color: #3B4455;\n",
              "      fill: #D2E3FC;\n",
              "    }\n",
              "\n",
              "    [theme=dark] .colab-df-convert:hover {\n",
              "      background-color: #434B5C;\n",
              "      box-shadow: 0px 1px 3px 1px rgba(0, 0, 0, 0.15);\n",
              "      filter: drop-shadow(0px 1px 2px rgba(0, 0, 0, 0.3));\n",
              "      fill: #FFFFFF;\n",
              "    }\n",
              "  </style>\n",
              "\n",
              "    <script>\n",
              "      const buttonEl =\n",
              "        document.querySelector('#df-e4e525f7-a345-43f6-b3ce-113eb9e9a176 button.colab-df-convert');\n",
              "      buttonEl.style.display =\n",
              "        google.colab.kernel.accessAllowed ? 'block' : 'none';\n",
              "\n",
              "      async function convertToInteractive(key) {\n",
              "        const element = document.querySelector('#df-e4e525f7-a345-43f6-b3ce-113eb9e9a176');\n",
              "        const dataTable =\n",
              "          await google.colab.kernel.invokeFunction('convertToInteractive',\n",
              "                                                    [key], {});\n",
              "        if (!dataTable) return;\n",
              "\n",
              "        const docLinkHtml = 'Like what you see? Visit the ' +\n",
              "          '<a target=\"_blank\" href=https://colab.research.google.com/notebooks/data_table.ipynb>data table notebook</a>'\n",
              "          + ' to learn more about interactive tables.';\n",
              "        element.innerHTML = '';\n",
              "        dataTable['output_type'] = 'display_data';\n",
              "        await google.colab.output.renderOutput(dataTable, element);\n",
              "        const docLink = document.createElement('div');\n",
              "        docLink.innerHTML = docLinkHtml;\n",
              "        element.appendChild(docLink);\n",
              "      }\n",
              "    </script>\n",
              "  </div>\n",
              "\n",
              "\n",
              "<div id=\"df-7d2c6edc-89ef-47c2-95eb-0342ef6578e7\">\n",
              "  <button class=\"colab-df-quickchart\" onclick=\"quickchart('df-7d2c6edc-89ef-47c2-95eb-0342ef6578e7')\"\n",
              "            title=\"Suggest charts\"\n",
              "            style=\"display:none;\">\n",
              "\n",
              "<svg xmlns=\"http://www.w3.org/2000/svg\" height=\"24px\"viewBox=\"0 0 24 24\"\n",
              "     width=\"24px\">\n",
              "    <g>\n",
              "        <path d=\"M19 3H5c-1.1 0-2 .9-2 2v14c0 1.1.9 2 2 2h14c1.1 0 2-.9 2-2V5c0-1.1-.9-2-2-2zM9 17H7v-7h2v7zm4 0h-2V7h2v10zm4 0h-2v-4h2v4z\"/>\n",
              "    </g>\n",
              "</svg>\n",
              "  </button>\n",
              "\n",
              "<style>\n",
              "  .colab-df-quickchart {\n",
              "      --bg-color: #E8F0FE;\n",
              "      --fill-color: #1967D2;\n",
              "      --hover-bg-color: #E2EBFA;\n",
              "      --hover-fill-color: #174EA6;\n",
              "      --disabled-fill-color: #AAA;\n",
              "      --disabled-bg-color: #DDD;\n",
              "  }\n",
              "\n",
              "  [theme=dark] .colab-df-quickchart {\n",
              "      --bg-color: #3B4455;\n",
              "      --fill-color: #D2E3FC;\n",
              "      --hover-bg-color: #434B5C;\n",
              "      --hover-fill-color: #FFFFFF;\n",
              "      --disabled-bg-color: #3B4455;\n",
              "      --disabled-fill-color: #666;\n",
              "  }\n",
              "\n",
              "  .colab-df-quickchart {\n",
              "    background-color: var(--bg-color);\n",
              "    border: none;\n",
              "    border-radius: 50%;\n",
              "    cursor: pointer;\n",
              "    display: none;\n",
              "    fill: var(--fill-color);\n",
              "    height: 32px;\n",
              "    padding: 0;\n",
              "    width: 32px;\n",
              "  }\n",
              "\n",
              "  .colab-df-quickchart:hover {\n",
              "    background-color: var(--hover-bg-color);\n",
              "    box-shadow: 0 1px 2px rgba(60, 64, 67, 0.3), 0 1px 3px 1px rgba(60, 64, 67, 0.15);\n",
              "    fill: var(--button-hover-fill-color);\n",
              "  }\n",
              "\n",
              "  .colab-df-quickchart-complete:disabled,\n",
              "  .colab-df-quickchart-complete:disabled:hover {\n",
              "    background-color: var(--disabled-bg-color);\n",
              "    fill: var(--disabled-fill-color);\n",
              "    box-shadow: none;\n",
              "  }\n",
              "\n",
              "  .colab-df-spinner {\n",
              "    border: 2px solid var(--fill-color);\n",
              "    border-color: transparent;\n",
              "    border-bottom-color: var(--fill-color);\n",
              "    animation:\n",
              "      spin 1s steps(1) infinite;\n",
              "  }\n",
              "\n",
              "  @keyframes spin {\n",
              "    0% {\n",
              "      border-color: transparent;\n",
              "      border-bottom-color: var(--fill-color);\n",
              "      border-left-color: var(--fill-color);\n",
              "    }\n",
              "    20% {\n",
              "      border-color: transparent;\n",
              "      border-left-color: var(--fill-color);\n",
              "      border-top-color: var(--fill-color);\n",
              "    }\n",
              "    30% {\n",
              "      border-color: transparent;\n",
              "      border-left-color: var(--fill-color);\n",
              "      border-top-color: var(--fill-color);\n",
              "      border-right-color: var(--fill-color);\n",
              "    }\n",
              "    40% {\n",
              "      border-color: transparent;\n",
              "      border-right-color: var(--fill-color);\n",
              "      border-top-color: var(--fill-color);\n",
              "    }\n",
              "    60% {\n",
              "      border-color: transparent;\n",
              "      border-right-color: var(--fill-color);\n",
              "    }\n",
              "    80% {\n",
              "      border-color: transparent;\n",
              "      border-right-color: var(--fill-color);\n",
              "      border-bottom-color: var(--fill-color);\n",
              "    }\n",
              "    90% {\n",
              "      border-color: transparent;\n",
              "      border-bottom-color: var(--fill-color);\n",
              "    }\n",
              "  }\n",
              "</style>\n",
              "\n",
              "  <script>\n",
              "    async function quickchart(key) {\n",
              "      const quickchartButtonEl =\n",
              "        document.querySelector('#' + key + ' button');\n",
              "      quickchartButtonEl.disabled = true;  // To prevent multiple clicks.\n",
              "      quickchartButtonEl.classList.add('colab-df-spinner');\n",
              "      try {\n",
              "        const charts = await google.colab.kernel.invokeFunction(\n",
              "            'suggestCharts', [key], {});\n",
              "      } catch (error) {\n",
              "        console.error('Error during call to suggestCharts:', error);\n",
              "      }\n",
              "      quickchartButtonEl.classList.remove('colab-df-spinner');\n",
              "      quickchartButtonEl.classList.add('colab-df-quickchart-complete');\n",
              "    }\n",
              "    (() => {\n",
              "      let quickchartButtonEl =\n",
              "        document.querySelector('#df-7d2c6edc-89ef-47c2-95eb-0342ef6578e7 button');\n",
              "      quickchartButtonEl.style.display =\n",
              "        google.colab.kernel.accessAllowed ? 'block' : 'none';\n",
              "    })();\n",
              "  </script>\n",
              "</div>\n",
              "\n",
              "    </div>\n",
              "  </div>\n"
            ]
          },
          "metadata": {},
          "execution_count": 40
        }
      ],
      "source": [
        "text_pd.head(2)"
      ]
    },
    {
      "cell_type": "code",
      "execution_count": null,
      "metadata": {
        "id": "K-u4g4M3CY_K"
      },
      "outputs": [],
      "source": [
        "text_pd = text_pd[text_pd['last_speaker'] == 'assistant']\n",
        "text_pd = text_pd[text_pd['convo_length'] % 2 == 0]\n",
        "\n",
        "text_pd = text_pd.reset_index()"
      ]
    },
    {
      "cell_type": "code",
      "execution_count": null,
      "metadata": {
        "colab": {
          "base_uri": "https://localhost:8080/",
          "height": 442
        },
        "id": "8x_6yMT4A4TF",
        "outputId": "884c3029-5c04-47e5-ebc5-ce06c38e7780"
      },
      "outputs": [
        {
          "output_type": "execute_result",
          "data": {
            "text/plain": [
              "<Axes: >"
            ]
          },
          "metadata": {},
          "execution_count": 42
        },
        {
          "output_type": "display_data",
          "data": {
            "text/plain": [
              "<Figure size 640x480 with 1 Axes>"
            ],
            "image/png": "[encoded data removed]"
          },
          "metadata": {}
        }
      ],
      "source": [
        "text_pd['convo_length'].value_counts().sort_index().plot.bar()"
      ]
    },
    {
      "cell_type": "code",
      "execution_count": null,
      "metadata": {
        "colab": {
          "base_uri": "https://localhost:8080/"
        },
        "id": "Jq-k3yt5Suf5",
        "outputId": "f32ef2f9-5ff8-4efb-bb24-5fac50a78451"
      },
      "outputs": [
        {
          "output_type": "execute_result",
          "data": {
            "text/plain": [
              "你好                                                                                                                             10\n",
              "Write a short story about a haunted house.                                                                                      4\n",
              "Generate five adjectives to describe a sunset.                                                                                  4\n",
              "Write a poem about the ocean.                                                                                                   4\n",
              "Hello                                                                                                                           4\n",
              "                                                                                                                               ..\n",
              "Write a letter of recommendation for a former coworker or employee.                                                             1\n",
              "Generate a paragraph on the topic of gun control laws.                                                                          1\n",
              "Edit the given paragraph to add descriptive adjectives. \"The room was large and empty with white walls and a wooden floor.\"     1\n",
              "Find and replace all instances of the word \"happy\" with the word \"jolly\" in a document.                                         1\n",
              "Generate five random verbs and use them in a sentence.                                                                          1\n",
              "Name: first_question, Length: 55465, dtype: int64"
            ]
          },
          "metadata": {},
          "execution_count": 44
        }
      ],
      "source": [
        "text_pd['first_question'] = text_pd['conversation'].apply(lambda x: x[0][1])\n",
        "text_pd['first_question'].value_counts()"
      ]
    },
    {
      "cell_type": "markdown",
      "metadata": {
        "id": "dbRVEH2r2lW1"
      },
      "source": [
        "# Filter out by language"
      ]
    },
    {
      "cell_type": "code",
      "execution_count": null,
      "metadata": {
        "id": "LwQnLokHGL16"
      },
      "outputs": [],
      "source": [
        "FILTER_EN = False"
      ]
    },
    {
      "cell_type": "code",
      "source": [
        "filtered_dataset = dataset.filter(lambda x: len(x['conversation'][0][1]) < 10)\n",
        "filtered_dataset"
      ],
      "metadata": {
        "colab": {
          "base_uri": "https://localhost:8080/",
          "height": 255,
          "referenced_widgets": [
            "9917750d40ae453b9b77098c4e8dc503",
            "e2d9a8df4e1e4044840a4b050f80b6db",
            "325183c51c284c51a6b01c55b488c147",
            "0b0e1e2da90644a384603639268a4025",
            "c135790244ff45deb391c8bc0fe29b16",
            "dc94a4c77625421aaef719adcc350cc6",
            "3a4a4acd631542c681a17f53204ff7ff",
            "1ffc65c204e544ca8df8adafce3a116c",
            "6edf4cb0c5394c3d9392506590474860",
            "7ad6d43a1a1142b292c032a8f6855d2b",
            "3049afb059ce4a9cab3e67a020a5ca68",
            "f97e71777fe44cbb8ea9c01ce3e2b0be",
            "292ead18fd054a42b608b8a343406e1c",
            "353f8698a6ae482295f322e81618bc8c",
            "af57c95593964a3f9d04b9fe68e1e49f",
            "9fcc164214f44f8193afa59396f9acf4",
            "0ec5524acbbb480fa5e0650ea2dcb95a",
            "5dd5ac0bce8247d8a860f0534d620ed2",
            "53983b8dfc4c477ea161e9e18adf7abf",
            "724fec3690f245508bcd8e1050d7db39",
            "fd22da28c60a48559ffdc84f016ddc26",
            "e447a46d807a47dabccbfd9fc5696a0b"
          ]
        },
        "id": "NHQBmUo5_qc6",
        "outputId": "7caaa37f-80e8-411d-ec1f-1d091b0ae8ce"
      },
      "execution_count": null,
      "outputs": [
        {
          "output_type": "display_data",
          "data": {
            "text/plain": [
              "Filter:   0%|          | 0/46837 [00:00<?, ? examples/s]"
            ],
            "application/vnd.jupyter.widget-view+json": {
              "version_major": 2,
              "version_minor": 0,
              "model_id": "9917750d40ae453b9b77098c4e8dc503"
            }
          },
          "metadata": {}
        },
        {
          "output_type": "display_data",
          "data": {
            "text/plain": [
              "Filter:   0%|          | 0/11710 [00:00<?, ? examples/s]"
            ],
            "application/vnd.jupyter.widget-view+json": {
              "version_major": 2,
              "version_minor": 0,
              "model_id": "f97e71777fe44cbb8ea9c01ce3e2b0be"
            }
          },
          "metadata": {}
        },
        {
          "output_type": "execute_result",
          "data": {
            "text/plain": [
              "DatasetDict({\n",
              "    train: Dataset({\n",
              "        features: ['conversation'],\n",
              "        num_rows: 137\n",
              "    })\n",
              "    test: Dataset({\n",
              "        features: ['conversation'],\n",
              "        num_rows: 36\n",
              "    })\n",
              "})"
            ]
          },
          "metadata": {},
          "execution_count": 56
        }
      ]
    },
    {
      "cell_type": "code",
      "execution_count": null,
      "metadata": {
        "colab": {
          "base_uri": "https://localhost:8080/",
          "height": 81,
          "referenced_widgets": [
            "8a904518a6b74066bfad2f0d8547fcf2",
            "390cc8722baa4a85b160a213ee67e638",
            "48ae69e9dcd94cd38cdfb0017d344a60",
            "b03a07143fef4002bfd8d2775fb6df91",
            "2b08c5f8836542c585fd6743597d3372",
            "8e436db037e2498784a72ffb89098daa",
            "f6391dba630648df93f16a9ebb00e8de",
            "2d3bc67f8f7d4daa99ffa321c87f469a",
            "907f8fa170c3415b89850b4f773abe51",
            "cd969f2b9a2a4361a8e6a3b2412d50a0",
            "9fec4cb4e617499797c22f4066a84159",
            "fb0547a37df0480a835ff884320b5872",
            "1537b98cba994caf89e162fd362617de",
            "c6824b9b1d234ed7ae0bdb1f782362d3",
            "3114e0520b0542d793690d293c29862a",
            "90a9354af0ef405d85bbfb306c1307ee",
            "d0a9e130d2dc4f5987b55630b79a6aa1",
            "96e76a8661dd4d41b78afb1df9ba873c",
            "a3c640613dc24cca96e76b15d5d6ce2c",
            "c21c5b415f9548cc9939afa115efc65f",
            "68bd434c9e5c4313bdd0147c7c4918ee",
            "60f6c225800743768b09a6efbbfeeec8"
          ]
        },
        "id": "22qh0FD5Tsvp",
        "outputId": "8d77569a-bfc5-45a4-ccfd-bb623b10eb59"
      },
      "outputs": [
        {
          "output_type": "display_data",
          "data": {
            "text/plain": [
              "Map:   0%|          | 0/137 [00:00<?, ? examples/s]"
            ],
            "application/vnd.jupyter.widget-view+json": {
              "version_major": 2,
              "version_minor": 0,
              "model_id": "8a904518a6b74066bfad2f0d8547fcf2"
            }
          },
          "metadata": {}
        },
        {
          "output_type": "display_data",
          "data": {
            "text/plain": [
              "Map:   0%|          | 0/36 [00:00<?, ? examples/s]"
            ],
            "application/vnd.jupyter.widget-view+json": {
              "version_major": 2,
              "version_minor": 0,
              "model_id": "fb0547a37df0480a835ff884320b5872"
            }
          },
          "metadata": {}
        }
      ],
      "source": [
        "from transformers import pipeline\n",
        "import pandas as pd\n",
        "from tqdm import tqdm\n",
        "\n",
        "# Define a function for batch processing\n",
        "def detect_language_in_batches(batch, batch_size=128):\n",
        "    batch_results = pipe([b[0][1] for b in batch['conversation']])\n",
        "    return {'lang': [b['label'] for b in batch_results]}\n",
        "\n",
        "# Apply the function to the DataFrame\n",
        "if FILTER_EN:\n",
        "    pipe = pipeline(\"text-classification\", model=\"papluca/xlm-roberta-base-language-detection\", truncation=True, max_length=64)\n",
        "    dataset = dataset.map(detect_language_in_batches, batch_size=128, batched=True)"
      ]
    },
    {
      "cell_type": "code",
      "execution_count": null,
      "metadata": {
        "colab": {
          "base_uri": "https://localhost:8080/",
          "height": 498
        },
        "id": "OTfEXSZ-RxyZ",
        "outputId": "6c598ad3-97a5-4cf7-b518-500d92aa21db"
      },
      "outputs": [
        {
          "output_type": "display_data",
          "data": {
            "text/plain": [
              "<Figure size 800x500 with 1 Axes>"
            ],
            "image/png": "[encoded data removed]"
          },
          "metadata": {}
        }
      ],
      "source": [
        "if FILTER_EN:\n",
        "    import matplotlib.pyplot as plt\n",
        "\n",
        "    # Filtering for English language\n",
        "\n",
        "    # Counting the occurrences of each language\n",
        "    lang_counts = pd.Series(filtered_dataset['train']['lang']).value_counts()\n",
        "\n",
        "    # Creating the bar plot\n",
        "    plt.figure(figsize=(8, 5))\n",
        "    lang_counts.plot.bar(color='teal', edgecolor='black')\n",
        "\n",
        "    # Adding titles and labels\n",
        "    plt.title('Frequency of Languages', fontsize=15)\n",
        "    plt.xlabel('Language', fontsize=12)\n",
        "    plt.ylabel('Count', fontsize=12)\n",
        "\n",
        "    # Adding grid for better readability\n",
        "    plt.grid(axis='y', linestyle='--', alpha=0.7)\n",
        "\n",
        "    # Displaying the plot\n",
        "    plt.show()\n"
      ]
    },
    {
      "cell_type": "code",
      "source": [
        "if FILTER_EN:\n",
        "    dataset = dataset.filter(lambda x: x['lang'] == 'en')"
      ],
      "metadata": {
        "id": "snbcZIG1w3qn"
      },
      "execution_count": null,
      "outputs": []
    },
    {
      "cell_type": "code",
      "execution_count": null,
      "metadata": {
        "id": "lMyHzdUWNxOt"
      },
      "outputs": [],
      "source": [
        "def join_convo(conversation):\n",
        "    convo = ''''''\n",
        "    last_speaker = None\n",
        "    for speaker, message in conversation:\n",
        "        last_speaker = speaker\n",
        "        if speaker == 'human':\n",
        "            convo += f\"{EXTRA_TOKENS['human_token']['token']} {message} \"\n",
        "        elif speaker == 'assistant':\n",
        "            convo += f\"{EXTRA_TOKENS['bot_token']['token']} {message} \"\n",
        "    if last_speaker == 'human':\n",
        "        return convo.strip() + f\" {EXTRA_TOKENS['bot_token']['token']}\"\n",
        "    return convo.strip() + f\" {EXTRA_TOKENS['stop_token']['token']}\"\n",
        "\n",
        "text_pd['text'] = text_pd['conversation'].apply(join_convo)"
      ]
    },
    {
      "cell_type": "code",
      "execution_count": null,
      "metadata": {
        "colab": {
          "base_uri": "https://localhost:8080/"
        },
        "id": "hz-lGvNLNxOt",
        "outputId": "4d2f3217-e030-491f-8189-e62ffb653da1"
      },
      "outputs": [
        {
          "output_type": "execute_result",
          "data": {
            "text/plain": [
              "[['human', 'Cuéntame un chiste sobre un tomate y algo más'],\n",
              " ['assistant',\n",
              "  'Esto es un tomate que está haciendo el ridículo y otro tomate le grita: TE ESTÁS PONIENDO COMO UN HUMANO!']]"
            ]
          },
          "metadata": {},
          "execution_count": 86
        }
      ],
      "source": [
        "dataset['train'][0]['conversation']"
      ]
    },
    {
      "cell_type": "code",
      "execution_count": null,
      "metadata": {
        "id": "Nkx6I_K8RGgr"
      },
      "outputs": [],
      "source": [
        "model.generation_config.do_sample = True\n",
        "model.config.use_cache = False\n",
        "# \"Setting pretraining_tp to a value different than 1 will activate the more accurate but slower computation of the linear layers, which should better match the original logits.\"\n",
        "model.config.pretraining_tp = 1"
      ]
    },
    {
      "cell_type": "code",
      "execution_count": null,
      "metadata": {
        "colab": {
          "base_uri": "https://localhost:8080/"
        },
        "id": "S0ke6TqgFu36",
        "outputId": "81e929b7-87a9-402a-914a-9070a311bc03"
      },
      "outputs": [
        {
          "output_type": "stream",
          "name": "stdout",
          "text": [
            "###HUMAN### Who was the first president of the USA? ###BOT###\n"
          ]
        }
      ],
      "source": [
        "print(join_convo([['human', \"Who was the first president of the USA?\"]]))"
      ]
    },
    {
      "cell_type": "code",
      "execution_count": null,
      "metadata": {
        "id": "7NoI2dXlRGgt"
      },
      "outputs": [],
      "source": [
        "# Load LoRA configuration to make training much more efficient\n",
        "peft_args = LoraConfig(\n",
        "    lora_alpha=32,\n",
        "    lora_dropout=0.05,\n",
        "    r=128,\n",
        "    bias=\"none\",\n",
        "    task_type=\"CAUSAL_LM\",\n",
        ")\n",
        "\n",
        "model = get_peft_model(model, peft_args)"
      ]
    },
    {
      "cell_type": "code",
      "execution_count": null,
      "metadata": {
        "colab": {
          "base_uri": "https://localhost:8080/"
        },
        "id": "kIRENIvl7w7B",
        "outputId": "f0bf250b-515f-4abb-ddfa-6a18f9427fc5"
      },
      "outputs": [
        {
          "output_type": "stream",
          "name": "stdout",
          "text": [
            "trainable params: 67,108,864 || all params: 6,805,549,056 || trainable%: 0.9860903719566105\n"
          ]
        }
      ],
      "source": [
        "model.print_trainable_parameters()"
      ]
    },
    {
      "cell_type": "markdown",
      "metadata": {
        "id": "aAIpv3tNRnHz"
      },
      "source": [
        "# Before"
      ]
    },
    {
      "cell_type": "code",
      "execution_count": null,
      "metadata": {
        "colab": {
          "base_uri": "https://localhost:8080/",
          "height": 107
        },
        "id": "6NHYn2KQMm0S",
        "outputId": "5e3b4531-eb18-4391-a893-dc1eb0f817e5"
      },
      "outputs": [
        {
          "output_type": "stream",
          "name": "stderr",
          "text": [
            "/usr/local/lib/python3.10/dist-packages/transformers/generation/utils.py:1591: UserWarning: You are calling .generate() with the `input_ids` being on a device type different than your model's device. `input_ids` is on cpu, whereas the model is on cuda. You may experience unexpected behaviors or slower generation. Please make sure that you have put `input_ids` to the correct device by calling for example input_ids = input_ids.to('cuda') before running `.generate()`.\n",
            "  warnings.warn(\n"
          ]
        },
        {
          "output_type": "execute_result",
          "data": {
            "text/plain": [
              "'<s>###HUMAN### Who was the first president of the USA?###BOT###,###HUMAN###,###HUMAN###, Yes, Yes, Yes, Yes, Yes, Yes, Yes, Yes, Yes, Yes, Yes, Yes, Yes, Yes, Yes, Yes, Yes, Yes, Yes, Yes, Yes, Yes, Yes, Yes'"
            ],
            "application/vnd.google.colaboratory.intrinsic+json": {
              "type": "string"
            }
          },
          "metadata": {},
          "execution_count": 91
        }
      ],
      "source": [
        "tokenizer.decode(\n",
        "    model.generate(\n",
        "        **tokenizer(join_convo([['human', \"Who was the first president of the USA?\"]]), return_tensors='pt'),\n",
        "        max_length=64,\n",
        "        eos_token_id=EXTRA_TOKENS['stop_token']['token_id']\n",
        "        )[0]\n",
        "    )"
      ]
    },
    {
      "cell_type": "code",
      "source": [
        "dataset = dataset.map(lambda x: {'text': join_convo(x['conversation'])})\n",
        "\n",
        "dataset['train'][0]"
      ],
      "metadata": {
        "colab": {
          "base_uri": "https://localhost:8080/",
          "height": 168,
          "referenced_widgets": [
            "806bdb6206904b38915a145652f5aad2",
            "3438da42e0074e00a8e02f9e3634957a",
            "497b3b9a2e854d5e9e760ada2b1943bd",
            "c8605d02e2534d43a086ec3c8fdbc002",
            "52f288dc2a0e48bdac6444663e8fb622",
            "db6c8e8bde2745f1919c2b147cd55fda",
            "582e256adb6b4f86ad9fbfdf8ea1da1c",
            "74597f2477c74fc084745f78b571f5e9",
            "3914d598ef77415b8bb78b3cca935aaa",
            "2d3a2ed659e74448be042810b41e858b",
            "3a2a2d0f47f04fb5928d51664bf1f8b2",
            "0735426976e948c1bbd57d10a779ec7f",
            "2a42b72898a74616a384c887bf9eb0df",
            "3f50d096d252459488cee306ab905862",
            "a44679e412ed4f7c8a1c8ce81236a966",
            "91e6143cb39044879907c340836dd382",
            "916cbf61872d4f1a9ad894476aece89e",
            "a2914a0d388747898890da5a88aa4722",
            "85ccc09fc0314ec6b8947bd7845acc6d",
            "60b565181e5c490c93348d4f9ccd8c75",
            "820454062c074bbbb361d64a6be48007",
            "f68bbea32967482ba3d7b755d636e4c1"
          ]
        },
        "id": "L0h9ERFgCXNx",
        "outputId": "3bbcfb95-6281-44d2-d8de-57443c311327"
      },
      "execution_count": null,
      "outputs": [
        {
          "output_type": "display_data",
          "data": {
            "text/plain": [
              "Map:   0%|          | 0/46837 [00:00<?, ? examples/s]"
            ],
            "application/vnd.jupyter.widget-view+json": {
              "version_major": 2,
              "version_minor": 0,
              "model_id": "806bdb6206904b38915a145652f5aad2"
            }
          },
          "metadata": {}
        },
        {
          "output_type": "display_data",
          "data": {
            "text/plain": [
              "Map:   0%|          | 0/11710 [00:00<?, ? examples/s]"
            ],
            "application/vnd.jupyter.widget-view+json": {
              "version_major": 2,
              "version_minor": 0,
              "model_id": "0735426976e948c1bbd57d10a779ec7f"
            }
          },
          "metadata": {}
        },
        {
          "output_type": "execute_result",
          "data": {
            "text/plain": [
              "{'conversation': [['human', 'Cuéntame un chiste sobre un tomate y algo más'],\n",
              "  ['assistant',\n",
              "   'Esto es un tomate que está haciendo el ridículo y otro tomate le grita: TE ESTÁS PONIENDO COMO UN HUMANO!']],\n",
              " 'text': '###HUMAN### Cuéntame un chiste sobre un tomate y algo más ###BOT### Esto es un tomate que está haciendo el ridículo y otro tomate le grita: TE ESTÁS PONIENDO COMO UN HUMANO! ###STOP###'}"
            ]
          },
          "metadata": {},
          "execution_count": 95
        }
      ]
    },
    {
      "cell_type": "code",
      "execution_count": null,
      "metadata": {
        "colab": {
          "referenced_widgets": [
            "c956a05c67bc40c29f9f4f71a73fd3e9",
            "64ffd9ea03ac49c09ce74268e2b13224",
            "1e4a8fe1a18c4d6ab6e02492aa146379",
            "2415a201ace14c739455300e22ecff98",
            "cc85663d77c54c41964f8780b99aa4e2",
            "fb678aacc45d4842ba6e132fdafe807c",
            "9858e2ed52d14907a192e7fa4d167cc2",
            "3c294275648c44ea92cacef17f35709d",
            "49e27a7176d64cc7876c945687035242",
            "8ca4f4f99ee844c5bd7b76f98295d146",
            "e3a40ab052734109bc0044417af0658c",
            "bdd8c3bc106d4fd7add58cd4c7f483e6",
            "ee252fd1caaf4d0994a5ea80415ea408",
            "9dd5a60573294158bc1526385ca70e24",
            "6ed6f462a609469abac57cc7f0602d14",
            "186ec57306b7429e9887f61380c220b7",
            "135ccd6616944a8b8dda0911c978324f",
            "208aae08bc934794b6bf4f4f11144351",
            "00bae31af28146a7a3bb2288273918ad",
            "f67977a6be784f70947ff9527bb069fb",
            "881d6bf0a27b46d484e3088850102e6f",
            "5bee8950fa9d4cd6ad230a6fc426e679"
          ],
          "base_uri": "https://localhost:8080/",
          "height": 81
        },
        "id": "SnOHo12FJ2ye",
        "outputId": "8b1caae3-4d41-459e-8d17-083b9f869231"
      },
      "outputs": [
        {
          "output_type": "display_data",
          "data": {
            "text/plain": [
              "Map:   0%|          | 0/46837 [00:00<?, ? examples/s]"
            ],
            "application/vnd.jupyter.widget-view+json": {
              "version_major": 2,
              "version_minor": 0,
              "model_id": "c956a05c67bc40c29f9f4f71a73fd3e9"
            }
          },
          "metadata": {}
        },
        {
          "output_type": "display_data",
          "data": {
            "text/plain": [
              "Map:   0%|          | 0/11710 [00:00<?, ? examples/s]"
            ],
            "application/vnd.jupyter.widget-view+json": {
              "version_major": 2,
              "version_minor": 0,
              "model_id": "bdd8c3bc106d4fd7add58cd4c7f483e6"
            }
          },
          "metadata": {}
        }
      ],
      "source": [
        "dataset = dataset.map(lambda x: tokenizer(x['text']))"
      ]
    },
    {
      "cell_type": "code",
      "execution_count": null,
      "metadata": {
        "id": "xAfH84Q1798B"
      },
      "outputs": [],
      "source": [
        "# zero out loss before the final response token\n",
        "\n",
        "class DataCollatorForCompletionOnlyLM(DataCollatorForLanguageModeling):\n",
        "\n",
        "    def torch_call(self, examples):\n",
        "        self.tokenizer.pad(examples, return_tensors=\"pt\", pad_to_multiple_of=self.pad_to_multiple_of)\n",
        "        batch = super().torch_call(examples)\n",
        "        response_token_id = EXTRA_TOKENS['bot_token']['token_id']\n",
        "\n",
        "        labels = batch[\"input_ids\"].clone()\n",
        "        for i in range(len(examples)):\n",
        "            tokens = batch[\"input_ids\"].clone().tolist()[i]\n",
        "            if tokens.count(response_token_id) == 0:\n",
        "                print(tokens)\n",
        "            up_until = len(tokens) - 1 - tokens[::-1].index(response_token_id)\n",
        "            labels[i, :up_until + 1] = -100\n",
        "\n",
        "\n",
        "        batch[\"labels\"] = labels\n",
        "\n",
        "        return batch\n",
        "\n",
        "data_collator = DataCollatorForCompletionOnlyLM(\n",
        "    tokenizer=tokenizer, mlm=False, return_tensors=\"pt\"\n",
        ")"
      ]
    },
    {
      "cell_type": "code",
      "execution_count": null,
      "metadata": {
        "id": "PBRN_aBcHebH",
        "colab": {
          "base_uri": "https://localhost:8080/"
        },
        "outputId": "9c47f8ae-5683-4067-b8f3-103f4ce5840c"
      },
      "outputs": [
        {
          "output_type": "stream",
          "name": "stdout",
          "text": [
            "tensor([[    2,     2,     2,     2,     2,     2,     2,     2,     2,     2,\n",
            "             2,     2,     2,     2,     2,     2,     2,     2,     2,     2,\n",
            "             2,     2,     2,     2,     2,     2,     2,     2,     2,     2,\n",
            "             2,     2,     2,     2,     2,     2,     2,     2,     2,     2,\n",
            "             2,     2,     2,     2,     2,     2,     2,     2,     2,     2,\n",
            "             2,     2,     2,     2,     2,     2,     2,     2,     2,     2,\n",
            "             2,     2,     2,     2,     2,     2,     2,     2,     2,     2,\n",
            "             2,     2,     2,     2,     2,     2,     2,     2,     2,     2,\n",
            "             2,     2,     2,     2,     2,     2,     2,     2,     2,     2,\n",
            "             2,     2,     2,     2,     2,     2,     2,     2,     2,     2,\n",
            "             2,     2,     2,     2,     2,     2,     2,     2,     2,     2,\n",
            "             2,     2,     2,     2,     2,     2,     2,     2,     2,     2,\n",
            "             2,     2,     2,     2,     2,     2,     2,     2,     2,     2,\n",
            "             2,     2,     2,     2,     2,     2,     2,     2,     2,     2,\n",
            "             2,     2,     2,     2,     2,     2,     2,     2,     2,     2,\n",
            "             2,     2,     2,     2,     2,     2,     2,     2,     2,     2,\n",
            "             2,     2,     2,     2,     2,     2,     2,     2,     2,     2,\n",
            "             2,     2,     2,     2,     2,     2,     2,     2,     2,     2,\n",
            "             2,     2,     2,     2,     2,     2,     2,     2,     2,     2,\n",
            "             2,     2,     2,     2,     2,     2,     2,     2,     2,     2,\n",
            "             2,     2,     2,     2,     2,     2,     2,     2,     2,     2,\n",
            "             2,     2,     2,     2,     2,     2,     2,     2,     2,     2,\n",
            "             2,     2,     2,     2,     2,     2,     2,     2,     2,     2,\n",
            "             2,     2,     2,     2,     2,     2,     2,     2,     2,     2,\n",
            "             2,     2,     2,     2,     2,     2,     2,     2,     2,     2,\n",
            "             2,     2,     2,     2,     2,     2,     2,     2,     2,     2,\n",
            "             2,     2,     2,     2,     2,     2,     2,     2,     2,     2,\n",
            "             2,     2,     2,     2,     2,     2,     2,     2,     2,     2,\n",
            "             2,     2,     2,     2,     2,     2,     2,     2,     2,     2,\n",
            "             2,     2,     2,     2,     2,     1, 32001, 10406, 29463,   420,\n",
            "           443,   521,  2488,  4166,   443,  6454,   403,   343, 24673,  3627,\n",
            "         32002,  2661, 29877,   831,   443,  6454,   403,   712,  7919,   447,\n",
            "         27182,   560,  8177, 21825,   343, 16994,  6454,   403,   454,   330,\n",
            "         27250, 29901, 17067,   382,  1254, 30102, 29903,   349,  1164, 29902,\n",
            "          1430,  3970,  4810,  6720,  8291,   379, 29965,  1529,  6632, 29991,\n",
            "         32000],\n",
            "        [    1, 32001, 14350,   263,  5497,  5052,  2548,  4856,   363,   263,\n",
            "          4982, 29889, 32002,   360,   799,   379,  8491, 15629, 29892,    13,\n",
            "            13, 29902,   626,  5007,   304, 10712,  6907,   518,  1170, 29962,\n",
            "           363,   518, 11947,  2602,  1822,   306,   505,   750,   278, 15377,\n",
            "           310,  1985, 16467,   411,   518,  1170, 29962,   363,   518, 19708,\n",
            "         29962,   472,   518, 14518, 29914,  6388,  2133,  1402,   322,   505,\n",
            "         16277,   287,  1009,  3682,   284,   664, 11314,   293, 29892,  3682,\n",
            "           284, 19911,   731, 29892,   322,  3041,   522,  2738,  6374, 26309,\n",
            "         29889,    13,    13, 29928,  3864,  1749,   931,  4208, 29892,   306,\n",
            "           505,  8900,   518,  1170, 29962,  5718,  2705,   748,  2038,   322,\n",
            "          8724,   825,   338,  3806, 29892, 12021,   292, 11029,   664,  1550,\n",
            "          7344,   292,   263,  1880,  3233,   310, 10257,  1608, 29889,   518,\n",
            "          3868, 29914, 13468, 29962,  3119, 15322,  4549,  1108, 29899,  2929,\n",
            "          1747, 25078,   322,   338,  2221,   304,  1348,   373,   518, 22880,\n",
            "         29914,  2276, 29962,  6900, 29892,  7744,   292,  9098,   304,  3620,\n",
            "           297,   278,   664,  6689, 29889,   518,  1170, 29962,   338,   884,\n",
            "         14154, 19098, 29892,  9493, 29899, 12236,   287, 29892,   322,   756,\n",
            "           263, 28430, 10977,   363,  2893,  9215,   322, 17069,   297, 29872,\n",
            "          2416,   819,  2478,   304,  4840,  1220, 10174,   322, 11157,  3234,\n",
            "          2068, 29889,    13,    13, 20761,   957, 29892,   518,  1170, 29962,\n",
            "           338,   385, 15129,  7212,  1061,   322,  3815,  4847,  1058,  9926,\n",
            "           414,   263,  6374,   664,  5177, 29889,   518,  3868, 29914, 13468,\n",
            "         29962,  4893,   278, 14511,  1230,   304,  6232,  7134,   322, 17924,\n",
            "           895,   411,  4045,   322,   338,  2337, 17762,   304,   301,   355,\n",
            "           263, 19912,  1361,   304,  3815, 29885,  1078, 29889,   518,  1170,\n",
            "         29962,   884,   756,   263,   889,   547,   363,  5214,  4549, 21702,\n",
            "           411, 23056, 21628, 29892, 13154, 29892,   322,   380,  1296,  8948,\n",
            "           414, 29892,  3907,   518, 26994, 29914,  2276, 29962,   263, 21114,\n",
            "         24342,   304,   738, 13013, 29889,    13,    13, 29902,   626, 24332,\n",
            "           393,   518,  1170, 29962,   674,   367,   385,   714, 11235,  6124,\n",
            "           304,   596,  3815, 29892,   322,   306, 10712,  6907,   518, 26994,\n",
            "         29914,  2276, 29962,   363,   278,  4982,   310,   518, 11947,  2602,\n",
            "          1822,  3529,  4459,  3889,   304,  6958,   592,   565,   366,  1996,\n",
            "           738,  4340,  2472,   470,  7542,  2450, 29889,    13,    13, 29903,\n",
            "           262,  2265,   873, 29892,    13,    13, 29961, 10858,  4408, 29962,\n",
            "         32000]])\n",
            "tensor([[ -100,  -100,  -100,  -100,  -100,  -100,  -100,  -100,  -100,  -100,\n",
            "          -100,  -100,  -100,  -100,  -100,  -100,  -100,  -100,  -100,  -100,\n",
            "          -100,  -100,  -100,  -100,  -100,  -100,  -100,  -100,  -100,  -100,\n",
            "          -100,  -100,  -100,  -100,  -100,  -100,  -100,  -100,  -100,  -100,\n",
            "          -100,  -100,  -100,  -100,  -100,  -100,  -100,  -100,  -100,  -100,\n",
            "          -100,  -100,  -100,  -100,  -100,  -100,  -100,  -100,  -100,  -100,\n",
            "          -100,  -100,  -100,  -100,  -100,  -100,  -100,  -100,  -100,  -100,\n",
            "          -100,  -100,  -100,  -100,  -100,  -100,  -100,  -100,  -100,  -100,\n",
            "          -100,  -100,  -100,  -100,  -100,  -100,  -100,  -100,  -100,  -100,\n",
            "          -100,  -100,  -100,  -100,  -100,  -100,  -100,  -100,  -100,  -100,\n",
            "          -100,  -100,  -100,  -100,  -100,  -100,  -100,  -100,  -100,  -100,\n",
            "          -100,  -100,  -100,  -100,  -100,  -100,  -100,  -100,  -100,  -100,\n",
            "          -100,  -100,  -100,  -100,  -100,  -100,  -100,  -100,  -100,  -100,\n",
            "          -100,  -100,  -100,  -100,  -100,  -100,  -100,  -100,  -100,  -100,\n",
            "          -100,  -100,  -100,  -100,  -100,  -100,  -100,  -100,  -100,  -100,\n",
            "          -100,  -100,  -100,  -100,  -100,  -100,  -100,  -100,  -100,  -100,\n",
            "          -100,  -100,  -100,  -100,  -100,  -100,  -100,  -100,  -100,  -100,\n",
            "          -100,  -100,  -100,  -100,  -100,  -100,  -100,  -100,  -100,  -100,\n",
            "          -100,  -100,  -100,  -100,  -100,  -100,  -100,  -100,  -100,  -100,\n",
            "          -100,  -100,  -100,  -100,  -100,  -100,  -100,  -100,  -100,  -100,\n",
            "          -100,  -100,  -100,  -100,  -100,  -100,  -100,  -100,  -100,  -100,\n",
            "          -100,  -100,  -100,  -100,  -100,  -100,  -100,  -100,  -100,  -100,\n",
            "          -100,  -100,  -100,  -100,  -100,  -100,  -100,  -100,  -100,  -100,\n",
            "          -100,  -100,  -100,  -100,  -100,  -100,  -100,  -100,  -100,  -100,\n",
            "          -100,  -100,  -100,  -100,  -100,  -100,  -100,  -100,  -100,  -100,\n",
            "          -100,  -100,  -100,  -100,  -100,  -100,  -100,  -100,  -100,  -100,\n",
            "          -100,  -100,  -100,  -100,  -100,  -100,  -100,  -100,  -100,  -100,\n",
            "          -100,  -100,  -100,  -100,  -100,  -100,  -100,  -100,  -100,  -100,\n",
            "          -100,  -100,  -100,  -100,  -100,  -100,  -100,  -100,  -100,  -100,\n",
            "          -100,  -100,  -100,  -100,  -100,  -100,  -100,  -100,  -100,  -100,\n",
            "          -100,  -100,  -100,  -100,  -100,  -100,  -100,  -100,  -100,  -100,\n",
            "          -100,  2661, 29877,   831,   443,  6454,   403,   712,  7919,   447,\n",
            "         27182,   560,  8177, 21825,   343, 16994,  6454,   403,   454,   330,\n",
            "         27250, 29901, 17067,   382,  1254, 30102, 29903,   349,  1164, 29902,\n",
            "          1430,  3970,  4810,  6720,  8291,   379, 29965,  1529,  6632, 29991,\n",
            "         32000],\n",
            "        [ -100,  -100,  -100,  -100,  -100,  -100,  -100,  -100,  -100,  -100,\n",
            "          -100,  -100,  -100,   360,   799,   379,  8491, 15629, 29892,    13,\n",
            "            13, 29902,   626,  5007,   304, 10712,  6907,   518,  1170, 29962,\n",
            "           363,   518, 11947,  2602,  1822,   306,   505,   750,   278, 15377,\n",
            "           310,  1985, 16467,   411,   518,  1170, 29962,   363,   518, 19708,\n",
            "         29962,   472,   518, 14518, 29914,  6388,  2133,  1402,   322,   505,\n",
            "         16277,   287,  1009,  3682,   284,   664, 11314,   293, 29892,  3682,\n",
            "           284, 19911,   731, 29892,   322,  3041,   522,  2738,  6374, 26309,\n",
            "         29889,    13,    13, 29928,  3864,  1749,   931,  4208, 29892,   306,\n",
            "           505,  8900,   518,  1170, 29962,  5718,  2705,   748,  2038,   322,\n",
            "          8724,   825,   338,  3806, 29892, 12021,   292, 11029,   664,  1550,\n",
            "          7344,   292,   263,  1880,  3233,   310, 10257,  1608, 29889,   518,\n",
            "          3868, 29914, 13468, 29962,  3119, 15322,  4549,  1108, 29899,  2929,\n",
            "          1747, 25078,   322,   338,  2221,   304,  1348,   373,   518, 22880,\n",
            "         29914,  2276, 29962,  6900, 29892,  7744,   292,  9098,   304,  3620,\n",
            "           297,   278,   664,  6689, 29889,   518,  1170, 29962,   338,   884,\n",
            "         14154, 19098, 29892,  9493, 29899, 12236,   287, 29892,   322,   756,\n",
            "           263, 28430, 10977,   363,  2893,  9215,   322, 17069,   297, 29872,\n",
            "          2416,   819,  2478,   304,  4840,  1220, 10174,   322, 11157,  3234,\n",
            "          2068, 29889,    13,    13, 20761,   957, 29892,   518,  1170, 29962,\n",
            "           338,   385, 15129,  7212,  1061,   322,  3815,  4847,  1058,  9926,\n",
            "           414,   263,  6374,   664,  5177, 29889,   518,  3868, 29914, 13468,\n",
            "         29962,  4893,   278, 14511,  1230,   304,  6232,  7134,   322, 17924,\n",
            "           895,   411,  4045,   322,   338,  2337, 17762,   304,   301,   355,\n",
            "           263, 19912,  1361,   304,  3815, 29885,  1078, 29889,   518,  1170,\n",
            "         29962,   884,   756,   263,   889,   547,   363,  5214,  4549, 21702,\n",
            "           411, 23056, 21628, 29892, 13154, 29892,   322,   380,  1296,  8948,\n",
            "           414, 29892,  3907,   518, 26994, 29914,  2276, 29962,   263, 21114,\n",
            "         24342,   304,   738, 13013, 29889,    13,    13, 29902,   626, 24332,\n",
            "           393,   518,  1170, 29962,   674,   367,   385,   714, 11235,  6124,\n",
            "           304,   596,  3815, 29892,   322,   306, 10712,  6907,   518, 26994,\n",
            "         29914,  2276, 29962,   363,   278,  4982,   310,   518, 11947,  2602,\n",
            "          1822,  3529,  4459,  3889,   304,  6958,   592,   565,   366,  1996,\n",
            "           738,  4340,  2472,   470,  7542,  2450, 29889,    13,    13, 29903,\n",
            "           262,  2265,   873, 29892,    13,    13, 29961, 10858,  4408, 29962,\n",
            "         32000]])\n"
          ]
        }
      ],
      "source": [
        "batch = data_collator(\n",
        "    [\n",
        "        dataset.select_columns(['input_ids', 'attention_mask'])['train'][0],\n",
        "        dataset.select_columns(['input_ids', 'attention_mask'])['train'][1]\n",
        "    ]\n",
        ")\n",
        "print(batch['input_ids'])\n",
        "print(batch['labels'])"
      ]
    },
    {
      "cell_type": "code",
      "execution_count": null,
      "metadata": {
        "colab": {
          "base_uri": "https://localhost:8080/",
          "height": 139
        },
        "id": "85Q9wraDHe5-",
        "outputId": "d97b1898-9d7a-4164-c27a-0b211410303f"
      },
      "outputs": [
        {
          "output_type": "execute_result",
          "data": {
            "text/plain": [
              "'Dear Hiring Manager,\\n\\nI am writing to highly recommend [Name] for [Job position]. I have had the pleasure of working closely with [Name] for [duration] at [company/organization], and have witnessed their exceptional work ethic, exceptional skill set, and infectious positive attitude.\\n\\nDuring our time together, I have observed [Name] consistently go above and beyond what is expected, delivering quality work while maintaining a high level of professionalism. [He/She] possesses strong problem-solving skills and is able to think on [his/her] feet, adapting quickly to changes in the workplace. [Name] is also extremely organized, detail-oriented, and has a keen eye for identifying and solving inefficiencies to streamline processes and improve productivity.\\n\\nMoreover, [Name] is an excellent communicator and team player who fosters a positive work environment. [He/She] takes the initiative to share knowledge and expertise with others and is always willing to lend a helping hand to teammates. [Name] also has a knack for building strong relationships with colleagues, clients, and stakeholders, making [him/her] a valuable asset to any organization.\\n\\nI am confident that [Name] will be an outstanding addition to your team, and I highly recommend [him/her] for the job of [Job position]. Please feel free to contact me if you require any further information or clarification.\\n\\nSincerely,\\n\\n[Your Name]###STOP###'"
            ],
            "application/vnd.google.colaboratory.intrinsic+json": {
              "type": "string"
            }
          },
          "metadata": {},
          "execution_count": 100
        }
      ],
      "source": [
        "# get batch['labels'] that aren't -100\n",
        "tokenizer.decode(batch['labels'][1][batch['labels'][1] != -100])"
      ]
    },
    {
      "cell_type": "code",
      "execution_count": null,
      "metadata": {
        "colab": {
          "base_uri": "https://localhost:8080/",
          "height": 447
        },
        "id": "wTk3Ej3jNxOv",
        "outputId": "230671c0-ac17-4c91-ca60-bef936146fa4"
      },
      "outputs": [
        {
          "output_type": "execute_result",
          "data": {
            "text/plain": [
              "<Axes: >"
            ]
          },
          "metadata": {},
          "execution_count": 101
        },
        {
          "output_type": "display_data",
          "data": {
            "text/plain": [
              "<Figure size 640x480 with 1 Axes>"
            ],
            "image/png": "[encoded data removed]"
          },
          "metadata": {}
        }
      ],
      "source": [
        "pd.Series([len(x) for x in dataset['train']['input_ids']]).hist()"
      ]
    },
    {
      "cell_type": "code",
      "execution_count": null,
      "metadata": {
        "colab": {
          "base_uri": "https://localhost:8080/",
          "height": 255,
          "referenced_widgets": [
            "c09b933c86f74aca96ad32eb91c86b5d",
            "cfb492ea09ab49dda95675fdf9b9bb13",
            "4e7d67d04dba424b9bbb2fe9b76e9121",
            "0e88159554a1497ca7437428214171d1",
            "cde48cd98f18469c980a7e310197df56",
            "1891cb5bfa354acdacd34686078bbac5",
            "104bd2fee3ed47cfab72c5dd3c857374",
            "1cec97391c8b414ab910a6fe124f2dc5",
            "7a11c802db3f4379a922a3ea8d525adf",
            "cbd70acf18764874b63e06b1c85d92c2",
            "37b1f4cc6c214afb8be9d10dda980865",
            "09f7f6e7c96b4028a7b0d0671b04571f",
            "4c4895fbef5842f2a141f3583025a308",
            "0e6612e9abc54c00877db2ff9b13b61b",
            "580ab18299ae4add9c90544cb0ce1788",
            "c678dc56dd6e4ae1a0e0f152d3f7ead5",
            "70df5c331e4843a9b133c54ebcc78313",
            "6f081cb3e2434378974d9b646cdcac2a",
            "0be10e32e4444ba88480d18c2593d7c5",
            "2aa93f3c7fc24aa680d942177212ed63",
            "9c091916aeb649f881ef7b27c35011a7",
            "0a7f5d699a6049798e7dd7ae456d2e4a"
          ]
        },
        "id": "q57odw6iNxOw",
        "outputId": "b73f926a-46ae-444e-f450-5fd236bcf532"
      },
      "outputs": [
        {
          "output_type": "display_data",
          "data": {
            "text/plain": [
              "Filter:   0%|          | 0/46837 [00:00<?, ? examples/s]"
            ],
            "application/vnd.jupyter.widget-view+json": {
              "version_major": 2,
              "version_minor": 0,
              "model_id": "c09b933c86f74aca96ad32eb91c86b5d"
            }
          },
          "metadata": {}
        },
        {
          "output_type": "display_data",
          "data": {
            "text/plain": [
              "Filter:   0%|          | 0/11710 [00:00<?, ? examples/s]"
            ],
            "application/vnd.jupyter.widget-view+json": {
              "version_major": 2,
              "version_minor": 0,
              "model_id": "09f7f6e7c96b4028a7b0d0671b04571f"
            }
          },
          "metadata": {}
        },
        {
          "output_type": "execute_result",
          "data": {
            "text/plain": [
              "DatasetDict({\n",
              "    train: Dataset({\n",
              "        features: ['conversation', 'text', 'input_ids', 'attention_mask'],\n",
              "        num_rows: 46330\n",
              "    })\n",
              "    test: Dataset({\n",
              "        features: ['conversation', 'text', 'input_ids', 'attention_mask'],\n",
              "        num_rows: 11596\n",
              "    })\n",
              "})"
            ]
          },
          "metadata": {},
          "execution_count": 102
        }
      ],
      "source": [
        "# remove elements that are too long for the LLM\n",
        "dataset = dataset.filter(\n",
        "    # lambda x: len(x['input_ids']) < model.config.max_position_embeddings\n",
        "    lambda x: len(x['input_ids']) < 1024  # truncating a lot for memory\n",
        "    )\n",
        "dataset"
      ]
    },
    {
      "cell_type": "code",
      "source": [
        "pd.Series([len(x) for x in dataset['train']['input_ids']]).hist()"
      ],
      "metadata": {
        "colab": {
          "base_uri": "https://localhost:8080/",
          "height": 447
        },
        "id": "2poRf2-TD-aS",
        "outputId": "7ca12e21-8c2b-4e78-fa3c-2a2d1dc658c0"
      },
      "execution_count": null,
      "outputs": [
        {
          "output_type": "execute_result",
          "data": {
            "text/plain": [
              "<Axes: >"
            ]
          },
          "metadata": {},
          "execution_count": 103
        },
        {
          "output_type": "display_data",
          "data": {
            "text/plain": [
              "<Figure size 640x480 with 1 Axes>"
            ],
            "image/png": "[encoded data removed]"
          },
          "metadata": {}
        }
      ]
    },
    {
      "cell_type": "code",
      "execution_count": null,
      "metadata": {
        "colab": {
          "base_uri": "https://localhost:8080/"
        },
        "id": "vRvhLdK20wyH",
        "outputId": "e427ea52-e2c1-4374-e55c-cd4253df8ed9"
      },
      "outputs": [
        {
          "output_type": "stream",
          "name": "stdout",
          "text": [
            "profoz\n"
          ]
        }
      ],
      "source": [
        "!huggingface-cli whoami"
      ]
    },
    {
      "cell_type": "code",
      "execution_count": null,
      "metadata": {
        "id": "N7RMb3UHRGgu"
      },
      "outputs": [],
      "source": [
        "# Set supervised fine-tuning parameters\n",
        "training_params = TrainingArguments(\n",
        "    output_dir=\"./results\",\n",
        "    num_train_epochs=1,\n",
        "    per_device_train_batch_size=1,\n",
        "    per_device_eval_batch_size=1,\n",
        "    gradient_accumulation_steps=4,\n",
        "    logging_steps=5,\n",
        "    learning_rate=2e-4,\n",
        "    weight_decay=0.01,\n",
        "    fp16=False,\n",
        "    load_best_model_at_end=True,\n",
        "    evaluation_strategy='epoch',\n",
        "    save_strategy='epoch',\n",
        "    bf16=False,\n",
        "    warmup_ratio=0.1,\n",
        "    lr_scheduler_type=\"cosine\",\n",
        "\n",
        "    push_to_hub=True,\n",
        "    hub_model_id=\"profoz/sawyer-llama-2\",\n",
        "    hub_strategy=\"every_save\",\n",
        ")\n",
        "trainer = Trainer(\n",
        "    model=model,\n",
        "    train_dataset=dataset['train'],\n",
        "    eval_dataset=dataset['test'],\n",
        "    tokenizer=tokenizer,\n",
        "    args=training_params,\n",
        "    data_collator=data_collator\n",
        ")"
      ]
    },
    {
      "cell_type": "code",
      "execution_count": null,
      "metadata": {
        "colab": {
          "base_uri": "https://localhost:8080/",
          "height": 35
        },
        "id": "NkqYHqW-0av8",
        "outputId": "a957c01d-9bc2-4501-fe9d-9deda3bc3298"
      },
      "outputs": [
        {
          "output_type": "execute_result",
          "data": {
            "text/plain": [
              "'profoz/sawyer-llama-2'"
            ],
            "application/vnd.google.colaboratory.intrinsic+json": {
              "type": "string"
            }
          },
          "metadata": {},
          "execution_count": 105
        }
      ],
      "source": [
        "trainer.hub_model_id"
      ]
    },
    {
      "cell_type": "code",
      "execution_count": null,
      "metadata": {
        "colab": {
          "base_uri": "https://localhost:8080/"
        },
        "id": "9egMcxtPWsC7",
        "outputId": "011caea9-9778-4ea9-f939-6007cea12dda"
      },
      "outputs": [
        {
          "output_type": "execute_result",
          "data": {
            "text/plain": [
              "tensor([[ 1.2517e-06, -1.7881e-06, -4.3511e-06,  ...,  8.9407e-07,\n",
              "         -6.5565e-06,  8.9407e-07],\n",
              "        [ 1.8616e-03, -3.3722e-03,  3.9864e-04,  ..., -8.3008e-03,\n",
              "          2.5787e-03, -3.9368e-03],\n",
              "        [ 1.0986e-02,  9.8877e-03, -5.0964e-03,  ...,  2.5177e-03,\n",
              "          7.7057e-04, -5.0049e-03],\n",
              "        ...,\n",
              "        [-1.6113e-02,  0.0000e+00, -3.1281e-03,  ...,  1.3672e-02,\n",
              "         -8.3618e-03, -7.0801e-03],\n",
              "        [-4.6387e-03, -2.8381e-03,  1.5747e-02,  ..., -3.0060e-03,\n",
              "          6.6223e-03,  4.6997e-03],\n",
              "        [ 9.2697e-04,  2.3499e-03,  6.3782e-03,  ...,  2.9907e-03,\n",
              "          1.1108e-02,  2.0905e-03]], device='cuda:0', dtype=torch.bfloat16)"
            ]
          },
          "metadata": {},
          "execution_count": 106
        }
      ],
      "source": [
        "model.base_model.model.model.embed_tokens.weight.data"
      ]
    },
    {
      "cell_type": "code",
      "execution_count": null,
      "metadata": {
        "colab": {
          "base_uri": "https://localhost:8080/",
          "height": 228
        },
        "id": "P3IzO6n45pbL",
        "outputId": "1e7431e2-3049-4ae5-976b-c3d9665c86e3"
      },
      "outputs": [
        {
          "output_type": "display_data",
          "data": {
            "text/plain": [
              "<IPython.core.display.HTML object>"
            ],
            "text/html": [
              "\n",
              "    <div>\n",
              "      \n",
              "      <progress value='11596' max='11596' style='width:300px; height:20px; vertical-align: middle;'></progress>\n",
              "      [11596/11596 21:15]\n",
              "    </div>\n",
              "    "
            ]
          },
          "metadata": {}
        },
        {
          "output_type": "display_data",
          "data": {
            "text/plain": [
              "<IPython.core.display.Javascript object>"
            ],
            "application/javascript": [
              "\n",
              "        window._wandbApiKey = new Promise((resolve, reject) => {\n",
              "            function loadScript(url) {\n",
              "            return new Promise(function(resolve, reject) {\n",
              "                let newScript = document.createElement(\"script\");\n",
              "                newScript.onerror = reject;\n",
              "                newScript.onload = resolve;\n",
              "                document.body.appendChild(newScript);\n",
              "                newScript.src = url;\n",
              "            });\n",
              "            }\n",
              "            loadScript(\"https://cdn.jsdelivr.net/npm/postmate/build/postmate.min.js\").then(() => {\n",
              "            const iframe = document.createElement('iframe')\n",
              "            iframe.style.cssText = \"width:0;height:0;border:none\"\n",
              "            document.body.appendChild(iframe)\n",
              "            const handshake = new Postmate({\n",
              "                container: iframe,\n",
              "                url: 'https://wandb.ai/authorize'\n",
              "            });\n",
              "            const timeout = setTimeout(() => reject(\"Couldn't auto authenticate\"), 5000)\n",
              "            handshake.then(function(child) {\n",
              "                child.on('authorize', data => {\n",
              "                    clearTimeout(timeout)\n",
              "                    resolve(data)\n",
              "                });\n",
              "            });\n",
              "            })\n",
              "        });\n",
              "    "
            ]
          },
          "metadata": {}
        },
        {
          "output_type": "stream",
          "name": "stderr",
          "text": [
            "\u001b[34m\u001b[1mwandb\u001b[0m: Appending key for api.wandb.ai to your netrc file: /root/.netrc\n"
          ]
        },
        {
          "output_type": "display_data",
          "data": {
            "text/plain": [
              "<IPython.core.display.HTML object>"
            ],
            "text/html": [
              "Tracking run with wandb version 0.16.3"
            ]
          },
          "metadata": {}
        },
        {
          "output_type": "display_data",
          "data": {
            "text/plain": [
              "<IPython.core.display.HTML object>"
            ],
            "text/html": [
              "Run data is saved locally in <code>/content/wandb/run-20240210_175008-1aw6jxjn</code>"
            ]
          },
          "metadata": {}
        },
        {
          "output_type": "display_data",
          "data": {
            "text/plain": [
              "<IPython.core.display.HTML object>"
            ],
            "text/html": [
              "Syncing run <strong><a href='https://wandb.ai/profoz/huggingface/runs/1aw6jxjn' target=\"_blank\">brilliant-laughter-248</a></strong> to <a href='https://wandb.ai/profoz/huggingface' target=\"_blank\">Weights & Biases</a> (<a href='https://wandb.me/run' target=\"_blank\">docs</a>)<br/>"
            ]
          },
          "metadata": {}
        },
        {
          "output_type": "display_data",
          "data": {
            "text/plain": [
              "<IPython.core.display.HTML object>"
            ],
            "text/html": [
              " View project at <a href='https://wandb.ai/profoz/huggingface' target=\"_blank\">https://wandb.ai/profoz/huggingface</a>"
            ]
          },
          "metadata": {}
        },
        {
          "output_type": "display_data",
          "data": {
            "text/plain": [
              "<IPython.core.display.HTML object>"
            ],
            "text/html": [
              " View run at <a href='https://wandb.ai/profoz/huggingface/runs/1aw6jxjn' target=\"_blank\">https://wandb.ai/profoz/huggingface/runs/1aw6jxjn</a>"
            ]
          },
          "metadata": {}
        },
        {
          "output_type": "execute_result",
          "data": {
            "text/plain": [
              "{'eval_loss': nan,\n",
              " 'eval_runtime': 1275.2969,\n",
              " 'eval_samples_per_second': 9.093,\n",
              " 'eval_steps_per_second': 9.093}"
            ]
          },
          "metadata": {},
          "execution_count": 107
        }
      ],
      "source": [
        "trainer.evaluate()"
      ]
    },
    {
      "cell_type": "code",
      "execution_count": null,
      "metadata": {
        "id": "0Y99UKM_RGgu",
        "scrolled": true,
        "colab": {
          "base_uri": "https://localhost:8080/",
          "height": 503
        },
        "outputId": "c61ea991-66c6-4403-905c-95092e63b30b"
      },
      "outputs": [
        {
          "output_type": "display_data",
          "data": {
            "text/plain": [
              "<IPython.core.display.HTML object>"
            ],
            "text/html": [
              "\n",
              "    <div>\n",
              "      \n",
              "      <progress value='11792' max='57910' style='width:300px; height:20px; vertical-align: middle;'></progress>\n",
              "      [11792/57910 3:29:08 < 13:38:06, 0.94 it/s, Epoch 1.02/5]\n",
              "    </div>\n",
              "    <table border=\"1\" class=\"dataframe\">\n",
              "  <thead>\n",
              " <tr style=\"text-align: left;\">\n",
              "      <th>Epoch</th>\n",
              "      <th>Training Loss</th>\n",
              "      <th>Validation Loss</th>\n",
              "    </tr>\n",
              "  </thead>\n",
              "  <tbody>\n",
              "    <tr>\n",
              "      <td>0</td>\n",
              "      <td>1.114800</td>\n",
              "      <td>nan</td>\n",
              "    </tr>\n",
              "  </tbody>\n",
              "</table><p>"
            ]
          },
          "metadata": {}
        },
        {
          "output_type": "display_data",
          "data": {
            "text/plain": [
              "<IPython.core.display.HTML object>"
            ],
            "text/html": [
              "\n",
              "    <div>\n",
              "      \n",
              "      <progress value='23192' max='11596' style='width:300px; height:20px; vertical-align: middle;'></progress>\n",
              "      [11596/11596 3:47:13]\n",
              "    </div>\n",
              "    "
            ]
          },
          "metadata": {}
        },
        {
          "output_type": "stream",
          "name": "stderr",
          "text": [
            "/usr/local/lib/python3.10/dist-packages/peft/utils/save_and_load.py:160: UserWarning: Setting `save_embedding_layers` to `True` as the embedding layer has been resized during finetuning.\n",
            "  warnings.warn(\n"
          ]
        },
        {
          "output_type": "error",
          "ename": "KeyboardInterrupt",
          "evalue": "",
          "traceback": [
            "\u001b[0;31m---------------------------------------------------------------------------\u001b[0m",
            "\u001b[0;31mKeyboardInterrupt\u001b[0m                         Traceback (most recent call last)",
            "\u001b[0;32m<ipython-input-108-252f3821ece6>\u001b[0m in \u001b[0;36m<cell line: 2>\u001b[0;34m()\u001b[0m\n\u001b[1;32m      1\u001b[0m \u001b[0;31m# Train model\u001b[0m\u001b[0;34m\u001b[0m\u001b[0;34m\u001b[0m\u001b[0m\n\u001b[0;32m----> 2\u001b[0;31m \u001b[0mtrainer\u001b[0m\u001b[0;34m.\u001b[0m\u001b[0mtrain\u001b[0m\u001b[0;34m(\u001b[0m\u001b[0;34m)\u001b[0m\u001b[0;34m\u001b[0m\u001b[0;34m\u001b[0m\u001b[0m\n\u001b[0m",
            "\u001b[0;32m/usr/local/lib/python3.10/dist-packages/transformers/trainer.py\u001b[0m in \u001b[0;36mtrain\u001b[0;34m(self, resume_from_checkpoint, trial, ignore_keys_for_eval, **kwargs)\u001b[0m\n\u001b[1;32m   1544\u001b[0m                 \u001b[0;31m# Disable progress bars when uploading models during checkpoints to avoid polluting stdout\u001b[0m\u001b[0;34m\u001b[0m\u001b[0;34m\u001b[0m\u001b[0m\n\u001b[1;32m   1545\u001b[0m                 \u001b[0mhf_hub_utils\u001b[0m\u001b[0;34m.\u001b[0m\u001b[0mdisable_progress_bars\u001b[0m\u001b[0;34m(\u001b[0m\u001b[0;34m)\u001b[0m\u001b[0;34m\u001b[0m\u001b[0;34m\u001b[0m\u001b[0m\n\u001b[0;32m-> 1546\u001b[0;31m                 return inner_training_loop(\n\u001b[0m\u001b[1;32m   1547\u001b[0m                     \u001b[0margs\u001b[0m\u001b[0;34m=\u001b[0m\u001b[0margs\u001b[0m\u001b[0;34m,\u001b[0m\u001b[0;34m\u001b[0m\u001b[0;34m\u001b[0m\u001b[0m\n\u001b[1;32m   1548\u001b[0m                     \u001b[0mresume_from_checkpoint\u001b[0m\u001b[0;34m=\u001b[0m\u001b[0mresume_from_checkpoint\u001b[0m\u001b[0;34m,\u001b[0m\u001b[0;34m\u001b[0m\u001b[0;34m\u001b[0m\u001b[0m\n",
            "\u001b[0;32m/usr/local/lib/python3.10/dist-packages/transformers/trainer.py\u001b[0m in \u001b[0;36m_inner_training_loop\u001b[0;34m(self, batch_size, args, resume_from_checkpoint, trial, ignore_keys_for_eval)\u001b[0m\n\u001b[1;32m   1858\u001b[0m \u001b[0;34m\u001b[0m\u001b[0m\n\u001b[1;32m   1859\u001b[0m                 \u001b[0;32mwith\u001b[0m \u001b[0mself\u001b[0m\u001b[0;34m.\u001b[0m\u001b[0maccelerator\u001b[0m\u001b[0;34m.\u001b[0m\u001b[0maccumulate\u001b[0m\u001b[0;34m(\u001b[0m\u001b[0mmodel\u001b[0m\u001b[0;34m)\u001b[0m\u001b[0;34m:\u001b[0m\u001b[0;34m\u001b[0m\u001b[0;34m\u001b[0m\u001b[0m\n\u001b[0;32m-> 1860\u001b[0;31m                     \u001b[0mtr_loss_step\u001b[0m \u001b[0;34m=\u001b[0m \u001b[0mself\u001b[0m\u001b[0;34m.\u001b[0m\u001b[0mtraining_step\u001b[0m\u001b[0;34m(\u001b[0m\u001b[0mmodel\u001b[0m\u001b[0;34m,\u001b[0m \u001b[0minputs\u001b[0m\u001b[0;34m)\u001b[0m\u001b[0;34m\u001b[0m\u001b[0;34m\u001b[0m\u001b[0m\n\u001b[0m\u001b[1;32m   1861\u001b[0m \u001b[0;34m\u001b[0m\u001b[0m\n\u001b[1;32m   1862\u001b[0m                 if (\n",
            "\u001b[0;32m/usr/local/lib/python3.10/dist-packages/transformers/trainer.py\u001b[0m in \u001b[0;36mtraining_step\u001b[0;34m(self, model, inputs)\u001b[0m\n\u001b[1;32m   2732\u001b[0m                 \u001b[0mscaled_loss\u001b[0m\u001b[0;34m.\u001b[0m\u001b[0mbackward\u001b[0m\u001b[0;34m(\u001b[0m\u001b[0;34m)\u001b[0m\u001b[0;34m\u001b[0m\u001b[0;34m\u001b[0m\u001b[0m\n\u001b[1;32m   2733\u001b[0m         \u001b[0;32melse\u001b[0m\u001b[0;34m:\u001b[0m\u001b[0;34m\u001b[0m\u001b[0;34m\u001b[0m\u001b[0m\n\u001b[0;32m-> 2734\u001b[0;31m             \u001b[0mself\u001b[0m\u001b[0;34m.\u001b[0m\u001b[0maccelerator\u001b[0m\u001b[0;34m.\u001b[0m\u001b[0mbackward\u001b[0m\u001b[0;34m(\u001b[0m\u001b[0mloss\u001b[0m\u001b[0;34m)\u001b[0m\u001b[0;34m\u001b[0m\u001b[0;34m\u001b[0m\u001b[0m\n\u001b[0m\u001b[1;32m   2735\u001b[0m \u001b[0;34m\u001b[0m\u001b[0m\n\u001b[1;32m   2736\u001b[0m         \u001b[0;32mreturn\u001b[0m \u001b[0mloss\u001b[0m\u001b[0;34m.\u001b[0m\u001b[0mdetach\u001b[0m\u001b[0;34m(\u001b[0m\u001b[0;34m)\u001b[0m \u001b[0;34m/\u001b[0m \u001b[0mself\u001b[0m\u001b[0;34m.\u001b[0m\u001b[0margs\u001b[0m\u001b[0;34m.\u001b[0m\u001b[0mgradient_accumulation_steps\u001b[0m\u001b[0;34m\u001b[0m\u001b[0;34m\u001b[0m\u001b[0m\n",
            "\u001b[0;32m/usr/local/lib/python3.10/dist-packages/accelerate/accelerator.py\u001b[0m in \u001b[0;36mbackward\u001b[0;34m(self, loss, **kwargs)\u001b[0m\n\u001b[1;32m   1964\u001b[0m             \u001b[0mself\u001b[0m\u001b[0;34m.\u001b[0m\u001b[0mscaler\u001b[0m\u001b[0;34m.\u001b[0m\u001b[0mscale\u001b[0m\u001b[0;34m(\u001b[0m\u001b[0mloss\u001b[0m\u001b[0;34m)\u001b[0m\u001b[0;34m.\u001b[0m\u001b[0mbackward\u001b[0m\u001b[0;34m(\u001b[0m\u001b[0;34m**\u001b[0m\u001b[0mkwargs\u001b[0m\u001b[0;34m)\u001b[0m\u001b[0;34m\u001b[0m\u001b[0;34m\u001b[0m\u001b[0m\n\u001b[1;32m   1965\u001b[0m         \u001b[0;32melse\u001b[0m\u001b[0;34m:\u001b[0m\u001b[0;34m\u001b[0m\u001b[0;34m\u001b[0m\u001b[0m\n\u001b[0;32m-> 1966\u001b[0;31m             \u001b[0mloss\u001b[0m\u001b[0;34m.\u001b[0m\u001b[0mbackward\u001b[0m\u001b[0;34m(\u001b[0m\u001b[0;34m**\u001b[0m\u001b[0mkwargs\u001b[0m\u001b[0;34m)\u001b[0m\u001b[0;34m\u001b[0m\u001b[0;34m\u001b[0m\u001b[0m\n\u001b[0m\u001b[1;32m   1967\u001b[0m \u001b[0;34m\u001b[0m\u001b[0m\n\u001b[1;32m   1968\u001b[0m     \u001b[0;32mdef\u001b[0m \u001b[0mset_trigger\u001b[0m\u001b[0;34m(\u001b[0m\u001b[0mself\u001b[0m\u001b[0;34m)\u001b[0m\u001b[0;34m:\u001b[0m\u001b[0;34m\u001b[0m\u001b[0;34m\u001b[0m\u001b[0m\n",
            "\u001b[0;32m/usr/local/lib/python3.10/dist-packages/torch/_tensor.py\u001b[0m in \u001b[0;36mbackward\u001b[0;34m(self, gradient, retain_graph, create_graph, inputs)\u001b[0m\n\u001b[1;32m    490\u001b[0m                 \u001b[0minputs\u001b[0m\u001b[0;34m=\u001b[0m\u001b[0minputs\u001b[0m\u001b[0;34m,\u001b[0m\u001b[0;34m\u001b[0m\u001b[0;34m\u001b[0m\u001b[0m\n\u001b[1;32m    491\u001b[0m             )\n\u001b[0;32m--> 492\u001b[0;31m         torch.autograd.backward(\n\u001b[0m\u001b[1;32m    493\u001b[0m             \u001b[0mself\u001b[0m\u001b[0;34m,\u001b[0m \u001b[0mgradient\u001b[0m\u001b[0;34m,\u001b[0m \u001b[0mretain_graph\u001b[0m\u001b[0;34m,\u001b[0m \u001b[0mcreate_graph\u001b[0m\u001b[0;34m,\u001b[0m \u001b[0minputs\u001b[0m\u001b[0;34m=\u001b[0m\u001b[0minputs\u001b[0m\u001b[0;34m\u001b[0m\u001b[0;34m\u001b[0m\u001b[0m\n\u001b[1;32m    494\u001b[0m         )\n",
            "\u001b[0;32m/usr/local/lib/python3.10/dist-packages/torch/autograd/__init__.py\u001b[0m in \u001b[0;36mbackward\u001b[0;34m(tensors, grad_tensors, retain_graph, create_graph, grad_variables, inputs)\u001b[0m\n\u001b[1;32m    249\u001b[0m     \u001b[0;31m# some Python versions print out the first line of a multi-line function\u001b[0m\u001b[0;34m\u001b[0m\u001b[0;34m\u001b[0m\u001b[0m\n\u001b[1;32m    250\u001b[0m     \u001b[0;31m# calls in the traceback and some print out the last line\u001b[0m\u001b[0;34m\u001b[0m\u001b[0;34m\u001b[0m\u001b[0m\n\u001b[0;32m--> 251\u001b[0;31m     Variable._execution_engine.run_backward(  # Calls into the C++ engine to run the backward pass\n\u001b[0m\u001b[1;32m    252\u001b[0m         \u001b[0mtensors\u001b[0m\u001b[0;34m,\u001b[0m\u001b[0;34m\u001b[0m\u001b[0;34m\u001b[0m\u001b[0m\n\u001b[1;32m    253\u001b[0m         \u001b[0mgrad_tensors_\u001b[0m\u001b[0;34m,\u001b[0m\u001b[0;34m\u001b[0m\u001b[0;34m\u001b[0m\u001b[0m\n",
            "\u001b[0;31mKeyboardInterrupt\u001b[0m: "
          ]
        }
      ],
      "source": [
        "# Train model (I meant to do one epoch here and stopped it)\n",
        "trainer.train()"
      ]
    },
    {
      "cell_type": "code",
      "execution_count": null,
      "metadata": {
        "id": "VvoymtqiWtHx",
        "colab": {
          "base_uri": "https://localhost:8080/"
        },
        "outputId": "b9db9b5f-e24d-44ab-ef6e-8ee028f5c881"
      },
      "outputs": [
        {
          "output_type": "execute_result",
          "data": {
            "text/plain": [
              "tensor([[ 1.2517e-06, -1.7881e-06, -4.3511e-06,  ...,  8.9407e-07,\n",
              "         -6.5565e-06,  8.9407e-07],\n",
              "        [ 1.8616e-03, -3.3722e-03,  3.9864e-04,  ..., -8.3008e-03,\n",
              "          2.5787e-03, -3.9368e-03],\n",
              "        [ 1.0986e-02,  9.8877e-03, -5.0964e-03,  ...,  2.5177e-03,\n",
              "          7.7057e-04, -5.0049e-03],\n",
              "        ...,\n",
              "        [-1.6113e-02,  0.0000e+00, -3.1281e-03,  ...,  1.3672e-02,\n",
              "         -8.3618e-03, -7.0801e-03],\n",
              "        [-4.6387e-03, -2.8381e-03,  1.5747e-02,  ..., -3.0060e-03,\n",
              "          6.6223e-03,  4.6997e-03],\n",
              "        [ 9.2697e-04,  2.3499e-03,  6.3782e-03,  ...,  2.9907e-03,\n",
              "          1.1108e-02,  2.0905e-03]], device='cuda:0', dtype=torch.bfloat16)"
            ]
          },
          "metadata": {},
          "execution_count": 109
        }
      ],
      "source": [
        "model.base_model.model.model.embed_tokens.weight.data"
      ]
    },
    {
      "cell_type": "code",
      "source": [
        "trainer.evaluate()"
      ],
      "metadata": {
        "id": "bAQDidXeLxfa"
      },
      "execution_count": null,
      "outputs": []
    },
    {
      "cell_type": "code",
      "execution_count": null,
      "metadata": {
        "id": "qL5i358PRGgu",
        "colab": {
          "base_uri": "https://localhost:8080/"
        },
        "outputId": "de51f837-7516-454d-83e4-ec622cf0f688"
      },
      "outputs": [
        {
          "output_type": "stream",
          "name": "stderr",
          "text": [
            "/usr/local/lib/python3.10/dist-packages/peft/utils/save_and_load.py:160: UserWarning: Setting `save_embedding_layers` to `True` as the embedding layer has been resized during finetuning.\n",
            "  warnings.warn(\n"
          ]
        }
      ],
      "source": [
        "# Save trained model locally\n",
        "\n",
        "# Fine-tuned model name\n",
        "new_model = \"llama-2-7b-chat-ft\"\n",
        "\n",
        "trainer.model.save_pretrained(new_model)"
      ]
    },
    {
      "cell_type": "markdown",
      "metadata": {
        "id": "wvm8T-DPRwNS"
      },
      "source": [
        "# After"
      ]
    },
    {
      "cell_type": "code",
      "execution_count": null,
      "metadata": {
        "id": "vCTJ8o6Il3ay",
        "colab": {
          "base_uri": "https://localhost:8080/",
          "height": 35
        },
        "outputId": "b844fe00-7d7d-4ed9-c579-fbde0f125eaf"
      },
      "outputs": [
        {
          "output_type": "execute_result",
          "data": {
            "text/plain": [
              "'<s>###HUMAN### Who was the first president of the USA?###BOT### George Washington.###STOP###'"
            ],
            "application/vnd.google.colaboratory.intrinsic+json": {
              "type": "string"
            }
          },
          "metadata": {},
          "execution_count": 111
        }
      ],
      "source": [
        "# the model we just trained (not the one we are about to de-serialize)\n",
        "tokenizer.decode(\n",
        "    trainer.model.generate(\n",
        "        **tokenizer(join_convo([['human', \"Who was the first president of the USA?\"]]), return_tensors='pt').to(0),\n",
        "        max_length=64,\n",
        "        eos_token_id=EXTRA_TOKENS['stop_token']['token_id']\n",
        "        )[0]\n",
        "    )"
      ]
    },
    {
      "cell_type": "code",
      "source": [
        "# the model we just trained (not the one we are about to de-serialize)\n",
        "tokenizer.decode(\n",
        "    trainer.model.generate(\n",
        "        **tokenizer(join_convo([['human', \"hello\"]]), return_tensors='pt').to(0),\n",
        "        max_length=64,\n",
        "        eos_token_id=EXTRA_TOKENS['stop_token']['token_id']\n",
        "        )[0]\n",
        "    )"
      ],
      "metadata": {
        "colab": {
          "base_uri": "https://localhost:8080/",
          "height": 35
        },
        "id": "hzOug7AG4-y6",
        "outputId": "e09a320e-8af9-4216-8f61-667ddc671088"
      },
      "execution_count": null,
      "outputs": [
        {
          "output_type": "execute_result",
          "data": {
            "text/plain": [
              "'<s>###HUMAN### hello###BOT### Hello! How can I help you today?###STOP###'"
            ],
            "application/vnd.google.colaboratory.intrinsic+json": {
              "type": "string"
            }
          },
          "metadata": {},
          "execution_count": 113
        }
      ]
    },
    {
      "cell_type": "code",
      "source": [
        "for e, d in EXTRA_TOKENS.items():\n",
        "    print(d['new_embedding'].detach().cpu().tolist())"
      ],
      "metadata": {
        "colab": {
          "base_uri": "https://localhost:8080/"
        },
        "id": "Mz4bUIAZeTdv",
        "outputId": "0fb2d0b0-d3c8-4491-a485-964c3e915866"
      },
      "execution_count": null,
      "outputs": [
        {
          "output_type": "stream",
          "name": "stdout",
          "text": [
            "[[-0.01611328125, 0.0, -0.0031280517578125, 0.003631591796875, -0.02783203125, 0.0084228515625, -0.0013275146484375, 0.01904296875, 0.0128173828125, -0.0152587890625, -0.00994873046875, 0.01263427734375, 0.0162353515625, 0.005828857421875, 0.005096435546875, 0.0086669921875, -0.01190185546875, 0.002227783203125, 0.007354736328125, -0.00396728515625, 0.00335693359375, 0.006011962890625, 0.0244140625, -0.0031890869140625, -0.001861572265625, -0.0081787109375, -0.0096435546875, -0.010009765625, -0.00103759765625, -0.00148773193359375, 0.032470703125, 0.005401611328125, -0.002288818359375, -8.392333984375e-05, -0.003204345703125, -0.0107421875, 0.004638671875, -0.00421142578125, 0.00799560546875, -0.0003662109375, 0.0037078857421875, 0.00732421875, -0.00848388671875, -0.010498046875, 0.00579833984375, -0.000457763671875, 0.01080322265625, -0.002410888671875, -0.017578125, 0.015625, -0.002532958984375, 0.017578125, -0.01275634765625, -0.000885009765625, -0.01129150390625, -0.0135498046875, -0.001953125, 0.002655029296875, -0.0135498046875, -0.015869140625, -0.0019073486328125, 0.01495361328125, -0.000274658203125, -0.0002346038818359375, 0.021728515625, 0.00555419921875, 0.004180908203125, -0.00494384765625, 0.005126953125, 0.005279541015625, -0.00628662109375, -6.103515625e-05, 0.005126953125, -0.0072021484375, 0.00048065185546875, -0.0135498046875, -0.025634765625, -0.0147705078125, -0.005157470703125, -0.00897216796875, -0.01495361328125, 0.01324462890625, 0.001373291015625, -0.0084228515625, 0.005157470703125, 0.006439208984375, 9.1552734375e-05, -0.0033721923828125, -0.0133056640625, -0.0142822265625, 0.005645751953125, -0.0240478515625, 0.011474609375, -0.0152587890625, 0.028076171875, -0.011962890625, -0.0169677734375, -0.0034332275390625, -0.003326416015625, 0.00946044921875, 0.01214599609375, 0.004119873046875, 0.004241943359375, -0.0034027099609375, 0.00946044921875, -0.006591796875, -0.01495361328125, 0.0035400390625, 0.012451171875, -0.002960205078125, 0.003021240234375, 0.007537841796875, -0.0125732421875, -0.006591796875, -0.0111083984375, -0.0064697265625, -0.0166015625, 0.0252685546875, -0.01007080078125, -0.017822265625, 0.010986328125, -0.00262451171875, -0.012939453125, 0.01080322265625, -0.01263427734375, 0.005859375, -0.015869140625, -0.001617431640625, -0.01416015625, 0.025146484375, 0.0120849609375, -0.0042724609375, 0.001190185546875, -0.000576019287109375, -0.005615234375, -0.010009765625, 0.0069580078125, 0.02783203125, -0.004913330078125, 0.004974365234375, -0.016357421875, 0.007415771484375, 0.001190185546875, -0.01806640625, -0.00299072265625, 0.004425048828125, 0.00543212890625, -0.00933837890625, 0.00148773193359375, 0.00091552734375, -0.001708984375, 0.0390625, 0.0247802734375, -0.004486083984375, -0.00689697265625, 0.0020294189453125, 0.02734375, 0.0037994384765625, -0.008056640625, -0.0098876953125, -0.0042724609375, -0.00469970703125, 0.00592041015625, -0.0086669921875, -0.021484375, 0.005767822265625, 0.0020294189453125, 0.00933837890625, 0.002685546875, -0.0029754638671875, 0.0048828125, -0.009521484375, 0.004608154296875, -0.0113525390625, -0.02099609375, -0.000644683837890625, -0.003753662109375, 0.0152587890625, 0.027587890625, 0.00067138671875, 0.002532958984375, 0.00185394287109375, 0.0103759765625, -0.0012054443359375, 0.02197265625, 0.0026397705078125, -0.01007080078125, -0.019287109375, 0.0220947265625, 0.00604248046875, 0.00421142578125, 0.01953125, 0.0101318359375, 0.01287841796875, 0.013427734375, -0.0079345703125, -0.0047607421875, -0.003387451171875, 0.003204345703125, 0.006591796875, -0.003936767578125, -0.00408935546875, -0.01904296875, -0.00469970703125, -0.006439208984375, 0.0042724609375, 0.006622314453125, -0.0087890625, -0.006103515625, -0.002227783203125, 0.001617431640625, 0.0128173828125, -0.00098419189453125, -0.00634765625, -0.0113525390625, 0.004241943359375, 0.01123046875, -0.0242919921875, -0.00421142578125, 0.01116943359375, 0.00787353515625, 0.00653076171875, 0.003692626953125, -0.0107421875, 0.00116729736328125, -0.0233154296875, -0.0111083984375, -0.000118255615234375, -0.002197265625, 0.010009765625, 0.0133056640625, 0.007568359375, -0.003082275390625, -0.0017242431640625, 0.01953125, -0.00665283203125, 0.01953125, -0.004486083984375, -0.00274658203125, -0.00506591796875, -0.00048828125, 0.01324462890625, -0.00048065185546875, -0.003875732421875, -0.005126953125, 0.00335693359375, -0.00762939453125, -0.00347900390625, 0.00811767578125, 0.0096435546875, 0.0, 0.007049560546875, 0.0184326171875, 0.0025482177734375, 0.0118408203125, 0.036376953125, -0.013671875, 0.0185546875, 0.014404296875, -0.00372314453125, 0.010498046875, -0.015869140625, -0.0067138671875, 0.022705078125, 0.00101470947265625, -0.01116943359375, -0.00323486328125, -0.003509521484375, -0.01318359375, -0.006744384765625, -0.0010986328125, 0.023681640625, -0.0181884765625, -0.00628662109375, 0.009521484375, -0.0011138916015625, 0.003997802734375, 0.015625, 0.0234375, 0.00604248046875, -0.004150390625, -0.0022735595703125, -0.0025634765625, -0.01025390625, 0.019775390625, -0.0068359375, -0.0162353515625, -0.0179443359375, 0.0023345947265625, 0.01287841796875, 0.0062255859375, 0.00433349609375, 0.01104736328125, -0.00067138671875, -0.0031585693359375, 0.0106201171875, 0.0118408203125, -0.00055694580078125, 0.00640869140625, 0.01416015625, 0.00128173828125, -0.00177764892578125, -0.0126953125, 0.01361083984375, 0.011962890625, 0.00372314453125, -0.006103515625, -0.0283203125, -0.005340576171875, -0.00634765625, 0.004608154296875, -0.0162353515625, 0.023193359375, 0.0010986328125, 0.00909423828125, -0.0186767578125, 0.01263427734375, 0.0086669921875, 0.01202392578125, -0.009521484375, 0.008056640625, 0.00836181640625, 0.007476806640625, -0.0107421875, -0.008544921875, -0.0069580078125, -0.005889892578125, -0.0069580078125, -0.00860595703125, 0.00836181640625, 0.006011962890625, 0.000946044921875, -0.00714111328125, -0.0089111328125, 0.0179443359375, -0.024658203125, 0.004913330078125, 0.01031494140625, 0.022705078125, 0.013671875, 0.00091552734375, -0.0118408203125, 0.0045166015625, -0.00982666015625, -0.0034027099609375, -0.002685546875, -0.01129150390625, -0.0081787109375, -0.0096435546875, 0.00347900390625, -0.0137939453125, 0.0174560546875, -0.00029754638671875, -0.007080078125, 0.0017852783203125, -0.01422119140625, 0.000335693359375, -0.005645751953125, 0.00433349609375, 0.0164794921875, 0.0101318359375, -0.00201416015625, -0.0026397705078125, 0.0245361328125, 0.001251220703125, -0.004425048828125, -0.01141357421875, 0.0054931640625, 0.001129150390625, 0.002044677734375, 0.000701904296875, 0.00091552734375, 0.00188446044921875, 0.022705078125, 0.00701904296875, -0.010986328125, 0.00213623046875, 0.00616455078125, 0.0091552734375, -0.00738525390625, 0.00628662109375, 0.00183868408203125, -0.0120849609375, -0.007568359375, 0.00506591796875, -0.001251220703125, -0.0045166015625, 0.004119873046875, 0.014404296875, 0.0123291015625, 0.00238037109375, 0.0205078125, 0.024658203125, 0.00933837890625, 0.0208740234375, 0.005859375, -0.000946044921875, 0.005584716796875, 0.00091552734375, -0.0024261474609375, -0.0228271484375, -0.000629425048828125, -0.0198974609375, 0.0146484375, -0.01226806640625, 0.01025390625, -0.0052490234375, 0.000579833984375, -0.015625, -0.01318359375, -0.003509521484375, -0.00958251953125, 0.00457763671875, -0.006622314453125, -0.00396728515625, -0.00592041015625, 0.00592041015625, -0.02099609375, 0.0018157958984375, -0.0225830078125, 0.000152587890625, -0.0111083984375, -0.007598876953125, -0.00732421875, 0.0230712890625, -0.006378173828125, -0.02685546875, 0.000274658203125, 0.00640869140625, 0.0137939453125, -0.009765625, -0.00921630859375, -0.007080078125, 0.00433349609375, -0.006866455078125, 0.00775146484375, 0.003326416015625, -0.01300048828125, -0.004425048828125, -0.0078125, -0.0096435546875, 0.002471923828125, -0.00167083740234375, 0.0096435546875, 0.0172119140625, -0.020263671875, -0.00286865234375, 0.00396728515625, -0.01513671875, -0.0057373046875, 0.013427734375, 0.006134033203125, 0.00994873046875, -0.001617431640625, -0.003173828125, -0.01470947265625, 0.00701904296875, -0.0086669921875, 0.006072998046875, 0.0177001953125, 0.0096435546875, -0.00567626953125, -0.00616455078125, 0.0057373046875, -0.009765625, 0.01361083984375, 0.00396728515625, -0.0093994140625, -0.0196533203125, 0.0029144287109375, -0.01324462890625, -0.034423828125, -0.0093994140625, 0.01153564453125, 0.00347900390625, -0.004058837890625, 0.02978515625, -0.0012054443359375, -0.01123046875, -0.0023956298828125, 0.002471923828125, -0.0169677734375, -0.002044677734375, -0.00848388671875, 0.0059814453125, 0.01953125, 0.00299072265625, 0.009521484375, 0.0025787353515625, -0.003204345703125, -0.03466796875, 0.0233154296875, 0.0264892578125, -0.005828857421875, -0.009521484375, -0.00177001953125, -0.0238037109375, 0.012939453125, 0.0018310546875, 0.0101318359375, 0.024169921875, -0.01708984375, 0.009765625, 0.00555419921875, 0.0125732421875, -0.00543212890625, -0.002593994140625, -0.0074462890625, 0.0047607421875, -0.009765625, 0.00848388671875, -0.0103759765625, 0.0018310546875, 0.0206298828125, -0.018310546875, -0.015625, -0.019775390625, 0.0025482177734375, 0.004150390625, -0.000762939453125, 0.0037841796875, 0.0076904296875, -0.0003509521484375, 0.001312255859375, 0.0023651123046875, 0.0067138671875, 0.01806640625, 0.0159912109375, -0.000152587890625, -0.005157470703125, 0.0074462890625, 0.015625, -0.01025390625, -0.007659912109375, -0.0067138671875, -0.004852294921875, 0.003997802734375, -0.00390625, 0.003143310546875, 0.018798828125, -0.017822265625, -0.0087890625, -0.0001068115234375, -0.01507568359375, -0.0166015625, 0.01611328125, 0.01141357421875, 0.006988525390625, 0.00030517578125, 0.0111083984375, -0.0272216796875, -0.003814697265625, -0.01202392578125, 0.0033111572265625, -0.0135498046875, -0.002899169921875, 0.0009765625, 0.0126953125, -0.00567626953125, -0.02783203125, -0.005584716796875, -0.00164794921875, -0.010498046875, 0.004150390625, -0.00213623046875, -0.0228271484375, -0.0009307861328125, 0.0174560546875, 0.00579833984375, -0.0059814453125, 0.01470947265625, -0.0008544921875, 0.001800537109375, 0.0072021484375, -0.001068115234375, 0.0081787109375, -0.0014495849609375, -0.0159912109375, 0.003509521484375, -0.005035400390625, -0.0006103515625, -0.0031585693359375, -0.00946044921875, -0.0203857421875, -0.011962890625, -0.01025390625, 0.00128173828125, 0.015869140625, 0.006927490234375, -0.00567626953125, -0.002197265625, -0.02294921875, 0.006378173828125, 0.001220703125, 0.006256103515625, -0.00634765625, 0.005126953125, 0.004547119140625, 0.0035858154296875, 0.0184326171875, -0.00531005859375, -0.00469970703125, -0.015869140625, 0.005645751953125, -0.002777099609375, 0.00360107421875, -0.00225830078125, 0.01324462890625, 0.0029296875, 0.00762939453125, 0.005889892578125, 0.0047607421875, 0.00616455078125, 0.0009613037109375, -0.00885009765625, -0.00506591796875, -0.005645751953125, 0.003387451171875, -0.01123046875, 0.0016632080078125, 0.00958251953125, -0.00933837890625, 0.004302978515625, 0.0023651123046875, -0.01116943359375, 0.00154876708984375, 0.002410888671875, 0.0028533935546875, -0.0174560546875, 0.00244140625, 0.0093994140625, -0.00714111328125, -0.0220947265625, -0.01422119140625, -0.00025177001953125, 0.0014190673828125, -0.000713348388671875, -0.016845703125, 0.00396728515625, -0.01904296875, -0.007781982421875, 0.00738525390625, 0.0048828125, -0.0238037109375, -0.011474609375, -0.005767822265625, -0.0007476806640625, 0.014892578125, 0.0074462890625, 0.00146484375, -6.103515625e-05, 0.0133056640625, -0.010986328125, 0.02587890625, -0.002197265625, -0.00982666015625, 0.003662109375, 0.00946044921875, 0.0091552734375, -0.0078125, -0.0089111328125, -0.013427734375, -0.0191650390625, -0.014404296875, 0.00238037109375, 0.00799560546875, -0.005340576171875, 0.021240234375, 0.016357421875, -0.01025390625, 0.003753662109375, 0.0133056640625, -0.01080322265625, 0.0103759765625, 0.002044677734375, -0.0089111328125, 0.0001983642578125, -0.008056640625, 0.0037841796875, -0.0048828125, -0.01507568359375, -0.00185394287109375, -0.0093994140625, 0.01080322265625, -0.00726318359375, 0.0017852783203125, 0.00201416015625, 0.00191497802734375, 0.011474609375, -0.01409912109375, 0.00103759765625, 0.00372314453125, 0.001495361328125, 0.007537841796875, -0.005279541015625, 0.0108642578125, -0.0048828125, 0.0089111328125, 0.000946044921875, -0.0135498046875, -0.0098876953125, 0.0201416015625, 0.0189208984375, 0.0035247802734375, -0.006195068359375, -0.01275634765625, -7.62939453125e-05, -0.01348876953125, -0.0086669921875, 0.010498046875, -0.0072021484375, -0.0189208984375, -0.00408935546875, -0.0025634765625, -0.0137939453125, -0.007354736328125, -0.00726318359375, -0.0174560546875, -0.01226806640625, 0.00860595703125, 0.00628662109375, -0.006378173828125, 0.010009765625, 0.01373291015625, 0.0196533203125, 0.00628662109375, -0.0262451171875, 0.0042724609375, 0.013916015625, -0.0123291015625, 0.0107421875, -0.01190185546875, -0.0014801025390625, -0.0047607421875, -0.005950927734375, 0.00225830078125, -0.01544189453125, 0.01190185546875, -0.0018768310546875, -0.0016021728515625, -0.011474609375, -0.0001068115234375, 0.005645751953125, 0.00701904296875, 0.00439453125, -0.01220703125, 0.0026397705078125, -0.021484375, 0.0093994140625, -0.0028076171875, -0.00970458984375, 0.01300048828125, -0.0167236328125, -0.0216064453125, 0.0068359375, 0.004150390625, 0.0164794921875, 0.012451171875, -0.002685546875, -0.0029754638671875, -0.0120849609375, 0.00946044921875, -0.01385498046875, 0.00168609619140625, 3.0517578125e-05, -0.0213623046875, -0.0242919921875, 0.00885009765625, 0.019775390625, -0.0302734375, -0.004180908203125, -0.00128173828125, -0.00787353515625, -6.103515625e-05, -0.00140380859375, 0.00927734375, 0.01007080078125, 0.00177001953125, 0.0021820068359375, -0.0101318359375, -0.000640869140625, 0.00872802734375, -0.0133056640625, 0.016357421875, 0.011962890625, 0.018798828125, -0.007720947265625, -0.006622314453125, 0.0036163330078125, -0.0015716552734375, 0.01708984375, 0.0023193359375, 0.01190185546875, -0.010986328125, -0.0011749267578125, -0.002471923828125, 0.012939453125, -0.0135498046875, -0.029052734375, -0.000732421875, 0.01141357421875, -0.005096435546875, 0.0020751953125, -0.004974365234375, 0.0101318359375, -0.02197265625, -0.00787353515625, -0.0084228515625, -0.0135498046875, 0.0010223388671875, -0.0067138671875, -0.005645751953125, -0.0263671875, 0.00091552734375, -0.0093994140625, -0.0028533935546875, -0.0023193359375, 0.00148773193359375, 0.00147247314453125, 0.0128173828125, -0.00921630859375, -0.0118408203125, -0.007171630859375, -0.00146484375, 0.00860595703125, -0.007598876953125, -0.002227783203125, 0.0045166015625, 0.00091552734375, -0.0107421875, -0.016357421875, 0.0087890625, 9.1552734375e-05, 0.0101318359375, 0.0038604736328125, 0.006103515625, 0.00078582763671875, -0.00640869140625, -0.010009765625, 0.00390625, -0.0021514892578125, 0.00311279296875, -0.0020751953125, -0.01385498046875, -0.01141357421875, -0.021240234375, 0.0007171630859375, -0.006378173828125, 0.0164794921875, -0.01318359375, 0.000274658203125, 0.004486083984375, 0.011962890625, -0.0152587890625, -0.000152587890625, 0.02294921875, -0.005279541015625, 0.00421142578125, 0.005126953125, 0.01123046875, -0.0123291015625, 0.001220703125, 0.01470947265625, -0.013916015625, -0.00323486328125, 0.0031890869140625, 0.005218505859375, -0.003814697265625, 0.005035400390625, -0.0263671875, 0.0118408203125, 0.00762939453125, -0.00079345703125, -0.006744384765625, 0.0028533935546875, -0.00927734375, -0.0118408203125, -0.00970458984375, -0.0037078857421875, -0.00482177734375, -0.00225830078125, 0.00970458984375, -0.0064697265625, -0.00323486328125, 0.010986328125, -0.0029754638671875, -0.0242919921875, 0.0001678466796875, 0.0003662109375, -0.0084228515625, 0.01141357421875, 0.00396728515625, 0.0059814453125, -0.00311279296875, 0.0301513671875, 0.00799560546875, 0.0064697265625, 0.00762939453125, 0.00634765625, -0.00653076171875, 0.00506591796875, 0.011962890625, -0.00433349609375, -0.0181884765625, -0.0107421875, -0.01953125, -0.01068115234375, -0.006103515625, -0.00640869140625, -0.0023956298828125, -0.0048828125, -0.00408935546875, 0.00994873046875, 0.00433349609375, -0.00311279296875, -0.01953125, 0.00921630859375, 0.01416015625, -0.000701904296875, 0.012451171875, 0.0076904296875, -0.0164794921875, 0.00115966796875, 0.0135498046875, 0.01806640625, 0.005126953125, -0.01129150390625, 0.00372314453125, 0.0020904541015625, 0.00390625, 0.00162506103515625, -0.006988525390625, 0.003692626953125, -0.00982666015625, -0.007568359375, 0.017578125, 0.0081787109375, -0.004730224609375, -0.0098876953125, 0.004302978515625, -0.0146484375, 0.009033203125, -0.0015716552734375, -0.01025390625, 0.00238037109375, 0.0174560546875, 0.00555419921875, -0.0120849609375, 0.007171630859375, -0.0021820068359375, 0.00738525390625, 0.00048828125, 0.0045166015625, -0.011962890625, 0.0128173828125, 0.0078125, 0.019775390625, 0.0031890869140625, 0.004974365234375, -0.0015869140625, -0.01312255859375, 0.00830078125, 0.00396728515625, 0.0103759765625, 0.000640869140625, -0.004730224609375, 0.017578125, 0.002410888671875, 0.01904296875, 0.0125732421875, -0.0018310546875, -0.003509521484375, -0.000152587890625, 0.005279541015625, 0.004180908203125, 0.00274658203125, -0.0003662109375, 0.0101318359375, 0.0035400390625, 0.00506591796875, -0.0057373046875, 0.011962890625, -0.01220703125, 0.021484375, 0.02978515625, 0.005950927734375, -0.021484375, 0.006591796875, 0.0098876953125, 0.004241943359375, -0.00726318359375, 0.00177001953125, -0.0035400390625, 0.001953125, 0.0013580322265625, -0.00927734375, 0.02197265625, 0.00408935546875, -0.000640869140625, 0.0037841796875, -0.00286865234375, -0.007598876953125, -0.010986328125, 0.00396728515625, 0.01275634765625, -0.0107421875, 0.0014801025390625, 0.0006103515625, -0.003173828125, -0.009033203125, 0.0081787109375, 0.0052490234375, 0.00750732421875, 0.01031494140625, -0.00286865234375, 0.007354736328125, 0.02001953125, -0.0155029296875, -0.00384521484375, -0.00982666015625, -0.00142669677734375, -0.0042724609375, -0.006317138671875, 0.00482177734375, -0.0089111328125, 0.0025634765625, -0.00830078125, 0.004425048828125, 0.00634765625, -0.002349853515625, 0.00640869140625, 0.0072021484375, -0.013427734375, 0.00732421875, -0.0164794921875, 0.005828857421875, -0.01171875, -0.003997802734375, 0.003662109375, -0.005035400390625, 0.0135498046875, 0.00299072265625, 0.00439453125, -0.0068359375, -0.001434326171875, 0.003204345703125, 0.0034332275390625, -0.003265380859375, 0.00087738037109375, 0.018310546875, 0.0001220703125, 0.0240478515625, -0.00799560546875, -0.015380859375, -0.019775390625, -0.00445556640625, -0.0252685546875, -0.0120849609375, -0.002410888671875, -0.01177978515625, -0.0016021728515625, -0.03125, -0.001708984375, 0.00018310546875, -0.01806640625, 0.01239013671875, 0.00201416015625, -0.0023040771484375, -0.00494384765625, -0.001251220703125, -0.00408935546875, -0.0026397705078125, -0.00335693359375, 0.007659912109375, -0.003021240234375, 0.018310546875, -0.0006866455078125, -0.0205078125, -1.71661376953125e-05, -0.00469970703125, 0.021484375, 0.0040283203125, 0.013427734375, -0.01416015625, -0.000244140625, -0.005767822265625, 0.006988525390625, -0.012939453125, -0.00616455078125, 0.01214599609375, 0.0003070831298828125, 0.004180908203125, 0.0107421875, 0.0015869140625, 0.00634765625, -0.0054931640625, 0.005035400390625, 0.01068115234375, 0.0057373046875, 0.013671875, 0.01385498046875, 0.019775390625, -0.0111083984375, -0.00689697265625, -0.003936767578125, 0.00494384765625, -0.009765625, -0.00103759765625, -0.007080078125, -1.52587890625e-05, 0.010498046875, -0.00750732421875, -0.0087890625, 0.028076171875, -0.00323486328125, 0.01422119140625, 0.00445556640625, -0.00665283203125, -0.0035400390625, 0.003631591796875, 0.006072998046875, -0.000213623046875, 0.0045166015625, -0.010498046875, 0.002899169921875, 0.00018310546875, 0.001556396484375, -0.0009765625, -0.00095367431640625, 0.0054931640625, 0.01031494140625, -0.007781982421875, 0.005462646484375, 0.0084228515625, 0.0142822265625, -0.010498046875, 0.0020294189453125, -0.0128173828125, -0.01373291015625, 0.002105712890625, -0.020263671875, -0.00811767578125, -0.00018310546875, -0.0189208984375, 0.0125732421875, -0.00830078125, -0.007354736328125, 0.006072998046875, 0.0167236328125, 0.001678466796875, -0.00848388671875, -0.008056640625, 0.003814697265625, 0.00341796875, 0.01904296875, -0.004547119140625, -0.0010986328125, 0.00299072265625, 0.00970458984375, 0.0101318359375, 0.00506591796875, 0.0137939453125, -0.002899169921875, 0.005889892578125, -0.007232666015625, -0.005218505859375, 0.00848388671875, -0.0017242431640625, 0.0162353515625, -0.010986328125, 0.0152587890625, -0.0096435546875, -0.01165771484375, -0.000213623046875, -0.01324462890625, 0.00628662109375, -0.0111083984375, -0.03369140625, -0.0145263671875, 0.00201416015625, 0.00958251953125, -0.00299072265625, 0.02880859375, -0.014892578125, 0.00567626953125, 0.0001220703125, -0.0067138671875, -0.0089111328125, -0.016845703125, 0.0155029296875, -0.00689697265625, -0.00872802734375, 0.0001220703125, 0.014892578125, -0.00885009765625, 0.00030517578125, -0.012451171875, 0.01226806640625, 0.0007171630859375, 0.010498046875, -0.00194549560546875, -0.0027618408203125, -0.01129150390625, -0.0150146484375, 0.01397705078125, -0.0020751953125, 0.0074462890625, 0.0081787109375, -0.0037841796875, -0.00567626953125, -0.00152587890625, -0.00872802734375, 0.01336669921875, 0.01611328125, 0.0023193359375, 0.0123291015625, 0.0108642578125, 0.00616455078125, -0.00970458984375, 0.01275634765625, -0.018798828125, 0.0284423828125, 0.006683349609375, 0.017578125, -0.014892578125, 0.0186767578125, -0.0216064453125, -0.00872802734375, 0.028076171875, -0.00836181640625, -0.0135498046875, 0.01177978515625, -0.005126953125, 0.0111083984375, 0.0068359375, -0.005096435546875, -0.0036468505859375, 0.0091552734375, 0.021728515625, 0.0157470703125, -0.00543212890625, -0.0196533203125, 0.0035247802734375, -0.0067138671875, -0.007476806640625, 0.002655029296875, -0.027099609375, -0.0181884765625, 0.011962890625, 0.00017547607421875, -0.00665283203125, 0.012939453125, 0.01171875, -0.017822265625, 0.0185546875, -0.00201416015625, 0.02392578125, -0.0017547607421875, 0.02099609375, -0.00384521484375, 0.01495361328125, -0.0028076171875, -0.00567626953125, 0.00958251953125, 0.01544189453125, -0.00030517578125, -0.0086669921875, 0.0059814453125, -0.01116943359375, 0.01055908203125, -0.003692626953125, 0.0072021484375, -0.007568359375, -0.00030517578125, -0.0067138671875, 0.007049560546875, -0.01031494140625, -0.0032196044921875, -0.00133514404296875, 0.00982666015625, -0.017822265625, 0.0084228515625, 0.00714111328125, -0.0062255859375, -0.00689697265625, 0.0286865234375, 0.002197265625, 0.0157470703125, -0.01080322265625, 0.003631591796875, 0.01361083984375, 0.01458740234375, -0.005126953125, -0.004150390625, -0.0032958984375, 0.0101318359375, 0.003692626953125, -0.0054931640625, 0.002471923828125, -0.00213623046875, -0.0057373046875, 0.001708984375, -0.003143310546875, 0.031982421875, 0.00836181640625, 0.007476806640625, -0.00762939453125, 0.002105712890625, -0.009521484375, -0.005462646484375, 0.0159912109375, -0.015380859375, 0.006378173828125, 0.001495361328125, 0.005645751953125, -0.0072021484375, -0.001708984375, -0.015625, -0.0242919921875, 0.00640869140625, 0.002593994140625, 0.0001220703125, 0.00787353515625, -0.0079345703125, -0.00787353515625, -0.0035552978515625, 0.0019683837890625, 0.0028076171875, 0.00445556640625, 0.0084228515625, 0.0108642578125, -0.0201416015625, 0.005462646484375, -0.00537109375, 0.001007080078125, -0.005126953125, 0.00250244140625, -0.00030517578125, -0.01904296875, 0.0208740234375, 0.00091552734375, -0.0023345947265625, 0.014404296875, -0.0030517578125, -0.00653076171875, 0.00531005859375, 0.012939453125, 0.00433349609375, -0.003143310546875, -0.027099609375, -0.016845703125, 0.007293701171875, -0.00171661376953125, 0.00457763671875, 0.0013275146484375, -0.0086669921875, -0.0137939453125, 0.00531005859375, 0.001739501953125, 0.00665283203125, 0.00372314453125, -0.00592041015625, -0.0107421875, -0.015869140625, 0.00543212890625, -0.00787353515625, 0.01513671875, 0.0010223388671875, -0.0123291015625, 0.01177978515625, -0.007659912109375, -0.01104736328125, 0.00970458984375, 0.0001983642578125, -0.00537109375, -0.00128173828125, 0.007568359375, 0.0181884765625, -0.0137939453125, -0.006866455078125, -0.00872802734375, 0.015625, -0.003204345703125, -0.00653076171875, -0.010009765625, 0.0022125244140625, 0.0213623046875, 0.01153564453125, -0.0101318359375, -0.0059814453125, 0.003753662109375, 0.013671875, -0.0029144287109375, -0.01348876953125, -0.01220703125, -0.018310546875, -0.0169677734375, -0.01458740234375, 0.00079345703125, -0.00396728515625, -0.0164794921875, 0.00167083740234375, -0.0242919921875, 0.0, -0.0191650390625, -0.00848388671875, 0.000823974609375, -0.00164794921875, 0.005828857421875, -0.0057373046875, 0.003173828125, -0.0361328125, 0.0155029296875, 0.00421142578125, -0.0106201171875, 0.0089111328125, 0.0042724609375, 0.0036163330078125, -0.00616455078125, -0.0123291015625, -0.005523681640625, 0.00830078125, -0.00018310546875, -0.007568359375, 0.00042724609375, 0.0093994140625, 0.00579833984375, -0.0380859375, -0.006072998046875, 0.0186767578125, -0.0005950927734375, 0.02001953125, -0.0032501220703125, -0.006134033203125, 0.0106201171875, -0.0002899169921875, 0.0022125244140625, 0.00665283203125, 0.00714111328125, -0.0093994140625, 0.01806640625, -0.0179443359375, 0.00048828125, 0.01055908203125, -0.00714111328125, -0.005523681640625, -0.0009918212890625, 0.00750732421875, -0.0029296875, -0.00335693359375, -0.01422119140625, -0.0018310546875, -0.00048828125, -0.01611328125, -0.02197265625, -0.00592041015625, 0.008544921875, -0.0004730224609375, 0.0103759765625, 0.0021514892578125, 0.00360107421875, 0.00106048583984375, 0.023193359375, 0.00775146484375, 0.015869140625, -0.0064697265625, 0.0013427734375, 0.001007080078125, -0.012451171875, -0.00054931640625, 0.0155029296875, 0.009765625, 0.00390625, -0.00628662109375, 0.02783203125, -0.003570556640625, 0.00421142578125, -0.000720977783203125, 0.00897216796875, -0.00185394287109375, 0.0125732421875, 0.0034637451171875, -0.0009918212890625, -0.00860595703125, 0.02685546875, -0.001708984375, 0.01116943359375, -0.00183868408203125, 0.0101318359375, -0.01031494140625, -0.0037841796875, -0.017333984375, -0.001953125, 0.01611328125, 0.00439453125, 0.01220703125, 0.0125732421875, 0.007080078125, 0.0205078125, -0.00360107421875, 0.0, 0.022216796875, 0.0019683837890625, 0.0135498046875, 0.01031494140625, -0.00089263916015625, -0.0089111328125, -0.01513671875, 3.0517578125e-05, 0.02197265625, 0.0025482177734375, -0.0016937255859375, 0.02978515625, 0.004486083984375, 0.005279541015625, -0.007080078125, -0.0096435546875, -0.00299072265625, 0.00628662109375, -0.007476806640625, -0.01092529296875, 0.0069580078125, 0.00933837890625, 0.033203125, -0.0037841796875, 0.01263427734375, -0.0101318359375, 0.005706787109375, -0.024658203125, 0.0029144287109375, -0.0179443359375, -0.005706787109375, -0.00653076171875, -0.0022735595703125, 0.00616455078125, -0.0038604736328125, -0.010009765625, 0.006103515625, 0.00872802734375, 0.00787353515625, 0.00592041015625, 0.0015869140625, -0.000152587890625, -0.01300048828125, -0.017822265625, -0.00799560546875, -0.01458740234375, -0.0089111328125, 0.020263671875, -0.0001068115234375, -0.0037841796875, 0.0093994140625, 0.0029144287109375, 0.0037689208984375, 0.002288818359375, 0.006500244140625, 0.0048828125, 0.00653076171875, 0.0189208984375, 9.1552734375e-05, 0.016357421875, -0.0030059814453125, 0.00494384765625, -0.00677490234375, 0.006439208984375, -0.0089111328125, 9.1552734375e-05, 0.0106201171875, -0.0098876953125, -0.002105712890625, 0.000946044921875, 0.01080322265625, -0.0030364990234375, -0.0012664794921875, -0.01422119140625, -0.00701904296875, 0.016357421875, 0.0203857421875, 0.0169677734375, 0.007171630859375, 0.01348876953125, -0.0030670166015625, -0.00146484375, 0.0098876953125, -0.006805419921875, 0.0074462890625, -0.003570556640625, 0.005584716796875, -0.026611328125, 0.0005950927734375, 0.0125732421875, 0.004974365234375, 0.00160980224609375, 0.002685546875, 0.00090789794921875, -0.0047607421875, -0.0018463134765625, 0.00946044921875, 0.008544921875, -0.00628662109375, 0.0189208984375, -0.00677490234375, -0.004669189453125, -0.00677490234375, 0.017822265625, -0.004302978515625, -0.0072021484375, -0.00958251953125, -0.002044677734375, 0.0064697265625, -0.0142822265625, 0.002655029296875, 0.004241943359375, -0.0174560546875, -0.00030517578125, -0.00872802734375, 0.00823974609375, -0.0035247802734375, 0.0069580078125, 0.0115966796875, -0.00933837890625, 0.0150146484375, 0.00244140625, -0.00262451171875, 0.00060272216796875, 0.02783203125, -0.01513671875, 0.00194549560546875, 0.0120849609375, -0.0157470703125, 0.025634765625, 0.007293701171875, -0.0137939453125, 0.0023956298828125, -0.003265380859375, 0.01068115234375, -0.0120849609375, -0.0147705078125, 0.00142669677734375, -0.00665283203125, 0.007659912109375, 0.0128173828125, 0.002685546875, -0.0059814453125, 0.00701904296875, -0.00103759765625, 0.0167236328125, -0.0111083984375, 0.0150146484375, -0.00958251953125, -0.00244140625, 0.0177001953125, 0.00079345703125, 0.017578125, -0.024169921875, -0.00946044921875, 0.0206298828125, -0.022705078125, 0.0123291015625, 0.0093994140625, 0.0003204345703125, -0.0089111328125, -0.008544921875, 0.0101318359375, 0.0103759765625, -0.00872802734375, -0.01226806640625, -0.0009002685546875, -0.001983642578125, 0.02490234375, -0.005462646484375, -0.004150390625, -0.012939453125, 0.00107574462890625, -0.0018768310546875, 0.003509521484375, 0.001434326171875, -0.0130615234375, 0.002105712890625, 0.020751953125, 0.00604248046875, -0.004425048828125, 0.007781982421875, -0.0084228515625, 0.021484375, 0.0022735595703125, -0.0208740234375, 0.008056640625, 0.004669189453125, 0.00131988525390625, 0.00897216796875, -0.01239013671875, -0.0047607421875, 0.0010986328125, 0.00518798828125, 0.00762939453125, -0.00118255615234375, -0.0211181640625, 0.00689697265625, -0.00823974609375, -0.000946044921875, -0.0096435546875, -0.006622314453125, 0.0147705078125, -0.01409912109375, 0.00848388671875, 0.005096435546875, 0.0203857421875, -0.0086669921875, -0.001556396484375, 0.01104736328125, -0.000640869140625, -0.01123046875, 0.003204345703125, -0.02099609375, 0.01300048828125, 0.031005859375, -0.0067138671875, -0.0142822265625, -0.01251220703125, -0.003692626953125, -0.0031280517578125, 0.00592041015625, -0.001983642578125, -0.0103759765625, -0.015625, -0.00445556640625, 0.00128173828125, -0.01104736328125, -0.0030364990234375, -0.0037994384765625, 0.004425048828125, 0.00738525390625, 0.017333984375, 0.01190185546875, -0.0118408203125, 0.001190185546875, 0.004669189453125, -0.0067138671875, -0.01806640625, 0.01177978515625, 0.015625, 0.0159912109375, -0.00384521484375, -0.032958984375, -0.005859375, 0.00238037109375, -0.023681640625, 0.015869140625, -0.01171875, 0.000396728515625, 0.0038299560546875, -0.0189208984375, -0.00457763671875, 0.004241943359375, -0.00439453125, -0.0081787109375, -0.004425048828125, -0.00677490234375, -0.0096435546875, 0.001556396484375, 0.0016021728515625, 0.001861572265625, 0.0118408203125, -0.008056640625, 0.001068115234375, -0.0308837890625, 0.0008087158203125, 0.0169677734375, -0.01373291015625, 0.003814697265625, 0.0081787109375, 0.0120849609375, -0.016357421875, 0.0010223388671875, 0.0137939453125, -0.007110595703125, -0.01422119140625, -0.0087890625, 0.00042724609375, 0.0162353515625, 0.0244140625, -0.0001220703125, -0.0010223388671875, 0.015380859375, 0.00189208984375, 0.000244140625, 0.00848388671875, 0.019775390625, 0.0123291015625, 0.004119873046875, 0.00634765625, 0.0059814453125, -0.013427734375, 0.0174560546875, -0.0093994140625, 0.012939453125, 0.0017547607421875, 0.00665283203125, 0.0184326171875, -0.0093994140625, -0.006744384765625, -0.00341796875, -0.0006103515625, -0.0120849609375, -0.017333984375, -0.00921630859375, 0.012451171875, -0.00058746337890625, 0.007537841796875, 0.0074462890625, 0.021484375, -0.00537109375, -0.01806640625, -0.01141357421875, -0.005157470703125, 0.0033111572265625, 0.0196533203125, -0.00799560546875, -0.0034332275390625, 0.01220703125, 0.01275634765625, 0.00146484375, 0.020751953125, 0.015625, -0.0010986328125, -0.01397705078125, 0.005096435546875, 0.011962890625, 0.0047607421875, -0.0091552734375, 0.006378173828125, -0.013671875, 0.00543212890625, 0.007049560546875, 0.0203857421875, 0.010498046875, -0.0181884765625, 0.00445556640625, 0.00860595703125, -0.0072021484375, -0.0033111572265625, -0.00115966796875, 0.029296875, -0.007781982421875, -0.002593994140625, -0.00084686279296875, -0.00091552734375, 0.00048828125, 0.003662109375, 0.013671875, -0.015625, -0.00653076171875, -0.00738525390625, 0.00384521484375, 0.005279541015625, 0.00494384765625, -0.0089111328125, 0.002777099609375, 0.00177001953125, -0.0048828125, 0.00653076171875, 0.006927490234375, -0.0108642578125, 0.0147705078125, 0.0101318359375, -0.00750732421875, -0.0047607421875, 0.005157470703125, -0.0142822265625, 0.0234375, -0.007293701171875, 0.0001220703125, -0.0206298828125, -0.0016632080078125, -0.028564453125, -0.011474609375, -0.0084228515625, -0.0103759765625, -0.001556396484375, 0.001220703125, 0.01611328125, 0.0157470703125, 0.00396728515625, -0.0126953125, 0.0035400390625, 0.0010986328125, -0.0050048828125, 0.00146484375, 0.018310546875, 0.0042724609375, 0.004730224609375, -0.006744384765625, -0.005615234375, 0.0057373046875, -0.001251220703125, -0.01806640625, 0.0013580322265625, 0.01434326171875, -0.003143310546875, 0.0084228515625, 0.01220703125, 0.012451171875, 0.006561279296875, 0.0003662109375, 0.0103759765625, 0.0390625, 0.012451171875, 0.0205078125, -0.0035400390625, 0.00799560546875, 0.023681640625, 0.01025390625, 0.001739501953125, 0.0023193359375, 0.01324462890625, -0.0038909912109375, -0.01385498046875, 0.013671875, 0.00421142578125, 0.00323486328125, 0.004730224609375, -0.0013427734375, 0.003082275390625, -0.0093994140625, 0.0004730224609375, -0.0023040771484375, 0.00341796875, -0.0078125, -0.005340576171875, -0.0022125244140625, 0.006988525390625, 0.002105712890625, -0.0033111572265625, -0.00152587890625, 0.01116943359375, 0.004608154296875, -0.004364013671875, -0.0021820068359375, -0.000457763671875, -0.0115966796875, -0.00885009765625, 0.0166015625, -0.00933837890625, 0.00018310546875, 0.00738525390625, 0.0035400390625, 0.000457763671875, 0.0115966796875, -0.00836181640625, 0.0006103515625, -0.0037841796875, 0.0107421875, -0.005645751953125, -0.011474609375, -0.01373291015625, -0.0206298828125, 0.0047607421875, -0.00030517578125, 0.00775146484375, -0.00054931640625, 0.00091552734375, 0.00579833984375, -0.01019287109375, -0.01348876953125, -0.0037841796875, 0.0123291015625, 0.02099609375, 0.0159912109375, 0.00408935546875, 0.008544921875, 0.015869140625, -0.00567626953125, 0.010009765625, -0.001678466796875, 0.00677490234375, -0.0093994140625, 0.001251220703125, 0.01068115234375, 0.00836181640625, -0.00811767578125, 0.00860595703125, 0.01019287109375, -0.00787353515625, -0.008544921875, -0.00115966796875, -0.007232666015625, -0.00091552734375, -0.0069580078125, 0.00017547607421875, 0.0126953125, 0.004791259765625, 0.0020751953125, -0.010009765625, -0.004150390625, 0.01446533203125, 0.01495361328125, -0.0201416015625, -0.005279541015625, -0.0106201171875, 0.0089111328125, -0.0159912109375, -0.001678466796875, 0.0147705078125, 0.00640869140625, -0.00567626953125, 0.00897216796875, -0.00390625, -0.00341796875, 0.007659912109375, -0.013427734375, 0.000926971435546875, -0.0189208984375, 0.0040283203125, -0.006988525390625, -0.00640869140625, -0.001007080078125, -0.025146484375, -0.01025390625, 0.0184326171875, -0.0137939453125, -0.0167236328125, -0.0002574920654296875, 0.0018157958984375, -0.0096435546875, -0.003753662109375, 0.0106201171875, -0.00738525390625, 0.0145263671875, -0.00067138671875, 0.01190185546875, 0.0140380859375, 0.012939453125, 0.00830078125, 0.005706787109375, 0.0128173828125, -0.0126953125, 0.00323486328125, 0.00360107421875, 0.00140380859375, -0.004608154296875, -0.0035858154296875, 0.0020599365234375, -0.00677490234375, 0.0103759765625, -0.002227783203125, -0.000732421875, -0.013671875, -0.00732421875, -0.0135498046875, 0.00811767578125, 0.006622314453125, -0.004669189453125, -0.001922607421875, -0.01416015625, -0.0181884765625, 0.007568359375, -0.00634765625, 0.0089111328125, -0.01708984375, 0.006378173828125, -0.01007080078125, -0.01483154296875, 0.00360107421875, 0.0002288818359375, 0.00714111328125, -0.01318359375, 0.0030059814453125, 0.02001953125, 0.03759765625, 0.0045166015625, -0.0128173828125, -0.0113525390625, -0.00506591796875, 0.01068115234375, -0.0062255859375, -0.006317138671875, 0.01409912109375, -0.00927734375, -0.006439208984375, -0.0001220703125, -0.00848388671875, -0.00897216796875, 0.006683349609375, 0.0, 0.0023345947265625, -0.0019073486328125, 0.0057373046875, -0.000545501708984375, 0.02001953125, 0.0028076171875, -0.00537109375, 0.00628662109375, 0.01129150390625, -0.00665283203125, -0.002044677734375, -0.00494384765625, 0.0185546875, 0.00433349609375, -0.01434326171875, 0.0098876953125, 0.01116943359375, 0.00244140625, -0.00225830078125, -0.00396728515625, 0.00060272216796875, 0.003936767578125, -0.0074462890625, 0.00103759765625, 0.01318359375, -0.00506591796875, 0.00018310546875, -0.00042724609375, -0.005523681640625, -0.0106201171875, -0.0062255859375, -0.0010833740234375, -0.02490234375, 0.006256103515625, 0.00014495849609375, -0.015625, -0.0023193359375, 0.0130615234375, -0.005767822265625, -0.02392578125, 0.0030517578125, 0.012451171875, -0.004913330078125, -0.01300048828125, -0.01025390625, 0.0150146484375, -0.0087890625, 0.000762939453125, 0.00250244140625, -0.0020751953125, -0.0247802734375, 0.003143310546875, -0.00933837890625, -0.00074005126953125, 0.0111083984375, -0.028076171875, 0.016357421875, -0.00909423828125, 0.031982421875, -0.00531005859375, 0.00537109375, 0.00830078125, -0.00016021728515625, -0.02392578125, -0.00201416015625, 0.00714111328125, -0.01287841796875, 0.00439453125, 0.01708984375, -0.005462646484375, -0.01446533203125, -0.009765625, -0.010498046875, -0.003173828125, -0.03173828125, 0.010498046875, -0.0006103515625, -0.00457763671875, 0.00616455078125, 0.0123291015625, -0.00970458984375, -0.017822265625, 0.00653076171875, 0.023681640625, -0.0159912109375, -0.00164794921875, 0.0081787109375, 0.0037841796875, 0.0194091796875, -0.009521484375, -0.00494384765625, -0.0203857421875, -0.024169921875, 0.020751953125, 0.00162506103515625, -0.0137939453125, -0.01513671875, -0.009765625, 0.025634765625, 0.003936767578125, -0.003814697265625, 0.01416015625, -0.004974365234375, 0.0089111328125, 0.020263671875, -0.004547119140625, 0.0123291015625, 0.00592041015625, 0.01239013671875, -0.01129150390625, 0.0008544921875, 0.0113525390625, 0.0064697265625, 0.0028228759765625, -0.04296875, -0.004974365234375, 0.01092529296875, -0.0068359375, -0.015869140625, -0.0016326904296875, 0.0125732421875, -0.0032806396484375, -0.018798828125, -0.0067138671875, -0.00970458984375, -0.02490234375, 0.0108642578125, 0.00982666015625, -0.0118408203125, 0.00946044921875, -0.01025390625, -0.0111083984375, 0.019287109375, -0.001495361328125, 0.00811767578125, 0.0035552978515625, -0.01190185546875, 0.00186920166015625, 0.0125732421875, 0.007415771484375, 0.0098876953125, 0.031005859375, 0.0107421875, 0.0272216796875, -0.0177001953125, -0.02734375, -0.020263671875, -0.0032958984375, -0.0024871826171875, -0.00640869140625, -0.00213623046875, 0.0024871826171875, 0.006195068359375, 0.00213623046875, -0.0002593994140625, -0.004974365234375, -0.009765625, -0.001190185546875, -0.00125885009765625, 0.000335693359375, 0.01226806640625, -0.00384521484375, -0.01220703125, 0.005462646484375, -0.002960205078125, 0.01141357421875, 0.002197265625, 0.0022125244140625, 0.0115966796875, 0.0048828125, 0.0009765625, 0.00543212890625, 0.0260009765625, -0.0018310546875, -0.0064697265625, -0.00201416015625, -0.00433349609375, -0.004974365234375, 0.015625, -0.006378173828125, -0.0072021484375, 0.00060272216796875, 6.103515625e-05, 0.0074462890625, 0.007720947265625, -0.0002288818359375, 1.52587890625e-05, -0.00830078125, -0.0166015625, 0.0020751953125, 0.01190185546875, 0.0008544921875, 0.0150146484375, -0.000213623046875, -0.00089263916015625, -0.01129150390625, 0.004913330078125, 0.000457763671875, -0.0135498046875, 0.00262451171875, 0.01513671875, -0.0113525390625, -0.0147705078125, -0.008056640625, 0.004302978515625, 0.011474609375, -0.01080322265625, -0.0040283203125, -0.010986328125, 0.0084228515625, -0.028076171875, 0.003997802734375, -0.01031494140625, 0.01116943359375, -0.0118408203125, -0.01470947265625, 0.0067138671875, -0.00482177734375, -0.009765625, 0.0203857421875, -0.0140380859375, 0.0042724609375, -0.01513671875, 0.005645751953125, 0.01116943359375, -0.020263671875, 0.0064697265625, 0.0025177001953125, 0.01190185546875, 0.0023193359375, -0.006561279296875, -0.00032806396484375, -0.0057373046875, -0.0009918212890625, -0.00286865234375, 0.00994873046875, -0.01214599609375, 0.01080322265625, 0.02001953125, -0.018310546875, 0.0118408203125, 0.0228271484375, -0.0067138671875, -0.0115966796875, 0.010498046875, -0.0234375, -0.01287841796875, -0.004730224609375, 0.002838134765625, -0.00653076171875, 0.012451171875, 0.0004730224609375, -0.006622314453125, 0.0130615234375, 0.00830078125, 0.012939453125, 0.018310546875, -0.0093994140625, 0.01202392578125, 0.0242919921875, 0.01190185546875, 0.00604248046875, 0.017333984375, -0.00390625, -0.017333984375, -0.01239013671875, -0.00555419921875, 0.01171875, -0.000823974609375, -0.005126953125, -0.0006103515625, 0.00787353515625, -0.003997802734375, -0.00543212890625, -0.000213623046875, 0.004425048828125, 6.103515625e-05, -0.000823974609375, 0.01123046875, -0.01446533203125, -0.00640869140625, 0.00045013427734375, -0.0081787109375, -0.00262451171875, -0.01092529296875, 0.00360107421875, -0.01513671875, -0.0208740234375, 0.00213623046875, 0.00469970703125, 0.0113525390625, -0.006439208984375, -0.0067138671875, -0.0027923583984375, -0.00836181640625, 0.035400390625, 0.0037841796875, -0.0101318359375, -0.0106201171875, 0.00128173828125, -0.0020751953125, -0.014892578125, 0.0128173828125, 0.0081787109375, -0.00994873046875, -0.007415771484375, -0.000244140625, -0.0052490234375, 0.006622314453125, 0.007476806640625, 0.000640869140625, -0.0264892578125, 0.0130615234375, -0.00335693359375, -0.001556396484375, -0.0130615234375, -0.00946044921875, 0.0146484375, 0.004730224609375, -0.025634765625, -0.00518798828125, -0.0029296875, -0.029296875, 0.00128173828125, 0.021728515625, -0.00457763671875, 0.0238037109375, -0.0201416015625, -0.0047607421875, 0.001129150390625, -0.004180908203125, 0.00103759765625, -0.00848388671875, 0.0011749267578125, -0.005462646484375, -0.0078125, 0.008544921875, -0.001495361328125, 0.00616455078125, 0.00885009765625, 0.00018310546875, -0.0096435546875, -0.0045166015625, -0.0030517578125, 0.0078125, -0.0166015625, -0.002044677734375, -0.0078125, -0.0045166015625, -0.0103759765625, 0.00750732421875, -0.0123291015625, -0.0123291015625, 0.0020904541015625, -0.004119873046875, 0.01177978515625, 0.010986328125, 0.0101318359375, -0.00360107421875, -0.0014495849609375, 0.00286865234375, 0.006134033203125, 0.0120849609375, -0.0045166015625, -0.00054931640625, 0.0011138916015625, 0.0052490234375, -0.024169921875, 0.01300048828125, 0.001068115234375, -0.019775390625, -0.01165771484375, -0.0014801025390625, -0.0238037109375, 0.0185546875, 0.006134033203125, -0.00592041015625, 0.004425048828125, 0.021728515625, 0.00714111328125, 0.0145263671875, 0.00445556640625, -0.00238037109375, -0.005126953125, 0.0072021484375, -0.0038299560546875, -0.0079345703125, -0.0091552734375, 0.0003662109375, 3.0517578125e-05, 0.0162353515625, 0.00439453125, -0.01531982421875, 0.0012054443359375, 0.003143310546875, 0.00732421875, 0.001556396484375, 0.0107421875, 0.0162353515625, -0.01019287109375, 0.01226806640625, -0.01275634765625, 0.01171875, 0.00323486328125, -0.00067138671875, -0.01171875, -0.000762939453125, -0.0291748046875, 0.0050048828125, -0.012451171875, -0.001190185546875, 0.00079345703125, 0.003997802734375, 0.006256103515625, 0.005859375, -0.0103759765625, 0.00421142578125, 0.0107421875, -0.001190185546875, 0.009765625, 0.021484375, -0.0166015625, -0.003387451171875, -0.0191650390625, 0.0198974609375, 0.002288818359375, -0.003692626953125, 0.024169921875, 0.0108642578125, -0.013427734375, 0.012939453125, 0.00775146484375, -0.01019287109375, -0.006439208984375, -0.010986328125, 0.00701904296875, 0.00762939453125, 0.001953125, -0.011962890625, -0.0184326171875, 0.0172119140625, -0.0172119140625, -0.00628662109375, -0.00091552734375, 0.00153350830078125, 0.007080078125, -0.0010986328125, 0.000732421875, -0.0022430419921875, 0.00201416015625, -0.005828857421875, -0.007232666015625, 0.0322265625, 0.000823974609375, 0.0079345703125, -0.007293701171875, -0.00640869140625, -0.0037384033203125, -0.0086669921875, 0.0050048828125, -0.0047607421875, -0.01019287109375, 0.02978515625, 0.01904296875, 0.005859375, 0.0074462890625, 0.0037078857421875, 0.0025787353515625, -0.0184326171875, 0.002197265625, 0.00933837890625, -0.00628662109375, 0.005035400390625, 0.0003509521484375, -0.002471923828125, -0.0048828125, 0.00897216796875, 0.0007476806640625, 0.0015869140625, 0.007415771484375, -0.004486083984375, 0.0135498046875, 0.0189208984375, -0.00933837890625, -0.0205078125, 9.1552734375e-05, -0.00689697265625, -0.0036468505859375, -0.0115966796875, -0.0047607421875, 0.01300048828125, -0.00823974609375, 0.01611328125, 0.006256103515625, -0.002410888671875, 0.031494140625, 0.01068115234375, -0.01275634765625, -0.0118408203125, -0.00408935546875, -0.0052490234375, -0.01171875, -0.0137939453125, -0.007568359375, 0.0028076171875, -0.0020599365234375, 0.01116943359375, 0.00579833984375, 0.00885009765625, -0.00042724609375, -0.0023345947265625, -0.004791259765625, 0.008544921875, 0.000518798828125, -0.01116943359375, -0.0064697265625, -0.01226806640625, -0.001312255859375, -0.01422119140625, 0.0026397705078125, 0.00482177734375, -0.006378173828125, -0.01275634765625, 0.0211181640625, 0.01507568359375, 0.00360107421875, -0.003143310546875, 0.022705078125, 0.013427734375, 0.005859375, 0.0015411376953125, 0.01165771484375, -0.00347900390625, 0.0054931640625, -0.010986328125, -0.01409912109375, -0.0059814453125, -0.01104736328125, -0.0084228515625, -0.0216064453125, -0.0079345703125, 0.0023040771484375, -0.005889892578125, -0.00506591796875, 0.00927734375, -0.002777099609375, 0.004119873046875, 0.0087890625, -0.008056640625, -0.0029296875, 0.01336669921875, -0.007537841796875, -0.00927734375, -0.01556396484375, 0.002899169921875, 0.032470703125, 0.0020904541015625, -0.005340576171875, 0.001953125, -0.01312255859375, 0.027099609375, 0.002288818359375, 0.013427734375, -0.001220703125, -0.0228271484375, -0.0145263671875, -0.00482177734375, -0.0035400390625, -0.01361083984375, 0.0025482177734375, 0.0034027099609375, -0.0142822265625, 0.001007080078125, -0.0186767578125, 7.62939453125e-06, 0.0001220703125, 0.006072998046875, 0.0103759765625, -0.00811767578125, -0.01409912109375, 0.00787353515625, -0.006561279296875, 0.006591796875, 0.00079345703125, -0.0172119140625, -0.00384521484375, 0.003173828125, -0.000732421875, 0.0037689208984375, 0.0213623046875, -0.000640869140625, -0.01153564453125, -0.000885009765625, -0.0159912109375, -0.0010528564453125, -0.00543212890625, -0.01129150390625, -0.007476806640625, -0.010009765625, 0.001220703125, -0.0186767578125, 0.00762939453125, -0.00579833984375, -0.005645751953125, 0.01422119140625, 0.007354736328125, -0.0169677734375, 0.01708984375, 0.0103759765625, -0.0172119140625, 0.016845703125, -0.00537109375, 0.00469970703125, -0.00078582763671875, -0.00592041015625, -0.004638671875, -0.011474609375, -0.006317138671875, 0.004180908203125, -0.00018310546875, -0.0106201171875, 0.00482177734375, 0.019287109375, 0.003021240234375, 0.00738525390625, 0.0164794921875, -0.0147705078125, 0.006439208984375, -0.012939453125, 0.0020751953125, -0.0022125244140625, 0.0025482177734375, -0.002960205078125, -0.00054931640625, 0.0223388671875, -0.01031494140625, 0.0084228515625, -0.00390625, -0.0036468505859375, -0.010009765625, -0.002410888671875, -0.01025390625, 0.00726318359375, -0.0074462890625, -0.0009765625, 0.01409912109375, -0.0137939453125, -0.006866455078125, 0.01153564453125, 0.00872802734375, 0.006988525390625, 0.0194091796875, -0.001312255859375, -0.0040283203125, 0.0025482177734375, 0.000518798828125, 0.017822265625, -0.0098876953125, 0.0009765625, -0.0115966796875, -0.016357421875, 0.002349853515625, 0.0011138916015625, -0.0089111328125, 0.003143310546875, -0.01446533203125, -0.017333984375, -0.00872802734375, 0.00518798828125, 0.00372314453125, -0.00146484375, 0.0030364990234375, 0.0009765625, -0.003997802734375, -0.0072021484375, 0.00579833984375, -0.020263671875, 0.0123291015625, 0.00909423828125, -0.0017547607421875, 0.005279541015625, 0.009033203125, 0.0020904541015625, 0.00067138671875, -0.00063323974609375, 0.009521484375, 0.01361083984375, -0.004608154296875, -0.01312255859375, -0.005279541015625, 0.005218505859375, -0.0009002685546875, -0.00311279296875, -0.010498046875, -0.00274658203125, -0.006011962890625, 0.014404296875, -0.0106201171875, 0.00738525390625, -0.0162353515625, -0.0201416015625, -0.0015716552734375, 0.00110626220703125, 0.00616455078125, 0.01556396484375, -0.00133514404296875, 0.0108642578125, 0.004852294921875, -0.0216064453125, 0.00665283203125, -0.0062255859375, 0.00164794921875, 0.002685546875, 0.017333984375, 0.0186767578125, 0.00433349609375, 0.00128173828125, -0.018798828125, -0.01904296875, -0.004913330078125, 0.00049591064453125, -0.00274658203125, 0.0025787353515625, -0.00140380859375, -0.01904296875, 0.008056640625, 0.01544189453125, -0.01080322265625, 0.0093994140625, 0.0016632080078125, -0.005279541015625, -0.02392578125, -0.008056640625, -0.0147705078125, 0.00518798828125, -0.00653076171875, 0.010498046875, 0.01153564453125, -0.00897216796875, -0.0145263671875, -0.00152587890625, 0.000823974609375, -0.00482177734375, 0.00677490234375, 0.022216796875, 0.00701904296875, -0.0052490234375, -0.00787353515625, 0.00830078125, -0.0081787109375, -0.00775146484375, 0.015869140625, -0.00787353515625, 0.0128173828125, -0.007354736328125, -0.0078125, -0.0076904296875, -0.0091552734375, 0.001251220703125, 0.0118408203125, 0.0016632080078125, -0.01287841796875, 0.01031494140625, 0.0029296875, -0.020751953125, 0.0019073486328125, -0.004241943359375, 0.00131988525390625, -0.00830078125, -0.0126953125, -0.00958251953125, 0.0240478515625, 0.00537109375, -0.00115966796875, 0.006439208984375, -0.0081787109375, 0.01177978515625, 0.019775390625, -0.01806640625, -0.0042724609375, -0.0016937255859375, -0.0174560546875, 0.0052490234375, -0.0023193359375, 0.0120849609375, 0.0026092529296875, -0.0054931640625, 0.01611328125, 0.006103515625, 0.00372314453125, 0.012451171875, 0.01422119140625, 0.00046539306640625, 0.0, 0.0016632080078125, -0.005615234375, -0.006683349609375, -0.02734375, -0.01287841796875, -0.00457763671875, -0.00274658203125, 0.0050048828125, -0.0047607421875, 0.016845703125, 0.001922607421875, 0.0024871826171875, -0.00439453125, 0.009033203125, -0.009521484375, -0.01318359375, 0.0076904296875, 0.0001068115234375, 0.00091552734375, 0.015625, -0.00189208984375, 0.00030517578125, 0.0064697265625, -0.00775146484375, 0.006988525390625, -0.0021820068359375, 0.009521484375, -0.0133056640625, -0.002716064453125, 0.000335693359375, -0.000396728515625, -0.002105712890625, -0.020263671875, 0.0125732421875, 0.00885009765625, -0.0018310546875, -0.00103759765625, -0.01239013671875, 0.0038604736328125, 0.0177001953125, -0.030029296875, 0.00714111328125, -0.01336669921875, 0.021240234375, -0.00604248046875, -0.00244140625, 0.015625, -0.0023040771484375, 0.0115966796875, -0.0089111328125, -0.01080322265625, 0.020751953125, -0.025634765625, -0.01806640625, -0.01275634765625, 0.00469970703125, -0.004302978515625, 0.0078125, 0.005401611328125, -0.005859375, -0.00811767578125, -0.010986328125, 0.0120849609375, -0.0093994140625, 0.00433349609375, -0.00927734375, 0.0015869140625, -0.00628662109375, 0.000244140625, -0.01544189453125, 0.00830078125, -0.0155029296875, -0.009521484375, -0.0054931640625, 0.01025390625, -0.0010986328125, 0.0194091796875, 0.01239013671875, 0.0123291015625, -0.02099609375, -0.007568359375, 0.0016021728515625, -0.020751953125, -0.0120849609375, -0.00872802734375, 0.00018310546875, -0.00897216796875, 0.007171630859375, 0.002960205078125, 0.015625, -0.00469970703125, -0.0013580322265625, -0.00054931640625, 0.01007080078125, 0.0146484375, 0.00115966796875, 0.00982666015625, -0.0108642578125, 0.0130615234375, -0.00634765625, -0.004669189453125, 0.01611328125, 0.006927490234375, 0.00439453125, 0.0113525390625, -0.0069580078125, -0.00482177734375, 0.000110626220703125, -0.017578125, -0.001953125, -0.0067138671875, -0.00244140625, -0.00115966796875, 0.01458740234375, 0.010498046875, -0.002349853515625, -0.009033203125, 0.0157470703125, -0.00274658203125, -0.00067138671875, -0.01470947265625, 0.0024871826171875, 0.01171875, 0.01043701171875, 0.00787353515625, 0.0001983642578125, -0.00927734375, -0.0076904296875, -0.0072021484375, 6.103515625e-05, -0.0047607421875, 0.0111083984375, -0.0067138671875, 0.00579833984375, 0.005584716796875, 0.01470947265625, 0.01300048828125, 0.00555419921875, -8.392333984375e-05, 0.0130615234375, 0.0064697265625, -0.010986328125, 0.00396728515625, -0.0087890625, 0.0184326171875, 0.00482177734375, -0.015380859375, 0.00543212890625, 0.0179443359375, -0.0048828125, -0.005126953125, 0.0118408203125, 0.02490234375, 0.0048828125, -0.0135498046875, -0.0025634765625, -0.00830078125, -0.00628662109375, -0.0140380859375, -0.01226806640625, -0.01165771484375, -0.0006561279296875, -0.0162353515625, -0.00238037109375, 0.0018768310546875, 0.0262451171875, -0.0189208984375, -0.00506591796875, 0.016357421875, -0.0107421875, 0.0035400390625, 0.017822265625, -0.00103759765625, 0.0064697265625, 0.00457763671875, 0.00128173828125, 0.012451171875, -0.009521484375, 0.012939453125, -0.0106201171875, -0.01214599609375, 0.0166015625, -0.01123046875, -0.006866455078125, -0.000522613525390625, 0.00225830078125, 0.004119873046875, 0.0042724609375, 0.01495361328125, 0.0034637451171875, 0.001007080078125, -0.0028076171875, 0.00531005859375, -0.0006256103515625, 0.005462646484375, -0.006622314453125, 0.019287109375, 0.007781982421875, -0.01544189453125, -0.03955078125, -0.000396728515625, 0.018798828125, 0.00628662109375, -0.00909423828125, -0.00018310546875, -0.0013427734375, -0.0107421875, -0.010009765625, 0.01263427734375, 0.0020294189453125, 0.004058837890625, -0.0107421875, 0.007568359375, -0.01318359375, -0.012939453125, 0.001495361328125, -0.004638671875, 0.00189208984375, -0.002410888671875, -0.01068115234375, 0.017578125, -0.0125732421875, 0.00634765625, -0.0072021484375, -0.019287109375, 0.0019683837890625, -0.0042724609375, 0.00360107421875, -0.0089111328125, -0.0078125, 0.00946044921875, -0.0186767578125, 0.002777099609375, 0.00360107421875, 0.017333984375, 0.02197265625, -0.01043701171875, 0.0302734375, 0.001190185546875, 0.01116943359375, 0.009521484375, 0.01025390625, 0.00592041015625, -0.004974365234375, -0.007568359375, 0.0087890625, -0.0028076171875, -0.004547119140625, 0.0021514892578125, 0.0012359619140625, 0.0025482177734375, -4.57763671875e-05, 0.0107421875, -0.015625, 0.0045166015625, -0.01806640625, -0.0027313232421875, 0.0120849609375, 0.01483154296875, -0.0017547607421875, -0.00299072265625, 0.0101318359375, -0.0009613037109375, 0.007415771484375, 0.00482177734375, -0.0189208984375, -0.0072021484375, -0.00604248046875, 0.0098876953125, -0.0020751953125, -0.00811767578125, 0.004638671875, -0.0010986328125, -0.0194091796875, 0.0003662109375, -0.0135498046875, -0.00567626953125, -0.002716064453125, -0.01397705078125, 0.0006103515625, -0.018798828125, 0.0191650390625, 0.006256103515625, 0.007781982421875, 0.0008544921875, -0.028076171875, -0.005462646484375, 0.025634765625, -0.0005950927734375, -0.006591796875, -0.0011138916015625, -0.01171875, 0.01806640625, 0.002685546875, 0.0172119140625, 0.0201416015625, -0.0009765625, 0.0013275146484375, -0.01416015625, -0.00909423828125, -9.1552734375e-05, 0.00445556640625, 0.002716064453125, -0.020263671875, -0.014404296875, 0.000885009765625, 0.005340576171875, 0.01446533203125, -0.013671875, 0.0009765625, 0.005218505859375, -0.006683349609375, 0.013916015625, 0.0106201171875, -0.0034027099609375, -0.01422119140625, -0.015380859375, 0.0123291015625, -0.004547119140625, -0.0101318359375, -0.005828857421875, -0.009765625, -0.005157470703125, -0.025146484375, -0.0004425048828125, -0.011474609375, -0.002166748046875, -0.0135498046875, 0.004486083984375, 0.00634765625, -0.03125, 0.0001888275146484375, -0.00244140625, -0.0147705078125, -0.00921630859375, -0.0011138916015625, 0.00738525390625, -0.0194091796875, -0.006683349609375, -0.00592041015625, 0.01214599609375, -0.0101318359375, 0.016845703125, -0.00555419921875, -0.0113525390625, 0.00054931640625, 0.007720947265625, -0.0234375, 0.0084228515625, -0.00274658203125, -0.005767822265625, -0.0091552734375, -0.01171875, -0.00323486328125, 0.0130615234375, 0.0030517578125, 0.00091552734375, 0.008056640625, 0.01068115234375, -0.023681640625, -0.00897216796875, 0.00118255615234375, -0.018310546875, -0.00042724609375, -0.00506591796875, 0.00060272216796875, 0.0045166015625, -0.01080322265625, -0.0166015625, -0.011474609375, -0.0027313232421875, -0.00958251953125, -0.01251220703125, -0.0164794921875, 0.00811767578125, -0.0019683837890625, 0.005950927734375, 0.009521484375, -0.0096435546875, 0.003021240234375, 0.019287109375, -0.0184326171875, 0.00701904296875, 0.01025390625, -0.007568359375, -0.0120849609375, -0.002410888671875, 0.012939453125, 0.0125732421875, 0.00994873046875, -0.00274658203125, -0.014892578125, -0.00121307373046875, -0.00665283203125, -0.005615234375, -0.001495361328125, 0.00970458984375, 0.007354736328125, -0.00146484375, 0.007598876953125, 0.006072998046875, -0.0030059814453125, -0.004364013671875, -0.0203857421875, 0.0009765625, -0.009033203125, 0.00634765625, 0.00396728515625, 0.00885009765625, -0.002593994140625, -0.0191650390625, -0.016357421875, -0.0113525390625, -0.010009765625, 0.003936767578125, -0.0140380859375, 0.004974365234375, 0.01416015625, 0.00579833984375, 0.0174560546875, 0.00579833984375, -0.00128936767578125, -0.006500244140625, 0.023681640625, 0.0164794921875, -0.006195068359375, 0.0263671875, -0.00628662109375, -0.00141143798828125, -0.004608154296875, -0.00897216796875, 0.0030670166015625, 0.01361083984375, 0.000274658203125, 0.0137939453125, 0.01519775390625, 0.0010528564453125, 0.0028076171875, -0.0003814697265625, -0.0012969970703125, -0.00091552734375, -0.010986328125, -0.0006103515625, -0.00714111328125, 0.0296630859375, 0.0087890625, 0.0008544921875, 0.0034027099609375, 0.00372314453125, -0.0111083984375, 0.020263671875, 0.01409912109375, -0.01318359375, 0.00042724609375, 0.00457763671875, -0.005157470703125, 0.0006103515625, 0.003570556640625, -0.01190185546875, 0.00640869140625, -0.003448486328125, 0.00799560546875, 0.0098876953125, -0.024658203125, -0.00099945068359375, 0.002349853515625, 0.0126953125, 0.011962890625, -0.0017242431640625, 0.0079345703125, -0.006622314453125, -0.00616455078125, -0.003204345703125, -0.0162353515625, 0.017578125, 0.0038909912109375, 0.000148773193359375, -0.009033203125, 0.00189208984375, 0.0078125, 0.00787353515625, -0.00262451171875, -0.01080322265625, 0.000244140625, -0.00653076171875, -0.0194091796875, -0.0196533203125, -0.01483154296875, 0.01220703125, -0.01025390625, -0.0191650390625, 0.0087890625, 0.001495361328125, 0.0079345703125, -0.004608154296875, -0.01458740234375, 0.0128173828125, 0.001068115234375, -0.00185394287109375, -0.0137939453125, 0.00018310546875, 0.007232666015625, 0.0062255859375, -0.0208740234375, -0.0167236328125, -0.01171875, -0.00811767578125, -0.002471923828125, -0.01129150390625, 0.0162353515625, 0.00238037109375, -0.00994873046875, 0.0035858154296875, 0.0137939453125, -0.0101318359375, -0.0072021484375, 0.01611328125, -0.00897216796875, 0.0003204345703125, -0.0198974609375, 0.01507568359375, 0.00396728515625, -0.00860595703125, 0.01312255859375, 0.004119873046875, 0.017333984375, -0.015380859375, 0.00274658203125, 0.00030517578125, 0.0013580322265625, -0.00958251953125, -0.0098876953125, 0.01953125, 0.006988525390625, -0.0135498046875, 0.0001068115234375, 0.002716064453125, -0.0263671875, -0.0037078857421875, -0.005035400390625, -0.0023345947265625, -0.0008544921875, 0.01007080078125, -0.01171875, 0.00921630859375, 0.009033203125, -0.0218505859375, -0.0032958984375, 0.0023193359375, -0.0022430419921875, -0.004913330078125, -0.00048828125, -0.025634765625, -0.01904296875, 0.00830078125, 0.017578125, 0.0123291015625, -0.01214599609375, -0.0013427734375, 0.00701904296875, 0.005645751953125, -0.01495361328125, -0.02490234375, 0.0159912109375, 0.00762939453125, 0.00518798828125, 0.016845703125, 0.0196533203125, -0.0194091796875, 0.0205078125, 0.0101318359375, 0.0007476806640625, 0.0089111328125, 0.000152587890625, 0.003387451171875, 0.00079345703125, -0.01190185546875, 0.0147705078125, 0.01318359375, 0.00872802734375, 0.0031280517578125, -0.0181884765625, 0.007080078125, -0.01220703125, -0.00909423828125, 0.00029754638671875, 0.0208740234375, -0.001190185546875, -0.0218505859375, -0.00604248046875, 0.004608154296875, -0.004180908203125, 0.00518798828125, 0.001922607421875, 0.01043701171875, 0.01165771484375, -0.015380859375, -0.00775146484375, -0.02294921875, 0.0038299560546875, 0.00225830078125, -0.0026397705078125, 0.0096435546875, -0.001312255859375, 0.0034332275390625, -0.0009765625, 0.016845703125, 0.001708984375, -0.003753662109375, 0.0037689208984375, -0.00579833984375, 0.0142822265625, -0.0123291015625, -0.0211181640625, -0.01434326171875, 0.0009918212890625, 0.007293701171875, 0.005126953125, -0.01055908203125, -0.025390625, 0.003265380859375, 0.00738525390625, -0.01171875, -0.0025634765625, 0.013671875, -0.00775146484375, -0.010009765625, -0.0035247802734375, 0.013916015625, -0.003173828125, -0.00518798828125, -0.00145721435546875, -0.021728515625, 0.0302734375, 0.00738525390625, -0.0118408203125, 0.031005859375, 0.001922607421875, -0.00531005859375, 0.0019989013671875, 0.00689697265625, -0.00201416015625, -0.00836181640625, -0.03271484375, 0.01287841796875, -0.0081787109375, -0.0020599365234375, 0.003509521484375, -0.004547119140625, 0.000274658203125, -0.006011962890625, 0.028564453125, -0.0040283203125, 0.01470947265625, 0.010986328125, -0.017333984375, 0.006072998046875, 0.0274658203125, -0.0169677734375, 0.001373291015625, -0.0147705078125, -0.021484375, -0.0205078125, -0.0068359375, -0.015869140625, 0.000457763671875, 0.0123291015625, 0.003814697265625, 0.0111083984375, 0.003204345703125, -0.01611328125, -0.00946044921875, 0.0008392333984375, -0.001190185546875, 0.01025390625, 0.0145263671875, -0.0107421875, -0.00189208984375, 0.0103759765625, -0.00311279296875, -0.00592041015625, -4.57763671875e-05, 0.01287841796875, 0.00469970703125, -0.005401611328125, -0.01483154296875, 0.0016937255859375, -0.015869140625, -0.0006256103515625, -0.001373291015625, 0.0390625, 0.0277099609375, -0.020263671875, -0.0211181640625, -0.025146484375, -0.022216796875, -0.00732421875, -0.037109375, -0.0220947265625, 0.003814697265625, -0.0096435546875, 0.00677490234375, 0.008056640625, 0.0145263671875, 0.01361083984375, 0.0035247802734375, 0.02099609375, 0.0012359619140625, 0.004852294921875, 0.00439453125, -0.00347900390625, -0.015625, 0.006744384765625, -0.006805419921875, 0.002960205078125, -0.006744384765625, -0.014892578125, -0.022705078125, -0.00592041015625, 0.025146484375, 0.00848388671875, -0.000579833984375, 0.01708984375, 0.01019287109375, -0.010498046875, -0.01007080078125, -0.01226806640625, 0.000141143798828125, -0.0028076171875, -0.004150390625, 0.00244140625, 0.008056640625, 0.003082275390625, -0.02783203125, 0.02392578125, -0.005126953125, 0.00830078125, 0.007171630859375, -0.01611328125, 0.017578125, 0.005615234375, -0.006103515625, 0.011962890625, 0.0164794921875, -0.0126953125, -0.009765625, -0.004180908203125, 0.0054931640625, 0.0103759765625, -0.0030059814453125, 0.02001953125, -0.002532958984375, -0.00421142578125, 0.0023345947265625, 0.00732421875, -0.01416015625, 0.016357421875, -0.00860595703125, -0.028076171875, -0.00738525390625, -0.00518798828125, 0.0113525390625, -0.0076904296875, -0.02490234375, -0.01348876953125, -0.007720947265625, -0.01318359375, -0.0135498046875, -0.002777099609375, 0.014892578125, -0.017578125, 0.00494384765625, -0.03173828125, 0.005889892578125, 0.002838134765625, 0.002838134765625, 0.00372314453125, -0.00750732421875, 0.00567626953125, -0.00555419921875, -0.0130615234375, 0.0009307861328125, 6.103515625e-05, -0.00262451171875, -0.014404296875, 0.0118408203125, 0.01177978515625, -0.02197265625, 0.00701904296875, -0.0087890625, -0.004791259765625, 0.001495361328125, -0.017333984375, 0.0169677734375, 0.002197265625, -0.000762939453125, -0.0007781982421875, 0.003631591796875, 2.288818359375e-05, 0.0164794921875, -0.02001953125, -0.029296875, -0.00927734375, -0.010009765625, 0.00077056884765625, 0.002471923828125, 0.01080322265625, -0.0087890625, 0.0128173828125, 0.00933837890625, 0.0159912109375, -0.00018310546875, -0.00506591796875, -0.0279541015625, 0.023681640625, -0.001708984375, -0.00128173828125, 0.01708984375, 0.004150390625, 0.006072998046875, -0.0005035400390625, 0.002685546875, -0.00750732421875, 0.01385498046875, -0.0191650390625, 0.0157470703125, -0.006103515625, 0.00604248046875, 0.0130615234375, 0.00628662109375, 0.004791259765625, -0.0026702880859375, -0.00262451171875, -0.005889892578125, -0.01080322265625, -0.0108642578125, 0.010986328125, -0.0142822265625, 0.02197265625, -0.00531005859375, -0.0029449462890625, 0.01190185546875, 0.00732421875, 0.0189208984375, 0.00811767578125, 0.0093994140625, -0.015380859375, 0.00079345703125, -0.0263671875, 0.0050048828125, -0.019775390625, 0.0028076171875, -0.00958251953125, -0.0009765625, 0.01202392578125, -0.005279541015625, 0.012451171875, -0.0084228515625, 0.005767822265625, 0.0150146484375, 0.01324462890625, -0.00543212890625, -0.00390625, -0.021728515625, 0.01226806640625, -0.004547119140625, -0.0078125, -0.0091552734375, 0.0108642578125, -0.01458740234375, -0.01116943359375, 0.007781982421875, 0.006072998046875, -0.0048828125, -0.01275634765625, -0.0034637451171875, -0.008544921875, 0.003326416015625, 0.00128173828125, -0.002471923828125, -0.003570556640625, -0.01953125, 0.0135498046875, 0.001556396484375, -0.0042724609375, -0.006988525390625, -0.0016326904296875, -0.0037078857421875, 0.0020599365234375, -0.01080322265625, 0.01123046875, -0.00762939453125, 0.008056640625, -0.011962890625, -0.00830078125, -0.005157470703125, -0.01104736328125, 0.003692626953125, 0.000762939453125, 0.0091552734375, 0.0023040771484375, 0.000152587890625, 0.00063323974609375, 0.01483154296875, -0.00090789794921875, 0.001983642578125, 0.03271484375, -0.010009765625, -0.003692626953125, 0.0025177001953125, 0.0050048828125, 0.0014495849609375, -0.002655029296875, 0.0269775390625, -0.025390625, 0.004730224609375, -0.00311279296875, -0.0011749267578125, -0.000244140625, 0.002685546875, -0.017333984375, 0.00830078125, 0.0038909912109375, -0.00628662109375, 0.001434326171875, -0.0035247802734375, 0.00927734375, 0.0205078125, 0.002777099609375, -0.004852294921875, 0.00640869140625, 0.003387451171875, 0.0086669921875, 0.01123046875, 0.0108642578125, 0.01318359375, 0.00177001953125, 0.012451171875, -0.0108642578125, 0.0013275146484375, 0.00653076171875, -0.0166015625, 0.01123046875, 0.010986328125, 0.00048828125, -0.00897216796875, -0.001495361328125, 0.00909423828125, -0.00543212890625, -0.004791259765625, -0.01531982421875, 0.0111083984375, 0.00543212890625, 0.00043487548828125, -0.00762939453125, 0.0040283203125, -0.013427734375, 0.0223388671875, -0.003692626953125, -0.0078125, 0.005523681640625, 0.0101318359375, 0.00439453125, 0.001678466796875, 0.0086669921875, -0.0206298828125, 0.0081787109375, 0.0089111328125, 0.00164794921875, 0.017578125, -0.0010833740234375, -0.000579833984375, -0.003326416015625, 0.00054931640625, -0.004150390625, -0.01239013671875, 0.02392578125, 0.00848388671875, 0.00372314453125, -0.006927490234375, 0.00616455078125, 0.0068359375, -0.01263427734375, 0.0137939453125, 0.019775390625, 0.00274658203125, -0.0145263671875, 0.01226806640625, -0.00830078125, -0.0079345703125, -0.00689697265625, -0.01043701171875, -0.0118408203125, 0.00872802734375, -0.0302734375, -0.00433349609375, -0.0145263671875, 0.00030517578125, -0.0128173828125, 0.0023040771484375, 0.021728515625, -0.00518798828125, -0.0118408203125, 0.00107574462890625, 0.0034942626953125, -0.002838134765625, -0.017578125, 0.025634765625, 0.03076171875, -0.0032806396484375, -0.00970458984375, 0.006134033203125, 0.000274658203125, -0.0093994140625, 5.340576171875e-05, 0.01092529296875, 0.00823974609375, -0.00482177734375, -0.012451171875, 0.03173828125, -0.01708984375, -0.0086669921875, -0.00445556640625, 0.0126953125, -0.00921630859375, 0.0106201171875, 0.007049560546875, 0.0037994384765625, 0.0022430419921875, 0.0029296875, -0.0302734375, 0.0135498046875, 0.00970458984375, -0.001708984375, -0.005096435546875, 0.01123046875, 0.0194091796875, 0.00191497802734375, -0.0152587890625, 0.0037689208984375, -0.00799560546875, 0.0255126953125, -0.00179290771484375, 0.0057373046875, -0.00750732421875, 0.00146484375, 4.57763671875e-05, 0.0218505859375, -0.00555419921875, -0.0016937255859375, -0.0081787109375, -0.01953125, 0.002227783203125, 0.002593994140625, 0.0145263671875, 0.002410888671875, 0.015869140625, 0.002899169921875, -0.00140380859375, -0.0108642578125, -0.0322265625, -0.0113525390625, 0.0010833740234375, 0.0076904296875, 0.0186767578125, -0.0026397705078125, -0.00750732421875, 0.00823974609375, 0.0036773681640625, -0.0096435546875, 0.02685546875, -0.00439453125, 0.0128173828125, -0.006103515625, 0.00927734375, 0.0101318359375, 0.00677490234375, 0.001556396484375, 0.01123046875, 0.01513671875, 0.00299072265625, 0.00360107421875, -0.003204345703125, -0.0036163330078125, -0.0147705078125, 0.036865234375, 0.0081787109375, -0.00335693359375, -0.0213623046875, -0.0111083984375, 0.00885009765625, 0.01116943359375, 0.00019073486328125, 0.0159912109375, -0.007415771484375, -0.0015106201171875, 0.005340576171875, 0.0091552734375, -0.01171875, 0.01104736328125, 0.0120849609375, -0.0054931640625, 0.003143310546875, 0.006591796875, 0.012451171875, -0.0341796875, -0.020751953125, 0.0224609375, 0.00054931640625, 0.0166015625, 0.002777099609375, -0.006378173828125, 0.0020294189453125, -0.01513671875, -0.005767822265625, 0.021240234375, -0.00933837890625, 0.0025634765625, 0.0067138671875, -0.00335693359375, 0.02783203125, -0.00848388671875, -0.01092529296875, -0.006011962890625, -0.01409912109375, 0.0126953125, -0.00775146484375, 0.01953125, -0.00927734375, -0.002197265625, 0.005279541015625, -0.020263671875, -9.441375732421875e-05, -0.00726318359375, -0.019287109375, -0.00775146484375, -0.00762939453125, -0.0191650390625, 0.010986328125, 0.00360107421875, -0.01397705078125, -0.004486083984375, -0.019287109375, -0.015625, 0.0050048828125, -0.02294921875, -0.004638671875, -0.017333984375, -0.01422119140625, 0.017333984375, -0.01092529296875, -0.03271484375, 0.01025390625, -0.001312255859375, 0.010498046875, -0.009033203125, -0.0145263671875, -0.01409912109375, -0.012939453125, 0.0125732421875, -0.007659912109375, 0.0064697265625, 0.00469970703125, 0.01165771484375, 0.004486083984375, 0.0172119140625, -0.015380859375, 0.0169677734375, 0.02197265625, 0.0003662109375, 0.00347900390625, -0.0166015625, 0.03662109375, 0.02197265625, 0.01409912109375, -0.01165771484375, 0.0084228515625, -0.006988525390625, -0.00897216796875, -0.006988525390625, -0.015625, 0.003021240234375, 0.0079345703125, 0.0113525390625, -0.023681640625, -0.00335693359375, 0.0086669921875, 0.004974365234375, -0.00408935546875, -0.0155029296875, -0.00836181640625, 0.007598876953125, -0.021484375, -0.0014495849609375, -0.022216796875, 0.01458740234375, 0.008056640625, 0.0126953125, -0.0062255859375, -0.0111083984375, 0.00016021728515625, -0.005279541015625, -0.0030517578125, -0.00113677978515625, -0.002166748046875, -0.009765625, 0.0059814453125, -0.01239013671875, 0.002685546875, -0.001373291015625, 0.022216796875, 0.0128173828125, 0.00604248046875, 0.023193359375, 0.013671875, -0.00836181640625, -0.007080078125]]\n",
            "[[-0.004638671875, -0.002838134765625, 0.0157470703125, -0.0030364990234375, 0.006103515625, 0.00067138671875, 0.00439453125, 0.000415802001953125, 0.005706787109375, 0.004364013671875, 0.00191497802734375, -0.004119873046875, 0.000797271728515625, -0.00811767578125, 0.00145721435546875, 0.01544189453125, 0.0007171630859375, 0.006683349609375, -0.00762939453125, -0.0003032684326171875, 0.001983642578125, 0.00445556640625, 0.023193359375, 0.004791259765625, 0.015625, -0.00341796875, -0.00041961669921875, -0.000946044921875, 0.005859375, -0.00714111328125, 0.017333984375, -0.007568359375, -0.00070953369140625, -0.006622314453125, 0.00457763671875, 0.00555419921875, -0.00823974609375, 0.00086212158203125, -0.007049560546875, -0.0086669921875, -0.00604248046875, 0.00099945068359375, 0.0024566650390625, 0.00153350830078125, -0.004608154296875, 0.00677490234375, -0.004486083984375, -0.004791259765625, 0.001068115234375, -0.00421142578125, -0.004150390625, 0.0054931640625, -0.007415771484375, -0.000324249267578125, -0.003875732421875, -0.00830078125, 0.00335693359375, -0.0040283203125, -0.00445556640625, 0.0003986358642578125, -0.00927734375, 0.004364013671875, 0.0030517578125, -0.0019378662109375, -0.0030975341796875, 0.0023193359375, -0.001556396484375, 0.00133514404296875, -0.00213623046875, 0.003753662109375, 0.01007080078125, -0.00164031982421875, 0.00469970703125, -0.000164031982421875, -0.007476806640625, -0.01214599609375, 0.00592041015625, 0.003326416015625, -0.003448486328125, -0.00970458984375, 0.00579833984375, 0.01287841796875, 0.0137939453125, -0.00311279296875, 0.005279541015625, 0.00213623046875, -0.0069580078125, 0.002166748046875, 0.003265380859375, -0.007568359375, 0.00147247314453125, 0.006988525390625, 1.9073486328125e-06, -0.006744384765625, -0.0078125, 0.0036773681640625, -0.01104736328125, 0.006988525390625, -0.00335693359375, -0.006683349609375, 0.0036163330078125, -0.01141357421875, 0.0034027099609375, 0.001617431640625, 0.006134033203125, -0.0050048828125, 0.0020904541015625, -0.006317138671875, 0.0013427734375, 0.00408935546875, 2.6702880859375e-05, 0.005645751953125, 0.003875732421875, -0.00262451171875, -0.0004558563232421875, 0.003570556640625, 0.000335693359375, 0.01092529296875, -0.00060272216796875, -0.00433349609375, -0.00083160400390625, -0.0016632080078125, 0.00457763671875, 0.0034027099609375, -0.00811767578125, 0.001953125, 0.00653076171875, 0.00153350830078125, 0.0038604736328125, 0.00433349609375, 0.00946044921875, -0.00152587890625, 0.00159454345703125, 0.000659942626953125, -0.0015106201171875, -0.000274658203125, 0.005401611328125, 0.01055908203125, -0.0003490447998046875, 0.001190185546875, -0.006134033203125, -0.00118255615234375, 0.001617431640625, -0.0076904296875, 0.0130615234375, -0.00262451171875, -0.00191497802734375, 0.01068115234375, -0.00170135498046875, 0.0024871826171875, -0.001953125, 0.007568359375, -0.00250244140625, -0.0013580322265625, -0.0037078857421875, 0.000896453857421875, 0.00067901611328125, 0.00421142578125, -0.0074462890625, -0.00151824951171875, 0.00072479248046875, -0.002593994140625, -0.008544921875, -0.004730224609375, -0.0107421875, -0.0017242431640625, 0.01361083984375, 0.0111083984375, 0.004241943359375, 0.00836181640625, -0.004791259765625, -0.0025482177734375, -0.001800537109375, -0.00518798828125, -0.007232666015625, -0.0084228515625, 0.003997802734375, -0.0001068115234375, -0.001953125, 0.0034027099609375, 0.00567626953125, 0.002471923828125, 0.00396728515625, -0.00048065185546875, 0.0050048828125, -0.0032806396484375, 0.00384521484375, -0.004974365234375, -0.004791259765625, -0.0002288818359375, 0.0137939453125, 0.007232666015625, -0.0034027099609375, 0.00341796875, 0.0018310546875, 0.00299072265625, -0.009033203125, 0.003387451171875, 0.004150390625, -0.0023651123046875, -0.0032501220703125, 0.00634765625, 0.000946044921875, 0.002471923828125, 0.000560760498046875, 0.00109100341796875, 0.00439453125, -0.006011962890625, 0.006317138671875, -0.005126953125, 0.00150299072265625, 0.00689697265625, -0.002960205078125, -0.0030059814453125, 0.00640869140625, -0.0014495849609375, 0.002044677734375, -0.0035400390625, 0.0004425048828125, 0.00274658203125, 0.005126953125, -0.006622314453125, 0.005340576171875, -0.003387451171875, -0.0032501220703125, 0.00396728515625, -0.0001621246337890625, 0.0042724609375, 0.004119873046875, -0.0023651123046875, 0.0048828125, 0.001983642578125, 0.00147247314453125, 0.0014801025390625, 0.00022125244140625, 0.00640869140625, -0.000743865966796875, 0.00029754638671875, -0.00506591796875, -0.00830078125, 0.0010223388671875, 0.00872802734375, -0.0014801025390625, 0.005767822265625, -0.006439208984375, -0.0011444091796875, -0.0024261474609375, -0.0023651123046875, -0.002349853515625, 0.0001220703125, 0.01116943359375, -0.002899169921875, 0.0010528564453125, 0.002471923828125, -0.002105712890625, 0.006256103515625, -0.0015869140625, 0.013671875, 0.0030364990234375, 0.0024871826171875, 0.0019378662109375, 0.02392578125, 0.0147705078125, -0.007568359375, 0.00714111328125, -0.00130462646484375, 0.006072998046875, -0.004547119140625, -0.0084228515625, 0.00830078125, 0.0084228515625, 0.000335693359375, 0.00628662109375, 0.00160980224609375, 0.0037994384765625, -0.0013427734375, 0.001068115234375, -0.0011444091796875, 0.0098876953125, -0.002197265625, 0.004180908203125, 0.0048828125, 0.004302978515625, 0.002532958984375, 0.00848388671875, -0.011962890625, 0.005859375, 0.00408935546875, 0.00164794921875, -0.0030975341796875, 0.006256103515625, 0.00750732421875, -0.002716064453125, 0.001617431640625, -0.01043701171875, 0.004791259765625, 0.006500244140625, 0.008544921875, -0.00408935546875, 0.002288818359375, 0.002716064453125, -0.007080078125, 0.0093994140625, -0.00665283203125, 0.006927490234375, -0.006011962890625, 0.003814697265625, -0.0072021484375, 0.00075531005859375, 0.005157470703125, 0.0037078857421875, 0.01904296875, 0.00555419921875, 0.00084686279296875, 0.00408935546875, 0.001983642578125, -0.0028076171875, 0.012939453125, -0.001251220703125, -0.0035400390625, 0.00555419921875, -0.00201416015625, -0.005462646484375, 0.0050048828125, -0.004608154296875, -0.00063323974609375, 0.003173828125, -0.006011962890625, -0.0108642578125, -0.003662109375, -0.007415771484375, 0.00494384765625, 0.002349853515625, -0.00311279296875, 0.00732421875, 0.00067901611328125, -0.011474609375, -0.00604248046875, 0.0125732421875, 0.00115966796875, 0.00634765625, 0.0084228515625, -0.005828857421875, 0.0030364990234375, -0.000965118408203125, 0.017578125, 0.001495361328125, -0.0125732421875, 0.0004119873046875, 0.00045013427734375, -0.000408172607421875, 0.0003204345703125, -0.00689697265625, -0.00244140625, 0.00179290771484375, -0.0011749267578125, -0.003173828125, -0.0037384033203125, 0.00909423828125, -0.00616455078125, -0.0010223388671875, -0.00156402587890625, -0.00347900390625, 0.009765625, 0.00543212890625, 0.0068359375, -0.0003814697265625, -0.0036773681640625, 0.00787353515625, -0.000152587890625, 0.004638671875, -0.00677490234375, -0.0048828125, -0.0103759765625, -0.005645751953125, -0.01190185546875, -0.00311279296875, 0.0024871826171875, 0.01513671875, 0.003204345703125, 0.006103515625, 0.00299072265625, -0.00372314453125, 0.00180816650390625, 0.0034332275390625, -0.00079345703125, -0.003631591796875, 0.000827789306640625, 0.00640869140625, -0.002349853515625, 0.007537841796875, 0.00732421875, 0.005645751953125, 0.00537109375, -0.003753662109375, -0.004150390625, 0.001983642578125, 0.001251220703125, 0.004302978515625, -0.002960205078125, 0.000728607177734375, -0.006317138671875, -0.000125885009765625, 0.002716064453125, 0.0013427734375, -0.01416015625, -0.000782012939453125, -0.003387451171875, -0.0029754638671875, 0.007354736328125, -0.006317138671875, -0.00286865234375, -0.000518798828125, -0.007568359375, -0.0029296875, -0.007415771484375, -0.01080322265625, -0.00130462646484375, 0.012939453125, -0.00250244140625, -0.0033416748046875, 0.006988525390625, -0.00445556640625, 0.005615234375, 0.00482177734375, 0.00494384765625, -0.0091552734375, -0.00170135498046875, 0.00335693359375, 0.006134033203125, -0.00885009765625, -0.016357421875, 0.00653076171875, -0.00347900390625, -0.01031494140625, -0.002655029296875, 0.007568359375, -0.004119873046875, -0.004425048828125, -0.005859375, 0.0125732421875, 0.002838134765625, -0.0038604736328125, 0.0020294189453125, 0.0042724609375, 0.00122833251953125, -0.0048828125, 0.007568359375, 0.001068115234375, 0.01031494140625, 0.0036773681640625, 0.003082275390625, -0.0098876953125, 0.00090789794921875, -0.01287841796875, 0.00162506103515625, 0.00537109375, -0.004547119140625, 0.0084228515625, -0.006866455078125, -0.0023193359375, 0.004119873046875, -0.01708984375, -0.000396728515625, -0.00506591796875, 0.0009918212890625, 0.00836181640625, -0.0052490234375, 0.00787353515625, -0.0028076171875, 0.00531005859375, 0.002105712890625, 0.003875732421875, -0.005340576171875, -0.007568359375, 0.004608154296875, 0.0028839111328125, -0.00701904296875, 0.002166748046875, 0.00787353515625, -0.00872802734375, 0.0040283203125, 0.00115203857421875, 0.0002346038818359375, 0.0045166015625, 0.00567626953125, 0.007293701171875, -0.004547119140625, 0.006500244140625, 0.00250244140625, -0.0081787109375, 0.00677490234375, -0.0081787109375, 5.53131103515625e-05, -0.007659912109375, -0.0030517578125, -0.002044677734375, -0.005950927734375, 0.00091552734375, -0.007293701171875, 0.0157470703125, -0.0019683837890625, 0.005615234375, -0.0064697265625, 0.00653076171875, -0.007781982421875, -0.00762939453125, 0.00927734375, 0.0001220703125, 0.000453948974609375, -0.002838134765625, -0.006378173828125, -0.007110595703125, -0.004913330078125, 0.004302978515625, -0.00592041015625, -0.00665283203125, 0.0115966796875, -0.0013580322265625, -0.002532958984375, 0.00011920928955078125, -0.0115966796875, 0.0008087158203125, -0.00189208984375, 0.003936767578125, 0.000362396240234375, 0.000255584716796875, -0.00909423828125, -0.00457763671875, -0.00970458984375, -0.0091552734375, 0.00543212890625, -0.00958251953125, -0.007476806640625, -0.007171630859375, 0.0130615234375, -0.00689697265625, -0.00092315673828125, 0.01275634765625, 0.0028533935546875, 0.003936767578125, 0.002105712890625, -0.00098419189453125, -0.00140380859375, -0.0126953125, 0.00531005859375, 0.006866455078125, 0.00909423828125, 0.0005340576171875, -0.0040283203125, 0.001922607421875, -0.00714111328125, 0.006927490234375, 0.007080078125, -0.00032806396484375, -0.007568359375, -0.0164794921875, 0.0035400390625, 0.004058837890625, 0.004119873046875, -0.00151824951171875, 0.0057373046875, -0.00017547607421875, 0.003173828125, 0.00665283203125, -0.0067138671875, -0.00025177001953125, 0.0089111328125, -0.004638671875, -0.0032806396484375, 0.009033203125, -0.00482177734375, 0.00823974609375, 0.002166748046875, 0.01080322265625, 0.01263427734375, -0.00634765625, 0.0037384033203125, 0.0016937255859375, 0.0040283203125, -0.0013427734375, 0.0032806396484375, -0.005615234375, -0.00121307373046875, -0.000644683837890625, 0.01129150390625, 0.01177978515625, -0.006988525390625, 0.00311279296875, 7.2479248046875e-05, 0.008056640625, -0.00396728515625, 0.01007080078125, 0.0113525390625, -0.00653076171875, -0.00531005859375, 0.002105712890625, -0.003021240234375, -0.01007080078125, 0.004302978515625, 0.0035858154296875, -0.00433349609375, -0.004608154296875, 0.001617431640625, 0.000362396240234375, 0.004150390625, 0.0035247802734375, 0.00958251953125, 0.00041961669921875, 0.0181884765625, -0.00274658203125, 0.002410888671875, -0.0166015625, 0.00128936767578125, -0.000148773193359375, 0.003173828125, -0.005218505859375, 0.00112152099609375, 0.00102996826171875, -0.0179443359375, -0.0022430419921875, -0.0052490234375, 0.006683349609375, 0.00194549560546875, -0.00122833251953125, -0.00069427490234375, -0.002166748046875, 0.00543212890625, 0.009765625, 0.004974365234375, -0.007568359375, 0.0002460479736328125, -0.0022735595703125, -0.006103515625, 0.0016632080078125, 0.0054931640625, 0.0101318359375, 0.0023956298828125, -0.0008697509765625, 0.0034942626953125, 0.008056640625, -0.010009765625, -0.0034637451171875, -0.00616455078125, 0.002288818359375, 0.006256103515625, 0.0018157958984375, 0.012451171875, -0.001312255859375, -0.0067138671875, 0.00958251953125, 0.0035552978515625, -0.00093841552734375, 0.0013275146484375, 0.0079345703125, 0.0030364990234375, 0.008544921875, 0.014892578125, -0.01171875, 0.003662109375, 0.014892578125, -0.0047607421875, -0.003143310546875, -0.000370025634765625, 0.00274658203125, 0.009033203125, -0.007720947265625, -0.00439453125, 0.000659942626953125, -0.007232666015625, -0.012451171875, -0.0106201171875, -0.00144195556640625, 0.00048828125, 0.005340576171875, -0.0003032684326171875, 0.0007781982421875, 0.0067138671875, 0.0027923583984375, -0.006988525390625, -0.0007171630859375, 0.000335693359375, 0.00072479248046875, 0.00433349609375, -0.0029296875, -0.0014801025390625, 0.00665283203125, 0.002288818359375, -0.003265380859375, -0.00299072265625, -0.0027923583984375, -0.00194549560546875, 0.0076904296875, -0.00628662109375, -0.0018463134765625, 0.0042724609375, -0.0001163482666015625, -0.0050048828125, 0.0022430419921875, 0.005218505859375, -0.0026092529296875, 0.000698089599609375, 0.0005035400390625, 0.004974365234375, -0.00860595703125, -0.008056640625, 0.0037689208984375, 0.00836181640625, -0.006805419921875, -0.00360107421875, 9.1552734375e-05, 0.00677490234375, -0.00034332275390625, -0.005340576171875, -0.00165557861328125, -0.002960205078125, -0.00506591796875, 0.000518798828125, 0.001007080078125, -0.00433349609375, 0.00147247314453125, 0.00457763671875, 0.00592041015625, -0.006317138671875, -0.0011138916015625, -0.005859375, 0.004638671875, -0.001617431640625, -0.005523681640625, -0.00250244140625, -0.0096435546875, 0.00726318359375, -0.00567626953125, 0.004180908203125, -0.0001659393310546875, -0.00762939453125, 0.001953125, -0.002044677734375, -0.0029754638671875, -0.00042724609375, -0.0050048828125, -0.00040435791015625, -0.00180816650390625, 0.005096435546875, 0.0130615234375, 0.00054168701171875, 0.0016021728515625, 0.00408935546875, 0.00531005859375, -0.004638671875, -0.0021209716796875, -0.00390625, 0.0133056640625, 0.0016021728515625, 0.00860595703125, 0.00035858154296875, 0.007080078125, -0.00689697265625, 0.000518798828125, 0.0024261474609375, 0.0196533203125, 0.01129150390625, 0.0037994384765625, 0.001220703125, 0.00225830078125, 0.00927734375, 0.0037841796875, -0.00732421875, 0.001129150390625, 0.0078125, 0.0028533935546875, -0.006683349609375, -0.00113677978515625, -0.01953125, -0.002044677734375, 0.00811767578125, 0.001861572265625, -0.00077056884765625, -0.00762939453125, 0.0130615234375, 0.01177978515625, -0.005523681640625, 0.007080078125, -0.00102996826171875, -0.004669189453125, 0.00177001953125, -0.00439453125, -0.003082275390625, 0.004608154296875, 0.0025177001953125, 0.004669189453125, -0.000682830810546875, -0.0074462890625, 0.006317138671875, 0.00592041015625, 0.0001678466796875, 0.003997802734375, -0.00457763671875, 0.002532958984375, -0.010986328125, -0.006195068359375, -0.003204345703125, -0.00836181640625, -0.0028533935546875, -0.0021820068359375, 0.003662109375, -0.00665283203125, -0.0023193359375, 0.00421142578125, 0.004119873046875, 0.0157470703125, 0.0014190673828125, 0.0016326904296875, -0.0013580322265625, 0.00921630859375, -0.01312255859375, 0.00122833251953125, -0.0118408203125, 0.004913330078125, -0.002044677734375, 0.0031585693359375, -0.004913330078125, 7.62939453125e-05, 0.007080078125, -0.0023040771484375, 0.003662109375, 0.00457763671875, -0.0093994140625, 0.004547119140625, -0.004852294921875, 0.0012969970703125, 0.01043701171875, 0.010498046875, -0.002838134765625, 0.002838134765625, 0.000759124755859375, 0.007171630859375, -0.0025482177734375, -0.0011138916015625, -0.00506591796875, -0.00677490234375, 0.0050048828125, -0.01055908203125, 0.003936767578125, 0.001312255859375, 0.00396728515625, -0.000904083251953125, -0.003143310546875, -0.0146484375, -0.0084228515625, 0.000751495361328125, 0.0001373291015625, 0.0067138671875, -0.0031585693359375, -0.0020599365234375, -0.00439453125, -0.01129150390625, 0.00043487548828125, 0.003082275390625, 0.0037994384765625, -0.00531005859375, 0.00074005126953125, -0.0103759765625, -0.01220703125, -0.0032958984375, 0.009521484375, -0.00067901611328125, -0.00154876708984375, -0.009033203125, 0.0015411376953125, 0.00042724609375, -0.0009918212890625, -0.00213623046875, 0.0033416748046875, 0.002166748046875, -0.0001678466796875, 0.00152587890625, -0.005828857421875, -0.002532958984375, -8.392333984375e-05, -0.0093994140625, 0.00482177734375, 0.006591796875, 0.00347900390625, 0.0076904296875, 0.002593994140625, -0.0262451171875, -0.004150390625, -0.0001220703125, 0.0037994384765625, -0.00165557861328125, 0.000492095947265625, -0.00020599365234375, 0.003021240234375, -0.00341796875, 0.00360107421875, 0.004852294921875, 0.00107574462890625, -0.004638671875, -0.00096893310546875, 0.003326416015625, 0.006744384765625, -0.000591278076171875, 0.00182342529296875, 0.00555419921875, 0.002960205078125, -0.00225830078125, 0.000217437744140625, -0.0018463134765625, 0.007171630859375, -0.00439453125, 0.005889892578125, -0.00982666015625, -0.003631591796875, -0.004791259765625, 0.00787353515625, 0.013427734375, 0.00543212890625, -0.004974365234375, 0.00872802734375, -0.0022430419921875, 0.000812530517578125, -0.0020751953125, 0.004119873046875, 0.006988525390625, 0.00189971923828125, 0.00061798095703125, -0.0101318359375, 0.0001220703125, -0.004547119140625, 0.0098876953125, -0.00072479248046875, -0.004547119140625, -0.0033111572265625, -0.00506591796875, -0.00046539306640625, 0.000370025634765625, -0.00909423828125, 0.005096435546875, 0.005584716796875, -0.00396728515625, -0.00360107421875, 0.0003509521484375, -0.00019550323486328125, -8.0108642578125e-05, 0.007049560546875, 0.0098876953125, -0.0029296875, 0.001953125, 0.00518798828125, 0.0035858154296875, 0.002838134765625, 0.00128173828125, 0.005859375, -0.00110626220703125, -0.005615234375, 0.00848388671875, -0.00213623046875, -0.00016021728515625, 0.00506591796875, -0.00043487548828125, -0.0028839111328125, 0.010986328125, 0.00048828125, 0.007354736328125, 0.00604248046875, 0.002655029296875, 0.00174713134765625, 0.004241943359375, 0.003936767578125, 0.00714111328125, 0.0004730224609375, -0.0086669921875, -0.0022430419921875, 0.00872802734375, 0.00970458984375, 0.01116943359375, 0.0014190673828125, 0.004913330078125, -0.0022430419921875, 0.0068359375, -0.004302978515625, -0.00341796875, 0.00113677978515625, -0.004058837890625, 0.00579833984375, 0.00567626953125, -0.004669189453125, -0.00823974609375, -0.007171630859375, 0.00653076171875, 0.0113525390625, 0.0103759765625, -0.002166748046875, 0.0072021484375, 0.00640869140625, -0.004669189453125, -0.0032196044921875, -0.00176239013671875, -0.012451171875, -0.0010833740234375, -0.00677490234375, -0.01141357421875, -0.006103515625, 0.006103515625, -0.0052490234375, 0.00421142578125, -0.0052490234375, -0.006683349609375, 0.0027008056640625, -0.0106201171875, 0.006256103515625, 0.000629425048828125, -1.52587890625e-05, 0.00958251953125, -0.00653076171875, 0.0008544921875, 0.00531005859375, 0.007080078125, -0.0035247802734375, -0.0014495849609375, -0.0020751953125, -2.4318695068359375e-05, 0.01104736328125, -0.00115966796875, 0.00090789794921875, -0.006591796875, -0.007781982421875, 0.006103515625, 0.00469970703125, -0.0006103515625, -0.000537872314453125, 0.007293701171875, 0.00164031982421875, -0.00823974609375, -0.007293701171875, 0.0106201171875, -0.0045166015625, -0.0078125, -0.001434326171875, -0.002288818359375, -0.00762939453125, -0.001678466796875, 0.005096435546875, -0.00125885009765625, -0.0098876953125, 0.006011962890625, -0.007049560546875, -0.00494384765625, 0.002655029296875, 0.0074462890625, 0.0033416748046875, -0.000759124755859375, -0.0015411376953125, 0.010498046875, -0.0025787353515625, -0.0002079010009765625, 0.0050048828125, 0.00946044921875, -0.01019287109375, -0.00555419921875, -0.01336669921875, 0.0074462890625, -0.004425048828125, -0.0023651123046875, -0.00927734375, 0.00445556640625, 0.002288818359375, 0.00160980224609375, -0.001617431640625, -0.001800537109375, -0.005096435546875, -0.018798828125, 0.00323486328125, -0.001800537109375, 0.00152587890625, -0.0028228759765625, -0.00189208984375, 0.0026397705078125, -0.001556396484375, -0.00093841552734375, 0.002960205078125, 0.0023193359375, -0.00799560546875, -0.0003662109375, -0.0032196044921875, 0.0021209716796875, -0.004791259765625, 0.00531005859375, -0.0027618408203125, -0.002655029296875, 0.01043701171875, 0.005096435546875, 0.01043701171875, -0.0002288818359375, 0.00128936767578125, 0.00732421875, 0.0120849609375, -0.0020599365234375, 0.004486083984375, -0.00167083740234375, -0.0009918212890625, -0.0002231597900390625, -0.003631591796875, 0.00052642822265625, -4.57763671875e-05, -0.006072998046875, -0.01171875, 0.00933837890625, -0.000518798828125, 0.00726318359375, 0.006805419921875, 0.001190185546875, -0.01220703125, -0.013916015625, -0.000514984130859375, 0.002716064453125, 0.0001354217529296875, 0.0036468505859375, -0.006195068359375, -0.0035247802734375, -0.00066375732421875, -0.00170135498046875, 0.00592041015625, 0.006256103515625, 0.00144195556640625, 0.0034332275390625, 0.006103515625, -0.006439208984375, 0.0034637451171875, 0.01116943359375, 0.00421142578125, 0.00133514404296875, 0.006622314453125, -0.003662109375, 0.0052490234375, 0.003509521484375, 0.006256103515625, 0.00726318359375, 0.00714111328125, 0.0098876953125, -0.0030517578125, -0.0030670166015625, 0.009521484375, 0.0029144287109375, 0.0072021484375, -1.52587890625e-05, -0.0108642578125, 0.0012054443359375, 0.003997802734375, -0.00494384765625, 6.4849853515625e-05, -0.01190185546875, -0.00119781494140625, 0.0014495849609375, 0.000762939453125, 0.0016326904296875, 0.0081787109375, -0.0103759765625, 0.00726318359375, -0.00113677978515625, -0.0016326904296875, 0.001800537109375, -0.010498046875, 0.0052490234375, -0.000377655029296875, -0.0091552734375, -0.00518798828125, 0.0106201171875, -0.001678466796875, 0.00457763671875, 0.009521484375, -0.00634765625, 0.00628662109375, -0.00091552734375, -0.0035400390625, -0.007476806640625, 0.00045013427734375, -0.0107421875, -0.0010528564453125, 0.007659912109375, 0.000579833984375, -0.004241943359375, -0.005157470703125, 0.005401611328125, 0.01611328125, 0.00555419921875, -0.0015716552734375, -0.01123046875, -0.004547119140625, -0.00026702880859375, -0.00012969970703125, -0.0078125, -0.0033111572265625, -0.0118408203125, 0.0059814453125, 0.0020599365234375, 0.001220703125, 0.00653076171875, 0.00689697265625, -0.00897216796875, 0.00115966796875, 0.003875732421875, 0.0020294189453125, -0.005218505859375, -0.007049560546875, 0.0025634765625, -0.0030975341796875, 0.0111083984375, -0.00335693359375, -0.0164794921875, -0.003173828125, 0.005126953125, -0.0034637451171875, -0.0035247802734375, -0.0072021484375, -3.4332275390625e-05, 0.005523681640625, -0.00567626953125, 0.005706787109375, 0.003692626953125, -0.0003032684326171875, 0.0089111328125, -0.0032958984375, -0.00469970703125, -0.01007080078125, -0.000110626220703125, 0.003875732421875, 0.004364013671875, -0.01068115234375, 0.006439208984375, 0.009521484375, 0.004302978515625, 0.000873565673828125, -0.0017242431640625, -0.00872802734375, -0.0054931640625, 0.0033111572265625, -0.0020751953125, 0.006134033203125, -0.007171630859375, -0.005645751953125, 0.0096435546875, 0.005462646484375, -0.004547119140625, 0.00019073486328125, 0.004852294921875, -0.0069580078125, 0.000858306884765625, 0.003936767578125, 0.004150390625, -0.00543212890625, 0.006103515625, -0.006591796875, -0.0008087158203125, -0.005218505859375, -0.005615234375, 0.005126953125, -0.00225830078125, -0.00494384765625, -0.00244140625, -0.0167236328125, -0.006805419921875, -0.00147247314453125, 0.0010833740234375, 0.004119873046875, -0.0107421875, -0.0021209716796875, -0.0118408203125, 0.0052490234375, -0.0028533935546875, 0.000701904296875, 0.00543212890625, -0.0040283203125, 0.004119873046875, -0.000919342041015625, 0.0010986328125, 0.006011962890625, 0.01409912109375, 0.0008697509765625, -0.000885009765625, -0.004852294921875, 0.005096435546875, -0.003509521484375, -0.000209808349609375, 0.005615234375, -0.01123046875, -0.00543212890625, 0.0026397705078125, -0.0086669921875, 0.0015869140625, -0.003143310546875, -0.00225830078125, 0.00021648406982421875, -0.0047607421875, -0.0026397705078125, -0.0023193359375, -2.09808349609375e-05, 0.000240325927734375, -0.0072021484375, 0.0003662109375, 0.0032958984375, -2.86102294921875e-05, -0.0155029296875, -0.004730224609375, 0.00040435791015625, -0.0068359375, 0.0019073486328125, 0.00131988525390625, -0.0026092529296875, -0.0019073486328125, 0.000843048095703125, -0.002960205078125, -0.006072998046875, -0.003875732421875, 0.0035247802734375, -0.00095367431640625, -0.000217437744140625, -0.003204345703125, 0.0135498046875, 0.0015106201171875, -0.00592041015625, 0.004364013671875, 0.00070953369140625, -0.00830078125, 0.006317138671875, 0.008056640625, -0.0030059814453125, 0.0025482177734375, 0.0084228515625, 0.0050048828125, -0.00167083740234375, -0.003936767578125, -0.003448486328125, 0.009033203125, -0.004364013671875, 0.0003814697265625, 0.0035247802734375, -0.00174713134765625, -0.0013275146484375, -0.00579833984375, 0.0013885498046875, 0.00091552734375, 0.0081787109375, -0.0076904296875, 0.00738525390625, 0.00177001953125, -0.0015869140625, -0.0052490234375, -0.00170135498046875, 0.00106048583984375, -0.0013275146484375, -0.005218505859375, 0.001953125, -0.00872802734375, 0.00095367431640625, -0.0030517578125, -0.0038604736328125, 0.0011749267578125, 0.0054931640625, -0.0036163330078125, 0.0028076171875, -0.003570556640625, 0.01611328125, -0.0023040771484375, -0.0101318359375, 0.00421142578125, -0.0047607421875, 0.00125885009765625, 0.0113525390625, -0.001800537109375, -0.0032806396484375, 0.00067138671875, 0.01226806640625, -0.01519775390625, 0.00640869140625, 0.00063323974609375, 0.00909423828125, 0.000118255615234375, 0.00836181640625, -0.005889892578125, -0.0069580078125, 0.00567626953125, 0.000270843505859375, -0.0089111328125, 0.0003662109375, 0.005279541015625, 0.000732421875, -0.00714111328125, 0.00946044921875, 0.00084686279296875, -0.0011444091796875, 0.00665283203125, 0.0045166015625, 0.0101318359375, 0.0032501220703125, 0.0096435546875, -0.0027923583984375, 0.005889892578125, 0.0045166015625, -0.00335693359375, 0.000919342041015625, -0.00506591796875, -0.009033203125, 0.00494384765625, -0.00390625, -0.005126953125, 0.002410888671875, 0.0009002685546875, -0.0084228515625, -0.00848388671875, -0.060546875, 0.00408935546875, -0.00102996826171875, 0.004913330078125, 0.00701904296875, -0.001007080078125, 0.000713348388671875, 0.00799560546875, -0.00750732421875, -0.00157928466796875, 0.001861572265625, -0.0146484375, 0.00238037109375, -0.00799560546875, -2.288818359375e-05, 0.003204345703125, 0.002716064453125, 0.0003814697265625, 0.0021820068359375, -0.002716064453125, -0.004638671875, -0.00396728515625, 0.0091552734375, 0.005523681640625, -0.000606536865234375, 0.0074462890625, -0.000286102294921875, 0.007080078125, 0.0035552978515625, 0.002288818359375, -0.00469970703125, -0.00537109375, 0.005035400390625, -0.0025634765625, 0.0125732421875, -0.0059814453125, -0.0028076171875, -0.00168609619140625, 0.0068359375, -0.004058837890625, 0.004241943359375, -0.007659912109375, 0.0079345703125, 0.00457763671875, 0.006591796875, 0.000965118408203125, 0.001953125, -0.006103515625, -0.0020294189453125, 0.00848388671875, 0.0076904296875, -0.00836181640625, -0.000232696533203125, 0.0001544952392578125, -0.0018768310546875, 0.00274658203125, 0.005126953125, -0.0003795623779296875, -0.0012664794921875, 0.0025482177734375, 0.0032958984375, -0.0111083984375, -0.0014801025390625, 0.01129150390625, -0.00127410888671875, 0.00060272216796875, 0.005950927734375, 0.0098876953125, -0.000164031982421875, -0.0034027099609375, -0.00848388671875, 0.005035400390625, 0.00732421875, 0.01190185546875, 0.0027313232421875, 0.00179290771484375, 0.00384521484375, 0.0126953125, -0.0087890625, 0.00628662109375, 0.01043701171875, -0.004058837890625, 0.0068359375, -0.005645751953125, -0.00885009765625, -0.00081634521484375, 0.0087890625, 0.0118408203125, 0.006378173828125, 0.00156402587890625, -0.00445556640625, -0.00360107421875, 0.00433349609375, -0.004974365234375, 0.004302978515625, -0.00045013427734375, 0.004058837890625, 0.00122833251953125, 0.000762939453125, -0.00072479248046875, 0.01544189453125, 0.01007080078125, 0.0023040771484375, -0.01080322265625, -0.0037841796875, 0.0022430419921875, -0.005096435546875, 0.01055908203125, 0.001953125, -0.0050048828125, 0.0019683837890625, -0.0004138946533203125, -0.0074462890625, -0.0027618408203125, -0.0047607421875, -0.006591796875, -0.015625, -0.0028533935546875, 0.011962890625, 0.00909423828125, 0.01025390625, -0.003662109375, -0.00469970703125, -0.00946044921875, -0.003692626953125, 0.01409912109375, -0.001861572265625, -0.0034942626953125, 0.0030975341796875, 0.00482177734375, 0.0033111572265625, -0.01239013671875, -0.0023040771484375, 0.00040435791015625, 0.004791259765625, -0.005615234375, -0.01165771484375, 0.00177764892578125, 0.005462646484375, 0.00579833984375, 0.009765625, 0.00347900390625, -0.004852294921875, 0.0137939453125, 0.002777099609375, -0.0010833740234375, -0.00034332275390625, -0.00250244140625, 0.0069580078125, -0.01080322265625, -0.00799560546875, 0.00156402587890625, 0.003265380859375, 0.00946044921875, -0.005859375, 0.0059814453125, 0.001007080078125, -0.004791259765625, 0.008056640625, 0.0072021484375, -0.01141357421875, -0.0096435546875, -0.00927734375, -0.00063323974609375, -0.0022125244140625, 0.01123046875, -0.000957489013671875, -0.001220703125, 0.001190185546875, -0.000946044921875, 0.00152587890625, -0.0145263671875, -0.01519775390625, -0.0029144287109375, 0.0093994140625, -0.00439453125, -0.01129150390625, 0.003753662109375, -0.0028228759765625, -0.004638671875, 0.00311279296875, -0.0040283203125, -0.0013275146484375, 0.0103759765625, -0.001617431640625, 0.005462646484375, 0.0021209716796875, 0.000698089599609375, -0.006622314453125, -0.0064697265625, -0.0012359619140625, 0.00152587890625, 0.006927490234375, -0.00543212890625, -0.004913330078125, 0.00299072265625, -0.006927490234375, -0.0024261474609375, 0.00238037109375, -0.01458740234375, 0.0096435546875, 0.00189208984375, -0.00775146484375, 0.007171630859375, 0.004241943359375, 0.00408935546875, -0.001068115234375, -0.002288818359375, 0.002685546875, -0.00140380859375, 0.004150390625, 0.0031585693359375, -0.003265380859375, -0.0021209716796875, 0.00037384033203125, -0.01043701171875, 0.0036163330078125, 0.0020751953125, -0.006927490234375, 0.01708984375, -0.0019989013671875, -0.0012664794921875, 0.0108642578125, -0.00286865234375, -0.00092315673828125, 0.002166748046875, 0.001983642578125, -0.0032196044921875, 0.01165771484375, -0.00689697265625, 0.0042724609375, -0.003997802734375, -0.0031280517578125, 0.0194091796875, 0.004852294921875, 0.00084686279296875, 0.000766754150390625, -0.0014495849609375, -0.0011749267578125, -0.00128173828125, -0.0037078857421875, -0.001007080078125, -0.00830078125, -0.003082275390625, -0.00665283203125, 0.005950927734375, 0.00078582763671875, 0.004150390625, 0.006256103515625, 0.0021514892578125, 0.01171875, -0.00011444091796875, 0.00823974609375, -0.00179290771484375, -0.00421142578125, 0.00811767578125, -0.0115966796875, -0.002716064453125, 0.01007080078125, 0.00799560546875, -0.004608154296875, -0.0059814453125, 0.00031280517578125, 0.001953125, 0.00927734375, -0.0030975341796875, -0.00433349609375, 0.0152587890625, -0.010009765625, 0.00189208984375, -0.00494384765625, -0.002777099609375, -0.0036773681640625, 0.0019378662109375, -0.0032806396484375, -0.00897216796875, -0.00030517578125, 0.00518798828125, -0.00084686279296875, -0.00390625, -0.00092315673828125, 0.0032958984375, -0.0008392333984375, -0.00665283203125, -0.0106201171875, -0.000736236572265625, -0.00115203857421875, -0.0012054443359375, -0.0023956298828125, 0.0030059814453125, 0.0078125, 0.00160980224609375, -0.002960205078125, 0.003570556640625, 0.00958251953125, -0.002471923828125, -0.00653076171875, 0.00653076171875, 0.00823974609375, -0.0067138671875, -0.000385284423828125, -0.01324462890625, 0.00494384765625, 0.00360107421875, -0.01123046875, 0.00653076171875, 0.00634765625, 0.000232696533203125, 0.00469970703125, 0.0025634765625, 0.0045166015625, -0.00958251953125, -0.0037841796875, -0.00152587890625, -0.006103515625, -0.0034942626953125, -0.0015106201171875, 0.01531982421875, -4.57763671875e-05, -0.000804901123046875, -0.0150146484375, -0.00640869140625, -0.0029296875, -0.00067138671875, 0.000598907470703125, 0.00689697265625, -0.0002040863037109375, 0.005218505859375, -0.00177001953125, -0.01202392578125, 0.00665283203125, 0.00037384033203125, 0.007049560546875, -0.0196533203125, 0.00762939453125, -0.0033721923828125, -0.001983642578125, -0.0034942626953125, -0.00183868408203125, -0.006561279296875, 0.000675201416015625, 0.005126953125, 0.002532958984375, -0.003265380859375, -0.00933837890625, 0.00055694580078125, -0.0068359375, -0.0052490234375, -0.00115966796875, 0.0115966796875, 0.00439453125, -0.002349853515625, -0.0013427734375, -0.00150299072265625, -0.0019989013671875, -0.002716064453125, -0.00032806396484375, 0.002166748046875, -0.002197265625, 0.0076904296875, -0.004425048828125, -0.0107421875, -0.002105712890625, 0.005645751953125, 0.0015106201171875, -0.0027923583984375, -0.00628662109375, 0.008544921875, -0.0028839111328125, -0.0006256103515625, -0.009521484375, -0.0025482177734375, 0.004547119140625, 0.013427734375, -0.01409912109375, -0.004180908203125, 0.00031280517578125, -0.00396728515625, -0.0034027099609375, 0.00180816650390625, -0.00909423828125, 0.00872802734375, 0.00921630859375, -0.0028839111328125, 0.0009918212890625, 0.0033416748046875, 0.00897216796875, -0.0054931640625, -0.004974365234375, 0.00518798828125, -0.0045166015625, 0.00176239013671875, -0.003997802734375, 0.00958251953125, -0.003753662109375, -0.01470947265625, 0.004974365234375, -0.006744384765625, -0.010009765625, -0.005523681640625, 0.00543212890625, -0.00152587890625, -0.0098876953125, 0.009521484375, -0.00390625, -0.005523681640625, -0.0106201171875, 0.0010223388671875, -0.00119781494140625, 0.00823974609375, 0.003265380859375, 0.0002346038818359375, -0.000507354736328125, 0.008544921875, 0.00830078125, 0.004486083984375, 0.00555419921875, -0.0021514892578125, -0.0037078857421875, 0.00433349609375, -0.0012969970703125, -0.00701904296875, -0.0079345703125, 0.0086669921875, -0.00151824951171875, -0.007293701171875, 0.00060272216796875, -0.0027008056640625, -0.003173828125, -0.01092529296875, 0.00518798828125, 0.0106201171875, 0.00115966796875, 0.0002841949462890625, 3.814697265625e-05, 0.0079345703125, -0.0002117156982421875, 0.002960205078125, 0.01202392578125, -0.0072021484375, -0.003204345703125, -0.00506591796875, 0.00101470947265625, -0.0002593994140625, 0.004669189453125, -0.003173828125, 0.002593994140625, 0.0024871826171875, 0.005889892578125, -0.0022125244140625, 0.0006103515625, 0.005218505859375, -0.00128173828125, -0.005401611328125, -0.0096435546875, 0.0027008056640625, 0.0068359375, -0.00159454345703125, -0.0022430419921875, 0.0013427734375, -0.002899169921875, 0.0034637451171875, -0.0128173828125, 0.0035400390625, -0.00390625, 0.00408935546875, 0.00421142578125, 0.0022125244140625, -0.00250244140625, 0.0010986328125, 0.00433349609375, 0.005035400390625, -0.00439453125, 0.0087890625, -0.0035858154296875, 0.01263427734375, -0.00762939453125, -0.00732421875, -0.00124359130859375, 0.00122833251953125, 0.00026702880859375, -0.00238037109375, -0.0031280517578125, -0.0120849609375, 0.000202178955078125, 0.00543212890625, -0.005523681640625, 0.0062255859375, 0.00518798828125, -0.00537109375, 0.0040283203125, -0.0086669921875, -0.003387451171875, 0.007110595703125, -0.00701904296875, -0.006195068359375, -0.003143310546875, 0.0081787109375, 0.0101318359375, -0.004730224609375, -0.008544921875, 0.00958251953125, 0.001434326171875, -0.004913330078125, 0.01165771484375, 0.00170135498046875, 0.006317138671875, -0.0062255859375, 8.392333984375e-05, -0.0027618408203125, -0.003082275390625, -0.001678466796875, -0.00020122528076171875, 0.000640869140625, -0.0016937255859375, 0.01153564453125, 0.006866455078125, 0.00091552734375, 0.001617431640625, 0.0036773681640625, 0.00433349609375, 0.007293701171875, 0.0034027099609375, 0.00927734375, -0.0045166015625, 0.000698089599609375, -0.0057373046875, -0.007080078125, 0.0025634765625, -0.001251220703125, -0.01190185546875, -0.005126953125, -0.0042724609375, -0.0076904296875, -0.007293701171875, 0.00098419189453125, 0.0048828125, -0.006591796875, 0.0078125, -0.0003662109375, -0.00191497802734375, -0.00274658203125, -0.00921630859375, -0.003631591796875, 0.00640869140625, 0.00109100341796875, -0.000946044921875, -0.013427734375, 0.002227783203125, 0.00811767578125, 0.0019683837890625, 1.9073486328125e-05, 0.00225830078125, -0.009033203125, 0.0045166015625, 0.00439453125, -0.001678466796875, -0.0103759765625, 0.006439208984375, 0.0016021728515625, -0.00079345703125, -0.01068115234375, -0.00750732421875, -0.0031585693359375, -0.00019931793212890625, -0.002166748046875, -0.0081787109375, -0.00162506103515625, -0.004791259765625, 0.0004444122314453125, -0.000583648681640625, 0.0036468505859375, -0.005828857421875, 0.0025787353515625, -0.0009765625, 0.00086212158203125, 0.006011962890625, -0.0048828125, 0.000110626220703125, 0.00531005859375, 0.00738525390625, -0.000553131103515625, -0.003143310546875, 0.0025177001953125, 0.008544921875, 0.00225830078125, -0.0078125, -0.002777099609375, 0.0038299560546875, -0.007049560546875, -0.003387451171875, 0.003936767578125, -0.005279541015625, -0.00262451171875, -0.0028839111328125, -0.00482177734375, -0.0101318359375, -0.00897216796875, 0.0079345703125, -0.0022735595703125, 0.0128173828125, -0.003326416015625, -0.00274658203125, -0.0014495849609375, 0.005523681640625, -0.00022125244140625, 0.0108642578125, 0.00543212890625, 0.0031585693359375, 0.00799560546875, -0.00836181640625, 0.007354736328125, -0.009765625, 0.003265380859375, 0.0107421875, 0.00885009765625, -0.002471923828125, -0.0018463134765625, 0.014404296875, 0.0064697265625, -1.52587890625e-05, 0.0032196044921875, 0.006927490234375, 0.000274658203125, -0.00408935546875, 0.005279541015625, -0.0017547607421875, -0.00531005859375, -0.01190185546875, 0.007568359375, -0.00095367431640625, 0.01177978515625, -0.0036468505859375, -0.00390625, 0.007415771484375, 8.153915405273438e-05, 0.00616455078125, 0.0029754638671875, 0.0067138671875, -0.0072021484375, 0.0057373046875, 0.01416015625, -0.0068359375, -0.00130462646484375, 0.000896453857421875, 0.00225830078125, 0.00732421875, -0.007171630859375, 0.0057373046875, 0.0015869140625, -0.006805419921875, 0.01275634765625, -0.0014190673828125, -0.00142669677734375, 0.00897216796875, -0.0118408203125, -0.00396728515625, 0.003662109375, 0.0013275146484375, 0.0091552734375, -0.00933837890625, 0.00191497802734375, 0.00640869140625, -0.0013885498046875, 0.006988525390625, 0.011474609375, 0.003387451171875, 0.01434326171875, 0.006378173828125, -0.002593994140625, -0.005218505859375, -0.00040435791015625, 0.003143310546875, -0.0015869140625, -0.00531005859375, -0.003753662109375, 0.000579833984375, -0.00098419189453125, -0.005157470703125, 0.002777099609375, -0.00225830078125, -0.0037384033203125, -0.009033203125, -0.0021514892578125, -0.01214599609375, -0.0164794921875, 0.0013580322265625, -0.00119781494140625, 0.002593994140625, -0.013916015625, 0.00262451171875, 0.0045166015625, -0.0002899169921875, 0.00457763671875, 0.003387451171875, 0.0042724609375, -0.002838134765625, -0.002166748046875, 0.0147705078125, -0.005950927734375, -0.0040283203125, 0.00396728515625, 0.0047607421875, 0.00604248046875, 0.005615234375, 0.00616455078125, -0.01220703125, 0.00180816650390625, 0.0072021484375, -0.000934600830078125, 0.0004367828369140625, 0.0022430419921875, 0.00482177734375, 0.0024566650390625, 0.012939453125, 0.000141143798828125, 0.00958251953125, -0.001800537109375, 0.004547119140625, 0.001373291015625, 0.0015869140625, -0.00439453125, 0.0086669921875, 0.00179290771484375, -0.006500244140625, -0.007354736328125, -0.00531005859375, 0.01043701171875, 0.000396728515625, 0.00494384765625, -0.0084228515625, -0.00726318359375, 0.0045166015625, 0.0093994140625, 0.0032196044921875, 0.006134033203125, -0.00028228759765625, -0.0013580322265625, 0.010009765625, 0.00213623046875, -0.007171630859375, -0.002349853515625, 0.00750732421875, -0.002960205078125, 0.00115203857421875, 0.003265380859375, -0.001617431640625, -0.0052490234375, 0.0030670166015625, 0.008544921875, 0.00341796875, -0.0037994384765625, -0.002227783203125, -0.0045166015625, -0.0034942626953125, 0.005706787109375, -0.00958251953125, 0.002288818359375, 0.0125732421875, 0.000762939453125, -0.00640869140625, -0.00055694580078125, -0.0011138916015625, -0.00168609619140625, 0.0006866455078125, -0.000392913818359375, 0.0035858154296875, 0.002532958984375, 0.0005950927734375, -0.01324462890625, 0.00506591796875, 0.00927734375, -0.0093994140625, 0.0047607421875, -0.003387451171875, -0.00124359130859375, 0.005584716796875, 0.0047607421875, -0.011962890625, -0.015625, 0.005340576171875, 0.01385498046875, 0.002838134765625, -0.0027008056640625, -0.007080078125, 0.01025390625, 0.0021514892578125, -0.00872802734375, 0.0062255859375, 0.0089111328125, -0.005096435546875, -0.000972747802734375, 0.024658203125, 0.003662109375, -0.0147705078125, 0.004486083984375, -0.0037078857421875, -0.007354736328125, -0.0021820068359375, -0.006744384765625, -0.01708984375, -0.0003452301025390625, 0.002410888671875, -0.005462646484375, -0.00518798828125, 0.005950927734375, 0.002288818359375, -0.0023193359375, -0.003875732421875, 0.00921630859375, 0.0108642578125, 0.003692626953125, -0.0006866455078125, 0.000362396240234375, 0.0007171630859375, 0.003387451171875, -0.000453948974609375, -0.0040283203125, 0.0036163330078125, -0.00127410888671875, -0.0032806396484375, -0.000545501708984375, -0.003265380859375, -0.010986328125, 0.0009918212890625, -0.0052490234375, -0.0054931640625, -0.00262451171875, 0.000885009765625, 0.0005035400390625, -0.00139617919921875, -0.0091552734375, -0.0015716552734375, 0.003173828125, 0.00494384765625, -0.010498046875, -0.00897216796875, 0.0002899169921875, 0.006500244140625, -0.00128936767578125, 0.0020751953125, -0.000263214111328125, -0.003509521484375, 0.00127410888671875, 3.0517578125e-05, -0.000217437744140625, 0.000385284423828125, -0.004608154296875, -0.004425048828125, 0.005157470703125, 0.0084228515625, 0.007659912109375, -0.0036163330078125, -0.00067901611328125, 0.000286102294921875, -0.006744384765625, 0.006744384765625, -0.0001125335693359375, 0.0029754638671875, -0.002044677734375, -0.0020751953125, -0.006744384765625, 0.0054931640625, 0.001922607421875, -0.006072998046875, 0.000118255615234375, 0.0006866455078125, -0.0026397705078125, 0.00022125244140625, -0.006500244140625, -0.00130462646484375, 0.0027313232421875, 0.0020599365234375, 0.0020751953125, -0.00946044921875, -5.14984130859375e-05, -0.001678466796875, -0.00836181640625, -0.00106048583984375, -0.00090789794921875, 0.005767822265625, 0.0001983642578125, 0.00445556640625, -0.007080078125, -0.00396728515625, 0.0155029296875, -0.0012969970703125, 0.010009765625, -0.003814697265625, 0.009765625, 0.00750732421875, -0.00384521484375, -0.01239013671875, 0.008544921875, 0.01068115234375, -0.001739501953125, 0.004119873046875, -0.0128173828125, -0.0033416748046875, -0.000667572021484375, -0.007232666015625, -0.00604248046875, 0.00567626953125, -0.0052490234375, -0.0072021484375, -0.0025634765625, 0.0017547607421875, 0.0026702880859375, 0.007354736328125, 0.00469970703125, 0.000194549560546875, -9.822845458984375e-05, 0.00168609619140625, 0.006378173828125, -0.00885009765625, 0.00138092041015625, -0.00421142578125, 0.000377655029296875, 0.00537109375, 0.00176239013671875, 0.005096435546875, -0.0084228515625, -0.0032196044921875, 0.0018157958984375, -0.0025482177734375, 0.0034332275390625, 0.006683349609375, 0.001220703125, 0.007080078125, 0.002349853515625, 0.004364013671875, -0.0029449462890625, -0.004302978515625, 0.002288818359375, -0.00506591796875, 0.00836181640625, -0.001373291015625, -0.007537841796875, -0.00445556640625, -0.0034332275390625, -0.0017547607421875, -0.01123046875, -0.00238037109375, 0.002197265625, -0.001708984375, 0.000827789306640625, 0.00421142578125, 0.0019073486328125, -0.00078582763671875, -0.001312255859375, 0.006927490234375, -0.00154876708984375, -0.004638671875, -0.0054931640625, 0.0029449462890625, 0.018798828125, 0.01129150390625, 0.00262451171875, -0.002716064453125, -0.0064697265625, -0.000789642333984375, -0.00124359130859375, -0.00131988525390625, 0.003570556640625, -0.0011444091796875, 0.0028228759765625, -0.007568359375, -0.00193023681640625, 0.00469970703125, 5.7220458984375e-06, -0.00115203857421875, -0.00080108642578125, -0.0008392333984375, -0.004119873046875, 0.00029754638671875, -0.0011444091796875, -0.001434326171875, -0.007415771484375, 0.0159912109375, 0.00189208984375, 0.0024566650390625, 0.00177001953125, -0.00286865234375, 0.003875732421875, -0.0016632080078125, -0.011962890625, -0.00069427490234375, 0.006622314453125, -0.0047607421875, 0.00457763671875, -0.005462646484375, 0.00457763671875, 0.0167236328125, 0.00035858154296875, -9.393692016601562e-05, -0.0062255859375, 0.00119781494140625, 0.00885009765625, -0.0002956390380859375, -0.001617431640625, -0.0010833740234375, -0.000152587890625, 0.003936767578125, -0.005584716796875, -0.00506591796875, 0.0020751953125, 0.0024566650390625, 0.005462646484375, -0.00176239013671875, -0.0016326904296875, 0.0050048828125, -0.005645751953125, -0.002716064453125, -0.0003204345703125, -0.004852294921875, 0.00171661376953125, -0.0054931640625, -0.000370025634765625, -0.00153350830078125, -0.0106201171875, -0.006500244140625, -7.62939453125e-05, 0.00518798828125, 0.005859375, -0.0003719329833984375, -0.002166748046875, 0.001007080078125, 0.001983642578125, 0.00113677978515625, -0.00433349609375, -0.0009307861328125, -0.00151824951171875, 0.000621795654296875, 0.0021820068359375, -0.0054931640625, -0.00482177734375, -0.0034637451171875, -0.01007080078125, -5.91278076171875e-05, -0.0022125244140625, 0.001068115234375, 0.0086669921875, 0.0029754638671875, -0.007110595703125, 0.0022430419921875, -0.0025482177734375, 0.00171661376953125, 0.0067138671875, 0.00775146484375, 0.0022430419921875, -0.00994873046875, -0.002044677734375, -0.0001068115234375, 0.00653076171875, 0.00390625, -0.006317138671875, -0.000400543212890625, -0.002288818359375, 0.001953125, -0.00439453125, 0.001922607421875, 0.0020904541015625, 0.001068115234375, -0.0093994140625, 0.00445556640625, -0.0012969970703125, 0.024169921875, 0.01397705078125, -0.0059814453125, 0.001861572265625, -0.00457763671875, -0.005950927734375, 0.00469970703125, -0.010498046875, 0.008544921875, 0.00311279296875, 0.0034027099609375, 0.01806640625, 0.0047607421875, 0.0081787109375, -0.00457763671875, -0.002655029296875, 0.005157470703125, -0.00897216796875, 0.00433349609375, 0.00689697265625, -0.009765625, 0.00323486328125, 0.004913330078125, 7.62939453125e-05, 0.0020751953125, -0.000457763671875, -0.005157470703125, -0.0068359375, 0.000186920166015625, 0.00177764892578125, -0.00531005859375, 0.00872802734375, 0.000720977783203125, 0.0029449462890625, 0.00141143798828125, 0.0038909912109375, -0.0045166015625, 0.00119781494140625, 0.002655029296875, 0.0068359375, -0.0037078857421875, -0.00421142578125, -0.00341796875, -0.006378173828125, 0.004241943359375, -0.005340576171875, 0.0002593994140625, -0.005523681640625, -0.007080078125, 0.0025634765625, -0.006195068359375, 0.006561279296875, -0.00201416015625, -0.00177001953125, 0.00848388671875, 0.01483154296875, -0.00286865234375, 0.002655029296875, 0.001251220703125, 0.0023345947265625, 0.0023345947265625, 0.002197265625, 0.00084686279296875, -0.00830078125, 0.0067138671875, 0.0010528564453125, -0.03271484375, -0.006622314453125, -0.0029296875, -0.003753662109375, 0.005859375, 0.0032501220703125, 0.00433349609375, 9.1552734375e-05, -0.00830078125, 0.0052490234375, 0.008544921875, -0.000347137451171875, -0.00787353515625, -0.000156402587890625, 0.0107421875, -0.001617431640625, 0.009521484375, -0.007537841796875, 0.0062255859375, -0.0023193359375, -0.000213623046875, -0.0001983642578125, 0.00555419921875, 0.00714111328125, 0.004364013671875, -0.00115966796875, 0.000469207763671875, 0.0002918243408203125, 0.01025390625, 0.002105712890625, -0.0002002716064453125, 0.00921630859375, -0.0020904541015625, -0.00372314453125, -0.00750732421875, -0.01495361328125, -0.001129150390625, -0.0032958984375, 4.2438507080078125e-05, 0.00170135498046875, 0.0068359375, -0.005706787109375, 0.004302978515625, -0.0010833740234375, 0.006561279296875, 0.001708984375, 0.0035858154296875, -0.00037384033203125, 0.00054168701171875, -0.000896453857421875, 0.0029296875, 0.00567626953125, -0.001312255859375, -0.00909423828125, -0.0019683837890625, -0.00482177734375, 0.0072021484375, 0.01116943359375, 0.0030517578125, -0.0026397705078125, 0.00506591796875, -0.000335693359375, 0.000240325927734375, -0.00311279296875, -0.004669189453125, 0.0025787353515625, 0.005523681640625, 0.0048828125, -0.004791259765625, -0.00171661376953125, 0.00836181640625, 0.00927734375, -0.00052642822265625, -0.0029754638671875, -0.005035400390625, -0.00433349609375, -0.004913330078125, -0.002685546875, 0.000743865966796875, 0.01318359375, -0.01123046875, 0.002593994140625, -0.004638671875, 0.00433349609375, 0.005218505859375, 0.00341796875, 0.00604248046875, -0.004669189453125, 0.00872802734375, -0.002288818359375, -0.00469970703125, 0.0023193359375, -0.00927734375, 0.00151824951171875, -0.0026397705078125, -0.0079345703125, -0.00823974609375, 0.0020294189453125, -0.0030975341796875, -0.01397705078125, -0.0064697265625, -0.00531005859375, -0.000965118408203125, -0.00689697265625, -0.00592041015625, -0.0034942626953125, 0.002655029296875, 0.006866455078125, 0.0037994384765625, -0.0030517578125, 0.0047607421875, 0.00022220611572265625, -0.000667572021484375, 0.005462646484375, -0.0213623046875, -0.005767822265625, -0.0048828125, -0.00836181640625, 0.0030670166015625, 0.002471923828125, 0.004425048828125, -0.0035400390625, -0.0026702880859375, 0.0194091796875, -0.00775146484375, -0.00086212158203125, -0.00555419921875, 0.002716064453125, -0.0020751953125, 0.00164794921875, 0.0024261474609375, -0.00653076171875, -0.000888824462890625, -0.001556396484375, 3.0517578125e-05, -6.103515625e-05, -0.00091552734375, 0.00070953369140625, 0.00201416015625, -0.001312255859375, -0.005584716796875, 0.0107421875, -0.01190185546875, 0.000396728515625, -0.003753662109375, -0.0064697265625, -0.0074462890625, 0.01141357421875, 1.9073486328125e-06, -0.0029754638671875, 0.000545501708984375, 0.007568359375, 0.0004177093505859375, -0.007080078125, 0.0037078857421875, 0.001739501953125, -0.00927734375, -0.0003108978271484375, 0.0027618408203125, -0.0118408203125, 0.00848388671875, -0.002227783203125, 0.006011962890625, -0.00677490234375, 0.00677490234375, -0.004150390625, 0.00128173828125, 0.00927734375, 0.004150390625, 0.0103759765625, -0.003021240234375, 0.01190185546875, 0.002044677734375, 0.0194091796875, -0.002471923828125, -0.006103515625, -0.006195068359375, 0.004180908203125, 0.000946044921875, 0.0009765625, 0.0027923583984375, 0.00604248046875, 0.002593994140625, 0.0098876953125, -0.003753662109375, 0.00433349609375, 0.0012969970703125, -0.00164794921875, -0.0038604736328125, 0.003692626953125, 0.0009307861328125, -0.008056640625, -0.01068115234375, -0.004486083984375, -0.0072021484375, -7.62939453125e-05, -0.00421142578125, -0.004180908203125, -0.00299072265625, 0.001434326171875, -0.004547119140625, -0.004791259765625, -0.00093841552734375, 0.00152587890625, 0.001129150390625, 0.007598876953125, 0.003204345703125, -0.00494384765625, 0.0018310546875, 0.005645751953125, 0.00482177734375, 0.00634765625, -0.0024261474609375, 0.000640869140625, 0.0047607421875, -0.0019378662109375, -0.0004520416259765625, -0.0103759765625, -0.0033111572265625, 0.00628662109375, -0.003814697265625, -0.0030059814453125, -0.003265380859375, -0.00119781494140625, -0.004791259765625, -7.200241088867188e-05, -0.00372314453125, 0.006805419921875, -0.0037994384765625, 0.004547119140625, -0.004425048828125, 0.00506591796875, -0.0057373046875, 0.003143310546875, -0.003021240234375, 4.76837158203125e-05, 0.00372314453125, -7.152557373046875e-07, -0.00081634521484375, -0.00860595703125, 0.007781982421875, -0.0037689208984375, -0.0040283203125, -0.002105712890625, -0.006622314453125, 0.00030517578125, 0.008056640625, -0.0059814453125, 0.00982666015625, -0.00555419921875, -0.0062255859375, -0.0015106201171875, 0.00396728515625, -0.01104736328125, -0.0008392333984375, -0.00823974609375, -0.006988525390625, 0.01287841796875, -0.002288818359375, 0.0024566650390625, -0.001861572265625, -0.003143310546875, 0.004150390625, -0.00469970703125, -0.0045166015625, 0.00023651123046875, -0.00982666015625, -0.00494384765625, 0.009765625, -0.006072998046875, 0.001129150390625, -0.0059814453125, -0.00909423828125, -0.003875732421875, 0.005950927734375, 0.00213623046875, -0.00579833984375, -0.0081787109375, -0.0009765625, -0.007476806640625, 0.005859375, -0.006317138671875, 0.0062255859375, -0.0062255859375, 0.00543212890625, 0.006805419921875, 0.0038909912109375, 1.1444091796875e-05, -0.006927490234375, -0.002471923828125, -0.00104522705078125, -0.01019287109375, -0.009033203125, -0.006988525390625, 0.00543212890625, 0.000789642333984375, -0.00872802734375, -0.00640869140625, 0.002227783203125, -0.002197265625, -0.0022430419921875, -0.0035400390625, -0.000194549560546875, -0.00032806396484375, 0.000244140625, 0.0101318359375, -0.0126953125, -0.003326416015625, 0.0045166015625, 0.0018463134765625, 0.0009002685546875, -8.106231689453125e-05, -0.003753662109375, 0.0007476806640625, -0.00738525390625, -0.00628662109375, 0.00543212890625, -0.0019989013671875, -0.007659912109375, 0.002197265625, 0.004425048828125, 0.009033203125, 0.00104522705078125, 0.0020599365234375, -0.000598907470703125, 0.0017242431640625, -0.006134033203125, -0.01055908203125, -0.0013580322265625, 0.001251220703125, -0.008544921875, -0.00092315673828125, 0.0031890869140625, 0.00299072265625, 0.0023956298828125, -0.01513671875, 0.00689697265625, -0.003692626953125, 0.00640869140625, -0.0047607421875, 0.001983642578125, -0.002197265625, 0.006988525390625, 0.01263427734375, -0.0007781982421875, 0.002655029296875, 0.00433349609375, 0.0011444091796875, -0.0062255859375, 0.004852294921875, 0.00433349609375, 0.006195068359375, -0.0040283203125, 0.0006256103515625, 0.0017242431640625, -0.00311279296875, -0.004791259765625, 0.005340576171875, 0.0078125, -0.01019287109375, -0.00390625, 0.006561279296875, 0.0042724609375, 0.00396728515625, -0.00311279296875, -0.005615234375, -0.01092529296875, 0.0008697509765625, 0.00061798095703125, -0.00167083740234375, -0.0107421875, 0.002410888671875, -0.006195068359375, 0.00139617919921875, 0.009033203125, 0.01080322265625, 0.003631591796875, -0.0087890625, 0.003448486328125, -0.000133514404296875, 0.00823974609375, 0.0018768310546875, 0.006134033203125, -0.0015106201171875, 0.0059814453125, 0.00213623046875, -0.0031890869140625, 0.00714111328125, 0.0015411376953125, -0.0003337860107421875, 0.005340576171875, -0.00030517578125, 0.00823974609375, 0.00677490234375, 0.00823974609375, 0.0020904541015625, -0.005615234375, -0.01007080078125, 0.003082275390625, -0.005157470703125, -0.00457763671875, -4.9591064453125e-05, 0.005218505859375, -0.0009918212890625, -0.0081787109375, -0.01202392578125, -0.0001068115234375, -0.0067138671875, -0.003875732421875, -0.005950927734375, 0.00025177001953125, -0.0024566650390625, 0.003631591796875, 0.00714111328125, -0.0111083984375, -0.0198974609375, -0.00616455078125, 0.004364013671875, -0.002166748046875, -0.01055908203125, 0.001617431640625, 0.00830078125, -0.000629425048828125, 0.001068115234375, 0.0019989013671875, -0.0035858154296875, -0.01171875, -0.00095367431640625, -0.0019989013671875, 0.0005950927734375, -0.00408935546875, 0.01190185546875, 0.006591796875, -0.005126953125, -0.0030975341796875, -0.008056640625, -0.0079345703125, -0.002899169921875, -0.0034027099609375, 0.00119781494140625, 0.00084686279296875, -0.003265380859375, 0.0059814453125, -0.00823974609375, -0.0020904541015625, 0.000522613525390625, 0.01336669921875, 0.010498046875, -0.01214599609375, -0.0048828125, 0.01080322265625, 0.0011444091796875, -0.01043701171875, 0.0037994384765625, -0.0005340576171875, 0.0106201171875, -0.00164031982421875, -0.00238037109375, 0.000537872314453125, 8.0108642578125e-05, -0.00191497802734375, 0.00347900390625, -0.0020751953125, 0.00994873046875, 0.00138092041015625, 0.003387451171875, 0.00152587890625, -0.0118408203125, -0.004608154296875, 0.005401611328125, 0.00848388671875, 0.0069580078125, -0.00038909912109375, 0.0024566650390625, -0.00060272216796875, -0.003204345703125, 0.0032958984375, 0.0135498046875, -0.0005340576171875, -0.0052490234375, 0.0011138916015625, -0.0008697509765625, 0.0037841796875, -0.01263427734375, 0.010498046875, 0.0194091796875, -0.0096435546875, -0.00714111328125, -0.0157470703125, -0.003021240234375, 2.7179718017578125e-05, -0.00213623046875, -0.0004119873046875, -0.0034942626953125, 0.0033416748046875, -0.0005645751953125, -0.0023193359375, -0.00193023681640625, -0.0101318359375, -0.00506591796875, 0.0010833740234375, 0.0001583099365234375, -0.00518798828125, -0.00113677978515625, 0.0084228515625, 0.006591796875, -0.001251220703125, -0.00390625, 0.003326416015625, 0.014404296875, -0.00518798828125, -0.0029144287109375, 0.0011444091796875, -0.0034637451171875, -0.00174713134765625, -0.0140380859375, -0.009765625, 0.00046539306640625, -0.00830078125, 0.00848388671875, 0.004638671875, 0.004180908203125, 0.0040283203125, 0.000339508056640625, -0.006988525390625, 0.00439453125, -0.00127410888671875, -0.0021209716796875, 0.0084228515625, 0.001373291015625, 0.00982666015625, -0.000606536865234375, 0.002593994140625, -0.0030517578125, -0.004730224609375, -0.0194091796875, -0.00213623046875, -0.0003566741943359375, -0.00052642822265625, 0.009521484375, -0.00335693359375, 0.002227783203125, 0.0012054443359375, -0.0012359619140625, 0.0062255859375, -0.000644683837890625, -0.0076904296875, -0.00921630859375, 0.006866455078125, 0.01104736328125, -0.005889892578125, 0.00775146484375, -0.014404296875, 0.0057373046875, 0.000152587890625, -0.0091552734375, 0.0017242431640625, 0.006683349609375, -0.005889892578125, 0.000370025634765625, 0.0029144287109375, 0.01019287109375, 0.00408935546875, 0.003631591796875, -0.01239013671875, -0.0054931640625, 0.00323486328125, 0.01141357421875, -0.00185394287109375, -0.007537841796875, 0.004547119140625, 0.00030517578125, -0.00616455078125, -0.01422119140625, 0.00069427490234375, -0.00909423828125, -0.005035400390625, 0.00213623046875, -0.005615234375, -0.0034942626953125, -0.00311279296875, -0.0027618408203125, -0.0047607421875, -0.00897216796875, -0.0087890625, 0.0035247802734375, 0.00311279296875, 0.00150299072265625, 0.00927734375, -0.00958251953125, -0.00078582763671875, 0.001007080078125, -0.00714111328125, 0.0022430419921875, -0.0015106201171875, -0.0026702880859375, 0.01226806640625, 0.006103515625, 0.0022735595703125, 0.00555419921875, 0.0013885498046875, -0.0032806396484375, -0.01141357421875, 0.00439453125, 0.0022125244140625, 0.005584716796875, -0.00653076171875, 0.00616455078125, 0.0086669921875, -0.0005645751953125, 0.00537109375, 0.00162506103515625, -0.005706787109375, -0.002685546875, -0.000698089599609375, 0.0189208984375, -0.0030364990234375, -0.004791259765625, -0.000926971435546875, -0.0032806396484375, 0.00616455078125, -0.00445556640625, 0.0004119873046875, -0.00872802734375, 0.007720947265625, 0.00191497802734375, 0.003326416015625, 0.00311279296875, 0.00885009765625, -0.008056640625, -0.0030517578125, 0.0034942626953125, -0.005706787109375, 0.00023651123046875, 0.00080108642578125, -0.002593994140625, 0.00148773193359375, -0.000728607177734375, 0.0005035400390625, -0.00335693359375, 0.00102996826171875, -0.000728607177734375, 0.0024871826171875, -0.00244140625, 0.003692626953125, -0.0074462890625, 0.0002593994140625, 0.0045166015625, -0.00518798828125, -0.0025482177734375, 0.003753662109375, 0.0067138671875, 0.006591796875, 0.0047607421875, -0.00543212890625, 0.0014190673828125, 0.0021514892578125, 0.00189971923828125, -0.002838134765625, 0.0059814453125, 0.0150146484375, 0.0057373046875, -0.011962890625, -0.00439453125, -0.0018463134765625, 0.005218505859375, 0.00311279296875, -0.006683349609375, -0.0086669921875, -0.0054931640625, 0.00555419921875, -0.006622314453125, 0.00173187255859375, -0.0017852783203125, -0.0008392333984375, -0.009521484375, -0.0008544921875, -0.00189208984375, -0.005706787109375, -0.000507354736328125, -0.00119781494140625, -0.001617431640625, 0.000148773193359375, -0.008544921875, 0.004547119140625, -0.007080078125, 0.00714111328125, -0.002655029296875, 0.00372314453125, 0.00537109375, 0.0014495849609375, 0.000965118408203125, 0.003631591796875, -0.00201416015625, 0.005950927734375, 0.00250244140625, 0.0081787109375, 0.005096435546875, -0.0006866455078125, 0.005401611328125, -0.00677490234375, -0.017822265625, -0.005126953125, -0.0029296875, 0.000690460205078125, -0.003875732421875, -0.00064849853515625, -0.004302978515625, -0.002777099609375, -0.0018463134765625, 0.006927490234375, -0.0052490234375, -0.00982666015625, 0.00213623046875, 0.0093994140625, 0.00189208984375, -0.00616455078125, -0.0002346038818359375, 0.00165557861328125, 0.0047607421875, 0.0050048828125, -0.01025390625, -0.002227783203125, 0.0033416748046875, 0.006072998046875, -0.0072021484375, -0.00457763671875, -0.0029449462890625, 0.00909423828125, -0.0009002685546875, -0.000274658203125, -0.0015869140625, -0.001068115234375, 0.0023345947265625, 0.003173828125, -0.003204345703125, 0.002044677734375, 0.0048828125, 0.00225830078125, -0.0005340576171875, 0.000438690185546875, -0.012939453125, -0.0009765625, -0.003021240234375, 0.0017242431640625, 5.340576171875e-05, -0.0024261474609375, -0.0019073486328125, 0.00531005859375, 0.00180816650390625, 0.00799560546875, 0.003448486328125, 0.003631591796875, 0.0052490234375, -0.0025482177734375, -0.00148773193359375, 0.005523681640625, 0.000946044921875, -0.00156402587890625, 0.00323486328125, -0.000782012939453125, -0.000457763671875, -0.0152587890625, 0.0011749267578125, -0.010498046875, 0.003387451171875, -0.0015716552734375, 0.000476837158203125, -0.0032501220703125, -0.00176239013671875, -0.00732421875, -0.01287841796875, 0.004241943359375, 0.0011749267578125, -0.00311279296875, 0.0028076171875, -0.003082275390625, -0.0018463134765625, -0.000858306884765625, -1.71661376953125e-05, -0.004638671875, -0.00494384765625, 0.00311279296875, 0.00262451171875, -0.00592041015625, -0.020751953125, -0.002288818359375, 0.005462646484375, 6.29425048828125e-05, 0.00238037109375, -0.0074462890625, -0.00726318359375, -0.003326416015625, -0.00061798095703125, -0.004425048828125, 0.00360107421875, 0.0006561279296875, -0.0113525390625, 0.00445556640625, -0.001129150390625, -0.00518798828125, -0.005828857421875, -0.0087890625, 0.0029449462890625, -0.00823974609375, -0.0072021484375, 0.003509521484375, -0.002227783203125, -0.00122833251953125, -0.00830078125, 0.0023651123046875, 0.00970458984375, 0.0010833740234375, -0.00274658203125, 0.0045166015625, 0.00390625, -0.0086669921875, -0.010009765625, 0.0030364990234375, -0.00372314453125, -0.007049560546875, 0.004608154296875, 0.00213623046875, 0.00909423828125, -0.0084228515625, -0.001434326171875, 0.00830078125, -0.004913330078125, -0.01239013671875, 0.00897216796875, 0.00079345703125, 0.0017852783203125, -0.0027618408203125, 0.0017242431640625, 0.00048828125, -0.00115966796875, 0.00054931640625, -0.00543212890625, -5.340576171875e-05, -0.000331878662109375, 0.000766754150390625, -0.00182342529296875, -0.00286865234375, 0.00201416015625, -0.0003681182861328125, -0.00958251953125, -0.00145721435546875, -0.003936767578125, -0.0008392333984375, 0.004608154296875, 0.003143310546875, -0.0026092529296875, -0.00445556640625, -0.00579833984375, -0.00040435791015625, -0.0031280517578125, -0.003021240234375, -0.0029144287109375, -0.01019287109375, 0.00677490234375, -0.00201416015625, -0.007537841796875, -0.0042724609375, -0.003082275390625, -0.00439453125, 0.00020313262939453125, -0.00677490234375, 0.003814697265625, 0.0022430419921875, 0.0024261474609375, -0.000873565673828125, -0.00543212890625, -0.008544921875, 0.012451171875, 0.003692626953125, 0.0072021484375, 0.002960205078125, 0.00347900390625, 0.007080078125, -0.00189971923828125, -0.003326416015625, 0.00457763671875, 0.00128173828125, -0.000431060791015625, -0.0001373291015625, -0.005096435546875, -0.002410888671875, 0.0015869140625, -0.00439453125, 0.00897216796875, 0.007171630859375, -0.004974365234375, 0.00055694580078125, -0.002227783203125, 0.0045166015625, -0.00439453125, -0.006561279296875, -0.00311279296875, 0.005523681640625, -0.0021514892578125, 0.0033111572265625, -0.00093841552734375, -0.00567626953125, 8.7738037109375e-05, 0.006072998046875, 0.00421142578125, -0.00433349609375, 0.005859375, -0.0038604736328125, 0.0018157958984375, -0.0047607421875, 0.007049560546875, -0.00726318359375, 0.00543212890625, -0.005523681640625, 0.00848388671875, 0.00799560546875, 0.0031890869140625, -0.003936767578125, 0.00262451171875, 0.00482177734375, -0.007568359375, 0.0015411376953125, 0.00274658203125, -0.0067138671875, -0.00970458984375, -0.0013427734375, 0.00167083740234375, -0.00086212158203125, 0.004913330078125, 0.003662109375, 0.007476806640625, -0.005279541015625, 0.005462646484375, 0.005523681640625, -0.0047607421875, -0.00144195556640625, -0.004302978515625, -0.00075531005859375, 0.0035247802734375, -0.005889892578125, 0.0024261474609375, -0.0011749267578125, -0.003753662109375, 0.005645751953125, -0.001983642578125, 0.00823974609375, -0.000152587890625, -0.0012969970703125, -0.00787353515625, -0.01458740234375, 0.00151824951171875, 0.0067138671875, -0.00933837890625, 0.004608154296875, -5.340576171875e-05, 0.0093994140625, 0.002410888671875, 0.0029296875, -0.0036773681640625, -0.004730224609375, 9.5367431640625e-05, 0.00054931640625, -0.005126953125, -0.00115203857421875, -0.0037689208984375, 0.008056640625, -0.00653076171875, 0.0007476806640625, 0.011474609375, 0.008544921875, 0.003814697265625, -0.000244140625, -0.007659912109375, 0.01068115234375, -0.002655029296875, -0.0034027099609375, 0.00433349609375, -0.0130615234375, 0.00189208984375, -0.0019989013671875, -0.000606536865234375, 0.00152587890625, -0.000720977783203125, 0.00433349609375, 0.0029296875, 0.0011444091796875, -0.00567626953125, 0.003204345703125, 0.008056640625, -0.0032501220703125, -0.004180908203125, -0.0018310546875, -0.0018463134765625, -0.00811767578125, -0.000274658203125, -0.00665283203125, 0.003082275390625, 0.000461578369140625, -0.0086669921875, -0.00775146484375, 0.00897216796875, -0.005096435546875, 0.007354736328125, -0.0096435546875, 0.0001125335693359375, -0.00141143798828125, 0.000701904296875, 0.005218505859375, 0.0015411376953125, 0.01287841796875, -0.0036773681640625, -0.0038909912109375, -0.005157470703125, -0.007476806640625, 0.005035400390625, 0.001220703125, -0.0011138916015625, 0.003387451171875, -0.005096435546875, -0.00054931640625, -0.0101318359375, -0.0015411376953125, 0.00153350830078125, 0.00677490234375, -0.00579833984375, 0.003387451171875, 0.0107421875, 0.004486083984375, -0.00146484375, -0.002655029296875, 0.0012969970703125, -0.00020599365234375, 0.00518798828125, 0.004547119140625, 0.004119873046875, -0.00457763671875, 0.00640869140625, -0.0047607421875, -0.00049591064453125, -0.00628662109375, -0.00142669677734375, 0.01397705078125, 0.0008697509765625, 0.00836181640625, -0.0125732421875, -0.004486083984375, -0.007720947265625, -0.004119873046875, -0.0032958984375, 0.0024871826171875, -0.002105712890625, -0.00034332275390625, -0.00421142578125, 0.00133514404296875, 0.004608154296875, -0.0089111328125, 0.00153350830078125, -0.0059814453125, 0.00098419189453125, -0.00131988525390625, -0.0047607421875, 0.0084228515625, -0.00185394287109375, 0.0003509521484375, -0.00628662109375, -0.0009307861328125, 0.00592041015625, 0.006744384765625, 0.00537109375, -0.002197265625, -0.0123291015625, 0.00029754638671875, 0.01055908203125, -0.01177978515625, 0.000820159912109375, 0.0012969970703125, 0.00140380859375, -0.01116943359375, -0.009033203125, -0.0022735595703125, 0.002288818359375, 0.006805419921875, 0.01141357421875, 0.00165557861328125, -0.00020599365234375, 0.0012969970703125, 0.006011962890625, -0.007080078125, 0.00433349609375, -0.00225830078125, -0.008056640625, 0.0017242431640625, 0.0028839111328125, -0.00079345703125, 0.0072021484375, 0.00738525390625, -0.00057220458984375, -0.004791259765625, 0.0068359375, -0.002593994140625, -0.006134033203125, -0.0029754638671875, -0.000949859619140625, 2.288818359375e-05, -0.003082275390625, -0.0081787109375, -0.003936767578125, -0.004180908203125, 0.000263214111328125, 0.012451171875, 0.0014801025390625, -0.0040283203125, 0.01141357421875, 0.00360107421875, -0.00274658203125, -0.00494384765625, 0.003570556640625, -0.009033203125, 0.000579833984375, 0.00457763671875, -0.000148773193359375, 0.00628662109375, -0.003173828125, 0.001007080078125, -0.00156402587890625, -0.00164794921875, -0.00885009765625, -0.003570556640625, 0.004913330078125, 0.003509521484375, -0.003692626953125, 0.01055908203125, -0.005401611328125, 0.003082275390625, 0.000179290771484375, 0.00604248046875, 0.00494384765625, 0.010009765625, 0.0037078857421875, 0.003997802734375, -0.004302978515625, 0.0037994384765625, 0.00054931640625, 0.007232666015625, 0.00067901611328125, 0.01031494140625, 0.0018157958984375, -0.00054931640625, -0.005828857421875, -0.00433349609375, 0.009521484375, 0.005340576171875, 0.016357421875, 0.00628662109375, 0.00101470947265625, 0.0025482177734375, -0.003997802734375, 0.00162506103515625, -0.0018463134765625, -0.005279541015625, 0.005706787109375, -0.001495361328125, -0.0005645751953125, -0.00396728515625, 0.00360107421875, 0.004180908203125, -0.0037078857421875, 0.00872802734375, -0.0091552734375, 0.00067901611328125, -0.019287109375, -0.000972747802734375, -0.0027313232421875, 0.0133056640625, -0.00701904296875, 0.00201416015625, 0.0029754638671875, 0.00164794921875, -0.001739501953125, 0.00372314453125, -0.003997802734375, -0.0157470703125, -0.00567626953125, -0.00396728515625, -0.0113525390625, -0.000640869140625, 0.0030517578125, -0.002899169921875, -0.0096435546875, 3.814697265625e-05, -0.01226806640625, -0.0106201171875, -0.00543212890625, -0.0018157958984375, 0.005157470703125, -0.0023193359375, -0.002166748046875, -0.0096435546875, 0.0040283203125, -0.0005950927734375, 0.0028076171875, -0.001617431640625, -0.002105712890625, 0.0025634765625, 0.0074462890625, 0.0079345703125, 0.0020751953125, -0.00604248046875, 0.000762939453125, -0.0003070831298828125, -0.0035552978515625, -0.00439453125, 0.001617431640625, -0.003936767578125, 0.00909423828125, -0.003936767578125, -0.004730224609375, 0.00130462646484375, -0.0011138916015625, 0.00885009765625, -0.0002536773681640625, -0.00018310546875, -0.003631591796875, 0.0021820068359375, -0.0079345703125, -0.00592041015625, -0.00146484375, -0.00439453125, -0.000396728515625, -0.00531005859375, -0.00096893310546875, -0.000213623046875, -0.00225830078125, 0.01263427734375, 0.009033203125, 0.001251220703125, 0.00933837890625, 0.005279541015625, 0.004119873046875, 0.000888824462890625, -0.001861572265625, 0.000171661376953125, -0.0020751953125, 0.00616455078125, -0.00921630859375, 0.00390625, 0.00994873046875, 0.0001850128173828125, 0.00506591796875, 0.002716064453125, -0.00543212890625, -0.00531005859375, -0.00194549560546875, 0.0079345703125, -0.00555419921875, 0.002777099609375, 0.0107421875, 0.00836181640625, -0.0089111328125, -9.918212890625e-05, 0.00250244140625, -0.00982666015625, -0.0025634765625, 0.0179443359375, 0.009033203125, 0.003082275390625, -0.00433349609375, 0.0087890625, -0.0037994384765625, 0.0068359375, -0.0025634765625, 0.0025634765625, 0.00201416015625, 0.000701904296875, 0.000244140625, -0.000537872314453125, -0.001953125, 0.01080322265625, 0.00213623046875, 0.000804901123046875, 0.003143310546875, -0.013427734375, 0.004608154296875, 0.00372314453125, -0.00469970703125, -0.006317138671875, -0.00732421875, -0.004486083984375, -0.005859375, 0.01031494140625, 0.002227783203125, -0.006866455078125, -4.57763671875e-05, -0.001800537109375, 0.004150390625, 0.0037994384765625, 0.0018157958984375, -0.007659912109375, -0.001434326171875, -0.00823974609375, 0.006561279296875, 0.000823974609375, 0.000316619873046875, 0.0022735595703125, -0.001220703125, 0.00179290771484375, 0.006439208984375, 0.00159454345703125, -0.0032806396484375, 0.002685546875, 0.002410888671875, 0.000881195068359375, -0.003143310546875, -0.002685546875, 0.005279541015625, -0.007171630859375, 0.010498046875, 0.0087890625, 0.002197265625, -0.00193023681640625, -0.00341796875, -6.4849853515625e-05, 0.0078125, -0.0101318359375, 0.00244140625, 0.0026397705078125, 0.00628662109375, -0.000186920166015625, -0.003631591796875, -0.013916015625, 0.001007080078125, -0.004180908203125, -0.003387451171875, -0.005950927734375, -0.000789642333984375, 0.01092529296875, 0.006439208984375, 0.0022125244140625, -0.004241943359375, 0.00311279296875, 0.00087738037109375, 0.005401611328125, 0.006683349609375, 0.0007476806640625, 0.0001239776611328125, -0.004241943359375, 0.0026397705078125, 0.005035400390625, 0.0009918212890625, 0.0027313232421875, -0.001129150390625, 0.00494384765625, -0.001617431640625, -0.0003566741943359375, 0.006927490234375, 0.00921630859375, -0.003265380859375, 0.0177001953125, -0.002471923828125, 0.00799560546875, 0.004547119140625, 2.86102294921875e-05, 0.00726318359375, -0.00140380859375, 0.004638671875, -0.0001068115234375, -0.01141357421875, -0.000568389892578125, -0.0096435546875, -0.00506591796875, 0.0030059814453125, 0.0009307861328125, 0.0048828125, -0.00066375732421875, -0.0030670166015625, -0.004302978515625, 0.011474609375, 0.005340576171875, -0.003173828125, -0.0052490234375, 0.0079345703125, -0.007293701171875, 0.005950927734375, -0.0013885498046875, -0.003509521484375, -0.00116729736328125, 0.00213623046875, -7.2479248046875e-05, -0.003021240234375, 0.0072021484375, 0.006134033203125, 0.0027008056640625, 0.00096893310546875, 0.0006561279296875, 0.0042724609375, 0.000274658203125, -0.01397705078125, 0.00531005859375, -0.0054931640625, 0.003387451171875, -0.00323486328125, 0.01068115234375, 0.01434326171875, -0.005523681640625, -0.001953125, 0.0004634857177734375, -0.005584716796875, 0.00177764892578125, 0.000347137451171875, -0.003753662109375, 0.01031494140625, -0.005157470703125, 0.005828857421875, 0.000335693359375, 0.0006256103515625, 0.0031280517578125, -0.005218505859375, -0.002777099609375, 0.00080108642578125, -0.0093994140625, 0.05859375, -0.005096435546875, 0.005584716796875, 0.017822265625, -0.0047607421875, 0.00537109375, 0.0026092529296875, -0.00457763671875, -0.001251220703125, 0.0018310546875, -0.0093994140625, 0.00347900390625, -0.01025390625, -0.00077056884765625, -0.0023193359375, -0.0069580078125, 0.00830078125, -0.00372314453125, -0.005889892578125, -0.003326416015625, 0.0196533203125, -0.00193023681640625, 0.006744384765625, 0.01129150390625, 0.0018463134765625, 0.002716064453125, 0.0010223388671875, 0.01190185546875, -0.00634765625, 0.000804901123046875, -0.0068359375, 0.001983642578125, -0.0008087158203125, -0.0019989013671875, 0.00048065185546875, 0.0089111328125, 0.00482177734375, 0.00396728515625, -0.004241943359375, -0.00830078125, 0.004364013671875, 0.004425048828125, 0.003448486328125, -0.00048828125, 0.00058746337890625, -0.004638671875, -0.00628662109375, -0.00144195556640625, -0.003509521484375, 0.006134033203125, -0.006927490234375, -0.00135040283203125, -0.00131988525390625, -0.0084228515625, 0.00592041015625, 0.004150390625, -0.00138092041015625, -0.00048828125, -0.007537841796875, -0.0072021484375, 0.0036773681640625, 0.0111083984375, -0.004180908203125, -0.00077056884765625, -0.00970458984375, -0.002777099609375, -0.05859375, 0.0035552978515625, 0.01287841796875, 0.0107421875, -0.00860595703125, 0.003082275390625, -0.00421142578125, -0.008056640625, -0.0059814453125, -0.0037689208984375, 0.0008697509765625, 0.002655029296875, 0.001220703125, -0.008544921875, -0.0030670166015625, 0.0003032684326171875, -0.007476806640625, -0.00982666015625, 0.00201416015625, -0.00384521484375, 0.01165771484375, 0.039306640625, 0.00020599365234375, -0.0031280517578125, -0.0009613037109375, 0.00811767578125, 0.006134033203125, -0.006805419921875, -0.006622314453125, -0.00191497802734375, 0.0052490234375, -0.00179290771484375, -0.003448486328125, 0.01904296875, 0.0022125244140625, -0.00213623046875, 0.0101318359375, -0.0027923583984375, 0.00469970703125, 0.003387451171875, 0.006011962890625, -0.017333984375, -0.0016632080078125, 3.814697265625e-05, 0.00994873046875, 0.001739501953125, 0.0031280517578125, -0.01611328125, -0.00762939453125, -0.00872802734375, -0.0050048828125, 0.004425048828125, -0.0028533935546875, -0.0010986328125, -0.00384521484375, 0.0030059814453125, -0.0035858154296875, -0.003448486328125, -0.0120849609375, -0.01025390625, -0.0040283203125, -0.01025390625, 0.006378173828125, -0.0030059814453125, 0.006622314453125, 0.00469970703125]]\n",
            "[[0.000926971435546875, 0.002349853515625, 0.006378173828125, -0.0009002685546875, 0.011962890625, 0.00286865234375, 0.005096435546875, 6.389617919921875e-05, 0.000804901123046875, 0.004364013671875, 0.00040435791015625, 0.0008392333984375, -0.004150390625, -0.00726318359375, -0.007781982421875, 0.01165771484375, -0.00164794921875, 0.00933837890625, -0.0033111572265625, -0.00531005859375, -0.0032806396484375, -0.000926971435546875, 0.019287109375, 0.007049560546875, 0.01123046875, 0.002471923828125, -0.00113677978515625, -0.004669189453125, 0.000614166259765625, -0.001983642578125, 0.011962890625, -0.0033111572265625, 0.00049591064453125, -0.00823974609375, -0.00482177734375, 0.00860595703125, -0.0087890625, -0.00133514404296875, -0.0037689208984375, -0.01202392578125, 0.0027618408203125, -0.00075531005859375, 0.00103759765625, -0.00421142578125, 0.004638671875, -0.002593994140625, 0.004058837890625, -0.005950927734375, -0.00982666015625, 0.004119873046875, -0.01177978515625, 0.003753662109375, -0.0087890625, -0.005096435546875, 0.0025634765625, -0.00885009765625, 0.0045166015625, -0.0010986328125, -0.0045166015625, 0.00927734375, -0.0037384033203125, -0.004730224609375, -0.0002593994140625, -0.00164794921875, -0.01068115234375, 0.006439208984375, 0.0027618408203125, -0.005157470703125, -0.000705718994140625, 0.002197265625, 0.011474609375, 0.00762939453125, 0.00070953369140625, 0.01904296875, -0.00762939453125, -0.00046539306640625, 0.00714111328125, -0.00457763671875, -0.000701904296875, 0.004974365234375, 0.00128173828125, 0.0198974609375, 0.00445556640625, -0.005340576171875, 0.01116943359375, 0.002197265625, -0.000240325927734375, -0.0034332275390625, 0.00799560546875, -0.0035858154296875, -0.006500244140625, 0.0030517578125, -0.001251220703125, -0.005859375, -0.01220703125, 0.0034027099609375, -0.00836181640625, 0.00946044921875, 0.00048065185546875, -0.001312255859375, -0.0024871826171875, -0.01123046875, 0.0015411376953125, -0.00244140625, 0.01202392578125, -0.0023345947265625, -0.005859375, 0.000621795654296875, 0.00543212890625, -0.00927734375, 0.00616455078125, 0.00017547607421875, -0.0004444122314453125, -0.004180908203125, -0.000492095947265625, 0.005401611328125, 0.005767822265625, 0.01123046875, -0.005950927734375, -0.0093994140625, -0.01385498046875, 0.0028533935546875, 0.01312255859375, 0.00909423828125, -0.00921630859375, -0.0016632080078125, 0.002044677734375, -0.001953125, 0.004638671875, 0.005126953125, 0.01263427734375, -0.01214599609375, -0.000141143798828125, 0.0108642578125, -0.005523681640625, 0.001617431640625, 0.0069580078125, -0.00347900390625, -0.0002117156982421875, -0.0045166015625, -0.0072021484375, -0.0113525390625, 0.0120849609375, 0.0045166015625, 0.003509521484375, -0.00677490234375, -0.00156402587890625, 0.005767822265625, -0.0037078857421875, -0.006500244140625, -0.0003204345703125, 0.0033416748046875, 0.0003414154052734375, -0.0069580078125, -0.0101318359375, -0.007720947265625, 0.000850677490234375, -0.006683349609375, -0.0115966796875, 0.00341796875, -0.0045166015625, 0.003662109375, 0.00140380859375, -0.003997802734375, -0.0033416748046875, -0.0010528564453125, 0.00714111328125, 0.0012664794921875, 0.0184326171875, 0.01708984375, 0.002655029296875, 0.0067138671875, -0.0003814697265625, -0.00628662109375, -0.0086669921875, -0.004608154296875, 0.00051116943359375, 0.002105712890625, -0.00109100341796875, -0.01300048828125, 0.006622314453125, 0.006622314453125, 0.00567626953125, 0.00023651123046875, 0.011474609375, 9.72747802734375e-05, 0.00299072265625, -0.00689697265625, 0.000347137451171875, 0.0015716552734375, 0.0128173828125, 0.0084228515625, 0.002655029296875, -6.866455078125e-05, -0.00110626220703125, -0.00506591796875, -0.01385498046875, 0.0016326904296875, -0.0069580078125, 0.00628662109375, 0.0004367828369140625, 0.01312255859375, -0.00543212890625, -0.0022430419921875, 0.0098876953125, 0.0035400390625, -0.00121307373046875, 0.006683349609375, -0.0023345947265625, 0.000152587890625, 0.004608154296875, 0.001434326171875, -0.00171661376953125, -0.0074462890625, 0.0037994384765625, 0.00714111328125, 0.00146484375, -0.000209808349609375, -0.0106201171875, 0.002410888671875, 9.918212890625e-05, -0.01116943359375, 0.0040283203125, 0.00035858154296875, -0.00860595703125, 0.01202392578125, 0.004364013671875, 0.01104736328125, -0.0024871826171875, -0.007171630859375, 0.006072998046875, 0.01141357421875, 0.0078125, 0.00347900390625, 9.918212890625e-05, 0.01141357421875, 0.00176239013671875, -0.000400543212890625, 0.003997802734375, -0.004608154296875, 0.007415771484375, 0.002899169921875, -0.00958251953125, 0.00023651123046875, 0.0042724609375, -0.00250244140625, -0.000598907470703125, 0.00604248046875, -0.000431060791015625, -0.00189971923828125, 0.002349853515625, 0.0003490447998046875, 0.007049560546875, 0.00250244140625, -0.0001220703125, 0.0008087158203125, 0.0016632080078125, 0.023193359375, 0.00823974609375, 0.002838134765625, 0.01483154296875, 0.0166015625, 0.01409912109375, -0.00946044921875, -0.0029754638671875, 0.004425048828125, 0.0067138671875, 0.004730224609375, -0.005462646484375, 0.0030364990234375, 0.00592041015625, 0.000732421875, 0.00860595703125, -0.00193023681640625, 0.00058746337890625, -0.004150390625, 0.005218505859375, -0.00016021728515625, 0.0042724609375, -0.00506591796875, 0.0140380859375, 0.0008544921875, 0.00445556640625, -0.000408172607421875, -0.0021820068359375, -0.006683349609375, -0.0020751953125, 0.00189208984375, 0.004119873046875, 0.007476806640625, 0.0064697265625, 0.0142822265625, 0.003326416015625, -0.0042724609375, -0.008056640625, 0.007476806640625, -0.0042724609375, 0.01104736328125, -0.00482177734375, -0.00042724609375, 0.003143310546875, -0.01092529296875, 0.01025390625, -0.0032958984375, -0.000881195068359375, -0.00347900390625, -0.00830078125, -0.00090789794921875, 0.00045013427734375, 0.01385498046875, 0.002593994140625, 0.01275634765625, 0.0031585693359375, -0.00494384765625, -0.00064849853515625, 0.003173828125, 0.0115966796875, 0.01513671875, 0.0030670166015625, 0.00714111328125, 0.005523681640625, -0.006317138671875, 0.00384521484375, 0.00421142578125, -0.0052490234375, -0.005706787109375, -0.0038909912109375, -0.007720947265625, -0.0133056640625, -0.0024261474609375, -0.000476837158203125, 0.007049560546875, -0.0014190673828125, -0.002105712890625, 0.00860595703125, -0.00109100341796875, -0.0115966796875, -0.00665283203125, 0.00482177734375, -0.001251220703125, 0.0052490234375, 0.002105712890625, -0.00640869140625, 0.00335693359375, 0.01397705078125, 0.0091552734375, -0.006866455078125, -0.007049560546875, -0.000232696533203125, 0.007171630859375, -0.000659942626953125, 0.00103759765625, 0.0012054443359375, 0.00174713134765625, -0.01202392578125, -0.0024566650390625, -0.000782012939453125, -0.01025390625, 0.00543212890625, 0.00799560546875, -0.005218505859375, -0.0074462890625, -0.002655029296875, 0.012939453125, 0.00104522705078125, 0.000797271728515625, 0.0036468505859375, -0.005096435546875, 0.0062255859375, 0.00136566162109375, 0.005706787109375, -0.00531005859375, -0.0027008056640625, 0.004638671875, 0.00390625, 0.001556396484375, 0.00787353515625, 0.00543212890625, 0.01123046875, 0.0013275146484375, 0.00927734375, 0.0064697265625, -0.004150390625, -0.0004367828369140625, 0.0034637451171875, -0.01141357421875, 0.0037841796875, -0.00213623046875, -0.000415802001953125, -0.001312255859375, 0.000789642333984375, 0.007110595703125, 0.01165771484375, -0.005706787109375, -0.000446319580078125, -0.006988525390625, -0.0008087158203125, 0.00061798095703125, 0.0013427734375, 0.002716064453125, -0.000400543212890625, 0.005035400390625, -0.00531005859375, -0.005340576171875, 0.003753662109375, -0.01806640625, 0.001251220703125, -0.003173828125, -0.0019683837890625, -0.00360107421875, -0.005584716796875, -0.0040283203125, 0.00543212890625, -0.00909423828125, -0.000537872314453125, -0.0062255859375, -0.0034637451171875, -0.002593994140625, 0.006927490234375, -0.006439208984375, 0.0020294189453125, 0.009033203125, -0.0057373046875, 0.003936767578125, 0.005950927734375, 0.00738525390625, -0.004638671875, 0.00167083740234375, -0.002105712890625, 0.0022430419921875, 0.005828857421875, -0.012939453125, 0.00299072265625, -0.00604248046875, -0.003631591796875, -0.00396728515625, -0.0013580322265625, 0.003814697265625, 0.00148773193359375, -0.002105712890625, 0.009521484375, 0.004150390625, 0.00799560546875, -0.000698089599609375, 0.004608154296875, 0.01116943359375, 0.001983642578125, -0.0027618408203125, -0.00518798828125, 0.0108642578125, 0.0023345947265625, -0.0069580078125, 0.005523681640625, 0.008544921875, -0.00787353515625, -0.00384521484375, 0.001007080078125, 0.002166748046875, 0.01220703125, -0.006744384765625, -0.004547119140625, 0.003936767578125, -0.00665283203125, 0.003387451171875, -0.0079345703125, 0.00830078125, 0.00262451171875, -0.00860595703125, 0.0033721923828125, 0.00048065185546875, 0.00604248046875, 0.008544921875, 0.012939453125, 0.004608154296875, 0.00168609619140625, 0.00579833984375, 0.00634765625, -0.002593994140625, -0.005584716796875, -0.0014190673828125, 0.0006561279296875, 0.0052490234375, 0.00012969970703125, 0.00372314453125, 0.005615234375, 0.0034027099609375, 0.014892578125, -0.010009765625, -0.0030975341796875, -0.00019550323486328125, -0.0019683837890625, 0.0034942626953125, -0.0037384033203125, 0.0002079010009765625, -0.00714111328125, -0.00750732421875, 0.0054931640625, 0.0010528564453125, -0.00128173828125, -0.0057373046875, 0.00421142578125, -0.007232666015625, -0.0048828125, -0.00958251953125, 0.0086669921875, -0.0078125, 0.00604248046875, 0.0050048828125, 0.0150146484375, 0.000316619873046875, -0.0021820068359375, -0.0084228515625, -0.005401611328125, -0.00933837890625, 0.0096435546875, -0.0011444091796875, -0.00634765625, 0.01397705078125, -0.0012664794921875, -0.00144195556640625, -0.0011444091796875, -0.0177001953125, 0.004425048828125, -0.00360107421875, 0.0045166015625, 0.005950927734375, -0.00124359130859375, -0.0048828125, 0.0074462890625, 0.0017852783203125, -0.01226806640625, 0.01251220703125, -0.003265380859375, -0.00360107421875, -0.0008544921875, 0.00848388671875, -0.006591796875, -0.00054931640625, 0.0054931640625, 0.000823974609375, 0.0017852783203125, -0.004058837890625, -0.00579833984375, -0.0013427734375, -0.00836181640625, -0.001129150390625, 0.0118408203125, 0.0038604736328125, 0.001434326171875, 0.003021240234375, -0.0020751953125, -0.00146484375, -0.00022983551025390625, 0.003875732421875, 0.00052642822265625, -0.01092529296875, -0.01470947265625, 0.00341796875, 0.00799560546875, 0.00616455078125, 0.01348876953125, 0.00030517578125, 0.00182342529296875, 0.004364013671875, 0.01116943359375, -0.0013427734375, -0.00075531005859375, 0.0078125, -0.010498046875, 0.00604248046875, -0.005279541015625, -0.00164031982421875, 0.00958251953125, 0.001495361328125, 0.00238037109375, 0.01416015625, -0.0086669921875, -0.004486083984375, -0.00494384765625, -0.002166748046875, -0.0035858154296875, -0.0018157958984375, -0.002197265625, -0.004608154296875, 2.6702880859375e-05, 0.005859375, 0.0123291015625, -0.00665283203125, 0.0042724609375, -0.00011444091796875, 0.00640869140625, 0.0027618408203125, 0.00640869140625, -0.002532958984375, -0.007293701171875, -0.004791259765625, -0.002197265625, -0.0011749267578125, -0.00445556640625, 0.01336669921875, 0.00653076171875, -0.0022430419921875, -0.004547119140625, -0.00087738037109375, -0.0047607421875, 0.003662109375, -0.003814697265625, 0.00787353515625, 0.00347900390625, 0.0118408203125, 0.00286865234375, -0.0023193359375, -0.00396728515625, -0.002685546875, 0.00469970703125, 0.00628662109375, -0.005523681640625, 0.00144195556640625, -0.0038909912109375, -0.0103759765625, 0.00084686279296875, -0.0022430419921875, 0.002899169921875, -0.0031585693359375, -0.010009765625, 0.00213623046875, -0.0130615234375, -0.00140380859375, 0.004608154296875, -0.00347900390625, -0.0023651123046875, -0.006927490234375, -0.00119781494140625, 0.001556396484375, 0.00762939453125, -0.0045166015625, 0.0087890625, 0.00970458984375, -0.0042724609375, -0.0038299560546875, 0.00390625, -0.0007781982421875, 0.01031494140625, -0.0098876953125, 0.002044677734375, 0.0118408203125, 0.003631591796875, 0.006927490234375, -0.00408935546875, -0.00830078125, 0.00762939453125, 0.00848388671875, 0.006134033203125, 0.00074005126953125, -0.000469207763671875, 0.0010833740234375, -0.00188446044921875, 0.01263427734375, -0.005218505859375, 0.0032958984375, 0.00830078125, 0.00152587890625, 0.00567626953125, -0.0125732421875, 0.0067138671875, 0.0048828125, -0.0048828125, -8.58306884765625e-05, -0.0031280517578125, -0.00146484375, -0.006591796875, -0.00469970703125, -0.00262451171875, -0.0001068115234375, 0.0040283203125, -0.0036773681640625, 0.00970458984375, 0.004913330078125, -0.00188446044921875, -0.0026092529296875, 0.0021514892578125, -0.003631591796875, 0.0032958984375, 0.001678466796875, 0.00433349609375, 0.0030975341796875, -0.0032196044921875, 0.00677490234375, -0.005462646484375, -0.01092529296875, -0.00372314453125, -0.00323486328125, 0.002349853515625, -0.00823974609375, -0.005859375, 0.0029144287109375, 0.002838134765625, 0.00177764892578125, 0.00567626953125, -0.0020904541015625, -0.0062255859375, -0.0042724609375, 0.011962890625, 0.0006561279296875, -0.00013828277587890625, -0.01116943359375, 0.0048828125, 0.0078125, -0.0069580078125, -0.001220703125, -0.00396728515625, -0.00335693359375, 0.002044677734375, -0.0107421875, 0.004852294921875, -0.00099945068359375, -0.004058837890625, 0.00653076171875, 0.0020904541015625, 0.00274658203125, 0.00482177734375, 0.0010833740234375, 0.0048828125, 0.00384521484375, -0.00408935546875, 0.00421142578125, 0.004364013671875, -0.006805419921875, -0.0023651123046875, -6.866455078125e-05, -0.0115966796875, 0.0027618408203125, -0.012939453125, 0.00311279296875, -0.0115966796875, 0.00113677978515625, -0.000537872314453125, -0.0023193359375, -0.004852294921875, 0.004150390625, -0.00201416015625, -0.00063323974609375, 0.00555419921875, 0.002899169921875, -0.002288818359375, 0.00341796875, -0.002349853515625, 0.005767822265625, -0.00518798828125, -0.0078125, -0.005035400390625, -0.00102996826171875, 0.0042724609375, 0.007659912109375, 0.00396728515625, 0.00201416015625, 0.0019683837890625, -0.0027923583984375, 0.00970458984375, -0.0047607421875, 0.01031494140625, 0.00592041015625, 0.0024261474609375, 0.00946044921875, -0.000255584716796875, 0.00567626953125, 0.00799560546875, -0.00439453125, 0.003509521484375, 0.002838134765625, -0.005401611328125, -0.005462646484375, 0.004638671875, -0.009033203125, 0.001312255859375, 0.0009765625, -0.00592041015625, -0.0074462890625, -0.00994873046875, 0.00958251953125, 0.01556396484375, -0.00830078125, 0.00150299072265625, -0.0021209716796875, 0.000946044921875, -0.00439453125, -0.00046539306640625, -0.007476806640625, 0.006591796875, 0.0113525390625, 0.00543212890625, -0.0062255859375, -0.01220703125, -0.003997802734375, 0.001678466796875, -0.005828857421875, 0.004150390625, 0.00157928466796875, -0.00067138671875, -0.00799560546875, -0.00092315673828125, 0.00494384765625, -0.00885009765625, -0.004730224609375, -0.002716064453125, 0.00616455078125, -0.003265380859375, -0.006378173828125, 0.00543212890625, 0.00714111328125, 0.0150146484375, -0.00494384765625, -0.00274658203125, 0.005645751953125, 0.00982666015625, -0.00909423828125, -0.00262451171875, -0.00762939453125, -0.001556396484375, -0.0113525390625, -0.005157470703125, -0.006256103515625, -0.00531005859375, -0.0030517578125, -0.0023040771484375, 0.0030517578125, -0.0021820068359375, -0.00396728515625, -0.0033416748046875, 0.000385284423828125, 0.007598876953125, -8.392333984375e-05, -0.000568389892578125, 0.00093841552734375, 0.005401611328125, -0.0016632080078125, -0.00506591796875, 0.0034332275390625, -0.00299072265625, -0.00433349609375, -0.0007171630859375, 0.004425048828125, -0.01373291015625, 0.00173187255859375, 0.0137939453125, -0.0015106201171875, -6.29425048828125e-05, 0.002166748046875, -0.014892578125, -0.00135040283203125, 0.0048828125, 0.003814697265625, 0.00189208984375, 0.000469207763671875, -0.01214599609375, -0.00665283203125, -0.0005035400390625, -0.00131988525390625, -0.00543212890625, -0.003173828125, 0.0004425048828125, 0.003021240234375, -0.0068359375, -0.018310546875, 0.00113677978515625, 0.01092529296875, 0.00067901611328125, 0.005859375, -0.0157470703125, 0.003173828125, 0.0079345703125, 0.0030364990234375, 0.005096435546875, 0.0079345703125, -0.002960205078125, 0.00469970703125, 0.0003337860107421875, -0.007110595703125, -0.00107574462890625, -0.006927490234375, -0.00726318359375, 0.00689697265625, 0.0035858154296875, 0.005340576171875, 0.0005035400390625, -0.00494384765625, -0.01318359375, -0.0028533935546875, 0.0047607421875, 0.0017242431640625, -0.001312255859375, 0.0086669921875, -0.006317138671875, 0.005767822265625, 0.0025482177734375, 0.00360107421875, 0.0019378662109375, 0.0027313232421875, -0.00762939453125, 0.00113677978515625, 0.0026702880859375, 0.0010528564453125, 0.0026397705078125, 0.0004119873046875, 0.0021209716796875, -0.00714111328125, 0.00677490234375, 0.006103515625, 0.006988525390625, 0.005462646484375, 0.001861572265625, 0.0047607421875, -0.007415771484375, 0.006744384765625, -0.006591796875, -0.002899169921875, 0.01239013671875, 0.003570556640625, 0.00046539306640625, 0.005096435546875, -0.0027618408203125, 0.005859375, 0.0032196044921875, 0.0048828125, 0.003204345703125, 0.004425048828125, -0.00665283203125, -0.0005950927734375, -0.00482177734375, -0.0191650390625, 0.00121307373046875, -0.0050048828125, -0.0068359375, 0.005767822265625, 0.01519775390625, 0.00096893310546875, 0.009765625, -0.0054931640625, 0.00885009765625, 0.00408935546875, 0.0032196044921875, -0.01519775390625, 0.005035400390625, 0.006256103515625, -0.00640869140625, -0.00396728515625, 0.0050048828125, 0.00225830078125, -0.002197265625, -0.000789642333984375, 0.00994873046875, -0.0015106201171875, -0.00012111663818359375, 0.0087890625, -0.00860595703125, -0.0064697265625, 0.005950927734375, -0.01336669921875, 7.62939453125e-05, -0.0003032684326171875, -0.008056640625, -0.0027923583984375, -0.00152587890625, -0.004425048828125, -0.0018463134765625, 0.00787353515625, 0.00122833251953125, -0.012939453125, 0.0035858154296875, 0.004119873046875, -0.00183868408203125, 0.00421142578125, -0.00225830078125, -0.00439453125, -0.0035400390625, 0.0027618408203125, 0.00075531005859375, -0.002227783203125, -0.000766754150390625, 0.00160980224609375, 0.0054931640625, 0.000377655029296875, 0.00180816650390625, -0.00078582763671875, -0.00150299072265625, 0.007568359375, 0.0045166015625, -0.00860595703125, -0.004241943359375, -0.0089111328125, 0.000926971435546875, 0.003631591796875, 0.0177001953125, 0.0005340576171875, 0.0035858154296875, 0.007781982421875, 0.0012054443359375, -0.00665283203125, -0.003997802734375, -0.00141143798828125, 0.003448486328125, -0.00555419921875, -0.00390625, -0.002716064453125, -0.0015106201171875, -0.0057373046875, -0.005950927734375, -0.00165557861328125, -0.0059814453125, 0.0133056640625, -0.0167236328125, 0.0079345703125, -0.0002956390380859375, -0.002777099609375, 0.0027618408203125, 0.003936767578125, 0.0002574920654296875, -0.00032806396484375, 0.0078125, -0.0079345703125, -0.0028076171875, 0.00142669677734375, -0.002960205078125, 0.004119873046875, 0.007659912109375, 0.00167083740234375, -0.0020904541015625, -0.001068115234375, 0.003448486328125, 0.000324249267578125, -0.005279541015625, 0.0037841796875, 0.00019741058349609375, 0.001434326171875, -0.002838134765625, -0.00244140625, 0.002532958984375, -0.004852294921875, -0.0035247802734375, 0.0036468505859375, -0.00836181640625, -0.0018463134765625, 0.0030059814453125, -0.00115203857421875, -0.00494384765625, -0.0101318359375, 0.006744384765625, -0.0091552734375, -0.0054931640625, 0.004425048828125, 0.00390625, 0.01513671875, -0.003173828125, -0.002655029296875, 0.0162353515625, -0.00131988525390625, -0.012451171875, 0.0087890625, 0.001678466796875, -0.011962890625, -0.00148773193359375, -0.0089111328125, 0.004486083984375, 0.005615234375, -0.0013885498046875, -0.005340576171875, 0.0037994384765625, 0.0013427734375, 0.00179290771484375, 0.00567626953125, -0.00067901611328125, -0.00168609619140625, -0.0206298828125, 0.0007781982421875, 0.0037994384765625, -0.00070953369140625, -0.00616455078125, -0.0001583099365234375, 0.01153564453125, 0.0048828125, 0.0006256103515625, -0.001129150390625, -0.001739501953125, -0.004241943359375, 0.003997802734375, 0.00518798828125, 0.006683349609375, -0.0023345947265625, -0.0023956298828125, -0.007720947265625, -0.00567626953125, 0.003662109375, 0.004974365234375, 0.0033416748046875, -0.00482177734375, -0.00213623046875, 0.00836181640625, 0.003936767578125, -0.007171630859375, 0.004913330078125, -0.002685546875, 0.001434326171875, -6.67572021484375e-05, 0.0030975341796875, 0.004791259765625, -0.000579833984375, -0.01177978515625, -0.00933837890625, 0.010498046875, -0.00165557861328125, 0.004608154296875, 0.0008392333984375, 0.00067901611328125, -0.013427734375, -0.0093994140625, -0.002685546875, -0.005706787109375, 0.00069427490234375, -0.002532958984375, -0.00787353515625, -0.0107421875, 0.005401611328125, -0.008056640625, 0.0029296875, 0.006378173828125, -3.0517578125e-05, 0.0028533935546875, 0.0084228515625, -0.0028839111328125, -0.000377655029296875, 0.005584716796875, 0.005279541015625, 0.0036468505859375, -0.00616455078125, -0.001708984375, -0.0032501220703125, 0.0042724609375, 0.00555419921875, 0.007110595703125, 0.0052490234375, 0.004852294921875, -0.00677490234375, 0.0035552978515625, -0.003692626953125, 0.003143310546875, 0.006591796875, 0.003448486328125, -0.0140380859375, -0.00121307373046875, 0.0002841949462890625, -0.005767822265625, 0.0011138916015625, -0.00032806396484375, 0.001708984375, 0.000240325927734375, -0.004638671875, 0.007720947265625, 0.0018768310546875, -0.007293701171875, 0.00921630859375, -0.00372314453125, 0.0027008056640625, -0.00408935546875, 0.0023193359375, 0.005828857421875, -0.003387451171875, -0.0005340576171875, 0.00311279296875, 0.0159912109375, -0.0016937255859375, 0.00089263916015625, 0.0030517578125, -0.010986328125, -0.0008697509765625, 0.009765625, -0.005828857421875, -0.0018768310546875, 0.00439453125, 0.00104522705078125, 0.0021209716796875, 0.0164794921875, 0.0018463134765625, -0.0021514892578125, 0.0019989013671875, 0.00421142578125, 0.01708984375, 0.005462646484375, -0.0037384033203125, -0.01025390625, -0.01153564453125, 0.006500244140625, 0.004180908203125, 0.001068115234375, 0.0010986328125, -0.002716064453125, 0.002166748046875, 0.000675201416015625, -0.00628662109375, -0.01153564453125, 0.000789642333984375, 0.0045166015625, -0.0032501220703125, 0.0035400390625, 0.0033416748046875, 0.0042724609375, -0.00860595703125, -0.0011138916015625, -0.007110595703125, -0.0019683837890625, 0.00177764892578125, -0.0152587890625, -0.004425048828125, 0.002838134765625, 0.01153564453125, 0.003448486328125, -0.005096435546875, 0.000362396240234375, 0.009521484375, -0.009521484375, 0.00128936767578125, 0.00872802734375, -0.00244140625, 0.0029296875, 0.00165557861328125, -0.00665283203125, -0.00092315673828125, -0.00141143798828125, 0.00787353515625, 0.00299072265625, -0.006744384765625, 0.009033203125, 0.002960205078125, -0.0019378662109375, -0.0036773681640625, -0.000335693359375, -0.005340576171875, 0.000396728515625, 0.006805419921875, -0.0003833770751953125, 0.002685546875, 0.00017547607421875, -0.00799560546875, 0.0120849609375, -0.007110595703125, -0.0003452301025390625, 0.011474609375, 0.00152587890625, -0.002899169921875, 0.005462646484375, 0.0003070831298828125, 0.0059814453125, -0.003143310546875, 0.01104736328125, -0.0004425048828125, 0.002044677734375, -0.009765625, 0.003814697265625, 0.008056640625, -0.0036163330078125, -0.004638671875, -0.00518798828125, -0.005950927734375, -0.0048828125, -0.002471923828125, 0.00139617919921875, 0.0038909912109375, -0.00616455078125, -0.0009002685546875, -0.000701904296875, 0.005279541015625, -0.00848388671875, -0.0040283203125, 0.0022125244140625, -0.004364013671875, -0.005462646484375, 0.00921630859375, -0.003204345703125, -0.004913330078125, 0.00836181640625, 0.0087890625, 0.0045166015625, 0.00034332275390625, 0.005462646484375, -0.00128173828125, -0.0029754638671875, 0.00384521484375, -0.004364013671875, -0.00177001953125, 0.003997802734375, -0.003753662109375, 0.01507568359375, -0.003173828125, -0.00836181640625, -0.0017852783203125, -0.0014801025390625, 0.0015106201171875, -0.002593994140625, -0.00153350830078125, 0.0022125244140625, -0.00762939453125, 0.0034637451171875, 0.004150390625, 0.0023345947265625, -0.0150146484375, -0.0033416748046875, 0.00714111328125, -0.003387451171875, 0.00567626953125, 0.003692626953125, 0.01068115234375, 0.0032958984375, -0.00168609619140625, -0.0016021728515625, -0.0026702880859375, 0.000152587890625, 0.01123046875, -0.003662109375, 0.0018463134765625, -0.00244140625, 0.01116943359375, -0.0019683837890625, -0.0078125, -0.000385284423828125, -0.0015716552734375, -0.001495361328125, 0.00701904296875, 0.01092529296875, 0.00860595703125, -0.00162506103515625, 0.004913330078125, 0.0091552734375, 0.00177001953125, -0.0096435546875, -0.0016632080078125, -0.0078125, -0.01025390625, -0.004364013671875, -0.0010986328125, -0.0103759765625, 0.006988525390625, -0.000568389892578125, 0.00408935546875, 0.0067138671875, 0.00860595703125, -0.0027313232421875, 0.002960205078125, -0.0074462890625, -0.001983642578125, -0.0042724609375, 0.001983642578125, -0.005279541015625, 0.00408935546875, -0.00860595703125, -0.006011962890625, -0.000789642333984375, -0.0036163330078125, -0.003387451171875, -0.00445556640625, -0.007171630859375, 0.00482177734375, 0.00518798828125, 0.00011444091796875, 0.00067901611328125, 0.010498046875, -0.0072021484375, -0.0014190673828125, 0.0108642578125, -0.001983642578125, -0.002777099609375, 0.0084228515625, -0.001953125, -0.0081787109375, 0.00250244140625, 0.0008392333984375, -0.006805419921875, -0.00457763671875, 0.006072998046875, -0.0007476806640625, 0.0052490234375, 0.0032806396484375, -0.00897216796875, -0.0045166015625, 0.002838134765625, -0.01025390625, -0.007049560546875, -0.00174713134765625, 0.0004825592041015625, 0.002655029296875, 0.000415802001953125, 0.009765625, 0.00167083740234375, 0.00592041015625, -0.00579833984375, 0.0028228759765625, -0.00555419921875, 0.007537841796875, 0.012451171875, -0.0103759765625, -0.000640869140625, 0.00872802734375, -0.007781982421875, 0.0004024505615234375, -0.006744384765625, -0.00909423828125, 0.00787353515625, 0.00439453125, -0.00933837890625, -0.005157470703125, -0.00159454345703125, -0.00482177734375, -0.0040283203125, -0.057861328125, 0.0031890869140625, 0.0093994140625, 0.0035552978515625, 0.0033416748046875, 0.00628662109375, 0.00323486328125, 0.007476806640625, -0.0115966796875, 0.003387451171875, -0.00982666015625, -0.009765625, 0.0047607421875, -0.00750732421875, 0.00031280517578125, -0.0030975341796875, 0.01007080078125, -0.00079345703125, -0.0008087158203125, -0.0054931640625, 0.00714111328125, -0.003387451171875, 0.0133056640625, -0.003662109375, -0.0023651123046875, -0.00041961669921875, -0.00146484375, 0.002288818359375, 0.01031494140625, 0.0020904541015625, -0.00994873046875, 0.002166748046875, 0.0101318359375, 0.006256103515625, 0.0059814453125, 0.00179290771484375, -0.00799560546875, 0.00213623046875, 0.005096435546875, -0.000904083251953125, 0.0087890625, -0.0059814453125, 0.015380859375, 0.003204345703125, -0.00421142578125, -0.0031280517578125, -0.00421142578125, -0.00701904296875, -0.00921630859375, 0.003936767578125, -0.00193023681640625, -0.006378173828125, 0.00518798828125, 0.0016632080078125, 0.002349853515625, 0.000518798828125, 0.001373291015625, 0.0006256103515625, 4.57763671875e-05, 0.0126953125, -0.0072021484375, -0.006103515625, -0.00347900390625, -0.0006866455078125, 0.004150390625, 0.00045013427734375, 0.010498046875, 0.01043701171875, -0.006134033203125, 0.0040283203125, -0.002685546875, 0.01202392578125, 0.0177001953125, 0.007110595703125, 0.01177978515625, 0.005950927734375, 0.005889892578125, 0.01300048828125, -0.0018463134765625, 0.00909423828125, 0.005950927734375, -0.003448486328125, 0.00098419189453125, 0.000682830810546875, -0.00897216796875, 0.0037841796875, 0.0076904296875, 0.01470947265625, 0.000583648681640625, 0.003326416015625, -0.004669189453125, -0.00421142578125, 0.00677490234375, -0.001800537109375, 0.0030364990234375, 0.0067138671875, -0.004608154296875, 0.003570556640625, -0.003387451171875, -0.00286865234375, 0.0079345703125, 0.005828857421875, 0.0074462890625, -0.01495361328125, 0.002960205078125, -0.00262451171875, 0.000682830810546875, 0.004669189453125, 0.0014801025390625, 0.00616455078125, -0.0019683837890625, 0.0032501220703125, 0.00408935546875, -0.009765625, 0.0013580322265625, -0.00537109375, -0.00077056884765625, -0.0024871826171875, 0.0037078857421875, 0.004241943359375, 0.0069580078125, -0.003662109375, -0.006439208984375, -0.005523681640625, 0.0028076171875, 0.0201416015625, -0.00046539306640625, -0.00038909912109375, 0.0033416748046875, 0.0101318359375, -0.004119873046875, -0.0198974609375, -0.00156402587890625, -0.00191497802734375, 0.0069580078125, -0.00067901611328125, -0.01141357421875, 0.00836181640625, 0.00058746337890625, -0.00029754638671875, 0.00860595703125, -0.005279541015625, -0.004302978515625, 0.006683349609375, -0.003997802734375, -0.001251220703125, -0.006317138671875, -0.00147247314453125, 0.00909423828125, -0.013916015625, -0.0108642578125, 0.003997802734375, -0.003814697265625, 0.01019287109375, -0.007293701171875, 0.011474609375, -0.000385284423828125, -0.0003643035888671875, 0.0069580078125, 7.05718994140625e-05, -0.017333984375, -0.0034942626953125, -0.0024871826171875, -0.0010833740234375, -0.009521484375, 0.01025390625, -0.0018463134765625, -0.0004425048828125, -0.0057373046875, -0.00189208984375, 0.005035400390625, -0.0028076171875, -0.00726318359375, -0.00750732421875, 0.01373291015625, -0.00145721435546875, -0.006561279296875, -0.00775146484375, 0.0029144287109375, -0.004638671875, 0.004150390625, 0.0017242431640625, -0.001129150390625, 0.007476806640625, -0.0023193359375, -0.006439208984375, 0.0050048828125, 0.0025177001953125, -0.0016021728515625, -0.0064697265625, -0.0008697509765625, -0.003936767578125, 0.00103759765625, 0.0032196044921875, -0.00592041015625, 0.0029296875, -0.00518798828125, 0.000484466552734375, 0.00130462646484375, -0.01226806640625, 0.006622314453125, 0.000293731689453125, -0.0115966796875, 0.0030670166015625, -0.00390625, 0.00531005859375, -0.00689697265625, -0.00531005859375, 0.004119873046875, -0.01361083984375, -0.001708984375, 0.003692626953125, 0.0037841796875, 0.003509521484375, -0.00023651123046875, -0.00726318359375, -0.00323486328125, 0.00335693359375, -0.0033416748046875, 0.00921630859375, -0.0022735595703125, -0.006805419921875, -0.0030364990234375, 0.00084686279296875, 0.00628662109375, -0.003631591796875, -0.00201416015625, -0.0078125, 0.0062255859375, -0.00860595703125, 0.01422119140625, -0.00032806396484375, -0.01080322265625, 0.01470947265625, -0.00250244140625, 0.0096435546875, 0.006378173828125, -0.00110626220703125, -0.0013885498046875, 0.0012054443359375, -0.00738525390625, 0.00225830078125, 0.0032501220703125, 0.00090789794921875, -0.0034027099609375, 0.0125732421875, 0.001708984375, 0.0064697265625, -0.00579833984375, 0.00089263916015625, -0.002777099609375, 0.006500244140625, 0.006439208984375, -0.00579833984375, -0.002197265625, 0.00860595703125, -0.00958251953125, -0.001373291015625, -0.0022125244140625, -0.007293701171875, -0.0031890869140625, -0.001983642578125, 0.00074005126953125, 0.007110595703125, 0.0135498046875, -0.001220703125, 0.00848388671875, 0.003265380859375, -0.0166015625, 0.0016937255859375, -0.006927490234375, -0.00830078125, -0.001312255859375, -0.00738525390625, 0.00640869140625, -0.0125732421875, -0.0059814453125, 0.0003509521484375, 0.00104522705078125, 0.00323486328125, -0.00738525390625, -0.00145721435546875, -0.0078125, -0.005859375, -0.0101318359375, -0.0069580078125, -0.0031280517578125, -0.00445556640625, -0.0029449462890625, -0.0024871826171875, -0.0010833740234375, -0.004302978515625, -0.00052642822265625, -0.000598907470703125, 0.0035247802734375, 0.005279541015625, -0.009033203125, 0.010009765625, 0.0029296875, 0.002655029296875, -0.004852294921875, -0.0137939453125, 0.006439208984375, 0.01263427734375, 0.0019683837890625, -0.000946044921875, 0.0203857421875, -0.006561279296875, -0.005767822265625, -0.00762939453125, -0.0024261474609375, -0.00799560546875, -3.814697265625e-06, -0.001708984375, -0.008056640625, 0.000492095947265625, -0.00360107421875, 0.0118408203125, -0.00201416015625, -0.0020904541015625, -0.00555419921875, 0.0022430419921875, -0.006134033203125, -0.002227783203125, -0.003021240234375, 0.00159454345703125, 0.0012969970703125, 0.003082275390625, 0.002044677734375, -0.006195068359375, 0.0115966796875, 0.00083160400390625, -0.002471923828125, -0.02099609375, 0.005157470703125, -0.0076904296875, -0.004974365234375, -0.0037689208984375, 0.005859375, 0.00469970703125, 0.00726318359375, 0.00439453125, 0.003570556640625, -0.0022430419921875, -0.00482177734375, -0.003753662109375, 0.0012359619140625, -0.005889892578125, -0.001861572265625, -0.002716064453125, 0.0054931640625, -0.003814697265625, -0.007568359375, 0.003265380859375, -0.007659912109375, 0.00665283203125, -0.0025634765625, -0.0005035400390625, 0.003509521484375, 0.005157470703125, -0.00145721435546875, -0.007415771484375, -0.000202178955078125, -0.000896453857421875, 0.0050048828125, 0.005340576171875, 0.00421142578125, 0.0052490234375, -0.004241943359375, -0.0086669921875, -0.010009765625, -0.000812530517578125, 0.0004119873046875, 0.01318359375, -0.006195068359375, -0.005279541015625, -0.01116943359375, 0.003204345703125, -0.0013427734375, 0.005706787109375, -0.00946044921875, 0.00982666015625, 0.00592041015625, 0.00506591796875, 0.0111083984375, 0.0054931640625, 0.00469970703125, -0.00543212890625, 0.0020599365234375, 0.00072479248046875, 0.00653076171875, -0.00098419189453125, -0.00604248046875, 0.00946044921875, -0.0086669921875, -0.00994873046875, 0.0030059814453125, 0.0019073486328125, -0.0032958984375, -0.00131988525390625, 0.004180908203125, -0.00701904296875, -0.00897216796875, 0.0064697265625, -0.00182342529296875, -0.003662109375, -0.0155029296875, 0.0016937255859375, -0.0045166015625, 0.00677490234375, -0.00060272216796875, 0.00518798828125, -0.0019378662109375, 0.0031585693359375, -0.002288818359375, 0.00113677978515625, 0.0059814453125, 0.00439453125, -0.0035552978515625, 0.0057373046875, -0.0007476806640625, -0.00433349609375, 0.00830078125, 0.006317138671875, -0.0125732421875, -0.00299072265625, -0.004058837890625, -0.00714111328125, -0.00628662109375, -0.0146484375, -0.00238037109375, 0.0029754638671875, -0.000926971435546875, 0.001373291015625, 7.62939453125e-06, 0.00225830078125, 0.00311279296875, 0.004058837890625, 0.00958251953125, -0.005645751953125, -0.00157928466796875, -0.0093994140625, 0.0027923583984375, -0.003570556640625, -0.002288818359375, -0.007781982421875, 0.00946044921875, 0.00396728515625, 0.00604248046875, -0.00726318359375, -0.001800537109375, 0.000213623046875, 0.0034332275390625, -0.000949859619140625, -0.003082275390625, -0.0037994384765625, 0.0126953125, -0.0062255859375, -0.003753662109375, -0.00194549560546875, -0.004302978515625, 0.0024566650390625, -0.0093994140625, -0.0001220703125, -0.001617431640625, 0.00518798828125, 0.005584716796875, -0.001861572265625, -0.006561279296875, 0.00555419921875, 0.0025634765625, 0.0024261474609375, -0.0034332275390625, -0.000972747802734375, 0.0018310546875, 0.002838134765625, -0.00323486328125, -0.005401611328125, -0.0037384033203125, -0.00054168701171875, -0.00079345703125, -0.002349853515625, 0.0052490234375, -0.000885009765625, -0.0017242431640625, -0.00274658203125, 0.005279541015625, -0.0012969970703125, 0.0084228515625, 0.004425048828125, 0.00133514404296875, -0.012451171875, -0.00787353515625, 0.01397705078125, 0.00390625, -0.001800537109375, -0.00885009765625, 0.0093994140625, 0.0093994140625, 0.0029754638671875, -0.0091552734375, -0.000762939453125, 0.0033721923828125, -0.006500244140625, 0.0150146484375, 0.007537841796875, 0.0045166015625, 0.003326416015625, 0.0125732421875, -0.00927734375, 0.0021514892578125, 0.00640869140625, 0.0013885498046875, 0.0018768310546875, -0.004364013671875, 0.009033203125, 0.00144195556640625, 0.00897216796875, 0.0093994140625, 3.814697265625e-05, -0.001007080078125, -0.001739501953125, 0.00299072265625, 0.002716064453125, -0.0015869140625, 0.0028839111328125, 0.00115203857421875, -0.00933837890625, -0.00286865234375, 0.00250244140625, -0.01031494140625, -0.01361083984375, -0.0052490234375, -0.005950927734375, -0.00732421875, 0.003204345703125, 0.004638671875, -0.0076904296875, 0.01104736328125, -0.003692626953125, -0.00994873046875, 0.0023345947265625, -0.01220703125, -0.0032501220703125, 0.00592041015625, -0.002288818359375, -0.0006103515625, -0.0054931640625, 0.00823974609375, 0.00360107421875, -0.000934600830078125, 0.0018768310546875, 0.000263214111328125, -0.01361083984375, -0.000701904296875, 0.00994873046875, 0.011474609375, -0.00567626953125, 0.00823974609375, -0.0081787109375, -0.0052490234375, -0.01544189453125, -0.000244140625, -0.0016021728515625, 0.0091552734375, -0.00732421875, -0.00799560546875, 0.0014495849609375, -0.005157470703125, -0.001007080078125, -0.0035858154296875, 0.0038909912109375, -0.00141143798828125, -0.0004405975341796875, -0.0036773681640625, -0.0054931640625, -0.002716064453125, 0.00494384765625, 0.01397705078125, 0.00885009765625, 0.003570556640625, 0.00897216796875, -0.0028533935546875, 0.006439208984375, 0.01019287109375, -0.000965118408203125, -0.0086669921875, -0.0017242431640625, 0.0031280517578125, -0.01318359375, -0.008056640625, -0.0035858154296875, -0.004364013671875, 0.0045166015625, -0.0025482177734375, -0.003814697265625, -0.00836181640625, -0.00860595703125, 0.0006256103515625, 0.00897216796875, -0.004425048828125, 0.0023956298828125, -0.00433349609375, 0.002899169921875, -0.0014495849609375, -0.007049560546875, 0.01123046875, 0.00238037109375, 0.0089111328125, 0.007080078125, -0.004547119140625, 0.0022125244140625, 0.0005645751953125, 0.001373291015625, 0.004730224609375, 0.003204345703125, -0.002166748046875, 0.00028228759765625, 0.0106201171875, -0.0120849609375, -0.002410888671875, 0.00142669677734375, -0.002593994140625, 0.001800537109375, -0.01519775390625, -0.0030364990234375, -0.0047607421875, 0.0096435546875, -0.0087890625, 0.002349853515625, 0.002899169921875, 0.00469970703125, 0.00142669677734375, -0.00238037109375, 0.0133056640625, 0.0001811981201171875, 0.006866455078125, 0.000423431396484375, 0.004547119140625, -0.004638671875, -0.002044677734375, 0.00653076171875, -0.00714111328125, 0.0026397705078125, -0.00518798828125, 0.00022125244140625, 0.0017547607421875, -0.0038604736328125, 0.0013885498046875, 0.001251220703125, -0.00130462646484375, 0.0108642578125, 0.0018310546875, 0.0040283203125, 0.00946044921875, -0.00823974609375, -0.0001201629638671875, -0.005828857421875, -0.00457763671875, 0.006866455078125, -0.01519775390625, 0.003753662109375, 0.0009918212890625, 0.003509521484375, -0.0087890625, 0.01385498046875, 0.0206298828125, 0.01251220703125, -0.002716064453125, 0.000789642333984375, -0.005462646484375, 0.001129150390625, 0.0089111328125, -0.009765625, -0.000873565673828125, -0.005950927734375, -0.0002899169921875, -0.00579833984375, -0.00592041015625, -0.005767822265625, 0.0108642578125, -0.01031494140625, -0.00958251953125, 0.00151824951171875, -0.00799560546875, -0.0133056640625, 0.000934600830078125, 0.0019683837890625, -0.00347900390625, -0.0048828125, 0.006134033203125, 0.003509521484375, -0.0107421875, 0.00677490234375, 0.0014495849609375, 0.00360107421875, 0.00103759765625, 0.00109100341796875, 0.0146484375, -0.0022735595703125, 0.000255584716796875, 0.005126953125, 0.012451171875, 0.00162506103515625, 0.00170135498046875, 0.006256103515625, -0.01025390625, -0.005096435546875, 0.0091552734375, 0.005615234375, -0.00274658203125, 0.00933837890625, -0.000858306884765625, 0.0029754638671875, -4.00543212890625e-05, -0.0011444091796875, 0.00274658203125, -0.013427734375, 0.0006866455078125, 0.0020751953125, -0.0107421875, -0.00087738037109375, 0.005859375, -0.00396728515625, -0.015869140625, -0.01025390625, -0.0084228515625, 0.004241943359375, 0.001312255859375, 0.0019378662109375, 0.0030364990234375, -0.00726318359375, 0.00055694580078125, 0.01483154296875, 0.0123291015625, -0.00067138671875, 0.00726318359375, 0.00811767578125, 0.01031494140625, 0.00531005859375, -0.00927734375, -0.0096435546875, -0.004180908203125, -0.00927734375, 0.00823974609375, 0.004608154296875, -0.00262451171875, -0.008544921875, -0.0026397705078125, 0.00103759765625, 0.010009765625, -0.00421142578125, -0.000152587890625, -0.00390625, -0.0091552734375, 0.009765625, -0.006561279296875, -0.0006103515625, 0.006622314453125, 0.006683349609375, 0.005828857421875, 0.002838134765625, 0.00927734375, -0.007720947265625, -0.00787353515625, -0.0091552734375, -0.00244140625, 0.002777099609375, 0.0011749267578125, -0.01513671875, 0.00579833984375, -0.000225067138671875, -0.00225830078125, 0.0076904296875, -0.006317138671875, -0.0032196044921875, 0.00848388671875, 0.0037689208984375, -0.00897216796875, -0.00994873046875, -0.00115966796875, 0.01116943359375, 0.004730224609375, 0.00994873046875, -0.0036773681640625, 0.00994873046875, -0.00183868408203125, -0.01116943359375, 0.0072021484375, -0.0042724609375, -0.00506591796875, -0.00921630859375, 0.025146484375, 0.00125885009765625, -0.0030517578125, 0.007354736328125, -0.01422119140625, 0.005157470703125, -0.003082275390625, 0.0017242431640625, -0.0186767578125, -0.0106201171875, -0.0030517578125, -0.0084228515625, -0.00872802734375, -0.01214599609375, -0.003265380859375, 0.002166748046875, -0.00787353515625, -0.0029144287109375, 0.005645751953125, -0.0003719329833984375, 0.00128936767578125, -0.0025634765625, 0.0045166015625, 0.007598876953125, -0.00897216796875, -0.004180908203125, 0.00775146484375, -7.62939453125e-05, 0.004180908203125, -0.0025482177734375, 0.006072998046875, -0.0027618408203125, 0.002105712890625, -0.0018310546875, -0.0084228515625, 0.0045166015625, 0.00087738037109375, -0.00537109375, 0.00640869140625, -0.00830078125, -0.0007171630859375, 0.0072021484375, 0.0025634765625, -0.005126953125, -0.01177978515625, 0.0034942626953125, 0.01177978515625, 0.005279541015625, 0.00299072265625, -0.0031890869140625, -0.00347900390625, 0.003753662109375, -0.0042724609375, 0.005889892578125, -0.0081787109375, -0.0040283203125, -0.00274658203125, -0.002532958984375, 0.000896453857421875, 0.0091552734375, -0.004150390625, 9.918212890625e-05, 0.006134033203125, -0.005157470703125, 0.004302978515625, -0.003021240234375, 0.0037689208984375, 0.0023651123046875, -0.00193023681640625, -0.00168609619140625, 0.00408935546875, 0.00433349609375, -0.00701904296875, -0.0030670166015625, -0.000457763671875, -0.00628662109375, -0.00469970703125, 0.0022430419921875, 0.000396728515625, 0.0069580078125, 0.005706787109375, -0.00390625, -0.0045166015625, 0.00156402587890625, -0.01300048828125, -0.0106201171875, -0.002899169921875, -0.004852294921875, 0.005096435546875, -0.002532958984375, 0.00341796875, -0.005401611328125, 0.0032958984375, 0.010498046875, -0.004486083984375, 0.010009765625, -0.01123046875, 0.01214599609375, 0.0003376007080078125, -0.0021820068359375, 0.00093841552734375, -0.00016021728515625, 0.0123291015625, -0.0014495849609375, 0.00970458984375, -0.01483154296875, -0.000911712646484375, -0.000408172607421875, -0.003509521484375, -0.0108642578125, 0.00860595703125, -0.00897216796875, -0.0098876953125, -0.007232666015625, -0.007659912109375, 0.00193023681640625, 0.01348876953125, -0.00167083740234375, 0.001922607421875, 0.00787353515625, 0.00347900390625, 0.00360107421875, -0.01165771484375, -0.0042724609375, 0.00091552734375, -0.0029754638671875, 0.003753662109375, 0.0003662109375, -0.00347900390625, -0.0011749267578125, -0.003692626953125, -0.004547119140625, -0.004486083984375, -0.0002899169921875, -0.0111083984375, 0.00183868408203125, 0.00225830078125, 0.00860595703125, 0.0068359375, -0.0020751953125, 0.000583648681640625, 0.0040283203125, -0.0076904296875, 0.00872802734375, -0.00171661376953125, -0.0033416748046875, -0.000732421875, 0.002960205078125, 0.004638671875, -0.01904296875, -0.00762939453125, 0.00634765625, 0.00024127960205078125, -0.00213623046875, -0.00567626953125, 0.005767822265625, 0.0024261474609375, -0.0032958984375, 1.239776611328125e-05, 0.002960205078125, -0.0024871826171875, 0.002166748046875, 0.004058837890625, 0.0198974609375, 0.012451171875, -0.00738525390625, -0.0001373291015625, 0.0032806396484375, 0.009765625, -0.005859375, -0.0029296875, 3.0517578125e-05, -0.0007171630859375, -0.0026702880859375, -0.01324462890625, 0.00070953369140625, 0.01055908203125, 0.00439453125, -0.00274658203125, 0.0089111328125, -0.0028839111328125, -0.00164031982421875, -0.0016021728515625, 0.00201416015625, -0.0093994140625, -0.0019683837890625, 0.0166015625, 0.0050048828125, 0.007354736328125, 0.002532958984375, -0.004974365234375, 0.006195068359375, -0.00604248046875, -0.0081787109375, 0.00506591796875, 0.009521484375, -0.00167083740234375, 0.0025482177734375, -0.002960205078125, 0.0035858154296875, 0.0216064453125, -0.002777099609375, -0.0002002716064453125, -0.0020904541015625, -0.005584716796875, 9.918212890625e-05, -0.0012969970703125, 0.00970458984375, -0.00689697265625, 0.007720947265625, 0.0019073486328125, -0.0084228515625, -0.0184326171875, 0.0048828125, -0.005859375, -0.002410888671875, 0.0078125, -0.006256103515625, 0.0002651214599609375, 0.00177764892578125, -0.0018463134765625, -0.00543212890625, -0.00090789794921875, -0.0019989013671875, -0.00262451171875, -0.00408935546875, -0.015869140625, -0.00958251953125, -0.01031494140625, -0.00162506103515625, 0.0052490234375, 0.010498046875, -0.004180908203125, 0.003082275390625, -8.392333984375e-05, 0.00628662109375, -0.0032958984375, -0.0021514892578125, -0.00095367431640625, -0.0031890869140625, 0.006988525390625, 0.00872802734375, -0.005157470703125, -0.0030517578125, 0.00055694580078125, 0.00054168701171875, -0.00421142578125, -0.00604248046875, -0.004150390625, 0.00970458984375, 0.0027618408203125, -0.0081787109375, 0.008056640625, -0.00421142578125, -0.006439208984375, 0.00185394287109375, 0.019775390625, 0.01177978515625, -0.0057373046875, -0.00092315673828125, -0.00634765625, 0.0084228515625, 0.006500244140625, -0.005096435546875, 0.00125885009765625, -0.0052490234375, 0.00043487548828125, -0.00396728515625, 0.00030517578125, 0.00067901611328125, 0.0013427734375, -0.00347900390625, 0.007537841796875, 0.00125885009765625, 0.01495361328125, 0.010986328125, 0.00182342529296875, -0.0042724609375, -0.0048828125, -0.003326416015625, 0.01495361328125, -0.00360107421875, -0.00124359130859375, 0.002777099609375, 0.005828857421875, 0.016845703125, 0.0008392333984375, 0.00897216796875, 0.00130462646484375, -0.005401611328125, -0.00482177734375, -0.0029296875, 0.006591796875, 0.00860595703125, -0.004669189453125, -0.003692626953125, -0.00156402587890625, 0.00372314453125, 0.0023956298828125, 0.004486083984375, 0.0021209716796875, -0.0009765625, 0.007232666015625, 0.0113525390625, -0.005462646484375, 0.00811767578125, 0.00701904296875, 0.0024261474609375, -0.0024871826171875, 0.00933837890625, 0.00124359130859375, 0.0032501220703125, -0.0062255859375, 0.00927734375, 0.001129150390625, -0.0034637451171875, -0.00069427490234375, -0.005462646484375, -0.001861572265625, 0.01104736328125, -0.00799560546875, -0.002593994140625, -0.004119873046875, 0.00060272216796875, -0.017578125, 0.00180816650390625, -0.00238037109375, 0.006866455078125, -0.000946044921875, 0.0016632080078125, -0.00238037109375, -0.003814697265625, 0.002777099609375, 0.002349853515625, 0.00860595703125, 0.00518798828125, 0.0035247802734375, -0.000148773193359375, 0.01104736328125, -0.00469970703125, -0.03125, -0.004974365234375, -0.006866455078125, -0.00872802734375, 0.002899169921875, -0.0022735595703125, 0.00125885009765625, -0.004150390625, -0.0052490234375, 0.0009918212890625, -0.003936767578125, -0.0016326904296875, -0.00946044921875, -0.0028076171875, 0.01287841796875, -0.001983642578125, 0.0133056640625, 0.0032958984375, 0.0052490234375, -0.00872802734375, -0.0042724609375, 0.002105712890625, -0.00012969970703125, 0.01373291015625, 0.0005340576171875, 0.000461578369140625, -0.0036468505859375, 0.0096435546875, 0.0012969970703125, 0.003570556640625, 0.01025390625, 0.006103515625, -0.0037994384765625, -5.507469177246094e-05, -0.004425048828125, -0.01220703125, -0.00151824951171875, 0.0023956298828125, -0.00567626953125, -0.00081634521484375, 0.01214599609375, 0.000461578369140625, 0.000865936279296875, -0.003173828125, 0.0062255859375, 0.000762939453125, -0.0025787353515625, 0.003173828125, -0.002105712890625, 0.0081787109375, 0.006927490234375, 0.00274658203125, -0.00543212890625, -0.01177978515625, 0.0018310546875, -0.0002689361572265625, -0.00124359130859375, 0.0108642578125, 0.002410888671875, -0.0015411376953125, -0.003692626953125, 0.003204345703125, -0.002899169921875, -0.000911712646484375, -0.0035552978515625, 0.00830078125, 0.0108642578125, 0.005615234375, 0.0042724609375, 0.00982666015625, 0.005126953125, 0.0103759765625, 0.005767822265625, 0.0084228515625, -0.009521484375, -0.004730224609375, -0.0057373046875, -0.009765625, 0.0021514892578125, 0.01507568359375, -0.01104736328125, -0.0015716552734375, 0.000499725341796875, 0.00701904296875, 0.00921630859375, 0.000431060791015625, 0.0101318359375, 0.00032806396484375, 0.0103759765625, -0.005645751953125, -0.01043701171875, 0.0023193359375, -0.01007080078125, -0.0108642578125, -0.00433349609375, 0.00095367431640625, 0.000591278076171875, 0.003631591796875, -0.0021820068359375, -0.005889892578125, -0.00408935546875, -0.007080078125, -0.0050048828125, -0.00555419921875, -0.00799560546875, -0.00445556640625, -0.005462646484375, 0.00457763671875, -0.0027008056640625, -0.0004367828369140625, 0.00732421875, 0.00032806396484375, 0.00066375732421875, 0.01092529296875, -0.0118408203125, 0.00384521484375, 0.0031890869140625, -0.0103759765625, 0.0040283203125, 0.002593994140625, -0.003204345703125, 0.004608154296875, 0.0022125244140625, 0.011474609375, -0.0059814453125, 0.00555419921875, -0.00567626953125, 0.00994873046875, -0.004486083984375, 0.001495361328125, 0.0037841796875, -0.00665283203125, -0.0012054443359375, -0.003997802734375, 0.006591796875, -0.0032501220703125, -0.0054931640625, 0.002838134765625, -0.0012969970703125, -0.0093994140625, 0.001251220703125, 0.010498046875, 0.00408935546875, 0.000579833984375, 0.0024566650390625, 6.198883056640625e-05, -0.0009002685546875, 0.00799560546875, -0.0014495849609375, -0.0022125244140625, -0.00457763671875, 0.007080078125, 0.004180908203125, 0.004913330078125, 0.0019683837890625, -0.00115203857421875, -0.01611328125, 7.05718994140625e-05, -0.00018310546875, -0.000865936279296875, 0.01220703125, -0.0013885498046875, 0.006561279296875, -0.004638671875, 0.002655029296875, -0.01116943359375, 0.000896453857421875, 0.00135040283203125, 0.0005645751953125, -0.0064697265625, -0.0081787109375, 0.004150390625, 0.005462646484375, 0.019287109375, 0.00775146484375, -0.00628662109375, -0.01220703125, -0.0076904296875, 0.00396728515625, -0.004852294921875, 0.0001697540283203125, 0.001190185546875, 0.004486083984375, 0.006866455078125, -0.0081787109375, 0.00011444091796875, -0.0006103515625, 0.00677490234375, -0.002899169921875, 0.0009918212890625, -0.0022735595703125, -0.005859375, -0.017333984375, -0.0047607421875, -0.0026702880859375, 0.0001373291015625, -0.003692626953125, 0.002227783203125, -0.003936767578125, 0.006988525390625, 0.003082275390625, -0.0020294189453125, 0.00506591796875, 0.004302978515625, -0.0035858154296875, -0.0042724609375, 5.53131103515625e-05, -0.002777099609375, -0.0003032684326171875, -0.00372314453125, -0.00096893310546875, 0.00347900390625, 0.00162506103515625, -0.0023193359375, 0.00122833251953125, -0.005035400390625, -0.00244140625, 0.00087738037109375, 0.000640869140625, 0.006103515625, -0.0023956298828125, 0.0023193359375, -0.0047607421875, 0.00628662109375, 0.00128173828125, 0.000820159912109375, -0.00543212890625, 0.007537841796875, -0.0067138671875, -0.0003643035888671875, 0.0021820068359375, 0.00335693359375, 0.002227783203125, 0.0042724609375, -0.00439453125, -0.0001506805419921875, -0.0026092529296875, 0.00238037109375, -0.002166748046875, -0.00518798828125, 0.004638671875, -0.00604248046875, -0.00372314453125, 0.0012359619140625, -0.01043701171875, 0.0025634765625, 0.0172119140625, -0.007659912109375, 0.009033203125, -0.003875732421875, -0.004150390625, 0.000244140625, 0.008544921875, -0.0125732421875, 6.151199340820312e-05, -0.00360107421875, -0.003448486328125, 0.0172119140625, 0.0016326904296875, -0.00469970703125, 0.0042724609375, -0.0005950927734375, 0.01177978515625, -0.016845703125, 0.00107574462890625, -0.00142669677734375, -0.0031280517578125, -0.00634765625, 0.010009765625, -0.01153564453125, -0.00090789794921875, -0.003509521484375, 0.00445556640625, 0.00139617919921875, 0.00689697265625, -0.00372314453125, -0.005523681640625, -0.003143310546875, -0.00518798828125, -0.00885009765625, 0.000244140625, -0.0038299560546875, -0.00133514404296875, -0.0069580078125, -0.001983642578125, 0.006683349609375, 0.00640869140625, -0.0087890625, -0.0038909912109375, 0.0038909912109375, -0.0040283203125, -0.005126953125, -0.0093994140625, -0.0079345703125, 0.010498046875, -0.0052490234375, -0.000263214111328125, -0.0108642578125, -0.002899169921875, -0.00408935546875, -0.0086669921875, -0.00168609619140625, 0.004364013671875, -0.0023651123046875, -0.006561279296875, 0.0042724609375, -0.004180908203125, -0.006317138671875, -0.003509521484375, -0.0004425048828125, -0.01116943359375, -0.00982666015625, 0.000522613525390625, 0.0087890625, -0.007080078125, -0.0076904296875, 0.0030059814453125, -0.0120849609375, -0.000644683837890625, -0.0079345703125, -0.004791259765625, 0.007415771484375, 0.002593994140625, 0.0034332275390625, 0.0030364990234375, -0.0011749267578125, -0.010009765625, -0.007110595703125, -0.0078125, 0.004150390625, -0.0079345703125, -0.0008697509765625, 8.20159912109375e-05, -0.00037384033203125, 0.003173828125, -0.01025390625, 0.01470947265625, -0.00286865234375, 0.01287841796875, -0.00787353515625, -0.000125885009765625, -0.0003509521484375, 0.0033416748046875, 0.0113525390625, -0.002410888671875, 0.01336669921875, -0.0025634765625, -0.00167083740234375, -0.003265380859375, 0.008544921875, -0.00262451171875, 0.006378173828125, 0.005950927734375, -0.00543212890625, 0.009033203125, 0.001983642578125, -0.006744384765625, 0.00177001953125, 0.0135498046875, -0.0042724609375, -0.000713348388671875, 0.002655029296875, 0.005462646484375, 0.00445556640625, -0.010498046875, -0.0033416748046875, -0.0177001953125, -0.0022735595703125, -0.00518798828125, -0.0067138671875, -0.0087890625, 0.002777099609375, -0.00653076171875, -0.0048828125, 0.001373291015625, 0.004852294921875, -0.000858306884765625, 0.002105712890625, -0.0037078857421875, 0.004241943359375, 0.006805419921875, -0.012939453125, 0.00994873046875, -0.0045166015625, 0.0091552734375, -0.001556396484375, -0.0052490234375, -0.000629425048828125, -0.003265380859375, 0.00193023681640625, -0.00543212890625, 0.00128173828125, 0.007659912109375, 0.0025787353515625, -0.000194549560546875, -0.00023651123046875, -0.005218505859375, -0.004791259765625, 0.000629425048828125, -0.003173828125, -0.0022430419921875, 0.0028076171875, 0.00112152099609375, -0.001129150390625, -0.00994873046875, -0.0096435546875, 0.0067138671875, 0.00170135498046875, 0.00390625, -0.01123046875, -0.00604248046875, -0.0042724609375, 0.004150390625, 0.01336669921875, -0.0111083984375, -0.01348876953125, -0.00064849853515625, 0.00168609619140625, -0.005889892578125, -0.00750732421875, -0.000949859619140625, 0.00262451171875, 0.001373291015625, 0.007568359375, 0.005828857421875, 0.0015716552734375, -0.007293701171875, 0.00173187255859375, -0.005615234375, 0.00518798828125, 0.0016937255859375, 0.0084228515625, 0.01483154296875, -0.004058837890625, 0.002777099609375, 0.00250244140625, -0.00982666015625, 0.005889892578125, -0.0011749267578125, -0.003936767578125, -0.0081787109375, -0.00433349609375, 0.006805419921875, -0.01068115234375, 0.00238037109375, 0.0064697265625, 0.00775146484375, 0.000507354736328125, -0.0196533203125, -0.000583648681640625, -0.00408935546875, 0.0006866455078125, -0.002532958984375, 0.01361083984375, -0.00067901611328125, 0.01025390625, -0.00104522705078125, -0.0059814453125, 0.000659942626953125, -0.005035400390625, -0.005035400390625, 0.005401611328125, 0.006622314453125, 0.00885009765625, 0.00118255615234375, -0.00396728515625, 0.007232666015625, -0.0003509521484375, -0.009521484375, 0.000873565673828125, 0.00958251953125, -0.00421142578125, -0.00299072265625, -7.62939453125e-05, 0.0037078857421875, -0.00408935546875, -0.0033721923828125, 0.01007080078125, 0.0111083984375, -0.000507354736328125, 0.005096435546875, -0.00732421875, -0.002593994140625, 0.0014190673828125, 0.00579833984375, 0.00958251953125, 0.000213623046875, -0.001708984375, -0.01055908203125, -0.0069580078125, 0.000698089599609375, 0.00445556640625, -0.000457763671875, -0.0042724609375, 0.004913330078125, 0.000713348388671875, -0.001953125, -0.00213623046875, -0.0093994140625, -0.001678466796875, 0.00323486328125, 0.0069580078125, -0.006317138671875, 0.0017547607421875, 0.0017852783203125, 0.00341796875, -0.00030517578125, -0.01123046875, -0.005859375, 0.0152587890625, 0.007415771484375, -0.0012969970703125, -0.00799560546875, -0.004150390625, 0.00341796875, -0.00433349609375, -0.00640869140625, 0.0023040771484375, -0.005096435546875, 0.002471923828125, 0.0128173828125, 0.0040283203125, 0.00439453125, 0.0074462890625, -0.00909423828125, -0.006805419921875, -0.00092315673828125, -0.003936767578125, -0.0064697265625, -0.00445556640625, 0.006134033203125, 0.0034332275390625, 0.00238037109375, -0.0064697265625, -0.0034942626953125, -0.0220947265625, 0.002838134765625, 0.00145721435546875, -0.0002899169921875, -0.004058837890625, -0.001312255859375, 0.007049560546875, 0.000202178955078125, -0.003326416015625, 0.00714111328125, -0.004638671875, -0.000629425048828125, -0.004730224609375, 0.004364013671875, 0.0108642578125, -0.0019378662109375, 0.005645751953125, -0.0005035400390625, -0.0016937255859375, 0.0057373046875, -0.005218505859375, -0.00762939453125, 0.0096435546875, -0.005706787109375, 0.000812530517578125, 0.0005035400390625, 0.00836181640625, 0.0029449462890625, 0.003631591796875, 0.004150390625, 0.0028076171875, -0.00225830078125, 0.02294921875, 0.01092529296875, 0.00174713134765625, -0.002838134765625, -0.00604248046875, -0.0001926422119140625, -0.00885009765625, 0.00634765625, -0.005035400390625, -0.005706787109375, -0.003082275390625, 0.00145721435546875, -0.0034637451171875, 0.000396728515625, -0.006866455078125, 0.00066375732421875, -0.005828857421875, -0.009765625, -0.01068115234375, 0.00159454345703125, -0.0093994140625, 0.002227783203125, -0.0111083984375, -0.00177001953125, 0.006439208984375, -0.0133056640625, -0.00701904296875, -0.005096435546875, -0.00714111328125, 0.002410888671875, -0.000759124755859375, 0.006683349609375, -0.0032958984375, -0.001312255859375, 1.52587890625e-05, -0.00421142578125, 0.000579833984375, 0.00156402587890625, 0.006683349609375, -0.00457763671875, 0.0052490234375, 0.00750732421875, -0.00482177734375, 0.005615234375, -0.00689697265625, -0.0004673004150390625, -0.005828857421875, 0.003021240234375, 0.0078125, -0.007171630859375, -0.006744384765625, -0.0067138671875, -0.0045166015625, 0.0103759765625, -0.0035400390625, 0.005828857421875, -0.01214599609375, 0.001251220703125, -0.007232666015625, 0.0006561279296875, 0.00555419921875, 0.0026092529296875, -0.01397705078125, 0.006500244140625, -0.0006256103515625, -0.002471923828125, 0.003326416015625, -0.006317138671875, 0.000431060791015625, -0.006683349609375, 0.01104736328125, 0.004669189453125, -0.00872802734375, 7.82012939453125e-05, 0.00830078125, 0.01068115234375, -0.004119873046875, 0.0081787109375, -0.0120849609375, 0.000457763671875, 0.00067138671875, -0.0028839111328125, 0.006134033203125, 0.000274658203125, 0.005889892578125, 0.0016632080078125, 0.009033203125, -0.0027923583984375, -0.0086669921875, -0.0001659393310546875, 0.0023193359375, 0.00933837890625, 0.005126953125, 0.01422119140625, -0.000736236572265625, -0.00311279296875, 0.0033111572265625, 0.000316619873046875, 0.000732421875, 0.01019287109375, -0.003997802734375, -0.000823974609375, -0.0113525390625, -0.00634765625, -0.010498046875, 0.00274658203125, -0.000507354736328125, 0.002838134765625, -0.0115966796875, -0.00057220458984375, -0.001495361328125, -0.0020904541015625, -0.000965118408203125, 0.0037384033203125, 0.0031280517578125, -0.0034637451171875, -0.00023651123046875, 0.013671875, -0.00372314453125, 0.0001983642578125, -0.00592041015625, -0.00043487548828125, 0.011474609375, 0.002593994140625, -0.00628662109375, 0.0068359375, -0.004730224609375, 0.00250244140625, -0.00177001953125, 0.00506591796875, 0.0098876953125, -0.0111083984375, 0.00457763671875, -0.00390625, -0.0115966796875, -0.001678466796875, -0.01226806640625, -0.00433349609375, -0.00933837890625, 0.00537109375, -0.003997802734375, 0.0024871826171875, 0.003875732421875, -0.0021820068359375, 0.002655029296875, -0.0125732421875, -0.000339508056640625, 0.00139617919921875, 0.00665283203125, 0.006805419921875, -0.0025482177734375, -0.00060272216796875, 0.004730224609375, -0.005889892578125, -0.005584716796875, -0.003753662109375, 0.00909423828125, 0.003082275390625, -0.00537109375, -0.005889892578125, -0.00067138671875, 0.0086669921875, -0.004486083984375, 0.00634765625, -0.0010986328125, 0.004150390625, -0.0050048828125, 0.0033111572265625, 0.0029754638671875, -0.0028228759765625, -0.000247955322265625, -0.004302978515625, 0.000789642333984375, 0.001953125, -0.013671875, -0.003570556640625, 0.00555419921875, 0.007232666015625, 0.00811767578125, -0.0017547607421875, 0.00384521484375, 0.0025177001953125, -0.0018768310546875, 0.0181884765625, 0.0023651123046875, 0.00872802734375, -6.103515625e-05, 0.0011138916015625, -0.004302978515625, 0.003997802734375, 0.00518798828125, 0.001739501953125, -0.000858306884765625, -0.00153350830078125, 0.003753662109375, -0.011474609375, 0.0015106201171875, -0.01434326171875, -0.004913330078125, 0.0014801025390625, 0.0007171630859375, -0.0016937255859375, 0.001983642578125, 0.0025177001953125, -0.0152587890625, 0.006256103515625, 0.0074462890625, 0.003814697265625, 0.00244140625, 0.00164794921875, -0.003173828125, -0.00086212158203125, -0.003204345703125, -0.007720947265625, -0.00830078125, 0.0027313232421875, 0.0031280517578125, 0.002532958984375, -0.0172119140625, 0.00055694580078125, 0.0010528564453125, 0.007568359375, 0.0029296875, -0.008544921875, -0.0030517578125, 0.0012969970703125, -0.0087890625, -0.00823974609375, 0.005401611328125, 0.00177764892578125, -0.006927490234375, 0.000324249267578125, 0.00469970703125, -0.004669189453125, -0.0037994384765625, -0.00396728515625, 0.0089111328125, -0.01116943359375, -0.00836181640625, -0.0025634765625, -0.001983642578125, 0.01043701171875, -0.01055908203125, -0.000507354736328125, 0.007415771484375, 0.00099945068359375, 0.003143310546875, -0.003173828125, -0.0012359619140625, 0.003997802734375, -0.007354736328125, -0.01055908203125, 0.00640869140625, -0.01513671875, -0.00689697265625, -0.0010223388671875, 0.005859375, -0.00567626953125, -0.008544921875, 0.000946044921875, -0.00421142578125, -0.002471923828125, 0.00174713134765625, 0.0016937255859375, 0.0012969970703125, -0.01031494140625, 0.002227783203125, 0.003143310546875, 0.001068115234375, -0.00335693359375, -0.00848388671875, 0.00016021728515625, -0.00714111328125, 0.0024871826171875, -0.01190185546875, -0.005767822265625, 0.0079345703125, -0.0076904296875, 0.000492095947265625, -0.0036773681640625, -0.00101470947265625, -0.0030059814453125, 0.0038299560546875, -0.00457763671875, 0.001556396484375, 0.003509521484375, -0.01416015625, 0.0059814453125, 0.00139617919921875, 0.0037841796875, 0.0002460479736328125, -0.0091552734375, -0.0035858154296875, -0.007080078125, -0.00274658203125, -0.0035400390625, 0.00482177734375, -0.00897216796875, 0.0030975341796875, -0.011962890625, -0.001373291015625, 0.00119781494140625, 0.0035552978515625, -0.001953125, -0.0074462890625, -0.00799560546875, 0.004180908203125, -0.001312255859375, 0.00360107421875, -0.0069580078125, 0.006805419921875, 0.006256103515625, -0.006805419921875, 0.00421142578125, -0.0002288818359375, 0.005706787109375, 0.0015716552734375, 0.00054931640625, 0.0093994140625, -0.0050048828125, -0.0096435546875, -0.005126953125, 0.0029296875, 0.01251220703125, -0.01055908203125, 0.004150390625, -0.0042724609375, 0.0042724609375, -0.00238037109375, -0.007415771484375, -0.0023040771484375, 0.00732421875, -0.007537841796875, -8.106231689453125e-05, -0.004486083984375, -0.00726318359375, -0.003875732421875, 0.01336669921875, -0.002899169921875, -0.0006866455078125, 0.0036163330078125, -0.009521484375, 0.00087738037109375, -0.0032958984375, -0.00113677978515625, -0.00457763671875, 0.01055908203125, -0.01031494140625, 0.0015106201171875, -0.00043487548828125, 0.005828857421875, 0.0016937255859375, 0.0018310546875, 0.00112152099609375, -0.01153564453125, 0.004425048828125, 0.005096435546875, -0.0036773681640625, -0.0069580078125, -0.00592041015625, 0.00176239013671875, 0.003814697265625, 0.00543212890625, -0.00311279296875, -0.001739501953125, -0.011474609375, 0.0016632080078125, 0.01348876953125, -0.00029754638671875, -0.01104736328125, 0.00041961669921875, -0.01361083984375, -0.0027618408203125, -0.00537109375, -0.011962890625, -0.007110595703125, -0.006744384765625, 0.0024261474609375, -0.0038604736328125, 0.00885009765625, 0.000762939453125, -0.00885009765625, -0.003997802734375, -0.0054931640625, 0.002105712890625, 0.01239013671875, -0.0045166015625, -0.0016632080078125, 0.002716064453125, 0.00244140625, 0.007781982421875, 0.004974365234375, -0.0028228759765625, -0.013916015625, -0.00262451171875, 0.002166748046875, -0.00341796875, -0.002044677734375, -0.013427734375, 0.00592041015625, 0.000911712646484375, -0.005859375, 0.0126953125, 0.01220703125, 0.002227783203125, 0.005157470703125, -0.00518798828125, 0.00946044921875, -0.00165557861328125, -0.007537841796875, -0.003692626953125, -0.0064697265625, -0.007110595703125, -0.0096435546875, -0.0076904296875, 0.006011962890625, -0.008056640625, 0.002349853515625, -0.000946044921875, -0.0018157958984375, -0.004302978515625, -0.0017852783203125, 0.0034637451171875, -0.006317138671875, 0.004119873046875, 0.0087890625, -0.0023345947265625, -0.00830078125, -0.003387451171875, -0.00201416015625, 0.003662109375, 0.0038299560546875, -0.00653076171875, -0.0015869140625, 0.0107421875, 0.0048828125, 0.006927490234375, -0.0118408203125, 0.0029296875, 0.00177001953125, -0.0032806396484375, -0.00628662109375, -0.0019989013671875, 0.000736236572265625, -0.0006256103515625, -0.0028228759765625, -0.0087890625, -0.0010223388671875, 0.005706787109375, -0.0013427734375, -0.005615234375, 0.003021240234375, -0.005126953125, 0.0030364990234375, -0.007110595703125, -0.00653076171875, -0.00171661376953125, 0.004119873046875, 0.00555419921875, 0.003753662109375, 0.00115966796875, 0.009765625, 0.0048828125, 0.0024566650390625, -0.00091552734375, -0.01177978515625, -0.00164031982421875, 0.006927490234375, -4.76837158203125e-05, -0.0081787109375, 0.002655029296875, 0.00592041015625, -0.002899169921875, -0.01324462890625, -0.005584716796875, 0.0076904296875, -0.001556396484375, 0.004791259765625, 0.000827789306640625, -0.0111083984375, -0.001495361328125, 0.0037841796875, -0.00193023681640625, -0.0001544952392578125, 0.002532958984375, -0.0096435546875, -0.004058837890625, -0.007415771484375, -0.003448486328125, 0.00124359130859375, 0.00064849853515625, 0.00238037109375, 0.0022125244140625, -0.003997802734375, -0.00567626953125, 0.00848388671875, 0.0047607421875, 0.01556396484375, 9.72747802734375e-05, -0.003143310546875, 0.00048828125, 0.006988525390625, 0.017333984375, 0.017333984375, -0.01202392578125, -0.003570556640625, 0.0098876953125, -0.007232666015625, -0.00469970703125, 0.0006561279296875, 0.005126953125, -0.0111083984375, -0.01470947265625, -0.003326416015625, -0.0042724609375, 0.00787353515625, 0.00958251953125, 0.00640869140625, -0.00946044921875, 0.0072021484375, 0.01171875, -0.008544921875, 0.000873565673828125, 0.00616455078125, 0.0007171630859375, 0.0016632080078125, -0.000244140625, 0.0022735595703125, 0.0223388671875, 0.00732421875, 0.00531005859375, -0.000385284423828125, 0.0098876953125, -0.0009002685546875, -0.007720947265625, -0.0036468505859375, 0.003509521484375, 0.00029754638671875, -0.00116729736328125, -0.0008392333984375, -0.00060272216796875, -0.0023193359375, -0.0022430419921875, 0.01141357421875, -0.002105712890625, 0.001800537109375, 0.01239013671875, 0.006072998046875, -0.00970458984375, 0.0016021728515625, 0.006591796875, -0.00225830078125, 0.0135498046875, -0.001373291015625, -0.00421142578125, 0.00555419921875, -0.0023345947265625, -0.0025787353515625, -0.00531005859375, -0.005462646484375, -0.003875732421875, -0.004058837890625, -0.004669189453125, -0.0067138671875, -0.007354736328125, -0.0093994140625, -0.00335693359375, 0.00408935546875, -0.00701904296875, 0.00787353515625, 0.00885009765625, 0.005523681640625, 0.003326416015625, -0.00048828125, -0.002105712890625, -0.0015106201171875, 0.008056640625, 0.01123046875, 0.00093841552734375, 0.00927734375, -0.00077056884765625, 0.0014801025390625, -0.0093994140625, 0.0007171630859375, 0.0006561279296875, 0.0069580078125, 0.01055908203125, 0.0101318359375, 0.0074462890625, 0.0031585693359375, 0.00188446044921875, -0.00048065185546875, -0.0010986328125, -0.00043487548828125, 0.006439208984375, 0.005645751953125, -0.0006866455078125, 0.002593994140625, 0.002288818359375, 0.01007080078125, 0.004302978515625, 0.00066375732421875, 2.288818359375e-05, -0.000293731689453125, -0.0179443359375, -0.00045013427734375, -0.00095367431640625, 0.0150146484375, -0.013427734375, 0.00665283203125, 0.0008392333984375, -0.000850677490234375, -0.004425048828125, 0.003448486328125, -0.000701904296875, -0.0126953125, -4.57763671875e-05, -0.01434326171875, -0.00872802734375, -0.004608154296875, -0.005767822265625, -0.00054168701171875, -0.0120849609375, -0.013916015625, -0.00927734375, -0.007415771484375, 0.0002288818359375, -0.0086669921875, 0.00592041015625, -0.00118255615234375, 0.00141143798828125, -0.0072021484375, -0.0025482177734375, 0.0052490234375, 0.00185394287109375, 0.00177001953125, -0.005462646484375, -0.007354736328125, -0.0014801025390625, 0.0179443359375, -0.0167236328125, -0.004791259765625, -0.00347900390625, -0.0025787353515625, -0.0002689361572265625, 0.006134033203125, 0.0166015625, -0.005706787109375, 0.00958251953125, -0.0013275146484375, -0.009521484375, -0.003814697265625, 0.00634765625, 0.019287109375, -0.000827789306640625, 0.00433349609375, -0.005859375, 0.0048828125, 0.0032806396484375, -0.0079345703125, -0.0026702880859375, -0.0106201171875, -0.00115203857421875, -8.392333984375e-05, -0.00640869140625, 0.00732421875, 0.00408935546875, 0.0185546875, 0.01080322265625, -0.000614166259765625, -0.0008392333984375, 0.015869140625, 0.0035400390625, -0.000698089599609375, -0.006683349609375, 0.002593994140625, -0.00299072265625, -0.005340576171875, -0.003204345703125, -0.000720977783203125, 0.00897216796875, 0.0017242431640625, 0.0091552734375, -0.005767822265625, -0.003692626953125, -0.00933837890625, -8.487701416015625e-05, 0.006195068359375, -0.00069427490234375, -0.002288818359375, 0.0059814453125, 0.00799560546875, -0.00164794921875, 2.288818359375e-05, 0.0034332275390625, -0.0081787109375, -0.0032806396484375, 0.0137939453125, 0.00738525390625, -0.001129150390625, 0.004302978515625, 0.006103515625, -0.00689697265625, 0.00445556640625, -0.003753662109375, 0.004119873046875, 0.01348876953125, 0.005279541015625, 0.00311279296875, -0.0025482177734375, -0.0069580078125, 0.0106201171875, 0.005126953125, -0.003875732421875, -0.0037994384765625, -0.00689697265625, 0.00121307373046875, 0.00616455078125, 0.002044677734375, -0.00823974609375, -0.0030517578125, 0.002960205078125, -0.00201416015625, 0.00592041015625, -0.0010528564453125, -0.00555419921875, -0.00872802734375, 0.0014801025390625, 0.00372314453125, -0.00191497802734375, -0.0011138916015625, -0.004150390625, 0.006622314453125, -0.000492095947265625, 0.0084228515625, -0.0042724609375, 0.000957489013671875, 0.0025787353515625, -0.004730224609375, 0.00494384765625, -0.0012359619140625, -0.006103515625, -0.00860595703125, -0.00408935546875, -0.00250244140625, 0.002655029296875, -0.003265380859375, 0.00115203857421875, 0.00360107421875, -0.005645751953125, 0.01324462890625, 0.00860595703125, 0.005401611328125, 0.002166748046875, 0.0037689208984375, 0.0017852783203125, 0.01177978515625, -0.00701904296875, 0.0023956298828125, 0.001129150390625, 0.005645751953125, 0.002593994140625, -0.006927490234375, -0.008544921875, 0.01123046875, -0.0033111572265625, 0.0019989013671875, -0.01226806640625, 0.00836181640625, -0.0002593994140625, 0.00994873046875, 0.003448486328125, -0.006591796875, 0.00567626953125, -0.01177978515625, 0.00506591796875, 0.01422119140625, -0.00335693359375, -0.00469970703125, -0.005523681640625, 0.002899169921875, -0.002349853515625, 0.00665283203125, 0.004241943359375, 0.0087890625, 0.004119873046875, -0.007568359375, -0.0031585693359375, 0.0087890625, 0.005889892578125, 0.002838134765625, -0.000942230224609375, -0.002655029296875, -6.103515625e-05, 0.00164794921875, 0.00787353515625, 0.003265380859375, 0.0028839111328125, 0.00156402587890625, -0.00262451171875, -0.00787353515625, 0.005523681640625, -0.005096435546875, -0.00897216796875, -0.0030517578125, 0.00555419921875, 0.01080322265625, 0.005828857421875, -0.004608154296875, 0.00677490234375, 0.01153564453125, 0.00157928466796875, -0.00933837890625, -0.0111083984375, 0.0010833740234375, -0.00518798828125, 0.00750732421875, -0.00531005859375, -0.001739501953125, -0.003662109375, 0.0016326904296875, 0.006927490234375, -0.0059814453125, 0.001739501953125, 0.0031280517578125, 0.0050048828125, 0.003997802734375, 0.00830078125, -0.00933837890625, -0.0135498046875, -0.01263427734375, -0.0057373046875, -0.005706787109375, 0.00701904296875, -0.004150390625, -0.0004730224609375, 0.02197265625, -0.002166748046875, 0.00885009765625, -0.006622314453125, 0.00201416015625, 0.00665283203125, 0.0087890625, 0.00634765625, 0.01043701171875, -0.0011444091796875, -0.0003814697265625, -0.00054931640625, 0.0091552734375, 0.00031280517578125, 0.00107574462890625, -0.00518798828125, -0.003387451171875, -0.01239013671875, 0.05517578125, -0.000644683837890625, 0.0050048828125, 0.0157470703125, -0.0030364990234375, -0.00653076171875, 0.00186920166015625, 0.0093994140625, 0.00421142578125, 0.000762939453125, -0.003082275390625, 0.00640869140625, -0.0164794921875, -0.003936767578125, 0.004425048828125, -0.00689697265625, 0.00150299072265625, 0.0009002685546875, -0.0019683837890625, 0.0017852783203125, -0.00341796875, 0.005096435546875, 0.00164031982421875, 0.00830078125, 0.0027923583984375, 0.0057373046875, -0.0001678466796875, 0.00095367431640625, 0.00122833251953125, 0.00323486328125, -0.01202392578125, -0.001434326171875, -0.00185394287109375, -0.00335693359375, 0.00286865234375, 0.00040435791015625, 0.0035858154296875, 0.001220703125, -0.000728607177734375, -0.006927490234375, -0.0033416748046875, 0.0072021484375, 0.00653076171875, 0.000762939453125, -0.005218505859375, -0.0087890625, -0.00885009765625, -0.00115203857421875, 0.00063323974609375, 0.01519775390625, 8.20159912109375e-05, -0.00060272216796875, 0.0045166015625, 0.001556396484375, -0.0015106201171875, 0.00494384765625, -0.007293701171875, 0.01025390625, -0.0120849609375, -0.009765625, -0.002288818359375, 0.0166015625, -0.00518798828125, 0.0031585693359375, -0.0035400390625, -0.001922607421875, -0.05810546875, -0.00144195556640625, 0.01348876953125, 0.006622314453125, -0.00555419921875, 0.0032958984375, 0.00110626220703125, -0.000164031982421875, -0.0042724609375, -0.00531005859375, -0.00787353515625, 0.0026397705078125, 0.005523681640625, -0.0069580078125, -0.0113525390625, 8.96453857421875e-05, -0.0137939453125, -0.0029449462890625, -0.0018768310546875, 0.0030975341796875, 0.0108642578125, 0.036865234375, 0.01116943359375, -0.00927734375, 0.0003795623779296875, -0.0033721923828125, 0.005950927734375, -0.0101318359375, 0.00125885009765625, 0.005645751953125, 0.004638671875, -0.004638671875, -0.00390625, 0.0098876953125, 0.004241943359375, 0.005523681640625, -0.0013427734375, -0.00482177734375, -0.00046539306640625, -0.00616455078125, 0.007568359375, -0.018798828125, 0.003173828125, -0.0059814453125, 0.005706787109375, 0.0081787109375, 0.005401611328125, -0.0081787109375, 0.008544921875, 0.00408935546875, -0.001617431640625, 0.002044677734375, 0.00726318359375, -0.004608154296875, -0.003265380859375, -0.00836181640625, 0.00058746337890625, -0.000835418701171875, -0.00433349609375, -0.0011444091796875, -0.00390625, -0.00970458984375, -0.0029144287109375, 0.00299072265625, 0.0111083984375, 0.0020904541015625]]\n"
          ]
        }
      ]
    },
    {
      "cell_type": "code",
      "execution_count": null,
      "metadata": {
        "id": "qw89YzvdCbAl",
        "colab": {
          "base_uri": "https://localhost:8080/",
          "height": 148,
          "referenced_widgets": [
            "e4498b09a3384789b83d6d82f79d3c28",
            "d2336eb6d627407983df25aedf2ceb3c",
            "05d9e48aa4e241cfaab2d28212144a00",
            "07c5f0e6a62d42eb81c550f3685c0db3",
            "c12de2ab71c44052bdeecfc031e6eddf",
            "f5ba5d86bbf842d0b81859ac8767eb8f",
            "ed841122d8c84864a097b5d7cf45fb6d",
            "a6ac3ec722024a438bcba8119693234b",
            "2083b5e721ca4db0b94a2cbc2236548b",
            "0c2f29be5c75428d9771979994b2cdb2",
            "ba9b7866114d450fa507dd297d905a4a",
            "2d401ba08ae549c296b2563619ac057b",
            "54f66a24cfe74488b0fbef3792cf9098",
            "74d84c901b1b47f984881c75fb90cfcc",
            "caea921f47794a8b99d841c2e5b8eaa4",
            "17d99679122e48398989df37ed0f6c80",
            "af673157583140949f05a5bdb88e782a",
            "47e8e71c120541b1b009bf7f1c6c77e5",
            "22da890534fb4a1bad20d3d0d591fbe8",
            "6e4da58d617845cbb0a20fc23eb5f30b",
            "fa316f99466641e396ce9b9aa3a80f1d",
            "59ab615267d24b8f953d847990b00d86",
            "5c6ff364f8e94991a2e803abfce7e366",
            "5c0a89b14e9e4b91b7fe01a7c7a2304b",
            "1d2bc317d744409a9c504684461663ea",
            "4477187571574c25bb90a64fb475f8a8",
            "2f775fc977344e90a6d7c75f99adc64d",
            "160753b12b6e492a8c754e61ba365fac",
            "3cae07e6e012402c828a0cd3425a1bfe",
            "d43398a2608b490eafd3f4c48d170f6b",
            "6ce8f050906d4a918cb3ded41da56643",
            "6cac436421b64b17825e2384440d7d85",
            "4420e52b75124e98ace0d9611837372a"
          ]
        },
        "outputId": "b3060d0c-d10f-4a9e-c9f1-f7d099aa72bd"
      },
      "outputs": [
        {
          "output_type": "display_data",
          "data": {
            "text/plain": [
              "adapter_model.safetensors:   0%|          | 0.00/793M [00:00<?, ?B/s]"
            ],
            "application/vnd.jupyter.widget-view+json": {
              "version_major": 2,
              "version_minor": 0,
              "model_id": "e4498b09a3384789b83d6d82f79d3c28"
            }
          },
          "metadata": {}
        },
        {
          "output_type": "display_data",
          "data": {
            "text/plain": [
              "Upload 2 LFS files:   0%|          | 0/2 [00:00<?, ?it/s]"
            ],
            "application/vnd.jupyter.widget-view+json": {
              "version_major": 2,
              "version_minor": 0,
              "model_id": "2d401ba08ae549c296b2563619ac057b"
            }
          },
          "metadata": {}
        },
        {
          "output_type": "display_data",
          "data": {
            "text/plain": [
              "events.out.tfevents.1707587399.9c0684bcaa91.1292.0:   0%|          | 0.00/375k [00:00<?, ?B/s]"
            ],
            "application/vnd.jupyter.widget-view+json": {
              "version_major": 2,
              "version_minor": 0,
              "model_id": "5c6ff364f8e94991a2e803abfce7e366"
            }
          },
          "metadata": {}
        },
        {
          "output_type": "execute_result",
          "data": {
            "text/plain": [
              "CommitInfo(commit_url='https://huggingface.co/profoz/sawyer-llama-2/commit/0ff6162ddb5d2c67c00b23ea60b810c20a6630fd', commit_message='End of training', commit_description='', oid='0ff6162ddb5d2c67c00b23ea60b810c20a6630fd', pr_url=None, pr_revision=None, pr_num=None)"
            ],
            "application/vnd.google.colaboratory.intrinsic+json": {
              "type": "string"
            }
          },
          "metadata": {},
          "execution_count": 114
        }
      ],
      "source": [
        "trainer.push_to_hub()"
      ]
    },
    {
      "cell_type": "code",
      "execution_count": null,
      "metadata": {
        "id": "bJIC0-8Z3Jfz",
        "colab": {
          "base_uri": "https://localhost:8080/",
          "height": 52
        },
        "outputId": "99fd8485-169f-4b86-954e-a3ae30b4a5ae"
      },
      "outputs": [
        {
          "output_type": "execute_result",
          "data": {
            "text/plain": [
              "CommitInfo(commit_url='https://huggingface.co/profoz/sawyer-llama-2/commit/32003634796cae5ce31e7c7ed74d7edbb4f80c23', commit_message='Upload tokenizer', commit_description='', oid='32003634796cae5ce31e7c7ed74d7edbb4f80c23', pr_url=None, pr_revision=None, pr_num=None)"
            ],
            "application/vnd.google.colaboratory.intrinsic+json": {
              "type": "string"
            }
          },
          "metadata": {},
          "execution_count": 115
        }
      ],
      "source": [
        "tokenizer.push_to_hub('profoz/sawyer-llama-2')"
      ]
    },
    {
      "cell_type": "code",
      "execution_count": null,
      "metadata": {
        "id": "xZFl7XR4HmB_",
        "colab": {
          "base_uri": "https://localhost:8080/",
          "height": 113,
          "referenced_widgets": [
            "1f483e2f04e8433c87327d2eb064ff9b",
            "9218925ac8c4419dbfdf7f57d9c5865c",
            "ea91841f0f114bb0b4f0c0fe48044a2a",
            "251df41faa0a4245bd3260863581f2e9",
            "5ff072a5c07d49f193b7591925265682",
            "bb5031474051438f8b10cc9a95232143",
            "7d1a0cbc805647108e9e8ffd103b55a6",
            "799815e93c8a4765a4da3599c3995fc6",
            "a315998bc83c48eda7eb1f924eb52366",
            "917699353f164ff18ad6b9adbac73bd9",
            "94cbb51f775c4ec89087314c3b04ceee",
            "9c407d23bc204a20874fade2bf175a5d",
            "ab7c564ad94d4f3b89ebe5549249c012",
            "5334e8e4947c458d87a15ab6a5d48567",
            "03108e9af182471584a6ec67ad1943c8",
            "16042cd752844bb6baf81f2fbc762a88",
            "4a83e929f6a441b28245cd29151d45db",
            "dd1cec9db5f641558dbdb82afca5aab4",
            "3d82d7ae8d7a4dc6adb39d6c986a0782",
            "bc65459e40014f0697d2ad3aa07a36e5",
            "2cd6673393424b5a95a3e13e30ee952c",
            "c1ef448d449d4ab5a1328fe2d176a705",
            "249b55b7f424459e9c2e5c80f6fccd60",
            "deafd490ff2a467d804c8a83e870d73c",
            "d5515c9cdb8b4ed5acc71b488f468158",
            "21c3525042a94c89b2dcfc972446db0f",
            "54120e07b96e4dd1ab990fd336960e72",
            "cfc7a577abbd49a68fef704ba395b9c6",
            "df8d3ebe74a54b958b7e5437448b3415",
            "8c857dd0cdc64dd7aaa7c920fbddf38c",
            "745d4abe7d4641f6a1e4e90ad52ae360",
            "d15fcded09ea4fbda9d09c98d334f877",
            "20342090ec584a3ab4f694ba881cc232"
          ]
        },
        "outputId": "d1368c11-0360-4f6b-94d8-cd10608ea97c"
      },
      "outputs": [
        {
          "output_type": "display_data",
          "data": {
            "text/plain": [
              "Loading checkpoint shards:   0%|          | 0/2 [00:00<?, ?it/s]"
            ],
            "application/vnd.jupyter.widget-view+json": {
              "version_major": 2,
              "version_minor": 0,
              "model_id": "1f483e2f04e8433c87327d2eb064ff9b"
            }
          },
          "metadata": {}
        },
        {
          "output_type": "display_data",
          "data": {
            "text/plain": [
              "adapter_config.json:   0%|          | 0.00/603 [00:00<?, ?B/s]"
            ],
            "application/vnd.jupyter.widget-view+json": {
              "version_major": 2,
              "version_minor": 0,
              "model_id": "9c407d23bc204a20874fade2bf175a5d"
            }
          },
          "metadata": {}
        },
        {
          "output_type": "display_data",
          "data": {
            "text/plain": [
              "adapter_model.safetensors:   0%|          | 0.00/793M [00:00<?, ?B/s]"
            ],
            "application/vnd.jupyter.widget-view+json": {
              "version_major": 2,
              "version_minor": 0,
              "model_id": "249b55b7f424459e9c2e5c80f6fccd60"
            }
          },
          "metadata": {}
        }
      ],
      "source": [
        "# Reload model and merge it with LoRA weights\n",
        "base_model = 'NousResearch/Llama-2-7b-hf'\n",
        "\n",
        "hf_load_model = AutoModelForCausalLM.from_pretrained(\n",
        "    base_model,\n",
        "    low_cpu_mem_usage=True,\n",
        "    return_dict=True,\n",
        "    torch_dtype=torch.bfloat16,\n",
        "    device_map={\"\": 0},\n",
        ")\n",
        "hf_load_model.resize_token_embeddings(len(tokenizer))\n",
        "\n",
        "hf_load_model = PeftModel.from_pretrained(hf_load_model, 'profoz/sawyer-llama-2')\n",
        "\n",
        "hf_load_model = hf_load_model.merge_and_unload()\n"
      ]
    },
    {
      "cell_type": "code",
      "execution_count": null,
      "metadata": {
        "id": "-SSFtailVKC9",
        "colab": {
          "base_uri": "https://localhost:8080/"
        },
        "outputId": "3d968db9-3af2-4ab1-9eb7-c660d5f25464"
      },
      "outputs": [
        {
          "output_type": "execute_result",
          "data": {
            "text/plain": [
              "{'stop_token': {'token': '###STOP###',\n",
              "  'replace_embedding_with': 'stop talking',\n",
              "  'new_embedding': tensor([[-0.0161,  0.0000, -0.0031,  ...,  0.0137, -0.0084, -0.0071]],\n",
              "         device='cuda:0', dtype=torch.bfloat16),\n",
              "  'token_id': 32000},\n",
              " 'human_token': {'token': '###HUMAN###',\n",
              "  'replace_embedding_with': 'The human said:',\n",
              "  'new_embedding': tensor([[-0.0046, -0.0028,  0.0157,  ..., -0.0030,  0.0066,  0.0047]],\n",
              "         device='cuda:0', dtype=torch.bfloat16),\n",
              "  'token_id': 32001},\n",
              " 'bot_token': {'token': '###BOT###',\n",
              "  'replace_embedding_with': 'The assistant said:',\n",
              "  'new_embedding': tensor([[0.0009, 0.0023, 0.0064,  ..., 0.0030, 0.0111, 0.0021]],\n",
              "         device='cuda:0', dtype=torch.bfloat16),\n",
              "  'token_id': 32002}}"
            ]
          },
          "metadata": {},
          "execution_count": 119
        }
      ],
      "source": [
        "EXTRA_TOKENS"
      ]
    },
    {
      "cell_type": "code",
      "execution_count": null,
      "metadata": {
        "id": "vTQbM95WVLyh",
        "colab": {
          "base_uri": "https://localhost:8080/"
        },
        "outputId": "733d8b15-8e24-4413-dd73-07af82924bff"
      },
      "outputs": [
        {
          "output_type": "execute_result",
          "data": {
            "text/plain": [
              "tensor([[True, True, True,  ..., True, True, True],\n",
              "        [True, True, True,  ..., True, True, True],\n",
              "        [True, True, True,  ..., True, True, True],\n",
              "        ...,\n",
              "        [True, True, True,  ..., True, True, True],\n",
              "        [True, True, True,  ..., True, True, True],\n",
              "        [True, True, True,  ..., True, True, True]], device='cuda:0')"
            ]
          },
          "metadata": {},
          "execution_count": 120
        }
      ],
      "source": [
        "model.model.model.embed_tokens.weight.data == hf_load_model.model.embed_tokens.weight.data"
      ]
    },
    {
      "cell_type": "code",
      "execution_count": null,
      "metadata": {
        "id": "n-napedjVPsA",
        "colab": {
          "base_uri": "https://localhost:8080/"
        },
        "outputId": "168246bd-ef4e-4a2d-e36e-3622017221e7"
      },
      "outputs": [
        {
          "output_type": "execute_result",
          "data": {
            "text/plain": [
              "tensor([-0.0046, -0.0028,  0.0157,  ..., -0.0030,  0.0066,  0.0047],\n",
              "       device='cuda:0', dtype=torch.bfloat16)"
            ]
          },
          "metadata": {},
          "execution_count": 121
        }
      ],
      "source": [
        "model.model.model.embed_tokens.weight.data[32001]"
      ]
    },
    {
      "cell_type": "code",
      "execution_count": null,
      "metadata": {
        "id": "f5lIbxuDVPqE",
        "colab": {
          "base_uri": "https://localhost:8080/"
        },
        "outputId": "5e6e9a34-2fb1-4aac-bf53-6edc499503d7"
      },
      "outputs": [
        {
          "output_type": "execute_result",
          "data": {
            "text/plain": [
              "tensor([-0.0046, -0.0028,  0.0157,  ..., -0.0030,  0.0066,  0.0047],\n",
              "       device='cuda:0', dtype=torch.bfloat16)"
            ]
          },
          "metadata": {},
          "execution_count": 122
        }
      ],
      "source": [
        "hf_load_model.model.embed_tokens.weight.data[32001]"
      ]
    },
    {
      "cell_type": "code",
      "execution_count": null,
      "metadata": {
        "id": "wUFKTonnVPn5",
        "colab": {
          "base_uri": "https://localhost:8080/"
        },
        "outputId": "f26106ba-2128-4bca-d893-735a88f1c733"
      },
      "outputs": [
        {
          "output_type": "stream",
          "name": "stdout",
          "text": [
            "32000 tensor([[-0.0161,  0.0000, -0.0031,  ...,  0.0137, -0.0084, -0.0071]],\n",
            "       device='cuda:0', dtype=torch.bfloat16)\n",
            "32001 tensor([[-0.0046, -0.0028,  0.0157,  ..., -0.0030,  0.0066,  0.0047]],\n",
            "       device='cuda:0', dtype=torch.bfloat16)\n",
            "32002 tensor([[0.0009, 0.0023, 0.0064,  ..., 0.0030, 0.0111, 0.0021]],\n",
            "       device='cuda:0', dtype=torch.bfloat16)\n"
          ]
        }
      ],
      "source": [
        "for extra_token, token_info in EXTRA_TOKENS.items():\n",
        "    print(token_info['token_id'], token_info['new_embedding'].clone().to(torch.bfloat16)[:5])\n",
        "    hf_load_model.model.embed_tokens.weight.data[token_info['token_id']] = token_info['new_embedding'].clone().to(torch.bfloat16)"
      ]
    },
    {
      "cell_type": "code",
      "execution_count": null,
      "metadata": {
        "id": "IdoK5HkmVPhL",
        "colab": {
          "base_uri": "https://localhost:8080/"
        },
        "outputId": "1865001d-2bbb-402e-b979-58b7ca98b6fc"
      },
      "outputs": [
        {
          "output_type": "execute_result",
          "data": {
            "text/plain": [
              "tensor([-0.0046, -0.0028,  0.0157,  ..., -0.0030,  0.0066,  0.0047],\n",
              "       device='cuda:0', dtype=torch.bfloat16)"
            ]
          },
          "metadata": {},
          "execution_count": 124
        }
      ],
      "source": [
        "hf_load_model.model.embed_tokens.weight.data[32001]"
      ]
    },
    {
      "cell_type": "code",
      "execution_count": null,
      "metadata": {
        "id": "QDu4w5NUBsYF",
        "colab": {
          "base_uri": "https://localhost:8080/"
        },
        "outputId": "b0368420-73f6-45ea-8f27-de79733babb5"
      },
      "outputs": [
        {
          "output_type": "execute_result",
          "data": {
            "text/plain": [
              "tensor([-0.0046, -0.0028,  0.0157,  ..., -0.0030,  0.0066,  0.0047],\n",
              "       device='cuda:0', dtype=torch.bfloat16)"
            ]
          },
          "metadata": {},
          "execution_count": 125
        }
      ],
      "source": [
        "hf_load_model.model.embed_tokens.weight.data[32001]"
      ]
    },
    {
      "cell_type": "code",
      "execution_count": null,
      "metadata": {
        "id": "a41u8uj8VUlm",
        "colab": {
          "base_uri": "https://localhost:8080/"
        },
        "outputId": "e6532606-b33e-4070-9b45-c7017106ae44"
      },
      "outputs": [
        {
          "output_type": "execute_result",
          "data": {
            "text/plain": [
              "tensor([[True, True, True,  ..., True, True, True],\n",
              "        [True, True, True,  ..., True, True, True],\n",
              "        [True, True, True,  ..., True, True, True],\n",
              "        ...,\n",
              "        [True, True, True,  ..., True, True, True],\n",
              "        [True, True, True,  ..., True, True, True],\n",
              "        [True, True, True,  ..., True, True, True]], device='cuda:0')"
            ]
          },
          "metadata": {},
          "execution_count": 126
        }
      ],
      "source": [
        "model.model.model.embed_tokens.weight.data == hf_load_model.model.embed_tokens.weight.data"
      ]
    },
    {
      "cell_type": "code",
      "execution_count": null,
      "metadata": {
        "id": "Gd5RbNb72MvG",
        "colab": {
          "base_uri": "https://localhost:8080/",
          "height": 89
        },
        "outputId": "97c19c4c-2a56-446b-dcd5-afee6042027e"
      },
      "outputs": [
        {
          "output_type": "stream",
          "name": "stderr",
          "text": [
            "/usr/local/lib/python3.10/dist-packages/transformers/generation/utils.py:1473: UserWarning: You have modified the pretrained model configuration to control generation. This is a deprecated strategy to control generation and will be removed soon, in a future version. Please use and modify the model generation configuration (see https://huggingface.co/docs/transformers/generation_strategies#default-text-generation-configuration )\n",
            "  warnings.warn(\n"
          ]
        },
        {
          "output_type": "execute_result",
          "data": {
            "text/plain": [
              "'<s>###HUMAN### Who was the first president of the USA?###BOT### George Washington.###STOP###'"
            ],
            "application/vnd.google.colaboratory.intrinsic+json": {
              "type": "string"
            }
          },
          "metadata": {},
          "execution_count": 127
        }
      ],
      "source": [
        "# the model we just trained (not the one we are about to de-serialize)\n",
        "tokenizer.decode(\n",
        "    hf_load_model.generate(\n",
        "        **tokenizer(join_convo([['human', \"Who was the first president of the USA?\"]]), return_tensors='pt').to(0),\n",
        "        max_length=64,\n",
        "        eos_token_id=EXTRA_TOKENS['stop_token']['token_id']\n",
        "        )[0]\n",
        "    )"
      ]
    },
    {
      "cell_type": "code",
      "execution_count": null,
      "metadata": {
        "id": "qYN8Brupj9bL"
      },
      "outputs": [],
      "source": [
        "def generate_text(conversation, model, **kwargs):\n",
        "    prompt = join_convo(conversation)\n",
        "    return tokenizer.decode(\n",
        "        model.generate(\n",
        "            **tokenizer(prompt, return_tensors='pt').to(model.device),\n",
        "            max_length=128,\n",
        "            eos_token_id=EXTRA_TOKENS['stop_token']['token_id'],\n",
        "            **kwargs\n",
        "            )[0],\n",
        "        skip_special_tokens=True,\n",
        "        )"
      ]
    },
    {
      "cell_type": "code",
      "execution_count": null,
      "metadata": {
        "id": "yejdyInLmVFB",
        "colab": {
          "base_uri": "https://localhost:8080/"
        },
        "outputId": "0b6b813f-5111-4dc9-af62-8583490d346e"
      },
      "outputs": [
        {
          "output_type": "stream",
          "name": "stdout",
          "text": [
            "###HUMAN### Who was the first president of the USA?###BOT### George Washington.###STOP###\n"
          ]
        }
      ],
      "source": [
        "# the model we just trained (not the one we are about to de-serialize)\n",
        "print(generate_text(\n",
        "    [['human', \"Who was the first president of the USA?\"]],\n",
        "    model\n",
        "))"
      ]
    },
    {
      "cell_type": "code",
      "execution_count": null,
      "metadata": {
        "id": "hu3t-Ibfrly2",
        "colab": {
          "base_uri": "https://localhost:8080/"
        },
        "outputId": "0f51575c-7808-4564-fde3-3916cff44b9e"
      },
      "outputs": [
        {
          "output_type": "stream",
          "name": "stdout",
          "text": [
            "###HUMAN### Who was the first president of the USA?###BOT### George Washington.###STOP###\n"
          ]
        }
      ],
      "source": [
        "# we want this to be about the same.\n",
        "print(generate_text(\n",
        "    [['human', \"Who was the first president of the USA?\"]],\n",
        "    hf_load_model\n",
        "))"
      ]
    },
    {
      "cell_type": "code",
      "execution_count": null,
      "metadata": {
        "id": "RUj5-BS3Ac3v",
        "colab": {
          "base_uri": "https://localhost:8080/"
        },
        "outputId": "c7bc0643-b82d-49dc-ff8b-21af4c5b789b"
      },
      "outputs": [
        {
          "output_type": "stream",
          "name": "stdout",
          "text": [
            "###HUMAN### Hey there###BOT### Hello! How can I help you today?###STOP###\n"
          ]
        }
      ],
      "source": [
        "# we want this to be about the same.\n",
        "print(generate_text(\n",
        "    [['human', \"Hey there\"]],\n",
        "    hf_load_model\n",
        "))"
      ]
    }
  ],
  "metadata": {
    "accelerator": "GPU",
    "colab": {
      "collapsed_sections": [
        "O4SCUZbtVAwQ"
      ],
      "gpuType": "A100",
      "machine_shape": "hm",
      "provenance": [],
      "include_colab_link": true
    },
    "kernelspec": {
      "display_name": "Python 3",
      "name": "python3"
    },
    "language_info": {
      "codemirror_mode": {
        "name": "ipython",
        "version": 3
      },
      "file_extension": ".py",
      "mimetype": "text/x-python",
      "name": "python",
      "nbconvert_exporter": "python",
      "pygments_lexer": "ipython3",
      "version": "3.10.13"
    },
    "widgets": {
      "application/vnd.jupyter.widget-state+json": {
        "332242488dc0489b98af3440f7979bcb": {
          "model_module": "@jupyter-widgets/controls",
          "model_name": "HBoxModel",
          "model_module_version": "1.5.0",
          "state": {
            "_dom_classes": [],
            "_model_module": "@jupyter-widgets/controls",
            "_model_module_version": "1.5.0",
            "_model_name": "HBoxModel",
            "_view_count": null,
            "_view_module": "@jupyter-widgets/controls",
            "_view_module_version": "1.5.0",
            "_view_name": "HBoxView",
            "box_style": "",
            "children": [
              "IPY_MODEL_ffca8c0d410e40838655a946b658ac6c",
              "IPY_MODEL_2e192d12c0e74ee6a7aa0a8151eea83f",
              "IPY_MODEL_a9cc9d8de0da421695350037637b6f59"
            ],
            "layout": "IPY_MODEL_e6dd55f6de414dd2ae2e44cefe181655"
          }
        },
        "ffca8c0d410e40838655a946b658ac6c": {
          "model_module": "@jupyter-widgets/controls",
          "model_name": "HTMLModel",
          "model_module_version": "1.5.0",
          "state": {
            "_dom_classes": [],
            "_model_module": "@jupyter-widgets/controls",
            "_model_module_version": "1.5.0",
            "_model_name": "HTMLModel",
            "_view_count": null,
            "_view_module": "@jupyter-widgets/controls",
            "_view_module_version": "1.5.0",
            "_view_name": "HTMLView",
            "description": "",
            "description_tooltip": null,
            "layout": "IPY_MODEL_1d3357016fb34155b62a114dac3c6889",
            "placeholder": "​",
            "style": "IPY_MODEL_03cf0114a4674598ad973e7125209c1d",
            "value": "tokenizer_config.json: 100%"
          }
        },
        "2e192d12c0e74ee6a7aa0a8151eea83f": {
          "model_module": "@jupyter-widgets/controls",
          "model_name": "FloatProgressModel",
          "model_module_version": "1.5.0",
          "state": {
            "_dom_classes": [],
            "_model_module": "@jupyter-widgets/controls",
            "_model_module_version": "1.5.0",
            "_model_name": "FloatProgressModel",
            "_view_count": null,
            "_view_module": "@jupyter-widgets/controls",
            "_view_module_version": "1.5.0",
            "_view_name": "ProgressView",
            "bar_style": "success",
            "description": "",
            "description_tooltip": null,
            "layout": "IPY_MODEL_786c845e771a46dda5a2cf7b6cb9e236",
            "max": 746,
            "min": 0,
            "orientation": "horizontal",
            "style": "IPY_MODEL_bf51eb77d268469eab4beecbe2aa11ba",
            "value": 746
          }
        },
        "a9cc9d8de0da421695350037637b6f59": {
          "model_module": "@jupyter-widgets/controls",
          "model_name": "HTMLModel",
          "model_module_version": "1.5.0",
          "state": {
            "_dom_classes": [],
            "_model_module": "@jupyter-widgets/controls",
            "_model_module_version": "1.5.0",
            "_model_name": "HTMLModel",
            "_view_count": null,
            "_view_module": "@jupyter-widgets/controls",
            "_view_module_version": "1.5.0",
            "_view_name": "HTMLView",
            "description": "",
            "description_tooltip": null,
            "layout": "IPY_MODEL_75c1cd111b77447abc7bd3897d2fe361",
            "placeholder": "​",
            "style": "IPY_MODEL_852b9c51a4bf4dee851ee9860449f6e5",
            "value": " 746/746 [00:00&lt;00:00, 63.5kB/s]"
          }
        },
        "e6dd55f6de414dd2ae2e44cefe181655": {
          "model_module": "@jupyter-widgets/base",
          "model_name": "LayoutModel",
          "model_module_version": "1.2.0",
          "state": {
            "_model_module": "@jupyter-widgets/base",
            "_model_module_version": "1.2.0",
            "_model_name": "LayoutModel",
            "_view_count": null,
            "_view_module": "@jupyter-widgets/base",
            "_view_module_version": "1.2.0",
            "_view_name": "LayoutView",
            "align_content": null,
            "align_items": null,
            "align_self": null,
            "border": null,
            "bottom": null,
            "display": null,
            "flex": null,
            "flex_flow": null,
            "grid_area": null,
            "grid_auto_columns": null,
            "grid_auto_flow": null,
            "grid_auto_rows": null,
            "grid_column": null,
            "grid_gap": null,
            "grid_row": null,
            "grid_template_areas": null,
            "grid_template_columns": null,
            "grid_template_rows": null,
            "height": null,
            "justify_content": null,
            "justify_items": null,
            "left": null,
            "margin": null,
            "max_height": null,
            "max_width": null,
            "min_height": null,
            "min_width": null,
            "object_fit": null,
            "object_position": null,
            "order": null,
            "overflow": null,
            "overflow_x": null,
            "overflow_y": null,
            "padding": null,
            "right": null,
            "top": null,
            "visibility": null,
            "width": null
          }
        },
        "1d3357016fb34155b62a114dac3c6889": {
          "model_module": "@jupyter-widgets/base",
          "model_name": "LayoutModel",
          "model_module_version": "1.2.0",
          "state": {
            "_model_module": "@jupyter-widgets/base",
            "_model_module_version": "1.2.0",
            "_model_name": "LayoutModel",
            "_view_count": null,
            "_view_module": "@jupyter-widgets/base",
            "_view_module_version": "1.2.0",
            "_view_name": "LayoutView",
            "align_content": null,
            "align_items": null,
            "align_self": null,
            "border": null,
            "bottom": null,
            "display": null,
            "flex": null,
            "flex_flow": null,
            "grid_area": null,
            "grid_auto_columns": null,
            "grid_auto_flow": null,
            "grid_auto_rows": null,
            "grid_column": null,
            "grid_gap": null,
            "grid_row": null,
            "grid_template_areas": null,
            "grid_template_columns": null,
            "grid_template_rows": null,
            "height": null,
            "justify_content": null,
            "justify_items": null,
            "left": null,
            "margin": null,
            "max_height": null,
            "max_width": null,
            "min_height": null,
            "min_width": null,
            "object_fit": null,
            "object_position": null,
            "order": null,
            "overflow": null,
            "overflow_x": null,
            "overflow_y": null,
            "padding": null,
            "right": null,
            "top": null,
            "visibility": null,
            "width": null
          }
        },
        "03cf0114a4674598ad973e7125209c1d": {
          "model_module": "@jupyter-widgets/controls",
          "model_name": "DescriptionStyleModel",
          "model_module_version": "1.5.0",
          "state": {
            "_model_module": "@jupyter-widgets/controls",
            "_model_module_version": "1.5.0",
            "_model_name": "DescriptionStyleModel",
            "_view_count": null,
            "_view_module": "@jupyter-widgets/base",
            "_view_module_version": "1.2.0",
            "_view_name": "StyleView",
            "description_width": ""
          }
        },
        "786c845e771a46dda5a2cf7b6cb9e236": {
          "model_module": "@jupyter-widgets/base",
          "model_name": "LayoutModel",
          "model_module_version": "1.2.0",
          "state": {
            "_model_module": "@jupyter-widgets/base",
            "_model_module_version": "1.2.0",
            "_model_name": "LayoutModel",
            "_view_count": null,
            "_view_module": "@jupyter-widgets/base",
            "_view_module_version": "1.2.0",
            "_view_name": "LayoutView",
            "align_content": null,
            "align_items": null,
            "align_self": null,
            "border": null,
            "bottom": null,
            "display": null,
            "flex": null,
            "flex_flow": null,
            "grid_area": null,
            "grid_auto_columns": null,
            "grid_auto_flow": null,
            "grid_auto_rows": null,
            "grid_column": null,
            "grid_gap": null,
            "grid_row": null,
            "grid_template_areas": null,
            "grid_template_columns": null,
            "grid_template_rows": null,
            "height": null,
            "justify_content": null,
            "justify_items": null,
            "left": null,
            "margin": null,
            "max_height": null,
            "max_width": null,
            "min_height": null,
            "min_width": null,
            "object_fit": null,
            "object_position": null,
            "order": null,
            "overflow": null,
            "overflow_x": null,
            "overflow_y": null,
            "padding": null,
            "right": null,
            "top": null,
            "visibility": null,
            "width": null
          }
        },
        "bf51eb77d268469eab4beecbe2aa11ba": {
          "model_module": "@jupyter-widgets/controls",
          "model_name": "ProgressStyleModel",
          "model_module_version": "1.5.0",
          "state": {
            "_model_module": "@jupyter-widgets/controls",
            "_model_module_version": "1.5.0",
            "_model_name": "ProgressStyleModel",
            "_view_count": null,
            "_view_module": "@jupyter-widgets/base",
            "_view_module_version": "1.2.0",
            "_view_name": "StyleView",
            "bar_color": null,
            "description_width": ""
          }
        },
        "75c1cd111b77447abc7bd3897d2fe361": {
          "model_module": "@jupyter-widgets/base",
          "model_name": "LayoutModel",
          "model_module_version": "1.2.0",
          "state": {
            "_model_module": "@jupyter-widgets/base",
            "_model_module_version": "1.2.0",
            "_model_name": "LayoutModel",
            "_view_count": null,
            "_view_module": "@jupyter-widgets/base",
            "_view_module_version": "1.2.0",
            "_view_name": "LayoutView",
            "align_content": null,
            "align_items": null,
            "align_self": null,
            "border": null,
            "bottom": null,
            "display": null,
            "flex": null,
            "flex_flow": null,
            "grid_area": null,
            "grid_auto_columns": null,
            "grid_auto_flow": null,
            "grid_auto_rows": null,
            "grid_column": null,
            "grid_gap": null,
            "grid_row": null,
            "grid_template_areas": null,
            "grid_template_columns": null,
            "grid_template_rows": null,
            "height": null,
            "justify_content": null,
            "justify_items": null,
            "left": null,
            "margin": null,
            "max_height": null,
            "max_width": null,
            "min_height": null,
            "min_width": null,
            "object_fit": null,
            "object_position": null,
            "order": null,
            "overflow": null,
            "overflow_x": null,
            "overflow_y": null,
            "padding": null,
            "right": null,
            "top": null,
            "visibility": null,
            "width": null
          }
        },
        "852b9c51a4bf4dee851ee9860449f6e5": {
          "model_module": "@jupyter-widgets/controls",
          "model_name": "DescriptionStyleModel",
          "model_module_version": "1.5.0",
          "state": {
            "_model_module": "@jupyter-widgets/controls",
            "_model_module_version": "1.5.0",
            "_model_name": "DescriptionStyleModel",
            "_view_count": null,
            "_view_module": "@jupyter-widgets/base",
            "_view_module_version": "1.2.0",
            "_view_name": "StyleView",
            "description_width": ""
          }
        },
        "c03d5c6242124b819037af6fada29232": {
          "model_module": "@jupyter-widgets/controls",
          "model_name": "HBoxModel",
          "model_module_version": "1.5.0",
          "state": {
            "_dom_classes": [],
            "_model_module": "@jupyter-widgets/controls",
            "_model_module_version": "1.5.0",
            "_model_name": "HBoxModel",
            "_view_count": null,
            "_view_module": "@jupyter-widgets/controls",
            "_view_module_version": "1.5.0",
            "_view_name": "HBoxView",
            "box_style": "",
            "children": [
              "IPY_MODEL_633ccabd8c054a93a1167b39cb21a006",
              "IPY_MODEL_13cf8de94978468c9cd412a94c6bb30d",
              "IPY_MODEL_c527df87fc094b3b80ccd82c70e0001d"
            ],
            "layout": "IPY_MODEL_688a373147b94c0a9ad68ee220816132"
          }
        },
        "633ccabd8c054a93a1167b39cb21a006": {
          "model_module": "@jupyter-widgets/controls",
          "model_name": "HTMLModel",
          "model_module_version": "1.5.0",
          "state": {
            "_dom_classes": [],
            "_model_module": "@jupyter-widgets/controls",
            "_model_module_version": "1.5.0",
            "_model_name": "HTMLModel",
            "_view_count": null,
            "_view_module": "@jupyter-widgets/controls",
            "_view_module_version": "1.5.0",
            "_view_name": "HTMLView",
            "description": "",
            "description_tooltip": null,
            "layout": "IPY_MODEL_9b53c84ca2d1485f84b7ee18c7cc57e5",
            "placeholder": "​",
            "style": "IPY_MODEL_0517e3f334764837a741ed8125c59124",
            "value": "tokenizer.model: 100%"
          }
        },
        "13cf8de94978468c9cd412a94c6bb30d": {
          "model_module": "@jupyter-widgets/controls",
          "model_name": "FloatProgressModel",
          "model_module_version": "1.5.0",
          "state": {
            "_dom_classes": [],
            "_model_module": "@jupyter-widgets/controls",
            "_model_module_version": "1.5.0",
            "_model_name": "FloatProgressModel",
            "_view_count": null,
            "_view_module": "@jupyter-widgets/controls",
            "_view_module_version": "1.5.0",
            "_view_name": "ProgressView",
            "bar_style": "success",
            "description": "",
            "description_tooltip": null,
            "layout": "IPY_MODEL_cbaa98cc93d44e0f80fff44a5b418350",
            "max": 499723,
            "min": 0,
            "orientation": "horizontal",
            "style": "IPY_MODEL_40900c8dcf564cacadc46a1c3aa21344",
            "value": 499723
          }
        },
        "c527df87fc094b3b80ccd82c70e0001d": {
          "model_module": "@jupyter-widgets/controls",
          "model_name": "HTMLModel",
          "model_module_version": "1.5.0",
          "state": {
            "_dom_classes": [],
            "_model_module": "@jupyter-widgets/controls",
            "_model_module_version": "1.5.0",
            "_model_name": "HTMLModel",
            "_view_count": null,
            "_view_module": "@jupyter-widgets/controls",
            "_view_module_version": "1.5.0",
            "_view_name": "HTMLView",
            "description": "",
            "description_tooltip": null,
            "layout": "IPY_MODEL_5dc220a94090409e9c1c566a9ebace4f",
            "placeholder": "​",
            "style": "IPY_MODEL_fc16cb17f6be4a53b330e3d6641d8ce1",
            "value": " 500k/500k [00:00&lt;00:00, 19.3MB/s]"
          }
        },
        "688a373147b94c0a9ad68ee220816132": {
          "model_module": "@jupyter-widgets/base",
          "model_name": "LayoutModel",
          "model_module_version": "1.2.0",
          "state": {
            "_model_module": "@jupyter-widgets/base",
            "_model_module_version": "1.2.0",
            "_model_name": "LayoutModel",
            "_view_count": null,
            "_view_module": "@jupyter-widgets/base",
            "_view_module_version": "1.2.0",
            "_view_name": "LayoutView",
            "align_content": null,
            "align_items": null,
            "align_self": null,
            "border": null,
            "bottom": null,
            "display": null,
            "flex": null,
            "flex_flow": null,
            "grid_area": null,
            "grid_auto_columns": null,
            "grid_auto_flow": null,
            "grid_auto_rows": null,
            "grid_column": null,
            "grid_gap": null,
            "grid_row": null,
            "grid_template_areas": null,
            "grid_template_columns": null,
            "grid_template_rows": null,
            "height": null,
            "justify_content": null,
            "justify_items": null,
            "left": null,
            "margin": null,
            "max_height": null,
            "max_width": null,
            "min_height": null,
            "min_width": null,
            "object_fit": null,
            "object_position": null,
            "order": null,
            "overflow": null,
            "overflow_x": null,
            "overflow_y": null,
            "padding": null,
            "right": null,
            "top": null,
            "visibility": null,
            "width": null
          }
        },
        "9b53c84ca2d1485f84b7ee18c7cc57e5": {
          "model_module": "@jupyter-widgets/base",
          "model_name": "LayoutModel",
          "model_module_version": "1.2.0",
          "state": {
            "_model_module": "@jupyter-widgets/base",
            "_model_module_version": "1.2.0",
            "_model_name": "LayoutModel",
            "_view_count": null,
            "_view_module": "@jupyter-widgets/base",
            "_view_module_version": "1.2.0",
            "_view_name": "LayoutView",
            "align_content": null,
            "align_items": null,
            "align_self": null,
            "border": null,
            "bottom": null,
            "display": null,
            "flex": null,
            "flex_flow": null,
            "grid_area": null,
            "grid_auto_columns": null,
            "grid_auto_flow": null,
            "grid_auto_rows": null,
            "grid_column": null,
            "grid_gap": null,
            "grid_row": null,
            "grid_template_areas": null,
            "grid_template_columns": null,
            "grid_template_rows": null,
            "height": null,
            "justify_content": null,
            "justify_items": null,
            "left": null,
            "margin": null,
            "max_height": null,
            "max_width": null,
            "min_height": null,
            "min_width": null,
            "object_fit": null,
            "object_position": null,
            "order": null,
            "overflow": null,
            "overflow_x": null,
            "overflow_y": null,
            "padding": null,
            "right": null,
            "top": null,
            "visibility": null,
            "width": null
          }
        },
        "0517e3f334764837a741ed8125c59124": {
          "model_module": "@jupyter-widgets/controls",
          "model_name": "DescriptionStyleModel",
          "model_module_version": "1.5.0",
          "state": {
            "_model_module": "@jupyter-widgets/controls",
            "_model_module_version": "1.5.0",
            "_model_name": "DescriptionStyleModel",
            "_view_count": null,
            "_view_module": "@jupyter-widgets/base",
            "_view_module_version": "1.2.0",
            "_view_name": "StyleView",
            "description_width": ""
          }
        },
        "cbaa98cc93d44e0f80fff44a5b418350": {
          "model_module": "@jupyter-widgets/base",
          "model_name": "LayoutModel",
          "model_module_version": "1.2.0",
          "state": {
            "_model_module": "@jupyter-widgets/base",
            "_model_module_version": "1.2.0",
            "_model_name": "LayoutModel",
            "_view_count": null,
            "_view_module": "@jupyter-widgets/base",
            "_view_module_version": "1.2.0",
            "_view_name": "LayoutView",
            "align_content": null,
            "align_items": null,
            "align_self": null,
            "border": null,
            "bottom": null,
            "display": null,
            "flex": null,
            "flex_flow": null,
            "grid_area": null,
            "grid_auto_columns": null,
            "grid_auto_flow": null,
            "grid_auto_rows": null,
            "grid_column": null,
            "grid_gap": null,
            "grid_row": null,
            "grid_template_areas": null,
            "grid_template_columns": null,
            "grid_template_rows": null,
            "height": null,
            "justify_content": null,
            "justify_items": null,
            "left": null,
            "margin": null,
            "max_height": null,
            "max_width": null,
            "min_height": null,
            "min_width": null,
            "object_fit": null,
            "object_position": null,
            "order": null,
            "overflow": null,
            "overflow_x": null,
            "overflow_y": null,
            "padding": null,
            "right": null,
            "top": null,
            "visibility": null,
            "width": null
          }
        },
        "40900c8dcf564cacadc46a1c3aa21344": {
          "model_module": "@jupyter-widgets/controls",
          "model_name": "ProgressStyleModel",
          "model_module_version": "1.5.0",
          "state": {
            "_model_module": "@jupyter-widgets/controls",
            "_model_module_version": "1.5.0",
            "_model_name": "ProgressStyleModel",
            "_view_count": null,
            "_view_module": "@jupyter-widgets/base",
            "_view_module_version": "1.2.0",
            "_view_name": "StyleView",
            "bar_color": null,
            "description_width": ""
          }
        },
        "5dc220a94090409e9c1c566a9ebace4f": {
          "model_module": "@jupyter-widgets/base",
          "model_name": "LayoutModel",
          "model_module_version": "1.2.0",
          "state": {
            "_model_module": "@jupyter-widgets/base",
            "_model_module_version": "1.2.0",
            "_model_name": "LayoutModel",
            "_view_count": null,
            "_view_module": "@jupyter-widgets/base",
            "_view_module_version": "1.2.0",
            "_view_name": "LayoutView",
            "align_content": null,
            "align_items": null,
            "align_self": null,
            "border": null,
            "bottom": null,
            "display": null,
            "flex": null,
            "flex_flow": null,
            "grid_area": null,
            "grid_auto_columns": null,
            "grid_auto_flow": null,
            "grid_auto_rows": null,
            "grid_column": null,
            "grid_gap": null,
            "grid_row": null,
            "grid_template_areas": null,
            "grid_template_columns": null,
            "grid_template_rows": null,
            "height": null,
            "justify_content": null,
            "justify_items": null,
            "left": null,
            "margin": null,
            "max_height": null,
            "max_width": null,
            "min_height": null,
            "min_width": null,
            "object_fit": null,
            "object_position": null,
            "order": null,
            "overflow": null,
            "overflow_x": null,
            "overflow_y": null,
            "padding": null,
            "right": null,
            "top": null,
            "visibility": null,
            "width": null
          }
        },
        "fc16cb17f6be4a53b330e3d6641d8ce1": {
          "model_module": "@jupyter-widgets/controls",
          "model_name": "DescriptionStyleModel",
          "model_module_version": "1.5.0",
          "state": {
            "_model_module": "@jupyter-widgets/controls",
            "_model_module_version": "1.5.0",
            "_model_name": "DescriptionStyleModel",
            "_view_count": null,
            "_view_module": "@jupyter-widgets/base",
            "_view_module_version": "1.2.0",
            "_view_name": "StyleView",
            "description_width": ""
          }
        },
        "b520433713554dad9eac9acf37ae2fe3": {
          "model_module": "@jupyter-widgets/controls",
          "model_name": "HBoxModel",
          "model_module_version": "1.5.0",
          "state": {
            "_dom_classes": [],
            "_model_module": "@jupyter-widgets/controls",
            "_model_module_version": "1.5.0",
            "_model_name": "HBoxModel",
            "_view_count": null,
            "_view_module": "@jupyter-widgets/controls",
            "_view_module_version": "1.5.0",
            "_view_name": "HBoxView",
            "box_style": "",
            "children": [
              "IPY_MODEL_702c69cd8793423489f0961649f92152",
              "IPY_MODEL_f0cc413e274449a19e27ded510122467",
              "IPY_MODEL_9ea2daae15e2451788db0a21aef8b153"
            ],
            "layout": "IPY_MODEL_e4f20bfcce4e423d91dd1e2cac817aff"
          }
        },
        "702c69cd8793423489f0961649f92152": {
          "model_module": "@jupyter-widgets/controls",
          "model_name": "HTMLModel",
          "model_module_version": "1.5.0",
          "state": {
            "_dom_classes": [],
            "_model_module": "@jupyter-widgets/controls",
            "_model_module_version": "1.5.0",
            "_model_name": "HTMLModel",
            "_view_count": null,
            "_view_module": "@jupyter-widgets/controls",
            "_view_module_version": "1.5.0",
            "_view_name": "HTMLView",
            "description": "",
            "description_tooltip": null,
            "layout": "IPY_MODEL_fa3c66a44185409a832813548f804fd1",
            "placeholder": "​",
            "style": "IPY_MODEL_d1382bd28ba549478924fbefed30fa58",
            "value": "tokenizer.json: 100%"
          }
        },
        "f0cc413e274449a19e27ded510122467": {
          "model_module": "@jupyter-widgets/controls",
          "model_name": "FloatProgressModel",
          "model_module_version": "1.5.0",
          "state": {
            "_dom_classes": [],
            "_model_module": "@jupyter-widgets/controls",
            "_model_module_version": "1.5.0",
            "_model_name": "FloatProgressModel",
            "_view_count": null,
            "_view_module": "@jupyter-widgets/controls",
            "_view_module_version": "1.5.0",
            "_view_name": "ProgressView",
            "bar_style": "success",
            "description": "",
            "description_tooltip": null,
            "layout": "IPY_MODEL_62fc3cf6f1dd43b291c726f9a4a59580",
            "max": 1842764,
            "min": 0,
            "orientation": "horizontal",
            "style": "IPY_MODEL_e8f7dffcc1194932900ddbfcd75cb3ff",
            "value": 1842764
          }
        },
        "9ea2daae15e2451788db0a21aef8b153": {
          "model_module": "@jupyter-widgets/controls",
          "model_name": "HTMLModel",
          "model_module_version": "1.5.0",
          "state": {
            "_dom_classes": [],
            "_model_module": "@jupyter-widgets/controls",
            "_model_module_version": "1.5.0",
            "_model_name": "HTMLModel",
            "_view_count": null,
            "_view_module": "@jupyter-widgets/controls",
            "_view_module_version": "1.5.0",
            "_view_name": "HTMLView",
            "description": "",
            "description_tooltip": null,
            "layout": "IPY_MODEL_1249a3200f9c463a96ff3de3043d03c1",
            "placeholder": "​",
            "style": "IPY_MODEL_dda96b108e5b4ede946acfe8865a2043",
            "value": " 1.84M/1.84M [00:01&lt;00:00, 1.51MB/s]"
          }
        },
        "e4f20bfcce4e423d91dd1e2cac817aff": {
          "model_module": "@jupyter-widgets/base",
          "model_name": "LayoutModel",
          "model_module_version": "1.2.0",
          "state": {
            "_model_module": "@jupyter-widgets/base",
            "_model_module_version": "1.2.0",
            "_model_name": "LayoutModel",
            "_view_count": null,
            "_view_module": "@jupyter-widgets/base",
            "_view_module_version": "1.2.0",
            "_view_name": "LayoutView",
            "align_content": null,
            "align_items": null,
            "align_self": null,
            "border": null,
            "bottom": null,
            "display": null,
            "flex": null,
            "flex_flow": null,
            "grid_area": null,
            "grid_auto_columns": null,
            "grid_auto_flow": null,
            "grid_auto_rows": null,
            "grid_column": null,
            "grid_gap": null,
            "grid_row": null,
            "grid_template_areas": null,
            "grid_template_columns": null,
            "grid_template_rows": null,
            "height": null,
            "justify_content": null,
            "justify_items": null,
            "left": null,
            "margin": null,
            "max_height": null,
            "max_width": null,
            "min_height": null,
            "min_width": null,
            "object_fit": null,
            "object_position": null,
            "order": null,
            "overflow": null,
            "overflow_x": null,
            "overflow_y": null,
            "padding": null,
            "right": null,
            "top": null,
            "visibility": null,
            "width": null
          }
        },
        "fa3c66a44185409a832813548f804fd1": {
          "model_module": "@jupyter-widgets/base",
          "model_name": "LayoutModel",
          "model_module_version": "1.2.0",
          "state": {
            "_model_module": "@jupyter-widgets/base",
            "_model_module_version": "1.2.0",
            "_model_name": "LayoutModel",
            "_view_count": null,
            "_view_module": "@jupyter-widgets/base",
            "_view_module_version": "1.2.0",
            "_view_name": "LayoutView",
            "align_content": null,
            "align_items": null,
            "align_self": null,
            "border": null,
            "bottom": null,
            "display": null,
            "flex": null,
            "flex_flow": null,
            "grid_area": null,
            "grid_auto_columns": null,
            "grid_auto_flow": null,
            "grid_auto_rows": null,
            "grid_column": null,
            "grid_gap": null,
            "grid_row": null,
            "grid_template_areas": null,
            "grid_template_columns": null,
            "grid_template_rows": null,
            "height": null,
            "justify_content": null,
            "justify_items": null,
            "left": null,
            "margin": null,
            "max_height": null,
            "max_width": null,
            "min_height": null,
            "min_width": null,
            "object_fit": null,
            "object_position": null,
            "order": null,
            "overflow": null,
            "overflow_x": null,
            "overflow_y": null,
            "padding": null,
            "right": null,
            "top": null,
            "visibility": null,
            "width": null
          }
        },
        "d1382bd28ba549478924fbefed30fa58": {
          "model_module": "@jupyter-widgets/controls",
          "model_name": "DescriptionStyleModel",
          "model_module_version": "1.5.0",
          "state": {
            "_model_module": "@jupyter-widgets/controls",
            "_model_module_version": "1.5.0",
            "_model_name": "DescriptionStyleModel",
            "_view_count": null,
            "_view_module": "@jupyter-widgets/base",
            "_view_module_version": "1.2.0",
            "_view_name": "StyleView",
            "description_width": ""
          }
        },
        "62fc3cf6f1dd43b291c726f9a4a59580": {
          "model_module": "@jupyter-widgets/base",
          "model_name": "LayoutModel",
          "model_module_version": "1.2.0",
          "state": {
            "_model_module": "@jupyter-widgets/base",
            "_model_module_version": "1.2.0",
            "_model_name": "LayoutModel",
            "_view_count": null,
            "_view_module": "@jupyter-widgets/base",
            "_view_module_version": "1.2.0",
            "_view_name": "LayoutView",
            "align_content": null,
            "align_items": null,
            "align_self": null,
            "border": null,
            "bottom": null,
            "display": null,
            "flex": null,
            "flex_flow": null,
            "grid_area": null,
            "grid_auto_columns": null,
            "grid_auto_flow": null,
            "grid_auto_rows": null,
            "grid_column": null,
            "grid_gap": null,
            "grid_row": null,
            "grid_template_areas": null,
            "grid_template_columns": null,
            "grid_template_rows": null,
            "height": null,
            "justify_content": null,
            "justify_items": null,
            "left": null,
            "margin": null,
            "max_height": null,
            "max_width": null,
            "min_height": null,
            "min_width": null,
            "object_fit": null,
            "object_position": null,
            "order": null,
            "overflow": null,
            "overflow_x": null,
            "overflow_y": null,
            "padding": null,
            "right": null,
            "top": null,
            "visibility": null,
            "width": null
          }
        },
        "e8f7dffcc1194932900ddbfcd75cb3ff": {
          "model_module": "@jupyter-widgets/controls",
          "model_name": "ProgressStyleModel",
          "model_module_version": "1.5.0",
          "state": {
            "_model_module": "@jupyter-widgets/controls",
            "_model_module_version": "1.5.0",
            "_model_name": "ProgressStyleModel",
            "_view_count": null,
            "_view_module": "@jupyter-widgets/base",
            "_view_module_version": "1.2.0",
            "_view_name": "StyleView",
            "bar_color": null,
            "description_width": ""
          }
        },
        "1249a3200f9c463a96ff3de3043d03c1": {
          "model_module": "@jupyter-widgets/base",
          "model_name": "LayoutModel",
          "model_module_version": "1.2.0",
          "state": {
            "_model_module": "@jupyter-widgets/base",
            "_model_module_version": "1.2.0",
            "_model_name": "LayoutModel",
            "_view_count": null,
            "_view_module": "@jupyter-widgets/base",
            "_view_module_version": "1.2.0",
            "_view_name": "LayoutView",
            "align_content": null,
            "align_items": null,
            "align_self": null,
            "border": null,
            "bottom": null,
            "display": null,
            "flex": null,
            "flex_flow": null,
            "grid_area": null,
            "grid_auto_columns": null,
            "grid_auto_flow": null,
            "grid_auto_rows": null,
            "grid_column": null,
            "grid_gap": null,
            "grid_row": null,
            "grid_template_areas": null,
            "grid_template_columns": null,
            "grid_template_rows": null,
            "height": null,
            "justify_content": null,
            "justify_items": null,
            "left": null,
            "margin": null,
            "max_height": null,
            "max_width": null,
            "min_height": null,
            "min_width": null,
            "object_fit": null,
            "object_position": null,
            "order": null,
            "overflow": null,
            "overflow_x": null,
            "overflow_y": null,
            "padding": null,
            "right": null,
            "top": null,
            "visibility": null,
            "width": null
          }
        },
        "dda96b108e5b4ede946acfe8865a2043": {
          "model_module": "@jupyter-widgets/controls",
          "model_name": "DescriptionStyleModel",
          "model_module_version": "1.5.0",
          "state": {
            "_model_module": "@jupyter-widgets/controls",
            "_model_module_version": "1.5.0",
            "_model_name": "DescriptionStyleModel",
            "_view_count": null,
            "_view_module": "@jupyter-widgets/base",
            "_view_module_version": "1.2.0",
            "_view_name": "StyleView",
            "description_width": ""
          }
        },
        "2c4a279264234627b108d133c439d254": {
          "model_module": "@jupyter-widgets/controls",
          "model_name": "HBoxModel",
          "model_module_version": "1.5.0",
          "state": {
            "_dom_classes": [],
            "_model_module": "@jupyter-widgets/controls",
            "_model_module_version": "1.5.0",
            "_model_name": "HBoxModel",
            "_view_count": null,
            "_view_module": "@jupyter-widgets/controls",
            "_view_module_version": "1.5.0",
            "_view_name": "HBoxView",
            "box_style": "",
            "children": [
              "IPY_MODEL_16aedfb085ad43fe8fd881f5958183a1",
              "IPY_MODEL_553b50dfdc234b20bda5f1200129397c",
              "IPY_MODEL_17b67be84a414c37b48cacd72cf386e2"
            ],
            "layout": "IPY_MODEL_142cd3c58fc24a26b6a7c76cf97b9a01"
          }
        },
        "16aedfb085ad43fe8fd881f5958183a1": {
          "model_module": "@jupyter-widgets/controls",
          "model_name": "HTMLModel",
          "model_module_version": "1.5.0",
          "state": {
            "_dom_classes": [],
            "_model_module": "@jupyter-widgets/controls",
            "_model_module_version": "1.5.0",
            "_model_name": "HTMLModel",
            "_view_count": null,
            "_view_module": "@jupyter-widgets/controls",
            "_view_module_version": "1.5.0",
            "_view_name": "HTMLView",
            "description": "",
            "description_tooltip": null,
            "layout": "IPY_MODEL_4bb051a7d8914c95ba1c7a45e17b206c",
            "placeholder": "​",
            "style": "IPY_MODEL_73119dceac274e419c7d22917a28bb23",
            "value": "special_tokens_map.json: 100%"
          }
        },
        "553b50dfdc234b20bda5f1200129397c": {
          "model_module": "@jupyter-widgets/controls",
          "model_name": "FloatProgressModel",
          "model_module_version": "1.5.0",
          "state": {
            "_dom_classes": [],
            "_model_module": "@jupyter-widgets/controls",
            "_model_module_version": "1.5.0",
            "_model_name": "FloatProgressModel",
            "_view_count": null,
            "_view_module": "@jupyter-widgets/controls",
            "_view_module_version": "1.5.0",
            "_view_name": "ProgressView",
            "bar_style": "success",
            "description": "",
            "description_tooltip": null,
            "layout": "IPY_MODEL_3cdcf7f058064fee9617804b228a4356",
            "max": 435,
            "min": 0,
            "orientation": "horizontal",
            "style": "IPY_MODEL_032eaea33c484f64b6b1603ad733ca58",
            "value": 435
          }
        },
        "17b67be84a414c37b48cacd72cf386e2": {
          "model_module": "@jupyter-widgets/controls",
          "model_name": "HTMLModel",
          "model_module_version": "1.5.0",
          "state": {
            "_dom_classes": [],
            "_model_module": "@jupyter-widgets/controls",
            "_model_module_version": "1.5.0",
            "_model_name": "HTMLModel",
            "_view_count": null,
            "_view_module": "@jupyter-widgets/controls",
            "_view_module_version": "1.5.0",
            "_view_name": "HTMLView",
            "description": "",
            "description_tooltip": null,
            "layout": "IPY_MODEL_e45248f6a96049c381af03b44a4933f4",
            "placeholder": "​",
            "style": "IPY_MODEL_b44e5584c7094b4f94f65fd01f388347",
            "value": " 435/435 [00:00&lt;00:00, 39.7kB/s]"
          }
        },
        "142cd3c58fc24a26b6a7c76cf97b9a01": {
          "model_module": "@jupyter-widgets/base",
          "model_name": "LayoutModel",
          "model_module_version": "1.2.0",
          "state": {
            "_model_module": "@jupyter-widgets/base",
            "_model_module_version": "1.2.0",
            "_model_name": "LayoutModel",
            "_view_count": null,
            "_view_module": "@jupyter-widgets/base",
            "_view_module_version": "1.2.0",
            "_view_name": "LayoutView",
            "align_content": null,
            "align_items": null,
            "align_self": null,
            "border": null,
            "bottom": null,
            "display": null,
            "flex": null,
            "flex_flow": null,
            "grid_area": null,
            "grid_auto_columns": null,
            "grid_auto_flow": null,
            "grid_auto_rows": null,
            "grid_column": null,
            "grid_gap": null,
            "grid_row": null,
            "grid_template_areas": null,
            "grid_template_columns": null,
            "grid_template_rows": null,
            "height": null,
            "justify_content": null,
            "justify_items": null,
            "left": null,
            "margin": null,
            "max_height": null,
            "max_width": null,
            "min_height": null,
            "min_width": null,
            "object_fit": null,
            "object_position": null,
            "order": null,
            "overflow": null,
            "overflow_x": null,
            "overflow_y": null,
            "padding": null,
            "right": null,
            "top": null,
            "visibility": null,
            "width": null
          }
        },
        "4bb051a7d8914c95ba1c7a45e17b206c": {
          "model_module": "@jupyter-widgets/base",
          "model_name": "LayoutModel",
          "model_module_version": "1.2.0",
          "state": {
            "_model_module": "@jupyter-widgets/base",
            "_model_module_version": "1.2.0",
            "_model_name": "LayoutModel",
            "_view_count": null,
            "_view_module": "@jupyter-widgets/base",
            "_view_module_version": "1.2.0",
            "_view_name": "LayoutView",
            "align_content": null,
            "align_items": null,
            "align_self": null,
            "border": null,
            "bottom": null,
            "display": null,
            "flex": null,
            "flex_flow": null,
            "grid_area": null,
            "grid_auto_columns": null,
            "grid_auto_flow": null,
            "grid_auto_rows": null,
            "grid_column": null,
            "grid_gap": null,
            "grid_row": null,
            "grid_template_areas": null,
            "grid_template_columns": null,
            "grid_template_rows": null,
            "height": null,
            "justify_content": null,
            "justify_items": null,
            "left": null,
            "margin": null,
            "max_height": null,
            "max_width": null,
            "min_height": null,
            "min_width": null,
            "object_fit": null,
            "object_position": null,
            "order": null,
            "overflow": null,
            "overflow_x": null,
            "overflow_y": null,
            "padding": null,
            "right": null,
            "top": null,
            "visibility": null,
            "width": null
          }
        },
        "73119dceac274e419c7d22917a28bb23": {
          "model_module": "@jupyter-widgets/controls",
          "model_name": "DescriptionStyleModel",
          "model_module_version": "1.5.0",
          "state": {
            "_model_module": "@jupyter-widgets/controls",
            "_model_module_version": "1.5.0",
            "_model_name": "DescriptionStyleModel",
            "_view_count": null,
            "_view_module": "@jupyter-widgets/base",
            "_view_module_version": "1.2.0",
            "_view_name": "StyleView",
            "description_width": ""
          }
        },
        "3cdcf7f058064fee9617804b228a4356": {
          "model_module": "@jupyter-widgets/base",
          "model_name": "LayoutModel",
          "model_module_version": "1.2.0",
          "state": {
            "_model_module": "@jupyter-widgets/base",
            "_model_module_version": "1.2.0",
            "_model_name": "LayoutModel",
            "_view_count": null,
            "_view_module": "@jupyter-widgets/base",
            "_view_module_version": "1.2.0",
            "_view_name": "LayoutView",
            "align_content": null,
            "align_items": null,
            "align_self": null,
            "border": null,
            "bottom": null,
            "display": null,
            "flex": null,
            "flex_flow": null,
            "grid_area": null,
            "grid_auto_columns": null,
            "grid_auto_flow": null,
            "grid_auto_rows": null,
            "grid_column": null,
            "grid_gap": null,
            "grid_row": null,
            "grid_template_areas": null,
            "grid_template_columns": null,
            "grid_template_rows": null,
            "height": null,
            "justify_content": null,
            "justify_items": null,
            "left": null,
            "margin": null,
            "max_height": null,
            "max_width": null,
            "min_height": null,
            "min_width": null,
            "object_fit": null,
            "object_position": null,
            "order": null,
            "overflow": null,
            "overflow_x": null,
            "overflow_y": null,
            "padding": null,
            "right": null,
            "top": null,
            "visibility": null,
            "width": null
          }
        },
        "032eaea33c484f64b6b1603ad733ca58": {
          "model_module": "@jupyter-widgets/controls",
          "model_name": "ProgressStyleModel",
          "model_module_version": "1.5.0",
          "state": {
            "_model_module": "@jupyter-widgets/controls",
            "_model_module_version": "1.5.0",
            "_model_name": "ProgressStyleModel",
            "_view_count": null,
            "_view_module": "@jupyter-widgets/base",
            "_view_module_version": "1.2.0",
            "_view_name": "StyleView",
            "bar_color": null,
            "description_width": ""
          }
        },
        "e45248f6a96049c381af03b44a4933f4": {
          "model_module": "@jupyter-widgets/base",
          "model_name": "LayoutModel",
          "model_module_version": "1.2.0",
          "state": {
            "_model_module": "@jupyter-widgets/base",
            "_model_module_version": "1.2.0",
            "_model_name": "LayoutModel",
            "_view_count": null,
            "_view_module": "@jupyter-widgets/base",
            "_view_module_version": "1.2.0",
            "_view_name": "LayoutView",
            "align_content": null,
            "align_items": null,
            "align_self": null,
            "border": null,
            "bottom": null,
            "display": null,
            "flex": null,
            "flex_flow": null,
            "grid_area": null,
            "grid_auto_columns": null,
            "grid_auto_flow": null,
            "grid_auto_rows": null,
            "grid_column": null,
            "grid_gap": null,
            "grid_row": null,
            "grid_template_areas": null,
            "grid_template_columns": null,
            "grid_template_rows": null,
            "height": null,
            "justify_content": null,
            "justify_items": null,
            "left": null,
            "margin": null,
            "max_height": null,
            "max_width": null,
            "min_height": null,
            "min_width": null,
            "object_fit": null,
            "object_position": null,
            "order": null,
            "overflow": null,
            "overflow_x": null,
            "overflow_y": null,
            "padding": null,
            "right": null,
            "top": null,
            "visibility": null,
            "width": null
          }
        },
        "b44e5584c7094b4f94f65fd01f388347": {
          "model_module": "@jupyter-widgets/controls",
          "model_name": "DescriptionStyleModel",
          "model_module_version": "1.5.0",
          "state": {
            "_model_module": "@jupyter-widgets/controls",
            "_model_module_version": "1.5.0",
            "_model_name": "DescriptionStyleModel",
            "_view_count": null,
            "_view_module": "@jupyter-widgets/base",
            "_view_module_version": "1.2.0",
            "_view_name": "StyleView",
            "description_width": ""
          }
        },
        "8c3becd09e244ee78d0615c40f248f42": {
          "model_module": "@jupyter-widgets/controls",
          "model_name": "HBoxModel",
          "model_module_version": "1.5.0",
          "state": {
            "_dom_classes": [],
            "_model_module": "@jupyter-widgets/controls",
            "_model_module_version": "1.5.0",
            "_model_name": "HBoxModel",
            "_view_count": null,
            "_view_module": "@jupyter-widgets/controls",
            "_view_module_version": "1.5.0",
            "_view_name": "HBoxView",
            "box_style": "",
            "children": [
              "IPY_MODEL_2a4e219449364fed91b6b2ec45aa8b85",
              "IPY_MODEL_0ac86561aeb24ae5b2b36e384f46f4ba",
              "IPY_MODEL_e90f62c89102476599aa9d6939f8476f"
            ],
            "layout": "IPY_MODEL_f823422b42fc4c7f9d6238a407ade696"
          }
        },
        "2a4e219449364fed91b6b2ec45aa8b85": {
          "model_module": "@jupyter-widgets/controls",
          "model_name": "HTMLModel",
          "model_module_version": "1.5.0",
          "state": {
            "_dom_classes": [],
            "_model_module": "@jupyter-widgets/controls",
            "_model_module_version": "1.5.0",
            "_model_name": "HTMLModel",
            "_view_count": null,
            "_view_module": "@jupyter-widgets/controls",
            "_view_module_version": "1.5.0",
            "_view_name": "HTMLView",
            "description": "",
            "description_tooltip": null,
            "layout": "IPY_MODEL_d822d052587e441591d828f3ba0282c4",
            "placeholder": "​",
            "style": "IPY_MODEL_698dc844603646b09d71ff4df134e224",
            "value": "config.json: 100%"
          }
        },
        "0ac86561aeb24ae5b2b36e384f46f4ba": {
          "model_module": "@jupyter-widgets/controls",
          "model_name": "FloatProgressModel",
          "model_module_version": "1.5.0",
          "state": {
            "_dom_classes": [],
            "_model_module": "@jupyter-widgets/controls",
            "_model_module_version": "1.5.0",
            "_model_name": "FloatProgressModel",
            "_view_count": null,
            "_view_module": "@jupyter-widgets/controls",
            "_view_module_version": "1.5.0",
            "_view_name": "ProgressView",
            "bar_style": "success",
            "description": "",
            "description_tooltip": null,
            "layout": "IPY_MODEL_2a7a704af8f643969683bc7245625ab8",
            "max": 583,
            "min": 0,
            "orientation": "horizontal",
            "style": "IPY_MODEL_cd73a932703844d78b993578f8994940",
            "value": 583
          }
        },
        "e90f62c89102476599aa9d6939f8476f": {
          "model_module": "@jupyter-widgets/controls",
          "model_name": "HTMLModel",
          "model_module_version": "1.5.0",
          "state": {
            "_dom_classes": [],
            "_model_module": "@jupyter-widgets/controls",
            "_model_module_version": "1.5.0",
            "_model_name": "HTMLModel",
            "_view_count": null,
            "_view_module": "@jupyter-widgets/controls",
            "_view_module_version": "1.5.0",
            "_view_name": "HTMLView",
            "description": "",
            "description_tooltip": null,
            "layout": "IPY_MODEL_b4a9d0aece4848a9817c4e5ced05eea9",
            "placeholder": "​",
            "style": "IPY_MODEL_a5ed381a872a45daaf53d89aae7c254b",
            "value": " 583/583 [00:00&lt;00:00, 48.2kB/s]"
          }
        },
        "f823422b42fc4c7f9d6238a407ade696": {
          "model_module": "@jupyter-widgets/base",
          "model_name": "LayoutModel",
          "model_module_version": "1.2.0",
          "state": {
            "_model_module": "@jupyter-widgets/base",
            "_model_module_version": "1.2.0",
            "_model_name": "LayoutModel",
            "_view_count": null,
            "_view_module": "@jupyter-widgets/base",
            "_view_module_version": "1.2.0",
            "_view_name": "LayoutView",
            "align_content": null,
            "align_items": null,
            "align_self": null,
            "border": null,
            "bottom": null,
            "display": null,
            "flex": null,
            "flex_flow": null,
            "grid_area": null,
            "grid_auto_columns": null,
            "grid_auto_flow": null,
            "grid_auto_rows": null,
            "grid_column": null,
            "grid_gap": null,
            "grid_row": null,
            "grid_template_areas": null,
            "grid_template_columns": null,
            "grid_template_rows": null,
            "height": null,
            "justify_content": null,
            "justify_items": null,
            "left": null,
            "margin": null,
            "max_height": null,
            "max_width": null,
            "min_height": null,
            "min_width": null,
            "object_fit": null,
            "object_position": null,
            "order": null,
            "overflow": null,
            "overflow_x": null,
            "overflow_y": null,
            "padding": null,
            "right": null,
            "top": null,
            "visibility": null,
            "width": null
          }
        },
        "d822d052587e441591d828f3ba0282c4": {
          "model_module": "@jupyter-widgets/base",
          "model_name": "LayoutModel",
          "model_module_version": "1.2.0",
          "state": {
            "_model_module": "@jupyter-widgets/base",
            "_model_module_version": "1.2.0",
            "_model_name": "LayoutModel",
            "_view_count": null,
            "_view_module": "@jupyter-widgets/base",
            "_view_module_version": "1.2.0",
            "_view_name": "LayoutView",
            "align_content": null,
            "align_items": null,
            "align_self": null,
            "border": null,
            "bottom": null,
            "display": null,
            "flex": null,
            "flex_flow": null,
            "grid_area": null,
            "grid_auto_columns": null,
            "grid_auto_flow": null,
            "grid_auto_rows": null,
            "grid_column": null,
            "grid_gap": null,
            "grid_row": null,
            "grid_template_areas": null,
            "grid_template_columns": null,
            "grid_template_rows": null,
            "height": null,
            "justify_content": null,
            "justify_items": null,
            "left": null,
            "margin": null,
            "max_height": null,
            "max_width": null,
            "min_height": null,
            "min_width": null,
            "object_fit": null,
            "object_position": null,
            "order": null,
            "overflow": null,
            "overflow_x": null,
            "overflow_y": null,
            "padding": null,
            "right": null,
            "top": null,
            "visibility": null,
            "width": null
          }
        },
        "698dc844603646b09d71ff4df134e224": {
          "model_module": "@jupyter-widgets/controls",
          "model_name": "DescriptionStyleModel",
          "model_module_version": "1.5.0",
          "state": {
            "_model_module": "@jupyter-widgets/controls",
            "_model_module_version": "1.5.0",
            "_model_name": "DescriptionStyleModel",
            "_view_count": null,
            "_view_module": "@jupyter-widgets/base",
            "_view_module_version": "1.2.0",
            "_view_name": "StyleView",
            "description_width": ""
          }
        },
        "2a7a704af8f643969683bc7245625ab8": {
          "model_module": "@jupyter-widgets/base",
          "model_name": "LayoutModel",
          "model_module_version": "1.2.0",
          "state": {
            "_model_module": "@jupyter-widgets/base",
            "_model_module_version": "1.2.0",
            "_model_name": "LayoutModel",
            "_view_count": null,
            "_view_module": "@jupyter-widgets/base",
            "_view_module_version": "1.2.0",
            "_view_name": "LayoutView",
            "align_content": null,
            "align_items": null,
            "align_self": null,
            "border": null,
            "bottom": null,
            "display": null,
            "flex": null,
            "flex_flow": null,
            "grid_area": null,
            "grid_auto_columns": null,
            "grid_auto_flow": null,
            "grid_auto_rows": null,
            "grid_column": null,
            "grid_gap": null,
            "grid_row": null,
            "grid_template_areas": null,
            "grid_template_columns": null,
            "grid_template_rows": null,
            "height": null,
            "justify_content": null,
            "justify_items": null,
            "left": null,
            "margin": null,
            "max_height": null,
            "max_width": null,
            "min_height": null,
            "min_width": null,
            "object_fit": null,
            "object_position": null,
            "order": null,
            "overflow": null,
            "overflow_x": null,
            "overflow_y": null,
            "padding": null,
            "right": null,
            "top": null,
            "visibility": null,
            "width": null
          }
        },
        "cd73a932703844d78b993578f8994940": {
          "model_module": "@jupyter-widgets/controls",
          "model_name": "ProgressStyleModel",
          "model_module_version": "1.5.0",
          "state": {
            "_model_module": "@jupyter-widgets/controls",
            "_model_module_version": "1.5.0",
            "_model_name": "ProgressStyleModel",
            "_view_count": null,
            "_view_module": "@jupyter-widgets/base",
            "_view_module_version": "1.2.0",
            "_view_name": "StyleView",
            "bar_color": null,
            "description_width": ""
          }
        },
        "b4a9d0aece4848a9817c4e5ced05eea9": {
          "model_module": "@jupyter-widgets/base",
          "model_name": "LayoutModel",
          "model_module_version": "1.2.0",
          "state": {
            "_model_module": "@jupyter-widgets/base",
            "_model_module_version": "1.2.0",
            "_model_name": "LayoutModel",
            "_view_count": null,
            "_view_module": "@jupyter-widgets/base",
            "_view_module_version": "1.2.0",
            "_view_name": "LayoutView",
            "align_content": null,
            "align_items": null,
            "align_self": null,
            "border": null,
            "bottom": null,
            "display": null,
            "flex": null,
            "flex_flow": null,
            "grid_area": null,
            "grid_auto_columns": null,
            "grid_auto_flow": null,
            "grid_auto_rows": null,
            "grid_column": null,
            "grid_gap": null,
            "grid_row": null,
            "grid_template_areas": null,
            "grid_template_columns": null,
            "grid_template_rows": null,
            "height": null,
            "justify_content": null,
            "justify_items": null,
            "left": null,
            "margin": null,
            "max_height": null,
            "max_width": null,
            "min_height": null,
            "min_width": null,
            "object_fit": null,
            "object_position": null,
            "order": null,
            "overflow": null,
            "overflow_x": null,
            "overflow_y": null,
            "padding": null,
            "right": null,
            "top": null,
            "visibility": null,
            "width": null
          }
        },
        "a5ed381a872a45daaf53d89aae7c254b": {
          "model_module": "@jupyter-widgets/controls",
          "model_name": "DescriptionStyleModel",
          "model_module_version": "1.5.0",
          "state": {
            "_model_module": "@jupyter-widgets/controls",
            "_model_module_version": "1.5.0",
            "_model_name": "DescriptionStyleModel",
            "_view_count": null,
            "_view_module": "@jupyter-widgets/base",
            "_view_module_version": "1.2.0",
            "_view_name": "StyleView",
            "description_width": ""
          }
        },
        "829e1f40a4784ddfaf73a2b9ffe09422": {
          "model_module": "@jupyter-widgets/controls",
          "model_name": "HBoxModel",
          "model_module_version": "1.5.0",
          "state": {
            "_dom_classes": [],
            "_model_module": "@jupyter-widgets/controls",
            "_model_module_version": "1.5.0",
            "_model_name": "HBoxModel",
            "_view_count": null,
            "_view_module": "@jupyter-widgets/controls",
            "_view_module_version": "1.5.0",
            "_view_name": "HBoxView",
            "box_style": "",
            "children": [
              "IPY_MODEL_0dec27409b08409a815ab5850bb28d5a",
              "IPY_MODEL_309173dcb47d48fdb09c944997d54c2e",
              "IPY_MODEL_97843830802e4ec48acdfa18a98434c7"
            ],
            "layout": "IPY_MODEL_a2139396ae91481b8692fff56b19071e"
          }
        },
        "0dec27409b08409a815ab5850bb28d5a": {
          "model_module": "@jupyter-widgets/controls",
          "model_name": "HTMLModel",
          "model_module_version": "1.5.0",
          "state": {
            "_dom_classes": [],
            "_model_module": "@jupyter-widgets/controls",
            "_model_module_version": "1.5.0",
            "_model_name": "HTMLModel",
            "_view_count": null,
            "_view_module": "@jupyter-widgets/controls",
            "_view_module_version": "1.5.0",
            "_view_name": "HTMLView",
            "description": "",
            "description_tooltip": null,
            "layout": "IPY_MODEL_ab760f313cf346d88ed96526b1ca611b",
            "placeholder": "​",
            "style": "IPY_MODEL_d3541b053c294e95be53bce78c6792cd",
            "value": "model.safetensors.index.json: 100%"
          }
        },
        "309173dcb47d48fdb09c944997d54c2e": {
          "model_module": "@jupyter-widgets/controls",
          "model_name": "FloatProgressModel",
          "model_module_version": "1.5.0",
          "state": {
            "_dom_classes": [],
            "_model_module": "@jupyter-widgets/controls",
            "_model_module_version": "1.5.0",
            "_model_name": "FloatProgressModel",
            "_view_count": null,
            "_view_module": "@jupyter-widgets/controls",
            "_view_module_version": "1.5.0",
            "_view_name": "ProgressView",
            "bar_style": "success",
            "description": "",
            "description_tooltip": null,
            "layout": "IPY_MODEL_9acce663c334485aaa3db914d54d65fe",
            "max": 26788,
            "min": 0,
            "orientation": "horizontal",
            "style": "IPY_MODEL_ed918edd3c2f499b83e591ccb555ab24",
            "value": 26788
          }
        },
        "97843830802e4ec48acdfa18a98434c7": {
          "model_module": "@jupyter-widgets/controls",
          "model_name": "HTMLModel",
          "model_module_version": "1.5.0",
          "state": {
            "_dom_classes": [],
            "_model_module": "@jupyter-widgets/controls",
            "_model_module_version": "1.5.0",
            "_model_name": "HTMLModel",
            "_view_count": null,
            "_view_module": "@jupyter-widgets/controls",
            "_view_module_version": "1.5.0",
            "_view_name": "HTMLView",
            "description": "",
            "description_tooltip": null,
            "layout": "IPY_MODEL_3352095ee9f6470db7f72924772193f9",
            "placeholder": "​",
            "style": "IPY_MODEL_1fa4f1ad020d41f3abe347612958a50c",
            "value": " 26.8k/26.8k [00:00&lt;00:00, 2.34MB/s]"
          }
        },
        "a2139396ae91481b8692fff56b19071e": {
          "model_module": "@jupyter-widgets/base",
          "model_name": "LayoutModel",
          "model_module_version": "1.2.0",
          "state": {
            "_model_module": "@jupyter-widgets/base",
            "_model_module_version": "1.2.0",
            "_model_name": "LayoutModel",
            "_view_count": null,
            "_view_module": "@jupyter-widgets/base",
            "_view_module_version": "1.2.0",
            "_view_name": "LayoutView",
            "align_content": null,
            "align_items": null,
            "align_self": null,
            "border": null,
            "bottom": null,
            "display": null,
            "flex": null,
            "flex_flow": null,
            "grid_area": null,
            "grid_auto_columns": null,
            "grid_auto_flow": null,
            "grid_auto_rows": null,
            "grid_column": null,
            "grid_gap": null,
            "grid_row": null,
            "grid_template_areas": null,
            "grid_template_columns": null,
            "grid_template_rows": null,
            "height": null,
            "justify_content": null,
            "justify_items": null,
            "left": null,
            "margin": null,
            "max_height": null,
            "max_width": null,
            "min_height": null,
            "min_width": null,
            "object_fit": null,
            "object_position": null,
            "order": null,
            "overflow": null,
            "overflow_x": null,
            "overflow_y": null,
            "padding": null,
            "right": null,
            "top": null,
            "visibility": null,
            "width": null
          }
        },
        "ab760f313cf346d88ed96526b1ca611b": {
          "model_module": "@jupyter-widgets/base",
          "model_name": "LayoutModel",
          "model_module_version": "1.2.0",
          "state": {
            "_model_module": "@jupyter-widgets/base",
            "_model_module_version": "1.2.0",
            "_model_name": "LayoutModel",
            "_view_count": null,
            "_view_module": "@jupyter-widgets/base",
            "_view_module_version": "1.2.0",
            "_view_name": "LayoutView",
            "align_content": null,
            "align_items": null,
            "align_self": null,
            "border": null,
            "bottom": null,
            "display": null,
            "flex": null,
            "flex_flow": null,
            "grid_area": null,
            "grid_auto_columns": null,
            "grid_auto_flow": null,
            "grid_auto_rows": null,
            "grid_column": null,
            "grid_gap": null,
            "grid_row": null,
            "grid_template_areas": null,
            "grid_template_columns": null,
            "grid_template_rows": null,
            "height": null,
            "justify_content": null,
            "justify_items": null,
            "left": null,
            "margin": null,
            "max_height": null,
            "max_width": null,
            "min_height": null,
            "min_width": null,
            "object_fit": null,
            "object_position": null,
            "order": null,
            "overflow": null,
            "overflow_x": null,
            "overflow_y": null,
            "padding": null,
            "right": null,
            "top": null,
            "visibility": null,
            "width": null
          }
        },
        "d3541b053c294e95be53bce78c6792cd": {
          "model_module": "@jupyter-widgets/controls",
          "model_name": "DescriptionStyleModel",
          "model_module_version": "1.5.0",
          "state": {
            "_model_module": "@jupyter-widgets/controls",
            "_model_module_version": "1.5.0",
            "_model_name": "DescriptionStyleModel",
            "_view_count": null,
            "_view_module": "@jupyter-widgets/base",
            "_view_module_version": "1.2.0",
            "_view_name": "StyleView",
            "description_width": ""
          }
        },
        "9acce663c334485aaa3db914d54d65fe": {
          "model_module": "@jupyter-widgets/base",
          "model_name": "LayoutModel",
          "model_module_version": "1.2.0",
          "state": {
            "_model_module": "@jupyter-widgets/base",
            "_model_module_version": "1.2.0",
            "_model_name": "LayoutModel",
            "_view_count": null,
            "_view_module": "@jupyter-widgets/base",
            "_view_module_version": "1.2.0",
            "_view_name": "LayoutView",
            "align_content": null,
            "align_items": null,
            "align_self": null,
            "border": null,
            "bottom": null,
            "display": null,
            "flex": null,
            "flex_flow": null,
            "grid_area": null,
            "grid_auto_columns": null,
            "grid_auto_flow": null,
            "grid_auto_rows": null,
            "grid_column": null,
            "grid_gap": null,
            "grid_row": null,
            "grid_template_areas": null,
            "grid_template_columns": null,
            "grid_template_rows": null,
            "height": null,
            "justify_content": null,
            "justify_items": null,
            "left": null,
            "margin": null,
            "max_height": null,
            "max_width": null,
            "min_height": null,
            "min_width": null,
            "object_fit": null,
            "object_position": null,
            "order": null,
            "overflow": null,
            "overflow_x": null,
            "overflow_y": null,
            "padding": null,
            "right": null,
            "top": null,
            "visibility": null,
            "width": null
          }
        },
        "ed918edd3c2f499b83e591ccb555ab24": {
          "model_module": "@jupyter-widgets/controls",
          "model_name": "ProgressStyleModel",
          "model_module_version": "1.5.0",
          "state": {
            "_model_module": "@jupyter-widgets/controls",
            "_model_module_version": "1.5.0",
            "_model_name": "ProgressStyleModel",
            "_view_count": null,
            "_view_module": "@jupyter-widgets/base",
            "_view_module_version": "1.2.0",
            "_view_name": "StyleView",
            "bar_color": null,
            "description_width": ""
          }
        },
        "3352095ee9f6470db7f72924772193f9": {
          "model_module": "@jupyter-widgets/base",
          "model_name": "LayoutModel",
          "model_module_version": "1.2.0",
          "state": {
            "_model_module": "@jupyter-widgets/base",
            "_model_module_version": "1.2.0",
            "_model_name": "LayoutModel",
            "_view_count": null,
            "_view_module": "@jupyter-widgets/base",
            "_view_module_version": "1.2.0",
            "_view_name": "LayoutView",
            "align_content": null,
            "align_items": null,
            "align_self": null,
            "border": null,
            "bottom": null,
            "display": null,
            "flex": null,
            "flex_flow": null,
            "grid_area": null,
            "grid_auto_columns": null,
            "grid_auto_flow": null,
            "grid_auto_rows": null,
            "grid_column": null,
            "grid_gap": null,
            "grid_row": null,
            "grid_template_areas": null,
            "grid_template_columns": null,
            "grid_template_rows": null,
            "height": null,
            "justify_content": null,
            "justify_items": null,
            "left": null,
            "margin": null,
            "max_height": null,
            "max_width": null,
            "min_height": null,
            "min_width": null,
            "object_fit": null,
            "object_position": null,
            "order": null,
            "overflow": null,
            "overflow_x": null,
            "overflow_y": null,
            "padding": null,
            "right": null,
            "top": null,
            "visibility": null,
            "width": null
          }
        },
        "1fa4f1ad020d41f3abe347612958a50c": {
          "model_module": "@jupyter-widgets/controls",
          "model_name": "DescriptionStyleModel",
          "model_module_version": "1.5.0",
          "state": {
            "_model_module": "@jupyter-widgets/controls",
            "_model_module_version": "1.5.0",
            "_model_name": "DescriptionStyleModel",
            "_view_count": null,
            "_view_module": "@jupyter-widgets/base",
            "_view_module_version": "1.2.0",
            "_view_name": "StyleView",
            "description_width": ""
          }
        },
        "b0ee5eedd9c944e4a8edd6928bc77a4a": {
          "model_module": "@jupyter-widgets/controls",
          "model_name": "HBoxModel",
          "model_module_version": "1.5.0",
          "state": {
            "_dom_classes": [],
            "_model_module": "@jupyter-widgets/controls",
            "_model_module_version": "1.5.0",
            "_model_name": "HBoxModel",
            "_view_count": null,
            "_view_module": "@jupyter-widgets/controls",
            "_view_module_version": "1.5.0",
            "_view_name": "HBoxView",
            "box_style": "",
            "children": [
              "IPY_MODEL_d099e4b027ef40ff984a9869e1163027",
              "IPY_MODEL_f6677d93692c4556bb71141cbe703fc9",
              "IPY_MODEL_9e19dd1b67f046b88f6d76032ea7727e"
            ],
            "layout": "IPY_MODEL_5c547c658a3c45d4ba5191967a696afc"
          }
        },
        "d099e4b027ef40ff984a9869e1163027": {
          "model_module": "@jupyter-widgets/controls",
          "model_name": "HTMLModel",
          "model_module_version": "1.5.0",
          "state": {
            "_dom_classes": [],
            "_model_module": "@jupyter-widgets/controls",
            "_model_module_version": "1.5.0",
            "_model_name": "HTMLModel",
            "_view_count": null,
            "_view_module": "@jupyter-widgets/controls",
            "_view_module_version": "1.5.0",
            "_view_name": "HTMLView",
            "description": "",
            "description_tooltip": null,
            "layout": "IPY_MODEL_f3ea13877b8341328c0e5a80fe7d38a9",
            "placeholder": "​",
            "style": "IPY_MODEL_9398d314b4844a979b510ff5c3b93a9c",
            "value": "Downloading shards: 100%"
          }
        },
        "f6677d93692c4556bb71141cbe703fc9": {
          "model_module": "@jupyter-widgets/controls",
          "model_name": "FloatProgressModel",
          "model_module_version": "1.5.0",
          "state": {
            "_dom_classes": [],
            "_model_module": "@jupyter-widgets/controls",
            "_model_module_version": "1.5.0",
            "_model_name": "FloatProgressModel",
            "_view_count": null,
            "_view_module": "@jupyter-widgets/controls",
            "_view_module_version": "1.5.0",
            "_view_name": "ProgressView",
            "bar_style": "success",
            "description": "",
            "description_tooltip": null,
            "layout": "IPY_MODEL_ffa70c6703fa4a26b010c4344276d6f7",
            "max": 2,
            "min": 0,
            "orientation": "horizontal",
            "style": "IPY_MODEL_3a7f5203762f48ebb67d8e61d9562979",
            "value": 2
          }
        },
        "9e19dd1b67f046b88f6d76032ea7727e": {
          "model_module": "@jupyter-widgets/controls",
          "model_name": "HTMLModel",
          "model_module_version": "1.5.0",
          "state": {
            "_dom_classes": [],
            "_model_module": "@jupyter-widgets/controls",
            "_model_module_version": "1.5.0",
            "_model_name": "HTMLModel",
            "_view_count": null,
            "_view_module": "@jupyter-widgets/controls",
            "_view_module_version": "1.5.0",
            "_view_name": "HTMLView",
            "description": "",
            "description_tooltip": null,
            "layout": "IPY_MODEL_3a76442658de440b93032448c504418f",
            "placeholder": "​",
            "style": "IPY_MODEL_a2e97c4faf6c4c7bad1395dcfb863287",
            "value": " 2/2 [00:42&lt;00:00, 19.25s/it]"
          }
        },
        "5c547c658a3c45d4ba5191967a696afc": {
          "model_module": "@jupyter-widgets/base",
          "model_name": "LayoutModel",
          "model_module_version": "1.2.0",
          "state": {
            "_model_module": "@jupyter-widgets/base",
            "_model_module_version": "1.2.0",
            "_model_name": "LayoutModel",
            "_view_count": null,
            "_view_module": "@jupyter-widgets/base",
            "_view_module_version": "1.2.0",
            "_view_name": "LayoutView",
            "align_content": null,
            "align_items": null,
            "align_self": null,
            "border": null,
            "bottom": null,
            "display": null,
            "flex": null,
            "flex_flow": null,
            "grid_area": null,
            "grid_auto_columns": null,
            "grid_auto_flow": null,
            "grid_auto_rows": null,
            "grid_column": null,
            "grid_gap": null,
            "grid_row": null,
            "grid_template_areas": null,
            "grid_template_columns": null,
            "grid_template_rows": null,
            "height": null,
            "justify_content": null,
            "justify_items": null,
            "left": null,
            "margin": null,
            "max_height": null,
            "max_width": null,
            "min_height": null,
            "min_width": null,
            "object_fit": null,
            "object_position": null,
            "order": null,
            "overflow": null,
            "overflow_x": null,
            "overflow_y": null,
            "padding": null,
            "right": null,
            "top": null,
            "visibility": null,
            "width": null
          }
        },
        "f3ea13877b8341328c0e5a80fe7d38a9": {
          "model_module": "@jupyter-widgets/base",
          "model_name": "LayoutModel",
          "model_module_version": "1.2.0",
          "state": {
            "_model_module": "@jupyter-widgets/base",
            "_model_module_version": "1.2.0",
            "_model_name": "LayoutModel",
            "_view_count": null,
            "_view_module": "@jupyter-widgets/base",
            "_view_module_version": "1.2.0",
            "_view_name": "LayoutView",
            "align_content": null,
            "align_items": null,
            "align_self": null,
            "border": null,
            "bottom": null,
            "display": null,
            "flex": null,
            "flex_flow": null,
            "grid_area": null,
            "grid_auto_columns": null,
            "grid_auto_flow": null,
            "grid_auto_rows": null,
            "grid_column": null,
            "grid_gap": null,
            "grid_row": null,
            "grid_template_areas": null,
            "grid_template_columns": null,
            "grid_template_rows": null,
            "height": null,
            "justify_content": null,
            "justify_items": null,
            "left": null,
            "margin": null,
            "max_height": null,
            "max_width": null,
            "min_height": null,
            "min_width": null,
            "object_fit": null,
            "object_position": null,
            "order": null,
            "overflow": null,
            "overflow_x": null,
            "overflow_y": null,
            "padding": null,
            "right": null,
            "top": null,
            "visibility": null,
            "width": null
          }
        },
        "9398d314b4844a979b510ff5c3b93a9c": {
          "model_module": "@jupyter-widgets/controls",
          "model_name": "DescriptionStyleModel",
          "model_module_version": "1.5.0",
          "state": {
            "_model_module": "@jupyter-widgets/controls",
            "_model_module_version": "1.5.0",
            "_model_name": "DescriptionStyleModel",
            "_view_count": null,
            "_view_module": "@jupyter-widgets/base",
            "_view_module_version": "1.2.0",
            "_view_name": "StyleView",
            "description_width": ""
          }
        },
        "ffa70c6703fa4a26b010c4344276d6f7": {
          "model_module": "@jupyter-widgets/base",
          "model_name": "LayoutModel",
          "model_module_version": "1.2.0",
          "state": {
            "_model_module": "@jupyter-widgets/base",
            "_model_module_version": "1.2.0",
            "_model_name": "LayoutModel",
            "_view_count": null,
            "_view_module": "@jupyter-widgets/base",
            "_view_module_version": "1.2.0",
            "_view_name": "LayoutView",
            "align_content": null,
            "align_items": null,
            "align_self": null,
            "border": null,
            "bottom": null,
            "display": null,
            "flex": null,
            "flex_flow": null,
            "grid_area": null,
            "grid_auto_columns": null,
            "grid_auto_flow": null,
            "grid_auto_rows": null,
            "grid_column": null,
            "grid_gap": null,
            "grid_row": null,
            "grid_template_areas": null,
            "grid_template_columns": null,
            "grid_template_rows": null,
            "height": null,
            "justify_content": null,
            "justify_items": null,
            "left": null,
            "margin": null,
            "max_height": null,
            "max_width": null,
            "min_height": null,
            "min_width": null,
            "object_fit": null,
            "object_position": null,
            "order": null,
            "overflow": null,
            "overflow_x": null,
            "overflow_y": null,
            "padding": null,
            "right": null,
            "top": null,
            "visibility": null,
            "width": null
          }
        },
        "3a7f5203762f48ebb67d8e61d9562979": {
          "model_module": "@jupyter-widgets/controls",
          "model_name": "ProgressStyleModel",
          "model_module_version": "1.5.0",
          "state": {
            "_model_module": "@jupyter-widgets/controls",
            "_model_module_version": "1.5.0",
            "_model_name": "ProgressStyleModel",
            "_view_count": null,
            "_view_module": "@jupyter-widgets/base",
            "_view_module_version": "1.2.0",
            "_view_name": "StyleView",
            "bar_color": null,
            "description_width": ""
          }
        },
        "3a76442658de440b93032448c504418f": {
          "model_module": "@jupyter-widgets/base",
          "model_name": "LayoutModel",
          "model_module_version": "1.2.0",
          "state": {
            "_model_module": "@jupyter-widgets/base",
            "_model_module_version": "1.2.0",
            "_model_name": "LayoutModel",
            "_view_count": null,
            "_view_module": "@jupyter-widgets/base",
            "_view_module_version": "1.2.0",
            "_view_name": "LayoutView",
            "align_content": null,
            "align_items": null,
            "align_self": null,
            "border": null,
            "bottom": null,
            "display": null,
            "flex": null,
            "flex_flow": null,
            "grid_area": null,
            "grid_auto_columns": null,
            "grid_auto_flow": null,
            "grid_auto_rows": null,
            "grid_column": null,
            "grid_gap": null,
            "grid_row": null,
            "grid_template_areas": null,
            "grid_template_columns": null,
            "grid_template_rows": null,
            "height": null,
            "justify_content": null,
            "justify_items": null,
            "left": null,
            "margin": null,
            "max_height": null,
            "max_width": null,
            "min_height": null,
            "min_width": null,
            "object_fit": null,
            "object_position": null,
            "order": null,
            "overflow": null,
            "overflow_x": null,
            "overflow_y": null,
            "padding": null,
            "right": null,
            "top": null,
            "visibility": null,
            "width": null
          }
        },
        "a2e97c4faf6c4c7bad1395dcfb863287": {
          "model_module": "@jupyter-widgets/controls",
          "model_name": "DescriptionStyleModel",
          "model_module_version": "1.5.0",
          "state": {
            "_model_module": "@jupyter-widgets/controls",
            "_model_module_version": "1.5.0",
            "_model_name": "DescriptionStyleModel",
            "_view_count": null,
            "_view_module": "@jupyter-widgets/base",
            "_view_module_version": "1.2.0",
            "_view_name": "StyleView",
            "description_width": ""
          }
        },
        "fc8563b2f1884b8bbbb36e18d045bcc0": {
          "model_module": "@jupyter-widgets/controls",
          "model_name": "HBoxModel",
          "model_module_version": "1.5.0",
          "state": {
            "_dom_classes": [],
            "_model_module": "@jupyter-widgets/controls",
            "_model_module_version": "1.5.0",
            "_model_name": "HBoxModel",
            "_view_count": null,
            "_view_module": "@jupyter-widgets/controls",
            "_view_module_version": "1.5.0",
            "_view_name": "HBoxView",
            "box_style": "",
            "children": [
              "IPY_MODEL_697a1ecacee34caabc2bb7c1a681eda5",
              "IPY_MODEL_799e808014be4012a740521701ee4fc4",
              "IPY_MODEL_ba0acc10dc7e45a2aa3cc940e8071f73"
            ],
            "layout": "IPY_MODEL_69e1c87501734b7fb52a67bd47b5e857"
          }
        },
        "697a1ecacee34caabc2bb7c1a681eda5": {
          "model_module": "@jupyter-widgets/controls",
          "model_name": "HTMLModel",
          "model_module_version": "1.5.0",
          "state": {
            "_dom_classes": [],
            "_model_module": "@jupyter-widgets/controls",
            "_model_module_version": "1.5.0",
            "_model_name": "HTMLModel",
            "_view_count": null,
            "_view_module": "@jupyter-widgets/controls",
            "_view_module_version": "1.5.0",
            "_view_name": "HTMLView",
            "description": "",
            "description_tooltip": null,
            "layout": "IPY_MODEL_5be2c816278b4cf8b02b396db7bd70f8",
            "placeholder": "​",
            "style": "IPY_MODEL_5ac725e90fdb49d8b40e3fbfa78d183e",
            "value": "model-00001-of-00002.safetensors: 100%"
          }
        },
        "799e808014be4012a740521701ee4fc4": {
          "model_module": "@jupyter-widgets/controls",
          "model_name": "FloatProgressModel",
          "model_module_version": "1.5.0",
          "state": {
            "_dom_classes": [],
            "_model_module": "@jupyter-widgets/controls",
            "_model_module_version": "1.5.0",
            "_model_name": "FloatProgressModel",
            "_view_count": null,
            "_view_module": "@jupyter-widgets/controls",
            "_view_module_version": "1.5.0",
            "_view_name": "ProgressView",
            "bar_style": "success",
            "description": "",
            "description_tooltip": null,
            "layout": "IPY_MODEL_9b58312f38be41569b043860a2b8e345",
            "max": 9976578928,
            "min": 0,
            "orientation": "horizontal",
            "style": "IPY_MODEL_68aaab43c3e04577b9fa0a81f2217022",
            "value": 9976578928
          }
        },
        "ba0acc10dc7e45a2aa3cc940e8071f73": {
          "model_module": "@jupyter-widgets/controls",
          "model_name": "HTMLModel",
          "model_module_version": "1.5.0",
          "state": {
            "_dom_classes": [],
            "_model_module": "@jupyter-widgets/controls",
            "_model_module_version": "1.5.0",
            "_model_name": "HTMLModel",
            "_view_count": null,
            "_view_module": "@jupyter-widgets/controls",
            "_view_module_version": "1.5.0",
            "_view_name": "HTMLView",
            "description": "",
            "description_tooltip": null,
            "layout": "IPY_MODEL_b5487c46585c42049779214b19edd2de",
            "placeholder": "​",
            "style": "IPY_MODEL_da4bf853ce4b4503ada7b4b40ccab1fa",
            "value": " 9.98G/9.98G [00:31&lt;00:00, 247MB/s]"
          }
        },
        "69e1c87501734b7fb52a67bd47b5e857": {
          "model_module": "@jupyter-widgets/base",
          "model_name": "LayoutModel",
          "model_module_version": "1.2.0",
          "state": {
            "_model_module": "@jupyter-widgets/base",
            "_model_module_version": "1.2.0",
            "_model_name": "LayoutModel",
            "_view_count": null,
            "_view_module": "@jupyter-widgets/base",
            "_view_module_version": "1.2.0",
            "_view_name": "LayoutView",
            "align_content": null,
            "align_items": null,
            "align_self": null,
            "border": null,
            "bottom": null,
            "display": null,
            "flex": null,
            "flex_flow": null,
            "grid_area": null,
            "grid_auto_columns": null,
            "grid_auto_flow": null,
            "grid_auto_rows": null,
            "grid_column": null,
            "grid_gap": null,
            "grid_row": null,
            "grid_template_areas": null,
            "grid_template_columns": null,
            "grid_template_rows": null,
            "height": null,
            "justify_content": null,
            "justify_items": null,
            "left": null,
            "margin": null,
            "max_height": null,
            "max_width": null,
            "min_height": null,
            "min_width": null,
            "object_fit": null,
            "object_position": null,
            "order": null,
            "overflow": null,
            "overflow_x": null,
            "overflow_y": null,
            "padding": null,
            "right": null,
            "top": null,
            "visibility": null,
            "width": null
          }
        },
        "5be2c816278b4cf8b02b396db7bd70f8": {
          "model_module": "@jupyter-widgets/base",
          "model_name": "LayoutModel",
          "model_module_version": "1.2.0",
          "state": {
            "_model_module": "@jupyter-widgets/base",
            "_model_module_version": "1.2.0",
            "_model_name": "LayoutModel",
            "_view_count": null,
            "_view_module": "@jupyter-widgets/base",
            "_view_module_version": "1.2.0",
            "_view_name": "LayoutView",
            "align_content": null,
            "align_items": null,
            "align_self": null,
            "border": null,
            "bottom": null,
            "display": null,
            "flex": null,
            "flex_flow": null,
            "grid_area": null,
            "grid_auto_columns": null,
            "grid_auto_flow": null,
            "grid_auto_rows": null,
            "grid_column": null,
            "grid_gap": null,
            "grid_row": null,
            "grid_template_areas": null,
            "grid_template_columns": null,
            "grid_template_rows": null,
            "height": null,
            "justify_content": null,
            "justify_items": null,
            "left": null,
            "margin": null,
            "max_height": null,
            "max_width": null,
            "min_height": null,
            "min_width": null,
            "object_fit": null,
            "object_position": null,
            "order": null,
            "overflow": null,
            "overflow_x": null,
            "overflow_y": null,
            "padding": null,
            "right": null,
            "top": null,
            "visibility": null,
            "width": null
          }
        },
        "5ac725e90fdb49d8b40e3fbfa78d183e": {
          "model_module": "@jupyter-widgets/controls",
          "model_name": "DescriptionStyleModel",
          "model_module_version": "1.5.0",
          "state": {
            "_model_module": "@jupyter-widgets/controls",
            "_model_module_version": "1.5.0",
            "_model_name": "DescriptionStyleModel",
            "_view_count": null,
            "_view_module": "@jupyter-widgets/base",
            "_view_module_version": "1.2.0",
            "_view_name": "StyleView",
            "description_width": ""
          }
        },
        "9b58312f38be41569b043860a2b8e345": {
          "model_module": "@jupyter-widgets/base",
          "model_name": "LayoutModel",
          "model_module_version": "1.2.0",
          "state": {
            "_model_module": "@jupyter-widgets/base",
            "_model_module_version": "1.2.0",
            "_model_name": "LayoutModel",
            "_view_count": null,
            "_view_module": "@jupyter-widgets/base",
            "_view_module_version": "1.2.0",
            "_view_name": "LayoutView",
            "align_content": null,
            "align_items": null,
            "align_self": null,
            "border": null,
            "bottom": null,
            "display": null,
            "flex": null,
            "flex_flow": null,
            "grid_area": null,
            "grid_auto_columns": null,
            "grid_auto_flow": null,
            "grid_auto_rows": null,
            "grid_column": null,
            "grid_gap": null,
            "grid_row": null,
            "grid_template_areas": null,
            "grid_template_columns": null,
            "grid_template_rows": null,
            "height": null,
            "justify_content": null,
            "justify_items": null,
            "left": null,
            "margin": null,
            "max_height": null,
            "max_width": null,
            "min_height": null,
            "min_width": null,
            "object_fit": null,
            "object_position": null,
            "order": null,
            "overflow": null,
            "overflow_x": null,
            "overflow_y": null,
            "padding": null,
            "right": null,
            "top": null,
            "visibility": null,
            "width": null
          }
        },
        "68aaab43c3e04577b9fa0a81f2217022": {
          "model_module": "@jupyter-widgets/controls",
          "model_name": "ProgressStyleModel",
          "model_module_version": "1.5.0",
          "state": {
            "_model_module": "@jupyter-widgets/controls",
            "_model_module_version": "1.5.0",
            "_model_name": "ProgressStyleModel",
            "_view_count": null,
            "_view_module": "@jupyter-widgets/base",
            "_view_module_version": "1.2.0",
            "_view_name": "StyleView",
            "bar_color": null,
            "description_width": ""
          }
        },
        "b5487c46585c42049779214b19edd2de": {
          "model_module": "@jupyter-widgets/base",
          "model_name": "LayoutModel",
          "model_module_version": "1.2.0",
          "state": {
            "_model_module": "@jupyter-widgets/base",
            "_model_module_version": "1.2.0",
            "_model_name": "LayoutModel",
            "_view_count": null,
            "_view_module": "@jupyter-widgets/base",
            "_view_module_version": "1.2.0",
            "_view_name": "LayoutView",
            "align_content": null,
            "align_items": null,
            "align_self": null,
            "border": null,
            "bottom": null,
            "display": null,
            "flex": null,
            "flex_flow": null,
            "grid_area": null,
            "grid_auto_columns": null,
            "grid_auto_flow": null,
            "grid_auto_rows": null,
            "grid_column": null,
            "grid_gap": null,
            "grid_row": null,
            "grid_template_areas": null,
            "grid_template_columns": null,
            "grid_template_rows": null,
            "height": null,
            "justify_content": null,
            "justify_items": null,
            "left": null,
            "margin": null,
            "max_height": null,
            "max_width": null,
            "min_height": null,
            "min_width": null,
            "object_fit": null,
            "object_position": null,
            "order": null,
            "overflow": null,
            "overflow_x": null,
            "overflow_y": null,
            "padding": null,
            "right": null,
            "top": null,
            "visibility": null,
            "width": null
          }
        },
        "da4bf853ce4b4503ada7b4b40ccab1fa": {
          "model_module": "@jupyter-widgets/controls",
          "model_name": "DescriptionStyleModel",
          "model_module_version": "1.5.0",
          "state": {
            "_model_module": "@jupyter-widgets/controls",
            "_model_module_version": "1.5.0",
            "_model_name": "DescriptionStyleModel",
            "_view_count": null,
            "_view_module": "@jupyter-widgets/base",
            "_view_module_version": "1.2.0",
            "_view_name": "StyleView",
            "description_width": ""
          }
        },
        "e6fba5d58ed7477db0291059f6f4024b": {
          "model_module": "@jupyter-widgets/controls",
          "model_name": "HBoxModel",
          "model_module_version": "1.5.0",
          "state": {
            "_dom_classes": [],
            "_model_module": "@jupyter-widgets/controls",
            "_model_module_version": "1.5.0",
            "_model_name": "HBoxModel",
            "_view_count": null,
            "_view_module": "@jupyter-widgets/controls",
            "_view_module_version": "1.5.0",
            "_view_name": "HBoxView",
            "box_style": "",
            "children": [
              "IPY_MODEL_d6556f58a97c4b198e331b1350ada068",
              "IPY_MODEL_b10abd23f94c468c8038f5966e02c018",
              "IPY_MODEL_f1857273859545f9a434766495fcf97f"
            ],
            "layout": "IPY_MODEL_0ab0bf9218e945e3b427f609f891c224"
          }
        },
        "d6556f58a97c4b198e331b1350ada068": {
          "model_module": "@jupyter-widgets/controls",
          "model_name": "HTMLModel",
          "model_module_version": "1.5.0",
          "state": {
            "_dom_classes": [],
            "_model_module": "@jupyter-widgets/controls",
            "_model_module_version": "1.5.0",
            "_model_name": "HTMLModel",
            "_view_count": null,
            "_view_module": "@jupyter-widgets/controls",
            "_view_module_version": "1.5.0",
            "_view_name": "HTMLView",
            "description": "",
            "description_tooltip": null,
            "layout": "IPY_MODEL_908d28cae7a24a04996e592dd49387f7",
            "placeholder": "​",
            "style": "IPY_MODEL_3dcf307495fd4aa3b9a74ad1689b0f7e",
            "value": "model-00002-of-00002.safetensors: 100%"
          }
        },
        "b10abd23f94c468c8038f5966e02c018": {
          "model_module": "@jupyter-widgets/controls",
          "model_name": "FloatProgressModel",
          "model_module_version": "1.5.0",
          "state": {
            "_dom_classes": [],
            "_model_module": "@jupyter-widgets/controls",
            "_model_module_version": "1.5.0",
            "_model_name": "FloatProgressModel",
            "_view_count": null,
            "_view_module": "@jupyter-widgets/controls",
            "_view_module_version": "1.5.0",
            "_view_name": "ProgressView",
            "bar_style": "success",
            "description": "",
            "description_tooltip": null,
            "layout": "IPY_MODEL_eff3f63391644d18aff316b09b6a67f9",
            "max": 3500297344,
            "min": 0,
            "orientation": "horizontal",
            "style": "IPY_MODEL_5a5626b8fd8a4269aeb31c54d816ed62",
            "value": 3500297344
          }
        },
        "f1857273859545f9a434766495fcf97f": {
          "model_module": "@jupyter-widgets/controls",
          "model_name": "HTMLModel",
          "model_module_version": "1.5.0",
          "state": {
            "_dom_classes": [],
            "_model_module": "@jupyter-widgets/controls",
            "_model_module_version": "1.5.0",
            "_model_name": "HTMLModel",
            "_view_count": null,
            "_view_module": "@jupyter-widgets/controls",
            "_view_module_version": "1.5.0",
            "_view_name": "HTMLView",
            "description": "",
            "description_tooltip": null,
            "layout": "IPY_MODEL_4577f02a31354def89547d0c7f349a48",
            "placeholder": "​",
            "style": "IPY_MODEL_c457042e1b964e1fabf80825bef42ac1",
            "value": " 3.50G/3.50G [00:10&lt;00:00, 312MB/s]"
          }
        },
        "0ab0bf9218e945e3b427f609f891c224": {
          "model_module": "@jupyter-widgets/base",
          "model_name": "LayoutModel",
          "model_module_version": "1.2.0",
          "state": {
            "_model_module": "@jupyter-widgets/base",
            "_model_module_version": "1.2.0",
            "_model_name": "LayoutModel",
            "_view_count": null,
            "_view_module": "@jupyter-widgets/base",
            "_view_module_version": "1.2.0",
            "_view_name": "LayoutView",
            "align_content": null,
            "align_items": null,
            "align_self": null,
            "border": null,
            "bottom": null,
            "display": null,
            "flex": null,
            "flex_flow": null,
            "grid_area": null,
            "grid_auto_columns": null,
            "grid_auto_flow": null,
            "grid_auto_rows": null,
            "grid_column": null,
            "grid_gap": null,
            "grid_row": null,
            "grid_template_areas": null,
            "grid_template_columns": null,
            "grid_template_rows": null,
            "height": null,
            "justify_content": null,
            "justify_items": null,
            "left": null,
            "margin": null,
            "max_height": null,
            "max_width": null,
            "min_height": null,
            "min_width": null,
            "object_fit": null,
            "object_position": null,
            "order": null,
            "overflow": null,
            "overflow_x": null,
            "overflow_y": null,
            "padding": null,
            "right": null,
            "top": null,
            "visibility": null,
            "width": null
          }
        },
        "908d28cae7a24a04996e592dd49387f7": {
          "model_module": "@jupyter-widgets/base",
          "model_name": "LayoutModel",
          "model_module_version": "1.2.0",
          "state": {
            "_model_module": "@jupyter-widgets/base",
            "_model_module_version": "1.2.0",
            "_model_name": "LayoutModel",
            "_view_count": null,
            "_view_module": "@jupyter-widgets/base",
            "_view_module_version": "1.2.0",
            "_view_name": "LayoutView",
            "align_content": null,
            "align_items": null,
            "align_self": null,
            "border": null,
            "bottom": null,
            "display": null,
            "flex": null,
            "flex_flow": null,
            "grid_area": null,
            "grid_auto_columns": null,
            "grid_auto_flow": null,
            "grid_auto_rows": null,
            "grid_column": null,
            "grid_gap": null,
            "grid_row": null,
            "grid_template_areas": null,
            "grid_template_columns": null,
            "grid_template_rows": null,
            "height": null,
            "justify_content": null,
            "justify_items": null,
            "left": null,
            "margin": null,
            "max_height": null,
            "max_width": null,
            "min_height": null,
            "min_width": null,
            "object_fit": null,
            "object_position": null,
            "order": null,
            "overflow": null,
            "overflow_x": null,
            "overflow_y": null,
            "padding": null,
            "right": null,
            "top": null,
            "visibility": null,
            "width": null
          }
        },
        "3dcf307495fd4aa3b9a74ad1689b0f7e": {
          "model_module": "@jupyter-widgets/controls",
          "model_name": "DescriptionStyleModel",
          "model_module_version": "1.5.0",
          "state": {
            "_model_module": "@jupyter-widgets/controls",
            "_model_module_version": "1.5.0",
            "_model_name": "DescriptionStyleModel",
            "_view_count": null,
            "_view_module": "@jupyter-widgets/base",
            "_view_module_version": "1.2.0",
            "_view_name": "StyleView",
            "description_width": ""
          }
        },
        "eff3f63391644d18aff316b09b6a67f9": {
          "model_module": "@jupyter-widgets/base",
          "model_name": "LayoutModel",
          "model_module_version": "1.2.0",
          "state": {
            "_model_module": "@jupyter-widgets/base",
            "_model_module_version": "1.2.0",
            "_model_name": "LayoutModel",
            "_view_count": null,
            "_view_module": "@jupyter-widgets/base",
            "_view_module_version": "1.2.0",
            "_view_name": "LayoutView",
            "align_content": null,
            "align_items": null,
            "align_self": null,
            "border": null,
            "bottom": null,
            "display": null,
            "flex": null,
            "flex_flow": null,
            "grid_area": null,
            "grid_auto_columns": null,
            "grid_auto_flow": null,
            "grid_auto_rows": null,
            "grid_column": null,
            "grid_gap": null,
            "grid_row": null,
            "grid_template_areas": null,
            "grid_template_columns": null,
            "grid_template_rows": null,
            "height": null,
            "justify_content": null,
            "justify_items": null,
            "left": null,
            "margin": null,
            "max_height": null,
            "max_width": null,
            "min_height": null,
            "min_width": null,
            "object_fit": null,
            "object_position": null,
            "order": null,
            "overflow": null,
            "overflow_x": null,
            "overflow_y": null,
            "padding": null,
            "right": null,
            "top": null,
            "visibility": null,
            "width": null
          }
        },
        "5a5626b8fd8a4269aeb31c54d816ed62": {
          "model_module": "@jupyter-widgets/controls",
          "model_name": "ProgressStyleModel",
          "model_module_version": "1.5.0",
          "state": {
            "_model_module": "@jupyter-widgets/controls",
            "_model_module_version": "1.5.0",
            "_model_name": "ProgressStyleModel",
            "_view_count": null,
            "_view_module": "@jupyter-widgets/base",
            "_view_module_version": "1.2.0",
            "_view_name": "StyleView",
            "bar_color": null,
            "description_width": ""
          }
        },
        "4577f02a31354def89547d0c7f349a48": {
          "model_module": "@jupyter-widgets/base",
          "model_name": "LayoutModel",
          "model_module_version": "1.2.0",
          "state": {
            "_model_module": "@jupyter-widgets/base",
            "_model_module_version": "1.2.0",
            "_model_name": "LayoutModel",
            "_view_count": null,
            "_view_module": "@jupyter-widgets/base",
            "_view_module_version": "1.2.0",
            "_view_name": "LayoutView",
            "align_content": null,
            "align_items": null,
            "align_self": null,
            "border": null,
            "bottom": null,
            "display": null,
            "flex": null,
            "flex_flow": null,
            "grid_area": null,
            "grid_auto_columns": null,
            "grid_auto_flow": null,
            "grid_auto_rows": null,
            "grid_column": null,
            "grid_gap": null,
            "grid_row": null,
            "grid_template_areas": null,
            "grid_template_columns": null,
            "grid_template_rows": null,
            "height": null,
            "justify_content": null,
            "justify_items": null,
            "left": null,
            "margin": null,
            "max_height": null,
            "max_width": null,
            "min_height": null,
            "min_width": null,
            "object_fit": null,
            "object_position": null,
            "order": null,
            "overflow": null,
            "overflow_x": null,
            "overflow_y": null,
            "padding": null,
            "right": null,
            "top": null,
            "visibility": null,
            "width": null
          }
        },
        "c457042e1b964e1fabf80825bef42ac1": {
          "model_module": "@jupyter-widgets/controls",
          "model_name": "DescriptionStyleModel",
          "model_module_version": "1.5.0",
          "state": {
            "_model_module": "@jupyter-widgets/controls",
            "_model_module_version": "1.5.0",
            "_model_name": "DescriptionStyleModel",
            "_view_count": null,
            "_view_module": "@jupyter-widgets/base",
            "_view_module_version": "1.2.0",
            "_view_name": "StyleView",
            "description_width": ""
          }
        },
        "66be2972709c42abbdc8b9c51556ef98": {
          "model_module": "@jupyter-widgets/controls",
          "model_name": "HBoxModel",
          "model_module_version": "1.5.0",
          "state": {
            "_dom_classes": [],
            "_model_module": "@jupyter-widgets/controls",
            "_model_module_version": "1.5.0",
            "_model_name": "HBoxModel",
            "_view_count": null,
            "_view_module": "@jupyter-widgets/controls",
            "_view_module_version": "1.5.0",
            "_view_name": "HBoxView",
            "box_style": "",
            "children": [
              "IPY_MODEL_21ae239d94c24250aa877383e1760e3d",
              "IPY_MODEL_381cbf53bf75410eb846a7903405202c",
              "IPY_MODEL_e88b936fd37c49b1b6b572652703efbb"
            ],
            "layout": "IPY_MODEL_fd02807d7b5a47be8352cb20397992d8"
          }
        },
        "21ae239d94c24250aa877383e1760e3d": {
          "model_module": "@jupyter-widgets/controls",
          "model_name": "HTMLModel",
          "model_module_version": "1.5.0",
          "state": {
            "_dom_classes": [],
            "_model_module": "@jupyter-widgets/controls",
            "_model_module_version": "1.5.0",
            "_model_name": "HTMLModel",
            "_view_count": null,
            "_view_module": "@jupyter-widgets/controls",
            "_view_module_version": "1.5.0",
            "_view_name": "HTMLView",
            "description": "",
            "description_tooltip": null,
            "layout": "IPY_MODEL_c859bae6cc884e398223358eecdef2b3",
            "placeholder": "​",
            "style": "IPY_MODEL_6f92484e15e34c58b4f1b396c36521a5",
            "value": "Loading checkpoint shards: 100%"
          }
        },
        "381cbf53bf75410eb846a7903405202c": {
          "model_module": "@jupyter-widgets/controls",
          "model_name": "FloatProgressModel",
          "model_module_version": "1.5.0",
          "state": {
            "_dom_classes": [],
            "_model_module": "@jupyter-widgets/controls",
            "_model_module_version": "1.5.0",
            "_model_name": "FloatProgressModel",
            "_view_count": null,
            "_view_module": "@jupyter-widgets/controls",
            "_view_module_version": "1.5.0",
            "_view_name": "ProgressView",
            "bar_style": "success",
            "description": "",
            "description_tooltip": null,
            "layout": "IPY_MODEL_8113f320dd7b4c7b807ae96552b6c12b",
            "max": 2,
            "min": 0,
            "orientation": "horizontal",
            "style": "IPY_MODEL_83d5eced66614aad8edaf81f46361cb6",
            "value": 2
          }
        },
        "e88b936fd37c49b1b6b572652703efbb": {
          "model_module": "@jupyter-widgets/controls",
          "model_name": "HTMLModel",
          "model_module_version": "1.5.0",
          "state": {
            "_dom_classes": [],
            "_model_module": "@jupyter-widgets/controls",
            "_model_module_version": "1.5.0",
            "_model_name": "HTMLModel",
            "_view_count": null,
            "_view_module": "@jupyter-widgets/controls",
            "_view_module_version": "1.5.0",
            "_view_name": "HTMLView",
            "description": "",
            "description_tooltip": null,
            "layout": "IPY_MODEL_4eb75b5dc56e426ba799959d4507b8dc",
            "placeholder": "​",
            "style": "IPY_MODEL_8385518f9511430fa5650002374ccac1",
            "value": " 2/2 [00:11&lt;00:00,  5.07s/it]"
          }
        },
        "fd02807d7b5a47be8352cb20397992d8": {
          "model_module": "@jupyter-widgets/base",
          "model_name": "LayoutModel",
          "model_module_version": "1.2.0",
          "state": {
            "_model_module": "@jupyter-widgets/base",
            "_model_module_version": "1.2.0",
            "_model_name": "LayoutModel",
            "_view_count": null,
            "_view_module": "@jupyter-widgets/base",
            "_view_module_version": "1.2.0",
            "_view_name": "LayoutView",
            "align_content": null,
            "align_items": null,
            "align_self": null,
            "border": null,
            "bottom": null,
            "display": null,
            "flex": null,
            "flex_flow": null,
            "grid_area": null,
            "grid_auto_columns": null,
            "grid_auto_flow": null,
            "grid_auto_rows": null,
            "grid_column": null,
            "grid_gap": null,
            "grid_row": null,
            "grid_template_areas": null,
            "grid_template_columns": null,
            "grid_template_rows": null,
            "height": null,
            "justify_content": null,
            "justify_items": null,
            "left": null,
            "margin": null,
            "max_height": null,
            "max_width": null,
            "min_height": null,
            "min_width": null,
            "object_fit": null,
            "object_position": null,
            "order": null,
            "overflow": null,
            "overflow_x": null,
            "overflow_y": null,
            "padding": null,
            "right": null,
            "top": null,
            "visibility": null,
            "width": null
          }
        },
        "c859bae6cc884e398223358eecdef2b3": {
          "model_module": "@jupyter-widgets/base",
          "model_name": "LayoutModel",
          "model_module_version": "1.2.0",
          "state": {
            "_model_module": "@jupyter-widgets/base",
            "_model_module_version": "1.2.0",
            "_model_name": "LayoutModel",
            "_view_count": null,
            "_view_module": "@jupyter-widgets/base",
            "_view_module_version": "1.2.0",
            "_view_name": "LayoutView",
            "align_content": null,
            "align_items": null,
            "align_self": null,
            "border": null,
            "bottom": null,
            "display": null,
            "flex": null,
            "flex_flow": null,
            "grid_area": null,
            "grid_auto_columns": null,
            "grid_auto_flow": null,
            "grid_auto_rows": null,
            "grid_column": null,
            "grid_gap": null,
            "grid_row": null,
            "grid_template_areas": null,
            "grid_template_columns": null,
            "grid_template_rows": null,
            "height": null,
            "justify_content": null,
            "justify_items": null,
            "left": null,
            "margin": null,
            "max_height": null,
            "max_width": null,
            "min_height": null,
            "min_width": null,
            "object_fit": null,
            "object_position": null,
            "order": null,
            "overflow": null,
            "overflow_x": null,
            "overflow_y": null,
            "padding": null,
            "right": null,
            "top": null,
            "visibility": null,
            "width": null
          }
        },
        "6f92484e15e34c58b4f1b396c36521a5": {
          "model_module": "@jupyter-widgets/controls",
          "model_name": "DescriptionStyleModel",
          "model_module_version": "1.5.0",
          "state": {
            "_model_module": "@jupyter-widgets/controls",
            "_model_module_version": "1.5.0",
            "_model_name": "DescriptionStyleModel",
            "_view_count": null,
            "_view_module": "@jupyter-widgets/base",
            "_view_module_version": "1.2.0",
            "_view_name": "StyleView",
            "description_width": ""
          }
        },
        "8113f320dd7b4c7b807ae96552b6c12b": {
          "model_module": "@jupyter-widgets/base",
          "model_name": "LayoutModel",
          "model_module_version": "1.2.0",
          "state": {
            "_model_module": "@jupyter-widgets/base",
            "_model_module_version": "1.2.0",
            "_model_name": "LayoutModel",
            "_view_count": null,
            "_view_module": "@jupyter-widgets/base",
            "_view_module_version": "1.2.0",
            "_view_name": "LayoutView",
            "align_content": null,
            "align_items": null,
            "align_self": null,
            "border": null,
            "bottom": null,
            "display": null,
            "flex": null,
            "flex_flow": null,
            "grid_area": null,
            "grid_auto_columns": null,
            "grid_auto_flow": null,
            "grid_auto_rows": null,
            "grid_column": null,
            "grid_gap": null,
            "grid_row": null,
            "grid_template_areas": null,
            "grid_template_columns": null,
            "grid_template_rows": null,
            "height": null,
            "justify_content": null,
            "justify_items": null,
            "left": null,
            "margin": null,
            "max_height": null,
            "max_width": null,
            "min_height": null,
            "min_width": null,
            "object_fit": null,
            "object_position": null,
            "order": null,
            "overflow": null,
            "overflow_x": null,
            "overflow_y": null,
            "padding": null,
            "right": null,
            "top": null,
            "visibility": null,
            "width": null
          }
        },
        "83d5eced66614aad8edaf81f46361cb6": {
          "model_module": "@jupyter-widgets/controls",
          "model_name": "ProgressStyleModel",
          "model_module_version": "1.5.0",
          "state": {
            "_model_module": "@jupyter-widgets/controls",
            "_model_module_version": "1.5.0",
            "_model_name": "ProgressStyleModel",
            "_view_count": null,
            "_view_module": "@jupyter-widgets/base",
            "_view_module_version": "1.2.0",
            "_view_name": "StyleView",
            "bar_color": null,
            "description_width": ""
          }
        },
        "4eb75b5dc56e426ba799959d4507b8dc": {
          "model_module": "@jupyter-widgets/base",
          "model_name": "LayoutModel",
          "model_module_version": "1.2.0",
          "state": {
            "_model_module": "@jupyter-widgets/base",
            "_model_module_version": "1.2.0",
            "_model_name": "LayoutModel",
            "_view_count": null,
            "_view_module": "@jupyter-widgets/base",
            "_view_module_version": "1.2.0",
            "_view_name": "LayoutView",
            "align_content": null,
            "align_items": null,
            "align_self": null,
            "border": null,
            "bottom": null,
            "display": null,
            "flex": null,
            "flex_flow": null,
            "grid_area": null,
            "grid_auto_columns": null,
            "grid_auto_flow": null,
            "grid_auto_rows": null,
            "grid_column": null,
            "grid_gap": null,
            "grid_row": null,
            "grid_template_areas": null,
            "grid_template_columns": null,
            "grid_template_rows": null,
            "height": null,
            "justify_content": null,
            "justify_items": null,
            "left": null,
            "margin": null,
            "max_height": null,
            "max_width": null,
            "min_height": null,
            "min_width": null,
            "object_fit": null,
            "object_position": null,
            "order": null,
            "overflow": null,
            "overflow_x": null,
            "overflow_y": null,
            "padding": null,
            "right": null,
            "top": null,
            "visibility": null,
            "width": null
          }
        },
        "8385518f9511430fa5650002374ccac1": {
          "model_module": "@jupyter-widgets/controls",
          "model_name": "DescriptionStyleModel",
          "model_module_version": "1.5.0",
          "state": {
            "_model_module": "@jupyter-widgets/controls",
            "_model_module_version": "1.5.0",
            "_model_name": "DescriptionStyleModel",
            "_view_count": null,
            "_view_module": "@jupyter-widgets/base",
            "_view_module_version": "1.2.0",
            "_view_name": "StyleView",
            "description_width": ""
          }
        },
        "53961e2aeca145af8f51a2aa1eaf82dc": {
          "model_module": "@jupyter-widgets/controls",
          "model_name": "HBoxModel",
          "model_module_version": "1.5.0",
          "state": {
            "_dom_classes": [],
            "_model_module": "@jupyter-widgets/controls",
            "_model_module_version": "1.5.0",
            "_model_name": "HBoxModel",
            "_view_count": null,
            "_view_module": "@jupyter-widgets/controls",
            "_view_module_version": "1.5.0",
            "_view_name": "HBoxView",
            "box_style": "",
            "children": [
              "IPY_MODEL_6a7c839afb214d25872ce6791318967e",
              "IPY_MODEL_08b253e8a94745659b23106ffabbd58b",
              "IPY_MODEL_b92c8cf309514ea399448f00966c0fde"
            ],
            "layout": "IPY_MODEL_9c5afc94eebb4a039b81baf9dc1b9c92"
          }
        },
        "6a7c839afb214d25872ce6791318967e": {
          "model_module": "@jupyter-widgets/controls",
          "model_name": "HTMLModel",
          "model_module_version": "1.5.0",
          "state": {
            "_dom_classes": [],
            "_model_module": "@jupyter-widgets/controls",
            "_model_module_version": "1.5.0",
            "_model_name": "HTMLModel",
            "_view_count": null,
            "_view_module": "@jupyter-widgets/controls",
            "_view_module_version": "1.5.0",
            "_view_name": "HTMLView",
            "description": "",
            "description_tooltip": null,
            "layout": "IPY_MODEL_37efdb36d84148fa9aab7db3e9abd9dd",
            "placeholder": "​",
            "style": "IPY_MODEL_1fa3ef9ce9f8444aaff57bc57a7b0c63",
            "value": "generation_config.json: 100%"
          }
        },
        "08b253e8a94745659b23106ffabbd58b": {
          "model_module": "@jupyter-widgets/controls",
          "model_name": "FloatProgressModel",
          "model_module_version": "1.5.0",
          "state": {
            "_dom_classes": [],
            "_model_module": "@jupyter-widgets/controls",
            "_model_module_version": "1.5.0",
            "_model_name": "FloatProgressModel",
            "_view_count": null,
            "_view_module": "@jupyter-widgets/controls",
            "_view_module_version": "1.5.0",
            "_view_name": "ProgressView",
            "bar_style": "success",
            "description": "",
            "description_tooltip": null,
            "layout": "IPY_MODEL_9624edd98ea049ad89ec33a8b151f105",
            "max": 179,
            "min": 0,
            "orientation": "horizontal",
            "style": "IPY_MODEL_1391afe73396476e8edf88583257ab2c",
            "value": 179
          }
        },
        "b92c8cf309514ea399448f00966c0fde": {
          "model_module": "@jupyter-widgets/controls",
          "model_name": "HTMLModel",
          "model_module_version": "1.5.0",
          "state": {
            "_dom_classes": [],
            "_model_module": "@jupyter-widgets/controls",
            "_model_module_version": "1.5.0",
            "_model_name": "HTMLModel",
            "_view_count": null,
            "_view_module": "@jupyter-widgets/controls",
            "_view_module_version": "1.5.0",
            "_view_name": "HTMLView",
            "description": "",
            "description_tooltip": null,
            "layout": "IPY_MODEL_fb64bf3ffbe6449498218d02652e38b5",
            "placeholder": "​",
            "style": "IPY_MODEL_7a36ebab83044af681e54be23b93e038",
            "value": " 179/179 [00:00&lt;00:00, 14.5kB/s]"
          }
        },
        "9c5afc94eebb4a039b81baf9dc1b9c92": {
          "model_module": "@jupyter-widgets/base",
          "model_name": "LayoutModel",
          "model_module_version": "1.2.0",
          "state": {
            "_model_module": "@jupyter-widgets/base",
            "_model_module_version": "1.2.0",
            "_model_name": "LayoutModel",
            "_view_count": null,
            "_view_module": "@jupyter-widgets/base",
            "_view_module_version": "1.2.0",
            "_view_name": "LayoutView",
            "align_content": null,
            "align_items": null,
            "align_self": null,
            "border": null,
            "bottom": null,
            "display": null,
            "flex": null,
            "flex_flow": null,
            "grid_area": null,
            "grid_auto_columns": null,
            "grid_auto_flow": null,
            "grid_auto_rows": null,
            "grid_column": null,
            "grid_gap": null,
            "grid_row": null,
            "grid_template_areas": null,
            "grid_template_columns": null,
            "grid_template_rows": null,
            "height": null,
            "justify_content": null,
            "justify_items": null,
            "left": null,
            "margin": null,
            "max_height": null,
            "max_width": null,
            "min_height": null,
            "min_width": null,
            "object_fit": null,
            "object_position": null,
            "order": null,
            "overflow": null,
            "overflow_x": null,
            "overflow_y": null,
            "padding": null,
            "right": null,
            "top": null,
            "visibility": null,
            "width": null
          }
        },
        "37efdb36d84148fa9aab7db3e9abd9dd": {
          "model_module": "@jupyter-widgets/base",
          "model_name": "LayoutModel",
          "model_module_version": "1.2.0",
          "state": {
            "_model_module": "@jupyter-widgets/base",
            "_model_module_version": "1.2.0",
            "_model_name": "LayoutModel",
            "_view_count": null,
            "_view_module": "@jupyter-widgets/base",
            "_view_module_version": "1.2.0",
            "_view_name": "LayoutView",
            "align_content": null,
            "align_items": null,
            "align_self": null,
            "border": null,
            "bottom": null,
            "display": null,
            "flex": null,
            "flex_flow": null,
            "grid_area": null,
            "grid_auto_columns": null,
            "grid_auto_flow": null,
            "grid_auto_rows": null,
            "grid_column": null,
            "grid_gap": null,
            "grid_row": null,
            "grid_template_areas": null,
            "grid_template_columns": null,
            "grid_template_rows": null,
            "height": null,
            "justify_content": null,
            "justify_items": null,
            "left": null,
            "margin": null,
            "max_height": null,
            "max_width": null,
            "min_height": null,
            "min_width": null,
            "object_fit": null,
            "object_position": null,
            "order": null,
            "overflow": null,
            "overflow_x": null,
            "overflow_y": null,
            "padding": null,
            "right": null,
            "top": null,
            "visibility": null,
            "width": null
          }
        },
        "1fa3ef9ce9f8444aaff57bc57a7b0c63": {
          "model_module": "@jupyter-widgets/controls",
          "model_name": "DescriptionStyleModel",
          "model_module_version": "1.5.0",
          "state": {
            "_model_module": "@jupyter-widgets/controls",
            "_model_module_version": "1.5.0",
            "_model_name": "DescriptionStyleModel",
            "_view_count": null,
            "_view_module": "@jupyter-widgets/base",
            "_view_module_version": "1.2.0",
            "_view_name": "StyleView",
            "description_width": ""
          }
        },
        "9624edd98ea049ad89ec33a8b151f105": {
          "model_module": "@jupyter-widgets/base",
          "model_name": "LayoutModel",
          "model_module_version": "1.2.0",
          "state": {
            "_model_module": "@jupyter-widgets/base",
            "_model_module_version": "1.2.0",
            "_model_name": "LayoutModel",
            "_view_count": null,
            "_view_module": "@jupyter-widgets/base",
            "_view_module_version": "1.2.0",
            "_view_name": "LayoutView",
            "align_content": null,
            "align_items": null,
            "align_self": null,
            "border": null,
            "bottom": null,
            "display": null,
            "flex": null,
            "flex_flow": null,
            "grid_area": null,
            "grid_auto_columns": null,
            "grid_auto_flow": null,
            "grid_auto_rows": null,
            "grid_column": null,
            "grid_gap": null,
            "grid_row": null,
            "grid_template_areas": null,
            "grid_template_columns": null,
            "grid_template_rows": null,
            "height": null,
            "justify_content": null,
            "justify_items": null,
            "left": null,
            "margin": null,
            "max_height": null,
            "max_width": null,
            "min_height": null,
            "min_width": null,
            "object_fit": null,
            "object_position": null,
            "order": null,
            "overflow": null,
            "overflow_x": null,
            "overflow_y": null,
            "padding": null,
            "right": null,
            "top": null,
            "visibility": null,
            "width": null
          }
        },
        "1391afe73396476e8edf88583257ab2c": {
          "model_module": "@jupyter-widgets/controls",
          "model_name": "ProgressStyleModel",
          "model_module_version": "1.5.0",
          "state": {
            "_model_module": "@jupyter-widgets/controls",
            "_model_module_version": "1.5.0",
            "_model_name": "ProgressStyleModel",
            "_view_count": null,
            "_view_module": "@jupyter-widgets/base",
            "_view_module_version": "1.2.0",
            "_view_name": "StyleView",
            "bar_color": null,
            "description_width": ""
          }
        },
        "fb64bf3ffbe6449498218d02652e38b5": {
          "model_module": "@jupyter-widgets/base",
          "model_name": "LayoutModel",
          "model_module_version": "1.2.0",
          "state": {
            "_model_module": "@jupyter-widgets/base",
            "_model_module_version": "1.2.0",
            "_model_name": "LayoutModel",
            "_view_count": null,
            "_view_module": "@jupyter-widgets/base",
            "_view_module_version": "1.2.0",
            "_view_name": "LayoutView",
            "align_content": null,
            "align_items": null,
            "align_self": null,
            "border": null,
            "bottom": null,
            "display": null,
            "flex": null,
            "flex_flow": null,
            "grid_area": null,
            "grid_auto_columns": null,
            "grid_auto_flow": null,
            "grid_auto_rows": null,
            "grid_column": null,
            "grid_gap": null,
            "grid_row": null,
            "grid_template_areas": null,
            "grid_template_columns": null,
            "grid_template_rows": null,
            "height": null,
            "justify_content": null,
            "justify_items": null,
            "left": null,
            "margin": null,
            "max_height": null,
            "max_width": null,
            "min_height": null,
            "min_width": null,
            "object_fit": null,
            "object_position": null,
            "order": null,
            "overflow": null,
            "overflow_x": null,
            "overflow_y": null,
            "padding": null,
            "right": null,
            "top": null,
            "visibility": null,
            "width": null
          }
        },
        "7a36ebab83044af681e54be23b93e038": {
          "model_module": "@jupyter-widgets/controls",
          "model_name": "DescriptionStyleModel",
          "model_module_version": "1.5.0",
          "state": {
            "_model_module": "@jupyter-widgets/controls",
            "_model_module_version": "1.5.0",
            "_model_name": "DescriptionStyleModel",
            "_view_count": null,
            "_view_module": "@jupyter-widgets/base",
            "_view_module_version": "1.2.0",
            "_view_name": "StyleView",
            "description_width": ""
          }
        },
        "9917750d40ae453b9b77098c4e8dc503": {
          "model_module": "@jupyter-widgets/controls",
          "model_name": "HBoxModel",
          "model_module_version": "1.5.0",
          "state": {
            "_dom_classes": [],
            "_model_module": "@jupyter-widgets/controls",
            "_model_module_version": "1.5.0",
            "_model_name": "HBoxModel",
            "_view_count": null,
            "_view_module": "@jupyter-widgets/controls",
            "_view_module_version": "1.5.0",
            "_view_name": "HBoxView",
            "box_style": "",
            "children": [
              "IPY_MODEL_e2d9a8df4e1e4044840a4b050f80b6db",
              "IPY_MODEL_325183c51c284c51a6b01c55b488c147",
              "IPY_MODEL_0b0e1e2da90644a384603639268a4025"
            ],
            "layout": "IPY_MODEL_c135790244ff45deb391c8bc0fe29b16"
          }
        },
        "e2d9a8df4e1e4044840a4b050f80b6db": {
          "model_module": "@jupyter-widgets/controls",
          "model_name": "HTMLModel",
          "model_module_version": "1.5.0",
          "state": {
            "_dom_classes": [],
            "_model_module": "@jupyter-widgets/controls",
            "_model_module_version": "1.5.0",
            "_model_name": "HTMLModel",
            "_view_count": null,
            "_view_module": "@jupyter-widgets/controls",
            "_view_module_version": "1.5.0",
            "_view_name": "HTMLView",
            "description": "",
            "description_tooltip": null,
            "layout": "IPY_MODEL_dc94a4c77625421aaef719adcc350cc6",
            "placeholder": "​",
            "style": "IPY_MODEL_3a4a4acd631542c681a17f53204ff7ff",
            "value": "Filter: 100%"
          }
        },
        "325183c51c284c51a6b01c55b488c147": {
          "model_module": "@jupyter-widgets/controls",
          "model_name": "FloatProgressModel",
          "model_module_version": "1.5.0",
          "state": {
            "_dom_classes": [],
            "_model_module": "@jupyter-widgets/controls",
            "_model_module_version": "1.5.0",
            "_model_name": "FloatProgressModel",
            "_view_count": null,
            "_view_module": "@jupyter-widgets/controls",
            "_view_module_version": "1.5.0",
            "_view_name": "ProgressView",
            "bar_style": "success",
            "description": "",
            "description_tooltip": null,
            "layout": "IPY_MODEL_1ffc65c204e544ca8df8adafce3a116c",
            "max": 46837,
            "min": 0,
            "orientation": "horizontal",
            "style": "IPY_MODEL_6edf4cb0c5394c3d9392506590474860",
            "value": 46837
          }
        },
        "0b0e1e2da90644a384603639268a4025": {
          "model_module": "@jupyter-widgets/controls",
          "model_name": "HTMLModel",
          "model_module_version": "1.5.0",
          "state": {
            "_dom_classes": [],
            "_model_module": "@jupyter-widgets/controls",
            "_model_module_version": "1.5.0",
            "_model_name": "HTMLModel",
            "_view_count": null,
            "_view_module": "@jupyter-widgets/controls",
            "_view_module_version": "1.5.0",
            "_view_name": "HTMLView",
            "description": "",
            "description_tooltip": null,
            "layout": "IPY_MODEL_7ad6d43a1a1142b292c032a8f6855d2b",
            "placeholder": "​",
            "style": "IPY_MODEL_3049afb059ce4a9cab3e67a020a5ca68",
            "value": " 46837/46837 [00:00&lt;00:00, 54581.02 examples/s]"
          }
        },
        "c135790244ff45deb391c8bc0fe29b16": {
          "model_module": "@jupyter-widgets/base",
          "model_name": "LayoutModel",
          "model_module_version": "1.2.0",
          "state": {
            "_model_module": "@jupyter-widgets/base",
            "_model_module_version": "1.2.0",
            "_model_name": "LayoutModel",
            "_view_count": null,
            "_view_module": "@jupyter-widgets/base",
            "_view_module_version": "1.2.0",
            "_view_name": "LayoutView",
            "align_content": null,
            "align_items": null,
            "align_self": null,
            "border": null,
            "bottom": null,
            "display": null,
            "flex": null,
            "flex_flow": null,
            "grid_area": null,
            "grid_auto_columns": null,
            "grid_auto_flow": null,
            "grid_auto_rows": null,
            "grid_column": null,
            "grid_gap": null,
            "grid_row": null,
            "grid_template_areas": null,
            "grid_template_columns": null,
            "grid_template_rows": null,
            "height": null,
            "justify_content": null,
            "justify_items": null,
            "left": null,
            "margin": null,
            "max_height": null,
            "max_width": null,
            "min_height": null,
            "min_width": null,
            "object_fit": null,
            "object_position": null,
            "order": null,
            "overflow": null,
            "overflow_x": null,
            "overflow_y": null,
            "padding": null,
            "right": null,
            "top": null,
            "visibility": null,
            "width": null
          }
        },
        "dc94a4c77625421aaef719adcc350cc6": {
          "model_module": "@jupyter-widgets/base",
          "model_name": "LayoutModel",
          "model_module_version": "1.2.0",
          "state": {
            "_model_module": "@jupyter-widgets/base",
            "_model_module_version": "1.2.0",
            "_model_name": "LayoutModel",
            "_view_count": null,
            "_view_module": "@jupyter-widgets/base",
            "_view_module_version": "1.2.0",
            "_view_name": "LayoutView",
            "align_content": null,
            "align_items": null,
            "align_self": null,
            "border": null,
            "bottom": null,
            "display": null,
            "flex": null,
            "flex_flow": null,
            "grid_area": null,
            "grid_auto_columns": null,
            "grid_auto_flow": null,
            "grid_auto_rows": null,
            "grid_column": null,
            "grid_gap": null,
            "grid_row": null,
            "grid_template_areas": null,
            "grid_template_columns": null,
            "grid_template_rows": null,
            "height": null,
            "justify_content": null,
            "justify_items": null,
            "left": null,
            "margin": null,
            "max_height": null,
            "max_width": null,
            "min_height": null,
            "min_width": null,
            "object_fit": null,
            "object_position": null,
            "order": null,
            "overflow": null,
            "overflow_x": null,
            "overflow_y": null,
            "padding": null,
            "right": null,
            "top": null,
            "visibility": null,
            "width": null
          }
        },
        "3a4a4acd631542c681a17f53204ff7ff": {
          "model_module": "@jupyter-widgets/controls",
          "model_name": "DescriptionStyleModel",
          "model_module_version": "1.5.0",
          "state": {
            "_model_module": "@jupyter-widgets/controls",
            "_model_module_version": "1.5.0",
            "_model_name": "DescriptionStyleModel",
            "_view_count": null,
            "_view_module": "@jupyter-widgets/base",
            "_view_module_version": "1.2.0",
            "_view_name": "StyleView",
            "description_width": ""
          }
        },
        "1ffc65c204e544ca8df8adafce3a116c": {
          "model_module": "@jupyter-widgets/base",
          "model_name": "LayoutModel",
          "model_module_version": "1.2.0",
          "state": {
            "_model_module": "@jupyter-widgets/base",
            "_model_module_version": "1.2.0",
            "_model_name": "LayoutModel",
            "_view_count": null,
            "_view_module": "@jupyter-widgets/base",
            "_view_module_version": "1.2.0",
            "_view_name": "LayoutView",
            "align_content": null,
            "align_items": null,
            "align_self": null,
            "border": null,
            "bottom": null,
            "display": null,
            "flex": null,
            "flex_flow": null,
            "grid_area": null,
            "grid_auto_columns": null,
            "grid_auto_flow": null,
            "grid_auto_rows": null,
            "grid_column": null,
            "grid_gap": null,
            "grid_row": null,
            "grid_template_areas": null,
            "grid_template_columns": null,
            "grid_template_rows": null,
            "height": null,
            "justify_content": null,
            "justify_items": null,
            "left": null,
            "margin": null,
            "max_height": null,
            "max_width": null,
            "min_height": null,
            "min_width": null,
            "object_fit": null,
            "object_position": null,
            "order": null,
            "overflow": null,
            "overflow_x": null,
            "overflow_y": null,
            "padding": null,
            "right": null,
            "top": null,
            "visibility": null,
            "width": null
          }
        },
        "6edf4cb0c5394c3d9392506590474860": {
          "model_module": "@jupyter-widgets/controls",
          "model_name": "ProgressStyleModel",
          "model_module_version": "1.5.0",
          "state": {
            "_model_module": "@jupyter-widgets/controls",
            "_model_module_version": "1.5.0",
            "_model_name": "ProgressStyleModel",
            "_view_count": null,
            "_view_module": "@jupyter-widgets/base",
            "_view_module_version": "1.2.0",
            "_view_name": "StyleView",
            "bar_color": null,
            "description_width": ""
          }
        },
        "7ad6d43a1a1142b292c032a8f6855d2b": {
          "model_module": "@jupyter-widgets/base",
          "model_name": "LayoutModel",
          "model_module_version": "1.2.0",
          "state": {
            "_model_module": "@jupyter-widgets/base",
            "_model_module_version": "1.2.0",
            "_model_name": "LayoutModel",
            "_view_count": null,
            "_view_module": "@jupyter-widgets/base",
            "_view_module_version": "1.2.0",
            "_view_name": "LayoutView",
            "align_content": null,
            "align_items": null,
            "align_self": null,
            "border": null,
            "bottom": null,
            "display": null,
            "flex": null,
            "flex_flow": null,
            "grid_area": null,
            "grid_auto_columns": null,
            "grid_auto_flow": null,
            "grid_auto_rows": null,
            "grid_column": null,
            "grid_gap": null,
            "grid_row": null,
            "grid_template_areas": null,
            "grid_template_columns": null,
            "grid_template_rows": null,
            "height": null,
            "justify_content": null,
            "justify_items": null,
            "left": null,
            "margin": null,
            "max_height": null,
            "max_width": null,
            "min_height": null,
            "min_width": null,
            "object_fit": null,
            "object_position": null,
            "order": null,
            "overflow": null,
            "overflow_x": null,
            "overflow_y": null,
            "padding": null,
            "right": null,
            "top": null,
            "visibility": null,
            "width": null
          }
        },
        "3049afb059ce4a9cab3e67a020a5ca68": {
          "model_module": "@jupyter-widgets/controls",
          "model_name": "DescriptionStyleModel",
          "model_module_version": "1.5.0",
          "state": {
            "_model_module": "@jupyter-widgets/controls",
            "_model_module_version": "1.5.0",
            "_model_name": "DescriptionStyleModel",
            "_view_count": null,
            "_view_module": "@jupyter-widgets/base",
            "_view_module_version": "1.2.0",
            "_view_name": "StyleView",
            "description_width": ""
          }
        },
        "f97e71777fe44cbb8ea9c01ce3e2b0be": {
          "model_module": "@jupyter-widgets/controls",
          "model_name": "HBoxModel",
          "model_module_version": "1.5.0",
          "state": {
            "_dom_classes": [],
            "_model_module": "@jupyter-widgets/controls",
            "_model_module_version": "1.5.0",
            "_model_name": "HBoxModel",
            "_view_count": null,
            "_view_module": "@jupyter-widgets/controls",
            "_view_module_version": "1.5.0",
            "_view_name": "HBoxView",
            "box_style": "",
            "children": [
              "IPY_MODEL_292ead18fd054a42b608b8a343406e1c",
              "IPY_MODEL_353f8698a6ae482295f322e81618bc8c",
              "IPY_MODEL_af57c95593964a3f9d04b9fe68e1e49f"
            ],
            "layout": "IPY_MODEL_9fcc164214f44f8193afa59396f9acf4"
          }
        },
        "292ead18fd054a42b608b8a343406e1c": {
          "model_module": "@jupyter-widgets/controls",
          "model_name": "HTMLModel",
          "model_module_version": "1.5.0",
          "state": {
            "_dom_classes": [],
            "_model_module": "@jupyter-widgets/controls",
            "_model_module_version": "1.5.0",
            "_model_name": "HTMLModel",
            "_view_count": null,
            "_view_module": "@jupyter-widgets/controls",
            "_view_module_version": "1.5.0",
            "_view_name": "HTMLView",
            "description": "",
            "description_tooltip": null,
            "layout": "IPY_MODEL_0ec5524acbbb480fa5e0650ea2dcb95a",
            "placeholder": "​",
            "style": "IPY_MODEL_5dd5ac0bce8247d8a860f0534d620ed2",
            "value": "Filter: 100%"
          }
        },
        "353f8698a6ae482295f322e81618bc8c": {
          "model_module": "@jupyter-widgets/controls",
          "model_name": "FloatProgressModel",
          "model_module_version": "1.5.0",
          "state": {
            "_dom_classes": [],
            "_model_module": "@jupyter-widgets/controls",
            "_model_module_version": "1.5.0",
            "_model_name": "FloatProgressModel",
            "_view_count": null,
            "_view_module": "@jupyter-widgets/controls",
            "_view_module_version": "1.5.0",
            "_view_name": "ProgressView",
            "bar_style": "success",
            "description": "",
            "description_tooltip": null,
            "layout": "IPY_MODEL_53983b8dfc4c477ea161e9e18adf7abf",
            "max": 11710,
            "min": 0,
            "orientation": "horizontal",
            "style": "IPY_MODEL_724fec3690f245508bcd8e1050d7db39",
            "value": 11710
          }
        },
        "af57c95593964a3f9d04b9fe68e1e49f": {
          "model_module": "@jupyter-widgets/controls",
          "model_name": "HTMLModel",
          "model_module_version": "1.5.0",
          "state": {
            "_dom_classes": [],
            "_model_module": "@jupyter-widgets/controls",
            "_model_module_version": "1.5.0",
            "_model_name": "HTMLModel",
            "_view_count": null,
            "_view_module": "@jupyter-widgets/controls",
            "_view_module_version": "1.5.0",
            "_view_name": "HTMLView",
            "description": "",
            "description_tooltip": null,
            "layout": "IPY_MODEL_fd22da28c60a48559ffdc84f016ddc26",
            "placeholder": "​",
            "style": "IPY_MODEL_e447a46d807a47dabccbfd9fc5696a0b",
            "value": " 11710/11710 [00:00&lt;00:00, 52329.37 examples/s]"
          }
        },
        "9fcc164214f44f8193afa59396f9acf4": {
          "model_module": "@jupyter-widgets/base",
          "model_name": "LayoutModel",
          "model_module_version": "1.2.0",
          "state": {
            "_model_module": "@jupyter-widgets/base",
            "_model_module_version": "1.2.0",
            "_model_name": "LayoutModel",
            "_view_count": null,
            "_view_module": "@jupyter-widgets/base",
            "_view_module_version": "1.2.0",
            "_view_name": "LayoutView",
            "align_content": null,
            "align_items": null,
            "align_self": null,
            "border": null,
            "bottom": null,
            "display": null,
            "flex": null,
            "flex_flow": null,
            "grid_area": null,
            "grid_auto_columns": null,
            "grid_auto_flow": null,
            "grid_auto_rows": null,
            "grid_column": null,
            "grid_gap": null,
            "grid_row": null,
            "grid_template_areas": null,
            "grid_template_columns": null,
            "grid_template_rows": null,
            "height": null,
            "justify_content": null,
            "justify_items": null,
            "left": null,
            "margin": null,
            "max_height": null,
            "max_width": null,
            "min_height": null,
            "min_width": null,
            "object_fit": null,
            "object_position": null,
            "order": null,
            "overflow": null,
            "overflow_x": null,
            "overflow_y": null,
            "padding": null,
            "right": null,
            "top": null,
            "visibility": null,
            "width": null
          }
        },
        "0ec5524acbbb480fa5e0650ea2dcb95a": {
          "model_module": "@jupyter-widgets/base",
          "model_name": "LayoutModel",
          "model_module_version": "1.2.0",
          "state": {
            "_model_module": "@jupyter-widgets/base",
            "_model_module_version": "1.2.0",
            "_model_name": "LayoutModel",
            "_view_count": null,
            "_view_module": "@jupyter-widgets/base",
            "_view_module_version": "1.2.0",
            "_view_name": "LayoutView",
            "align_content": null,
            "align_items": null,
            "align_self": null,
            "border": null,
            "bottom": null,
            "display": null,
            "flex": null,
            "flex_flow": null,
            "grid_area": null,
            "grid_auto_columns": null,
            "grid_auto_flow": null,
            "grid_auto_rows": null,
            "grid_column": null,
            "grid_gap": null,
            "grid_row": null,
            "grid_template_areas": null,
            "grid_template_columns": null,
            "grid_template_rows": null,
            "height": null,
            "justify_content": null,
            "justify_items": null,
            "left": null,
            "margin": null,
            "max_height": null,
            "max_width": null,
            "min_height": null,
            "min_width": null,
            "object_fit": null,
            "object_position": null,
            "order": null,
            "overflow": null,
            "overflow_x": null,
            "overflow_y": null,
            "padding": null,
            "right": null,
            "top": null,
            "visibility": null,
            "width": null
          }
        },
        "5dd5ac0bce8247d8a860f0534d620ed2": {
          "model_module": "@jupyter-widgets/controls",
          "model_name": "DescriptionStyleModel",
          "model_module_version": "1.5.0",
          "state": {
            "_model_module": "@jupyter-widgets/controls",
            "_model_module_version": "1.5.0",
            "_model_name": "DescriptionStyleModel",
            "_view_count": null,
            "_view_module": "@jupyter-widgets/base",
            "_view_module_version": "1.2.0",
            "_view_name": "StyleView",
            "description_width": ""
          }
        },
        "53983b8dfc4c477ea161e9e18adf7abf": {
          "model_module": "@jupyter-widgets/base",
          "model_name": "LayoutModel",
          "model_module_version": "1.2.0",
          "state": {
            "_model_module": "@jupyter-widgets/base",
            "_model_module_version": "1.2.0",
            "_model_name": "LayoutModel",
            "_view_count": null,
            "_view_module": "@jupyter-widgets/base",
            "_view_module_version": "1.2.0",
            "_view_name": "LayoutView",
            "align_content": null,
            "align_items": null,
            "align_self": null,
            "border": null,
            "bottom": null,
            "display": null,
            "flex": null,
            "flex_flow": null,
            "grid_area": null,
            "grid_auto_columns": null,
            "grid_auto_flow": null,
            "grid_auto_rows": null,
            "grid_column": null,
            "grid_gap": null,
            "grid_row": null,
            "grid_template_areas": null,
            "grid_template_columns": null,
            "grid_template_rows": null,
            "height": null,
            "justify_content": null,
            "justify_items": null,
            "left": null,
            "margin": null,
            "max_height": null,
            "max_width": null,
            "min_height": null,
            "min_width": null,
            "object_fit": null,
            "object_position": null,
            "order": null,
            "overflow": null,
            "overflow_x": null,
            "overflow_y": null,
            "padding": null,
            "right": null,
            "top": null,
            "visibility": null,
            "width": null
          }
        },
        "724fec3690f245508bcd8e1050d7db39": {
          "model_module": "@jupyter-widgets/controls",
          "model_name": "ProgressStyleModel",
          "model_module_version": "1.5.0",
          "state": {
            "_model_module": "@jupyter-widgets/controls",
            "_model_module_version": "1.5.0",
            "_model_name": "ProgressStyleModel",
            "_view_count": null,
            "_view_module": "@jupyter-widgets/base",
            "_view_module_version": "1.2.0",
            "_view_name": "StyleView",
            "bar_color": null,
            "description_width": ""
          }
        },
        "fd22da28c60a48559ffdc84f016ddc26": {
          "model_module": "@jupyter-widgets/base",
          "model_name": "LayoutModel",
          "model_module_version": "1.2.0",
          "state": {
            "_model_module": "@jupyter-widgets/base",
            "_model_module_version": "1.2.0",
            "_model_name": "LayoutModel",
            "_view_count": null,
            "_view_module": "@jupyter-widgets/base",
            "_view_module_version": "1.2.0",
            "_view_name": "LayoutView",
            "align_content": null,
            "align_items": null,
            "align_self": null,
            "border": null,
            "bottom": null,
            "display": null,
            "flex": null,
            "flex_flow": null,
            "grid_area": null,
            "grid_auto_columns": null,
            "grid_auto_flow": null,
            "grid_auto_rows": null,
            "grid_column": null,
            "grid_gap": null,
            "grid_row": null,
            "grid_template_areas": null,
            "grid_template_columns": null,
            "grid_template_rows": null,
            "height": null,
            "justify_content": null,
            "justify_items": null,
            "left": null,
            "margin": null,
            "max_height": null,
            "max_width": null,
            "min_height": null,
            "min_width": null,
            "object_fit": null,
            "object_position": null,
            "order": null,
            "overflow": null,
            "overflow_x": null,
            "overflow_y": null,
            "padding": null,
            "right": null,
            "top": null,
            "visibility": null,
            "width": null
          }
        },
        "e447a46d807a47dabccbfd9fc5696a0b": {
          "model_module": "@jupyter-widgets/controls",
          "model_name": "DescriptionStyleModel",
          "model_module_version": "1.5.0",
          "state": {
            "_model_module": "@jupyter-widgets/controls",
            "_model_module_version": "1.5.0",
            "_model_name": "DescriptionStyleModel",
            "_view_count": null,
            "_view_module": "@jupyter-widgets/base",
            "_view_module_version": "1.2.0",
            "_view_name": "StyleView",
            "description_width": ""
          }
        },
        "8a904518a6b74066bfad2f0d8547fcf2": {
          "model_module": "@jupyter-widgets/controls",
          "model_name": "HBoxModel",
          "model_module_version": "1.5.0",
          "state": {
            "_dom_classes": [],
            "_model_module": "@jupyter-widgets/controls",
            "_model_module_version": "1.5.0",
            "_model_name": "HBoxModel",
            "_view_count": null,
            "_view_module": "@jupyter-widgets/controls",
            "_view_module_version": "1.5.0",
            "_view_name": "HBoxView",
            "box_style": "",
            "children": [
              "IPY_MODEL_390cc8722baa4a85b160a213ee67e638",
              "IPY_MODEL_48ae69e9dcd94cd38cdfb0017d344a60",
              "IPY_MODEL_b03a07143fef4002bfd8d2775fb6df91"
            ],
            "layout": "IPY_MODEL_2b08c5f8836542c585fd6743597d3372"
          }
        },
        "390cc8722baa4a85b160a213ee67e638": {
          "model_module": "@jupyter-widgets/controls",
          "model_name": "HTMLModel",
          "model_module_version": "1.5.0",
          "state": {
            "_dom_classes": [],
            "_model_module": "@jupyter-widgets/controls",
            "_model_module_version": "1.5.0",
            "_model_name": "HTMLModel",
            "_view_count": null,
            "_view_module": "@jupyter-widgets/controls",
            "_view_module_version": "1.5.0",
            "_view_name": "HTMLView",
            "description": "",
            "description_tooltip": null,
            "layout": "IPY_MODEL_8e436db037e2498784a72ffb89098daa",
            "placeholder": "​",
            "style": "IPY_MODEL_f6391dba630648df93f16a9ebb00e8de",
            "value": "Map: 100%"
          }
        },
        "48ae69e9dcd94cd38cdfb0017d344a60": {
          "model_module": "@jupyter-widgets/controls",
          "model_name": "FloatProgressModel",
          "model_module_version": "1.5.0",
          "state": {
            "_dom_classes": [],
            "_model_module": "@jupyter-widgets/controls",
            "_model_module_version": "1.5.0",
            "_model_name": "FloatProgressModel",
            "_view_count": null,
            "_view_module": "@jupyter-widgets/controls",
            "_view_module_version": "1.5.0",
            "_view_name": "ProgressView",
            "bar_style": "success",
            "description": "",
            "description_tooltip": null,
            "layout": "IPY_MODEL_2d3bc67f8f7d4daa99ffa321c87f469a",
            "max": 137,
            "min": 0,
            "orientation": "horizontal",
            "style": "IPY_MODEL_907f8fa170c3415b89850b4f773abe51",
            "value": 137
          }
        },
        "b03a07143fef4002bfd8d2775fb6df91": {
          "model_module": "@jupyter-widgets/controls",
          "model_name": "HTMLModel",
          "model_module_version": "1.5.0",
          "state": {
            "_dom_classes": [],
            "_model_module": "@jupyter-widgets/controls",
            "_model_module_version": "1.5.0",
            "_model_name": "HTMLModel",
            "_view_count": null,
            "_view_module": "@jupyter-widgets/controls",
            "_view_module_version": "1.5.0",
            "_view_name": "HTMLView",
            "description": "",
            "description_tooltip": null,
            "layout": "IPY_MODEL_cd969f2b9a2a4361a8e6a3b2412d50a0",
            "placeholder": "​",
            "style": "IPY_MODEL_9fec4cb4e617499797c22f4066a84159",
            "value": " 137/137 [00:03&lt;00:00, 41.39 examples/s]"
          }
        },
        "2b08c5f8836542c585fd6743597d3372": {
          "model_module": "@jupyter-widgets/base",
          "model_name": "LayoutModel",
          "model_module_version": "1.2.0",
          "state": {
            "_model_module": "@jupyter-widgets/base",
            "_model_module_version": "1.2.0",
            "_model_name": "LayoutModel",
            "_view_count": null,
            "_view_module": "@jupyter-widgets/base",
            "_view_module_version": "1.2.0",
            "_view_name": "LayoutView",
            "align_content": null,
            "align_items": null,
            "align_self": null,
            "border": null,
            "bottom": null,
            "display": null,
            "flex": null,
            "flex_flow": null,
            "grid_area": null,
            "grid_auto_columns": null,
            "grid_auto_flow": null,
            "grid_auto_rows": null,
            "grid_column": null,
            "grid_gap": null,
            "grid_row": null,
            "grid_template_areas": null,
            "grid_template_columns": null,
            "grid_template_rows": null,
            "height": null,
            "justify_content": null,
            "justify_items": null,
            "left": null,
            "margin": null,
            "max_height": null,
            "max_width": null,
            "min_height": null,
            "min_width": null,
            "object_fit": null,
            "object_position": null,
            "order": null,
            "overflow": null,
            "overflow_x": null,
            "overflow_y": null,
            "padding": null,
            "right": null,
            "top": null,
            "visibility": null,
            "width": null
          }
        },
        "8e436db037e2498784a72ffb89098daa": {
          "model_module": "@jupyter-widgets/base",
          "model_name": "LayoutModel",
          "model_module_version": "1.2.0",
          "state": {
            "_model_module": "@jupyter-widgets/base",
            "_model_module_version": "1.2.0",
            "_model_name": "LayoutModel",
            "_view_count": null,
            "_view_module": "@jupyter-widgets/base",
            "_view_module_version": "1.2.0",
            "_view_name": "LayoutView",
            "align_content": null,
            "align_items": null,
            "align_self": null,
            "border": null,
            "bottom": null,
            "display": null,
            "flex": null,
            "flex_flow": null,
            "grid_area": null,
            "grid_auto_columns": null,
            "grid_auto_flow": null,
            "grid_auto_rows": null,
            "grid_column": null,
            "grid_gap": null,
            "grid_row": null,
            "grid_template_areas": null,
            "grid_template_columns": null,
            "grid_template_rows": null,
            "height": null,
            "justify_content": null,
            "justify_items": null,
            "left": null,
            "margin": null,
            "max_height": null,
            "max_width": null,
            "min_height": null,
            "min_width": null,
            "object_fit": null,
            "object_position": null,
            "order": null,
            "overflow": null,
            "overflow_x": null,
            "overflow_y": null,
            "padding": null,
            "right": null,
            "top": null,
            "visibility": null,
            "width": null
          }
        },
        "f6391dba630648df93f16a9ebb00e8de": {
          "model_module": "@jupyter-widgets/controls",
          "model_name": "DescriptionStyleModel",
          "model_module_version": "1.5.0",
          "state": {
            "_model_module": "@jupyter-widgets/controls",
            "_model_module_version": "1.5.0",
            "_model_name": "DescriptionStyleModel",
            "_view_count": null,
            "_view_module": "@jupyter-widgets/base",
            "_view_module_version": "1.2.0",
            "_view_name": "StyleView",
            "description_width": ""
          }
        },
        "2d3bc67f8f7d4daa99ffa321c87f469a": {
          "model_module": "@jupyter-widgets/base",
          "model_name": "LayoutModel",
          "model_module_version": "1.2.0",
          "state": {
            "_model_module": "@jupyter-widgets/base",
            "_model_module_version": "1.2.0",
            "_model_name": "LayoutModel",
            "_view_count": null,
            "_view_module": "@jupyter-widgets/base",
            "_view_module_version": "1.2.0",
            "_view_name": "LayoutView",
            "align_content": null,
            "align_items": null,
            "align_self": null,
            "border": null,
            "bottom": null,
            "display": null,
            "flex": null,
            "flex_flow": null,
            "grid_area": null,
            "grid_auto_columns": null,
            "grid_auto_flow": null,
            "grid_auto_rows": null,
            "grid_column": null,
            "grid_gap": null,
            "grid_row": null,
            "grid_template_areas": null,
            "grid_template_columns": null,
            "grid_template_rows": null,
            "height": null,
            "justify_content": null,
            "justify_items": null,
            "left": null,
            "margin": null,
            "max_height": null,
            "max_width": null,
            "min_height": null,
            "min_width": null,
            "object_fit": null,
            "object_position": null,
            "order": null,
            "overflow": null,
            "overflow_x": null,
            "overflow_y": null,
            "padding": null,
            "right": null,
            "top": null,
            "visibility": null,
            "width": null
          }
        },
        "907f8fa170c3415b89850b4f773abe51": {
          "model_module": "@jupyter-widgets/controls",
          "model_name": "ProgressStyleModel",
          "model_module_version": "1.5.0",
          "state": {
            "_model_module": "@jupyter-widgets/controls",
            "_model_module_version": "1.5.0",
            "_model_name": "ProgressStyleModel",
            "_view_count": null,
            "_view_module": "@jupyter-widgets/base",
            "_view_module_version": "1.2.0",
            "_view_name": "StyleView",
            "bar_color": null,
            "description_width": ""
          }
        },
        "cd969f2b9a2a4361a8e6a3b2412d50a0": {
          "model_module": "@jupyter-widgets/base",
          "model_name": "LayoutModel",
          "model_module_version": "1.2.0",
          "state": {
            "_model_module": "@jupyter-widgets/base",
            "_model_module_version": "1.2.0",
            "_model_name": "LayoutModel",
            "_view_count": null,
            "_view_module": "@jupyter-widgets/base",
            "_view_module_version": "1.2.0",
            "_view_name": "LayoutView",
            "align_content": null,
            "align_items": null,
            "align_self": null,
            "border": null,
            "bottom": null,
            "display": null,
            "flex": null,
            "flex_flow": null,
            "grid_area": null,
            "grid_auto_columns": null,
            "grid_auto_flow": null,
            "grid_auto_rows": null,
            "grid_column": null,
            "grid_gap": null,
            "grid_row": null,
            "grid_template_areas": null,
            "grid_template_columns": null,
            "grid_template_rows": null,
            "height": null,
            "justify_content": null,
            "justify_items": null,
            "left": null,
            "margin": null,
            "max_height": null,
            "max_width": null,
            "min_height": null,
            "min_width": null,
            "object_fit": null,
            "object_position": null,
            "order": null,
            "overflow": null,
            "overflow_x": null,
            "overflow_y": null,
            "padding": null,
            "right": null,
            "top": null,
            "visibility": null,
            "width": null
          }
        },
        "9fec4cb4e617499797c22f4066a84159": {
          "model_module": "@jupyter-widgets/controls",
          "model_name": "DescriptionStyleModel",
          "model_module_version": "1.5.0",
          "state": {
            "_model_module": "@jupyter-widgets/controls",
            "_model_module_version": "1.5.0",
            "_model_name": "DescriptionStyleModel",
            "_view_count": null,
            "_view_module": "@jupyter-widgets/base",
            "_view_module_version": "1.2.0",
            "_view_name": "StyleView",
            "description_width": ""
          }
        },
        "fb0547a37df0480a835ff884320b5872": {
          "model_module": "@jupyter-widgets/controls",
          "model_name": "HBoxModel",
          "model_module_version": "1.5.0",
          "state": {
            "_dom_classes": [],
            "_model_module": "@jupyter-widgets/controls",
            "_model_module_version": "1.5.0",
            "_model_name": "HBoxModel",
            "_view_count": null,
            "_view_module": "@jupyter-widgets/controls",
            "_view_module_version": "1.5.0",
            "_view_name": "HBoxView",
            "box_style": "",
            "children": [
              "IPY_MODEL_1537b98cba994caf89e162fd362617de",
              "IPY_MODEL_c6824b9b1d234ed7ae0bdb1f782362d3",
              "IPY_MODEL_3114e0520b0542d793690d293c29862a"
            ],
            "layout": "IPY_MODEL_90a9354af0ef405d85bbfb306c1307ee"
          }
        },
        "1537b98cba994caf89e162fd362617de": {
          "model_module": "@jupyter-widgets/controls",
          "model_name": "HTMLModel",
          "model_module_version": "1.5.0",
          "state": {
            "_dom_classes": [],
            "_model_module": "@jupyter-widgets/controls",
            "_model_module_version": "1.5.0",
            "_model_name": "HTMLModel",
            "_view_count": null,
            "_view_module": "@jupyter-widgets/controls",
            "_view_module_version": "1.5.0",
            "_view_name": "HTMLView",
            "description": "",
            "description_tooltip": null,
            "layout": "IPY_MODEL_d0a9e130d2dc4f5987b55630b79a6aa1",
            "placeholder": "​",
            "style": "IPY_MODEL_96e76a8661dd4d41b78afb1df9ba873c",
            "value": "Map: 100%"
          }
        },
        "c6824b9b1d234ed7ae0bdb1f782362d3": {
          "model_module": "@jupyter-widgets/controls",
          "model_name": "FloatProgressModel",
          "model_module_version": "1.5.0",
          "state": {
            "_dom_classes": [],
            "_model_module": "@jupyter-widgets/controls",
            "_model_module_version": "1.5.0",
            "_model_name": "FloatProgressModel",
            "_view_count": null,
            "_view_module": "@jupyter-widgets/controls",
            "_view_module_version": "1.5.0",
            "_view_name": "ProgressView",
            "bar_style": "success",
            "description": "",
            "description_tooltip": null,
            "layout": "IPY_MODEL_a3c640613dc24cca96e76b15d5d6ce2c",
            "max": 36,
            "min": 0,
            "orientation": "horizontal",
            "style": "IPY_MODEL_c21c5b415f9548cc9939afa115efc65f",
            "value": 36
          }
        },
        "3114e0520b0542d793690d293c29862a": {
          "model_module": "@jupyter-widgets/controls",
          "model_name": "HTMLModel",
          "model_module_version": "1.5.0",
          "state": {
            "_dom_classes": [],
            "_model_module": "@jupyter-widgets/controls",
            "_model_module_version": "1.5.0",
            "_model_name": "HTMLModel",
            "_view_count": null,
            "_view_module": "@jupyter-widgets/controls",
            "_view_module_version": "1.5.0",
            "_view_name": "HTMLView",
            "description": "",
            "description_tooltip": null,
            "layout": "IPY_MODEL_68bd434c9e5c4313bdd0147c7c4918ee",
            "placeholder": "​",
            "style": "IPY_MODEL_60f6c225800743768b09a6efbbfeeec8",
            "value": " 36/36 [00:01&lt;00:00, 29.71 examples/s]"
          }
        },
        "90a9354af0ef405d85bbfb306c1307ee": {
          "model_module": "@jupyter-widgets/base",
          "model_name": "LayoutModel",
          "model_module_version": "1.2.0",
          "state": {
            "_model_module": "@jupyter-widgets/base",
            "_model_module_version": "1.2.0",
            "_model_name": "LayoutModel",
            "_view_count": null,
            "_view_module": "@jupyter-widgets/base",
            "_view_module_version": "1.2.0",
            "_view_name": "LayoutView",
            "align_content": null,
            "align_items": null,
            "align_self": null,
            "border": null,
            "bottom": null,
            "display": null,
            "flex": null,
            "flex_flow": null,
            "grid_area": null,
            "grid_auto_columns": null,
            "grid_auto_flow": null,
            "grid_auto_rows": null,
            "grid_column": null,
            "grid_gap": null,
            "grid_row": null,
            "grid_template_areas": null,
            "grid_template_columns": null,
            "grid_template_rows": null,
            "height": null,
            "justify_content": null,
            "justify_items": null,
            "left": null,
            "margin": null,
            "max_height": null,
            "max_width": null,
            "min_height": null,
            "min_width": null,
            "object_fit": null,
            "object_position": null,
            "order": null,
            "overflow": null,
            "overflow_x": null,
            "overflow_y": null,
            "padding": null,
            "right": null,
            "top": null,
            "visibility": null,
            "width": null
          }
        },
        "d0a9e130d2dc4f5987b55630b79a6aa1": {
          "model_module": "@jupyter-widgets/base",
          "model_name": "LayoutModel",
          "model_module_version": "1.2.0",
          "state": {
            "_model_module": "@jupyter-widgets/base",
            "_model_module_version": "1.2.0",
            "_model_name": "LayoutModel",
            "_view_count": null,
            "_view_module": "@jupyter-widgets/base",
            "_view_module_version": "1.2.0",
            "_view_name": "LayoutView",
            "align_content": null,
            "align_items": null,
            "align_self": null,
            "border": null,
            "bottom": null,
            "display": null,
            "flex": null,
            "flex_flow": null,
            "grid_area": null,
            "grid_auto_columns": null,
            "grid_auto_flow": null,
            "grid_auto_rows": null,
            "grid_column": null,
            "grid_gap": null,
            "grid_row": null,
            "grid_template_areas": null,
            "grid_template_columns": null,
            "grid_template_rows": null,
            "height": null,
            "justify_content": null,
            "justify_items": null,
            "left": null,
            "margin": null,
            "max_height": null,
            "max_width": null,
            "min_height": null,
            "min_width": null,
            "object_fit": null,
            "object_position": null,
            "order": null,
            "overflow": null,
            "overflow_x": null,
            "overflow_y": null,
            "padding": null,
            "right": null,
            "top": null,
            "visibility": null,
            "width": null
          }
        },
        "96e76a8661dd4d41b78afb1df9ba873c": {
          "model_module": "@jupyter-widgets/controls",
          "model_name": "DescriptionStyleModel",
          "model_module_version": "1.5.0",
          "state": {
            "_model_module": "@jupyter-widgets/controls",
            "_model_module_version": "1.5.0",
            "_model_name": "DescriptionStyleModel",
            "_view_count": null,
            "_view_module": "@jupyter-widgets/base",
            "_view_module_version": "1.2.0",
            "_view_name": "StyleView",
            "description_width": ""
          }
        },
        "a3c640613dc24cca96e76b15d5d6ce2c": {
          "model_module": "@jupyter-widgets/base",
          "model_name": "LayoutModel",
          "model_module_version": "1.2.0",
          "state": {
            "_model_module": "@jupyter-widgets/base",
            "_model_module_version": "1.2.0",
            "_model_name": "LayoutModel",
            "_view_count": null,
            "_view_module": "@jupyter-widgets/base",
            "_view_module_version": "1.2.0",
            "_view_name": "LayoutView",
            "align_content": null,
            "align_items": null,
            "align_self": null,
            "border": null,
            "bottom": null,
            "display": null,
            "flex": null,
            "flex_flow": null,
            "grid_area": null,
            "grid_auto_columns": null,
            "grid_auto_flow": null,
            "grid_auto_rows": null,
            "grid_column": null,
            "grid_gap": null,
            "grid_row": null,
            "grid_template_areas": null,
            "grid_template_columns": null,
            "grid_template_rows": null,
            "height": null,
            "justify_content": null,
            "justify_items": null,
            "left": null,
            "margin": null,
            "max_height": null,
            "max_width": null,
            "min_height": null,
            "min_width": null,
            "object_fit": null,
            "object_position": null,
            "order": null,
            "overflow": null,
            "overflow_x": null,
            "overflow_y": null,
            "padding": null,
            "right": null,
            "top": null,
            "visibility": null,
            "width": null
          }
        },
        "c21c5b415f9548cc9939afa115efc65f": {
          "model_module": "@jupyter-widgets/controls",
          "model_name": "ProgressStyleModel",
          "model_module_version": "1.5.0",
          "state": {
            "_model_module": "@jupyter-widgets/controls",
            "_model_module_version": "1.5.0",
            "_model_name": "ProgressStyleModel",
            "_view_count": null,
            "_view_module": "@jupyter-widgets/base",
            "_view_module_version": "1.2.0",
            "_view_name": "StyleView",
            "bar_color": null,
            "description_width": ""
          }
        },
        "68bd434c9e5c4313bdd0147c7c4918ee": {
          "model_module": "@jupyter-widgets/base",
          "model_name": "LayoutModel",
          "model_module_version": "1.2.0",
          "state": {
            "_model_module": "@jupyter-widgets/base",
            "_model_module_version": "1.2.0",
            "_model_name": "LayoutModel",
            "_view_count": null,
            "_view_module": "@jupyter-widgets/base",
            "_view_module_version": "1.2.0",
            "_view_name": "LayoutView",
            "align_content": null,
            "align_items": null,
            "align_self": null,
            "border": null,
            "bottom": null,
            "display": null,
            "flex": null,
            "flex_flow": null,
            "grid_area": null,
            "grid_auto_columns": null,
            "grid_auto_flow": null,
            "grid_auto_rows": null,
            "grid_column": null,
            "grid_gap": null,
            "grid_row": null,
            "grid_template_areas": null,
            "grid_template_columns": null,
            "grid_template_rows": null,
            "height": null,
            "justify_content": null,
            "justify_items": null,
            "left": null,
            "margin": null,
            "max_height": null,
            "max_width": null,
            "min_height": null,
            "min_width": null,
            "object_fit": null,
            "object_position": null,
            "order": null,
            "overflow": null,
            "overflow_x": null,
            "overflow_y": null,
            "padding": null,
            "right": null,
            "top": null,
            "visibility": null,
            "width": null
          }
        },
        "60f6c225800743768b09a6efbbfeeec8": {
          "model_module": "@jupyter-widgets/controls",
          "model_name": "DescriptionStyleModel",
          "model_module_version": "1.5.0",
          "state": {
            "_model_module": "@jupyter-widgets/controls",
            "_model_module_version": "1.5.0",
            "_model_name": "DescriptionStyleModel",
            "_view_count": null,
            "_view_module": "@jupyter-widgets/base",
            "_view_module_version": "1.2.0",
            "_view_name": "StyleView",
            "description_width": ""
          }
        },
        "806bdb6206904b38915a145652f5aad2": {
          "model_module": "@jupyter-widgets/controls",
          "model_name": "HBoxModel",
          "model_module_version": "1.5.0",
          "state": {
            "_dom_classes": [],
            "_model_module": "@jupyter-widgets/controls",
            "_model_module_version": "1.5.0",
            "_model_name": "HBoxModel",
            "_view_count": null,
            "_view_module": "@jupyter-widgets/controls",
            "_view_module_version": "1.5.0",
            "_view_name": "HBoxView",
            "box_style": "",
            "children": [
              "IPY_MODEL_3438da42e0074e00a8e02f9e3634957a",
              "IPY_MODEL_497b3b9a2e854d5e9e760ada2b1943bd",
              "IPY_MODEL_c8605d02e2534d43a086ec3c8fdbc002"
            ],
            "layout": "IPY_MODEL_52f288dc2a0e48bdac6444663e8fb622"
          }
        },
        "3438da42e0074e00a8e02f9e3634957a": {
          "model_module": "@jupyter-widgets/controls",
          "model_name": "HTMLModel",
          "model_module_version": "1.5.0",
          "state": {
            "_dom_classes": [],
            "_model_module": "@jupyter-widgets/controls",
            "_model_module_version": "1.5.0",
            "_model_name": "HTMLModel",
            "_view_count": null,
            "_view_module": "@jupyter-widgets/controls",
            "_view_module_version": "1.5.0",
            "_view_name": "HTMLView",
            "description": "",
            "description_tooltip": null,
            "layout": "IPY_MODEL_db6c8e8bde2745f1919c2b147cd55fda",
            "placeholder": "​",
            "style": "IPY_MODEL_582e256adb6b4f86ad9fbfdf8ea1da1c",
            "value": "Map: 100%"
          }
        },
        "497b3b9a2e854d5e9e760ada2b1943bd": {
          "model_module": "@jupyter-widgets/controls",
          "model_name": "FloatProgressModel",
          "model_module_version": "1.5.0",
          "state": {
            "_dom_classes": [],
            "_model_module": "@jupyter-widgets/controls",
            "_model_module_version": "1.5.0",
            "_model_name": "FloatProgressModel",
            "_view_count": null,
            "_view_module": "@jupyter-widgets/controls",
            "_view_module_version": "1.5.0",
            "_view_name": "ProgressView",
            "bar_style": "success",
            "description": "",
            "description_tooltip": null,
            "layout": "IPY_MODEL_74597f2477c74fc084745f78b571f5e9",
            "max": 46837,
            "min": 0,
            "orientation": "horizontal",
            "style": "IPY_MODEL_3914d598ef77415b8bb78b3cca935aaa",
            "value": 46837
          }
        },
        "c8605d02e2534d43a086ec3c8fdbc002": {
          "model_module": "@jupyter-widgets/controls",
          "model_name": "HTMLModel",
          "model_module_version": "1.5.0",
          "state": {
            "_dom_classes": [],
            "_model_module": "@jupyter-widgets/controls",
            "_model_module_version": "1.5.0",
            "_model_name": "HTMLModel",
            "_view_count": null,
            "_view_module": "@jupyter-widgets/controls",
            "_view_module_version": "1.5.0",
            "_view_name": "HTMLView",
            "description": "",
            "description_tooltip": null,
            "layout": "IPY_MODEL_2d3a2ed659e74448be042810b41e858b",
            "placeholder": "​",
            "style": "IPY_MODEL_3a2a2d0f47f04fb5928d51664bf1f8b2",
            "value": " 46837/46837 [00:03&lt;00:00, 13914.83 examples/s]"
          }
        },
        "52f288dc2a0e48bdac6444663e8fb622": {
          "model_module": "@jupyter-widgets/base",
          "model_name": "LayoutModel",
          "model_module_version": "1.2.0",
          "state": {
            "_model_module": "@jupyter-widgets/base",
            "_model_module_version": "1.2.0",
            "_model_name": "LayoutModel",
            "_view_count": null,
            "_view_module": "@jupyter-widgets/base",
            "_view_module_version": "1.2.0",
            "_view_name": "LayoutView",
            "align_content": null,
            "align_items": null,
            "align_self": null,
            "border": null,
            "bottom": null,
            "display": null,
            "flex": null,
            "flex_flow": null,
            "grid_area": null,
            "grid_auto_columns": null,
            "grid_auto_flow": null,
            "grid_auto_rows": null,
            "grid_column": null,
            "grid_gap": null,
            "grid_row": null,
            "grid_template_areas": null,
            "grid_template_columns": null,
            "grid_template_rows": null,
            "height": null,
            "justify_content": null,
            "justify_items": null,
            "left": null,
            "margin": null,
            "max_height": null,
            "max_width": null,
            "min_height": null,
            "min_width": null,
            "object_fit": null,
            "object_position": null,
            "order": null,
            "overflow": null,
            "overflow_x": null,
            "overflow_y": null,
            "padding": null,
            "right": null,
            "top": null,
            "visibility": null,
            "width": null
          }
        },
        "db6c8e8bde2745f1919c2b147cd55fda": {
          "model_module": "@jupyter-widgets/base",
          "model_name": "LayoutModel",
          "model_module_version": "1.2.0",
          "state": {
            "_model_module": "@jupyter-widgets/base",
            "_model_module_version": "1.2.0",
            "_model_name": "LayoutModel",
            "_view_count": null,
            "_view_module": "@jupyter-widgets/base",
            "_view_module_version": "1.2.0",
            "_view_name": "LayoutView",
            "align_content": null,
            "align_items": null,
            "align_self": null,
            "border": null,
            "bottom": null,
            "display": null,
            "flex": null,
            "flex_flow": null,
            "grid_area": null,
            "grid_auto_columns": null,
            "grid_auto_flow": null,
            "grid_auto_rows": null,
            "grid_column": null,
            "grid_gap": null,
            "grid_row": null,
            "grid_template_areas": null,
            "grid_template_columns": null,
            "grid_template_rows": null,
            "height": null,
            "justify_content": null,
            "justify_items": null,
            "left": null,
            "margin": null,
            "max_height": null,
            "max_width": null,
            "min_height": null,
            "min_width": null,
            "object_fit": null,
            "object_position": null,
            "order": null,
            "overflow": null,
            "overflow_x": null,
            "overflow_y": null,
            "padding": null,
            "right": null,
            "top": null,
            "visibility": null,
            "width": null
          }
        },
        "582e256adb6b4f86ad9fbfdf8ea1da1c": {
          "model_module": "@jupyter-widgets/controls",
          "model_name": "DescriptionStyleModel",
          "model_module_version": "1.5.0",
          "state": {
            "_model_module": "@jupyter-widgets/controls",
            "_model_module_version": "1.5.0",
            "_model_name": "DescriptionStyleModel",
            "_view_count": null,
            "_view_module": "@jupyter-widgets/base",
            "_view_module_version": "1.2.0",
            "_view_name": "StyleView",
            "description_width": ""
          }
        },
        "74597f2477c74fc084745f78b571f5e9": {
          "model_module": "@jupyter-widgets/base",
          "model_name": "LayoutModel",
          "model_module_version": "1.2.0",
          "state": {
            "_model_module": "@jupyter-widgets/base",
            "_model_module_version": "1.2.0",
            "_model_name": "LayoutModel",
            "_view_count": null,
            "_view_module": "@jupyter-widgets/base",
            "_view_module_version": "1.2.0",
            "_view_name": "LayoutView",
            "align_content": null,
            "align_items": null,
            "align_self": null,
            "border": null,
            "bottom": null,
            "display": null,
            "flex": null,
            "flex_flow": null,
            "grid_area": null,
            "grid_auto_columns": null,
            "grid_auto_flow": null,
            "grid_auto_rows": null,
            "grid_column": null,
            "grid_gap": null,
            "grid_row": null,
            "grid_template_areas": null,
            "grid_template_columns": null,
            "grid_template_rows": null,
            "height": null,
            "justify_content": null,
            "justify_items": null,
            "left": null,
            "margin": null,
            "max_height": null,
            "max_width": null,
            "min_height": null,
            "min_width": null,
            "object_fit": null,
            "object_position": null,
            "order": null,
            "overflow": null,
            "overflow_x": null,
            "overflow_y": null,
            "padding": null,
            "right": null,
            "top": null,
            "visibility": null,
            "width": null
          }
        },
        "3914d598ef77415b8bb78b3cca935aaa": {
          "model_module": "@jupyter-widgets/controls",
          "model_name": "ProgressStyleModel",
          "model_module_version": "1.5.0",
          "state": {
            "_model_module": "@jupyter-widgets/controls",
            "_model_module_version": "1.5.0",
            "_model_name": "ProgressStyleModel",
            "_view_count": null,
            "_view_module": "@jupyter-widgets/base",
            "_view_module_version": "1.2.0",
            "_view_name": "StyleView",
            "bar_color": null,
            "description_width": ""
          }
        },
        "2d3a2ed659e74448be042810b41e858b": {
          "model_module": "@jupyter-widgets/base",
          "model_name": "LayoutModel",
          "model_module_version": "1.2.0",
          "state": {
            "_model_module": "@jupyter-widgets/base",
            "_model_module_version": "1.2.0",
            "_model_name": "LayoutModel",
            "_view_count": null,
            "_view_module": "@jupyter-widgets/base",
            "_view_module_version": "1.2.0",
            "_view_name": "LayoutView",
            "align_content": null,
            "align_items": null,
            "align_self": null,
            "border": null,
            "bottom": null,
            "display": null,
            "flex": null,
            "flex_flow": null,
            "grid_area": null,
            "grid_auto_columns": null,
            "grid_auto_flow": null,
            "grid_auto_rows": null,
            "grid_column": null,
            "grid_gap": null,
            "grid_row": null,
            "grid_template_areas": null,
            "grid_template_columns": null,
            "grid_template_rows": null,
            "height": null,
            "justify_content": null,
            "justify_items": null,
            "left": null,
            "margin": null,
            "max_height": null,
            "max_width": null,
            "min_height": null,
            "min_width": null,
            "object_fit": null,
            "object_position": null,
            "order": null,
            "overflow": null,
            "overflow_x": null,
            "overflow_y": null,
            "padding": null,
            "right": null,
            "top": null,
            "visibility": null,
            "width": null
          }
        },
        "3a2a2d0f47f04fb5928d51664bf1f8b2": {
          "model_module": "@jupyter-widgets/controls",
          "model_name": "DescriptionStyleModel",
          "model_module_version": "1.5.0",
          "state": {
            "_model_module": "@jupyter-widgets/controls",
            "_model_module_version": "1.5.0",
            "_model_name": "DescriptionStyleModel",
            "_view_count": null,
            "_view_module": "@jupyter-widgets/base",
            "_view_module_version": "1.2.0",
            "_view_name": "StyleView",
            "description_width": ""
          }
        },
        "0735426976e948c1bbd57d10a779ec7f": {
          "model_module": "@jupyter-widgets/controls",
          "model_name": "HBoxModel",
          "model_module_version": "1.5.0",
          "state": {
            "_dom_classes": [],
            "_model_module": "@jupyter-widgets/controls",
            "_model_module_version": "1.5.0",
            "_model_name": "HBoxModel",
            "_view_count": null,
            "_view_module": "@jupyter-widgets/controls",
            "_view_module_version": "1.5.0",
            "_view_name": "HBoxView",
            "box_style": "",
            "children": [
              "IPY_MODEL_2a42b72898a74616a384c887bf9eb0df",
              "IPY_MODEL_3f50d096d252459488cee306ab905862",
              "IPY_MODEL_a44679e412ed4f7c8a1c8ce81236a966"
            ],
            "layout": "IPY_MODEL_91e6143cb39044879907c340836dd382"
          }
        },
        "2a42b72898a74616a384c887bf9eb0df": {
          "model_module": "@jupyter-widgets/controls",
          "model_name": "HTMLModel",
          "model_module_version": "1.5.0",
          "state": {
            "_dom_classes": [],
            "_model_module": "@jupyter-widgets/controls",
            "_model_module_version": "1.5.0",
            "_model_name": "HTMLModel",
            "_view_count": null,
            "_view_module": "@jupyter-widgets/controls",
            "_view_module_version": "1.5.0",
            "_view_name": "HTMLView",
            "description": "",
            "description_tooltip": null,
            "layout": "IPY_MODEL_916cbf61872d4f1a9ad894476aece89e",
            "placeholder": "​",
            "style": "IPY_MODEL_a2914a0d388747898890da5a88aa4722",
            "value": "Map: 100%"
          }
        },
        "3f50d096d252459488cee306ab905862": {
          "model_module": "@jupyter-widgets/controls",
          "model_name": "FloatProgressModel",
          "model_module_version": "1.5.0",
          "state": {
            "_dom_classes": [],
            "_model_module": "@jupyter-widgets/controls",
            "_model_module_version": "1.5.0",
            "_model_name": "FloatProgressModel",
            "_view_count": null,
            "_view_module": "@jupyter-widgets/controls",
            "_view_module_version": "1.5.0",
            "_view_name": "ProgressView",
            "bar_style": "success",
            "description": "",
            "description_tooltip": null,
            "layout": "IPY_MODEL_85ccc09fc0314ec6b8947bd7845acc6d",
            "max": 11710,
            "min": 0,
            "orientation": "horizontal",
            "style": "IPY_MODEL_60b565181e5c490c93348d4f9ccd8c75",
            "value": 11710
          }
        },
        "a44679e412ed4f7c8a1c8ce81236a966": {
          "model_module": "@jupyter-widgets/controls",
          "model_name": "HTMLModel",
          "model_module_version": "1.5.0",
          "state": {
            "_dom_classes": [],
            "_model_module": "@jupyter-widgets/controls",
            "_model_module_version": "1.5.0",
            "_model_name": "HTMLModel",
            "_view_count": null,
            "_view_module": "@jupyter-widgets/controls",
            "_view_module_version": "1.5.0",
            "_view_name": "HTMLView",
            "description": "",
            "description_tooltip": null,
            "layout": "IPY_MODEL_820454062c074bbbb361d64a6be48007",
            "placeholder": "​",
            "style": "IPY_MODEL_f68bbea32967482ba3d7b755d636e4c1",
            "value": " 11710/11710 [00:00&lt;00:00, 17881.68 examples/s]"
          }
        },
        "91e6143cb39044879907c340836dd382": {
          "model_module": "@jupyter-widgets/base",
          "model_name": "LayoutModel",
          "model_module_version": "1.2.0",
          "state": {
            "_model_module": "@jupyter-widgets/base",
            "_model_module_version": "1.2.0",
            "_model_name": "LayoutModel",
            "_view_count": null,
            "_view_module": "@jupyter-widgets/base",
            "_view_module_version": "1.2.0",
            "_view_name": "LayoutView",
            "align_content": null,
            "align_items": null,
            "align_self": null,
            "border": null,
            "bottom": null,
            "display": null,
            "flex": null,
            "flex_flow": null,
            "grid_area": null,
            "grid_auto_columns": null,
            "grid_auto_flow": null,
            "grid_auto_rows": null,
            "grid_column": null,
            "grid_gap": null,
            "grid_row": null,
            "grid_template_areas": null,
            "grid_template_columns": null,
            "grid_template_rows": null,
            "height": null,
            "justify_content": null,
            "justify_items": null,
            "left": null,
            "margin": null,
            "max_height": null,
            "max_width": null,
            "min_height": null,
            "min_width": null,
            "object_fit": null,
            "object_position": null,
            "order": null,
            "overflow": null,
            "overflow_x": null,
            "overflow_y": null,
            "padding": null,
            "right": null,
            "top": null,
            "visibility": null,
            "width": null
          }
        },
        "916cbf61872d4f1a9ad894476aece89e": {
          "model_module": "@jupyter-widgets/base",
          "model_name": "LayoutModel",
          "model_module_version": "1.2.0",
          "state": {
            "_model_module": "@jupyter-widgets/base",
            "_model_module_version": "1.2.0",
            "_model_name": "LayoutModel",
            "_view_count": null,
            "_view_module": "@jupyter-widgets/base",
            "_view_module_version": "1.2.0",
            "_view_name": "LayoutView",
            "align_content": null,
            "align_items": null,
            "align_self": null,
            "border": null,
            "bottom": null,
            "display": null,
            "flex": null,
            "flex_flow": null,
            "grid_area": null,
            "grid_auto_columns": null,
            "grid_auto_flow": null,
            "grid_auto_rows": null,
            "grid_column": null,
            "grid_gap": null,
            "grid_row": null,
            "grid_template_areas": null,
            "grid_template_columns": null,
            "grid_template_rows": null,
            "height": null,
            "justify_content": null,
            "justify_items": null,
            "left": null,
            "margin": null,
            "max_height": null,
            "max_width": null,
            "min_height": null,
            "min_width": null,
            "object_fit": null,
            "object_position": null,
            "order": null,
            "overflow": null,
            "overflow_x": null,
            "overflow_y": null,
            "padding": null,
            "right": null,
            "top": null,
            "visibility": null,
            "width": null
          }
        },
        "a2914a0d388747898890da5a88aa4722": {
          "model_module": "@jupyter-widgets/controls",
          "model_name": "DescriptionStyleModel",
          "model_module_version": "1.5.0",
          "state": {
            "_model_module": "@jupyter-widgets/controls",
            "_model_module_version": "1.5.0",
            "_model_name": "DescriptionStyleModel",
            "_view_count": null,
            "_view_module": "@jupyter-widgets/base",
            "_view_module_version": "1.2.0",
            "_view_name": "StyleView",
            "description_width": ""
          }
        },
        "85ccc09fc0314ec6b8947bd7845acc6d": {
          "model_module": "@jupyter-widgets/base",
          "model_name": "LayoutModel",
          "model_module_version": "1.2.0",
          "state": {
            "_model_module": "@jupyter-widgets/base",
            "_model_module_version": "1.2.0",
            "_model_name": "LayoutModel",
            "_view_count": null,
            "_view_module": "@jupyter-widgets/base",
            "_view_module_version": "1.2.0",
            "_view_name": "LayoutView",
            "align_content": null,
            "align_items": null,
            "align_self": null,
            "border": null,
            "bottom": null,
            "display": null,
            "flex": null,
            "flex_flow": null,
            "grid_area": null,
            "grid_auto_columns": null,
            "grid_auto_flow": null,
            "grid_auto_rows": null,
            "grid_column": null,
            "grid_gap": null,
            "grid_row": null,
            "grid_template_areas": null,
            "grid_template_columns": null,
            "grid_template_rows": null,
            "height": null,
            "justify_content": null,
            "justify_items": null,
            "left": null,
            "margin": null,
            "max_height": null,
            "max_width": null,
            "min_height": null,
            "min_width": null,
            "object_fit": null,
            "object_position": null,
            "order": null,
            "overflow": null,
            "overflow_x": null,
            "overflow_y": null,
            "padding": null,
            "right": null,
            "top": null,
            "visibility": null,
            "width": null
          }
        },
        "60b565181e5c490c93348d4f9ccd8c75": {
          "model_module": "@jupyter-widgets/controls",
          "model_name": "ProgressStyleModel",
          "model_module_version": "1.5.0",
          "state": {
            "_model_module": "@jupyter-widgets/controls",
            "_model_module_version": "1.5.0",
            "_model_name": "ProgressStyleModel",
            "_view_count": null,
            "_view_module": "@jupyter-widgets/base",
            "_view_module_version": "1.2.0",
            "_view_name": "StyleView",
            "bar_color": null,
            "description_width": ""
          }
        },
        "820454062c074bbbb361d64a6be48007": {
          "model_module": "@jupyter-widgets/base",
          "model_name": "LayoutModel",
          "model_module_version": "1.2.0",
          "state": {
            "_model_module": "@jupyter-widgets/base",
            "_model_module_version": "1.2.0",
            "_model_name": "LayoutModel",
            "_view_count": null,
            "_view_module": "@jupyter-widgets/base",
            "_view_module_version": "1.2.0",
            "_view_name": "LayoutView",
            "align_content": null,
            "align_items": null,
            "align_self": null,
            "border": null,
            "bottom": null,
            "display": null,
            "flex": null,
            "flex_flow": null,
            "grid_area": null,
            "grid_auto_columns": null,
            "grid_auto_flow": null,
            "grid_auto_rows": null,
            "grid_column": null,
            "grid_gap": null,
            "grid_row": null,
            "grid_template_areas": null,
            "grid_template_columns": null,
            "grid_template_rows": null,
            "height": null,
            "justify_content": null,
            "justify_items": null,
            "left": null,
            "margin": null,
            "max_height": null,
            "max_width": null,
            "min_height": null,
            "min_width": null,
            "object_fit": null,
            "object_position": null,
            "order": null,
            "overflow": null,
            "overflow_x": null,
            "overflow_y": null,
            "padding": null,
            "right": null,
            "top": null,
            "visibility": null,
            "width": null
          }
        },
        "f68bbea32967482ba3d7b755d636e4c1": {
          "model_module": "@jupyter-widgets/controls",
          "model_name": "DescriptionStyleModel",
          "model_module_version": "1.5.0",
          "state": {
            "_model_module": "@jupyter-widgets/controls",
            "_model_module_version": "1.5.0",
            "_model_name": "DescriptionStyleModel",
            "_view_count": null,
            "_view_module": "@jupyter-widgets/base",
            "_view_module_version": "1.2.0",
            "_view_name": "StyleView",
            "description_width": ""
          }
        },
        "c956a05c67bc40c29f9f4f71a73fd3e9": {
          "model_module": "@jupyter-widgets/controls",
          "model_name": "HBoxModel",
          "model_module_version": "1.5.0",
          "state": {
            "_dom_classes": [],
            "_model_module": "@jupyter-widgets/controls",
            "_model_module_version": "1.5.0",
            "_model_name": "HBoxModel",
            "_view_count": null,
            "_view_module": "@jupyter-widgets/controls",
            "_view_module_version": "1.5.0",
            "_view_name": "HBoxView",
            "box_style": "",
            "children": [
              "IPY_MODEL_64ffd9ea03ac49c09ce74268e2b13224",
              "IPY_MODEL_1e4a8fe1a18c4d6ab6e02492aa146379",
              "IPY_MODEL_2415a201ace14c739455300e22ecff98"
            ],
            "layout": "IPY_MODEL_cc85663d77c54c41964f8780b99aa4e2"
          }
        },
        "64ffd9ea03ac49c09ce74268e2b13224": {
          "model_module": "@jupyter-widgets/controls",
          "model_name": "HTMLModel",
          "model_module_version": "1.5.0",
          "state": {
            "_dom_classes": [],
            "_model_module": "@jupyter-widgets/controls",
            "_model_module_version": "1.5.0",
            "_model_name": "HTMLModel",
            "_view_count": null,
            "_view_module": "@jupyter-widgets/controls",
            "_view_module_version": "1.5.0",
            "_view_name": "HTMLView",
            "description": "",
            "description_tooltip": null,
            "layout": "IPY_MODEL_fb678aacc45d4842ba6e132fdafe807c",
            "placeholder": "​",
            "style": "IPY_MODEL_9858e2ed52d14907a192e7fa4d167cc2",
            "value": "Map: 100%"
          }
        },
        "1e4a8fe1a18c4d6ab6e02492aa146379": {
          "model_module": "@jupyter-widgets/controls",
          "model_name": "FloatProgressModel",
          "model_module_version": "1.5.0",
          "state": {
            "_dom_classes": [],
            "_model_module": "@jupyter-widgets/controls",
            "_model_module_version": "1.5.0",
            "_model_name": "FloatProgressModel",
            "_view_count": null,
            "_view_module": "@jupyter-widgets/controls",
            "_view_module_version": "1.5.0",
            "_view_name": "ProgressView",
            "bar_style": "success",
            "description": "",
            "description_tooltip": null,
            "layout": "IPY_MODEL_3c294275648c44ea92cacef17f35709d",
            "max": 46837,
            "min": 0,
            "orientation": "horizontal",
            "style": "IPY_MODEL_49e27a7176d64cc7876c945687035242",
            "value": 46837
          }
        },
        "2415a201ace14c739455300e22ecff98": {
          "model_module": "@jupyter-widgets/controls",
          "model_name": "HTMLModel",
          "model_module_version": "1.5.0",
          "state": {
            "_dom_classes": [],
            "_model_module": "@jupyter-widgets/controls",
            "_model_module_version": "1.5.0",
            "_model_name": "HTMLModel",
            "_view_count": null,
            "_view_module": "@jupyter-widgets/controls",
            "_view_module_version": "1.5.0",
            "_view_name": "HTMLView",
            "description": "",
            "description_tooltip": null,
            "layout": "IPY_MODEL_8ca4f4f99ee844c5bd7b76f98295d146",
            "placeholder": "​",
            "style": "IPY_MODEL_e3a40ab052734109bc0044417af0658c",
            "value": " 46837/46837 [00:31&lt;00:00, 1621.67 examples/s]"
          }
        },
        "cc85663d77c54c41964f8780b99aa4e2": {
          "model_module": "@jupyter-widgets/base",
          "model_name": "LayoutModel",
          "model_module_version": "1.2.0",
          "state": {
            "_model_module": "@jupyter-widgets/base",
            "_model_module_version": "1.2.0",
            "_model_name": "LayoutModel",
            "_view_count": null,
            "_view_module": "@jupyter-widgets/base",
            "_view_module_version": "1.2.0",
            "_view_name": "LayoutView",
            "align_content": null,
            "align_items": null,
            "align_self": null,
            "border": null,
            "bottom": null,
            "display": null,
            "flex": null,
            "flex_flow": null,
            "grid_area": null,
            "grid_auto_columns": null,
            "grid_auto_flow": null,
            "grid_auto_rows": null,
            "grid_column": null,
            "grid_gap": null,
            "grid_row": null,
            "grid_template_areas": null,
            "grid_template_columns": null,
            "grid_template_rows": null,
            "height": null,
            "justify_content": null,
            "justify_items": null,
            "left": null,
            "margin": null,
            "max_height": null,
            "max_width": null,
            "min_height": null,
            "min_width": null,
            "object_fit": null,
            "object_position": null,
            "order": null,
            "overflow": null,
            "overflow_x": null,
            "overflow_y": null,
            "padding": null,
            "right": null,
            "top": null,
            "visibility": null,
            "width": null
          }
        },
        "fb678aacc45d4842ba6e132fdafe807c": {
          "model_module": "@jupyter-widgets/base",
          "model_name": "LayoutModel",
          "model_module_version": "1.2.0",
          "state": {
            "_model_module": "@jupyter-widgets/base",
            "_model_module_version": "1.2.0",
            "_model_name": "LayoutModel",
            "_view_count": null,
            "_view_module": "@jupyter-widgets/base",
            "_view_module_version": "1.2.0",
            "_view_name": "LayoutView",
            "align_content": null,
            "align_items": null,
            "align_self": null,
            "border": null,
            "bottom": null,
            "display": null,
            "flex": null,
            "flex_flow": null,
            "grid_area": null,
            "grid_auto_columns": null,
            "grid_auto_flow": null,
            "grid_auto_rows": null,
            "grid_column": null,
            "grid_gap": null,
            "grid_row": null,
            "grid_template_areas": null,
            "grid_template_columns": null,
            "grid_template_rows": null,
            "height": null,
            "justify_content": null,
            "justify_items": null,
            "left": null,
            "margin": null,
            "max_height": null,
            "max_width": null,
            "min_height": null,
            "min_width": null,
            "object_fit": null,
            "object_position": null,
            "order": null,
            "overflow": null,
            "overflow_x": null,
            "overflow_y": null,
            "padding": null,
            "right": null,
            "top": null,
            "visibility": null,
            "width": null
          }
        },
        "9858e2ed52d14907a192e7fa4d167cc2": {
          "model_module": "@jupyter-widgets/controls",
          "model_name": "DescriptionStyleModel",
          "model_module_version": "1.5.0",
          "state": {
            "_model_module": "@jupyter-widgets/controls",
            "_model_module_version": "1.5.0",
            "_model_name": "DescriptionStyleModel",
            "_view_count": null,
            "_view_module": "@jupyter-widgets/base",
            "_view_module_version": "1.2.0",
            "_view_name": "StyleView",
            "description_width": ""
          }
        },
        "3c294275648c44ea92cacef17f35709d": {
          "model_module": "@jupyter-widgets/base",
          "model_name": "LayoutModel",
          "model_module_version": "1.2.0",
          "state": {
            "_model_module": "@jupyter-widgets/base",
            "_model_module_version": "1.2.0",
            "_model_name": "LayoutModel",
            "_view_count": null,
            "_view_module": "@jupyter-widgets/base",
            "_view_module_version": "1.2.0",
            "_view_name": "LayoutView",
            "align_content": null,
            "align_items": null,
            "align_self": null,
            "border": null,
            "bottom": null,
            "display": null,
            "flex": null,
            "flex_flow": null,
            "grid_area": null,
            "grid_auto_columns": null,
            "grid_auto_flow": null,
            "grid_auto_rows": null,
            "grid_column": null,
            "grid_gap": null,
            "grid_row": null,
            "grid_template_areas": null,
            "grid_template_columns": null,
            "grid_template_rows": null,
            "height": null,
            "justify_content": null,
            "justify_items": null,
            "left": null,
            "margin": null,
            "max_height": null,
            "max_width": null,
            "min_height": null,
            "min_width": null,
            "object_fit": null,
            "object_position": null,
            "order": null,
            "overflow": null,
            "overflow_x": null,
            "overflow_y": null,
            "padding": null,
            "right": null,
            "top": null,
            "visibility": null,
            "width": null
          }
        },
        "49e27a7176d64cc7876c945687035242": {
          "model_module": "@jupyter-widgets/controls",
          "model_name": "ProgressStyleModel",
          "model_module_version": "1.5.0",
          "state": {
            "_model_module": "@jupyter-widgets/controls",
            "_model_module_version": "1.5.0",
            "_model_name": "ProgressStyleModel",
            "_view_count": null,
            "_view_module": "@jupyter-widgets/base",
            "_view_module_version": "1.2.0",
            "_view_name": "StyleView",
            "bar_color": null,
            "description_width": ""
          }
        },
        "8ca4f4f99ee844c5bd7b76f98295d146": {
          "model_module": "@jupyter-widgets/base",
          "model_name": "LayoutModel",
          "model_module_version": "1.2.0",
          "state": {
            "_model_module": "@jupyter-widgets/base",
            "_model_module_version": "1.2.0",
            "_model_name": "LayoutModel",
            "_view_count": null,
            "_view_module": "@jupyter-widgets/base",
            "_view_module_version": "1.2.0",
            "_view_name": "LayoutView",
            "align_content": null,
            "align_items": null,
            "align_self": null,
            "border": null,
            "bottom": null,
            "display": null,
            "flex": null,
            "flex_flow": null,
            "grid_area": null,
            "grid_auto_columns": null,
            "grid_auto_flow": null,
            "grid_auto_rows": null,
            "grid_column": null,
            "grid_gap": null,
            "grid_row": null,
            "grid_template_areas": null,
            "grid_template_columns": null,
            "grid_template_rows": null,
            "height": null,
            "justify_content": null,
            "justify_items": null,
            "left": null,
            "margin": null,
            "max_height": null,
            "max_width": null,
            "min_height": null,
            "min_width": null,
            "object_fit": null,
            "object_position": null,
            "order": null,
            "overflow": null,
            "overflow_x": null,
            "overflow_y": null,
            "padding": null,
            "right": null,
            "top": null,
            "visibility": null,
            "width": null
          }
        },
        "e3a40ab052734109bc0044417af0658c": {
          "model_module": "@jupyter-widgets/controls",
          "model_name": "DescriptionStyleModel",
          "model_module_version": "1.5.0",
          "state": {
            "_model_module": "@jupyter-widgets/controls",
            "_model_module_version": "1.5.0",
            "_model_name": "DescriptionStyleModel",
            "_view_count": null,
            "_view_module": "@jupyter-widgets/base",
            "_view_module_version": "1.2.0",
            "_view_name": "StyleView",
            "description_width": ""
          }
        },
        "bdd8c3bc106d4fd7add58cd4c7f483e6": {
          "model_module": "@jupyter-widgets/controls",
          "model_name": "HBoxModel",
          "model_module_version": "1.5.0",
          "state": {
            "_dom_classes": [],
            "_model_module": "@jupyter-widgets/controls",
            "_model_module_version": "1.5.0",
            "_model_name": "HBoxModel",
            "_view_count": null,
            "_view_module": "@jupyter-widgets/controls",
            "_view_module_version": "1.5.0",
            "_view_name": "HBoxView",
            "box_style": "",
            "children": [
              "IPY_MODEL_ee252fd1caaf4d0994a5ea80415ea408",
              "IPY_MODEL_9dd5a60573294158bc1526385ca70e24",
              "IPY_MODEL_6ed6f462a609469abac57cc7f0602d14"
            ],
            "layout": "IPY_MODEL_186ec57306b7429e9887f61380c220b7"
          }
        },
        "ee252fd1caaf4d0994a5ea80415ea408": {
          "model_module": "@jupyter-widgets/controls",
          "model_name": "HTMLModel",
          "model_module_version": "1.5.0",
          "state": {
            "_dom_classes": [],
            "_model_module": "@jupyter-widgets/controls",
            "_model_module_version": "1.5.0",
            "_model_name": "HTMLModel",
            "_view_count": null,
            "_view_module": "@jupyter-widgets/controls",
            "_view_module_version": "1.5.0",
            "_view_name": "HTMLView",
            "description": "",
            "description_tooltip": null,
            "layout": "IPY_MODEL_135ccd6616944a8b8dda0911c978324f",
            "placeholder": "​",
            "style": "IPY_MODEL_208aae08bc934794b6bf4f4f11144351",
            "value": "Map: 100%"
          }
        },
        "9dd5a60573294158bc1526385ca70e24": {
          "model_module": "@jupyter-widgets/controls",
          "model_name": "FloatProgressModel",
          "model_module_version": "1.5.0",
          "state": {
            "_dom_classes": [],
            "_model_module": "@jupyter-widgets/controls",
            "_model_module_version": "1.5.0",
            "_model_name": "FloatProgressModel",
            "_view_count": null,
            "_view_module": "@jupyter-widgets/controls",
            "_view_module_version": "1.5.0",
            "_view_name": "ProgressView",
            "bar_style": "success",
            "description": "",
            "description_tooltip": null,
            "layout": "IPY_MODEL_00bae31af28146a7a3bb2288273918ad",
            "max": 11710,
            "min": 0,
            "orientation": "horizontal",
            "style": "IPY_MODEL_f67977a6be784f70947ff9527bb069fb",
            "value": 11710
          }
        },
        "6ed6f462a609469abac57cc7f0602d14": {
          "model_module": "@jupyter-widgets/controls",
          "model_name": "HTMLModel",
          "model_module_version": "1.5.0",
          "state": {
            "_dom_classes": [],
            "_model_module": "@jupyter-widgets/controls",
            "_model_module_version": "1.5.0",
            "_model_name": "HTMLModel",
            "_view_count": null,
            "_view_module": "@jupyter-widgets/controls",
            "_view_module_version": "1.5.0",
            "_view_name": "HTMLView",
            "description": "",
            "description_tooltip": null,
            "layout": "IPY_MODEL_881d6bf0a27b46d484e3088850102e6f",
            "placeholder": "​",
            "style": "IPY_MODEL_5bee8950fa9d4cd6ad230a6fc426e679",
            "value": " 11710/11710 [00:07&lt;00:00, 1546.17 examples/s]"
          }
        },
        "186ec57306b7429e9887f61380c220b7": {
          "model_module": "@jupyter-widgets/base",
          "model_name": "LayoutModel",
          "model_module_version": "1.2.0",
          "state": {
            "_model_module": "@jupyter-widgets/base",
            "_model_module_version": "1.2.0",
            "_model_name": "LayoutModel",
            "_view_count": null,
            "_view_module": "@jupyter-widgets/base",
            "_view_module_version": "1.2.0",
            "_view_name": "LayoutView",
            "align_content": null,
            "align_items": null,
            "align_self": null,
            "border": null,
            "bottom": null,
            "display": null,
            "flex": null,
            "flex_flow": null,
            "grid_area": null,
            "grid_auto_columns": null,
            "grid_auto_flow": null,
            "grid_auto_rows": null,
            "grid_column": null,
            "grid_gap": null,
            "grid_row": null,
            "grid_template_areas": null,
            "grid_template_columns": null,
            "grid_template_rows": null,
            "height": null,
            "justify_content": null,
            "justify_items": null,
            "left": null,
            "margin": null,
            "max_height": null,
            "max_width": null,
            "min_height": null,
            "min_width": null,
            "object_fit": null,
            "object_position": null,
            "order": null,
            "overflow": null,
            "overflow_x": null,
            "overflow_y": null,
            "padding": null,
            "right": null,
            "top": null,
            "visibility": null,
            "width": null
          }
        },
        "135ccd6616944a8b8dda0911c978324f": {
          "model_module": "@jupyter-widgets/base",
          "model_name": "LayoutModel",
          "model_module_version": "1.2.0",
          "state": {
            "_model_module": "@jupyter-widgets/base",
            "_model_module_version": "1.2.0",
            "_model_name": "LayoutModel",
            "_view_count": null,
            "_view_module": "@jupyter-widgets/base",
            "_view_module_version": "1.2.0",
            "_view_name": "LayoutView",
            "align_content": null,
            "align_items": null,
            "align_self": null,
            "border": null,
            "bottom": null,
            "display": null,
            "flex": null,
            "flex_flow": null,
            "grid_area": null,
            "grid_auto_columns": null,
            "grid_auto_flow": null,
            "grid_auto_rows": null,
            "grid_column": null,
            "grid_gap": null,
            "grid_row": null,
            "grid_template_areas": null,
            "grid_template_columns": null,
            "grid_template_rows": null,
            "height": null,
            "justify_content": null,
            "justify_items": null,
            "left": null,
            "margin": null,
            "max_height": null,
            "max_width": null,
            "min_height": null,
            "min_width": null,
            "object_fit": null,
            "object_position": null,
            "order": null,
            "overflow": null,
            "overflow_x": null,
            "overflow_y": null,
            "padding": null,
            "right": null,
            "top": null,
            "visibility": null,
            "width": null
          }
        },
        "208aae08bc934794b6bf4f4f11144351": {
          "model_module": "@jupyter-widgets/controls",
          "model_name": "DescriptionStyleModel",
          "model_module_version": "1.5.0",
          "state": {
            "_model_module": "@jupyter-widgets/controls",
            "_model_module_version": "1.5.0",
            "_model_name": "DescriptionStyleModel",
            "_view_count": null,
            "_view_module": "@jupyter-widgets/base",
            "_view_module_version": "1.2.0",
            "_view_name": "StyleView",
            "description_width": ""
          }
        },
        "00bae31af28146a7a3bb2288273918ad": {
          "model_module": "@jupyter-widgets/base",
          "model_name": "LayoutModel",
          "model_module_version": "1.2.0",
          "state": {
            "_model_module": "@jupyter-widgets/base",
            "_model_module_version": "1.2.0",
            "_model_name": "LayoutModel",
            "_view_count": null,
            "_view_module": "@jupyter-widgets/base",
            "_view_module_version": "1.2.0",
            "_view_name": "LayoutView",
            "align_content": null,
            "align_items": null,
            "align_self": null,
            "border": null,
            "bottom": null,
            "display": null,
            "flex": null,
            "flex_flow": null,
            "grid_area": null,
            "grid_auto_columns": null,
            "grid_auto_flow": null,
            "grid_auto_rows": null,
            "grid_column": null,
            "grid_gap": null,
            "grid_row": null,
            "grid_template_areas": null,
            "grid_template_columns": null,
            "grid_template_rows": null,
            "height": null,
            "justify_content": null,
            "justify_items": null,
            "left": null,
            "margin": null,
            "max_height": null,
            "max_width": null,
            "min_height": null,
            "min_width": null,
            "object_fit": null,
            "object_position": null,
            "order": null,
            "overflow": null,
            "overflow_x": null,
            "overflow_y": null,
            "padding": null,
            "right": null,
            "top": null,
            "visibility": null,
            "width": null
          }
        },
        "f67977a6be784f70947ff9527bb069fb": {
          "model_module": "@jupyter-widgets/controls",
          "model_name": "ProgressStyleModel",
          "model_module_version": "1.5.0",
          "state": {
            "_model_module": "@jupyter-widgets/controls",
            "_model_module_version": "1.5.0",
            "_model_name": "ProgressStyleModel",
            "_view_count": null,
            "_view_module": "@jupyter-widgets/base",
            "_view_module_version": "1.2.0",
            "_view_name": "StyleView",
            "bar_color": null,
            "description_width": ""
          }
        },
        "881d6bf0a27b46d484e3088850102e6f": {
          "model_module": "@jupyter-widgets/base",
          "model_name": "LayoutModel",
          "model_module_version": "1.2.0",
          "state": {
            "_model_module": "@jupyter-widgets/base",
            "_model_module_version": "1.2.0",
            "_model_name": "LayoutModel",
            "_view_count": null,
            "_view_module": "@jupyter-widgets/base",
            "_view_module_version": "1.2.0",
            "_view_name": "LayoutView",
            "align_content": null,
            "align_items": null,
            "align_self": null,
            "border": null,
            "bottom": null,
            "display": null,
            "flex": null,
            "flex_flow": null,
            "grid_area": null,
            "grid_auto_columns": null,
            "grid_auto_flow": null,
            "grid_auto_rows": null,
            "grid_column": null,
            "grid_gap": null,
            "grid_row": null,
            "grid_template_areas": null,
            "grid_template_columns": null,
            "grid_template_rows": null,
            "height": null,
            "justify_content": null,
            "justify_items": null,
            "left": null,
            "margin": null,
            "max_height": null,
            "max_width": null,
            "min_height": null,
            "min_width": null,
            "object_fit": null,
            "object_position": null,
            "order": null,
            "overflow": null,
            "overflow_x": null,
            "overflow_y": null,
            "padding": null,
            "right": null,
            "top": null,
            "visibility": null,
            "width": null
          }
        },
        "5bee8950fa9d4cd6ad230a6fc426e679": {
          "model_module": "@jupyter-widgets/controls",
          "model_name": "DescriptionStyleModel",
          "model_module_version": "1.5.0",
          "state": {
            "_model_module": "@jupyter-widgets/controls",
            "_model_module_version": "1.5.0",
            "_model_name": "DescriptionStyleModel",
            "_view_count": null,
            "_view_module": "@jupyter-widgets/base",
            "_view_module_version": "1.2.0",
            "_view_name": "StyleView",
            "description_width": ""
          }
        },
        "c09b933c86f74aca96ad32eb91c86b5d": {
          "model_module": "@jupyter-widgets/controls",
          "model_name": "HBoxModel",
          "model_module_version": "1.5.0",
          "state": {
            "_dom_classes": [],
            "_model_module": "@jupyter-widgets/controls",
            "_model_module_version": "1.5.0",
            "_model_name": "HBoxModel",
            "_view_count": null,
            "_view_module": "@jupyter-widgets/controls",
            "_view_module_version": "1.5.0",
            "_view_name": "HBoxView",
            "box_style": "",
            "children": [
              "IPY_MODEL_cfb492ea09ab49dda95675fdf9b9bb13",
              "IPY_MODEL_4e7d67d04dba424b9bbb2fe9b76e9121",
              "IPY_MODEL_0e88159554a1497ca7437428214171d1"
            ],
            "layout": "IPY_MODEL_cde48cd98f18469c980a7e310197df56"
          }
        },
        "cfb492ea09ab49dda95675fdf9b9bb13": {
          "model_module": "@jupyter-widgets/controls",
          "model_name": "HTMLModel",
          "model_module_version": "1.5.0",
          "state": {
            "_dom_classes": [],
            "_model_module": "@jupyter-widgets/controls",
            "_model_module_version": "1.5.0",
            "_model_name": "HTMLModel",
            "_view_count": null,
            "_view_module": "@jupyter-widgets/controls",
            "_view_module_version": "1.5.0",
            "_view_name": "HTMLView",
            "description": "",
            "description_tooltip": null,
            "layout": "IPY_MODEL_1891cb5bfa354acdacd34686078bbac5",
            "placeholder": "​",
            "style": "IPY_MODEL_104bd2fee3ed47cfab72c5dd3c857374",
            "value": "Filter: 100%"
          }
        },
        "4e7d67d04dba424b9bbb2fe9b76e9121": {
          "model_module": "@jupyter-widgets/controls",
          "model_name": "FloatProgressModel",
          "model_module_version": "1.5.0",
          "state": {
            "_dom_classes": [],
            "_model_module": "@jupyter-widgets/controls",
            "_model_module_version": "1.5.0",
            "_model_name": "FloatProgressModel",
            "_view_count": null,
            "_view_module": "@jupyter-widgets/controls",
            "_view_module_version": "1.5.0",
            "_view_name": "ProgressView",
            "bar_style": "success",
            "description": "",
            "description_tooltip": null,
            "layout": "IPY_MODEL_1cec97391c8b414ab910a6fe124f2dc5",
            "max": 46837,
            "min": 0,
            "orientation": "horizontal",
            "style": "IPY_MODEL_7a11c802db3f4379a922a3ea8d525adf",
            "value": 46837
          }
        },
        "0e88159554a1497ca7437428214171d1": {
          "model_module": "@jupyter-widgets/controls",
          "model_name": "HTMLModel",
          "model_module_version": "1.5.0",
          "state": {
            "_dom_classes": [],
            "_model_module": "@jupyter-widgets/controls",
            "_model_module_version": "1.5.0",
            "_model_name": "HTMLModel",
            "_view_count": null,
            "_view_module": "@jupyter-widgets/controls",
            "_view_module_version": "1.5.0",
            "_view_name": "HTMLView",
            "description": "",
            "description_tooltip": null,
            "layout": "IPY_MODEL_cbd70acf18764874b63e06b1c85d92c2",
            "placeholder": "​",
            "style": "IPY_MODEL_37b1f4cc6c214afb8be9d10dda980865",
            "value": " 46837/46837 [00:07&lt;00:00, 6293.45 examples/s]"
          }
        },
        "cde48cd98f18469c980a7e310197df56": {
          "model_module": "@jupyter-widgets/base",
          "model_name": "LayoutModel",
          "model_module_version": "1.2.0",
          "state": {
            "_model_module": "@jupyter-widgets/base",
            "_model_module_version": "1.2.0",
            "_model_name": "LayoutModel",
            "_view_count": null,
            "_view_module": "@jupyter-widgets/base",
            "_view_module_version": "1.2.0",
            "_view_name": "LayoutView",
            "align_content": null,
            "align_items": null,
            "align_self": null,
            "border": null,
            "bottom": null,
            "display": null,
            "flex": null,
            "flex_flow": null,
            "grid_area": null,
            "grid_auto_columns": null,
            "grid_auto_flow": null,
            "grid_auto_rows": null,
            "grid_column": null,
            "grid_gap": null,
            "grid_row": null,
            "grid_template_areas": null,
            "grid_template_columns": null,
            "grid_template_rows": null,
            "height": null,
            "justify_content": null,
            "justify_items": null,
            "left": null,
            "margin": null,
            "max_height": null,
            "max_width": null,
            "min_height": null,
            "min_width": null,
            "object_fit": null,
            "object_position": null,
            "order": null,
            "overflow": null,
            "overflow_x": null,
            "overflow_y": null,
            "padding": null,
            "right": null,
            "top": null,
            "visibility": null,
            "width": null
          }
        },
        "1891cb5bfa354acdacd34686078bbac5": {
          "model_module": "@jupyter-widgets/base",
          "model_name": "LayoutModel",
          "model_module_version": "1.2.0",
          "state": {
            "_model_module": "@jupyter-widgets/base",
            "_model_module_version": "1.2.0",
            "_model_name": "LayoutModel",
            "_view_count": null,
            "_view_module": "@jupyter-widgets/base",
            "_view_module_version": "1.2.0",
            "_view_name": "LayoutView",
            "align_content": null,
            "align_items": null,
            "align_self": null,
            "border": null,
            "bottom": null,
            "display": null,
            "flex": null,
            "flex_flow": null,
            "grid_area": null,
            "grid_auto_columns": null,
            "grid_auto_flow": null,
            "grid_auto_rows": null,
            "grid_column": null,
            "grid_gap": null,
            "grid_row": null,
            "grid_template_areas": null,
            "grid_template_columns": null,
            "grid_template_rows": null,
            "height": null,
            "justify_content": null,
            "justify_items": null,
            "left": null,
            "margin": null,
            "max_height": null,
            "max_width": null,
            "min_height": null,
            "min_width": null,
            "object_fit": null,
            "object_position": null,
            "order": null,
            "overflow": null,
            "overflow_x": null,
            "overflow_y": null,
            "padding": null,
            "right": null,
            "top": null,
            "visibility": null,
            "width": null
          }
        },
        "104bd2fee3ed47cfab72c5dd3c857374": {
          "model_module": "@jupyter-widgets/controls",
          "model_name": "DescriptionStyleModel",
          "model_module_version": "1.5.0",
          "state": {
            "_model_module": "@jupyter-widgets/controls",
            "_model_module_version": "1.5.0",
            "_model_name": "DescriptionStyleModel",
            "_view_count": null,
            "_view_module": "@jupyter-widgets/base",
            "_view_module_version": "1.2.0",
            "_view_name": "StyleView",
            "description_width": ""
          }
        },
        "1cec97391c8b414ab910a6fe124f2dc5": {
          "model_module": "@jupyter-widgets/base",
          "model_name": "LayoutModel",
          "model_module_version": "1.2.0",
          "state": {
            "_model_module": "@jupyter-widgets/base",
            "_model_module_version": "1.2.0",
            "_model_name": "LayoutModel",
            "_view_count": null,
            "_view_module": "@jupyter-widgets/base",
            "_view_module_version": "1.2.0",
            "_view_name": "LayoutView",
            "align_content": null,
            "align_items": null,
            "align_self": null,
            "border": null,
            "bottom": null,
            "display": null,
            "flex": null,
            "flex_flow": null,
            "grid_area": null,
            "grid_auto_columns": null,
            "grid_auto_flow": null,
            "grid_auto_rows": null,
            "grid_column": null,
            "grid_gap": null,
            "grid_row": null,
            "grid_template_areas": null,
            "grid_template_columns": null,
            "grid_template_rows": null,
            "height": null,
            "justify_content": null,
            "justify_items": null,
            "left": null,
            "margin": null,
            "max_height": null,
            "max_width": null,
            "min_height": null,
            "min_width": null,
            "object_fit": null,
            "object_position": null,
            "order": null,
            "overflow": null,
            "overflow_x": null,
            "overflow_y": null,
            "padding": null,
            "right": null,
            "top": null,
            "visibility": null,
            "width": null
          }
        },
        "7a11c802db3f4379a922a3ea8d525adf": {
          "model_module": "@jupyter-widgets/controls",
          "model_name": "ProgressStyleModel",
          "model_module_version": "1.5.0",
          "state": {
            "_model_module": "@jupyter-widgets/controls",
            "_model_module_version": "1.5.0",
            "_model_name": "ProgressStyleModel",
            "_view_count": null,
            "_view_module": "@jupyter-widgets/base",
            "_view_module_version": "1.2.0",
            "_view_name": "StyleView",
            "bar_color": null,
            "description_width": ""
          }
        },
        "cbd70acf18764874b63e06b1c85d92c2": {
          "model_module": "@jupyter-widgets/base",
          "model_name": "LayoutModel",
          "model_module_version": "1.2.0",
          "state": {
            "_model_module": "@jupyter-widgets/base",
            "_model_module_version": "1.2.0",
            "_model_name": "LayoutModel",
            "_view_count": null,
            "_view_module": "@jupyter-widgets/base",
            "_view_module_version": "1.2.0",
            "_view_name": "LayoutView",
            "align_content": null,
            "align_items": null,
            "align_self": null,
            "border": null,
            "bottom": null,
            "display": null,
            "flex": null,
            "flex_flow": null,
            "grid_area": null,
            "grid_auto_columns": null,
            "grid_auto_flow": null,
            "grid_auto_rows": null,
            "grid_column": null,
            "grid_gap": null,
            "grid_row": null,
            "grid_template_areas": null,
            "grid_template_columns": null,
            "grid_template_rows": null,
            "height": null,
            "justify_content": null,
            "justify_items": null,
            "left": null,
            "margin": null,
            "max_height": null,
            "max_width": null,
            "min_height": null,
            "min_width": null,
            "object_fit": null,
            "object_position": null,
            "order": null,
            "overflow": null,
            "overflow_x": null,
            "overflow_y": null,
            "padding": null,
            "right": null,
            "top": null,
            "visibility": null,
            "width": null
          }
        },
        "37b1f4cc6c214afb8be9d10dda980865": {
          "model_module": "@jupyter-widgets/controls",
          "model_name": "DescriptionStyleModel",
          "model_module_version": "1.5.0",
          "state": {
            "_model_module": "@jupyter-widgets/controls",
            "_model_module_version": "1.5.0",
            "_model_name": "DescriptionStyleModel",
            "_view_count": null,
            "_view_module": "@jupyter-widgets/base",
            "_view_module_version": "1.2.0",
            "_view_name": "StyleView",
            "description_width": ""
          }
        },
        "09f7f6e7c96b4028a7b0d0671b04571f": {
          "model_module": "@jupyter-widgets/controls",
          "model_name": "HBoxModel",
          "model_module_version": "1.5.0",
          "state": {
            "_dom_classes": [],
            "_model_module": "@jupyter-widgets/controls",
            "_model_module_version": "1.5.0",
            "_model_name": "HBoxModel",
            "_view_count": null,
            "_view_module": "@jupyter-widgets/controls",
            "_view_module_version": "1.5.0",
            "_view_name": "HBoxView",
            "box_style": "",
            "children": [
              "IPY_MODEL_4c4895fbef5842f2a141f3583025a308",
              "IPY_MODEL_0e6612e9abc54c00877db2ff9b13b61b",
              "IPY_MODEL_580ab18299ae4add9c90544cb0ce1788"
            ],
            "layout": "IPY_MODEL_c678dc56dd6e4ae1a0e0f152d3f7ead5"
          }
        },
        "4c4895fbef5842f2a141f3583025a308": {
          "model_module": "@jupyter-widgets/controls",
          "model_name": "HTMLModel",
          "model_module_version": "1.5.0",
          "state": {
            "_dom_classes": [],
            "_model_module": "@jupyter-widgets/controls",
            "_model_module_version": "1.5.0",
            "_model_name": "HTMLModel",
            "_view_count": null,
            "_view_module": "@jupyter-widgets/controls",
            "_view_module_version": "1.5.0",
            "_view_name": "HTMLView",
            "description": "",
            "description_tooltip": null,
            "layout": "IPY_MODEL_70df5c331e4843a9b133c54ebcc78313",
            "placeholder": "​",
            "style": "IPY_MODEL_6f081cb3e2434378974d9b646cdcac2a",
            "value": "Filter: 100%"
          }
        },
        "0e6612e9abc54c00877db2ff9b13b61b": {
          "model_module": "@jupyter-widgets/controls",
          "model_name": "FloatProgressModel",
          "model_module_version": "1.5.0",
          "state": {
            "_dom_classes": [],
            "_model_module": "@jupyter-widgets/controls",
            "_model_module_version": "1.5.0",
            "_model_name": "FloatProgressModel",
            "_view_count": null,
            "_view_module": "@jupyter-widgets/controls",
            "_view_module_version": "1.5.0",
            "_view_name": "ProgressView",
            "bar_style": "success",
            "description": "",
            "description_tooltip": null,
            "layout": "IPY_MODEL_0be10e32e4444ba88480d18c2593d7c5",
            "max": 11710,
            "min": 0,
            "orientation": "horizontal",
            "style": "IPY_MODEL_2aa93f3c7fc24aa680d942177212ed63",
            "value": 11710
          }
        },
        "580ab18299ae4add9c90544cb0ce1788": {
          "model_module": "@jupyter-widgets/controls",
          "model_name": "HTMLModel",
          "model_module_version": "1.5.0",
          "state": {
            "_dom_classes": [],
            "_model_module": "@jupyter-widgets/controls",
            "_model_module_version": "1.5.0",
            "_model_name": "HTMLModel",
            "_view_count": null,
            "_view_module": "@jupyter-widgets/controls",
            "_view_module_version": "1.5.0",
            "_view_name": "HTMLView",
            "description": "",
            "description_tooltip": null,
            "layout": "IPY_MODEL_9c091916aeb649f881ef7b27c35011a7",
            "placeholder": "​",
            "style": "IPY_MODEL_0a7f5d699a6049798e7dd7ae456d2e4a",
            "value": " 11710/11710 [00:02&lt;00:00, 5650.33 examples/s]"
          }
        },
        "c678dc56dd6e4ae1a0e0f152d3f7ead5": {
          "model_module": "@jupyter-widgets/base",
          "model_name": "LayoutModel",
          "model_module_version": "1.2.0",
          "state": {
            "_model_module": "@jupyter-widgets/base",
            "_model_module_version": "1.2.0",
            "_model_name": "LayoutModel",
            "_view_count": null,
            "_view_module": "@jupyter-widgets/base",
            "_view_module_version": "1.2.0",
            "_view_name": "LayoutView",
            "align_content": null,
            "align_items": null,
            "align_self": null,
            "border": null,
            "bottom": null,
            "display": null,
            "flex": null,
            "flex_flow": null,
            "grid_area": null,
            "grid_auto_columns": null,
            "grid_auto_flow": null,
            "grid_auto_rows": null,
            "grid_column": null,
            "grid_gap": null,
            "grid_row": null,
            "grid_template_areas": null,
            "grid_template_columns": null,
            "grid_template_rows": null,
            "height": null,
            "justify_content": null,
            "justify_items": null,
            "left": null,
            "margin": null,
            "max_height": null,
            "max_width": null,
            "min_height": null,
            "min_width": null,
            "object_fit": null,
            "object_position": null,
            "order": null,
            "overflow": null,
            "overflow_x": null,
            "overflow_y": null,
            "padding": null,
            "right": null,
            "top": null,
            "visibility": null,
            "width": null
          }
        },
        "70df5c331e4843a9b133c54ebcc78313": {
          "model_module": "@jupyter-widgets/base",
          "model_name": "LayoutModel",
          "model_module_version": "1.2.0",
          "state": {
            "_model_module": "@jupyter-widgets/base",
            "_model_module_version": "1.2.0",
            "_model_name": "LayoutModel",
            "_view_count": null,
            "_view_module": "@jupyter-widgets/base",
            "_view_module_version": "1.2.0",
            "_view_name": "LayoutView",
            "align_content": null,
            "align_items": null,
            "align_self": null,
            "border": null,
            "bottom": null,
            "display": null,
            "flex": null,
            "flex_flow": null,
            "grid_area": null,
            "grid_auto_columns": null,
            "grid_auto_flow": null,
            "grid_auto_rows": null,
            "grid_column": null,
            "grid_gap": null,
            "grid_row": null,
            "grid_template_areas": null,
            "grid_template_columns": null,
            "grid_template_rows": null,
            "height": null,
            "justify_content": null,
            "justify_items": null,
            "left": null,
            "margin": null,
            "max_height": null,
            "max_width": null,
            "min_height": null,
            "min_width": null,
            "object_fit": null,
            "object_position": null,
            "order": null,
            "overflow": null,
            "overflow_x": null,
            "overflow_y": null,
            "padding": null,
            "right": null,
            "top": null,
            "visibility": null,
            "width": null
          }
        },
        "6f081cb3e2434378974d9b646cdcac2a": {
          "model_module": "@jupyter-widgets/controls",
          "model_name": "DescriptionStyleModel",
          "model_module_version": "1.5.0",
          "state": {
            "_model_module": "@jupyter-widgets/controls",
            "_model_module_version": "1.5.0",
            "_model_name": "DescriptionStyleModel",
            "_view_count": null,
            "_view_module": "@jupyter-widgets/base",
            "_view_module_version": "1.2.0",
            "_view_name": "StyleView",
            "description_width": ""
          }
        },
        "0be10e32e4444ba88480d18c2593d7c5": {
          "model_module": "@jupyter-widgets/base",
          "model_name": "LayoutModel",
          "model_module_version": "1.2.0",
          "state": {
            "_model_module": "@jupyter-widgets/base",
            "_model_module_version": "1.2.0",
            "_model_name": "LayoutModel",
            "_view_count": null,
            "_view_module": "@jupyter-widgets/base",
            "_view_module_version": "1.2.0",
            "_view_name": "LayoutView",
            "align_content": null,
            "align_items": null,
            "align_self": null,
            "border": null,
            "bottom": null,
            "display": null,
            "flex": null,
            "flex_flow": null,
            "grid_area": null,
            "grid_auto_columns": null,
            "grid_auto_flow": null,
            "grid_auto_rows": null,
            "grid_column": null,
            "grid_gap": null,
            "grid_row": null,
            "grid_template_areas": null,
            "grid_template_columns": null,
            "grid_template_rows": null,
            "height": null,
            "justify_content": null,
            "justify_items": null,
            "left": null,
            "margin": null,
            "max_height": null,
            "max_width": null,
            "min_height": null,
            "min_width": null,
            "object_fit": null,
            "object_position": null,
            "order": null,
            "overflow": null,
            "overflow_x": null,
            "overflow_y": null,
            "padding": null,
            "right": null,
            "top": null,
            "visibility": null,
            "width": null
          }
        },
        "2aa93f3c7fc24aa680d942177212ed63": {
          "model_module": "@jupyter-widgets/controls",
          "model_name": "ProgressStyleModel",
          "model_module_version": "1.5.0",
          "state": {
            "_model_module": "@jupyter-widgets/controls",
            "_model_module_version": "1.5.0",
            "_model_name": "ProgressStyleModel",
            "_view_count": null,
            "_view_module": "@jupyter-widgets/base",
            "_view_module_version": "1.2.0",
            "_view_name": "StyleView",
            "bar_color": null,
            "description_width": ""
          }
        },
        "9c091916aeb649f881ef7b27c35011a7": {
          "model_module": "@jupyter-widgets/base",
          "model_name": "LayoutModel",
          "model_module_version": "1.2.0",
          "state": {
            "_model_module": "@jupyter-widgets/base",
            "_model_module_version": "1.2.0",
            "_model_name": "LayoutModel",
            "_view_count": null,
            "_view_module": "@jupyter-widgets/base",
            "_view_module_version": "1.2.0",
            "_view_name": "LayoutView",
            "align_content": null,
            "align_items": null,
            "align_self": null,
            "border": null,
            "bottom": null,
            "display": null,
            "flex": null,
            "flex_flow": null,
            "grid_area": null,
            "grid_auto_columns": null,
            "grid_auto_flow": null,
            "grid_auto_rows": null,
            "grid_column": null,
            "grid_gap": null,
            "grid_row": null,
            "grid_template_areas": null,
            "grid_template_columns": null,
            "grid_template_rows": null,
            "height": null,
            "justify_content": null,
            "justify_items": null,
            "left": null,
            "margin": null,
            "max_height": null,
            "max_width": null,
            "min_height": null,
            "min_width": null,
            "object_fit": null,
            "object_position": null,
            "order": null,
            "overflow": null,
            "overflow_x": null,
            "overflow_y": null,
            "padding": null,
            "right": null,
            "top": null,
            "visibility": null,
            "width": null
          }
        },
        "0a7f5d699a6049798e7dd7ae456d2e4a": {
          "model_module": "@jupyter-widgets/controls",
          "model_name": "DescriptionStyleModel",
          "model_module_version": "1.5.0",
          "state": {
            "_model_module": "@jupyter-widgets/controls",
            "_model_module_version": "1.5.0",
            "_model_name": "DescriptionStyleModel",
            "_view_count": null,
            "_view_module": "@jupyter-widgets/base",
            "_view_module_version": "1.2.0",
            "_view_name": "StyleView",
            "description_width": ""
          }
        },
        "e4498b09a3384789b83d6d82f79d3c28": {
          "model_module": "@jupyter-widgets/controls",
          "model_name": "HBoxModel",
          "model_module_version": "1.5.0",
          "state": {
            "_dom_classes": [],
            "_model_module": "@jupyter-widgets/controls",
            "_model_module_version": "1.5.0",
            "_model_name": "HBoxModel",
            "_view_count": null,
            "_view_module": "@jupyter-widgets/controls",
            "_view_module_version": "1.5.0",
            "_view_name": "HBoxView",
            "box_style": "",
            "children": [
              "IPY_MODEL_d2336eb6d627407983df25aedf2ceb3c",
              "IPY_MODEL_05d9e48aa4e241cfaab2d28212144a00",
              "IPY_MODEL_07c5f0e6a62d42eb81c550f3685c0db3"
            ],
            "layout": "IPY_MODEL_c12de2ab71c44052bdeecfc031e6eddf"
          }
        },
        "d2336eb6d627407983df25aedf2ceb3c": {
          "model_module": "@jupyter-widgets/controls",
          "model_name": "HTMLModel",
          "model_module_version": "1.5.0",
          "state": {
            "_dom_classes": [],
            "_model_module": "@jupyter-widgets/controls",
            "_model_module_version": "1.5.0",
            "_model_name": "HTMLModel",
            "_view_count": null,
            "_view_module": "@jupyter-widgets/controls",
            "_view_module_version": "1.5.0",
            "_view_name": "HTMLView",
            "description": "",
            "description_tooltip": null,
            "layout": "IPY_MODEL_f5ba5d86bbf842d0b81859ac8767eb8f",
            "placeholder": "​",
            "style": "IPY_MODEL_ed841122d8c84864a097b5d7cf45fb6d",
            "value": "adapter_model.safetensors: 100%"
          }
        },
        "05d9e48aa4e241cfaab2d28212144a00": {
          "model_module": "@jupyter-widgets/controls",
          "model_name": "FloatProgressModel",
          "model_module_version": "1.5.0",
          "state": {
            "_dom_classes": [],
            "_model_module": "@jupyter-widgets/controls",
            "_model_module_version": "1.5.0",
            "_model_name": "FloatProgressModel",
            "_view_count": null,
            "_view_module": "@jupyter-widgets/controls",
            "_view_module_version": "1.5.0",
            "_view_name": "ProgressView",
            "bar_style": "success",
            "description": "",
            "description_tooltip": null,
            "layout": "IPY_MODEL_a6ac3ec722024a438bcba8119693234b",
            "max": 792790392,
            "min": 0,
            "orientation": "horizontal",
            "style": "IPY_MODEL_2083b5e721ca4db0b94a2cbc2236548b",
            "value": 792790392
          }
        },
        "07c5f0e6a62d42eb81c550f3685c0db3": {
          "model_module": "@jupyter-widgets/controls",
          "model_name": "HTMLModel",
          "model_module_version": "1.5.0",
          "state": {
            "_dom_classes": [],
            "_model_module": "@jupyter-widgets/controls",
            "_model_module_version": "1.5.0",
            "_model_name": "HTMLModel",
            "_view_count": null,
            "_view_module": "@jupyter-widgets/controls",
            "_view_module_version": "1.5.0",
            "_view_name": "HTMLView",
            "description": "",
            "description_tooltip": null,
            "layout": "IPY_MODEL_0c2f29be5c75428d9771979994b2cdb2",
            "placeholder": "​",
            "style": "IPY_MODEL_ba9b7866114d450fa507dd297d905a4a",
            "value": " 793M/793M [00:34&lt;00:00, 25.0MB/s]"
          }
        },
        "c12de2ab71c44052bdeecfc031e6eddf": {
          "model_module": "@jupyter-widgets/base",
          "model_name": "LayoutModel",
          "model_module_version": "1.2.0",
          "state": {
            "_model_module": "@jupyter-widgets/base",
            "_model_module_version": "1.2.0",
            "_model_name": "LayoutModel",
            "_view_count": null,
            "_view_module": "@jupyter-widgets/base",
            "_view_module_version": "1.2.0",
            "_view_name": "LayoutView",
            "align_content": null,
            "align_items": null,
            "align_self": null,
            "border": null,
            "bottom": null,
            "display": null,
            "flex": null,
            "flex_flow": null,
            "grid_area": null,
            "grid_auto_columns": null,
            "grid_auto_flow": null,
            "grid_auto_rows": null,
            "grid_column": null,
            "grid_gap": null,
            "grid_row": null,
            "grid_template_areas": null,
            "grid_template_columns": null,
            "grid_template_rows": null,
            "height": null,
            "justify_content": null,
            "justify_items": null,
            "left": null,
            "margin": null,
            "max_height": null,
            "max_width": null,
            "min_height": null,
            "min_width": null,
            "object_fit": null,
            "object_position": null,
            "order": null,
            "overflow": null,
            "overflow_x": null,
            "overflow_y": null,
            "padding": null,
            "right": null,
            "top": null,
            "visibility": null,
            "width": null
          }
        },
        "f5ba5d86bbf842d0b81859ac8767eb8f": {
          "model_module": "@jupyter-widgets/base",
          "model_name": "LayoutModel",
          "model_module_version": "1.2.0",
          "state": {
            "_model_module": "@jupyter-widgets/base",
            "_model_module_version": "1.2.0",
            "_model_name": "LayoutModel",
            "_view_count": null,
            "_view_module": "@jupyter-widgets/base",
            "_view_module_version": "1.2.0",
            "_view_name": "LayoutView",
            "align_content": null,
            "align_items": null,
            "align_self": null,
            "border": null,
            "bottom": null,
            "display": null,
            "flex": null,
            "flex_flow": null,
            "grid_area": null,
            "grid_auto_columns": null,
            "grid_auto_flow": null,
            "grid_auto_rows": null,
            "grid_column": null,
            "grid_gap": null,
            "grid_row": null,
            "grid_template_areas": null,
            "grid_template_columns": null,
            "grid_template_rows": null,
            "height": null,
            "justify_content": null,
            "justify_items": null,
            "left": null,
            "margin": null,
            "max_height": null,
            "max_width": null,
            "min_height": null,
            "min_width": null,
            "object_fit": null,
            "object_position": null,
            "order": null,
            "overflow": null,
            "overflow_x": null,
            "overflow_y": null,
            "padding": null,
            "right": null,
            "top": null,
            "visibility": null,
            "width": null
          }
        },
        "ed841122d8c84864a097b5d7cf45fb6d": {
          "model_module": "@jupyter-widgets/controls",
          "model_name": "DescriptionStyleModel",
          "model_module_version": "1.5.0",
          "state": {
            "_model_module": "@jupyter-widgets/controls",
            "_model_module_version": "1.5.0",
            "_model_name": "DescriptionStyleModel",
            "_view_count": null,
            "_view_module": "@jupyter-widgets/base",
            "_view_module_version": "1.2.0",
            "_view_name": "StyleView",
            "description_width": ""
          }
        },
        "a6ac3ec722024a438bcba8119693234b": {
          "model_module": "@jupyter-widgets/base",
          "model_name": "LayoutModel",
          "model_module_version": "1.2.0",
          "state": {
            "_model_module": "@jupyter-widgets/base",
            "_model_module_version": "1.2.0",
            "_model_name": "LayoutModel",
            "_view_count": null,
            "_view_module": "@jupyter-widgets/base",
            "_view_module_version": "1.2.0",
            "_view_name": "LayoutView",
            "align_content": null,
            "align_items": null,
            "align_self": null,
            "border": null,
            "bottom": null,
            "display": null,
            "flex": null,
            "flex_flow": null,
            "grid_area": null,
            "grid_auto_columns": null,
            "grid_auto_flow": null,
            "grid_auto_rows": null,
            "grid_column": null,
            "grid_gap": null,
            "grid_row": null,
            "grid_template_areas": null,
            "grid_template_columns": null,
            "grid_template_rows": null,
            "height": null,
            "justify_content": null,
            "justify_items": null,
            "left": null,
            "margin": null,
            "max_height": null,
            "max_width": null,
            "min_height": null,
            "min_width": null,
            "object_fit": null,
            "object_position": null,
            "order": null,
            "overflow": null,
            "overflow_x": null,
            "overflow_y": null,
            "padding": null,
            "right": null,
            "top": null,
            "visibility": null,
            "width": null
          }
        },
        "2083b5e721ca4db0b94a2cbc2236548b": {
          "model_module": "@jupyter-widgets/controls",
          "model_name": "ProgressStyleModel",
          "model_module_version": "1.5.0",
          "state": {
            "_model_module": "@jupyter-widgets/controls",
            "_model_module_version": "1.5.0",
            "_model_name": "ProgressStyleModel",
            "_view_count": null,
            "_view_module": "@jupyter-widgets/base",
            "_view_module_version": "1.2.0",
            "_view_name": "StyleView",
            "bar_color": null,
            "description_width": ""
          }
        },
        "0c2f29be5c75428d9771979994b2cdb2": {
          "model_module": "@jupyter-widgets/base",
          "model_name": "LayoutModel",
          "model_module_version": "1.2.0",
          "state": {
            "_model_module": "@jupyter-widgets/base",
            "_model_module_version": "1.2.0",
            "_model_name": "LayoutModel",
            "_view_count": null,
            "_view_module": "@jupyter-widgets/base",
            "_view_module_version": "1.2.0",
            "_view_name": "LayoutView",
            "align_content": null,
            "align_items": null,
            "align_self": null,
            "border": null,
            "bottom": null,
            "display": null,
            "flex": null,
            "flex_flow": null,
            "grid_area": null,
            "grid_auto_columns": null,
            "grid_auto_flow": null,
            "grid_auto_rows": null,
            "grid_column": null,
            "grid_gap": null,
            "grid_row": null,
            "grid_template_areas": null,
            "grid_template_columns": null,
            "grid_template_rows": null,
            "height": null,
            "justify_content": null,
            "justify_items": null,
            "left": null,
            "margin": null,
            "max_height": null,
            "max_width": null,
            "min_height": null,
            "min_width": null,
            "object_fit": null,
            "object_position": null,
            "order": null,
            "overflow": null,
            "overflow_x": null,
            "overflow_y": null,
            "padding": null,
            "right": null,
            "top": null,
            "visibility": null,
            "width": null
          }
        },
        "ba9b7866114d450fa507dd297d905a4a": {
          "model_module": "@jupyter-widgets/controls",
          "model_name": "DescriptionStyleModel",
          "model_module_version": "1.5.0",
          "state": {
            "_model_module": "@jupyter-widgets/controls",
            "_model_module_version": "1.5.0",
            "_model_name": "DescriptionStyleModel",
            "_view_count": null,
            "_view_module": "@jupyter-widgets/base",
            "_view_module_version": "1.2.0",
            "_view_name": "StyleView",
            "description_width": ""
          }
        },
        "2d401ba08ae549c296b2563619ac057b": {
          "model_module": "@jupyter-widgets/controls",
          "model_name": "HBoxModel",
          "model_module_version": "1.5.0",
          "state": {
            "_dom_classes": [],
            "_model_module": "@jupyter-widgets/controls",
            "_model_module_version": "1.5.0",
            "_model_name": "HBoxModel",
            "_view_count": null,
            "_view_module": "@jupyter-widgets/controls",
            "_view_module_version": "1.5.0",
            "_view_name": "HBoxView",
            "box_style": "",
            "children": [
              "IPY_MODEL_54f66a24cfe74488b0fbef3792cf9098",
              "IPY_MODEL_74d84c901b1b47f984881c75fb90cfcc",
              "IPY_MODEL_caea921f47794a8b99d841c2e5b8eaa4"
            ],
            "layout": "IPY_MODEL_17d99679122e48398989df37ed0f6c80"
          }
        },
        "54f66a24cfe74488b0fbef3792cf9098": {
          "model_module": "@jupyter-widgets/controls",
          "model_name": "HTMLModel",
          "model_module_version": "1.5.0",
          "state": {
            "_dom_classes": [],
            "_model_module": "@jupyter-widgets/controls",
            "_model_module_version": "1.5.0",
            "_model_name": "HTMLModel",
            "_view_count": null,
            "_view_module": "@jupyter-widgets/controls",
            "_view_module_version": "1.5.0",
            "_view_name": "HTMLView",
            "description": "",
            "description_tooltip": null,
            "layout": "IPY_MODEL_af673157583140949f05a5bdb88e782a",
            "placeholder": "​",
            "style": "IPY_MODEL_47e8e71c120541b1b009bf7f1c6c77e5",
            "value": "Upload 2 LFS files: 100%"
          }
        },
        "74d84c901b1b47f984881c75fb90cfcc": {
          "model_module": "@jupyter-widgets/controls",
          "model_name": "FloatProgressModel",
          "model_module_version": "1.5.0",
          "state": {
            "_dom_classes": [],
            "_model_module": "@jupyter-widgets/controls",
            "_model_module_version": "1.5.0",
            "_model_name": "FloatProgressModel",
            "_view_count": null,
            "_view_module": "@jupyter-widgets/controls",
            "_view_module_version": "1.5.0",
            "_view_name": "ProgressView",
            "bar_style": "success",
            "description": "",
            "description_tooltip": null,
            "layout": "IPY_MODEL_22da890534fb4a1bad20d3d0d591fbe8",
            "max": 2,
            "min": 0,
            "orientation": "horizontal",
            "style": "IPY_MODEL_6e4da58d617845cbb0a20fc23eb5f30b",
            "value": 2
          }
        },
        "caea921f47794a8b99d841c2e5b8eaa4": {
          "model_module": "@jupyter-widgets/controls",
          "model_name": "HTMLModel",
          "model_module_version": "1.5.0",
          "state": {
            "_dom_classes": [],
            "_model_module": "@jupyter-widgets/controls",
            "_model_module_version": "1.5.0",
            "_model_name": "HTMLModel",
            "_view_count": null,
            "_view_module": "@jupyter-widgets/controls",
            "_view_module_version": "1.5.0",
            "_view_name": "HTMLView",
            "description": "",
            "description_tooltip": null,
            "layout": "IPY_MODEL_fa316f99466641e396ce9b9aa3a80f1d",
            "placeholder": "​",
            "style": "IPY_MODEL_59ab615267d24b8f953d847990b00d86",
            "value": " 2/2 [00:35&lt;00:00, 35.22s/it]"
          }
        },
        "17d99679122e48398989df37ed0f6c80": {
          "model_module": "@jupyter-widgets/base",
          "model_name": "LayoutModel",
          "model_module_version": "1.2.0",
          "state": {
            "_model_module": "@jupyter-widgets/base",
            "_model_module_version": "1.2.0",
            "_model_name": "LayoutModel",
            "_view_count": null,
            "_view_module": "@jupyter-widgets/base",
            "_view_module_version": "1.2.0",
            "_view_name": "LayoutView",
            "align_content": null,
            "align_items": null,
            "align_self": null,
            "border": null,
            "bottom": null,
            "display": null,
            "flex": null,
            "flex_flow": null,
            "grid_area": null,
            "grid_auto_columns": null,
            "grid_auto_flow": null,
            "grid_auto_rows": null,
            "grid_column": null,
            "grid_gap": null,
            "grid_row": null,
            "grid_template_areas": null,
            "grid_template_columns": null,
            "grid_template_rows": null,
            "height": null,
            "justify_content": null,
            "justify_items": null,
            "left": null,
            "margin": null,
            "max_height": null,
            "max_width": null,
            "min_height": null,
            "min_width": null,
            "object_fit": null,
            "object_position": null,
            "order": null,
            "overflow": null,
            "overflow_x": null,
            "overflow_y": null,
            "padding": null,
            "right": null,
            "top": null,
            "visibility": null,
            "width": null
          }
        },
        "af673157583140949f05a5bdb88e782a": {
          "model_module": "@jupyter-widgets/base",
          "model_name": "LayoutModel",
          "model_module_version": "1.2.0",
          "state": {
            "_model_module": "@jupyter-widgets/base",
            "_model_module_version": "1.2.0",
            "_model_name": "LayoutModel",
            "_view_count": null,
            "_view_module": "@jupyter-widgets/base",
            "_view_module_version": "1.2.0",
            "_view_name": "LayoutView",
            "align_content": null,
            "align_items": null,
            "align_self": null,
            "border": null,
            "bottom": null,
            "display": null,
            "flex": null,
            "flex_flow": null,
            "grid_area": null,
            "grid_auto_columns": null,
            "grid_auto_flow": null,
            "grid_auto_rows": null,
            "grid_column": null,
            "grid_gap": null,
            "grid_row": null,
            "grid_template_areas": null,
            "grid_template_columns": null,
            "grid_template_rows": null,
            "height": null,
            "justify_content": null,
            "justify_items": null,
            "left": null,
            "margin": null,
            "max_height": null,
            "max_width": null,
            "min_height": null,
            "min_width": null,
            "object_fit": null,
            "object_position": null,
            "order": null,
            "overflow": null,
            "overflow_x": null,
            "overflow_y": null,
            "padding": null,
            "right": null,
            "top": null,
            "visibility": null,
            "width": null
          }
        },
        "47e8e71c120541b1b009bf7f1c6c77e5": {
          "model_module": "@jupyter-widgets/controls",
          "model_name": "DescriptionStyleModel",
          "model_module_version": "1.5.0",
          "state": {
            "_model_module": "@jupyter-widgets/controls",
            "_model_module_version": "1.5.0",
            "_model_name": "DescriptionStyleModel",
            "_view_count": null,
            "_view_module": "@jupyter-widgets/base",
            "_view_module_version": "1.2.0",
            "_view_name": "StyleView",
            "description_width": ""
          }
        },
        "22da890534fb4a1bad20d3d0d591fbe8": {
          "model_module": "@jupyter-widgets/base",
          "model_name": "LayoutModel",
          "model_module_version": "1.2.0",
          "state": {
            "_model_module": "@jupyter-widgets/base",
            "_model_module_version": "1.2.0",
            "_model_name": "LayoutModel",
            "_view_count": null,
            "_view_module": "@jupyter-widgets/base",
            "_view_module_version": "1.2.0",
            "_view_name": "LayoutView",
            "align_content": null,
            "align_items": null,
            "align_self": null,
            "border": null,
            "bottom": null,
            "display": null,
            "flex": null,
            "flex_flow": null,
            "grid_area": null,
            "grid_auto_columns": null,
            "grid_auto_flow": null,
            "grid_auto_rows": null,
            "grid_column": null,
            "grid_gap": null,
            "grid_row": null,
            "grid_template_areas": null,
            "grid_template_columns": null,
            "grid_template_rows": null,
            "height": null,
            "justify_content": null,
            "justify_items": null,
            "left": null,
            "margin": null,
            "max_height": null,
            "max_width": null,
            "min_height": null,
            "min_width": null,
            "object_fit": null,
            "object_position": null,
            "order": null,
            "overflow": null,
            "overflow_x": null,
            "overflow_y": null,
            "padding": null,
            "right": null,
            "top": null,
            "visibility": null,
            "width": null
          }
        },
        "6e4da58d617845cbb0a20fc23eb5f30b": {
          "model_module": "@jupyter-widgets/controls",
          "model_name": "ProgressStyleModel",
          "model_module_version": "1.5.0",
          "state": {
            "_model_module": "@jupyter-widgets/controls",
            "_model_module_version": "1.5.0",
            "_model_name": "ProgressStyleModel",
            "_view_count": null,
            "_view_module": "@jupyter-widgets/base",
            "_view_module_version": "1.2.0",
            "_view_name": "StyleView",
            "bar_color": null,
            "description_width": ""
          }
        },
        "fa316f99466641e396ce9b9aa3a80f1d": {
          "model_module": "@jupyter-widgets/base",
          "model_name": "LayoutModel",
          "model_module_version": "1.2.0",
          "state": {
            "_model_module": "@jupyter-widgets/base",
            "_model_module_version": "1.2.0",
            "_model_name": "LayoutModel",
            "_view_count": null,
            "_view_module": "@jupyter-widgets/base",
            "_view_module_version": "1.2.0",
            "_view_name": "LayoutView",
            "align_content": null,
            "align_items": null,
            "align_self": null,
            "border": null,
            "bottom": null,
            "display": null,
            "flex": null,
            "flex_flow": null,
            "grid_area": null,
            "grid_auto_columns": null,
            "grid_auto_flow": null,
            "grid_auto_rows": null,
            "grid_column": null,
            "grid_gap": null,
            "grid_row": null,
            "grid_template_areas": null,
            "grid_template_columns": null,
            "grid_template_rows": null,
            "height": null,
            "justify_content": null,
            "justify_items": null,
            "left": null,
            "margin": null,
            "max_height": null,
            "max_width": null,
            "min_height": null,
            "min_width": null,
            "object_fit": null,
            "object_position": null,
            "order": null,
            "overflow": null,
            "overflow_x": null,
            "overflow_y": null,
            "padding": null,
            "right": null,
            "top": null,
            "visibility": null,
            "width": null
          }
        },
        "59ab615267d24b8f953d847990b00d86": {
          "model_module": "@jupyter-widgets/controls",
          "model_name": "DescriptionStyleModel",
          "model_module_version": "1.5.0",
          "state": {
            "_model_module": "@jupyter-widgets/controls",
            "_model_module_version": "1.5.0",
            "_model_name": "DescriptionStyleModel",
            "_view_count": null,
            "_view_module": "@jupyter-widgets/base",
            "_view_module_version": "1.2.0",
            "_view_name": "StyleView",
            "description_width": ""
          }
        },
        "5c6ff364f8e94991a2e803abfce7e366": {
          "model_module": "@jupyter-widgets/controls",
          "model_name": "HBoxModel",
          "model_module_version": "1.5.0",
          "state": {
            "_dom_classes": [],
            "_model_module": "@jupyter-widgets/controls",
            "_model_module_version": "1.5.0",
            "_model_name": "HBoxModel",
            "_view_count": null,
            "_view_module": "@jupyter-widgets/controls",
            "_view_module_version": "1.5.0",
            "_view_name": "HBoxView",
            "box_style": "",
            "children": [
              "IPY_MODEL_5c0a89b14e9e4b91b7fe01a7c7a2304b",
              "IPY_MODEL_1d2bc317d744409a9c504684461663ea",
              "IPY_MODEL_4477187571574c25bb90a64fb475f8a8"
            ],
            "layout": "IPY_MODEL_2f775fc977344e90a6d7c75f99adc64d"
          }
        },
        "5c0a89b14e9e4b91b7fe01a7c7a2304b": {
          "model_module": "@jupyter-widgets/controls",
          "model_name": "HTMLModel",
          "model_module_version": "1.5.0",
          "state": {
            "_dom_classes": [],
            "_model_module": "@jupyter-widgets/controls",
            "_model_module_version": "1.5.0",
            "_model_name": "HTMLModel",
            "_view_count": null,
            "_view_module": "@jupyter-widgets/controls",
            "_view_module_version": "1.5.0",
            "_view_name": "HTMLView",
            "description": "",
            "description_tooltip": null,
            "layout": "IPY_MODEL_160753b12b6e492a8c754e61ba365fac",
            "placeholder": "​",
            "style": "IPY_MODEL_3cae07e6e012402c828a0cd3425a1bfe",
            "value": "events.out.tfevents.1707587399.9c0684bcaa91.1292.0: 100%"
          }
        },
        "1d2bc317d744409a9c504684461663ea": {
          "model_module": "@jupyter-widgets/controls",
          "model_name": "FloatProgressModel",
          "model_module_version": "1.5.0",
          "state": {
            "_dom_classes": [],
            "_model_module": "@jupyter-widgets/controls",
            "_model_module_version": "1.5.0",
            "_model_name": "FloatProgressModel",
            "_view_count": null,
            "_view_module": "@jupyter-widgets/controls",
            "_view_module_version": "1.5.0",
            "_view_name": "ProgressView",
            "bar_style": "success",
            "description": "",
            "description_tooltip": null,
            "layout": "IPY_MODEL_d43398a2608b490eafd3f4c48d170f6b",
            "max": 375257,
            "min": 0,
            "orientation": "horizontal",
            "style": "IPY_MODEL_6ce8f050906d4a918cb3ded41da56643",
            "value": 375257
          }
        },
        "4477187571574c25bb90a64fb475f8a8": {
          "model_module": "@jupyter-widgets/controls",
          "model_name": "HTMLModel",
          "model_module_version": "1.5.0",
          "state": {
            "_dom_classes": [],
            "_model_module": "@jupyter-widgets/controls",
            "_model_module_version": "1.5.0",
            "_model_name": "HTMLModel",
            "_view_count": null,
            "_view_module": "@jupyter-widgets/controls",
            "_view_module_version": "1.5.0",
            "_view_name": "HTMLView",
            "description": "",
            "description_tooltip": null,
            "layout": "IPY_MODEL_6cac436421b64b17825e2384440d7d85",
            "placeholder": "​",
            "style": "IPY_MODEL_4420e52b75124e98ace0d9611837372a",
            "value": " 375k/375k [00:00&lt;00:00, 687kB/s]"
          }
        },
        "2f775fc977344e90a6d7c75f99adc64d": {
          "model_module": "@jupyter-widgets/base",
          "model_name": "LayoutModel",
          "model_module_version": "1.2.0",
          "state": {
            "_model_module": "@jupyter-widgets/base",
            "_model_module_version": "1.2.0",
            "_model_name": "LayoutModel",
            "_view_count": null,
            "_view_module": "@jupyter-widgets/base",
            "_view_module_version": "1.2.0",
            "_view_name": "LayoutView",
            "align_content": null,
            "align_items": null,
            "align_self": null,
            "border": null,
            "bottom": null,
            "display": null,
            "flex": null,
            "flex_flow": null,
            "grid_area": null,
            "grid_auto_columns": null,
            "grid_auto_flow": null,
            "grid_auto_rows": null,
            "grid_column": null,
            "grid_gap": null,
            "grid_row": null,
            "grid_template_areas": null,
            "grid_template_columns": null,
            "grid_template_rows": null,
            "height": null,
            "justify_content": null,
            "justify_items": null,
            "left": null,
            "margin": null,
            "max_height": null,
            "max_width": null,
            "min_height": null,
            "min_width": null,
            "object_fit": null,
            "object_position": null,
            "order": null,
            "overflow": null,
            "overflow_x": null,
            "overflow_y": null,
            "padding": null,
            "right": null,
            "top": null,
            "visibility": null,
            "width": null
          }
        },
        "160753b12b6e492a8c754e61ba365fac": {
          "model_module": "@jupyter-widgets/base",
          "model_name": "LayoutModel",
          "model_module_version": "1.2.0",
          "state": {
            "_model_module": "@jupyter-widgets/base",
            "_model_module_version": "1.2.0",
            "_model_name": "LayoutModel",
            "_view_count": null,
            "_view_module": "@jupyter-widgets/base",
            "_view_module_version": "1.2.0",
            "_view_name": "LayoutView",
            "align_content": null,
            "align_items": null,
            "align_self": null,
            "border": null,
            "bottom": null,
            "display": null,
            "flex": null,
            "flex_flow": null,
            "grid_area": null,
            "grid_auto_columns": null,
            "grid_auto_flow": null,
            "grid_auto_rows": null,
            "grid_column": null,
            "grid_gap": null,
            "grid_row": null,
            "grid_template_areas": null,
            "grid_template_columns": null,
            "grid_template_rows": null,
            "height": null,
            "justify_content": null,
            "justify_items": null,
            "left": null,
            "margin": null,
            "max_height": null,
            "max_width": null,
            "min_height": null,
            "min_width": null,
            "object_fit": null,
            "object_position": null,
            "order": null,
            "overflow": null,
            "overflow_x": null,
            "overflow_y": null,
            "padding": null,
            "right": null,
            "top": null,
            "visibility": null,
            "width": null
          }
        },
        "3cae07e6e012402c828a0cd3425a1bfe": {
          "model_module": "@jupyter-widgets/controls",
          "model_name": "DescriptionStyleModel",
          "model_module_version": "1.5.0",
          "state": {
            "_model_module": "@jupyter-widgets/controls",
            "_model_module_version": "1.5.0",
            "_model_name": "DescriptionStyleModel",
            "_view_count": null,
            "_view_module": "@jupyter-widgets/base",
            "_view_module_version": "1.2.0",
            "_view_name": "StyleView",
            "description_width": ""
          }
        },
        "d43398a2608b490eafd3f4c48d170f6b": {
          "model_module": "@jupyter-widgets/base",
          "model_name": "LayoutModel",
          "model_module_version": "1.2.0",
          "state": {
            "_model_module": "@jupyter-widgets/base",
            "_model_module_version": "1.2.0",
            "_model_name": "LayoutModel",
            "_view_count": null,
            "_view_module": "@jupyter-widgets/base",
            "_view_module_version": "1.2.0",
            "_view_name": "LayoutView",
            "align_content": null,
            "align_items": null,
            "align_self": null,
            "border": null,
            "bottom": null,
            "display": null,
            "flex": null,
            "flex_flow": null,
            "grid_area": null,
            "grid_auto_columns": null,
            "grid_auto_flow": null,
            "grid_auto_rows": null,
            "grid_column": null,
            "grid_gap": null,
            "grid_row": null,
            "grid_template_areas": null,
            "grid_template_columns": null,
            "grid_template_rows": null,
            "height": null,
            "justify_content": null,
            "justify_items": null,
            "left": null,
            "margin": null,
            "max_height": null,
            "max_width": null,
            "min_height": null,
            "min_width": null,
            "object_fit": null,
            "object_position": null,
            "order": null,
            "overflow": null,
            "overflow_x": null,
            "overflow_y": null,
            "padding": null,
            "right": null,
            "top": null,
            "visibility": null,
            "width": null
          }
        },
        "6ce8f050906d4a918cb3ded41da56643": {
          "model_module": "@jupyter-widgets/controls",
          "model_name": "ProgressStyleModel",
          "model_module_version": "1.5.0",
          "state": {
            "_model_module": "@jupyter-widgets/controls",
            "_model_module_version": "1.5.0",
            "_model_name": "ProgressStyleModel",
            "_view_count": null,
            "_view_module": "@jupyter-widgets/base",
            "_view_module_version": "1.2.0",
            "_view_name": "StyleView",
            "bar_color": null,
            "description_width": ""
          }
        },
        "6cac436421b64b17825e2384440d7d85": {
          "model_module": "@jupyter-widgets/base",
          "model_name": "LayoutModel",
          "model_module_version": "1.2.0",
          "state": {
            "_model_module": "@jupyter-widgets/base",
            "_model_module_version": "1.2.0",
            "_model_name": "LayoutModel",
            "_view_count": null,
            "_view_module": "@jupyter-widgets/base",
            "_view_module_version": "1.2.0",
            "_view_name": "LayoutView",
            "align_content": null,
            "align_items": null,
            "align_self": null,
            "border": null,
            "bottom": null,
            "display": null,
            "flex": null,
            "flex_flow": null,
            "grid_area": null,
            "grid_auto_columns": null,
            "grid_auto_flow": null,
            "grid_auto_rows": null,
            "grid_column": null,
            "grid_gap": null,
            "grid_row": null,
            "grid_template_areas": null,
            "grid_template_columns": null,
            "grid_template_rows": null,
            "height": null,
            "justify_content": null,
            "justify_items": null,
            "left": null,
            "margin": null,
            "max_height": null,
            "max_width": null,
            "min_height": null,
            "min_width": null,
            "object_fit": null,
            "object_position": null,
            "order": null,
            "overflow": null,
            "overflow_x": null,
            "overflow_y": null,
            "padding": null,
            "right": null,
            "top": null,
            "visibility": null,
            "width": null
          }
        },
        "4420e52b75124e98ace0d9611837372a": {
          "model_module": "@jupyter-widgets/controls",
          "model_name": "DescriptionStyleModel",
          "model_module_version": "1.5.0",
          "state": {
            "_model_module": "@jupyter-widgets/controls",
            "_model_module_version": "1.5.0",
            "_model_name": "DescriptionStyleModel",
            "_view_count": null,
            "_view_module": "@jupyter-widgets/base",
            "_view_module_version": "1.2.0",
            "_view_name": "StyleView",
            "description_width": ""
          }
        },
        "1f483e2f04e8433c87327d2eb064ff9b": {
          "model_module": "@jupyter-widgets/controls",
          "model_name": "HBoxModel",
          "model_module_version": "1.5.0",
          "state": {
            "_dom_classes": [],
            "_model_module": "@jupyter-widgets/controls",
            "_model_module_version": "1.5.0",
            "_model_name": "HBoxModel",
            "_view_count": null,
            "_view_module": "@jupyter-widgets/controls",
            "_view_module_version": "1.5.0",
            "_view_name": "HBoxView",
            "box_style": "",
            "children": [
              "IPY_MODEL_9218925ac8c4419dbfdf7f57d9c5865c",
              "IPY_MODEL_ea91841f0f114bb0b4f0c0fe48044a2a",
              "IPY_MODEL_251df41faa0a4245bd3260863581f2e9"
            ],
            "layout": "IPY_MODEL_5ff072a5c07d49f193b7591925265682"
          }
        },
        "9218925ac8c4419dbfdf7f57d9c5865c": {
          "model_module": "@jupyter-widgets/controls",
          "model_name": "HTMLModel",
          "model_module_version": "1.5.0",
          "state": {
            "_dom_classes": [],
            "_model_module": "@jupyter-widgets/controls",
            "_model_module_version": "1.5.0",
            "_model_name": "HTMLModel",
            "_view_count": null,
            "_view_module": "@jupyter-widgets/controls",
            "_view_module_version": "1.5.0",
            "_view_name": "HTMLView",
            "description": "",
            "description_tooltip": null,
            "layout": "IPY_MODEL_bb5031474051438f8b10cc9a95232143",
            "placeholder": "​",
            "style": "IPY_MODEL_7d1a0cbc805647108e9e8ffd103b55a6",
            "value": "Loading checkpoint shards: 100%"
          }
        },
        "ea91841f0f114bb0b4f0c0fe48044a2a": {
          "model_module": "@jupyter-widgets/controls",
          "model_name": "FloatProgressModel",
          "model_module_version": "1.5.0",
          "state": {
            "_dom_classes": [],
            "_model_module": "@jupyter-widgets/controls",
            "_model_module_version": "1.5.0",
            "_model_name": "FloatProgressModel",
            "_view_count": null,
            "_view_module": "@jupyter-widgets/controls",
            "_view_module_version": "1.5.0",
            "_view_name": "ProgressView",
            "bar_style": "success",
            "description": "",
            "description_tooltip": null,
            "layout": "IPY_MODEL_799815e93c8a4765a4da3599c3995fc6",
            "max": 2,
            "min": 0,
            "orientation": "horizontal",
            "style": "IPY_MODEL_a315998bc83c48eda7eb1f924eb52366",
            "value": 2
          }
        },
        "251df41faa0a4245bd3260863581f2e9": {
          "model_module": "@jupyter-widgets/controls",
          "model_name": "HTMLModel",
          "model_module_version": "1.5.0",
          "state": {
            "_dom_classes": [],
            "_model_module": "@jupyter-widgets/controls",
            "_model_module_version": "1.5.0",
            "_model_name": "HTMLModel",
            "_view_count": null,
            "_view_module": "@jupyter-widgets/controls",
            "_view_module_version": "1.5.0",
            "_view_name": "HTMLView",
            "description": "",
            "description_tooltip": null,
            "layout": "IPY_MODEL_917699353f164ff18ad6b9adbac73bd9",
            "placeholder": "​",
            "style": "IPY_MODEL_94cbb51f775c4ec89087314c3b04ceee",
            "value": " 2/2 [00:07&lt;00:00,  3.58s/it]"
          }
        },
        "5ff072a5c07d49f193b7591925265682": {
          "model_module": "@jupyter-widgets/base",
          "model_name": "LayoutModel",
          "model_module_version": "1.2.0",
          "state": {
            "_model_module": "@jupyter-widgets/base",
            "_model_module_version": "1.2.0",
            "_model_name": "LayoutModel",
            "_view_count": null,
            "_view_module": "@jupyter-widgets/base",
            "_view_module_version": "1.2.0",
            "_view_name": "LayoutView",
            "align_content": null,
            "align_items": null,
            "align_self": null,
            "border": null,
            "bottom": null,
            "display": null,
            "flex": null,
            "flex_flow": null,
            "grid_area": null,
            "grid_auto_columns": null,
            "grid_auto_flow": null,
            "grid_auto_rows": null,
            "grid_column": null,
            "grid_gap": null,
            "grid_row": null,
            "grid_template_areas": null,
            "grid_template_columns": null,
            "grid_template_rows": null,
            "height": null,
            "justify_content": null,
            "justify_items": null,
            "left": null,
            "margin": null,
            "max_height": null,
            "max_width": null,
            "min_height": null,
            "min_width": null,
            "object_fit": null,
            "object_position": null,
            "order": null,
            "overflow": null,
            "overflow_x": null,
            "overflow_y": null,
            "padding": null,
            "right": null,
            "top": null,
            "visibility": null,
            "width": null
          }
        },
        "bb5031474051438f8b10cc9a95232143": {
          "model_module": "@jupyter-widgets/base",
          "model_name": "LayoutModel",
          "model_module_version": "1.2.0",
          "state": {
            "_model_module": "@jupyter-widgets/base",
            "_model_module_version": "1.2.0",
            "_model_name": "LayoutModel",
            "_view_count": null,
            "_view_module": "@jupyter-widgets/base",
            "_view_module_version": "1.2.0",
            "_view_name": "LayoutView",
            "align_content": null,
            "align_items": null,
            "align_self": null,
            "border": null,
            "bottom": null,
            "display": null,
            "flex": null,
            "flex_flow": null,
            "grid_area": null,
            "grid_auto_columns": null,
            "grid_auto_flow": null,
            "grid_auto_rows": null,
            "grid_column": null,
            "grid_gap": null,
            "grid_row": null,
            "grid_template_areas": null,
            "grid_template_columns": null,
            "grid_template_rows": null,
            "height": null,
            "justify_content": null,
            "justify_items": null,
            "left": null,
            "margin": null,
            "max_height": null,
            "max_width": null,
            "min_height": null,
            "min_width": null,
            "object_fit": null,
            "object_position": null,
            "order": null,
            "overflow": null,
            "overflow_x": null,
            "overflow_y": null,
            "padding": null,
            "right": null,
            "top": null,
            "visibility": null,
            "width": null
          }
        },
        "7d1a0cbc805647108e9e8ffd103b55a6": {
          "model_module": "@jupyter-widgets/controls",
          "model_name": "DescriptionStyleModel",
          "model_module_version": "1.5.0",
          "state": {
            "_model_module": "@jupyter-widgets/controls",
            "_model_module_version": "1.5.0",
            "_model_name": "DescriptionStyleModel",
            "_view_count": null,
            "_view_module": "@jupyter-widgets/base",
            "_view_module_version": "1.2.0",
            "_view_name": "StyleView",
            "description_width": ""
          }
        },
        "799815e93c8a4765a4da3599c3995fc6": {
          "model_module": "@jupyter-widgets/base",
          "model_name": "LayoutModel",
          "model_module_version": "1.2.0",
          "state": {
            "_model_module": "@jupyter-widgets/base",
            "_model_module_version": "1.2.0",
            "_model_name": "LayoutModel",
            "_view_count": null,
            "_view_module": "@jupyter-widgets/base",
            "_view_module_version": "1.2.0",
            "_view_name": "LayoutView",
            "align_content": null,
            "align_items": null,
            "align_self": null,
            "border": null,
            "bottom": null,
            "display": null,
            "flex": null,
            "flex_flow": null,
            "grid_area": null,
            "grid_auto_columns": null,
            "grid_auto_flow": null,
            "grid_auto_rows": null,
            "grid_column": null,
            "grid_gap": null,
            "grid_row": null,
            "grid_template_areas": null,
            "grid_template_columns": null,
            "grid_template_rows": null,
            "height": null,
            "justify_content": null,
            "justify_items": null,
            "left": null,
            "margin": null,
            "max_height": null,
            "max_width": null,
            "min_height": null,
            "min_width": null,
            "object_fit": null,
            "object_position": null,
            "order": null,
            "overflow": null,
            "overflow_x": null,
            "overflow_y": null,
            "padding": null,
            "right": null,
            "top": null,
            "visibility": null,
            "width": null
          }
        },
        "a315998bc83c48eda7eb1f924eb52366": {
          "model_module": "@jupyter-widgets/controls",
          "model_name": "ProgressStyleModel",
          "model_module_version": "1.5.0",
          "state": {
            "_model_module": "@jupyter-widgets/controls",
            "_model_module_version": "1.5.0",
            "_model_name": "ProgressStyleModel",
            "_view_count": null,
            "_view_module": "@jupyter-widgets/base",
            "_view_module_version": "1.2.0",
            "_view_name": "StyleView",
            "bar_color": null,
            "description_width": ""
          }
        },
        "917699353f164ff18ad6b9adbac73bd9": {
          "model_module": "@jupyter-widgets/base",
          "model_name": "LayoutModel",
          "model_module_version": "1.2.0",
          "state": {
            "_model_module": "@jupyter-widgets/base",
            "_model_module_version": "1.2.0",
            "_model_name": "LayoutModel",
            "_view_count": null,
            "_view_module": "@jupyter-widgets/base",
            "_view_module_version": "1.2.0",
            "_view_name": "LayoutView",
            "align_content": null,
            "align_items": null,
            "align_self": null,
            "border": null,
            "bottom": null,
            "display": null,
            "flex": null,
            "flex_flow": null,
            "grid_area": null,
            "grid_auto_columns": null,
            "grid_auto_flow": null,
            "grid_auto_rows": null,
            "grid_column": null,
            "grid_gap": null,
            "grid_row": null,
            "grid_template_areas": null,
            "grid_template_columns": null,
            "grid_template_rows": null,
            "height": null,
            "justify_content": null,
            "justify_items": null,
            "left": null,
            "margin": null,
            "max_height": null,
            "max_width": null,
            "min_height": null,
            "min_width": null,
            "object_fit": null,
            "object_position": null,
            "order": null,
            "overflow": null,
            "overflow_x": null,
            "overflow_y": null,
            "padding": null,
            "right": null,
            "top": null,
            "visibility": null,
            "width": null
          }
        },
        "94cbb51f775c4ec89087314c3b04ceee": {
          "model_module": "@jupyter-widgets/controls",
          "model_name": "DescriptionStyleModel",
          "model_module_version": "1.5.0",
          "state": {
            "_model_module": "@jupyter-widgets/controls",
            "_model_module_version": "1.5.0",
            "_model_name": "DescriptionStyleModel",
            "_view_count": null,
            "_view_module": "@jupyter-widgets/base",
            "_view_module_version": "1.2.0",
            "_view_name": "StyleView",
            "description_width": ""
          }
        },
        "9c407d23bc204a20874fade2bf175a5d": {
          "model_module": "@jupyter-widgets/controls",
          "model_name": "HBoxModel",
          "model_module_version": "1.5.0",
          "state": {
            "_dom_classes": [],
            "_model_module": "@jupyter-widgets/controls",
            "_model_module_version": "1.5.0",
            "_model_name": "HBoxModel",
            "_view_count": null,
            "_view_module": "@jupyter-widgets/controls",
            "_view_module_version": "1.5.0",
            "_view_name": "HBoxView",
            "box_style": "",
            "children": [
              "IPY_MODEL_ab7c564ad94d4f3b89ebe5549249c012",
              "IPY_MODEL_5334e8e4947c458d87a15ab6a5d48567",
              "IPY_MODEL_03108e9af182471584a6ec67ad1943c8"
            ],
            "layout": "IPY_MODEL_16042cd752844bb6baf81f2fbc762a88"
          }
        },
        "ab7c564ad94d4f3b89ebe5549249c012": {
          "model_module": "@jupyter-widgets/controls",
          "model_name": "HTMLModel",
          "model_module_version": "1.5.0",
          "state": {
            "_dom_classes": [],
            "_model_module": "@jupyter-widgets/controls",
            "_model_module_version": "1.5.0",
            "_model_name": "HTMLModel",
            "_view_count": null,
            "_view_module": "@jupyter-widgets/controls",
            "_view_module_version": "1.5.0",
            "_view_name": "HTMLView",
            "description": "",
            "description_tooltip": null,
            "layout": "IPY_MODEL_4a83e929f6a441b28245cd29151d45db",
            "placeholder": "​",
            "style": "IPY_MODEL_dd1cec9db5f641558dbdb82afca5aab4",
            "value": "adapter_config.json: 100%"
          }
        },
        "5334e8e4947c458d87a15ab6a5d48567": {
          "model_module": "@jupyter-widgets/controls",
          "model_name": "FloatProgressModel",
          "model_module_version": "1.5.0",
          "state": {
            "_dom_classes": [],
            "_model_module": "@jupyter-widgets/controls",
            "_model_module_version": "1.5.0",
            "_model_name": "FloatProgressModel",
            "_view_count": null,
            "_view_module": "@jupyter-widgets/controls",
            "_view_module_version": "1.5.0",
            "_view_name": "ProgressView",
            "bar_style": "success",
            "description": "",
            "description_tooltip": null,
            "layout": "IPY_MODEL_3d82d7ae8d7a4dc6adb39d6c986a0782",
            "max": 603,
            "min": 0,
            "orientation": "horizontal",
            "style": "IPY_MODEL_bc65459e40014f0697d2ad3aa07a36e5",
            "value": 603
          }
        },
        "03108e9af182471584a6ec67ad1943c8": {
          "model_module": "@jupyter-widgets/controls",
          "model_name": "HTMLModel",
          "model_module_version": "1.5.0",
          "state": {
            "_dom_classes": [],
            "_model_module": "@jupyter-widgets/controls",
            "_model_module_version": "1.5.0",
            "_model_name": "HTMLModel",
            "_view_count": null,
            "_view_module": "@jupyter-widgets/controls",
            "_view_module_version": "1.5.0",
            "_view_name": "HTMLView",
            "description": "",
            "description_tooltip": null,
            "layout": "IPY_MODEL_2cd6673393424b5a95a3e13e30ee952c",
            "placeholder": "​",
            "style": "IPY_MODEL_c1ef448d449d4ab5a1328fe2d176a705",
            "value": " 603/603 [00:00&lt;00:00, 52.1kB/s]"
          }
        },
        "16042cd752844bb6baf81f2fbc762a88": {
          "model_module": "@jupyter-widgets/base",
          "model_name": "LayoutModel",
          "model_module_version": "1.2.0",
          "state": {
            "_model_module": "@jupyter-widgets/base",
            "_model_module_version": "1.2.0",
            "_model_name": "LayoutModel",
            "_view_count": null,
            "_view_module": "@jupyter-widgets/base",
            "_view_module_version": "1.2.0",
            "_view_name": "LayoutView",
            "align_content": null,
            "align_items": null,
            "align_self": null,
            "border": null,
            "bottom": null,
            "display": null,
            "flex": null,
            "flex_flow": null,
            "grid_area": null,
            "grid_auto_columns": null,
            "grid_auto_flow": null,
            "grid_auto_rows": null,
            "grid_column": null,
            "grid_gap": null,
            "grid_row": null,
            "grid_template_areas": null,
            "grid_template_columns": null,
            "grid_template_rows": null,
            "height": null,
            "justify_content": null,
            "justify_items": null,
            "left": null,
            "margin": null,
            "max_height": null,
            "max_width": null,
            "min_height": null,
            "min_width": null,
            "object_fit": null,
            "object_position": null,
            "order": null,
            "overflow": null,
            "overflow_x": null,
            "overflow_y": null,
            "padding": null,
            "right": null,
            "top": null,
            "visibility": null,
            "width": null
          }
        },
        "4a83e929f6a441b28245cd29151d45db": {
          "model_module": "@jupyter-widgets/base",
          "model_name": "LayoutModel",
          "model_module_version": "1.2.0",
          "state": {
            "_model_module": "@jupyter-widgets/base",
            "_model_module_version": "1.2.0",
            "_model_name": "LayoutModel",
            "_view_count": null,
            "_view_module": "@jupyter-widgets/base",
            "_view_module_version": "1.2.0",
            "_view_name": "LayoutView",
            "align_content": null,
            "align_items": null,
            "align_self": null,
            "border": null,
            "bottom": null,
            "display": null,
            "flex": null,
            "flex_flow": null,
            "grid_area": null,
            "grid_auto_columns": null,
            "grid_auto_flow": null,
            "grid_auto_rows": null,
            "grid_column": null,
            "grid_gap": null,
            "grid_row": null,
            "grid_template_areas": null,
            "grid_template_columns": null,
            "grid_template_rows": null,
            "height": null,
            "justify_content": null,
            "justify_items": null,
            "left": null,
            "margin": null,
            "max_height": null,
            "max_width": null,
            "min_height": null,
            "min_width": null,
            "object_fit": null,
            "object_position": null,
            "order": null,
            "overflow": null,
            "overflow_x": null,
            "overflow_y": null,
            "padding": null,
            "right": null,
            "top": null,
            "visibility": null,
            "width": null
          }
        },
        "dd1cec9db5f641558dbdb82afca5aab4": {
          "model_module": "@jupyter-widgets/controls",
          "model_name": "DescriptionStyleModel",
          "model_module_version": "1.5.0",
          "state": {
            "_model_module": "@jupyter-widgets/controls",
            "_model_module_version": "1.5.0",
            "_model_name": "DescriptionStyleModel",
            "_view_count": null,
            "_view_module": "@jupyter-widgets/base",
            "_view_module_version": "1.2.0",
            "_view_name": "StyleView",
            "description_width": ""
          }
        },
        "3d82d7ae8d7a4dc6adb39d6c986a0782": {
          "model_module": "@jupyter-widgets/base",
          "model_name": "LayoutModel",
          "model_module_version": "1.2.0",
          "state": {
            "_model_module": "@jupyter-widgets/base",
            "_model_module_version": "1.2.0",
            "_model_name": "LayoutModel",
            "_view_count": null,
            "_view_module": "@jupyter-widgets/base",
            "_view_module_version": "1.2.0",
            "_view_name": "LayoutView",
            "align_content": null,
            "align_items": null,
            "align_self": null,
            "border": null,
            "bottom": null,
            "display": null,
            "flex": null,
            "flex_flow": null,
            "grid_area": null,
            "grid_auto_columns": null,
            "grid_auto_flow": null,
            "grid_auto_rows": null,
            "grid_column": null,
            "grid_gap": null,
            "grid_row": null,
            "grid_template_areas": null,
            "grid_template_columns": null,
            "grid_template_rows": null,
            "height": null,
            "justify_content": null,
            "justify_items": null,
            "left": null,
            "margin": null,
            "max_height": null,
            "max_width": null,
            "min_height": null,
            "min_width": null,
            "object_fit": null,
            "object_position": null,
            "order": null,
            "overflow": null,
            "overflow_x": null,
            "overflow_y": null,
            "padding": null,
            "right": null,
            "top": null,
            "visibility": null,
            "width": null
          }
        },
        "bc65459e40014f0697d2ad3aa07a36e5": {
          "model_module": "@jupyter-widgets/controls",
          "model_name": "ProgressStyleModel",
          "model_module_version": "1.5.0",
          "state": {
            "_model_module": "@jupyter-widgets/controls",
            "_model_module_version": "1.5.0",
            "_model_name": "ProgressStyleModel",
            "_view_count": null,
            "_view_module": "@jupyter-widgets/base",
            "_view_module_version": "1.2.0",
            "_view_name": "StyleView",
            "bar_color": null,
            "description_width": ""
          }
        },
        "2cd6673393424b5a95a3e13e30ee952c": {
          "model_module": "@jupyter-widgets/base",
          "model_name": "LayoutModel",
          "model_module_version": "1.2.0",
          "state": {
            "_model_module": "@jupyter-widgets/base",
            "_model_module_version": "1.2.0",
            "_model_name": "LayoutModel",
            "_view_count": null,
            "_view_module": "@jupyter-widgets/base",
            "_view_module_version": "1.2.0",
            "_view_name": "LayoutView",
            "align_content": null,
            "align_items": null,
            "align_self": null,
            "border": null,
            "bottom": null,
            "display": null,
            "flex": null,
            "flex_flow": null,
            "grid_area": null,
            "grid_auto_columns": null,
            "grid_auto_flow": null,
            "grid_auto_rows": null,
            "grid_column": null,
            "grid_gap": null,
            "grid_row": null,
            "grid_template_areas": null,
            "grid_template_columns": null,
            "grid_template_rows": null,
            "height": null,
            "justify_content": null,
            "justify_items": null,
            "left": null,
            "margin": null,
            "max_height": null,
            "max_width": null,
            "min_height": null,
            "min_width": null,
            "object_fit": null,
            "object_position": null,
            "order": null,
            "overflow": null,
            "overflow_x": null,
            "overflow_y": null,
            "padding": null,
            "right": null,
            "top": null,
            "visibility": null,
            "width": null
          }
        },
        "c1ef448d449d4ab5a1328fe2d176a705": {
          "model_module": "@jupyter-widgets/controls",
          "model_name": "DescriptionStyleModel",
          "model_module_version": "1.5.0",
          "state": {
            "_model_module": "@jupyter-widgets/controls",
            "_model_module_version": "1.5.0",
            "_model_name": "DescriptionStyleModel",
            "_view_count": null,
            "_view_module": "@jupyter-widgets/base",
            "_view_module_version": "1.2.0",
            "_view_name": "StyleView",
            "description_width": ""
          }
        },
        "249b55b7f424459e9c2e5c80f6fccd60": {
          "model_module": "@jupyter-widgets/controls",
          "model_name": "HBoxModel",
          "model_module_version": "1.5.0",
          "state": {
            "_dom_classes": [],
            "_model_module": "@jupyter-widgets/controls",
            "_model_module_version": "1.5.0",
            "_model_name": "HBoxModel",
            "_view_count": null,
            "_view_module": "@jupyter-widgets/controls",
            "_view_module_version": "1.5.0",
            "_view_name": "HBoxView",
            "box_style": "",
            "children": [
              "IPY_MODEL_deafd490ff2a467d804c8a83e870d73c",
              "IPY_MODEL_d5515c9cdb8b4ed5acc71b488f468158",
              "IPY_MODEL_21c3525042a94c89b2dcfc972446db0f"
            ],
            "layout": "IPY_MODEL_54120e07b96e4dd1ab990fd336960e72"
          }
        },
        "deafd490ff2a467d804c8a83e870d73c": {
          "model_module": "@jupyter-widgets/controls",
          "model_name": "HTMLModel",
          "model_module_version": "1.5.0",
          "state": {
            "_dom_classes": [],
            "_model_module": "@jupyter-widgets/controls",
            "_model_module_version": "1.5.0",
            "_model_name": "HTMLModel",
            "_view_count": null,
            "_view_module": "@jupyter-widgets/controls",
            "_view_module_version": "1.5.0",
            "_view_name": "HTMLView",
            "description": "",
            "description_tooltip": null,
            "layout": "IPY_MODEL_cfc7a577abbd49a68fef704ba395b9c6",
            "placeholder": "​",
            "style": "IPY_MODEL_df8d3ebe74a54b958b7e5437448b3415",
            "value": "adapter_model.safetensors: 100%"
          }
        },
        "d5515c9cdb8b4ed5acc71b488f468158": {
          "model_module": "@jupyter-widgets/controls",
          "model_name": "FloatProgressModel",
          "model_module_version": "1.5.0",
          "state": {
            "_dom_classes": [],
            "_model_module": "@jupyter-widgets/controls",
            "_model_module_version": "1.5.0",
            "_model_name": "FloatProgressModel",
            "_view_count": null,
            "_view_module": "@jupyter-widgets/controls",
            "_view_module_version": "1.5.0",
            "_view_name": "ProgressView",
            "bar_style": "success",
            "description": "",
            "description_tooltip": null,
            "layout": "IPY_MODEL_8c857dd0cdc64dd7aaa7c920fbddf38c",
            "max": 792790392,
            "min": 0,
            "orientation": "horizontal",
            "style": "IPY_MODEL_745d4abe7d4641f6a1e4e90ad52ae360",
            "value": 792790392
          }
        },
        "21c3525042a94c89b2dcfc972446db0f": {
          "model_module": "@jupyter-widgets/controls",
          "model_name": "HTMLModel",
          "model_module_version": "1.5.0",
          "state": {
            "_dom_classes": [],
            "_model_module": "@jupyter-widgets/controls",
            "_model_module_version": "1.5.0",
            "_model_name": "HTMLModel",
            "_view_count": null,
            "_view_module": "@jupyter-widgets/controls",
            "_view_module_version": "1.5.0",
            "_view_name": "HTMLView",
            "description": "",
            "description_tooltip": null,
            "layout": "IPY_MODEL_d15fcded09ea4fbda9d09c98d334f877",
            "placeholder": "​",
            "style": "IPY_MODEL_20342090ec584a3ab4f694ba881cc232",
            "value": " 793M/793M [00:32&lt;00:00, 25.4MB/s]"
          }
        },
        "54120e07b96e4dd1ab990fd336960e72": {
          "model_module": "@jupyter-widgets/base",
          "model_name": "LayoutModel",
          "model_module_version": "1.2.0",
          "state": {
            "_model_module": "@jupyter-widgets/base",
            "_model_module_version": "1.2.0",
            "_model_name": "LayoutModel",
            "_view_count": null,
            "_view_module": "@jupyter-widgets/base",
            "_view_module_version": "1.2.0",
            "_view_name": "LayoutView",
            "align_content": null,
            "align_items": null,
            "align_self": null,
            "border": null,
            "bottom": null,
            "display": null,
            "flex": null,
            "flex_flow": null,
            "grid_area": null,
            "grid_auto_columns": null,
            "grid_auto_flow": null,
            "grid_auto_rows": null,
            "grid_column": null,
            "grid_gap": null,
            "grid_row": null,
            "grid_template_areas": null,
            "grid_template_columns": null,
            "grid_template_rows": null,
            "height": null,
            "justify_content": null,
            "justify_items": null,
            "left": null,
            "margin": null,
            "max_height": null,
            "max_width": null,
            "min_height": null,
            "min_width": null,
            "object_fit": null,
            "object_position": null,
            "order": null,
            "overflow": null,
            "overflow_x": null,
            "overflow_y": null,
            "padding": null,
            "right": null,
            "top": null,
            "visibility": null,
            "width": null
          }
        },
        "cfc7a577abbd49a68fef704ba395b9c6": {
          "model_module": "@jupyter-widgets/base",
          "model_name": "LayoutModel",
          "model_module_version": "1.2.0",
          "state": {
            "_model_module": "@jupyter-widgets/base",
            "_model_module_version": "1.2.0",
            "_model_name": "LayoutModel",
            "_view_count": null,
            "_view_module": "@jupyter-widgets/base",
            "_view_module_version": "1.2.0",
            "_view_name": "LayoutView",
            "align_content": null,
            "align_items": null,
            "align_self": null,
            "border": null,
            "bottom": null,
            "display": null,
            "flex": null,
            "flex_flow": null,
            "grid_area": null,
            "grid_auto_columns": null,
            "grid_auto_flow": null,
            "grid_auto_rows": null,
            "grid_column": null,
            "grid_gap": null,
            "grid_row": null,
            "grid_template_areas": null,
            "grid_template_columns": null,
            "grid_template_rows": null,
            "height": null,
            "justify_content": null,
            "justify_items": null,
            "left": null,
            "margin": null,
            "max_height": null,
            "max_width": null,
            "min_height": null,
            "min_width": null,
            "object_fit": null,
            "object_position": null,
            "order": null,
            "overflow": null,
            "overflow_x": null,
            "overflow_y": null,
            "padding": null,
            "right": null,
            "top": null,
            "visibility": null,
            "width": null
          }
        },
        "df8d3ebe74a54b958b7e5437448b3415": {
          "model_module": "@jupyter-widgets/controls",
          "model_name": "DescriptionStyleModel",
          "model_module_version": "1.5.0",
          "state": {
            "_model_module": "@jupyter-widgets/controls",
            "_model_module_version": "1.5.0",
            "_model_name": "DescriptionStyleModel",
            "_view_count": null,
            "_view_module": "@jupyter-widgets/base",
            "_view_module_version": "1.2.0",
            "_view_name": "StyleView",
            "description_width": ""
          }
        },
        "8c857dd0cdc64dd7aaa7c920fbddf38c": {
          "model_module": "@jupyter-widgets/base",
          "model_name": "LayoutModel",
          "model_module_version": "1.2.0",
          "state": {
            "_model_module": "@jupyter-widgets/base",
            "_model_module_version": "1.2.0",
            "_model_name": "LayoutModel",
            "_view_count": null,
            "_view_module": "@jupyter-widgets/base",
            "_view_module_version": "1.2.0",
            "_view_name": "LayoutView",
            "align_content": null,
            "align_items": null,
            "align_self": null,
            "border": null,
            "bottom": null,
            "display": null,
            "flex": null,
            "flex_flow": null,
            "grid_area": null,
            "grid_auto_columns": null,
            "grid_auto_flow": null,
            "grid_auto_rows": null,
            "grid_column": null,
            "grid_gap": null,
            "grid_row": null,
            "grid_template_areas": null,
            "grid_template_columns": null,
            "grid_template_rows": null,
            "height": null,
            "justify_content": null,
            "justify_items": null,
            "left": null,
            "margin": null,
            "max_height": null,
            "max_width": null,
            "min_height": null,
            "min_width": null,
            "object_fit": null,
            "object_position": null,
            "order": null,
            "overflow": null,
            "overflow_x": null,
            "overflow_y": null,
            "padding": null,
            "right": null,
            "top": null,
            "visibility": null,
            "width": null
          }
        },
        "745d4abe7d4641f6a1e4e90ad52ae360": {
          "model_module": "@jupyter-widgets/controls",
          "model_name": "ProgressStyleModel",
          "model_module_version": "1.5.0",
          "state": {
            "_model_module": "@jupyter-widgets/controls",
            "_model_module_version": "1.5.0",
            "_model_name": "ProgressStyleModel",
            "_view_count": null,
            "_view_module": "@jupyter-widgets/base",
            "_view_module_version": "1.2.0",
            "_view_name": "StyleView",
            "bar_color": null,
            "description_width": ""
          }
        },
        "d15fcded09ea4fbda9d09c98d334f877": {
          "model_module": "@jupyter-widgets/base",
          "model_name": "LayoutModel",
          "model_module_version": "1.2.0",
          "state": {
            "_model_module": "@jupyter-widgets/base",
            "_model_module_version": "1.2.0",
            "_model_name": "LayoutModel",
            "_view_count": null,
            "_view_module": "@jupyter-widgets/base",
            "_view_module_version": "1.2.0",
            "_view_name": "LayoutView",
            "align_content": null,
            "align_items": null,
            "align_self": null,
            "border": null,
            "bottom": null,
            "display": null,
            "flex": null,
            "flex_flow": null,
            "grid_area": null,
            "grid_auto_columns": null,
            "grid_auto_flow": null,
            "grid_auto_rows": null,
            "grid_column": null,
            "grid_gap": null,
            "grid_row": null,
            "grid_template_areas": null,
            "grid_template_columns": null,
            "grid_template_rows": null,
            "height": null,
            "justify_content": null,
            "justify_items": null,
            "left": null,
            "margin": null,
            "max_height": null,
            "max_width": null,
            "min_height": null,
            "min_width": null,
            "object_fit": null,
            "object_position": null,
            "order": null,
            "overflow": null,
            "overflow_x": null,
            "overflow_y": null,
            "padding": null,
            "right": null,
            "top": null,
            "visibility": null,
            "width": null
          }
        },
        "20342090ec584a3ab4f694ba881cc232": {
          "model_module": "@jupyter-widgets/controls",
          "model_name": "DescriptionStyleModel",
          "model_module_version": "1.5.0",
          "state": {
            "_model_module": "@jupyter-widgets/controls",
            "_model_module_version": "1.5.0",
            "_model_name": "DescriptionStyleModel",
            "_view_count": null,
            "_view_module": "@jupyter-widgets/base",
            "_view_module_version": "1.2.0",
            "_view_name": "StyleView",
            "description_width": ""
          }
        }
      }
    }
  },
  "nbformat": 4,
  "nbformat_minor": 0
}