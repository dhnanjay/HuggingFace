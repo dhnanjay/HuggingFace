{
  "cells": [
    {
      "cell_type": "markdown",
      "metadata": {
        "id": "view-in-github",
        "colab_type": "text"
      },
      "source": [
        "<a href=\"https://colab.research.google.com/github/dhnanjay/HuggingFace/blob/main/2023_06_10_runpod_tgi_falcon_40b_instruct_langchain.ipynb\" target=\"_parent\"><img src=\"https://colab.research.google.com/assets/colab-badge.svg\" alt=\"Open In Colab\"/></a>"
      ]
    },
    {
      "cell_type": "markdown",
      "metadata": {
        "id": "dCB4izshhTMS"
      },
      "source": [
        "MIT License\n",
        "\n",
        "Copyright (c) 2023 Pavel Shibanov [https://blog.experienced.dev/](https://blog.experienced.dev/langchain-falcon-40b-instruct-on-runpod-with-text-generation-inference/?utm_source=colab&utm_medium=notebook&utm_content=falcon-40b-instruct)\n",
        "\n",
        "Permission is hereby granted, free of charge, to any person obtaining a copy\n",
        "of this software and associated documentation files (the \"Software\"), to deal\n",
        "in the Software without restriction, including without limitation the rights\n",
        "to use, copy, modify, merge, publish, distribute, sublicense, and/or sell\n",
        "copies of the Software, and to permit persons to whom the Software is\n",
        "furnished to do so, subject to the following conditions:\n",
        "\n",
        "The above copyright notice and this permission notice shall be included in all\n",
        "copies or substantial portions of the Software.\n",
        "\n",
        "THE SOFTWARE IS PROVIDED \"AS IS\", WITHOUT WARRANTY OF ANY KIND, EXPRESS OR\n",
        "IMPLIED, INCLUDING BUT NOT LIMITED TO THE WARRANTIES OF MERCHANTABILITY,\n",
        "FITNESS FOR A PARTICULAR PURPOSE AND NONINFRINGEMENT. IN NO EVENT SHALL THE\n",
        "AUTHORS OR COPYRIGHT HOLDERS BE LIABLE FOR ANY CLAIM, DAMAGES OR OTHER\n",
        "LIABILITY, WHETHER IN AN ACTION OF CONTRACT, TORT OR OTHERWISE, ARISING FROM,\n",
        "OUT OF OR IN CONNECTION WITH THE SOFTWARE OR THE USE OR OTHER DEALINGS IN THE\n",
        "SOFTWARE."
      ]
    },
    {
      "cell_type": "code",
      "source": [
        "from IPython.display import YouTubeVideo\n",
        "\n",
        "YouTubeVideo(\"FhY8rx_X97k\", width=\"560\", height=\"315\")"
      ],
      "metadata": {
        "id": "hLtdAtkLowUM",
        "outputId": "0dd1e774-047d-4229-8003-6f1f4b6168f1",
        "colab": {
          "base_uri": "https://localhost:8080/",
          "height": 336
        }
      },
      "execution_count": null,
      "outputs": [
        {
          "output_type": "execute_result",
          "data": {
            "text/plain": [
              "<IPython.lib.display.YouTubeVideo at 0x7f273c21ea10>"
            ],
            "text/html": [
              "\n",
              "        <iframe\n",
              "            width=\"560\"\n",
              "            height=\"315\"\n",
              "            src=\"https://www.youtube.com/embed/FhY8rx_X97k\"\n",
              "            frameborder=\"0\"\n",
              "            allowfullscreen\n",
              "            \n",
              "        ></iframe>\n",
              "        "
            ],
            "image/jpeg": "[encoded data removed]"
          },
          "metadata": {},
          "execution_count": 1
        }
      ]
    },
    {
      "cell_type": "code",
      "execution_count": null,
      "metadata": {
        "id": "aQwgG88EhTMa"
      },
      "outputs": [],
      "source": [
        "%pip install langchain text-generation transformers runpod python-dotenv"
      ]
    },
    {
      "cell_type": "code",
      "execution_count": null,
      "metadata": {
        "id": "wHC1Csi_hTMd"
      },
      "outputs": [],
      "source": [
        "from dotenv import load_dotenv, find_dotenv\n",
        "\n",
        "_ = load_dotenv(find_dotenv())"
      ]
    },
    {
      "cell_type": "code",
      "execution_count": null,
      "metadata": {
        "id": "WQGcSXt9hTMe"
      },
      "outputs": [],
      "source": [
        "import runpod\n",
        "import os\n",
        "from IPython.display import display, Markdown\n",
        "\n",
        "runpod.api_key = os.getenv(\"RUNPOD_API_KEY\", \"your_runpod_api_key\")\n",
        "\n",
        "if runpod.api_key == \"your_runpod_api_key\":\n",
        "    display(\n",
        "        Markdown(\n",
        "            \"It appears that you don't have a RunPod API key. You can obtain one at [runpod.io](https://runpod.io?ref=s7508tca)\"\n",
        "        )\n",
        "    )\n",
        "    raise AssertionError(\"Missing RunPod API key\")"
      ]
    },
    {
      "cell_type": "code",
      "execution_count": null,
      "metadata": {
        "id": "Tuw50PSjhTMf"
      },
      "outputs": [],
      "source": [
        "gpu_count = 2\n",
        "\n",
        "pod = runpod.create_pod(\n",
        "    name=\"Falcon-40B-Instruct\",\n",
        "    image_name=\"ghcr.io/huggingface/text-generation-inference:0.8\",\n",
        "    gpu_type_id=\"NVIDIA A100 80GB PCIe\",\n",
        "    cloud_type=\"COMMUNITY\",\n",
        "    docker_args=f\"--model-id tiiuae/falcon-40b-instruct --num-shard {gpu_count}\",\n",
        "    gpu_count=gpu_count,\n",
        "    volume_in_gb=195,\n",
        "    container_disk_in_gb=5,\n",
        "    ports=\"80/http\",\n",
        "    volume_mount_path=\"/data\",\n",
        ")"
      ]
    },
    {
      "cell_type": "code",
      "execution_count": null,
      "metadata": {
        "id": "dv7RBgoShTMg"
      },
      "outputs": [],
      "source": [
        "from langchain.llms import HuggingFaceTextGenInference\n",
        "\n",
        "inference_server_url = f'https://{pod[\"id\"]}-80.proxy.runpod.net'\n",
        "llm = HuggingFaceTextGenInference(\n",
        "    inference_server_url=inference_server_url,\n",
        "    max_new_tokens=1000,\n",
        "    top_k=10,\n",
        "    top_p=0.95,\n",
        "    typical_p=0.95,\n",
        "    temperature=0.1,\n",
        "    repetition_penalty=1.03,\n",
        ")"
      ]
    },
    {
      "cell_type": "code",
      "execution_count": null,
      "metadata": {
        "id": "lyVYLW2thTMg"
      },
      "outputs": [],
      "source": [
        "from IPython.display import display, Markdown\n",
        "from langchain import PromptTemplate\n",
        "from langchain.chains import LLMChain\n",
        "\n",
        "prompt = PromptTemplate(\n",
        "    input_variables=[\"num_trees\", \"num_apples\"],\n",
        "    template=\"A farmer has {num_trees} apple trees. Each apple tree has {num_apples} apples. How many apples does the farmer have in total?\",\n",
        ")\n",
        "\n",
        "chain = LLMChain(llm=llm, prompt=prompt)"
      ]
    },
    {
      "cell_type": "code",
      "execution_count": null,
      "metadata": {
        "id": "DJZbvp1-hTMh"
      },
      "outputs": [],
      "source": [
        "display(Markdown(chain.run({\"num_trees\": 100, \"num_apples\": 10})))"
      ]
    },
    {
      "cell_type": "code",
      "execution_count": null,
      "metadata": {
        "id": "wmSLJzRvhTMi"
      },
      "outputs": [],
      "source": [
        "display(Markdown(chain.run({\"num_trees\": 6, \"num_apples\": 8})))"
      ]
    },
    {
      "cell_type": "code",
      "execution_count": null,
      "metadata": {
        "id": "55r26pnUhTMj"
      },
      "outputs": [],
      "source": [
        "runpod.stop_pod(pod[\"id\"])"
      ]
    },
    {
      "cell_type": "code",
      "execution_count": null,
      "metadata": {
        "id": "Mp7gTanKhTMk"
      },
      "outputs": [],
      "source": [
        "runpod.resume_pod(pod[\"id\"], gpu_count=gpu_count)"
      ]
    },
    {
      "cell_type": "code",
      "execution_count": null,
      "metadata": {
        "id": "A8HQmSUphTMk"
      },
      "outputs": [],
      "source": [
        "prompts = [\n",
        "    \"Imagine you are a tree experiencing its first winter. Describe your sensations.\",\n",
        "    \"If you could give advice to a snowflake about to fall, what would it be?\",\n",
        "    \"What conversation would a pair of shoes have at the end of a long day?\",\n",
        "    \"Describe the first sunrise, as seen by the moon.\",\n",
        "    \"You've just discovered a new planet; what do you name it and why?\",\n",
        "    \"Write a letter from the perspective of an old, forgotten book in a dusty library.\",\n",
        "    \"Narrate a day in the life of a cloud above a bustling city.\",\n",
        "    \"How would a Martian describe the earth after its first visit?\",\n",
        "    \"What would you say to convince a star to wish upon a human?\",\n",
        "    \"You found a door in your house that wasn't there before. Where does it lead?\",\n",
        "    \"Tell the story of a sunset from the viewpoint of a sailor at sea.\",\n",
        "    \"Imagine you're a whisper traveling across a quiet room. What's your journey like?\",\n",
        "    \"Describe the most adventurous day of a coffee bean, from the tree to the cup.\",\n",
        "    \"What secret does the oldest animal in the zoo hold?\",\n",
        "    \"How would you describe a rainbow to a blind alien?\",\n",
        "    \"What conversation would a lighthouse have with the sea during a storm?\",\n",
        "    \"What happens when a shooting star gets lost?\",\n",
        "    \"Write about a day in the life of the person whose job it is to paint the colors of the autumn leaves.\",\n",
        "    \"What do the northern lights gossip about?\",\n",
        "    \"How would a single note from a forgotten song feel?\",\n",
        "    \"Imagine the story a forgotten toy has to tell.\",\n",
        "    \"What would an old, wise mountain tell a young, eager volcano?\",\n",
        "    \"What advice does the last leaf of autumn give to the first snowflake of winter?\",\n",
        "    \"What secret does a mirror hide from its own reflection?\",\n",
        "    \"Describe the journey of a message in a bottle tossed into the sea 100 years ago.\",\n",
        "    \"What happens when the moon falls in love with a comet?\",\n",
        "    \"Imagine a heated debate between two contrasting colors.\",\n",
        "    \"Describe a game of chess from the perspective of the pawns.\",\n",
        "    \"How does a forgotten word feel when it is finally spoken again?\",\n",
        "    \"What does a raindrop feel when it hits the sea?\",\n",
        "    \"How would the first raindrop to touch the earth describe its experience?\",\n",
        "    \"What is the life story of a piece of popcorn?\",\n",
        "    \"If flowers could talk, what secrets would they reveal?\",\n",
        "    \"What happens when an echo gets lost?\",\n",
        "    \"How does a book feel when it is opened for the first time?\",\n",
        "    \"What happens in a world where people can see music?\",\n",
        "    \"Describe a city inhabited by shadows.\",\n",
        "    \"How does the ocean feel about the sand on the beach?\",\n",
        "    \"Tell the story of a grain of sand lost in the desert.\",\n",
        "    \"What would you do if you found a diary from the future?\",\n",
        "    \"Imagine you're a clock that can control time. What do you do?\",\n",
        "    \"What would you see if you looked through a window into a world where dreams are reality?\",\n",
        "    \"Tell the tale of the love between the North Wind and the South Wind.\",\n",
        "    \"What happens when a forgotten fairy tale comes back to life?\",\n",
        "    \"How would you describe the taste of happiness?\",\n",
        "    \"Describe the sensation of a thought being born.\",\n",
        "    \"If you could touch a memory, what would it feel like?\",\n",
        "    \"Write about the moment a firefly realizes it can shine.\",\n",
        "    \"How does a piece of music feel when it is played for the first time?\",\n",
        "    \"What adventure awaits a paper boat set on a river?\",\n",
        "]"
      ]
    },
    {
      "cell_type": "code",
      "execution_count": null,
      "metadata": {
        "id": "5pRQCi9ehTMl"
      },
      "outputs": [],
      "source": [
        "len(prompts)"
      ]
    },
    {
      "cell_type": "code",
      "execution_count": null,
      "metadata": {
        "id": "ZC4KQAkxhTMl"
      },
      "outputs": [],
      "source": [
        "from timeit import default_timer as timer\n",
        "\n",
        "start = timer()\n",
        "llm_result = llm.generate(prompts)\n",
        "end = timer()\n",
        "runpod.stop_pod(pod[\"id\"])\n",
        "dt = end - start\n",
        "dt"
      ]
    },
    {
      "cell_type": "code",
      "execution_count": null,
      "metadata": {
        "id": "BqQCWae_hTMl"
      },
      "outputs": [],
      "source": [
        "len(llm_result.generations)"
      ]
    },
    {
      "cell_type": "code",
      "execution_count": null,
      "metadata": {
        "id": "kPFigOpGhTMl"
      },
      "outputs": [],
      "source": [
        "total_tokens = sum([llm.get_num_tokens(g[0].text) for g in llm_result.generations])\n",
        "total_tokens"
      ]
    },
    {
      "cell_type": "code",
      "execution_count": null,
      "metadata": {
        "id": "c6LPxZXehTMm"
      },
      "outputs": [],
      "source": [
        "tokens_per_second = total_tokens / dt\n",
        "tokens_per_second"
      ]
    },
    {
      "cell_type": "code",
      "execution_count": null,
      "metadata": {
        "id": "6X3QbUGnhTMm"
      },
      "outputs": [],
      "source": [
        "from IPython.display import display, Markdown\n",
        "\n",
        "for prompt, generation in zip(prompts, llm_result.generations):\n",
        "    display(Markdown(f\"### {prompt} \\n {generation[0].text}\"))"
      ]
    },
    {
      "cell_type": "code",
      "execution_count": null,
      "metadata": {
        "id": "dzbh-WqDhTMm"
      },
      "outputs": [],
      "source": [
        "runpod.stop_pod(pod[\"id\"])\n",
        "runpod.terminate_pod(pod[\"id\"])"
      ]
    }
  ],
  "metadata": {
    "kernelspec": {
      "display_name": "Python 3 (ipykernel)",
      "language": "python",
      "name": "python3"
    },
    "language_info": {
      "codemirror_mode": {
        "name": "ipython",
        "version": 3
      },
      "file_extension": ".py",
      "mimetype": "text/x-python",
      "name": "python",
      "nbconvert_exporter": "python",
      "pygments_lexer": "ipython3",
      "version": "3.10.10"
    },
    "orig_nbformat": 4,
    "colab": {
      "provenance": [],
      "include_colab_link": true
    }
  },
  "nbformat": 4,
  "nbformat_minor": 0
}