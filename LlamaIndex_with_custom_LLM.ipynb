{
 "cells": [
  {
   "cell_type": "code",
   "execution_count": null,
   "id": "4e06db6f-a148-415f-8e53-859773342047",
   "metadata": {},
   "outputs": [],
   "source": [
    "#LLama Index with custom LLM"
   ]
  },
  {
   "cell_type": "code",
   "execution_count": null,
   "id": "19a9e00a-61da-4103-a43a-1908071cf691",
   "metadata": {},
   "outputs": [],
   "source": [
    "#https://github.com/jerryjliu/llama_index/issues/974"
   ]
  },
  {
   "cell_type": "code",
   "execution_count": null,
   "id": "1a274147-3d15-46fd-b589-7935d0db5a0b",
   "metadata": {},
   "outputs": [],
   "source": [
    "#https://gpt-index.readthedocs.io/en/latest/how_to/customization/custom_llms.html"
   ]
  },
  {
   "cell_type": "code",
   "execution_count": null,
   "id": "09e8d4c0-a202-4d1d-aaef-a1f3a6808ca2",
   "metadata": {},
   "outputs": [],
   "source": []
  },
  {
   "cell_type": "code",
   "execution_count": null,
   "id": "dab360ca-301e-4c49-8633-a9661fad9728",
   "metadata": {},
   "outputs": [],
   "source": []
  },
  {
   "cell_type": "code",
   "execution_count": null,
   "id": "be7108a3-2af6-44e2-955a-dfd879c44c16",
   "metadata": {},
   "outputs": [],
   "source": [
    "!ls"
   ]
  },
  {
   "cell_type": "code",
   "execution_count": null,
   "id": "61cde0ed-9c70-4b37-b263-924da49e9378",
   "metadata": {},
   "outputs": [],
   "source": [
    "import PyPDF2\n",
    "\n",
    "pdf_file = open('202209 EY FRD Revenue from Contracts w Customers.pdf', 'rb')\n",
    "pdf_reader = PyPDF2.PdfFileReader(pdf_file)\n",
    "total_pages = pdf_reader.getNumPages()\n",
    "\n",
    "print(total_pages)\n"
   ]
  },
  {
   "cell_type": "code",
   "execution_count": null,
   "id": "f979eb76-a01f-413b-8c20-e7854d15221b",
   "metadata": {},
   "outputs": [],
   "source": [
    "import PyPDF2\n",
    "\n",
    "# Open the PDF file in binary mode\n",
    "with open('202209 EY FRD Revenue from Contracts w Customers.pdf', 'rb') as pdf_file:\n",
    "    # Create a PDF reader object\n",
    "    pdf_reader = PyPDF2.PdfFileReader(pdf_file)\n",
    "\n",
    "    # Get the total number of pages in the PDF file\n",
    "    num_pages = pdf_reader.getNumPages()\n",
    "\n",
    "    # Loop through each page and extract the text\n",
    "    text = ''\n",
    "    for page in range(num_pages):\n",
    "        # Get the page object\n",
    "        pdf_page = pdf_reader.getPage(page)\n",
    "\n",
    "        # Extract the text from the page\n",
    "        page_text = pdf_page.extractText()\n",
    "\n",
    "        # Append the page text to the overall text\n",
    "        text += page_text\n",
    "\n",
    "# Save the text in a text file\n",
    "# with open('./data/example.txt', 'w') as txt_file:\n",
    "#     try:\n",
    "#         txt_file.write(text)\n",
    "#     except Exception as e:\n",
    "#         print(e)\n",
    "#         continue\n",
    "# with open('./data/example.txt', 'w') as txt_file:\n",
    "with open('./data/example.txt', 'w', encoding='utf-8') as f:\n",
    "    try:\n",
    "        f.write(text)\n",
    "    except Exception as e:\n",
    "        print(e)\n"
   ]
  },
  {
   "cell_type": "code",
   "execution_count": null,
   "id": "e5d97435-d925-48ba-9f91-40235892a406",
   "metadata": {},
   "outputs": [],
   "source": []
  },
  {
   "cell_type": "code",
   "execution_count": null,
   "id": "2ef6640f-0271-4778-93d0-4c18f77e1e08",
   "metadata": {},
   "outputs": [],
   "source": [
    "import torch\n",
    "from langchain.llms.base import LLM\n",
    "from llama_index import SimpleDirectoryReader, LangchainEmbedding, GPTListIndex, PromptHelper\n",
    "from llama_index import LLMPredictor, ServiceContext\n",
    "from transformers import pipeline\n",
    "from typing import Optional, List, Mapping, Any\n",
    "\n",
    "\n",
    "# define prompt helper\n",
    "# set maximum input size\n",
    "max_input_size = 2048\n",
    "# set number of output tokens\n",
    "num_output = 256\n",
    "# set maximum chunk overlap\n",
    "max_chunk_overlap = 20\n",
    "prompt_helper = PromptHelper(max_input_size, num_output, max_chunk_overlap)\n",
    "\n",
    "\n",
    "class CustomLLM(LLM):\n",
    "    model_name = \"facebook/opt-iml-max-1.3b\" #\"facebook/opt-iml-max-30b\"\n",
    "    pipeline = pipeline(\"text-generation\", model=model_name, device=\"cuda:0\", model_kwargs={\"torch_dtype\":torch.bfloat16})\n",
    "\n",
    "    def _call(self, prompt: str, stop: Optional[List[str]] = None) -> str:\n",
    "        prompt_length = len(prompt)\n",
    "        response = self.pipeline(prompt, max_new_tokens=num_output)[0][\"generated_text\"]\n",
    "\n",
    "        # only return newly generated tokens\n",
    "        return response[prompt_length:]\n",
    "\n",
    "    @property\n",
    "    def _identifying_params(self) -> Mapping[str, Any]:\n",
    "        return {\"name_of_model\": self.model_name}\n",
    "\n",
    "    @property\n",
    "    def _llm_type(self) -> str:\n",
    "        return \"custom\"\n",
    "\n",
    "# define our LLM\n",
    "llm_predictor = LLMPredictor(llm=CustomLLM())\n",
    "\n",
    "service_context = ServiceContext.from_defaults(llm_predictor=llm_predictor, prompt_helper=prompt_helper)\n",
    "\n",
    "\n"
   ]
  },
  {
   "cell_type": "code",
   "execution_count": null,
   "id": "fc2d0eea-1b6b-4c15-aa6b-ea52cc910ac1",
   "metadata": {},
   "outputs": [],
   "source": [
    "# Load the your data\n",
    "documents = SimpleDirectoryReader('./data').load_data()\n",
    "index = GPTListIndex.from_documents(documents, service_context=service_context)\n"
   ]
  },
  {
   "cell_type": "code",
   "execution_count": null,
   "id": "9da75e2b-00c1-4f8b-b8b8-6dff00a0df38",
   "metadata": {},
   "outputs": [],
   "source": [
    "%%time\n",
    "# Query and print response\n",
    "response = index.query(\"What is repurchase agreement?\")\n",
    "print(response)\n"
   ]
  },
  {
   "cell_type": "code",
   "execution_count": null,
   "id": "46cf7f70-ead7-4e78-9a3f-7ea0ce5f704e",
   "metadata": {},
   "outputs": [],
   "source": [
    "index\n"
   ]
  },
  {
   "cell_type": "code",
   "execution_count": null,
   "id": "739ebd44-0a1d-429d-b2c0-6f9f169b2a16",
   "metadata": {},
   "outputs": [],
   "source": []
  }
 ],
 "metadata": {
  "kernelspec": {
   "display_name": "",
   "name": ""
  },
  "language_info": {
   "name": ""
  }
 },
 "nbformat": 4,
 "nbformat_minor": 5
}
