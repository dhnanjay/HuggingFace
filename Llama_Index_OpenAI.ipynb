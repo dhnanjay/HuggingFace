{
 "cells": [
  {
   "cell_type": "code",
   "execution_count": null,
   "id": "259962c7-1506-4a2b-8ae9-bf224c2376b9",
   "metadata": {},
   "outputs": [
    {
     "name": "stderr",
     "output_type": "stream",
     "text": [
      "/home/ubuntu/.local/lib/python3.8/site-packages/pandas/core/computation/expressions.py:20: UserWarning: Pandas requires version '2.7.3' or newer of 'numexpr' (version '2.7.1' currently installed).\n",
      "  from pandas.core.computation.check import NUMEXPR_INSTALLED\n"
     ]
    }
   ],
   "source": [
    "import PyPDF2\n",
    "from llama_index import GPTTreeIndex, SimpleDirectoryReader\n",
    "from IPython.display import Markdown, display\n",
    "# My OpenAI Key\n",
    "import os\n",
    "os.environ['OPENAI_API_KEY'] = \"\""
   ]
  },
  {
   "cell_type": "code",
   "execution_count": null,
   "id": "7fe2a7e6-61b9-4d62-a1fd-7738a1c203ab",
   "metadata": {},
   "outputs": [],
   "source": [
    "#opening method will be rb\n",
    "pdffileobj=open('./data/2018-18 PwC-fasb-simplifies-adoption-leasing-standard.pdf','rb')\n",
    " \n",
    "#create reader variable that will read the pdffileobj\n",
    "pdfreader=PyPDF2.PdfReader(pdffileobj)\n",
    " \n",
    "for i in range(len(pdfreader.pages)):\n",
    "    print(i)\n",
    "    pageobj = pdfreader.pages[i]\n",
    "    text = pageobj.extract_text()\n",
    "    with open(r\"./data/pwc.txt\", \"a\") as file1:\n",
    "        file1.writelines(text)"
   ]
  },
  {
   "cell_type": "code",
   "execution_count": null,
   "id": "7aefbf42-65d8-4ecd-b1e2-7a225e117166",
   "metadata": {},
   "outputs": [],
   "source": [
    "documents = SimpleDirectoryReader('data').load_data()"
   ]
  },
  {
   "cell_type": "code",
   "execution_count": null,
   "id": "ae0b897a-f41c-45b1-b7ca-99985f619c46",
   "metadata": {},
   "outputs": [
    {
     "data": {
      "text/plain": [
       "[Document(text=\" \\nAdopting the new leases standard just got\\n \\neasier\\n \\nWhat happened?\\n \\n \\nThe FASB has issued new guidance that will make the adoption of the new leases\\n \\nstandard, ASC 842, \\n\\u200b\\nLeases\\n\\u200b\\n, easier.\\n \\nAdditional transition method\\n \\nUnder a new transition method, comparative periods presented in financial statements in\\n \\nthe period of adoption will not need to be restated. Instead, a reporting entity would:\\n \\n●\\nInitially apply the new lease requirements at the effective date (e.g., January 1,\\n \\n2019 for a calendar year-end public company), and recognize a cumulative-effect\\n \\nadjustment to the opening balance of retained earnings in the period of adoption\\n \\n \\n●\\nContinue to report comparative periods presented in the financial statements in\\n \\nthe period of adoption under current GAAP (i.e., ASC 840, \\n\\u200b\\nLeases)\\n \\n \\n●\\nProvide the required disclosures under ASC 840 for all periods presented under\\n \\nASC 840\\n \\nThe new transition method does not impact the manner of adoption. An entity will still\\n \\nneed to apply the modified transition approach when implementing the new guidance.\\n \\nNew lessor practical expedient for components\\n \\nThe FASB also issued a new practical expedient that allows lessors to avoid separating\\n \\nlease and associated nonlease components within a contract if certain criteria are met. If\\n \\nelected, lessors will be able to aggregate nonlease components that otherwise would be\\n \\naccounted for under the new revenue standard with the associated lease component if the\\n \\nfollowing conditions are met:\\n \\n●\\nThe timing and pattern of transfer for the nonlease component and the\\n \\nassociated lease component are the same.\\n \\n \\n●\\nThe stand-alone lease component would be classified as an operating lease if\\n \\naccounted for separately.\\n \\nFor example, if these criteria are met, lessors with eligible operating real estate leases\\n \\nthat also provide maintenance services can elect to not separate the real estate lease\\n \\ncomponent and the nonlease maintenance services component, which would otherwise\\n \\nneed to be separated based on their standalone selling prices.\\n \\n \\n \\n \\n \\nNational Professional Services Group | \\n\\u200b\\nwww.cfodirect.com\\n \\nIn brief 1\\n \\n\\nIf lease and nonlease components are aggregated under this practical expedient, a lessor \\nwould account for the combined component as follows: \\n●If the nonlease components are the predominant characteristic, account for the\\ncombined component under the new revenue standard. In doing so, the lessor\\nwould (a) recognize revenue consistent with the method assessed when\\napplying the “timing and pattern of transfer” criterion to use the expedient and\\n(b) account for all variable payments, including those related to the lease,\\nunder the revenue guidance.\\n●If the nonlease components are not the predominant characteristic, account for\\nthe combined component as an operating lease under the new leases standard.\\nAll variable payments, including those related to any good or service, would be\\naccounted for as variable lease payments.\\nLessors will need to apply judgment to determine the predominant characteristic of the \\ncombined component. \\nIf elected, the practical expedient will need to be applied consistently as an accounting \\npolicy by class of underlying asset. Additional disclosures are also required. \\nWhy is this important? \\nThe FASB expects the new transition method and practical expedient to make the \\napplication of the new leases standard easier and more cost effective.  \\nWhat's next? The leases standard is effective for public business entities, not-for-profit conduit bond \\nobligors with public debt and employee benefit plans that file their financial statements \\nwith the SEC, no later than annual periods beginning after December 15, 2018 (i.e., \\nJanuary 1, 2019 for calendar-year entities) and interim periods within those years. All \\nother entities must adopt the new standard no later than annual periods beginning \\nafter December 15, 2019 (i.e., January 1, 2020 for calendar-year entities) and interim \\nperiods the following year.  \\nFor entities that have not adopted the new leases standard, the effective date for the new \\nlessor practical expedient is the same as the effective date for the new leases standard. \\nEntities that have already adopted the new leases standard may apply the new lessor \\npractical expedient (1) to the first reporting period following the issuance of the practical \\nexpedient or (2) at the original effective date of the new leases standard. Either \\nretrospective or prospective adoption is permitted\\u200b. Please refer to PwC's leases \\u200bresources page \\u200bon CFOdirect for guidance to help you \\nprepare to adopt the new leases standard.  \\nTo have a deeper discussion, contact: \\nScott Tornberg \\nPartner \\nEmail: \\u200bscott.w.tornberg@pwc.com Ashima Jain \\nManaging Director \\nEmail: \\u200bashima.jain@pwc.com \\nFollow \\u200b@CFOdirect \\u200b on Twitter. \\n© 2018 PwC. All rights reserved. PwC refers to the US member firm or one of its subsidiaries or affiliates, and may sometimes refer to the PwC network. Each member firm is a separate legal entity.  \\nPlease see \\u200bwww.pwc.com/structure \\u200b for further details. This content is for general information purposes only, and should not be used as a substitute for consultation with professional advisors.\", doc_id='bced146f-d102-491b-a017-3d10d3f085bc', embedding=None, doc_hash='68317e1b6f99024f5d4d66d45a8f8a5462851adb9908a4930c4463149d7bb2bb', extra_info=None),\n",
       " Document(text=\" \\nAdopting the new leases standard just got\\n \\neasier\\n \\nWhat happened?\\n \\n \\nThe FASB has issued new guidance that will make the adoption of the new leases\\n \\nstandard, ASC 842, \\n\\u200b\\nLeases\\n\\u200b\\n, easier.\\n \\nAdditional transition method\\n \\nUnder a new transition method, comparative periods presented in financial statements in\\n \\nthe period of adoption will not need to be restated. Instead, a reporting entity would:\\n \\n●\\nInitially apply the new lease requirements at the effective date (e.g., January 1,\\n \\n2019 for a calendar year-end public company), and recognize a cumulative-effect\\n \\nadjustment to the opening balance of retained earnings in the period of adoption\\n \\n \\n●\\nContinue to report comparative periods presented in the financial statements in\\n \\nthe period of adoption under current GAAP (i.e., ASC 840, \\n\\u200b\\nLeases)\\n \\n \\n●\\nProvide the required disclosures under ASC 840 for all periods presented under\\n \\nASC 840\\n \\nThe new transition method does not impact the manner of adoption. An entity will still\\n \\nneed to apply the modified transition approach when implementing the new guidance.\\n \\nNew lessor practical expedient for components\\n \\nThe FASB also issued a new practical expedient that allows lessors to avoid separating\\n \\nlease and associated nonlease components within a contract if certain criteria are met. If\\n \\nelected, lessors will be able to aggregate nonlease components that otherwise would be\\n \\naccounted for under the new revenue standard with the associated lease component if the\\n \\nfollowing conditions are met:\\n \\n●\\nThe timing and pattern of transfer for the nonlease component and the\\n \\nassociated lease component are the same.\\n \\n \\n●\\nThe stand-alone lease component would be classified as an operating lease if\\n \\naccounted for separately.\\n \\nFor example, if these criteria are met, lessors with eligible operating real estate leases\\n \\nthat also provide maintenance services can elect to not separate the real estate lease\\n \\ncomponent and the nonlease maintenance services component, which would otherwise\\n \\nneed to be separated based on their standalone selling prices.\\n \\n \\n \\n \\n \\nNational Professional Services Group | \\n\\u200b\\nwww.cfodirect.com\\n \\nIn brief 1\\n \\nIf lease and nonlease components are aggregated under this practical expedient, a lessor \\nwould account for the combined component as follows: \\n●If the nonlease components are the predominant characteristic, account for the\\ncombined component under the new revenue standard. In doing so, the lessor\\nwould (a) recognize revenue consistent with the method assessed when\\napplying the “timing and pattern of transfer” criterion to use the expedient and\\n(b) account for all variable payments, including those related to the lease,\\nunder the revenue guidance.\\n●If the nonlease components are not the predominant characteristic, account for\\nthe combined component as an operating lease under the new leases standard.\\nAll variable payments, including those related to any good or service, would be\\naccounted for as variable lease payments.\\nLessors will need to apply judgment to determine the predominant characteristic of the \\ncombined component. \\nIf elected, the practical expedient will need to be applied consistently as an accounting \\npolicy by class of underlying asset. Additional disclosures are also required. \\nWhy is this important? \\nThe FASB expects the new transition method and practical expedient to make the \\napplication of the new leases standard easier and more cost effective.  \\nWhat's next? The leases standard is effective for public business entities, not-for-profit conduit bond \\nobligors with public debt and employee benefit plans that file their financial statements \\nwith the SEC, no later than annual periods beginning after December 15, 2018 (i.e., \\nJanuary 1, 2019 for calendar-year entities) and interim periods within those years. All \\nother entities must adopt the new standard no later than annual periods beginning \\nafter December 15, 2019 (i.e., January 1, 2020 for calendar-year entities) and interim \\nperiods the following year.  \\nFor entities that have not adopted the new leases standard, the effective date for the new \\nlessor practical expedient is the same as the effective date for the new leases standard. \\nEntities that have already adopted the new leases standard may apply the new lessor \\npractical expedient (1) to the first reporting period following the issuance of the practical \\nexpedient or (2) at the original effective date of the new leases standard. Either \\nretrospective or prospective adoption is permitted\\u200b. Please refer to PwC's leases \\u200bresources page \\u200bon CFOdirect for guidance to help you \\nprepare to adopt the new leases standard.  \\nTo have a deeper discussion, contact: \\nScott Tornberg \\nPartner \\nEmail: \\u200bscott.w.tornberg@pwc.com Ashima Jain \\nManaging Director \\nEmail: \\u200bashima.jain@pwc.com \\nFollow \\u200b@CFOdirect \\u200b on Twitter. \\n© 2018 PwC. All rights reserved. PwC refers to the US member firm or one of its subsidiaries or affiliates, and may sometimes refer to the PwC network. Each member firm is a separate legal entity.  \\nPlease see \\u200bwww.pwc.com/structure \\u200b for further details. This content is for general information purposes only, and should not be used as a substitute for consultation with professional advisors.\", doc_id='8b4416e5-ad0a-4cb6-8f1d-d8c875b69b8e', embedding=None, doc_hash='747e2615755793c43bcc3952f7f3ff644656d6a15957cd12c34f03e467cf0549', extra_info=None)]"
      ]
     },
     "execution_count": 26,
     "metadata": {},
     "output_type": "execute_result"
    }
   ],
   "source": [
    "index = GPTTreeIndex(documents)\n",
    "index.save_to_disk('llama_index.json')\n",
    "# try loading\n",
    "new_index = GPTTreeIndex.load_from_disk('llama_index.json')"
   ]
  },
  {
   "cell_type": "code",
   "execution_count": null,
   "id": "c04b169b-27a3-478c-af17-3da53c108ed9",
   "metadata": {},
   "outputs": [],
   "source": [
    "# set Logging to DEBUG for more detailed outputs\n",
    "response = new_index.query(\"How did adopting the new leases standard became easier?\")"
   ]
  },
  {
   "cell_type": "code",
   "execution_count": null,
   "id": "e5d51572-1e14-4a23-bb4f-cd7de78f69dc",
   "metadata": {},
   "outputs": [
    {
     "data": {
      "text/plain": [
       "\"If lease and nonlease components are aggregated under this practical expedient, a lessor \\nwould account for the combined component as follows: \\n●If the nonlease components are the predominant characteristic, account for the\\ncombined component under the new revenue standard. In doing so, the lessor\\nwould (a) recognize revenue consistent with the method assessed when\\napplying the “timing and pattern of transfer” criterion to use the expedient and\\n(b) account for all variable payments, including those related to the lease,\\nunder the revenue guidance.\\n●If the nonlease components are not the predominant characteristic, account for\\nthe combined component as an operating lease under the new leases standard.\\nAll variable payments, including those related to any good or service, would be\\naccounted for as variable lease payments.\\nLessors will need to apply judgment to determine the predominant characteristic of the \\ncombined component. \\nIf elected, the practical expedient will need to be applied consistently as an accounting \\npolicy by class of underlying asset. Additional disclosures are also required. \\nWhy is this important? \\nThe FASB expects the new transition method and practical expedient to make the \\napplication of the new leases standard easier and more cost effective.  \\nWhat's next? The leases standard is effective for public business entities, not-for-profit conduit bond \\nobligors with public debt and employee benefit plans that file their financial statements \\nwith the SEC, no later than annual periods beginning after December 15, 2018 (i.e., \\nJanuary 1, 2019 for calendar-year entities) and interim periods within those years. All \\nother entities must adopt the new standard no later than annual periods beginning \\nafter December 15, 2019 (i.e., January 1, 2020 for calendar-year entities) and interim \\nperiods the following year.  \\nFor entities that have not adopted the new leases standard, the effective date for the new \\nlessor practical expedient is the same as the effective date for the new leases standard. \\nEntities that have already adopted the new leases standard may apply the new lessor \\npractical expedient (1) to the first reporting period following the issuance of the practical \\nexpedient or (2) at the original effective date of the new leases standard. Either \\nretrospective or prospective adoption is permitted\\u200b. Please refer to PwC's leases \\u200bresources page \\u200bon CFOdirect for guidance to help you \\nprepare to adopt the new leases standard.  \\nTo have a deeper discussion, contact: \\nScott Tornberg \\nPartner \\nEmail: \\u200bscott.w.tornberg@pwc.com Ashima Jain \\nManaging Director \\nEmail: \\u200bashima.jain@pwc.com \\nFollow \\u200b@CFOdirect \\u200b on Twitter. \\n© 2018 PwC. All rights reserved. PwC refers to the US member firm or one of its subsidiaries or affiliates, and may sometimes refer to the PwC network. Each member firm is a separate legal entity.  \\nPlease see \\u200bwww.pwc.com/structure \\u200b for further details. This content is for general information purposes only, and should not be used as a substitute for consultation with professional advisors.\""
      ]
     },
     "execution_count": 15,
     "metadata": {},
     "output_type": "execute_result"
    }
   ],
   "source": [
    "display(Markdown(f\"<i>{response}</i>\"))"
   ]
  },
  {
   "cell_type": "code",
   "execution_count": null,
   "id": "f976a9dc-7978-4c3e-9698-143443684180",
   "metadata": {},
   "outputs": [],
   "source": [
    "# !pip install PyPDF2\n",
    "# !pip install transformers\n",
    "# !pip install llama-index"
   ]
  },
  {
   "cell_type": "code",
   "execution_count": null,
   "id": "f9216652-786e-4845-addb-ce3353cea703",
   "metadata": {},
   "outputs": [],
   "source": []
  }
 ],
 "metadata": {
  "kernelspec": {
   "display_name": "",
   "name": ""
  },
  "language_info": {
   "name": ""
  }
 },
 "nbformat": 4,
 "nbformat_minor": 5
}
