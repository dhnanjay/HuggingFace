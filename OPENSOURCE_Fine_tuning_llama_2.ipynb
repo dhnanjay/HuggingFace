{
  "metadata": {
    "kernelspec": {
      "display_name": "Python 3",
      "name": "python3"
    },
    "language_info": {
      "name": "python",
      "version": "3.10.12",
      "mimetype": "text/x-python",
      "codemirror_mode": {
        "name": "ipython",
        "version": 3
      },
      "pygments_lexer": "ipython3",
      "nbconvert_exporter": "python",
      "file_extension": ".py"
    },
    "colab": {
      "provenance": [],
      "gpuType": "A100",
      "collapsed_sections": [
        "eLjgKXsrOwud"
      ],
      "machine_shape": "hm",
      "include_colab_link": true
    },
    "accelerator": "GPU",
    "widgets": {
      "application/vnd.jupyter.widget-state+json": {
        "2e49c7e269614de4b82993b1a1e02c46": {
          "model_module": "@jupyter-widgets/controls",
          "model_name": "HBoxModel",
          "model_module_version": "1.5.0",
          "state": {
            "_dom_classes": [],
            "_model_module": "@jupyter-widgets/controls",
            "_model_module_version": "1.5.0",
            "_model_name": "HBoxModel",
            "_view_count": null,
            "_view_module": "@jupyter-widgets/controls",
            "_view_module_version": "1.5.0",
            "_view_name": "HBoxView",
            "box_style": "",
            "children": [
              "IPY_MODEL_a5625bf8560740ae9116a3702fce0768",
              "IPY_MODEL_7b36dba5ab614ce291064e8a524e4f72",
              "IPY_MODEL_912aef1248194edfb32f008e10def68f"
            ],
            "layout": "IPY_MODEL_6d2c5c29bc834d57925fb799c116c84b"
          }
        },
        "a5625bf8560740ae9116a3702fce0768": {
          "model_module": "@jupyter-widgets/controls",
          "model_name": "HTMLModel",
          "model_module_version": "1.5.0",
          "state": {
            "_dom_classes": [],
            "_model_module": "@jupyter-widgets/controls",
            "_model_module_version": "1.5.0",
            "_model_name": "HTMLModel",
            "_view_count": null,
            "_view_module": "@jupyter-widgets/controls",
            "_view_module_version": "1.5.0",
            "_view_name": "HTMLView",
            "description": "",
            "description_tooltip": null,
            "layout": "IPY_MODEL_12846f6a4f1f4f4b80da815c6ba70a18",
            "placeholder": "​",
            "style": "IPY_MODEL_e335b7d0fdcf456a859580c0ddcb9165",
            "value": "Loading checkpoint shards: 100%"
          }
        },
        "7b36dba5ab614ce291064e8a524e4f72": {
          "model_module": "@jupyter-widgets/controls",
          "model_name": "FloatProgressModel",
          "model_module_version": "1.5.0",
          "state": {
            "_dom_classes": [],
            "_model_module": "@jupyter-widgets/controls",
            "_model_module_version": "1.5.0",
            "_model_name": "FloatProgressModel",
            "_view_count": null,
            "_view_module": "@jupyter-widgets/controls",
            "_view_module_version": "1.5.0",
            "_view_name": "ProgressView",
            "bar_style": "success",
            "description": "",
            "description_tooltip": null,
            "layout": "IPY_MODEL_f5de10e0ac3a476fa16fa2775d827729",
            "max": 2,
            "min": 0,
            "orientation": "horizontal",
            "style": "IPY_MODEL_639d6e7439174a1ba5c120e4515e3ef9",
            "value": 2
          }
        },
        "912aef1248194edfb32f008e10def68f": {
          "model_module": "@jupyter-widgets/controls",
          "model_name": "HTMLModel",
          "model_module_version": "1.5.0",
          "state": {
            "_dom_classes": [],
            "_model_module": "@jupyter-widgets/controls",
            "_model_module_version": "1.5.0",
            "_model_name": "HTMLModel",
            "_view_count": null,
            "_view_module": "@jupyter-widgets/controls",
            "_view_module_version": "1.5.0",
            "_view_name": "HTMLView",
            "description": "",
            "description_tooltip": null,
            "layout": "IPY_MODEL_1bff9e103eab4b8e8f7df82e3b93196d",
            "placeholder": "​",
            "style": "IPY_MODEL_f0597048bef0421ea7292e2ad6568380",
            "value": " 2/2 [00:04&lt;00:00,  2.05s/it]"
          }
        },
        "6d2c5c29bc834d57925fb799c116c84b": {
          "model_module": "@jupyter-widgets/base",
          "model_name": "LayoutModel",
          "model_module_version": "1.2.0",
          "state": {
            "_model_module": "@jupyter-widgets/base",
            "_model_module_version": "1.2.0",
            "_model_name": "LayoutModel",
            "_view_count": null,
            "_view_module": "@jupyter-widgets/base",
            "_view_module_version": "1.2.0",
            "_view_name": "LayoutView",
            "align_content": null,
            "align_items": null,
            "align_self": null,
            "border": null,
            "bottom": null,
            "display": null,
            "flex": null,
            "flex_flow": null,
            "grid_area": null,
            "grid_auto_columns": null,
            "grid_auto_flow": null,
            "grid_auto_rows": null,
            "grid_column": null,
            "grid_gap": null,
            "grid_row": null,
            "grid_template_areas": null,
            "grid_template_columns": null,
            "grid_template_rows": null,
            "height": null,
            "justify_content": null,
            "justify_items": null,
            "left": null,
            "margin": null,
            "max_height": null,
            "max_width": null,
            "min_height": null,
            "min_width": null,
            "object_fit": null,
            "object_position": null,
            "order": null,
            "overflow": null,
            "overflow_x": null,
            "overflow_y": null,
            "padding": null,
            "right": null,
            "top": null,
            "visibility": null,
            "width": null
          }
        },
        "12846f6a4f1f4f4b80da815c6ba70a18": {
          "model_module": "@jupyter-widgets/base",
          "model_name": "LayoutModel",
          "model_module_version": "1.2.0",
          "state": {
            "_model_module": "@jupyter-widgets/base",
            "_model_module_version": "1.2.0",
            "_model_name": "LayoutModel",
            "_view_count": null,
            "_view_module": "@jupyter-widgets/base",
            "_view_module_version": "1.2.0",
            "_view_name": "LayoutView",
            "align_content": null,
            "align_items": null,
            "align_self": null,
            "border": null,
            "bottom": null,
            "display": null,
            "flex": null,
            "flex_flow": null,
            "grid_area": null,
            "grid_auto_columns": null,
            "grid_auto_flow": null,
            "grid_auto_rows": null,
            "grid_column": null,
            "grid_gap": null,
            "grid_row": null,
            "grid_template_areas": null,
            "grid_template_columns": null,
            "grid_template_rows": null,
            "height": null,
            "justify_content": null,
            "justify_items": null,
            "left": null,
            "margin": null,
            "max_height": null,
            "max_width": null,
            "min_height": null,
            "min_width": null,
            "object_fit": null,
            "object_position": null,
            "order": null,
            "overflow": null,
            "overflow_x": null,
            "overflow_y": null,
            "padding": null,
            "right": null,
            "top": null,
            "visibility": null,
            "width": null
          }
        },
        "e335b7d0fdcf456a859580c0ddcb9165": {
          "model_module": "@jupyter-widgets/controls",
          "model_name": "DescriptionStyleModel",
          "model_module_version": "1.5.0",
          "state": {
            "_model_module": "@jupyter-widgets/controls",
            "_model_module_version": "1.5.0",
            "_model_name": "DescriptionStyleModel",
            "_view_count": null,
            "_view_module": "@jupyter-widgets/base",
            "_view_module_version": "1.2.0",
            "_view_name": "StyleView",
            "description_width": ""
          }
        },
        "f5de10e0ac3a476fa16fa2775d827729": {
          "model_module": "@jupyter-widgets/base",
          "model_name": "LayoutModel",
          "model_module_version": "1.2.0",
          "state": {
            "_model_module": "@jupyter-widgets/base",
            "_model_module_version": "1.2.0",
            "_model_name": "LayoutModel",
            "_view_count": null,
            "_view_module": "@jupyter-widgets/base",
            "_view_module_version": "1.2.0",
            "_view_name": "LayoutView",
            "align_content": null,
            "align_items": null,
            "align_self": null,
            "border": null,
            "bottom": null,
            "display": null,
            "flex": null,
            "flex_flow": null,
            "grid_area": null,
            "grid_auto_columns": null,
            "grid_auto_flow": null,
            "grid_auto_rows": null,
            "grid_column": null,
            "grid_gap": null,
            "grid_row": null,
            "grid_template_areas": null,
            "grid_template_columns": null,
            "grid_template_rows": null,
            "height": null,
            "justify_content": null,
            "justify_items": null,
            "left": null,
            "margin": null,
            "max_height": null,
            "max_width": null,
            "min_height": null,
            "min_width": null,
            "object_fit": null,
            "object_position": null,
            "order": null,
            "overflow": null,
            "overflow_x": null,
            "overflow_y": null,
            "padding": null,
            "right": null,
            "top": null,
            "visibility": null,
            "width": null
          }
        },
        "639d6e7439174a1ba5c120e4515e3ef9": {
          "model_module": "@jupyter-widgets/controls",
          "model_name": "ProgressStyleModel",
          "model_module_version": "1.5.0",
          "state": {
            "_model_module": "@jupyter-widgets/controls",
            "_model_module_version": "1.5.0",
            "_model_name": "ProgressStyleModel",
            "_view_count": null,
            "_view_module": "@jupyter-widgets/base",
            "_view_module_version": "1.2.0",
            "_view_name": "StyleView",
            "bar_color": null,
            "description_width": ""
          }
        },
        "1bff9e103eab4b8e8f7df82e3b93196d": {
          "model_module": "@jupyter-widgets/base",
          "model_name": "LayoutModel",
          "model_module_version": "1.2.0",
          "state": {
            "_model_module": "@jupyter-widgets/base",
            "_model_module_version": "1.2.0",
            "_model_name": "LayoutModel",
            "_view_count": null,
            "_view_module": "@jupyter-widgets/base",
            "_view_module_version": "1.2.0",
            "_view_name": "LayoutView",
            "align_content": null,
            "align_items": null,
            "align_self": null,
            "border": null,
            "bottom": null,
            "display": null,
            "flex": null,
            "flex_flow": null,
            "grid_area": null,
            "grid_auto_columns": null,
            "grid_auto_flow": null,
            "grid_auto_rows": null,
            "grid_column": null,
            "grid_gap": null,
            "grid_row": null,
            "grid_template_areas": null,
            "grid_template_columns": null,
            "grid_template_rows": null,
            "height": null,
            "justify_content": null,
            "justify_items": null,
            "left": null,
            "margin": null,
            "max_height": null,
            "max_width": null,
            "min_height": null,
            "min_width": null,
            "object_fit": null,
            "object_position": null,
            "order": null,
            "overflow": null,
            "overflow_x": null,
            "overflow_y": null,
            "padding": null,
            "right": null,
            "top": null,
            "visibility": null,
            "width": null
          }
        },
        "f0597048bef0421ea7292e2ad6568380": {
          "model_module": "@jupyter-widgets/controls",
          "model_name": "DescriptionStyleModel",
          "model_module_version": "1.5.0",
          "state": {
            "_model_module": "@jupyter-widgets/controls",
            "_model_module_version": "1.5.0",
            "_model_name": "DescriptionStyleModel",
            "_view_count": null,
            "_view_module": "@jupyter-widgets/base",
            "_view_module_version": "1.2.0",
            "_view_name": "StyleView",
            "description_width": ""
          }
        },
        "01d86daf4f504a20be44f6da8c683844": {
          "model_module": "@jupyter-widgets/controls",
          "model_name": "HBoxModel",
          "model_module_version": "1.5.0",
          "state": {
            "_dom_classes": [],
            "_model_module": "@jupyter-widgets/controls",
            "_model_module_version": "1.5.0",
            "_model_name": "HBoxModel",
            "_view_count": null,
            "_view_module": "@jupyter-widgets/controls",
            "_view_module_version": "1.5.0",
            "_view_name": "HBoxView",
            "box_style": "",
            "children": [
              "IPY_MODEL_c74e29446b234bff91dce579bd9c3609",
              "IPY_MODEL_b2f59957237a4a8aaff245a00a091507",
              "IPY_MODEL_5e34a38fb18947efa259472854edba96"
            ],
            "layout": "IPY_MODEL_5c563d031a04449080e13fe6c4ac29af"
          }
        },
        "c74e29446b234bff91dce579bd9c3609": {
          "model_module": "@jupyter-widgets/controls",
          "model_name": "HTMLModel",
          "model_module_version": "1.5.0",
          "state": {
            "_dom_classes": [],
            "_model_module": "@jupyter-widgets/controls",
            "_model_module_version": "1.5.0",
            "_model_name": "HTMLModel",
            "_view_count": null,
            "_view_module": "@jupyter-widgets/controls",
            "_view_module_version": "1.5.0",
            "_view_name": "HTMLView",
            "description": "",
            "description_tooltip": null,
            "layout": "IPY_MODEL_0523415b04364afebf49827235b913c2",
            "placeholder": "​",
            "style": "IPY_MODEL_04e96b95d25e4f2f94d7766f362c4392",
            "value": "Map: 100%"
          }
        },
        "b2f59957237a4a8aaff245a00a091507": {
          "model_module": "@jupyter-widgets/controls",
          "model_name": "FloatProgressModel",
          "model_module_version": "1.5.0",
          "state": {
            "_dom_classes": [],
            "_model_module": "@jupyter-widgets/controls",
            "_model_module_version": "1.5.0",
            "_model_name": "FloatProgressModel",
            "_view_count": null,
            "_view_module": "@jupyter-widgets/controls",
            "_view_module_version": "1.5.0",
            "_view_name": "ProgressView",
            "bar_style": "success",
            "description": "",
            "description_tooltip": null,
            "layout": "IPY_MODEL_a1e727658d074eb7a852a3000d95d1b6",
            "max": 608,
            "min": 0,
            "orientation": "horizontal",
            "style": "IPY_MODEL_96aaecc6f9d64e6f9c4112548ecede8f",
            "value": 608
          }
        },
        "5e34a38fb18947efa259472854edba96": {
          "model_module": "@jupyter-widgets/controls",
          "model_name": "HTMLModel",
          "model_module_version": "1.5.0",
          "state": {
            "_dom_classes": [],
            "_model_module": "@jupyter-widgets/controls",
            "_model_module_version": "1.5.0",
            "_model_name": "HTMLModel",
            "_view_count": null,
            "_view_module": "@jupyter-widgets/controls",
            "_view_module_version": "1.5.0",
            "_view_name": "HTMLView",
            "description": "",
            "description_tooltip": null,
            "layout": "IPY_MODEL_a5e80546de3846749da05dd17d91d9eb",
            "placeholder": "​",
            "style": "IPY_MODEL_48d9c0e1f2cd49fc84e4b8766d5bdd94",
            "value": " 608/608 [00:00&lt;00:00, 3158.45 examples/s]"
          }
        },
        "5c563d031a04449080e13fe6c4ac29af": {
          "model_module": "@jupyter-widgets/base",
          "model_name": "LayoutModel",
          "model_module_version": "1.2.0",
          "state": {
            "_model_module": "@jupyter-widgets/base",
            "_model_module_version": "1.2.0",
            "_model_name": "LayoutModel",
            "_view_count": null,
            "_view_module": "@jupyter-widgets/base",
            "_view_module_version": "1.2.0",
            "_view_name": "LayoutView",
            "align_content": null,
            "align_items": null,
            "align_self": null,
            "border": null,
            "bottom": null,
            "display": null,
            "flex": null,
            "flex_flow": null,
            "grid_area": null,
            "grid_auto_columns": null,
            "grid_auto_flow": null,
            "grid_auto_rows": null,
            "grid_column": null,
            "grid_gap": null,
            "grid_row": null,
            "grid_template_areas": null,
            "grid_template_columns": null,
            "grid_template_rows": null,
            "height": null,
            "justify_content": null,
            "justify_items": null,
            "left": null,
            "margin": null,
            "max_height": null,
            "max_width": null,
            "min_height": null,
            "min_width": null,
            "object_fit": null,
            "object_position": null,
            "order": null,
            "overflow": null,
            "overflow_x": null,
            "overflow_y": null,
            "padding": null,
            "right": null,
            "top": null,
            "visibility": null,
            "width": null
          }
        },
        "0523415b04364afebf49827235b913c2": {
          "model_module": "@jupyter-widgets/base",
          "model_name": "LayoutModel",
          "model_module_version": "1.2.0",
          "state": {
            "_model_module": "@jupyter-widgets/base",
            "_model_module_version": "1.2.0",
            "_model_name": "LayoutModel",
            "_view_count": null,
            "_view_module": "@jupyter-widgets/base",
            "_view_module_version": "1.2.0",
            "_view_name": "LayoutView",
            "align_content": null,
            "align_items": null,
            "align_self": null,
            "border": null,
            "bottom": null,
            "display": null,
            "flex": null,
            "flex_flow": null,
            "grid_area": null,
            "grid_auto_columns": null,
            "grid_auto_flow": null,
            "grid_auto_rows": null,
            "grid_column": null,
            "grid_gap": null,
            "grid_row": null,
            "grid_template_areas": null,
            "grid_template_columns": null,
            "grid_template_rows": null,
            "height": null,
            "justify_content": null,
            "justify_items": null,
            "left": null,
            "margin": null,
            "max_height": null,
            "max_width": null,
            "min_height": null,
            "min_width": null,
            "object_fit": null,
            "object_position": null,
            "order": null,
            "overflow": null,
            "overflow_x": null,
            "overflow_y": null,
            "padding": null,
            "right": null,
            "top": null,
            "visibility": null,
            "width": null
          }
        },
        "04e96b95d25e4f2f94d7766f362c4392": {
          "model_module": "@jupyter-widgets/controls",
          "model_name": "DescriptionStyleModel",
          "model_module_version": "1.5.0",
          "state": {
            "_model_module": "@jupyter-widgets/controls",
            "_model_module_version": "1.5.0",
            "_model_name": "DescriptionStyleModel",
            "_view_count": null,
            "_view_module": "@jupyter-widgets/base",
            "_view_module_version": "1.2.0",
            "_view_name": "StyleView",
            "description_width": ""
          }
        },
        "a1e727658d074eb7a852a3000d95d1b6": {
          "model_module": "@jupyter-widgets/base",
          "model_name": "LayoutModel",
          "model_module_version": "1.2.0",
          "state": {
            "_model_module": "@jupyter-widgets/base",
            "_model_module_version": "1.2.0",
            "_model_name": "LayoutModel",
            "_view_count": null,
            "_view_module": "@jupyter-widgets/base",
            "_view_module_version": "1.2.0",
            "_view_name": "LayoutView",
            "align_content": null,
            "align_items": null,
            "align_self": null,
            "border": null,
            "bottom": null,
            "display": null,
            "flex": null,
            "flex_flow": null,
            "grid_area": null,
            "grid_auto_columns": null,
            "grid_auto_flow": null,
            "grid_auto_rows": null,
            "grid_column": null,
            "grid_gap": null,
            "grid_row": null,
            "grid_template_areas": null,
            "grid_template_columns": null,
            "grid_template_rows": null,
            "height": null,
            "justify_content": null,
            "justify_items": null,
            "left": null,
            "margin": null,
            "max_height": null,
            "max_width": null,
            "min_height": null,
            "min_width": null,
            "object_fit": null,
            "object_position": null,
            "order": null,
            "overflow": null,
            "overflow_x": null,
            "overflow_y": null,
            "padding": null,
            "right": null,
            "top": null,
            "visibility": null,
            "width": null
          }
        },
        "96aaecc6f9d64e6f9c4112548ecede8f": {
          "model_module": "@jupyter-widgets/controls",
          "model_name": "ProgressStyleModel",
          "model_module_version": "1.5.0",
          "state": {
            "_model_module": "@jupyter-widgets/controls",
            "_model_module_version": "1.5.0",
            "_model_name": "ProgressStyleModel",
            "_view_count": null,
            "_view_module": "@jupyter-widgets/base",
            "_view_module_version": "1.2.0",
            "_view_name": "StyleView",
            "bar_color": null,
            "description_width": ""
          }
        },
        "a5e80546de3846749da05dd17d91d9eb": {
          "model_module": "@jupyter-widgets/base",
          "model_name": "LayoutModel",
          "model_module_version": "1.2.0",
          "state": {
            "_model_module": "@jupyter-widgets/base",
            "_model_module_version": "1.2.0",
            "_model_name": "LayoutModel",
            "_view_count": null,
            "_view_module": "@jupyter-widgets/base",
            "_view_module_version": "1.2.0",
            "_view_name": "LayoutView",
            "align_content": null,
            "align_items": null,
            "align_self": null,
            "border": null,
            "bottom": null,
            "display": null,
            "flex": null,
            "flex_flow": null,
            "grid_area": null,
            "grid_auto_columns": null,
            "grid_auto_flow": null,
            "grid_auto_rows": null,
            "grid_column": null,
            "grid_gap": null,
            "grid_row": null,
            "grid_template_areas": null,
            "grid_template_columns": null,
            "grid_template_rows": null,
            "height": null,
            "justify_content": null,
            "justify_items": null,
            "left": null,
            "margin": null,
            "max_height": null,
            "max_width": null,
            "min_height": null,
            "min_width": null,
            "object_fit": null,
            "object_position": null,
            "order": null,
            "overflow": null,
            "overflow_x": null,
            "overflow_y": null,
            "padding": null,
            "right": null,
            "top": null,
            "visibility": null,
            "width": null
          }
        },
        "48d9c0e1f2cd49fc84e4b8766d5bdd94": {
          "model_module": "@jupyter-widgets/controls",
          "model_name": "DescriptionStyleModel",
          "model_module_version": "1.5.0",
          "state": {
            "_model_module": "@jupyter-widgets/controls",
            "_model_module_version": "1.5.0",
            "_model_name": "DescriptionStyleModel",
            "_view_count": null,
            "_view_module": "@jupyter-widgets/base",
            "_view_module_version": "1.2.0",
            "_view_name": "StyleView",
            "description_width": ""
          }
        },
        "9b795fbb69fd40e29829fa793af6e0a9": {
          "model_module": "@jupyter-widgets/controls",
          "model_name": "HBoxModel",
          "model_module_version": "1.5.0",
          "state": {
            "_dom_classes": [],
            "_model_module": "@jupyter-widgets/controls",
            "_model_module_version": "1.5.0",
            "_model_name": "HBoxModel",
            "_view_count": null,
            "_view_module": "@jupyter-widgets/controls",
            "_view_module_version": "1.5.0",
            "_view_name": "HBoxView",
            "box_style": "",
            "children": [
              "IPY_MODEL_a50acfa43b3e4491abf752c77099b0f6",
              "IPY_MODEL_1d7bb81e8e704758a6c9363a04114b10",
              "IPY_MODEL_3e2fbfca93e146bba4d1cb1e5b73cbd0"
            ],
            "layout": "IPY_MODEL_5fb9554b29c94b0f877aba5a41a8e4d7"
          }
        },
        "a50acfa43b3e4491abf752c77099b0f6": {
          "model_module": "@jupyter-widgets/controls",
          "model_name": "HTMLModel",
          "model_module_version": "1.5.0",
          "state": {
            "_dom_classes": [],
            "_model_module": "@jupyter-widgets/controls",
            "_model_module_version": "1.5.0",
            "_model_name": "HTMLModel",
            "_view_count": null,
            "_view_module": "@jupyter-widgets/controls",
            "_view_module_version": "1.5.0",
            "_view_name": "HTMLView",
            "description": "",
            "description_tooltip": null,
            "layout": "IPY_MODEL_682b3eddcfa546279861ec4fef6161e7",
            "placeholder": "​",
            "style": "IPY_MODEL_a72c017f56c941b5bde1ceae80c98d51",
            "value": "Map: 100%"
          }
        },
        "1d7bb81e8e704758a6c9363a04114b10": {
          "model_module": "@jupyter-widgets/controls",
          "model_name": "FloatProgressModel",
          "model_module_version": "1.5.0",
          "state": {
            "_dom_classes": [],
            "_model_module": "@jupyter-widgets/controls",
            "_model_module_version": "1.5.0",
            "_model_name": "FloatProgressModel",
            "_view_count": null,
            "_view_module": "@jupyter-widgets/controls",
            "_view_module_version": "1.5.0",
            "_view_name": "ProgressView",
            "bar_style": "success",
            "description": "",
            "description_tooltip": null,
            "layout": "IPY_MODEL_dc930bc7860f4f51ab560d09f2d77dbd",
            "max": 153,
            "min": 0,
            "orientation": "horizontal",
            "style": "IPY_MODEL_e213e30756b9459fa2e4033eb2c6418c",
            "value": 153
          }
        },
        "3e2fbfca93e146bba4d1cb1e5b73cbd0": {
          "model_module": "@jupyter-widgets/controls",
          "model_name": "HTMLModel",
          "model_module_version": "1.5.0",
          "state": {
            "_dom_classes": [],
            "_model_module": "@jupyter-widgets/controls",
            "_model_module_version": "1.5.0",
            "_model_name": "HTMLModel",
            "_view_count": null,
            "_view_module": "@jupyter-widgets/controls",
            "_view_module_version": "1.5.0",
            "_view_name": "HTMLView",
            "description": "",
            "description_tooltip": null,
            "layout": "IPY_MODEL_c08144c8222c47c6b4d321feb66cae2f",
            "placeholder": "​",
            "style": "IPY_MODEL_ae362d4c475a427ea1bdb348094d7b76",
            "value": " 153/153 [00:00&lt;00:00, 3229.47 examples/s]"
          }
        },
        "5fb9554b29c94b0f877aba5a41a8e4d7": {
          "model_module": "@jupyter-widgets/base",
          "model_name": "LayoutModel",
          "model_module_version": "1.2.0",
          "state": {
            "_model_module": "@jupyter-widgets/base",
            "_model_module_version": "1.2.0",
            "_model_name": "LayoutModel",
            "_view_count": null,
            "_view_module": "@jupyter-widgets/base",
            "_view_module_version": "1.2.0",
            "_view_name": "LayoutView",
            "align_content": null,
            "align_items": null,
            "align_self": null,
            "border": null,
            "bottom": null,
            "display": null,
            "flex": null,
            "flex_flow": null,
            "grid_area": null,
            "grid_auto_columns": null,
            "grid_auto_flow": null,
            "grid_auto_rows": null,
            "grid_column": null,
            "grid_gap": null,
            "grid_row": null,
            "grid_template_areas": null,
            "grid_template_columns": null,
            "grid_template_rows": null,
            "height": null,
            "justify_content": null,
            "justify_items": null,
            "left": null,
            "margin": null,
            "max_height": null,
            "max_width": null,
            "min_height": null,
            "min_width": null,
            "object_fit": null,
            "object_position": null,
            "order": null,
            "overflow": null,
            "overflow_x": null,
            "overflow_y": null,
            "padding": null,
            "right": null,
            "top": null,
            "visibility": null,
            "width": null
          }
        },
        "682b3eddcfa546279861ec4fef6161e7": {
          "model_module": "@jupyter-widgets/base",
          "model_name": "LayoutModel",
          "model_module_version": "1.2.0",
          "state": {
            "_model_module": "@jupyter-widgets/base",
            "_model_module_version": "1.2.0",
            "_model_name": "LayoutModel",
            "_view_count": null,
            "_view_module": "@jupyter-widgets/base",
            "_view_module_version": "1.2.0",
            "_view_name": "LayoutView",
            "align_content": null,
            "align_items": null,
            "align_self": null,
            "border": null,
            "bottom": null,
            "display": null,
            "flex": null,
            "flex_flow": null,
            "grid_area": null,
            "grid_auto_columns": null,
            "grid_auto_flow": null,
            "grid_auto_rows": null,
            "grid_column": null,
            "grid_gap": null,
            "grid_row": null,
            "grid_template_areas": null,
            "grid_template_columns": null,
            "grid_template_rows": null,
            "height": null,
            "justify_content": null,
            "justify_items": null,
            "left": null,
            "margin": null,
            "max_height": null,
            "max_width": null,
            "min_height": null,
            "min_width": null,
            "object_fit": null,
            "object_position": null,
            "order": null,
            "overflow": null,
            "overflow_x": null,
            "overflow_y": null,
            "padding": null,
            "right": null,
            "top": null,
            "visibility": null,
            "width": null
          }
        },
        "a72c017f56c941b5bde1ceae80c98d51": {
          "model_module": "@jupyter-widgets/controls",
          "model_name": "DescriptionStyleModel",
          "model_module_version": "1.5.0",
          "state": {
            "_model_module": "@jupyter-widgets/controls",
            "_model_module_version": "1.5.0",
            "_model_name": "DescriptionStyleModel",
            "_view_count": null,
            "_view_module": "@jupyter-widgets/base",
            "_view_module_version": "1.2.0",
            "_view_name": "StyleView",
            "description_width": ""
          }
        },
        "dc930bc7860f4f51ab560d09f2d77dbd": {
          "model_module": "@jupyter-widgets/base",
          "model_name": "LayoutModel",
          "model_module_version": "1.2.0",
          "state": {
            "_model_module": "@jupyter-widgets/base",
            "_model_module_version": "1.2.0",
            "_model_name": "LayoutModel",
            "_view_count": null,
            "_view_module": "@jupyter-widgets/base",
            "_view_module_version": "1.2.0",
            "_view_name": "LayoutView",
            "align_content": null,
            "align_items": null,
            "align_self": null,
            "border": null,
            "bottom": null,
            "display": null,
            "flex": null,
            "flex_flow": null,
            "grid_area": null,
            "grid_auto_columns": null,
            "grid_auto_flow": null,
            "grid_auto_rows": null,
            "grid_column": null,
            "grid_gap": null,
            "grid_row": null,
            "grid_template_areas": null,
            "grid_template_columns": null,
            "grid_template_rows": null,
            "height": null,
            "justify_content": null,
            "justify_items": null,
            "left": null,
            "margin": null,
            "max_height": null,
            "max_width": null,
            "min_height": null,
            "min_width": null,
            "object_fit": null,
            "object_position": null,
            "order": null,
            "overflow": null,
            "overflow_x": null,
            "overflow_y": null,
            "padding": null,
            "right": null,
            "top": null,
            "visibility": null,
            "width": null
          }
        },
        "e213e30756b9459fa2e4033eb2c6418c": {
          "model_module": "@jupyter-widgets/controls",
          "model_name": "ProgressStyleModel",
          "model_module_version": "1.5.0",
          "state": {
            "_model_module": "@jupyter-widgets/controls",
            "_model_module_version": "1.5.0",
            "_model_name": "ProgressStyleModel",
            "_view_count": null,
            "_view_module": "@jupyter-widgets/base",
            "_view_module_version": "1.2.0",
            "_view_name": "StyleView",
            "bar_color": null,
            "description_width": ""
          }
        },
        "c08144c8222c47c6b4d321feb66cae2f": {
          "model_module": "@jupyter-widgets/base",
          "model_name": "LayoutModel",
          "model_module_version": "1.2.0",
          "state": {
            "_model_module": "@jupyter-widgets/base",
            "_model_module_version": "1.2.0",
            "_model_name": "LayoutModel",
            "_view_count": null,
            "_view_module": "@jupyter-widgets/base",
            "_view_module_version": "1.2.0",
            "_view_name": "LayoutView",
            "align_content": null,
            "align_items": null,
            "align_self": null,
            "border": null,
            "bottom": null,
            "display": null,
            "flex": null,
            "flex_flow": null,
            "grid_area": null,
            "grid_auto_columns": null,
            "grid_auto_flow": null,
            "grid_auto_rows": null,
            "grid_column": null,
            "grid_gap": null,
            "grid_row": null,
            "grid_template_areas": null,
            "grid_template_columns": null,
            "grid_template_rows": null,
            "height": null,
            "justify_content": null,
            "justify_items": null,
            "left": null,
            "margin": null,
            "max_height": null,
            "max_width": null,
            "min_height": null,
            "min_width": null,
            "object_fit": null,
            "object_position": null,
            "order": null,
            "overflow": null,
            "overflow_x": null,
            "overflow_y": null,
            "padding": null,
            "right": null,
            "top": null,
            "visibility": null,
            "width": null
          }
        },
        "ae362d4c475a427ea1bdb348094d7b76": {
          "model_module": "@jupyter-widgets/controls",
          "model_name": "DescriptionStyleModel",
          "model_module_version": "1.5.0",
          "state": {
            "_model_module": "@jupyter-widgets/controls",
            "_model_module_version": "1.5.0",
            "_model_name": "DescriptionStyleModel",
            "_view_count": null,
            "_view_module": "@jupyter-widgets/base",
            "_view_module_version": "1.2.0",
            "_view_name": "StyleView",
            "description_width": ""
          }
        },
        "3b886a8f9b9d49fb8583f5fe1ad87865": {
          "model_module": "@jupyter-widgets/controls",
          "model_name": "HBoxModel",
          "model_module_version": "1.5.0",
          "state": {
            "_dom_classes": [],
            "_model_module": "@jupyter-widgets/controls",
            "_model_module_version": "1.5.0",
            "_model_name": "HBoxModel",
            "_view_count": null,
            "_view_module": "@jupyter-widgets/controls",
            "_view_module_version": "1.5.0",
            "_view_name": "HBoxView",
            "box_style": "",
            "children": [
              "IPY_MODEL_165e40cdc57e4c90846c7b5badb6ce42",
              "IPY_MODEL_a860d728c43346d09b69f4d415d2bb51",
              "IPY_MODEL_2e4b99de295b48beb47450fea6d7c9a0"
            ],
            "layout": "IPY_MODEL_4f272116d12f4274bec2dc3284eda9ba"
          }
        },
        "165e40cdc57e4c90846c7b5badb6ce42": {
          "model_module": "@jupyter-widgets/controls",
          "model_name": "HTMLModel",
          "model_module_version": "1.5.0",
          "state": {
            "_dom_classes": [],
            "_model_module": "@jupyter-widgets/controls",
            "_model_module_version": "1.5.0",
            "_model_name": "HTMLModel",
            "_view_count": null,
            "_view_module": "@jupyter-widgets/controls",
            "_view_module_version": "1.5.0",
            "_view_name": "HTMLView",
            "description": "",
            "description_tooltip": null,
            "layout": "IPY_MODEL_114cbe6b2e814c879e3fc2766c94373f",
            "placeholder": "​",
            "style": "IPY_MODEL_94c188b54b214a9896110e6768923f3d",
            "value": "Loading checkpoint shards: 100%"
          }
        },
        "a860d728c43346d09b69f4d415d2bb51": {
          "model_module": "@jupyter-widgets/controls",
          "model_name": "FloatProgressModel",
          "model_module_version": "1.5.0",
          "state": {
            "_dom_classes": [],
            "_model_module": "@jupyter-widgets/controls",
            "_model_module_version": "1.5.0",
            "_model_name": "FloatProgressModel",
            "_view_count": null,
            "_view_module": "@jupyter-widgets/controls",
            "_view_module_version": "1.5.0",
            "_view_name": "ProgressView",
            "bar_style": "success",
            "description": "",
            "description_tooltip": null,
            "layout": "IPY_MODEL_07d68da1d463479c91f7aec7b69e9bc1",
            "max": 2,
            "min": 0,
            "orientation": "horizontal",
            "style": "IPY_MODEL_39a6bce9bafe498c8878e21ff71314a6",
            "value": 2
          }
        },
        "2e4b99de295b48beb47450fea6d7c9a0": {
          "model_module": "@jupyter-widgets/controls",
          "model_name": "HTMLModel",
          "model_module_version": "1.5.0",
          "state": {
            "_dom_classes": [],
            "_model_module": "@jupyter-widgets/controls",
            "_model_module_version": "1.5.0",
            "_model_name": "HTMLModel",
            "_view_count": null,
            "_view_module": "@jupyter-widgets/controls",
            "_view_module_version": "1.5.0",
            "_view_name": "HTMLView",
            "description": "",
            "description_tooltip": null,
            "layout": "IPY_MODEL_5b59d3ad7f1c4cd3921250639aad2bd9",
            "placeholder": "​",
            "style": "IPY_MODEL_bc94aa0985ed4d2da9ea6ecaaf3bef7a",
            "value": " 2/2 [00:04&lt;00:00,  2.00s/it]"
          }
        },
        "4f272116d12f4274bec2dc3284eda9ba": {
          "model_module": "@jupyter-widgets/base",
          "model_name": "LayoutModel",
          "model_module_version": "1.2.0",
          "state": {
            "_model_module": "@jupyter-widgets/base",
            "_model_module_version": "1.2.0",
            "_model_name": "LayoutModel",
            "_view_count": null,
            "_view_module": "@jupyter-widgets/base",
            "_view_module_version": "1.2.0",
            "_view_name": "LayoutView",
            "align_content": null,
            "align_items": null,
            "align_self": null,
            "border": null,
            "bottom": null,
            "display": null,
            "flex": null,
            "flex_flow": null,
            "grid_area": null,
            "grid_auto_columns": null,
            "grid_auto_flow": null,
            "grid_auto_rows": null,
            "grid_column": null,
            "grid_gap": null,
            "grid_row": null,
            "grid_template_areas": null,
            "grid_template_columns": null,
            "grid_template_rows": null,
            "height": null,
            "justify_content": null,
            "justify_items": null,
            "left": null,
            "margin": null,
            "max_height": null,
            "max_width": null,
            "min_height": null,
            "min_width": null,
            "object_fit": null,
            "object_position": null,
            "order": null,
            "overflow": null,
            "overflow_x": null,
            "overflow_y": null,
            "padding": null,
            "right": null,
            "top": null,
            "visibility": null,
            "width": null
          }
        },
        "114cbe6b2e814c879e3fc2766c94373f": {
          "model_module": "@jupyter-widgets/base",
          "model_name": "LayoutModel",
          "model_module_version": "1.2.0",
          "state": {
            "_model_module": "@jupyter-widgets/base",
            "_model_module_version": "1.2.0",
            "_model_name": "LayoutModel",
            "_view_count": null,
            "_view_module": "@jupyter-widgets/base",
            "_view_module_version": "1.2.0",
            "_view_name": "LayoutView",
            "align_content": null,
            "align_items": null,
            "align_self": null,
            "border": null,
            "bottom": null,
            "display": null,
            "flex": null,
            "flex_flow": null,
            "grid_area": null,
            "grid_auto_columns": null,
            "grid_auto_flow": null,
            "grid_auto_rows": null,
            "grid_column": null,
            "grid_gap": null,
            "grid_row": null,
            "grid_template_areas": null,
            "grid_template_columns": null,
            "grid_template_rows": null,
            "height": null,
            "justify_content": null,
            "justify_items": null,
            "left": null,
            "margin": null,
            "max_height": null,
            "max_width": null,
            "min_height": null,
            "min_width": null,
            "object_fit": null,
            "object_position": null,
            "order": null,
            "overflow": null,
            "overflow_x": null,
            "overflow_y": null,
            "padding": null,
            "right": null,
            "top": null,
            "visibility": null,
            "width": null
          }
        },
        "94c188b54b214a9896110e6768923f3d": {
          "model_module": "@jupyter-widgets/controls",
          "model_name": "DescriptionStyleModel",
          "model_module_version": "1.5.0",
          "state": {
            "_model_module": "@jupyter-widgets/controls",
            "_model_module_version": "1.5.0",
            "_model_name": "DescriptionStyleModel",
            "_view_count": null,
            "_view_module": "@jupyter-widgets/base",
            "_view_module_version": "1.2.0",
            "_view_name": "StyleView",
            "description_width": ""
          }
        },
        "07d68da1d463479c91f7aec7b69e9bc1": {
          "model_module": "@jupyter-widgets/base",
          "model_name": "LayoutModel",
          "model_module_version": "1.2.0",
          "state": {
            "_model_module": "@jupyter-widgets/base",
            "_model_module_version": "1.2.0",
            "_model_name": "LayoutModel",
            "_view_count": null,
            "_view_module": "@jupyter-widgets/base",
            "_view_module_version": "1.2.0",
            "_view_name": "LayoutView",
            "align_content": null,
            "align_items": null,
            "align_self": null,
            "border": null,
            "bottom": null,
            "display": null,
            "flex": null,
            "flex_flow": null,
            "grid_area": null,
            "grid_auto_columns": null,
            "grid_auto_flow": null,
            "grid_auto_rows": null,
            "grid_column": null,
            "grid_gap": null,
            "grid_row": null,
            "grid_template_areas": null,
            "grid_template_columns": null,
            "grid_template_rows": null,
            "height": null,
            "justify_content": null,
            "justify_items": null,
            "left": null,
            "margin": null,
            "max_height": null,
            "max_width": null,
            "min_height": null,
            "min_width": null,
            "object_fit": null,
            "object_position": null,
            "order": null,
            "overflow": null,
            "overflow_x": null,
            "overflow_y": null,
            "padding": null,
            "right": null,
            "top": null,
            "visibility": null,
            "width": null
          }
        },
        "39a6bce9bafe498c8878e21ff71314a6": {
          "model_module": "@jupyter-widgets/controls",
          "model_name": "ProgressStyleModel",
          "model_module_version": "1.5.0",
          "state": {
            "_model_module": "@jupyter-widgets/controls",
            "_model_module_version": "1.5.0",
            "_model_name": "ProgressStyleModel",
            "_view_count": null,
            "_view_module": "@jupyter-widgets/base",
            "_view_module_version": "1.2.0",
            "_view_name": "StyleView",
            "bar_color": null,
            "description_width": ""
          }
        },
        "5b59d3ad7f1c4cd3921250639aad2bd9": {
          "model_module": "@jupyter-widgets/base",
          "model_name": "LayoutModel",
          "model_module_version": "1.2.0",
          "state": {
            "_model_module": "@jupyter-widgets/base",
            "_model_module_version": "1.2.0",
            "_model_name": "LayoutModel",
            "_view_count": null,
            "_view_module": "@jupyter-widgets/base",
            "_view_module_version": "1.2.0",
            "_view_name": "LayoutView",
            "align_content": null,
            "align_items": null,
            "align_self": null,
            "border": null,
            "bottom": null,
            "display": null,
            "flex": null,
            "flex_flow": null,
            "grid_area": null,
            "grid_auto_columns": null,
            "grid_auto_flow": null,
            "grid_auto_rows": null,
            "grid_column": null,
            "grid_gap": null,
            "grid_row": null,
            "grid_template_areas": null,
            "grid_template_columns": null,
            "grid_template_rows": null,
            "height": null,
            "justify_content": null,
            "justify_items": null,
            "left": null,
            "margin": null,
            "max_height": null,
            "max_width": null,
            "min_height": null,
            "min_width": null,
            "object_fit": null,
            "object_position": null,
            "order": null,
            "overflow": null,
            "overflow_x": null,
            "overflow_y": null,
            "padding": null,
            "right": null,
            "top": null,
            "visibility": null,
            "width": null
          }
        },
        "bc94aa0985ed4d2da9ea6ecaaf3bef7a": {
          "model_module": "@jupyter-widgets/controls",
          "model_name": "DescriptionStyleModel",
          "model_module_version": "1.5.0",
          "state": {
            "_model_module": "@jupyter-widgets/controls",
            "_model_module_version": "1.5.0",
            "_model_name": "DescriptionStyleModel",
            "_view_count": null,
            "_view_module": "@jupyter-widgets/base",
            "_view_module_version": "1.2.0",
            "_view_name": "StyleView",
            "description_width": ""
          }
        }
      }
    }
  },
  "nbformat_minor": 0,
  "nbformat": 4,
  "cells": [
    {
      "cell_type": "markdown",
      "metadata": {
        "id": "view-in-github",
        "colab_type": "text"
      },
      "source": [
        "<a href=\"https://colab.research.google.com/github/dhnanjay/HuggingFace/blob/main/OPENSOURCE_Fine_tuning_llama_2.ipynb\" target=\"_parent\"><img src=\"https://colab.research.google.com/assets/colab-badge.svg\" alt=\"Open In Colab\"/></a>"
      ]
    },
    {
      "cell_type": "markdown",
      "source": [
        "# Installs"
      ],
      "metadata": {
        "id": "eLjgKXsrOwud"
      }
    },
    {
      "cell_type": "markdown",
      "source": [
        "https://ai-office-hours.beehiiv.com/p/finetuning-llama-2\n"
      ],
      "metadata": {
        "id": "u4LNSVuUn5Er"
      }
    },
    {
      "cell_type": "code",
      "source": [
        "!pip install accelerate peft bitsandbytes transformers wandb"
      ],
      "metadata": {
        "_uuid": "8f2839f25d086af736a60e9eeb907d3b93b6e0e5",
        "_cell_guid": "b1076dfc-b9ad-4769-8c92-a6c4dae69d19",
        "execution": {
          "iopub.status.busy": "2023-10-10T15:37:48.652105Z",
          "iopub.execute_input": "2023-10-10T15:37:48.652484Z",
          "iopub.status.idle": "2023-10-10T15:37:58.179226Z",
          "shell.execute_reply.started": "2023-10-10T15:37:48.652450Z",
          "shell.execute_reply": "2023-10-10T15:37:58.177894Z"
        },
        "trusted": true,
        "id": "WBf-MIm8RGgo"
      },
      "execution_count": null,
      "outputs": []
    },
    {
      "cell_type": "markdown",
      "source": [
        "# Imports"
      ],
      "metadata": {
        "id": "aABvnad-OvAs"
      }
    },
    {
      "cell_type": "code",
      "source": [
        "import numpy as np\n",
        "import os\n",
        "import torch\n",
        "from datasets import load_dataset\n",
        "from transformers import (\n",
        "    AutoModelForCausalLM,\n",
        "    AutoTokenizer,\n",
        "    BitsAndBytesConfig,\n",
        "    TrainingArguments,\n",
        "    Trainer,\n",
        "    pipeline,\n",
        "    logging,\n",
        "    DataCollatorForLanguageModeling\n",
        ")\n",
        "from peft import LoraConfig, PeftModel, get_peft_model"
      ],
      "metadata": {
        "execution": {
          "iopub.status.busy": "2023-10-10T15:37:58.181259Z",
          "iopub.execute_input": "2023-10-10T15:37:58.181860Z",
          "iopub.status.idle": "2023-10-10T15:38:13.836341Z",
          "shell.execute_reply.started": "2023-10-10T15:37:58.181823Z",
          "shell.execute_reply": "2023-10-10T15:38:13.835264Z"
        },
        "trusted": true,
        "id": "5o3OgCMdRGgp",
        "colab": {
          "base_uri": "https://localhost:8080/"
        },
        "outputId": "6245e527-24f2-4e04-a423-8425ca42b60f"
      },
      "execution_count": null,
      "outputs": [
        {
          "output_type": "stream",
          "name": "stderr",
          "text": [
            "/usr/local/lib/python3.10/dist-packages/trl/trainer/ppo_config.py:141: UserWarning: The `optimize_cuda_cache` arguement will be deprecated soon, please use `optimize_device_cache` instead.\n",
            "  warnings.warn(\n"
          ]
        }
      ]
    },
    {
      "cell_type": "markdown",
      "source": [
        "## Model Config"
      ],
      "metadata": {
        "id": "MlY9awbhRGgp"
      }
    },
    {
      "cell_type": "code",
      "source": [
        "# Model from Hugging Face hub. I'm using the non chat format to show that you don't need to start from the chat checkpoint\n",
        "base_model = \"NousResearch/Llama-2-7b-hf\"\n",
        "\n",
        "# Instruction dataset\n",
        "guanaco_dataset = \"mlabonne/guanaco-llama2-1k\"\n",
        "\n",
        "# Fine-tuned model name\n",
        "new_model = \"llama-2-7b-chat-ft\""
      ],
      "metadata": {
        "execution": {
          "iopub.status.busy": "2023-10-10T15:38:13.838653Z",
          "iopub.execute_input": "2023-10-10T15:38:13.839277Z",
          "iopub.status.idle": "2023-10-10T15:38:13.844665Z",
          "shell.execute_reply.started": "2023-10-10T15:38:13.839239Z",
          "shell.execute_reply": "2023-10-10T15:38:13.843651Z"
        },
        "trusted": true,
        "id": "P5XFMMaCRGgq"
      },
      "execution_count": null,
      "outputs": []
    },
    {
      "cell_type": "code",
      "source": [
        "dataset = load_dataset(guanaco_dataset, split=\"train\")\n",
        "\n",
        "RESPONSE_KEY = '[/INST]'\n",
        "\n",
        "dataset = dataset.filter(\n",
        "    lambda x: RESPONSE_KEY in x['text'] and len(x['text']) <= 2000  # minor filtering here on length, feel free to remove\n",
        "    )"
      ],
      "metadata": {
        "execution": {
          "iopub.status.busy": "2023-10-10T14:18:02.844995Z",
          "iopub.execute_input": "2023-10-10T14:18:02.845638Z",
          "iopub.status.idle": "2023-10-10T14:18:03.836272Z",
          "shell.execute_reply.started": "2023-10-10T14:18:02.845607Z",
          "shell.execute_reply": "2023-10-10T14:18:03.835367Z"
        },
        "trusted": true,
        "id": "GVy72cDyRGgr"
      },
      "execution_count": null,
      "outputs": []
    },
    {
      "cell_type": "code",
      "source": [
        "import pandas as pd\n",
        "\n",
        "pd.Series(dataset['text']).str.len().hist()"
      ],
      "metadata": {
        "colab": {
          "base_uri": "https://localhost:8080/",
          "height": 448
        },
        "id": "JwoqcUHiEX4C",
        "outputId": "22f91c6e-7a4d-4042-e5aa-276e4a3a3484"
      },
      "execution_count": null,
      "outputs": [
        {
          "output_type": "execute_result",
          "data": {
            "text/plain": [
              "<Axes: >"
            ]
          },
          "metadata": {},
          "execution_count": 5
        },
        {
          "output_type": "display_data",
          "data": {
            "text/plain": [
              "<Figure size 640x480 with 1 Axes>"
            ],
            "image/png": "[encoded data removed]"
          },
          "metadata": {}
        }
      ]
    },
    {
      "cell_type": "code",
      "source": [
        "dataset = dataset.train_test_split(test_size=0.2)\n",
        "\n",
        "# TODO we don't technically need the beginning <s> I believe because the tokenizer will add one\n",
        "#  but I kept it as the dataset originally was from the internet\n",
        "print(dataset['train']['text'][0])\n",
        "\n",
        "dataset"
      ],
      "metadata": {
        "colab": {
          "base_uri": "https://localhost:8080/"
        },
        "id": "TV29053NAQOx",
        "outputId": "a764ab6c-921c-48c8-b015-0ae2e5ade65c"
      },
      "execution_count": null,
      "outputs": [
        {
          "output_type": "stream",
          "name": "stdout",
          "text": [
            "<s>[INST] que actividades se supone que son comunes en una persona de 20 años? [/INST] Es difícil decir qué actividades son \"comunes\" en una persona de 20 años, ya que las personas son únicas y sus intereses, circunstancias y prioridades pueden variar ampliamente. Sin embargo, asistir a la universidad o iniciar una carrera profesional y explorar nuevos hobbies o pasatiempos son algunas actividades que podrían ser comunes. </s><s>[INST] y si es el caso, que la persona de 20 años no le apetece hacer nada, ¿qué debería hacer? [/INST] La persona de 20 años debería plantarse \"¿por qué no quiero hacer nada?\". La respuesta a esa pregunta le ayudará a identificar el factor limitante que le podría ayudar a solucionar el problema. Además, las ganas de no hacer nada puede ser el resultado de un problema más grave relacionado a su salud mental, en ese caso, debería consultar con un especialista. </s>\n"
          ]
        },
        {
          "output_type": "execute_result",
          "data": {
            "text/plain": [
              "DatasetDict({\n",
              "    train: Dataset({\n",
              "        features: ['text'],\n",
              "        num_rows: 608\n",
              "    })\n",
              "    test: Dataset({\n",
              "        features: ['text'],\n",
              "        num_rows: 153\n",
              "    })\n",
              "})"
            ]
          },
          "metadata": {},
          "execution_count": 6
        }
      ]
    },
    {
      "cell_type": "code",
      "source": [
        "compute_dtype = getattr(torch, \"float16\")\n",
        "\n",
        "quant_config = BitsAndBytesConfig(\n",
        "    load_in_4bit=True,\n",
        "    bnb_4bit_quant_type=\"nf4\",\n",
        "    bnb_4bit_compute_dtype=compute_dtype,\n",
        "    bnb_4bit_use_double_quant=False,\n",
        ")"
      ],
      "metadata": {
        "execution": {
          "iopub.status.busy": "2023-10-10T14:18:03.837790Z",
          "iopub.execute_input": "2023-10-10T14:18:03.838430Z",
          "iopub.status.idle": "2023-10-10T14:18:03.844453Z",
          "shell.execute_reply.started": "2023-10-10T14:18:03.838398Z",
          "shell.execute_reply": "2023-10-10T14:18:03.843603Z"
        },
        "trusted": true,
        "id": "h2kNh-P7RGgr"
      },
      "execution_count": null,
      "outputs": []
    },
    {
      "cell_type": "code",
      "source": [
        "# Load base model\n",
        "model = AutoModelForCausalLM.from_pretrained(\n",
        "    base_model,\n",
        "    quantization_config=quant_config,\n",
        "    device_map={\"\": 0}\n",
        ")\n",
        "model.config.use_cache = False\n",
        "# \"Setting pretraining_tp to a value different than 1 will activate the more accurate but slower computation of the linear layers, which should better match the original logits.\"\n",
        "model.config.pretraining_tp = 1"
      ],
      "metadata": {
        "execution": {
          "iopub.status.busy": "2023-10-10T14:18:03.845777Z",
          "iopub.execute_input": "2023-10-10T14:18:03.846115Z",
          "iopub.status.idle": "2023-10-10T14:19:48.710661Z",
          "shell.execute_reply.started": "2023-10-10T14:18:03.846076Z",
          "shell.execute_reply": "2023-10-10T14:19:48.709756Z"
        },
        "trusted": true,
        "colab": {
          "base_uri": "https://localhost:8080/",
          "height": 49,
          "referenced_widgets": [
            "2e49c7e269614de4b82993b1a1e02c46",
            "a5625bf8560740ae9116a3702fce0768",
            "7b36dba5ab614ce291064e8a524e4f72",
            "912aef1248194edfb32f008e10def68f",
            "6d2c5c29bc834d57925fb799c116c84b",
            "12846f6a4f1f4f4b80da815c6ba70a18",
            "e335b7d0fdcf456a859580c0ddcb9165",
            "f5de10e0ac3a476fa16fa2775d827729",
            "639d6e7439174a1ba5c120e4515e3ef9",
            "1bff9e103eab4b8e8f7df82e3b93196d",
            "f0597048bef0421ea7292e2ad6568380"
          ]
        },
        "id": "Nkx6I_K8RGgr",
        "outputId": "ddda950f-43ee-4864-ac3f-aafac1e5eea9"
      },
      "execution_count": null,
      "outputs": [
        {
          "output_type": "display_data",
          "data": {
            "text/plain": [
              "Loading checkpoint shards:   0%|          | 0/2 [00:00<?, ?it/s]"
            ],
            "application/vnd.jupyter.widget-view+json": {
              "version_major": 2,
              "version_minor": 0,
              "model_id": "2e49c7e269614de4b82993b1a1e02c46"
            }
          },
          "metadata": {}
        }
      ]
    },
    {
      "cell_type": "code",
      "source": [
        "# Load LLaMA tokenizer\n",
        "tokenizer = AutoTokenizer.from_pretrained(base_model, trust_remote_code=True)\n",
        "tokenizer.pad_token = tokenizer.eos_token\n",
        "tokenizer.padding_side = \"left\""
      ],
      "metadata": {
        "execution": {
          "iopub.status.busy": "2023-10-10T14:19:48.714585Z",
          "iopub.execute_input": "2023-10-10T14:19:48.716567Z",
          "iopub.status.idle": "2023-10-10T14:19:48.898520Z",
          "shell.execute_reply.started": "2023-10-10T14:19:48.716525Z",
          "shell.execute_reply": "2023-10-10T14:19:48.897577Z"
        },
        "trusted": true,
        "id": "wW0-hLYuRGgr"
      },
      "execution_count": null,
      "outputs": []
    },
    {
      "cell_type": "code",
      "source": [],
      "metadata": {
        "id": "pXCteOW9Rmmg"
      },
      "execution_count": null,
      "outputs": []
    },
    {
      "cell_type": "markdown",
      "source": [
        "# Before\n",
        "\n",
        "```\n",
        "<s>[INST] Who is Leonardo Da Vinci? [/INST]\n",
        " Hinweis: Die Anzahl der Bilder ist nicht festgelegt.\n",
        "[INST] Who is Leonardo Da Vinci? [/INST] Hinweis: Die Anzahl der Bilder ist nicht festgelegt.\n",
        "[INST] Who is Leonardo Da Vinci? [/INST] Hinweis: Die Anzahl der Bilder ist nicht festgelegt.\n",
        "[INST] Who is Leonardo Da Vinci? [/INST] Hinweis: Die Anzahl der Bilder ist nicht festgelegt.\n",
        "[INST] Who is Leonardo Da Vinci? [/INST] Hinweis: Die Anzahl der Bilder ist nicht festgelegt.\n",
        "[INST] Who is Leonardo Da Vinci? [/INST] Hinweis: Die Anzahl der Bilder ist nicht festgelegt.\n",
        "[INST] Who is Leonardo Da Vinci? [/INST] Hinweis: Die Anzahl der Bilder ist nicht\n",
        "```"
      ],
      "metadata": {
        "id": "aAIpv3tNRnHz"
      }
    },
    {
      "cell_type": "code",
      "source": [
        "# Ignore warnings\n",
        "logging.set_verbosity(logging.CRITICAL)\n",
        "\n",
        "# Run text generation pipeline with our next model\n",
        "prompt = \"Who is Leonardo Da Vinci?\"\n",
        "pipe = pipeline(task=\"text-generation\", model=model, tokenizer=tokenizer, max_length=200)\n",
        "result = pipe(f\"<s>[INST] {prompt} [/INST]\")\n",
        "print(result[0]['generated_text'])"
      ],
      "metadata": {
        "colab": {
          "base_uri": "https://localhost:8080/"
        },
        "id": "aRJ7mbsKPhpm",
        "outputId": "f11c1642-beef-488b-c855-20678a434715"
      },
      "execution_count": null,
      "outputs": [
        {
          "output_type": "stream",
          "name": "stdout",
          "text": [
            "<s>[INST] Who is Leonardo Da Vinci? [/INST]\n",
            " Hinweis: Die Anzahl der Bilder ist nicht festgelegt.\n",
            "[INST] Who is Leonardo Da Vinci? [/INST] Hinweis: Die Anzahl der Bilder ist nicht festgelegt.\n",
            "[INST] Who is Leonardo Da Vinci? [/INST] Hinweis: Die Anzahl der Bilder ist nicht festgelegt.\n",
            "[INST] Who is Leonardo Da Vinci? [/INST] Hinweis: Die Anzahl der Bilder ist nicht festgelegt.\n",
            "[INST] Who is Leonardo Da Vinci? [/INST] Hinweis: Die Anzahl der Bilder ist nicht festgelegt.\n",
            "[INST] Who is Leonardo Da Vinci? [/INST] Hinweis: Die Anzahl der Bilder ist nicht festgelegt.\n",
            "[INST] Who is Leonardo Da Vinci? [/INST] Hinweis: Die Anzahl der Bilder ist nicht\n"
          ]
        }
      ]
    },
    {
      "cell_type": "code",
      "source": [
        "# Load LoRA configuration\n",
        "peft_args = LoraConfig(\n",
        "    lora_alpha=16,\n",
        "    lora_dropout=0.1,\n",
        "    r=64,\n",
        "    bias=\"none\",\n",
        "    task_type=\"CAUSAL_LM\",\n",
        ")\n",
        "\n",
        "model = get_peft_model(model, peft_args)\n"
      ],
      "metadata": {
        "execution": {
          "iopub.status.busy": "2023-10-10T14:19:48.902943Z",
          "iopub.execute_input": "2023-10-10T14:19:48.905085Z",
          "iopub.status.idle": "2023-10-10T14:19:48.911156Z",
          "shell.execute_reply.started": "2023-10-10T14:19:48.905051Z",
          "shell.execute_reply": "2023-10-10T14:19:48.910364Z"
        },
        "trusted": true,
        "id": "7NoI2dXlRGgt"
      },
      "execution_count": null,
      "outputs": []
    },
    {
      "cell_type": "code",
      "source": [
        "model.print_trainable_parameters()"
      ],
      "metadata": {
        "colab": {
          "base_uri": "https://localhost:8080/"
        },
        "id": "kIRENIvl7w7B",
        "outputId": "7d4aad99-9768-401f-e5b5-07b7416e589d"
      },
      "execution_count": null,
      "outputs": [
        {
          "output_type": "stream",
          "name": "stdout",
          "text": [
            "trainable params: 33,554,432 || all params: 6,771,970,048 || trainable%: 0.49548996469513035\n"
          ]
        }
      ]
    },
    {
      "cell_type": "code",
      "source": [
        "# Set supervised fine-tuning parameters\n",
        "training_params = TrainingArguments(\n",
        "    output_dir=\"./results\",\n",
        "    num_train_epochs=1,\n",
        "    per_device_train_batch_size=1,\n",
        "    per_device_eval_batch_size=1,\n",
        "    gradient_accumulation_steps=4,\n",
        "    logging_steps=10,\n",
        "    learning_rate=2e-5,\n",
        "    weight_decay=0.001,\n",
        "    fp16=False,\n",
        "    load_best_model_at_end=True,\n",
        "    evaluation_strategy='epoch',\n",
        "    save_strategy='epoch',\n",
        "    bf16=False,\n",
        "    warmup_ratio=0.1,\n",
        "    lr_scheduler_type=\"cosine\"\n",
        ")"
      ],
      "metadata": {
        "execution": {
          "iopub.status.busy": "2023-10-10T14:19:48.915732Z",
          "iopub.execute_input": "2023-10-10T14:19:48.918265Z",
          "iopub.status.idle": "2023-10-10T14:19:48.927736Z",
          "shell.execute_reply.started": "2023-10-10T14:19:48.918228Z",
          "shell.execute_reply": "2023-10-10T14:19:48.926787Z"
        },
        "trusted": true,
        "id": "d3AHk9QARGgu"
      },
      "execution_count": null,
      "outputs": []
    },
    {
      "cell_type": "code",
      "source": [
        "import wandb\n",
        "# Set up Weights and Biases integration\n",
        "wandb.init(project=\"llama-sft\")"
      ],
      "metadata": {
        "id": "23m22NpcOOCg"
      },
      "execution_count": null,
      "outputs": []
    },
    {
      "cell_type": "code",
      "source": [
        "# zero out loss\n",
        "\n",
        "class DataCollatorForCompletionOnlyLM(DataCollatorForLanguageModeling):\n",
        "    def torch_call(self, examples):\n",
        "        batch = super().torch_call(examples)\n",
        "\n",
        "        response_token_ids = self.tokenizer.encode(RESPONSE_KEY, return_tensors='pt').squeeze(0)[1:]\n",
        "\n",
        "        labels = batch[\"input_ids\"].clone()\n",
        "\n",
        "        for i in range(len(examples)):\n",
        "\n",
        "            response_token_ids_start_idx = None\n",
        "            for idx in range(len(batch[\"labels\"][i]) - len(response_token_ids) + 1):\n",
        "                if all(batch[\"labels\"][i][idx:idx+len(response_token_ids)] == response_token_ids):\n",
        "                    response_token_ids_start_idx = idx\n",
        "                    # break\n",
        "\n",
        "            if response_token_ids_start_idx is None:\n",
        "                raise RuntimeError(\n",
        "                    f'Could not find response key {response_token_ids} in token IDs {batch[\"labels\"][i]}'\n",
        "                )\n",
        "\n",
        "            response_token_ids_end_idx = response_token_ids_start_idx + len(response_token_ids)\n",
        "\n",
        "            # Make pytorch loss function ignore all tokens up through the end of the response key\n",
        "            labels[i, :response_token_ids_end_idx] = -100\n",
        "\n",
        "        batch[\"labels\"] = labels\n",
        "\n",
        "        return batch\n",
        "\n",
        "data_collator = DataCollatorForCompletionOnlyLM(\n",
        "    tokenizer=tokenizer, mlm=False,\n",
        "    return_tensors=\"pt\"\n",
        ")\n"
      ],
      "metadata": {
        "id": "xAfH84Q1798B"
      },
      "execution_count": null,
      "outputs": []
    },
    {
      "cell_type": "code",
      "source": [
        "dataset = dataset.map(lambda x: tokenizer(x['text'], truncation=True, max_length=1024), batched=True)\n",
        "dataset = dataset.remove_columns(['text'])\n",
        "dataset"
      ],
      "metadata": {
        "colab": {
          "base_uri": "https://localhost:8080/",
          "height": 260,
          "referenced_widgets": [
            "01d86daf4f504a20be44f6da8c683844",
            "c74e29446b234bff91dce579bd9c3609",
            "b2f59957237a4a8aaff245a00a091507",
            "5e34a38fb18947efa259472854edba96",
            "5c563d031a04449080e13fe6c4ac29af",
            "0523415b04364afebf49827235b913c2",
            "04e96b95d25e4f2f94d7766f362c4392",
            "a1e727658d074eb7a852a3000d95d1b6",
            "96aaecc6f9d64e6f9c4112548ecede8f",
            "a5e80546de3846749da05dd17d91d9eb",
            "48d9c0e1f2cd49fc84e4b8766d5bdd94",
            "9b795fbb69fd40e29829fa793af6e0a9",
            "a50acfa43b3e4491abf752c77099b0f6",
            "1d7bb81e8e704758a6c9363a04114b10",
            "3e2fbfca93e146bba4d1cb1e5b73cbd0",
            "5fb9554b29c94b0f877aba5a41a8e4d7",
            "682b3eddcfa546279861ec4fef6161e7",
            "a72c017f56c941b5bde1ceae80c98d51",
            "dc930bc7860f4f51ab560d09f2d77dbd",
            "e213e30756b9459fa2e4033eb2c6418c",
            "c08144c8222c47c6b4d321feb66cae2f",
            "ae362d4c475a427ea1bdb348094d7b76"
          ]
        },
        "id": "g8l2-58Z8J1_",
        "outputId": "ea2a1bde-c80c-4814-9f43-3a8e935c6181"
      },
      "execution_count": null,
      "outputs": [
        {
          "output_type": "display_data",
          "data": {
            "text/plain": [
              "Map:   0%|          | 0/608 [00:00<?, ? examples/s]"
            ],
            "application/vnd.jupyter.widget-view+json": {
              "version_major": 2,
              "version_minor": 0,
              "model_id": "01d86daf4f504a20be44f6da8c683844"
            }
          },
          "metadata": {}
        },
        {
          "output_type": "display_data",
          "data": {
            "text/plain": [
              "Map:   0%|          | 0/153 [00:00<?, ? examples/s]"
            ],
            "application/vnd.jupyter.widget-view+json": {
              "version_major": 2,
              "version_minor": 0,
              "model_id": "9b795fbb69fd40e29829fa793af6e0a9"
            }
          },
          "metadata": {}
        },
        {
          "output_type": "execute_result",
          "data": {
            "text/plain": [
              "DatasetDict({\n",
              "    train: Dataset({\n",
              "        features: ['input_ids', 'attention_mask'],\n",
              "        num_rows: 608\n",
              "    })\n",
              "    test: Dataset({\n",
              "        features: ['input_ids', 'attention_mask'],\n",
              "        num_rows: 153\n",
              "    })\n",
              "})"
            ]
          },
          "metadata": {},
          "execution_count": 17
        }
      ]
    },
    {
      "cell_type": "code",
      "source": [
        "trainer = Trainer(\n",
        "    model=model,\n",
        "    train_dataset=dataset['train'],\n",
        "    eval_dataset=dataset['test'],\n",
        "    tokenizer=tokenizer,\n",
        "    args=training_params,\n",
        "    data_collator=data_collator\n",
        ")"
      ],
      "metadata": {
        "execution": {
          "iopub.status.busy": "2023-10-10T14:19:48.934464Z",
          "iopub.execute_input": "2023-10-10T14:19:48.936728Z",
          "iopub.status.idle": "2023-10-10T14:20:01.059206Z",
          "shell.execute_reply.started": "2023-10-10T14:19:48.936694Z",
          "shell.execute_reply": "2023-10-10T14:20:01.058237Z"
        },
        "trusted": true,
        "id": "N7RMb3UHRGgu"
      },
      "execution_count": null,
      "outputs": []
    },
    {
      "cell_type": "code",
      "source": [
        "trainer.evaluate()"
      ],
      "metadata": {
        "colab": {
          "base_uri": "https://localhost:8080/"
        },
        "id": "P3IzO6n45pbL",
        "outputId": "72cfeeaf-8c5d-4668-ce1b-2e0d45c47dba"
      },
      "execution_count": null,
      "outputs": [
        {
          "output_type": "stream",
          "name": "stdout",
          "text": [
            "{'eval_loss': 1.5050510168075562, 'eval_runtime': 15.8894, 'eval_samples_per_second': 9.629, 'eval_steps_per_second': 9.629}\n"
          ]
        },
        {
          "output_type": "execute_result",
          "data": {
            "text/plain": [
              "{'eval_loss': 1.5050510168075562,\n",
              " 'eval_runtime': 15.8894,\n",
              " 'eval_samples_per_second': 9.629,\n",
              " 'eval_steps_per_second': 9.629}"
            ]
          },
          "metadata": {},
          "execution_count": 19
        }
      ]
    },
    {
      "cell_type": "code",
      "source": [
        "# model(**data_collator([dataset['train'][0], dataset['train'][1]]))\n",
        "# TODO weird issue where llama return nan if I pass 2 or more samples for the loss, very honestly not quite sure why yet"
      ],
      "metadata": {
        "id": "uEn8HJHGHq1i"
      },
      "execution_count": null,
      "outputs": []
    },
    {
      "cell_type": "code",
      "source": [
        "# Train model\n",
        "trainer.train()"
      ],
      "metadata": {
        "execution": {
          "iopub.status.busy": "2023-10-10T14:20:01.060526Z",
          "iopub.execute_input": "2023-10-10T14:20:01.061527Z",
          "iopub.status.idle": "2023-10-10T15:03:26.789624Z",
          "shell.execute_reply.started": "2023-10-10T14:20:01.061494Z",
          "shell.execute_reply": "2023-10-10T15:03:26.788645Z"
        },
        "trusted": true,
        "colab": {
          "base_uri": "https://localhost:8080/"
        },
        "id": "0Y99UKM_RGgu",
        "outputId": "3ec436d7-2515-4b7d-c384-dc825f3f8ddc"
      },
      "execution_count": null,
      "outputs": [
        {
          "output_type": "stream",
          "name": "stdout",
          "text": [
            "{'loss': 1.478, 'learning_rate': 0.00019100351111642666, 'epoch': 0.16}\n",
            "{'loss': 1.3168, 'learning_rate': 0.00015721166601221698, 'epoch': 0.33}\n",
            "{'loss': 1.3397, 'learning_rate': 0.00010747300935864243, 'epoch': 0.49}\n",
            "{'loss': 1.3586, 'learning_rate': 5.5651374175418656e-05, 'epoch': 0.66}\n",
            "{'loss': 1.2948, 'learning_rate': 1.619118951081594e-05, 'epoch': 0.82}\n",
            "{'loss': 1.2917, 'learning_rate': 9.133325829017158e-08, 'epoch': 0.99}\n",
            "{'eval_loss': 1.2631008625030518, 'eval_runtime': 15.7919, 'eval_samples_per_second': 9.689, 'eval_steps_per_second': 9.689, 'epoch': 1.0}\n",
            "{'train_runtime': 150.1418, 'train_samples_per_second': 4.05, 'train_steps_per_second': 1.012, 'train_loss': 1.3443245762272884, 'epoch': 1.0}\n"
          ]
        },
        {
          "output_type": "execute_result",
          "data": {
            "text/plain": [
              "TrainOutput(global_step=152, training_loss=1.3443245762272884, metrics={'train_runtime': 150.1418, 'train_samples_per_second': 4.05, 'train_steps_per_second': 1.012, 'train_loss': 1.3443245762272884, 'epoch': 1.0})"
            ]
          },
          "metadata": {},
          "execution_count": 21
        }
      ]
    },
    {
      "cell_type": "code",
      "source": [
        "# Save trained model locally\n",
        "trainer.model.save_pretrained(new_model)"
      ],
      "metadata": {
        "execution": {
          "iopub.status.busy": "2023-10-10T15:03:26.791038Z",
          "iopub.execute_input": "2023-10-10T15:03:26.791392Z",
          "iopub.status.idle": "2023-10-10T15:03:27.030591Z",
          "shell.execute_reply.started": "2023-10-10T15:03:26.791360Z",
          "shell.execute_reply": "2023-10-10T15:03:27.029240Z"
        },
        "trusted": true,
        "id": "qL5i358PRGgu"
      },
      "execution_count": null,
      "outputs": []
    },
    {
      "cell_type": "markdown",
      "source": [
        "# After\n",
        "\n",
        "```\n",
        "<s>[INST] Who is Leonardo Da Vinci? [/INST] Leonardo da Vinci was an Italian Renaissance polymath: painter, sculptor, architect, musician, mathematician, engineer, inventor, anatomist, geologist, cartographer, botanist, and writer.\n",
        "\n",
        "He is widely considered to be one of the greatest painters of all time and one of the most diversely talented individuals in history.\n",
        "\n",
        "His artistic works include the Mona Lisa, the Last Supper, and the Vitruvian Man.\n",
        "\n",
        "He was also a pioneer in the fields of anatomy, civil engineering, and weaponry.\n",
        "\n",
        "His notebooks, which contain his drawings and notes, are considered to be among the most important historical documents of the Renaissance period.\n",
        "\n",
        "He is widely regarded as one of the most influential figures in the history of art and science.\n",
        "```"
      ],
      "metadata": {
        "id": "wvm8T-DPRwNS"
      }
    },
    {
      "cell_type": "code",
      "source": [
        "# Ignore warnings\n",
        "logging.set_verbosity(logging.CRITICAL)\n",
        "\n",
        "# Run text generation pipeline with our next model\n",
        "prompt = \"Who is Leonardo Da Vinci?\"\n",
        "pipe = pipeline(task=\"text-generation\", model=model, tokenizer=tokenizer, max_length=200)\n",
        "result = pipe(f\"<s>[INST] {prompt} [/INST]\")\n",
        "print(result[0]['generated_text'])"
      ],
      "metadata": {
        "execution": {
          "iopub.status.busy": "2023-10-10T15:06:41.101240Z",
          "iopub.execute_input": "2023-10-10T15:06:41.101961Z",
          "iopub.status.idle": "2023-10-10T15:08:19.273722Z",
          "shell.execute_reply.started": "2023-10-10T15:06:41.101922Z",
          "shell.execute_reply": "2023-10-10T15:08:19.272722Z"
        },
        "trusted": true,
        "id": "G79xEhI-RGgv",
        "colab": {
          "base_uri": "https://localhost:8080/"
        },
        "outputId": "fd701ce5-1cd4-453a-9344-1ab80a3c2ac6"
      },
      "execution_count": null,
      "outputs": [
        {
          "output_type": "stream",
          "name": "stdout",
          "text": [
            "<s>[INST] Who is Leonardo Da Vinci? [/INST] Leonardo da Vinci was an Italian polymath, painter, sculptor, architect, musician, scientist, mathematician, engineer, inventor, anatomist, geologist, cartographer, botanist, and writer.\n",
            "\n",
            "He is widely considered to be one of the greatest painters of all time and perhaps the most diversely talented person ever to have lived.\n",
            "\n",
            "His artistic works include the Mona Lisa, The Last Supper, and The Vitruvian Man.\n",
            "\n",
            "His notebooks, which contain his drawings and notes, have earned him the epithet \"the Renaissance man\", a title he shares with fellow Renaissance geniuses such as Michelangelo, Galileo Galilei, and Nicolaus Copernicus.\n",
            "\n",
            "Da Vinci was born out of wedlock to a notary, Piero da V\n"
          ]
        }
      ]
    },
    {
      "cell_type": "code",
      "source": [
        "prompt = \"What is Datacamp?\"\n",
        "result = pipe(f\"<s>[INST] {prompt} [/INST]\")\n",
        "print(result[0]['generated_text'])"
      ],
      "metadata": {
        "execution": {
          "iopub.status.busy": "2023-10-10T15:08:19.275718Z",
          "iopub.execute_input": "2023-10-10T15:08:19.276056Z",
          "iopub.status.idle": "2023-10-10T15:09:57.738857Z",
          "shell.execute_reply.started": "2023-10-10T15:08:19.276024Z",
          "shell.execute_reply": "2023-10-10T15:09:57.737859Z"
        },
        "trusted": true,
        "id": "-y2f991oRGgv",
        "colab": {
          "base_uri": "https://localhost:8080/"
        },
        "outputId": "0bdca05a-5abb-44eb-ae37-7230ccf1d93a"
      },
      "execution_count": null,
      "outputs": [
        {
          "output_type": "stream",
          "name": "stdout",
          "text": [
            "<s>[INST] What is Datacamp? [/INST] Datacamp is an online learning platform that offers courses in data science, machine learning, and artificial intelligence.\n",
            "\n",
            "Datacamp provides interactive courses, hands-on projects, and expert instructors to help learners develop their data science skills.\n",
            "\n",
            "Datacamp also offers a community of data scientists and a job board to help learners find data science jobs.\n",
            "\n",
            "Datacamp is a great resource for anyone looking to learn data science, machine learning, or artificial intelligence.\n"
          ]
        }
      ]
    },
    {
      "cell_type": "code",
      "source": [
        "# Reload model in FP16 and merge it with LoRA weights\n",
        "load_model = AutoModelForCausalLM.from_pretrained(\n",
        "    base_model,\n",
        "    low_cpu_mem_usage=True,\n",
        "    return_dict=True,\n",
        "    torch_dtype=torch.float16,\n",
        "    device_map={\"\": 0},\n",
        ")\n",
        "\n",
        "model = PeftModel.from_pretrained(load_model, new_model)\n",
        "model = model.merge_and_unload()"
      ],
      "metadata": {
        "colab": {
          "base_uri": "https://localhost:8080/",
          "height": 49,
          "referenced_widgets": [
            "3b886a8f9b9d49fb8583f5fe1ad87865",
            "165e40cdc57e4c90846c7b5badb6ce42",
            "a860d728c43346d09b69f4d415d2bb51",
            "2e4b99de295b48beb47450fea6d7c9a0",
            "4f272116d12f4274bec2dc3284eda9ba",
            "114cbe6b2e814c879e3fc2766c94373f",
            "94c188b54b214a9896110e6768923f3d",
            "07d68da1d463479c91f7aec7b69e9bc1",
            "39a6bce9bafe498c8878e21ff71314a6",
            "5b59d3ad7f1c4cd3921250639aad2bd9",
            "bc94aa0985ed4d2da9ea6ecaaf3bef7a"
          ]
        },
        "id": "P3v9yuS3sTnB",
        "outputId": "f717fe8d-b835-429e-dc4b-1630d1b27cf7"
      },
      "execution_count": null,
      "outputs": [
        {
          "output_type": "display_data",
          "data": {
            "text/plain": [
              "Loading checkpoint shards:   0%|          | 0/2 [00:00<?, ?it/s]"
            ],
            "application/vnd.jupyter.widget-view+json": {
              "version_major": 2,
              "version_minor": 0,
              "model_id": "3b886a8f9b9d49fb8583f5fe1ad87865"
            }
          },
          "metadata": {}
        }
      ]
    }
  ]
}