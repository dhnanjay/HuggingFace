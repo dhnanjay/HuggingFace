{
  "cells": [
    {
      "cell_type": "markdown",
      "metadata": {
        "id": "view-in-github",
        "colab_type": "text"
      },
      "source": [
        "<a href=\"https://colab.research.google.com/github/dhnanjay/HuggingFace/blob/main/10k_Analysis.ipynb\" target=\"_parent\"><img src=\"https://colab.research.google.com/assets/colab-badge.svg\" alt=\"Open In Colab\"/></a>"
      ]
    },
    {
      "cell_type": "code",
      "source": [
        "!pip install llama-index<0.6.0"
      ],
      "metadata": {
        "colab": {
          "base_uri": "https://localhost:8080/"
        },
        "id": "VzpGEMJsauHh",
        "outputId": "ac09c9c5-a9fb-4ab3-de09-9485ae1c3aeb"
      },
      "id": "VzpGEMJsauHh",
      "execution_count": null,
      "outputs": [
        {
          "output_type": "stream",
          "name": "stdout",
          "text": [
            "Looking in indexes: https://pypi.org/simple, https://us-python.pkg.dev/colab-wheels/public/simple/\n",
            "Collecting llama-index\n",
            "  Downloading llama_index-0.4.29.tar.gz (140 kB)\n",
            "\u001b[2K     \u001b[90m━━━━━━━━━━━━━━━━━━━━━━━━━━━━━━━━━━━━━━━\u001b[0m \u001b[32m140.7/140.7 KB\u001b[0m \u001b[31m3.0 MB/s\u001b[0m eta \u001b[36m0:00:00\u001b[0m\n",
            "\u001b[?25h  Preparing metadata (setup.py) ... \u001b[?25l\u001b[?25hdone\n",
            "Collecting dataclasses_json\n",
            "  Downloading dataclasses_json-0.5.7-py3-none-any.whl (25 kB)\n",
            "Collecting langchain\n",
            "  Downloading langchain-0.0.115-py3-none-any.whl (404 kB)\n",
            "\u001b[2K     \u001b[90m━━━━━━━━━━━━━━━━━━━━━━━━━━━━━━━━━━━━━━\u001b[0m \u001b[32m404.3/404.3 KB\u001b[0m \u001b[31m17.8 MB/s\u001b[0m eta \u001b[36m0:00:00\u001b[0m\n",
            "\u001b[?25hRequirement already satisfied: numpy in /usr/local/lib/python3.9/dist-packages (from llama-index) (1.22.4)\n",
            "Requirement already satisfied: tenacity<9.0.0,>=8.2.0 in /usr/local/lib/python3.9/dist-packages (from llama-index) (8.2.2)\n",
            "Collecting openai>=0.26.4\n",
            "  Downloading openai-0.27.2-py3-none-any.whl (70 kB)\n",
            "\u001b[2K     \u001b[90m━━━━━━━━━━━━━━━━━━━━━━━━━━━━━━━━━━━━━━━━\u001b[0m \u001b[32m70.1/70.1 KB\u001b[0m \u001b[31m2.8 MB/s\u001b[0m eta \u001b[36m0:00:00\u001b[0m\n",
            "\u001b[?25hRequirement already satisfied: pandas in /usr/local/lib/python3.9/dist-packages (from llama-index) (1.4.4)\n",
            "Collecting tiktoken\n",
            "  Downloading tiktoken-0.3.2-cp39-cp39-manylinux_2_17_x86_64.manylinux2014_x86_64.whl (1.7 MB)\n",
            "\u001b[2K     \u001b[90m━━━━━━━━━━━━━━━━━━━━━━━━━━━━━━━━━━━━━━━━\u001b[0m \u001b[32m1.7/1.7 MB\u001b[0m \u001b[31m18.5 MB/s\u001b[0m eta \u001b[36m0:00:00\u001b[0m\n",
            "\u001b[?25hRequirement already satisfied: tqdm in /usr/local/lib/python3.9/dist-packages (from openai>=0.26.4->llama-index) (4.65.0)\n",
            "Requirement already satisfied: requests>=2.20 in /usr/local/lib/python3.9/dist-packages (from openai>=0.26.4->llama-index) (2.27.1)\n",
            "Collecting aiohttp\n",
            "  Downloading aiohttp-3.8.4-cp39-cp39-manylinux_2_17_x86_64.manylinux2014_x86_64.whl (1.0 MB)\n",
            "\u001b[2K     \u001b[90m━━━━━━━━━━━━━━━━━━━━━━━━━━━━━━━━━━━━━━━━\u001b[0m \u001b[32m1.0/1.0 MB\u001b[0m \u001b[31m7.3 MB/s\u001b[0m eta \u001b[36m0:00:00\u001b[0m\n",
            "\u001b[?25hCollecting marshmallow<4.0.0,>=3.3.0\n",
            "  Downloading marshmallow-3.19.0-py3-none-any.whl (49 kB)\n",
            "\u001b[2K     \u001b[90m━━━━━━━━━━━━━━━━━━━━━━━━━━━━━━━━━━━━━━━━\u001b[0m \u001b[32m49.1/49.1 KB\u001b[0m \u001b[31m1.9 MB/s\u001b[0m eta \u001b[36m0:00:00\u001b[0m\n",
            "\u001b[?25hCollecting typing-inspect>=0.4.0\n",
            "  Downloading typing_inspect-0.8.0-py3-none-any.whl (8.7 kB)\n",
            "Collecting marshmallow-enum<2.0.0,>=1.5.1\n",
            "  Downloading marshmallow_enum-1.5.1-py2.py3-none-any.whl (4.2 kB)\n",
            "Requirement already satisfied: SQLAlchemy<2,>=1 in /usr/local/lib/python3.9/dist-packages (from langchain->llama-index) (1.4.46)\n",
            "Requirement already satisfied: PyYAML>=5.4.1 in /usr/local/lib/python3.9/dist-packages (from langchain->llama-index) (6.0)\n",
            "Requirement already satisfied: pydantic<2,>=1 in /usr/local/lib/python3.9/dist-packages (from langchain->llama-index) (1.10.6)\n",
            "Requirement already satisfied: python-dateutil>=2.8.1 in /usr/local/lib/python3.9/dist-packages (from pandas->llama-index) (2.8.2)\n",
            "Requirement already satisfied: pytz>=2020.1 in /usr/local/lib/python3.9/dist-packages (from pandas->llama-index) (2022.7.1)\n",
            "Requirement already satisfied: regex>=2022.1.18 in /usr/local/lib/python3.9/dist-packages (from tiktoken->llama-index) (2022.10.31)\n",
            "Collecting async-timeout<5.0,>=4.0.0a3\n",
            "  Downloading async_timeout-4.0.2-py3-none-any.whl (5.8 kB)\n",
            "Requirement already satisfied: charset-normalizer<4.0,>=2.0 in /usr/local/lib/python3.9/dist-packages (from aiohttp->openai>=0.26.4->llama-index) (2.0.12)\n",
            "Collecting frozenlist>=1.1.1\n",
            "  Downloading frozenlist-1.3.3-cp39-cp39-manylinux_2_5_x86_64.manylinux1_x86_64.manylinux_2_17_x86_64.manylinux2014_x86_64.whl (158 kB)\n",
            "\u001b[2K     \u001b[90m━━━━━━━━━━━━━━━━━━━━━━━━━━━━━━━━━━━━━━━\u001b[0m \u001b[32m158.8/158.8 KB\u001b[0m \u001b[31m4.9 MB/s\u001b[0m eta \u001b[36m0:00:00\u001b[0m\n",
            "\u001b[?25hCollecting multidict<7.0,>=4.5\n",
            "  Downloading multidict-6.0.4-cp39-cp39-manylinux_2_17_x86_64.manylinux2014_x86_64.whl (114 kB)\n",
            "\u001b[2K     \u001b[90m━━━━━━━━━━━━━━━━━━━━━━━━━━━━━━━━━━━━━━━\u001b[0m \u001b[32m114.2/114.2 KB\u001b[0m \u001b[31m2.5 MB/s\u001b[0m eta \u001b[36m0:00:00\u001b[0m\n",
            "\u001b[?25hCollecting aiosignal>=1.1.2\n",
            "  Downloading aiosignal-1.3.1-py3-none-any.whl (7.6 kB)\n",
            "Requirement already satisfied: attrs>=17.3.0 in /usr/local/lib/python3.9/dist-packages (from aiohttp->openai>=0.26.4->llama-index) (22.2.0)\n",
            "Collecting yarl<2.0,>=1.0\n",
            "  Downloading yarl-1.8.2-cp39-cp39-manylinux_2_17_x86_64.manylinux2014_x86_64.whl (264 kB)\n",
            "\u001b[2K     \u001b[90m━━━━━━━━━━━━━━━━━━━━━━━━━━━━━━━━━━━━━━\u001b[0m \u001b[32m264.6/264.6 KB\u001b[0m \u001b[31m13.1 MB/s\u001b[0m eta \u001b[36m0:00:00\u001b[0m\n",
            "\u001b[?25hRequirement already satisfied: packaging>=17.0 in /usr/local/lib/python3.9/dist-packages (from marshmallow<4.0.0,>=3.3.0->dataclasses_json->llama-index) (23.0)\n",
            "Requirement already satisfied: typing-extensions>=4.2.0 in /usr/local/lib/python3.9/dist-packages (from pydantic<2,>=1->langchain->llama-index) (4.5.0)\n",
            "Requirement already satisfied: six>=1.5 in /usr/local/lib/python3.9/dist-packages (from python-dateutil>=2.8.1->pandas->llama-index) (1.15.0)\n",
            "Requirement already satisfied: certifi>=2017.4.17 in /usr/local/lib/python3.9/dist-packages (from requests>=2.20->openai>=0.26.4->llama-index) (2022.12.7)\n",
            "Requirement already satisfied: urllib3<1.27,>=1.21.1 in /usr/local/lib/python3.9/dist-packages (from requests>=2.20->openai>=0.26.4->llama-index) (1.26.15)\n",
            "Requirement already satisfied: idna<4,>=2.5 in /usr/local/lib/python3.9/dist-packages (from requests>=2.20->openai>=0.26.4->llama-index) (3.4)\n",
            "Requirement already satisfied: greenlet!=0.4.17 in /usr/local/lib/python3.9/dist-packages (from SQLAlchemy<2,>=1->langchain->llama-index) (2.0.2)\n",
            "Collecting mypy-extensions>=0.3.0\n",
            "  Downloading mypy_extensions-1.0.0-py3-none-any.whl (4.7 kB)\n",
            "Building wheels for collected packages: llama-index\n",
            "  Building wheel for llama-index (setup.py) ... \u001b[?25l\u001b[?25hdone\n",
            "  Created wheel for llama-index: filename=llama_index-0.4.29-py3-none-any.whl size=207575 sha256=979936f3b65eb3c8fb8278a3b6a89b2513c054a9cb89257cc3dd3e6215febdf8\n",
            "  Stored in directory: /root/.cache/pip/wheels/7e/3a/11/04d7ff1568bcf200ddf1c7124589ac943a4061c7de040448d4\n",
            "Successfully built llama-index\n",
            "Installing collected packages: mypy-extensions, multidict, marshmallow, frozenlist, async-timeout, yarl, typing-inspect, tiktoken, marshmallow-enum, aiosignal, dataclasses_json, aiohttp, openai, langchain, llama-index\n",
            "Successfully installed aiohttp-3.8.4 aiosignal-1.3.1 async-timeout-4.0.2 dataclasses_json-0.5.7 frozenlist-1.3.3 langchain-0.0.115 llama-index-0.4.29 marshmallow-3.19.0 marshmallow-enum-1.5.1 multidict-6.0.4 mypy-extensions-1.0.0 openai-0.27.2 tiktoken-0.3.2 typing-inspect-0.8.0 yarl-1.8.2\n"
          ]
        }
      ]
    },
    {
      "cell_type": "code",
      "source": [
        "# download files\n",
        "!mkdir data\n",
        "!wget https://www.dropbox.com/s/948jr9cfs7fgj99/UBER.zip?dl=1 -O data/UBER.zip\n",
        "!unzip data/UBER.zip -d data"
      ],
      "metadata": {
        "colab": {
          "base_uri": "https://localhost:8080/"
        },
        "id": "YC4R6nkCp91d",
        "outputId": "7c0aae0a-3007-491e-b450-5bed58c85c7d"
      },
      "id": "YC4R6nkCp91d",
      "execution_count": 1,
      "outputs": [
        {
          "output_type": "stream",
          "name": "stdout",
          "text": [
            "--2023-06-02 20:07:12--  https://www.dropbox.com/s/948jr9cfs7fgj99/UBER.zip?dl=1\n",
            "Resolving www.dropbox.com (www.dropbox.com)... 162.125.5.18, 2620:100:601d:18::a27d:512\n",
            "Connecting to www.dropbox.com (www.dropbox.com)|162.125.5.18|:443... connected.\n",
            "HTTP request sent, awaiting response... 302 Found\n",
            "Location: /s/dl/948jr9cfs7fgj99/UBER.zip [following]\n",
            "--2023-06-02 20:07:12--  https://www.dropbox.com/s/dl/948jr9cfs7fgj99/UBER.zip\n",
            "Reusing existing connection to www.dropbox.com:443.\n",
            "HTTP request sent, awaiting response... 302 Found\n",
            "Location: https://uc33d76341c5f554ba8a75d40a35.dl.dropboxusercontent.com/cd/0/get/B9OaU0YETvUJ5HefhJCfACRBXSnN7rwOTcLtNpv1HkVEfxjsMIJufsGqFQ2CxpaBAUaQ3yW085Wr1EVAW5X_EmPI4QC3kV-EPd0xbL25msL6CZQsc1pp6-ypw4606alrJbFoO6JJwGNX33HV_q9JfRc3wsl7vKH7rEVgsN1m39ijUQ/file?dl=1# [following]\n",
            "--2023-06-02 20:07:13--  https://uc33d76341c5f554ba8a75d40a35.dl.dropboxusercontent.com/cd/0/get/B9OaU0YETvUJ5HefhJCfACRBXSnN7rwOTcLtNpv1HkVEfxjsMIJufsGqFQ2CxpaBAUaQ3yW085Wr1EVAW5X_EmPI4QC3kV-EPd0xbL25msL6CZQsc1pp6-ypw4606alrJbFoO6JJwGNX33HV_q9JfRc3wsl7vKH7rEVgsN1m39ijUQ/file?dl=1\n",
            "Resolving uc33d76341c5f554ba8a75d40a35.dl.dropboxusercontent.com (uc33d76341c5f554ba8a75d40a35.dl.dropboxusercontent.com)... 162.125.5.15, 2620:100:601d:15::a27d:50f\n",
            "Connecting to uc33d76341c5f554ba8a75d40a35.dl.dropboxusercontent.com (uc33d76341c5f554ba8a75d40a35.dl.dropboxusercontent.com)|162.125.5.15|:443... connected.\n",
            "HTTP request sent, awaiting response... 200 OK\n",
            "Length: 1820227 (1.7M) [application/binary]\n",
            "Saving to: ‘data/UBER.zip’\n",
            "\n",
            "data/UBER.zip       100%[===================>]   1.74M  --.-KB/s    in 0.1s    \n",
            "\n",
            "2023-06-02 20:07:13 (14.3 MB/s) - ‘data/UBER.zip’ saved [1820227/1820227]\n",
            "\n",
            "Archive:  data/UBER.zip\n",
            "   creating: data/UBER/\n",
            "  inflating: data/UBER/UBER_2021.html  \n",
            "  inflating: data/__MACOSX/UBER/._UBER_2021.html  \n",
            "  inflating: data/UBER/UBER_2020.html  \n",
            "  inflating: data/__MACOSX/UBER/._UBER_2020.html  \n",
            "  inflating: data/UBER/UBER_2019.html  \n",
            "  inflating: data/__MACOSX/UBER/._UBER_2019.html  \n",
            "  inflating: data/UBER/UBER_2022.html  \n",
            "  inflating: data/__MACOSX/UBER/._UBER_2022.html  \n"
          ]
        }
      ]
    },
    {
      "cell_type": "code",
      "source": [
        "# set text wrapping\n",
        "from IPython.display import HTML, display\n",
        "\n",
        "def set_css():\n",
        "  display(HTML('''\n",
        "  <style>\n",
        "    pre {\n",
        "        white-space: pre-wrap;\n",
        "    }\n",
        "  </style>\n",
        "  '''))\n",
        "get_ipython().events.register('pre_run_cell', set_css)"
      ],
      "metadata": {
        "id": "CuHeyb224pI2"
      },
      "id": "CuHeyb224pI2",
      "execution_count": null,
      "outputs": []
    },
    {
      "cell_type": "code",
      "source": [
        "import os\n",
        "os.environ['OPENAI_API_KEY'] = \"\""
      ],
      "metadata": {
        "id": "QaFX6KfIz-Zn"
      },
      "id": "QaFX6KfIz-Zn",
      "execution_count": null,
      "outputs": []
    },
    {
      "cell_type": "code",
      "execution_count": null,
      "id": "3a5cb155-cfe0-4c89-a2b4-c61d5b7cbe61",
      "metadata": {
        "id": "3a5cb155-cfe0-4c89-a2b4-c61d5b7cbe61"
      },
      "outputs": [],
      "source": [
        "from llama_index import download_loader, GPTSimpleVectorIndex\n",
        "from pathlib import Path"
      ]
    },
    {
      "cell_type": "markdown",
      "id": "354ddbdf-0045-474b-b6f2-1b4c22ad360a",
      "metadata": {
        "id": "354ddbdf-0045-474b-b6f2-1b4c22ad360a"
      },
      "source": [
        "### Ingest Unstructured Data Through the Unstructured.io Reader\n",
        "\n",
        "Leverage the capabilities of Unstructured.io HTML parsing.\n",
        "Downloaded through LlamaHub."
      ]
    },
    {
      "cell_type": "code",
      "execution_count": null,
      "id": "0371970e-c11c-4534-aa22-7cfdfe411bb3",
      "metadata": {
        "id": "0371970e-c11c-4534-aa22-7cfdfe411bb3"
      },
      "outputs": [],
      "source": [
        "UnstructuredReader = download_loader(\"UnstructuredReader\", refresh_cache=True)"
      ]
    },
    {
      "cell_type": "code",
      "execution_count": null,
      "id": "29084a11-f3da-428d-ae17-27b85a365e84",
      "metadata": {
        "id": "29084a11-f3da-428d-ae17-27b85a365e84",
        "outputId": "819e4c48-0bb0-4e22-a84c-3021fbedbc4a",
        "colab": {
          "base_uri": "https://localhost:8080/"
        }
      },
      "outputs": [
        {
          "output_type": "stream",
          "name": "stderr",
          "text": [
            "[nltk_data] Downloading package punkt to /root/nltk_data...\n",
            "[nltk_data]   Unzipping tokenizers/punkt.zip.\n",
            "[nltk_data] Downloading package averaged_perceptron_tagger to\n",
            "[nltk_data]     /root/nltk_data...\n",
            "[nltk_data]   Unzipping taggers/averaged_perceptron_tagger.zip.\n"
          ]
        }
      ],
      "source": [
        "loader = UnstructuredReader()\n",
        "doc_set = {}\n",
        "all_docs = []\n",
        "years = [2022, 2021, 2020, 2019]\n",
        "for year in years:\n",
        "    year_docs = loader.load_data(file=Path(f'./data/UBER/UBER_{year}.html'), split_documents=False)\n",
        "    # insert year metadata into each year\n",
        "    for d in year_docs:\n",
        "        d.extra_info = {\"year\": year}\n",
        "    doc_set[year] = year_docs\n",
        "    all_docs.extend(year_docs)"
      ]
    },
    {
      "cell_type": "markdown",
      "source": [
        "### Setup Service Context"
      ],
      "metadata": {
        "id": "DzuCgTq3Vs53"
      },
      "id": "DzuCgTq3Vs53"
    },
    {
      "cell_type": "code",
      "source": [
        "from llama_index import ServiceContext\n",
        "\n",
        "service_context = ServiceContext.from_defaults(chunk_size_limit=512)"
      ],
      "metadata": {
        "id": "1vdCAXCoVvs0"
      },
      "id": "1vdCAXCoVvs0",
      "execution_count": null,
      "outputs": []
    },
    {
      "cell_type": "markdown",
      "id": "08b367eb-f9cc-449a-99c5-dfcfbef20a9d",
      "metadata": {
        "id": "08b367eb-f9cc-449a-99c5-dfcfbef20a9d"
      },
      "source": [
        "### Setup a Vector Index for each SEC filing\n",
        "\n",
        "We setup a separate vector index for each SEC filing from 2019-2022.\n",
        "\n",
        "We also optionally initialize a \"global\" index by dumping all files into the vector store."
      ]
    },
    {
      "cell_type": "code",
      "execution_count": null,
      "id": "8fbe18a6-4a08-441d-adae-a6195f2cdcb1",
      "metadata": {
        "id": "8fbe18a6-4a08-441d-adae-a6195f2cdcb1",
        "outputId": "bdc1d207-efb2-4f82-bf6c-668cfb7ca98f"
      },
      "outputs": [
        {
          "name": "stderr",
          "output_type": "stream",
          "text": [
            "INFO:root:> [build_index_from_documents] Total LLM token usage: 0 tokens\n",
            "INFO:root:> [build_index_from_documents] Total embedding token usage: 156882 tokens\n",
            "INFO:root:> [build_index_from_documents] Total LLM token usage: 0 tokens\n",
            "INFO:root:> [build_index_from_documents] Total embedding token usage: 162641 tokens\n",
            "INFO:root:> [build_index_from_documents] Total LLM token usage: 0 tokens\n",
            "INFO:root:> [build_index_from_documents] Total embedding token usage: 173288 tokens\n",
            "INFO:root:> [build_index_from_documents] Total LLM token usage: 0 tokens\n",
            "INFO:root:> [build_index_from_documents] Total embedding token usage: 169130 tokens\n"
          ]
        }
      ],
      "source": [
        "# initialize simple vector indices + global vector index\n",
        "# NOTE: don't run this cell if the indices are already loaded! \n",
        "index_set = {}\n",
        "for year in years:\n",
        "    cur_index = GPTSimpleVectorIndex.from_documents(doc_set[year], service_context=service_context)\n",
        "    index_set[year] = cur_index\n",
        "    cur_index.save_to_disk(f'index_{year}.json')\n",
        "    "
      ]
    },
    {
      "cell_type": "code",
      "execution_count": null,
      "id": "d3a5e993-99ae-445a-bcae-e2d415d84e34",
      "metadata": {
        "id": "d3a5e993-99ae-445a-bcae-e2d415d84e34"
      },
      "outputs": [],
      "source": [
        "# Load indices from disk\n",
        "index_set = {}\n",
        "for year in years:\n",
        "    cur_index = GPTSimpleVectorIndex.load_from_disk(f'index_{year}.json', service_context=service_context)\n",
        "    index_set[year] = cur_index"
      ]
    },
    {
      "cell_type": "code",
      "execution_count": null,
      "id": "deef2891-c6cc-4822-8311-efd99c36327a",
      "metadata": {
        "id": "deef2891-c6cc-4822-8311-efd99c36327a",
        "outputId": "25216297-036f-4ef7-8323-9f8a3da5e60a",
        "colab": {
          "base_uri": "https://localhost:8080/",
          "height": 145,
          "referenced_widgets": [
            "a292f2af029c4340813e63370bf73f12",
            "755797e4682642399c367962ba737504",
            "548c125bc716475ba6708fa80f5b1b61",
            "37cf19bcc68d41d7bc6b411cd273a88c",
            "ebc4716ea8d849c58c43c26f5caf18fe",
            "eb486eb0dc2f44eabcac46a18b711ff1",
            "3e45628539864cd2b1297c2be1d35c98",
            "387d0ca6bf2c4341804cfa43a71b6451",
            "b1c406aebffa49f48c3457a9482a47a3",
            "8e1f2102db184538a35ed9c8498d5bbc",
            "0cccb700fc264051abc0b7458716054f",
            "1a259e1a45bc4043b81243d033b79752",
            "f0963a05a29d4e6f8a2ab48fc8a26a1d",
            "0a8d7bc06ed646b78956101c5c62fb1f",
            "ef339a504f984cc2ac07c8252aa2f6d5",
            "3d3c2d54cdf44a06a99c35d0e1b33b0a",
            "7e96275c58434a04a49e56598b12656a",
            "b2653a474569425ebb546f93241a465e",
            "112ef61e952444369d6c0dce1d1098a8",
            "afe741aff3f54ae6a89b5965888599f4",
            "a8bae11fb1aa40348e611a1592e0ff0a",
            "9bf6e3e259cd4bc0bd4c714c725d0782",
            "0cd2bf060b4c4daeaf9156705ae409ab",
            "3c4ce2ec8ae54042864d1d0261355166",
            "2e27352e29354001b53bc4d07bd4c1ed",
            "709f853d0ae846e7945c74ff83cae52e",
            "54a3bafa2af54475abe57e37e2399a45",
            "94343417f60a4f9d9a745dfa2c967893",
            "f6331afe201d49319b76e528e01a9b4b",
            "792a299872704c10af8061175db96031",
            "2d7895836c814084be531103d0218650",
            "10420e2dba3244f48c8fcd7d35904e41",
            "d7b1b50d3f6843be90e00d3352139b2f",
            "bbdfb7b736f546fea9f2a56a815a8e8f",
            "0dc1dea99b774b74a84c9c02b6335b94",
            "5edb09d55e7b45c881bbf6a38de92f60",
            "7bd8740ee12a486fbb3d3ae0a2c493b8",
            "fa9eff66d6084f0a970408b620afa686",
            "3b4a5130401a44daa116828b9fa8d17b",
            "21efd9c072db42bf89ad5dbd96b52a01",
            "d75f60b7f0b94b3d88046ac990446ad4",
            "609d29b907424f049de6ef0b86a6541d",
            "6dc9a8ca9270413893e28e3a3807dd51",
            "4539f47e9e4c444e9f610dea60db5eb0"
          ]
        }
      },
      "outputs": [
        {
          "output_type": "display_data",
          "data": {
            "text/plain": [
              "Downloading (…)olve/main/vocab.json:   0%|          | 0.00/1.04M [00:00<?, ?B/s]"
            ],
            "application/vnd.jupyter.widget-view+json": {
              "version_major": 2,
              "version_minor": 0,
              "model_id": "a292f2af029c4340813e63370bf73f12"
            }
          },
          "metadata": {}
        },
        {
          "output_type": "display_data",
          "data": {
            "text/plain": [
              "Downloading (…)olve/main/merges.txt:   0%|          | 0.00/456k [00:00<?, ?B/s]"
            ],
            "application/vnd.jupyter.widget-view+json": {
              "version_major": 2,
              "version_minor": 0,
              "model_id": "1a259e1a45bc4043b81243d033b79752"
            }
          },
          "metadata": {}
        },
        {
          "output_type": "display_data",
          "data": {
            "text/plain": [
              "Downloading (…)/main/tokenizer.json:   0%|          | 0.00/1.36M [00:00<?, ?B/s]"
            ],
            "application/vnd.jupyter.widget-view+json": {
              "version_major": 2,
              "version_minor": 0,
              "model_id": "0cd2bf060b4c4daeaf9156705ae409ab"
            }
          },
          "metadata": {}
        },
        {
          "output_type": "display_data",
          "data": {
            "text/plain": [
              "Downloading (…)lve/main/config.json:   0%|          | 0.00/665 [00:00<?, ?B/s]"
            ],
            "application/vnd.jupyter.widget-view+json": {
              "version_major": 2,
              "version_minor": 0,
              "model_id": "bbdfb7b736f546fea9f2a56a815a8e8f"
            }
          },
          "metadata": {}
        }
      ],
      "source": [
        "# NOTE: this global index is a single vector store containing all documents\n",
        "# Only relevant for the section below: \"Can a single vector index answer questions across years?\"\n",
        "global_index = GPTSimpleVectorIndex.from_documents(all_docs, service_context=service_context)\n",
        "global_index.save_to_disk(f'index_global.json')"
      ]
    },
    {
      "cell_type": "code",
      "source": [
        "global_index = GPTSimpleVectorIndex.load_from_disk(f'index_global.json', service_context=service_context)"
      ],
      "metadata": {
        "id": "Hxp2pDbaueNK"
      },
      "id": "Hxp2pDbaueNK",
      "execution_count": null,
      "outputs": []
    },
    {
      "cell_type": "markdown",
      "id": "223815d2-6c2e-4758-bc4d-5e3e3acfc6f0",
      "metadata": {
        "id": "223815d2-6c2e-4758-bc4d-5e3e3acfc6f0"
      },
      "source": [
        "### Ask Initial Questions over a Given Year (2020)\n",
        "\n",
        "Let's first ask some questions over the UBER 10-k for 2020! "
      ]
    },
    {
      "cell_type": "code",
      "execution_count": null,
      "id": "bfc9ade8-c6eb-4d5d-ab04-3442dfe3199b",
      "metadata": {
        "id": "bfc9ade8-c6eb-4d5d-ab04-3442dfe3199b"
      },
      "outputs": [],
      "source": [
        "response = index_set[2020].query(\"What were some of the biggest risk factors in 2020?\", similarity_top_k=3)"
      ]
    },
    {
      "cell_type": "code",
      "execution_count": null,
      "id": "266e9ec7-4ab7-4133-854d-80a178203a63",
      "metadata": {
        "id": "266e9ec7-4ab7-4133-854d-80a178203a63"
      },
      "outputs": [],
      "source": [
        "print(response)"
      ]
    },
    {
      "cell_type": "code",
      "execution_count": null,
      "id": "e692af72-cc77-4dca-a35e-df4c5c88d2cd",
      "metadata": {
        "id": "e692af72-cc77-4dca-a35e-df4c5c88d2cd"
      },
      "outputs": [],
      "source": [
        "response = index_set[2020].query(\"What were some of the signifcant acquisitions?\", similarity_top_k=3)"
      ]
    },
    {
      "cell_type": "code",
      "execution_count": null,
      "id": "a4f02821-12db-4491-aed0-02891496266f",
      "metadata": {
        "id": "a4f02821-12db-4491-aed0-02891496266f"
      },
      "outputs": [],
      "source": [
        "print(response)"
      ]
    },
    {
      "cell_type": "markdown",
      "id": "726b92d0-12b6-4619-88bf-252866f3b47f",
      "metadata": {
        "id": "726b92d0-12b6-4619-88bf-252866f3b47f"
      },
      "source": [
        "### Can a single vector index answer questions across years?"
      ]
    },
    {
      "cell_type": "markdown",
      "id": "ba77907f-e529-4d8b-bc93-b2d0918a055b",
      "metadata": {
        "id": "ba77907f-e529-4d8b-bc93-b2d0918a055b"
      },
      "source": [
        "If we dump all documents to a single vector store, let's test its ability to answer questions across years! "
      ]
    },
    {
      "cell_type": "code",
      "execution_count": null,
      "id": "9d50f219-6c57-499e-95b5-71d9228b6860",
      "metadata": {
        "id": "9d50f219-6c57-499e-95b5-71d9228b6860"
      },
      "outputs": [],
      "source": [
        "# # Option 2\n",
        "# risk_query_str = (\n",
        "#     \"Describe the current risk factors. If the year is provided in the information, \"\n",
        "#     \"provide that as well. If the context contains risk factors for multiple years, \"\n",
        "#     \"explicitly provide the following:\\n\"\n",
        "#     \"- A description of the risk factors for each year\\n\"\n",
        "#     \"- A summary of how these risk factors are changing across years\"\n",
        "# )"
      ]
    },
    {
      "cell_type": "code",
      "execution_count": null,
      "id": "587bbf95-2cf8-4446-901f-1e96b51c2f4c",
      "metadata": {
        "id": "587bbf95-2cf8-4446-901f-1e96b51c2f4c",
        "colab": {
          "base_uri": "https://localhost:8080/",
          "height": 17
        },
        "outputId": "65f50768-3ca8-4e27-daef-a4c43df7dded"
      },
      "outputs": [
        {
          "output_type": "display_data",
          "data": {
            "text/plain": [
              "<IPython.core.display.HTML object>"
            ],
            "text/html": [
              "\n",
              "  <style>\n",
              "    pre {\n",
              "        white-space: pre-wrap;\n",
              "    }\n",
              "  </style>\n",
              "  "
            ]
          },
          "metadata": {}
        }
      ],
      "source": [
        "# Option 1\n",
        "risk_query_str = \"What are some of the biggest risk factors in each year?\""
      ]
    },
    {
      "cell_type": "code",
      "execution_count": null,
      "id": "ce493f83-167d-42d0-921d-f25c4d394fc0",
      "metadata": {
        "id": "ce493f83-167d-42d0-921d-f25c4d394fc0",
        "colab": {
          "base_uri": "https://localhost:8080/",
          "height": 17
        },
        "outputId": "ca366fb1-d858-4ac6-aaf0-b5f1ed7eff14"
      },
      "outputs": [
        {
          "output_type": "display_data",
          "data": {
            "text/plain": [
              "<IPython.core.display.HTML object>"
            ],
            "text/html": [
              "\n",
              "  <style>\n",
              "    pre {\n",
              "        white-space: pre-wrap;\n",
              "    }\n",
              "  </style>\n",
              "  "
            ]
          },
          "metadata": {}
        }
      ],
      "source": [
        "response = global_index.query(risk_query_str, similarity_top_k=3)"
      ]
    },
    {
      "cell_type": "code",
      "execution_count": null,
      "id": "d6f55ef5-9f70-4a81-8f8b-4c9b30d9670f",
      "metadata": {
        "id": "d6f55ef5-9f70-4a81-8f8b-4c9b30d9670f",
        "colab": {
          "base_uri": "https://localhost:8080/",
          "height": 178
        },
        "outputId": "f8be0c5a-5893-4e13-8fb0-43b47f0f440e"
      },
      "outputs": [
        {
          "output_type": "display_data",
          "data": {
            "text/plain": [
              "<IPython.core.display.HTML object>"
            ],
            "text/html": [
              "\n",
              "  <style>\n",
              "    pre {\n",
              "        white-space: pre-wrap;\n",
              "    }\n",
              "  </style>\n",
              "  "
            ]
          },
          "metadata": {}
        },
        {
          "output_type": "stream",
          "name": "stdout",
          "text": [
            "\n",
            "\n",
            "The biggest risk factors in 2019 include economic downturns, natural disasters, geopolitical tensions, changes in government policies, risk-free interest rates, and the potential for rising inflation. Economic downturns can be caused by a variety of factors, such as a decrease in consumer spending, a decrease in business investment, or a decrease in exports. Natural disasters can cause significant damage to infrastructure and disrupt economic activity. Geopolitical tensions can lead to increased uncertainty and volatility in financial markets. Changes in government policies can have a significant impact on the economy, such as changes in taxation or regulations. Risk-free interest rates can affect the cost of borrowing and the availability of credit, while rising inflation can erode the purchasing power of consumers.\n"
          ]
        }
      ],
      "source": [
        "print(str(response))"
      ]
    },
    {
      "cell_type": "markdown",
      "id": "007a99d7-4f63-44bf-957b-c9f5669bce28",
      "metadata": {
        "id": "007a99d7-4f63-44bf-957b-c9f5669bce28"
      },
      "source": [
        "### Composing a Graph to synthesize answers across 10-K filings (2019-2022)\n",
        "\n",
        "We want our queries to aggregate/synthesize information across *all* 10-K filings. To do this, we define a List index\n",
        "on top of the 4 vector indices."
      ]
    },
    {
      "cell_type": "code",
      "execution_count": null,
      "id": "f3fb341a-19a3-4e4a-9369-7ddc46b8c2a6",
      "metadata": {
        "id": "f3fb341a-19a3-4e4a-9369-7ddc46b8c2a6"
      },
      "outputs": [],
      "source": [
        "from llama_index import GPTListIndex, LLMPredictor\n",
        "from langchain import OpenAI\n",
        "from llama_index.composability import ComposableGraph"
      ]
    },
    {
      "cell_type": "code",
      "execution_count": null,
      "id": "966388cb-2fe4-4427-ad2e-cea6a0375233",
      "metadata": {
        "id": "966388cb-2fe4-4427-ad2e-cea6a0375233"
      },
      "outputs": [],
      "source": [
        "# set summary text for each doc\n",
        "summaries = {}\n",
        "for year in years:\n",
        "    summaries[year] = f\"UBER 10-k Filing for {year} fiscal year\""
      ]
    },
    {
      "cell_type": "code",
      "execution_count": null,
      "id": "f9e453b1-6782-45b5-8258-dfc386e6cf22",
      "metadata": {
        "id": "f9e453b1-6782-45b5-8258-dfc386e6cf22"
      },
      "outputs": [],
      "source": [
        "# set number of output tokens\n",
        "llm_predictor = LLMPredictor(llm=OpenAI(temperature=0, max_tokens=512))\n",
        "service_context = ServiceContext.from_defaults(llm_predictor=llm_predictor)"
      ]
    },
    {
      "cell_type": "code",
      "execution_count": null,
      "id": "3b758fc2-bb21-46da-91b5-53e399eecfb0",
      "metadata": {
        "id": "3b758fc2-bb21-46da-91b5-53e399eecfb0",
        "outputId": "e7c99f46-8757-48a2-c84b-cb95a0a3eab9"
      },
      "outputs": [
        {
          "name": "stderr",
          "output_type": "stream",
          "text": [
            "INFO:root:> [build_index_from_documents] Total LLM token usage: 0 tokens\n",
            "INFO:root:> [build_index_from_documents] Total embedding token usage: 0 tokens\n"
          ]
        }
      ],
      "source": [
        "graph = ComposableGraph.from_indices(\n",
        "    GPTListIndex,\n",
        "    [index_set[y] for y in years],\n",
        "    [summaries[y] for y in years],\n",
        "    service_context=service_context\n",
        ")"
      ]
    },
    {
      "cell_type": "code",
      "source": [
        "graph.save_to_disk('10k_graph.json')"
      ],
      "metadata": {
        "id": "NLtnE--Mya7P"
      },
      "id": "NLtnE--Mya7P",
      "execution_count": null,
      "outputs": []
    },
    {
      "cell_type": "code",
      "execution_count": null,
      "id": "b92a0ba3-5c6b-485f-8f8d-5e164689ff05",
      "metadata": {
        "id": "b92a0ba3-5c6b-485f-8f8d-5e164689ff05"
      },
      "outputs": [],
      "source": [
        "graph = ComposableGraph.load_from_disk('10k_graph.json', service_context=service_context)"
      ]
    },
    {
      "cell_type": "markdown",
      "id": "b3eec694-d9c6-4400-9d8e-e707f2e7f41f",
      "metadata": {
        "id": "b3eec694-d9c6-4400-9d8e-e707f2e7f41f"
      },
      "source": [
        "### Setting Up the Query\n",
        "\n",
        "We query about the risk factors. We want to synthesize information across each year."
      ]
    },
    {
      "cell_type": "code",
      "execution_count": null,
      "id": "937c08df-02bb-4a51-bd2c-63914c2b137f",
      "metadata": {
        "id": "937c08df-02bb-4a51-bd2c-63914c2b137f"
      },
      "outputs": [],
      "source": [
        "risk_query_str = (\n",
        "    \"Describe the current risk factors. If the year is provided in the information, \"\n",
        "    \"provide that as well. If the context contains risk factors for multiple years, \"\n",
        "    \"explicitly provide the following:\\n\"\n",
        "    \"- A description of the risk factors for each year\\n\"\n",
        "    \"- A summary of how these risk factors are changing across years\"\n",
        ")"
      ]
    },
    {
      "cell_type": "code",
      "execution_count": null,
      "id": "82b43d58-5753-4035-9ea6-f8bfa860f89c",
      "metadata": {
        "id": "82b43d58-5753-4035-9ea6-f8bfa860f89c"
      },
      "outputs": [],
      "source": [
        "query_configs = [\n",
        "    {\n",
        "        \"index_struct_type\": \"dict\",\n",
        "        \"query_mode\": \"default\",\n",
        "        \"query_kwargs\": {\n",
        "            \"similarity_top_k\": 1,\n",
        "            # \"include_summary\": True\n",
        "        }\n",
        "    },\n",
        "    {\n",
        "        \"index_struct_type\": \"list\",\n",
        "        \"query_mode\": \"default\",\n",
        "        \"query_kwargs\": {\n",
        "            \"response_mode\": \"tree_summarize\",\n",
        "        }\n",
        "    },\n",
        "]"
      ]
    },
    {
      "cell_type": "code",
      "execution_count": null,
      "id": "36125bfb-0e58-4afb-99dc-31d4069623c3",
      "metadata": {
        "id": "36125bfb-0e58-4afb-99dc-31d4069623c3"
      },
      "outputs": [],
      "source": [
        "response_summary = graph.query(risk_query_str, query_configs=query_configs)"
      ]
    },
    {
      "cell_type": "code",
      "execution_count": null,
      "id": "e9e0b462-c113-40fb-bce2-11647b412264",
      "metadata": {
        "id": "e9e0b462-c113-40fb-bce2-11647b412264",
        "outputId": "c76695c5-a90c-4620-9e33-2f35f5d8cd3c"
      },
      "outputs": [
        {
          "name": "stdout",
          "output_type": "stream",
          "text": [
            "\n",
            "For 2017, 2018, and 2019, the risk factors included economic uncertainty, geopolitical tensions, and the potential for natural disasters.\n",
            "\n",
            "For 2020, the risk factors include the COVID-19 pandemic and the impact of actions to mitigate the pandemic, which has adversely affected and continues to adversely affect business, financial condition, operating results, and prospects. This includes the potential for reduced demand for products and services, disruption of the supply chain, reduced liquidity, increased costs, and reduced revenue.\n",
            "\n",
            "For 2021 and 2022, the risk factors include the potential for Drivers to be classified as employees, workers or quasi-employees instead of independent contractors, the highly competitive nature of the mobility, delivery, and logistics industries, and the need to lower fares or service fees and offer Driver incentives and consumer discounts and promotions in order to remain competitive in certain markets.\n",
            "\n",
            "Overall, the risk factors have remained relatively consistent across the years 2017, 2018, 2019, 2021, and 2022. The primary risk factors have been the potential for Drivers to be classified as employees, workers or quasi-employees instead of independent contractors, the highly competitive nature of the mobility, delivery, and logistics industries, and the need to lower fares or service fees and offer Driver incentives and consumer discounts and promotions in order to remain competitive in certain markets. Additionally, economic uncertainty, geopolitical tensions, and the potential for natural disasters have been risk factors in each of these years. The COVID-19 pandemic has been a risk factor since 2020, and has included the potential for reduced demand for products and services, disruption of the supply chain, reduced liquidity, increased costs, and reduced revenue.\n"
          ]
        }
      ],
      "source": [
        "print(response_summary)"
      ]
    },
    {
      "cell_type": "code",
      "execution_count": null,
      "id": "0d5a88a2-9e52-4168-93bd-485261c19f41",
      "metadata": {
        "id": "0d5a88a2-9e52-4168-93bd-485261c19f41",
        "outputId": "9cc6c49f-2b3f-4d79-a271-f5d8b6d39edf"
      },
      "outputs": [
        {
          "name": "stdout",
          "output_type": "stream",
          "text": [
            "> Source (Doc id: 9b8c571e-b813-4906-9020-208cc57ac12a): UBER 10-k Filing for 2022 fiscal year...\n",
            "\n",
            "> Source (Doc id: 8752ce30-d2c3-4ea6-9a5f-ca890105664b): year: 2022\n",
            "\n",
            "announcements regarding our financial performance, including SEC filings, investor ev...\n",
            "\n",
            "> Source (Doc id: 54649d63-ca22-4e40-a715-304606638bea): UBER 10-k Filing for 2021 fiscal year...\n",
            "\n",
            "> Source (Doc id: 1a7abef5-2939-4d6d-aaa1-f579b57a65ea): year: 2021\n",
            "\n",
            "our earnings calls and certain events we participate in or host with members of the i...\n",
            "\n",
            "> Source (Doc id: a869db0a-254e-465d-836b-1e37335c2561): UBER 10-k Filing for 2020 fiscal year...\n",
            "\n",
            "> Source (Doc id: 3cc53231-5406-4af3-8ab9-81fd61ffedc6): year: 2020\n",
            "\n",
            "on Form 8-K and amendments to reports filed or furnished pursuant to Sections 13(a) a...\n",
            "\n",
            "> Source (Doc id: b1538dd1-8270-45db-a603-ab6d34e9a6b3): UBER 10-k Filing for 2019 fiscal year...\n",
            "\n",
            "> Source (Doc id: 4b64862e-b4bf-4013-86ab-ecaf6d4d0157): year: 2019\n",
            "\n",
            "31,\n",
            "\n",
            "2017\n",
            "\n",
            "2018\n",
            "\n",
            "2019\n",
            "\n",
            "Risk-free interest...\n"
          ]
        }
      ],
      "source": [
        "print(response_summary.get_formatted_sources())"
      ]
    },
    {
      "cell_type": "code",
      "execution_count": null,
      "id": "92756a0f-dfc0-4561-8217-31c310f5ab24",
      "metadata": {
        "id": "92756a0f-dfc0-4561-8217-31c310f5ab24",
        "outputId": "660dac63-5a11-4aea-fb85-0132fe8784bd"
      },
      "outputs": [
        {
          "name": "stderr",
          "output_type": "stream",
          "text": [
            "INFO:root:> [query] Total LLM token usage: 576 tokens\n",
            "INFO:root:> [query] Total embedding token usage: 41 tokens\n"
          ]
        }
      ],
      "source": [
        "# query a specific year\n",
        "response_tmp = index_set[2022].query(risk_query_str)"
      ]
    },
    {
      "cell_type": "code",
      "execution_count": null,
      "id": "5d768882-6c0e-45bd-a712-c8aa4591e209",
      "metadata": {
        "id": "5d768882-6c0e-45bd-a712-c8aa4591e209",
        "outputId": "b07b421a-bd1c-4907-974f-9919584e3cef"
      },
      "outputs": [
        {
          "data": {
            "text/plain": [
              "'\\nIn 2022, the risk factors for our business include Drivers being classified as employees, workers or quasi-employees instead of independent contractors, the mobility, delivery, and logistics industries being highly competitive, and the need to lower fares or service fees and offer Driver incentives and consumer discounts and promotions in order to remain competitive in certain markets. Since our inception, we have incurred significant losses.'"
            ]
          },
          "execution_count": 128,
          "metadata": {},
          "output_type": "execute_result"
        }
      ],
      "source": [
        "str(response_tmp)"
      ]
    },
    {
      "cell_type": "code",
      "execution_count": null,
      "id": "e630e527-0b59-41ef-ad32-327136ffbbac",
      "metadata": {
        "id": "e630e527-0b59-41ef-ad32-327136ffbbac",
        "outputId": "c5bfaaa8-c042-4eab-daaa-e4555e150af9"
      },
      "outputs": [
        {
          "name": "stderr",
          "output_type": "stream",
          "text": [
            "INFO:root:> [query] Total LLM token usage: 2926 tokens\n",
            "INFO:root:> [query] Total embedding token usage: 41 tokens\n"
          ]
        }
      ],
      "source": [
        "# query a global index\n",
        "response = global_index.query(risk_query_str, similarity_top_k=4)"
      ]
    },
    {
      "cell_type": "code",
      "execution_count": null,
      "id": "c48a272c-8e87-4740-9960-129d7d5943bb",
      "metadata": {
        "id": "c48a272c-8e87-4740-9960-129d7d5943bb",
        "outputId": "02adc809-1bfa-4958-e59a-80903c00e94c"
      },
      "outputs": [
        {
          "data": {
            "text/plain": [
              "\"\\n\\nThe current risk factors include the COVID-19 pandemic and the impact of actions to mitigate the pandemic, the potential for Drivers to be classified as employees, workers or quasi-employees instead of independent contractors, and the highly competitive mobility, delivery, and logistics industries with well-established and low-cost alternatives, low barriers to entry, low switching costs, and well-capitalized competitors in nearly every major geographic region. To remain competitive, the company has in the past lowered, and may continue to lower, fares or service fees, and has in the past offered, and may continue to offer, significant Driver incentives and consumer discounts and promotions. Additionally, the risk-free interest rate has decreased from 2017 to 2019, from 2.4% to 2.1%, which could have an impact on the company's ability to access capital. Furthermore, the company has incurred significant losses since inception, including in the United States and other major markets, and expects operating expenses to increase significantly in the foreseeable future, which could make it difficult to achieve or maintain profitability.\""
            ]
          },
          "execution_count": 103,
          "metadata": {},
          "output_type": "execute_result"
        }
      ],
      "source": [
        "str(response)"
      ]
    },
    {
      "cell_type": "code",
      "execution_count": null,
      "id": "e46dd052-ab34-4974-b696-16ff217970e0",
      "metadata": {
        "id": "e46dd052-ab34-4974-b696-16ff217970e0"
      },
      "outputs": [],
      "source": []
    }
  ],
  "metadata": {
    "kernelspec": {
      "display_name": "gpt_retrieve_venv",
      "language": "python",
      "name": "gpt_retrieve_venv"
    },
    "language_info": {
      "codemirror_mode": {
        "name": "ipython",
        "version": 3
      },
      "file_extension": ".py",
      "mimetype": "text/x-python",
      "name": "python",
      "nbconvert_exporter": "python",
      "pygments_lexer": "ipython3",
      "version": "3.9.16"
    },
    "colab": {
      "provenance": [],
      "include_colab_link": true
    },
    "widgets": {
      "application/vnd.jupyter.widget-state+json": {
        "a292f2af029c4340813e63370bf73f12": {
          "model_module": "@jupyter-widgets/controls",
          "model_name": "HBoxModel",
          "model_module_version": "1.5.0",
          "state": {
            "_dom_classes": [],
            "_model_module": "@jupyter-widgets/controls",
            "_model_module_version": "1.5.0",
            "_model_name": "HBoxModel",
            "_view_count": null,
            "_view_module": "@jupyter-widgets/controls",
            "_view_module_version": "1.5.0",
            "_view_name": "HBoxView",
            "box_style": "",
            "children": [
              "IPY_MODEL_755797e4682642399c367962ba737504",
              "IPY_MODEL_548c125bc716475ba6708fa80f5b1b61",
              "IPY_MODEL_37cf19bcc68d41d7bc6b411cd273a88c"
            ],
            "layout": "IPY_MODEL_ebc4716ea8d849c58c43c26f5caf18fe"
          }
        },
        "755797e4682642399c367962ba737504": {
          "model_module": "@jupyter-widgets/controls",
          "model_name": "HTMLModel",
          "model_module_version": "1.5.0",
          "state": {
            "_dom_classes": [],
            "_model_module": "@jupyter-widgets/controls",
            "_model_module_version": "1.5.0",
            "_model_name": "HTMLModel",
            "_view_count": null,
            "_view_module": "@jupyter-widgets/controls",
            "_view_module_version": "1.5.0",
            "_view_name": "HTMLView",
            "description": "",
            "description_tooltip": null,
            "layout": "IPY_MODEL_eb486eb0dc2f44eabcac46a18b711ff1",
            "placeholder": "​",
            "style": "IPY_MODEL_3e45628539864cd2b1297c2be1d35c98",
            "value": "Downloading (…)olve/main/vocab.json: 100%"
          }
        },
        "548c125bc716475ba6708fa80f5b1b61": {
          "model_module": "@jupyter-widgets/controls",
          "model_name": "FloatProgressModel",
          "model_module_version": "1.5.0",
          "state": {
            "_dom_classes": [],
            "_model_module": "@jupyter-widgets/controls",
            "_model_module_version": "1.5.0",
            "_model_name": "FloatProgressModel",
            "_view_count": null,
            "_view_module": "@jupyter-widgets/controls",
            "_view_module_version": "1.5.0",
            "_view_name": "ProgressView",
            "bar_style": "success",
            "description": "",
            "description_tooltip": null,
            "layout": "IPY_MODEL_387d0ca6bf2c4341804cfa43a71b6451",
            "max": 1042301,
            "min": 0,
            "orientation": "horizontal",
            "style": "IPY_MODEL_b1c406aebffa49f48c3457a9482a47a3",
            "value": 1042301
          }
        },
        "37cf19bcc68d41d7bc6b411cd273a88c": {
          "model_module": "@jupyter-widgets/controls",
          "model_name": "HTMLModel",
          "model_module_version": "1.5.0",
          "state": {
            "_dom_classes": [],
            "_model_module": "@jupyter-widgets/controls",
            "_model_module_version": "1.5.0",
            "_model_name": "HTMLModel",
            "_view_count": null,
            "_view_module": "@jupyter-widgets/controls",
            "_view_module_version": "1.5.0",
            "_view_name": "HTMLView",
            "description": "",
            "description_tooltip": null,
            "layout": "IPY_MODEL_8e1f2102db184538a35ed9c8498d5bbc",
            "placeholder": "​",
            "style": "IPY_MODEL_0cccb700fc264051abc0b7458716054f",
            "value": " 1.04M/1.04M [00:00&lt;00:00, 3.35MB/s]"
          }
        },
        "ebc4716ea8d849c58c43c26f5caf18fe": {
          "model_module": "@jupyter-widgets/base",
          "model_name": "LayoutModel",
          "model_module_version": "1.2.0",
          "state": {
            "_model_module": "@jupyter-widgets/base",
            "_model_module_version": "1.2.0",
            "_model_name": "LayoutModel",
            "_view_count": null,
            "_view_module": "@jupyter-widgets/base",
            "_view_module_version": "1.2.0",
            "_view_name": "LayoutView",
            "align_content": null,
            "align_items": null,
            "align_self": null,
            "border": null,
            "bottom": null,
            "display": null,
            "flex": null,
            "flex_flow": null,
            "grid_area": null,
            "grid_auto_columns": null,
            "grid_auto_flow": null,
            "grid_auto_rows": null,
            "grid_column": null,
            "grid_gap": null,
            "grid_row": null,
            "grid_template_areas": null,
            "grid_template_columns": null,
            "grid_template_rows": null,
            "height": null,
            "justify_content": null,
            "justify_items": null,
            "left": null,
            "margin": null,
            "max_height": null,
            "max_width": null,
            "min_height": null,
            "min_width": null,
            "object_fit": null,
            "object_position": null,
            "order": null,
            "overflow": null,
            "overflow_x": null,
            "overflow_y": null,
            "padding": null,
            "right": null,
            "top": null,
            "visibility": null,
            "width": null
          }
        },
        "eb486eb0dc2f44eabcac46a18b711ff1": {
          "model_module": "@jupyter-widgets/base",
          "model_name": "LayoutModel",
          "model_module_version": "1.2.0",
          "state": {
            "_model_module": "@jupyter-widgets/base",
            "_model_module_version": "1.2.0",
            "_model_name": "LayoutModel",
            "_view_count": null,
            "_view_module": "@jupyter-widgets/base",
            "_view_module_version": "1.2.0",
            "_view_name": "LayoutView",
            "align_content": null,
            "align_items": null,
            "align_self": null,
            "border": null,
            "bottom": null,
            "display": null,
            "flex": null,
            "flex_flow": null,
            "grid_area": null,
            "grid_auto_columns": null,
            "grid_auto_flow": null,
            "grid_auto_rows": null,
            "grid_column": null,
            "grid_gap": null,
            "grid_row": null,
            "grid_template_areas": null,
            "grid_template_columns": null,
            "grid_template_rows": null,
            "height": null,
            "justify_content": null,
            "justify_items": null,
            "left": null,
            "margin": null,
            "max_height": null,
            "max_width": null,
            "min_height": null,
            "min_width": null,
            "object_fit": null,
            "object_position": null,
            "order": null,
            "overflow": null,
            "overflow_x": null,
            "overflow_y": null,
            "padding": null,
            "right": null,
            "top": null,
            "visibility": null,
            "width": null
          }
        },
        "3e45628539864cd2b1297c2be1d35c98": {
          "model_module": "@jupyter-widgets/controls",
          "model_name": "DescriptionStyleModel",
          "model_module_version": "1.5.0",
          "state": {
            "_model_module": "@jupyter-widgets/controls",
            "_model_module_version": "1.5.0",
            "_model_name": "DescriptionStyleModel",
            "_view_count": null,
            "_view_module": "@jupyter-widgets/base",
            "_view_module_version": "1.2.0",
            "_view_name": "StyleView",
            "description_width": ""
          }
        },
        "387d0ca6bf2c4341804cfa43a71b6451": {
          "model_module": "@jupyter-widgets/base",
          "model_name": "LayoutModel",
          "model_module_version": "1.2.0",
          "state": {
            "_model_module": "@jupyter-widgets/base",
            "_model_module_version": "1.2.0",
            "_model_name": "LayoutModel",
            "_view_count": null,
            "_view_module": "@jupyter-widgets/base",
            "_view_module_version": "1.2.0",
            "_view_name": "LayoutView",
            "align_content": null,
            "align_items": null,
            "align_self": null,
            "border": null,
            "bottom": null,
            "display": null,
            "flex": null,
            "flex_flow": null,
            "grid_area": null,
            "grid_auto_columns": null,
            "grid_auto_flow": null,
            "grid_auto_rows": null,
            "grid_column": null,
            "grid_gap": null,
            "grid_row": null,
            "grid_template_areas": null,
            "grid_template_columns": null,
            "grid_template_rows": null,
            "height": null,
            "justify_content": null,
            "justify_items": null,
            "left": null,
            "margin": null,
            "max_height": null,
            "max_width": null,
            "min_height": null,
            "min_width": null,
            "object_fit": null,
            "object_position": null,
            "order": null,
            "overflow": null,
            "overflow_x": null,
            "overflow_y": null,
            "padding": null,
            "right": null,
            "top": null,
            "visibility": null,
            "width": null
          }
        },
        "b1c406aebffa49f48c3457a9482a47a3": {
          "model_module": "@jupyter-widgets/controls",
          "model_name": "ProgressStyleModel",
          "model_module_version": "1.5.0",
          "state": {
            "_model_module": "@jupyter-widgets/controls",
            "_model_module_version": "1.5.0",
            "_model_name": "ProgressStyleModel",
            "_view_count": null,
            "_view_module": "@jupyter-widgets/base",
            "_view_module_version": "1.2.0",
            "_view_name": "StyleView",
            "bar_color": null,
            "description_width": ""
          }
        },
        "8e1f2102db184538a35ed9c8498d5bbc": {
          "model_module": "@jupyter-widgets/base",
          "model_name": "LayoutModel",
          "model_module_version": "1.2.0",
          "state": {
            "_model_module": "@jupyter-widgets/base",
            "_model_module_version": "1.2.0",
            "_model_name": "LayoutModel",
            "_view_count": null,
            "_view_module": "@jupyter-widgets/base",
            "_view_module_version": "1.2.0",
            "_view_name": "LayoutView",
            "align_content": null,
            "align_items": null,
            "align_self": null,
            "border": null,
            "bottom": null,
            "display": null,
            "flex": null,
            "flex_flow": null,
            "grid_area": null,
            "grid_auto_columns": null,
            "grid_auto_flow": null,
            "grid_auto_rows": null,
            "grid_column": null,
            "grid_gap": null,
            "grid_row": null,
            "grid_template_areas": null,
            "grid_template_columns": null,
            "grid_template_rows": null,
            "height": null,
            "justify_content": null,
            "justify_items": null,
            "left": null,
            "margin": null,
            "max_height": null,
            "max_width": null,
            "min_height": null,
            "min_width": null,
            "object_fit": null,
            "object_position": null,
            "order": null,
            "overflow": null,
            "overflow_x": null,
            "overflow_y": null,
            "padding": null,
            "right": null,
            "top": null,
            "visibility": null,
            "width": null
          }
        },
        "0cccb700fc264051abc0b7458716054f": {
          "model_module": "@jupyter-widgets/controls",
          "model_name": "DescriptionStyleModel",
          "model_module_version": "1.5.0",
          "state": {
            "_model_module": "@jupyter-widgets/controls",
            "_model_module_version": "1.5.0",
            "_model_name": "DescriptionStyleModel",
            "_view_count": null,
            "_view_module": "@jupyter-widgets/base",
            "_view_module_version": "1.2.0",
            "_view_name": "StyleView",
            "description_width": ""
          }
        },
        "1a259e1a45bc4043b81243d033b79752": {
          "model_module": "@jupyter-widgets/controls",
          "model_name": "HBoxModel",
          "model_module_version": "1.5.0",
          "state": {
            "_dom_classes": [],
            "_model_module": "@jupyter-widgets/controls",
            "_model_module_version": "1.5.0",
            "_model_name": "HBoxModel",
            "_view_count": null,
            "_view_module": "@jupyter-widgets/controls",
            "_view_module_version": "1.5.0",
            "_view_name": "HBoxView",
            "box_style": "",
            "children": [
              "IPY_MODEL_f0963a05a29d4e6f8a2ab48fc8a26a1d",
              "IPY_MODEL_0a8d7bc06ed646b78956101c5c62fb1f",
              "IPY_MODEL_ef339a504f984cc2ac07c8252aa2f6d5"
            ],
            "layout": "IPY_MODEL_3d3c2d54cdf44a06a99c35d0e1b33b0a"
          }
        },
        "f0963a05a29d4e6f8a2ab48fc8a26a1d": {
          "model_module": "@jupyter-widgets/controls",
          "model_name": "HTMLModel",
          "model_module_version": "1.5.0",
          "state": {
            "_dom_classes": [],
            "_model_module": "@jupyter-widgets/controls",
            "_model_module_version": "1.5.0",
            "_model_name": "HTMLModel",
            "_view_count": null,
            "_view_module": "@jupyter-widgets/controls",
            "_view_module_version": "1.5.0",
            "_view_name": "HTMLView",
            "description": "",
            "description_tooltip": null,
            "layout": "IPY_MODEL_7e96275c58434a04a49e56598b12656a",
            "placeholder": "​",
            "style": "IPY_MODEL_b2653a474569425ebb546f93241a465e",
            "value": "Downloading (…)olve/main/merges.txt: 100%"
          }
        },
        "0a8d7bc06ed646b78956101c5c62fb1f": {
          "model_module": "@jupyter-widgets/controls",
          "model_name": "FloatProgressModel",
          "model_module_version": "1.5.0",
          "state": {
            "_dom_classes": [],
            "_model_module": "@jupyter-widgets/controls",
            "_model_module_version": "1.5.0",
            "_model_name": "FloatProgressModel",
            "_view_count": null,
            "_view_module": "@jupyter-widgets/controls",
            "_view_module_version": "1.5.0",
            "_view_name": "ProgressView",
            "bar_style": "success",
            "description": "",
            "description_tooltip": null,
            "layout": "IPY_MODEL_112ef61e952444369d6c0dce1d1098a8",
            "max": 456318,
            "min": 0,
            "orientation": "horizontal",
            "style": "IPY_MODEL_afe741aff3f54ae6a89b5965888599f4",
            "value": 456318
          }
        },
        "ef339a504f984cc2ac07c8252aa2f6d5": {
          "model_module": "@jupyter-widgets/controls",
          "model_name": "HTMLModel",
          "model_module_version": "1.5.0",
          "state": {
            "_dom_classes": [],
            "_model_module": "@jupyter-widgets/controls",
            "_model_module_version": "1.5.0",
            "_model_name": "HTMLModel",
            "_view_count": null,
            "_view_module": "@jupyter-widgets/controls",
            "_view_module_version": "1.5.0",
            "_view_name": "HTMLView",
            "description": "",
            "description_tooltip": null,
            "layout": "IPY_MODEL_a8bae11fb1aa40348e611a1592e0ff0a",
            "placeholder": "​",
            "style": "IPY_MODEL_9bf6e3e259cd4bc0bd4c714c725d0782",
            "value": " 456k/456k [00:00&lt;00:00, 1.84MB/s]"
          }
        },
        "3d3c2d54cdf44a06a99c35d0e1b33b0a": {
          "model_module": "@jupyter-widgets/base",
          "model_name": "LayoutModel",
          "model_module_version": "1.2.0",
          "state": {
            "_model_module": "@jupyter-widgets/base",
            "_model_module_version": "1.2.0",
            "_model_name": "LayoutModel",
            "_view_count": null,
            "_view_module": "@jupyter-widgets/base",
            "_view_module_version": "1.2.0",
            "_view_name": "LayoutView",
            "align_content": null,
            "align_items": null,
            "align_self": null,
            "border": null,
            "bottom": null,
            "display": null,
            "flex": null,
            "flex_flow": null,
            "grid_area": null,
            "grid_auto_columns": null,
            "grid_auto_flow": null,
            "grid_auto_rows": null,
            "grid_column": null,
            "grid_gap": null,
            "grid_row": null,
            "grid_template_areas": null,
            "grid_template_columns": null,
            "grid_template_rows": null,
            "height": null,
            "justify_content": null,
            "justify_items": null,
            "left": null,
            "margin": null,
            "max_height": null,
            "max_width": null,
            "min_height": null,
            "min_width": null,
            "object_fit": null,
            "object_position": null,
            "order": null,
            "overflow": null,
            "overflow_x": null,
            "overflow_y": null,
            "padding": null,
            "right": null,
            "top": null,
            "visibility": null,
            "width": null
          }
        },
        "7e96275c58434a04a49e56598b12656a": {
          "model_module": "@jupyter-widgets/base",
          "model_name": "LayoutModel",
          "model_module_version": "1.2.0",
          "state": {
            "_model_module": "@jupyter-widgets/base",
            "_model_module_version": "1.2.0",
            "_model_name": "LayoutModel",
            "_view_count": null,
            "_view_module": "@jupyter-widgets/base",
            "_view_module_version": "1.2.0",
            "_view_name": "LayoutView",
            "align_content": null,
            "align_items": null,
            "align_self": null,
            "border": null,
            "bottom": null,
            "display": null,
            "flex": null,
            "flex_flow": null,
            "grid_area": null,
            "grid_auto_columns": null,
            "grid_auto_flow": null,
            "grid_auto_rows": null,
            "grid_column": null,
            "grid_gap": null,
            "grid_row": null,
            "grid_template_areas": null,
            "grid_template_columns": null,
            "grid_template_rows": null,
            "height": null,
            "justify_content": null,
            "justify_items": null,
            "left": null,
            "margin": null,
            "max_height": null,
            "max_width": null,
            "min_height": null,
            "min_width": null,
            "object_fit": null,
            "object_position": null,
            "order": null,
            "overflow": null,
            "overflow_x": null,
            "overflow_y": null,
            "padding": null,
            "right": null,
            "top": null,
            "visibility": null,
            "width": null
          }
        },
        "b2653a474569425ebb546f93241a465e": {
          "model_module": "@jupyter-widgets/controls",
          "model_name": "DescriptionStyleModel",
          "model_module_version": "1.5.0",
          "state": {
            "_model_module": "@jupyter-widgets/controls",
            "_model_module_version": "1.5.0",
            "_model_name": "DescriptionStyleModel",
            "_view_count": null,
            "_view_module": "@jupyter-widgets/base",
            "_view_module_version": "1.2.0",
            "_view_name": "StyleView",
            "description_width": ""
          }
        },
        "112ef61e952444369d6c0dce1d1098a8": {
          "model_module": "@jupyter-widgets/base",
          "model_name": "LayoutModel",
          "model_module_version": "1.2.0",
          "state": {
            "_model_module": "@jupyter-widgets/base",
            "_model_module_version": "1.2.0",
            "_model_name": "LayoutModel",
            "_view_count": null,
            "_view_module": "@jupyter-widgets/base",
            "_view_module_version": "1.2.0",
            "_view_name": "LayoutView",
            "align_content": null,
            "align_items": null,
            "align_self": null,
            "border": null,
            "bottom": null,
            "display": null,
            "flex": null,
            "flex_flow": null,
            "grid_area": null,
            "grid_auto_columns": null,
            "grid_auto_flow": null,
            "grid_auto_rows": null,
            "grid_column": null,
            "grid_gap": null,
            "grid_row": null,
            "grid_template_areas": null,
            "grid_template_columns": null,
            "grid_template_rows": null,
            "height": null,
            "justify_content": null,
            "justify_items": null,
            "left": null,
            "margin": null,
            "max_height": null,
            "max_width": null,
            "min_height": null,
            "min_width": null,
            "object_fit": null,
            "object_position": null,
            "order": null,
            "overflow": null,
            "overflow_x": null,
            "overflow_y": null,
            "padding": null,
            "right": null,
            "top": null,
            "visibility": null,
            "width": null
          }
        },
        "afe741aff3f54ae6a89b5965888599f4": {
          "model_module": "@jupyter-widgets/controls",
          "model_name": "ProgressStyleModel",
          "model_module_version": "1.5.0",
          "state": {
            "_model_module": "@jupyter-widgets/controls",
            "_model_module_version": "1.5.0",
            "_model_name": "ProgressStyleModel",
            "_view_count": null,
            "_view_module": "@jupyter-widgets/base",
            "_view_module_version": "1.2.0",
            "_view_name": "StyleView",
            "bar_color": null,
            "description_width": ""
          }
        },
        "a8bae11fb1aa40348e611a1592e0ff0a": {
          "model_module": "@jupyter-widgets/base",
          "model_name": "LayoutModel",
          "model_module_version": "1.2.0",
          "state": {
            "_model_module": "@jupyter-widgets/base",
            "_model_module_version": "1.2.0",
            "_model_name": "LayoutModel",
            "_view_count": null,
            "_view_module": "@jupyter-widgets/base",
            "_view_module_version": "1.2.0",
            "_view_name": "LayoutView",
            "align_content": null,
            "align_items": null,
            "align_self": null,
            "border": null,
            "bottom": null,
            "display": null,
            "flex": null,
            "flex_flow": null,
            "grid_area": null,
            "grid_auto_columns": null,
            "grid_auto_flow": null,
            "grid_auto_rows": null,
            "grid_column": null,
            "grid_gap": null,
            "grid_row": null,
            "grid_template_areas": null,
            "grid_template_columns": null,
            "grid_template_rows": null,
            "height": null,
            "justify_content": null,
            "justify_items": null,
            "left": null,
            "margin": null,
            "max_height": null,
            "max_width": null,
            "min_height": null,
            "min_width": null,
            "object_fit": null,
            "object_position": null,
            "order": null,
            "overflow": null,
            "overflow_x": null,
            "overflow_y": null,
            "padding": null,
            "right": null,
            "top": null,
            "visibility": null,
            "width": null
          }
        },
        "9bf6e3e259cd4bc0bd4c714c725d0782": {
          "model_module": "@jupyter-widgets/controls",
          "model_name": "DescriptionStyleModel",
          "model_module_version": "1.5.0",
          "state": {
            "_model_module": "@jupyter-widgets/controls",
            "_model_module_version": "1.5.0",
            "_model_name": "DescriptionStyleModel",
            "_view_count": null,
            "_view_module": "@jupyter-widgets/base",
            "_view_module_version": "1.2.0",
            "_view_name": "StyleView",
            "description_width": ""
          }
        },
        "0cd2bf060b4c4daeaf9156705ae409ab": {
          "model_module": "@jupyter-widgets/controls",
          "model_name": "HBoxModel",
          "model_module_version": "1.5.0",
          "state": {
            "_dom_classes": [],
            "_model_module": "@jupyter-widgets/controls",
            "_model_module_version": "1.5.0",
            "_model_name": "HBoxModel",
            "_view_count": null,
            "_view_module": "@jupyter-widgets/controls",
            "_view_module_version": "1.5.0",
            "_view_name": "HBoxView",
            "box_style": "",
            "children": [
              "IPY_MODEL_3c4ce2ec8ae54042864d1d0261355166",
              "IPY_MODEL_2e27352e29354001b53bc4d07bd4c1ed",
              "IPY_MODEL_709f853d0ae846e7945c74ff83cae52e"
            ],
            "layout": "IPY_MODEL_54a3bafa2af54475abe57e37e2399a45"
          }
        },
        "3c4ce2ec8ae54042864d1d0261355166": {
          "model_module": "@jupyter-widgets/controls",
          "model_name": "HTMLModel",
          "model_module_version": "1.5.0",
          "state": {
            "_dom_classes": [],
            "_model_module": "@jupyter-widgets/controls",
            "_model_module_version": "1.5.0",
            "_model_name": "HTMLModel",
            "_view_count": null,
            "_view_module": "@jupyter-widgets/controls",
            "_view_module_version": "1.5.0",
            "_view_name": "HTMLView",
            "description": "",
            "description_tooltip": null,
            "layout": "IPY_MODEL_94343417f60a4f9d9a745dfa2c967893",
            "placeholder": "​",
            "style": "IPY_MODEL_f6331afe201d49319b76e528e01a9b4b",
            "value": "Downloading (…)/main/tokenizer.json: 100%"
          }
        },
        "2e27352e29354001b53bc4d07bd4c1ed": {
          "model_module": "@jupyter-widgets/controls",
          "model_name": "FloatProgressModel",
          "model_module_version": "1.5.0",
          "state": {
            "_dom_classes": [],
            "_model_module": "@jupyter-widgets/controls",
            "_model_module_version": "1.5.0",
            "_model_name": "FloatProgressModel",
            "_view_count": null,
            "_view_module": "@jupyter-widgets/controls",
            "_view_module_version": "1.5.0",
            "_view_name": "ProgressView",
            "bar_style": "success",
            "description": "",
            "description_tooltip": null,
            "layout": "IPY_MODEL_792a299872704c10af8061175db96031",
            "max": 1355256,
            "min": 0,
            "orientation": "horizontal",
            "style": "IPY_MODEL_2d7895836c814084be531103d0218650",
            "value": 1355256
          }
        },
        "709f853d0ae846e7945c74ff83cae52e": {
          "model_module": "@jupyter-widgets/controls",
          "model_name": "HTMLModel",
          "model_module_version": "1.5.0",
          "state": {
            "_dom_classes": [],
            "_model_module": "@jupyter-widgets/controls",
            "_model_module_version": "1.5.0",
            "_model_name": "HTMLModel",
            "_view_count": null,
            "_view_module": "@jupyter-widgets/controls",
            "_view_module_version": "1.5.0",
            "_view_name": "HTMLView",
            "description": "",
            "description_tooltip": null,
            "layout": "IPY_MODEL_10420e2dba3244f48c8fcd7d35904e41",
            "placeholder": "​",
            "style": "IPY_MODEL_d7b1b50d3f6843be90e00d3352139b2f",
            "value": " 1.36M/1.36M [00:00&lt;00:00, 3.65MB/s]"
          }
        },
        "54a3bafa2af54475abe57e37e2399a45": {
          "model_module": "@jupyter-widgets/base",
          "model_name": "LayoutModel",
          "model_module_version": "1.2.0",
          "state": {
            "_model_module": "@jupyter-widgets/base",
            "_model_module_version": "1.2.0",
            "_model_name": "LayoutModel",
            "_view_count": null,
            "_view_module": "@jupyter-widgets/base",
            "_view_module_version": "1.2.0",
            "_view_name": "LayoutView",
            "align_content": null,
            "align_items": null,
            "align_self": null,
            "border": null,
            "bottom": null,
            "display": null,
            "flex": null,
            "flex_flow": null,
            "grid_area": null,
            "grid_auto_columns": null,
            "grid_auto_flow": null,
            "grid_auto_rows": null,
            "grid_column": null,
            "grid_gap": null,
            "grid_row": null,
            "grid_template_areas": null,
            "grid_template_columns": null,
            "grid_template_rows": null,
            "height": null,
            "justify_content": null,
            "justify_items": null,
            "left": null,
            "margin": null,
            "max_height": null,
            "max_width": null,
            "min_height": null,
            "min_width": null,
            "object_fit": null,
            "object_position": null,
            "order": null,
            "overflow": null,
            "overflow_x": null,
            "overflow_y": null,
            "padding": null,
            "right": null,
            "top": null,
            "visibility": null,
            "width": null
          }
        },
        "94343417f60a4f9d9a745dfa2c967893": {
          "model_module": "@jupyter-widgets/base",
          "model_name": "LayoutModel",
          "model_module_version": "1.2.0",
          "state": {
            "_model_module": "@jupyter-widgets/base",
            "_model_module_version": "1.2.0",
            "_model_name": "LayoutModel",
            "_view_count": null,
            "_view_module": "@jupyter-widgets/base",
            "_view_module_version": "1.2.0",
            "_view_name": "LayoutView",
            "align_content": null,
            "align_items": null,
            "align_self": null,
            "border": null,
            "bottom": null,
            "display": null,
            "flex": null,
            "flex_flow": null,
            "grid_area": null,
            "grid_auto_columns": null,
            "grid_auto_flow": null,
            "grid_auto_rows": null,
            "grid_column": null,
            "grid_gap": null,
            "grid_row": null,
            "grid_template_areas": null,
            "grid_template_columns": null,
            "grid_template_rows": null,
            "height": null,
            "justify_content": null,
            "justify_items": null,
            "left": null,
            "margin": null,
            "max_height": null,
            "max_width": null,
            "min_height": null,
            "min_width": null,
            "object_fit": null,
            "object_position": null,
            "order": null,
            "overflow": null,
            "overflow_x": null,
            "overflow_y": null,
            "padding": null,
            "right": null,
            "top": null,
            "visibility": null,
            "width": null
          }
        },
        "f6331afe201d49319b76e528e01a9b4b": {
          "model_module": "@jupyter-widgets/controls",
          "model_name": "DescriptionStyleModel",
          "model_module_version": "1.5.0",
          "state": {
            "_model_module": "@jupyter-widgets/controls",
            "_model_module_version": "1.5.0",
            "_model_name": "DescriptionStyleModel",
            "_view_count": null,
            "_view_module": "@jupyter-widgets/base",
            "_view_module_version": "1.2.0",
            "_view_name": "StyleView",
            "description_width": ""
          }
        },
        "792a299872704c10af8061175db96031": {
          "model_module": "@jupyter-widgets/base",
          "model_name": "LayoutModel",
          "model_module_version": "1.2.0",
          "state": {
            "_model_module": "@jupyter-widgets/base",
            "_model_module_version": "1.2.0",
            "_model_name": "LayoutModel",
            "_view_count": null,
            "_view_module": "@jupyter-widgets/base",
            "_view_module_version": "1.2.0",
            "_view_name": "LayoutView",
            "align_content": null,
            "align_items": null,
            "align_self": null,
            "border": null,
            "bottom": null,
            "display": null,
            "flex": null,
            "flex_flow": null,
            "grid_area": null,
            "grid_auto_columns": null,
            "grid_auto_flow": null,
            "grid_auto_rows": null,
            "grid_column": null,
            "grid_gap": null,
            "grid_row": null,
            "grid_template_areas": null,
            "grid_template_columns": null,
            "grid_template_rows": null,
            "height": null,
            "justify_content": null,
            "justify_items": null,
            "left": null,
            "margin": null,
            "max_height": null,
            "max_width": null,
            "min_height": null,
            "min_width": null,
            "object_fit": null,
            "object_position": null,
            "order": null,
            "overflow": null,
            "overflow_x": null,
            "overflow_y": null,
            "padding": null,
            "right": null,
            "top": null,
            "visibility": null,
            "width": null
          }
        },
        "2d7895836c814084be531103d0218650": {
          "model_module": "@jupyter-widgets/controls",
          "model_name": "ProgressStyleModel",
          "model_module_version": "1.5.0",
          "state": {
            "_model_module": "@jupyter-widgets/controls",
            "_model_module_version": "1.5.0",
            "_model_name": "ProgressStyleModel",
            "_view_count": null,
            "_view_module": "@jupyter-widgets/base",
            "_view_module_version": "1.2.0",
            "_view_name": "StyleView",
            "bar_color": null,
            "description_width": ""
          }
        },
        "10420e2dba3244f48c8fcd7d35904e41": {
          "model_module": "@jupyter-widgets/base",
          "model_name": "LayoutModel",
          "model_module_version": "1.2.0",
          "state": {
            "_model_module": "@jupyter-widgets/base",
            "_model_module_version": "1.2.0",
            "_model_name": "LayoutModel",
            "_view_count": null,
            "_view_module": "@jupyter-widgets/base",
            "_view_module_version": "1.2.0",
            "_view_name": "LayoutView",
            "align_content": null,
            "align_items": null,
            "align_self": null,
            "border": null,
            "bottom": null,
            "display": null,
            "flex": null,
            "flex_flow": null,
            "grid_area": null,
            "grid_auto_columns": null,
            "grid_auto_flow": null,
            "grid_auto_rows": null,
            "grid_column": null,
            "grid_gap": null,
            "grid_row": null,
            "grid_template_areas": null,
            "grid_template_columns": null,
            "grid_template_rows": null,
            "height": null,
            "justify_content": null,
            "justify_items": null,
            "left": null,
            "margin": null,
            "max_height": null,
            "max_width": null,
            "min_height": null,
            "min_width": null,
            "object_fit": null,
            "object_position": null,
            "order": null,
            "overflow": null,
            "overflow_x": null,
            "overflow_y": null,
            "padding": null,
            "right": null,
            "top": null,
            "visibility": null,
            "width": null
          }
        },
        "d7b1b50d3f6843be90e00d3352139b2f": {
          "model_module": "@jupyter-widgets/controls",
          "model_name": "DescriptionStyleModel",
          "model_module_version": "1.5.0",
          "state": {
            "_model_module": "@jupyter-widgets/controls",
            "_model_module_version": "1.5.0",
            "_model_name": "DescriptionStyleModel",
            "_view_count": null,
            "_view_module": "@jupyter-widgets/base",
            "_view_module_version": "1.2.0",
            "_view_name": "StyleView",
            "description_width": ""
          }
        },
        "bbdfb7b736f546fea9f2a56a815a8e8f": {
          "model_module": "@jupyter-widgets/controls",
          "model_name": "HBoxModel",
          "model_module_version": "1.5.0",
          "state": {
            "_dom_classes": [],
            "_model_module": "@jupyter-widgets/controls",
            "_model_module_version": "1.5.0",
            "_model_name": "HBoxModel",
            "_view_count": null,
            "_view_module": "@jupyter-widgets/controls",
            "_view_module_version": "1.5.0",
            "_view_name": "HBoxView",
            "box_style": "",
            "children": [
              "IPY_MODEL_0dc1dea99b774b74a84c9c02b6335b94",
              "IPY_MODEL_5edb09d55e7b45c881bbf6a38de92f60",
              "IPY_MODEL_7bd8740ee12a486fbb3d3ae0a2c493b8"
            ],
            "layout": "IPY_MODEL_fa9eff66d6084f0a970408b620afa686"
          }
        },
        "0dc1dea99b774b74a84c9c02b6335b94": {
          "model_module": "@jupyter-widgets/controls",
          "model_name": "HTMLModel",
          "model_module_version": "1.5.0",
          "state": {
            "_dom_classes": [],
            "_model_module": "@jupyter-widgets/controls",
            "_model_module_version": "1.5.0",
            "_model_name": "HTMLModel",
            "_view_count": null,
            "_view_module": "@jupyter-widgets/controls",
            "_view_module_version": "1.5.0",
            "_view_name": "HTMLView",
            "description": "",
            "description_tooltip": null,
            "layout": "IPY_MODEL_3b4a5130401a44daa116828b9fa8d17b",
            "placeholder": "​",
            "style": "IPY_MODEL_21efd9c072db42bf89ad5dbd96b52a01",
            "value": "Downloading (…)lve/main/config.json: 100%"
          }
        },
        "5edb09d55e7b45c881bbf6a38de92f60": {
          "model_module": "@jupyter-widgets/controls",
          "model_name": "FloatProgressModel",
          "model_module_version": "1.5.0",
          "state": {
            "_dom_classes": [],
            "_model_module": "@jupyter-widgets/controls",
            "_model_module_version": "1.5.0",
            "_model_name": "FloatProgressModel",
            "_view_count": null,
            "_view_module": "@jupyter-widgets/controls",
            "_view_module_version": "1.5.0",
            "_view_name": "ProgressView",
            "bar_style": "success",
            "description": "",
            "description_tooltip": null,
            "layout": "IPY_MODEL_d75f60b7f0b94b3d88046ac990446ad4",
            "max": 665,
            "min": 0,
            "orientation": "horizontal",
            "style": "IPY_MODEL_609d29b907424f049de6ef0b86a6541d",
            "value": 665
          }
        },
        "7bd8740ee12a486fbb3d3ae0a2c493b8": {
          "model_module": "@jupyter-widgets/controls",
          "model_name": "HTMLModel",
          "model_module_version": "1.5.0",
          "state": {
            "_dom_classes": [],
            "_model_module": "@jupyter-widgets/controls",
            "_model_module_version": "1.5.0",
            "_model_name": "HTMLModel",
            "_view_count": null,
            "_view_module": "@jupyter-widgets/controls",
            "_view_module_version": "1.5.0",
            "_view_name": "HTMLView",
            "description": "",
            "description_tooltip": null,
            "layout": "IPY_MODEL_6dc9a8ca9270413893e28e3a3807dd51",
            "placeholder": "​",
            "style": "IPY_MODEL_4539f47e9e4c444e9f610dea60db5eb0",
            "value": " 665/665 [00:00&lt;00:00, 18.8kB/s]"
          }
        },
        "fa9eff66d6084f0a970408b620afa686": {
          "model_module": "@jupyter-widgets/base",
          "model_name": "LayoutModel",
          "model_module_version": "1.2.0",
          "state": {
            "_model_module": "@jupyter-widgets/base",
            "_model_module_version": "1.2.0",
            "_model_name": "LayoutModel",
            "_view_count": null,
            "_view_module": "@jupyter-widgets/base",
            "_view_module_version": "1.2.0",
            "_view_name": "LayoutView",
            "align_content": null,
            "align_items": null,
            "align_self": null,
            "border": null,
            "bottom": null,
            "display": null,
            "flex": null,
            "flex_flow": null,
            "grid_area": null,
            "grid_auto_columns": null,
            "grid_auto_flow": null,
            "grid_auto_rows": null,
            "grid_column": null,
            "grid_gap": null,
            "grid_row": null,
            "grid_template_areas": null,
            "grid_template_columns": null,
            "grid_template_rows": null,
            "height": null,
            "justify_content": null,
            "justify_items": null,
            "left": null,
            "margin": null,
            "max_height": null,
            "max_width": null,
            "min_height": null,
            "min_width": null,
            "object_fit": null,
            "object_position": null,
            "order": null,
            "overflow": null,
            "overflow_x": null,
            "overflow_y": null,
            "padding": null,
            "right": null,
            "top": null,
            "visibility": null,
            "width": null
          }
        },
        "3b4a5130401a44daa116828b9fa8d17b": {
          "model_module": "@jupyter-widgets/base",
          "model_name": "LayoutModel",
          "model_module_version": "1.2.0",
          "state": {
            "_model_module": "@jupyter-widgets/base",
            "_model_module_version": "1.2.0",
            "_model_name": "LayoutModel",
            "_view_count": null,
            "_view_module": "@jupyter-widgets/base",
            "_view_module_version": "1.2.0",
            "_view_name": "LayoutView",
            "align_content": null,
            "align_items": null,
            "align_self": null,
            "border": null,
            "bottom": null,
            "display": null,
            "flex": null,
            "flex_flow": null,
            "grid_area": null,
            "grid_auto_columns": null,
            "grid_auto_flow": null,
            "grid_auto_rows": null,
            "grid_column": null,
            "grid_gap": null,
            "grid_row": null,
            "grid_template_areas": null,
            "grid_template_columns": null,
            "grid_template_rows": null,
            "height": null,
            "justify_content": null,
            "justify_items": null,
            "left": null,
            "margin": null,
            "max_height": null,
            "max_width": null,
            "min_height": null,
            "min_width": null,
            "object_fit": null,
            "object_position": null,
            "order": null,
            "overflow": null,
            "overflow_x": null,
            "overflow_y": null,
            "padding": null,
            "right": null,
            "top": null,
            "visibility": null,
            "width": null
          }
        },
        "21efd9c072db42bf89ad5dbd96b52a01": {
          "model_module": "@jupyter-widgets/controls",
          "model_name": "DescriptionStyleModel",
          "model_module_version": "1.5.0",
          "state": {
            "_model_module": "@jupyter-widgets/controls",
            "_model_module_version": "1.5.0",
            "_model_name": "DescriptionStyleModel",
            "_view_count": null,
            "_view_module": "@jupyter-widgets/base",
            "_view_module_version": "1.2.0",
            "_view_name": "StyleView",
            "description_width": ""
          }
        },
        "d75f60b7f0b94b3d88046ac990446ad4": {
          "model_module": "@jupyter-widgets/base",
          "model_name": "LayoutModel",
          "model_module_version": "1.2.0",
          "state": {
            "_model_module": "@jupyter-widgets/base",
            "_model_module_version": "1.2.0",
            "_model_name": "LayoutModel",
            "_view_count": null,
            "_view_module": "@jupyter-widgets/base",
            "_view_module_version": "1.2.0",
            "_view_name": "LayoutView",
            "align_content": null,
            "align_items": null,
            "align_self": null,
            "border": null,
            "bottom": null,
            "display": null,
            "flex": null,
            "flex_flow": null,
            "grid_area": null,
            "grid_auto_columns": null,
            "grid_auto_flow": null,
            "grid_auto_rows": null,
            "grid_column": null,
            "grid_gap": null,
            "grid_row": null,
            "grid_template_areas": null,
            "grid_template_columns": null,
            "grid_template_rows": null,
            "height": null,
            "justify_content": null,
            "justify_items": null,
            "left": null,
            "margin": null,
            "max_height": null,
            "max_width": null,
            "min_height": null,
            "min_width": null,
            "object_fit": null,
            "object_position": null,
            "order": null,
            "overflow": null,
            "overflow_x": null,
            "overflow_y": null,
            "padding": null,
            "right": null,
            "top": null,
            "visibility": null,
            "width": null
          }
        },
        "609d29b907424f049de6ef0b86a6541d": {
          "model_module": "@jupyter-widgets/controls",
          "model_name": "ProgressStyleModel",
          "model_module_version": "1.5.0",
          "state": {
            "_model_module": "@jupyter-widgets/controls",
            "_model_module_version": "1.5.0",
            "_model_name": "ProgressStyleModel",
            "_view_count": null,
            "_view_module": "@jupyter-widgets/base",
            "_view_module_version": "1.2.0",
            "_view_name": "StyleView",
            "bar_color": null,
            "description_width": ""
          }
        },
        "6dc9a8ca9270413893e28e3a3807dd51": {
          "model_module": "@jupyter-widgets/base",
          "model_name": "LayoutModel",
          "model_module_version": "1.2.0",
          "state": {
            "_model_module": "@jupyter-widgets/base",
            "_model_module_version": "1.2.0",
            "_model_name": "LayoutModel",
            "_view_count": null,
            "_view_module": "@jupyter-widgets/base",
            "_view_module_version": "1.2.0",
            "_view_name": "LayoutView",
            "align_content": null,
            "align_items": null,
            "align_self": null,
            "border": null,
            "bottom": null,
            "display": null,
            "flex": null,
            "flex_flow": null,
            "grid_area": null,
            "grid_auto_columns": null,
            "grid_auto_flow": null,
            "grid_auto_rows": null,
            "grid_column": null,
            "grid_gap": null,
            "grid_row": null,
            "grid_template_areas": null,
            "grid_template_columns": null,
            "grid_template_rows": null,
            "height": null,
            "justify_content": null,
            "justify_items": null,
            "left": null,
            "margin": null,
            "max_height": null,
            "max_width": null,
            "min_height": null,
            "min_width": null,
            "object_fit": null,
            "object_position": null,
            "order": null,
            "overflow": null,
            "overflow_x": null,
            "overflow_y": null,
            "padding": null,
            "right": null,
            "top": null,
            "visibility": null,
            "width": null
          }
        },
        "4539f47e9e4c444e9f610dea60db5eb0": {
          "model_module": "@jupyter-widgets/controls",
          "model_name": "DescriptionStyleModel",
          "model_module_version": "1.5.0",
          "state": {
            "_model_module": "@jupyter-widgets/controls",
            "_model_module_version": "1.5.0",
            "_model_name": "DescriptionStyleModel",
            "_view_count": null,
            "_view_module": "@jupyter-widgets/base",
            "_view_module_version": "1.2.0",
            "_view_name": "StyleView",
            "description_width": ""
          }
        }
      }
    }
  },
  "nbformat": 4,
  "nbformat_minor": 5
}